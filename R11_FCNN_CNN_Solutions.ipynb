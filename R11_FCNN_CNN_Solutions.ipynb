{
  "nbformat": 4,
  "nbformat_minor": 0,
  "metadata": {
    "colab": {
      "provenance": [],
      "toc_visible": true,
      "include_colab_link": true
    },
    "kernelspec": {
      "name": "python3",
      "display_name": "Python 3"
    },
    "language_info": {
      "name": "python"
    },
    "accelerator": "GPU",
    "widgets": {
      "application/vnd.jupyter.widget-state+json": {
        "d70dbad8d6a64c5e945d1a2dcbec6ac3": {
          "model_module": "@jupyter-widgets/controls",
          "model_name": "HBoxModel",
          "model_module_version": "1.5.0",
          "state": {
            "_dom_classes": [],
            "_model_module": "@jupyter-widgets/controls",
            "_model_module_version": "1.5.0",
            "_model_name": "HBoxModel",
            "_view_count": null,
            "_view_module": "@jupyter-widgets/controls",
            "_view_module_version": "1.5.0",
            "_view_name": "HBoxView",
            "box_style": "",
            "children": [
              "IPY_MODEL_08e9ef2fd6bd40798c8de1de3b6f8888",
              "IPY_MODEL_7eb8b74a3a834a4aa105d3e676d659b8",
              "IPY_MODEL_b492cdace0924014a7baac31b5a91886"
            ],
            "layout": "IPY_MODEL_2327eb5f3d6b4b3687ec82625c60a59c"
          }
        },
        "08e9ef2fd6bd40798c8de1de3b6f8888": {
          "model_module": "@jupyter-widgets/controls",
          "model_name": "HTMLModel",
          "model_module_version": "1.5.0",
          "state": {
            "_dom_classes": [],
            "_model_module": "@jupyter-widgets/controls",
            "_model_module_version": "1.5.0",
            "_model_name": "HTMLModel",
            "_view_count": null,
            "_view_module": "@jupyter-widgets/controls",
            "_view_module_version": "1.5.0",
            "_view_name": "HTMLView",
            "description": "",
            "description_tooltip": null,
            "layout": "IPY_MODEL_d1d765156a3f4601aaa1af44528d2181",
            "placeholder": "​",
            "style": "IPY_MODEL_98c93e688fce4bf6bbb1cdf3d140ca3f",
            "value": "100%"
          }
        },
        "7eb8b74a3a834a4aa105d3e676d659b8": {
          "model_module": "@jupyter-widgets/controls",
          "model_name": "FloatProgressModel",
          "model_module_version": "1.5.0",
          "state": {
            "_dom_classes": [],
            "_model_module": "@jupyter-widgets/controls",
            "_model_module_version": "1.5.0",
            "_model_name": "FloatProgressModel",
            "_view_count": null,
            "_view_module": "@jupyter-widgets/controls",
            "_view_module_version": "1.5.0",
            "_view_name": "ProgressView",
            "bar_style": "success",
            "description": "",
            "description_tooltip": null,
            "layout": "IPY_MODEL_dc97fda8c3b94262a1aa14775b4c5c29",
            "max": 9912422,
            "min": 0,
            "orientation": "horizontal",
            "style": "IPY_MODEL_6bbe23eb661d4fad97c071c862089cc1",
            "value": 9912422
          }
        },
        "b492cdace0924014a7baac31b5a91886": {
          "model_module": "@jupyter-widgets/controls",
          "model_name": "HTMLModel",
          "model_module_version": "1.5.0",
          "state": {
            "_dom_classes": [],
            "_model_module": "@jupyter-widgets/controls",
            "_model_module_version": "1.5.0",
            "_model_name": "HTMLModel",
            "_view_count": null,
            "_view_module": "@jupyter-widgets/controls",
            "_view_module_version": "1.5.0",
            "_view_name": "HTMLView",
            "description": "",
            "description_tooltip": null,
            "layout": "IPY_MODEL_236abc9c058d446687d0fcc98ed7d873",
            "placeholder": "​",
            "style": "IPY_MODEL_95bf98050f5240b0be63067e32efd127",
            "value": " 9912422/9912422 [00:00&lt;00:00, 106236645.57it/s]"
          }
        },
        "2327eb5f3d6b4b3687ec82625c60a59c": {
          "model_module": "@jupyter-widgets/base",
          "model_name": "LayoutModel",
          "model_module_version": "1.2.0",
          "state": {
            "_model_module": "@jupyter-widgets/base",
            "_model_module_version": "1.2.0",
            "_model_name": "LayoutModel",
            "_view_count": null,
            "_view_module": "@jupyter-widgets/base",
            "_view_module_version": "1.2.0",
            "_view_name": "LayoutView",
            "align_content": null,
            "align_items": null,
            "align_self": null,
            "border": null,
            "bottom": null,
            "display": null,
            "flex": null,
            "flex_flow": null,
            "grid_area": null,
            "grid_auto_columns": null,
            "grid_auto_flow": null,
            "grid_auto_rows": null,
            "grid_column": null,
            "grid_gap": null,
            "grid_row": null,
            "grid_template_areas": null,
            "grid_template_columns": null,
            "grid_template_rows": null,
            "height": null,
            "justify_content": null,
            "justify_items": null,
            "left": null,
            "margin": null,
            "max_height": null,
            "max_width": null,
            "min_height": null,
            "min_width": null,
            "object_fit": null,
            "object_position": null,
            "order": null,
            "overflow": null,
            "overflow_x": null,
            "overflow_y": null,
            "padding": null,
            "right": null,
            "top": null,
            "visibility": null,
            "width": null
          }
        },
        "d1d765156a3f4601aaa1af44528d2181": {
          "model_module": "@jupyter-widgets/base",
          "model_name": "LayoutModel",
          "model_module_version": "1.2.0",
          "state": {
            "_model_module": "@jupyter-widgets/base",
            "_model_module_version": "1.2.0",
            "_model_name": "LayoutModel",
            "_view_count": null,
            "_view_module": "@jupyter-widgets/base",
            "_view_module_version": "1.2.0",
            "_view_name": "LayoutView",
            "align_content": null,
            "align_items": null,
            "align_self": null,
            "border": null,
            "bottom": null,
            "display": null,
            "flex": null,
            "flex_flow": null,
            "grid_area": null,
            "grid_auto_columns": null,
            "grid_auto_flow": null,
            "grid_auto_rows": null,
            "grid_column": null,
            "grid_gap": null,
            "grid_row": null,
            "grid_template_areas": null,
            "grid_template_columns": null,
            "grid_template_rows": null,
            "height": null,
            "justify_content": null,
            "justify_items": null,
            "left": null,
            "margin": null,
            "max_height": null,
            "max_width": null,
            "min_height": null,
            "min_width": null,
            "object_fit": null,
            "object_position": null,
            "order": null,
            "overflow": null,
            "overflow_x": null,
            "overflow_y": null,
            "padding": null,
            "right": null,
            "top": null,
            "visibility": null,
            "width": null
          }
        },
        "98c93e688fce4bf6bbb1cdf3d140ca3f": {
          "model_module": "@jupyter-widgets/controls",
          "model_name": "DescriptionStyleModel",
          "model_module_version": "1.5.0",
          "state": {
            "_model_module": "@jupyter-widgets/controls",
            "_model_module_version": "1.5.0",
            "_model_name": "DescriptionStyleModel",
            "_view_count": null,
            "_view_module": "@jupyter-widgets/base",
            "_view_module_version": "1.2.0",
            "_view_name": "StyleView",
            "description_width": ""
          }
        },
        "dc97fda8c3b94262a1aa14775b4c5c29": {
          "model_module": "@jupyter-widgets/base",
          "model_name": "LayoutModel",
          "model_module_version": "1.2.0",
          "state": {
            "_model_module": "@jupyter-widgets/base",
            "_model_module_version": "1.2.0",
            "_model_name": "LayoutModel",
            "_view_count": null,
            "_view_module": "@jupyter-widgets/base",
            "_view_module_version": "1.2.0",
            "_view_name": "LayoutView",
            "align_content": null,
            "align_items": null,
            "align_self": null,
            "border": null,
            "bottom": null,
            "display": null,
            "flex": null,
            "flex_flow": null,
            "grid_area": null,
            "grid_auto_columns": null,
            "grid_auto_flow": null,
            "grid_auto_rows": null,
            "grid_column": null,
            "grid_gap": null,
            "grid_row": null,
            "grid_template_areas": null,
            "grid_template_columns": null,
            "grid_template_rows": null,
            "height": null,
            "justify_content": null,
            "justify_items": null,
            "left": null,
            "margin": null,
            "max_height": null,
            "max_width": null,
            "min_height": null,
            "min_width": null,
            "object_fit": null,
            "object_position": null,
            "order": null,
            "overflow": null,
            "overflow_x": null,
            "overflow_y": null,
            "padding": null,
            "right": null,
            "top": null,
            "visibility": null,
            "width": null
          }
        },
        "6bbe23eb661d4fad97c071c862089cc1": {
          "model_module": "@jupyter-widgets/controls",
          "model_name": "ProgressStyleModel",
          "model_module_version": "1.5.0",
          "state": {
            "_model_module": "@jupyter-widgets/controls",
            "_model_module_version": "1.5.0",
            "_model_name": "ProgressStyleModel",
            "_view_count": null,
            "_view_module": "@jupyter-widgets/base",
            "_view_module_version": "1.2.0",
            "_view_name": "StyleView",
            "bar_color": null,
            "description_width": ""
          }
        },
        "236abc9c058d446687d0fcc98ed7d873": {
          "model_module": "@jupyter-widgets/base",
          "model_name": "LayoutModel",
          "model_module_version": "1.2.0",
          "state": {
            "_model_module": "@jupyter-widgets/base",
            "_model_module_version": "1.2.0",
            "_model_name": "LayoutModel",
            "_view_count": null,
            "_view_module": "@jupyter-widgets/base",
            "_view_module_version": "1.2.0",
            "_view_name": "LayoutView",
            "align_content": null,
            "align_items": null,
            "align_self": null,
            "border": null,
            "bottom": null,
            "display": null,
            "flex": null,
            "flex_flow": null,
            "grid_area": null,
            "grid_auto_columns": null,
            "grid_auto_flow": null,
            "grid_auto_rows": null,
            "grid_column": null,
            "grid_gap": null,
            "grid_row": null,
            "grid_template_areas": null,
            "grid_template_columns": null,
            "grid_template_rows": null,
            "height": null,
            "justify_content": null,
            "justify_items": null,
            "left": null,
            "margin": null,
            "max_height": null,
            "max_width": null,
            "min_height": null,
            "min_width": null,
            "object_fit": null,
            "object_position": null,
            "order": null,
            "overflow": null,
            "overflow_x": null,
            "overflow_y": null,
            "padding": null,
            "right": null,
            "top": null,
            "visibility": null,
            "width": null
          }
        },
        "95bf98050f5240b0be63067e32efd127": {
          "model_module": "@jupyter-widgets/controls",
          "model_name": "DescriptionStyleModel",
          "model_module_version": "1.5.0",
          "state": {
            "_model_module": "@jupyter-widgets/controls",
            "_model_module_version": "1.5.0",
            "_model_name": "DescriptionStyleModel",
            "_view_count": null,
            "_view_module": "@jupyter-widgets/base",
            "_view_module_version": "1.2.0",
            "_view_name": "StyleView",
            "description_width": ""
          }
        },
        "49b0371a9e30418db6701af4b2fc591d": {
          "model_module": "@jupyter-widgets/controls",
          "model_name": "HBoxModel",
          "model_module_version": "1.5.0",
          "state": {
            "_dom_classes": [],
            "_model_module": "@jupyter-widgets/controls",
            "_model_module_version": "1.5.0",
            "_model_name": "HBoxModel",
            "_view_count": null,
            "_view_module": "@jupyter-widgets/controls",
            "_view_module_version": "1.5.0",
            "_view_name": "HBoxView",
            "box_style": "",
            "children": [
              "IPY_MODEL_26393eba0666445da4d0d475f891924b",
              "IPY_MODEL_c1fac99379cc49138d490494075669a0",
              "IPY_MODEL_33c9e0567582432fa5a61d5150520189"
            ],
            "layout": "IPY_MODEL_ecd65827b7fd422489ac041fef54e9e2"
          }
        },
        "26393eba0666445da4d0d475f891924b": {
          "model_module": "@jupyter-widgets/controls",
          "model_name": "HTMLModel",
          "model_module_version": "1.5.0",
          "state": {
            "_dom_classes": [],
            "_model_module": "@jupyter-widgets/controls",
            "_model_module_version": "1.5.0",
            "_model_name": "HTMLModel",
            "_view_count": null,
            "_view_module": "@jupyter-widgets/controls",
            "_view_module_version": "1.5.0",
            "_view_name": "HTMLView",
            "description": "",
            "description_tooltip": null,
            "layout": "IPY_MODEL_ebfe15a858584f63880c8caa0c538e24",
            "placeholder": "​",
            "style": "IPY_MODEL_84c93d6388f442efb130f890fc870633",
            "value": "100%"
          }
        },
        "c1fac99379cc49138d490494075669a0": {
          "model_module": "@jupyter-widgets/controls",
          "model_name": "FloatProgressModel",
          "model_module_version": "1.5.0",
          "state": {
            "_dom_classes": [],
            "_model_module": "@jupyter-widgets/controls",
            "_model_module_version": "1.5.0",
            "_model_name": "FloatProgressModel",
            "_view_count": null,
            "_view_module": "@jupyter-widgets/controls",
            "_view_module_version": "1.5.0",
            "_view_name": "ProgressView",
            "bar_style": "success",
            "description": "",
            "description_tooltip": null,
            "layout": "IPY_MODEL_d9e8e95400c042929b4101aee14995d6",
            "max": 28881,
            "min": 0,
            "orientation": "horizontal",
            "style": "IPY_MODEL_26f3e467ae0e40e886c3052820ad47f1",
            "value": 28881
          }
        },
        "33c9e0567582432fa5a61d5150520189": {
          "model_module": "@jupyter-widgets/controls",
          "model_name": "HTMLModel",
          "model_module_version": "1.5.0",
          "state": {
            "_dom_classes": [],
            "_model_module": "@jupyter-widgets/controls",
            "_model_module_version": "1.5.0",
            "_model_name": "HTMLModel",
            "_view_count": null,
            "_view_module": "@jupyter-widgets/controls",
            "_view_module_version": "1.5.0",
            "_view_name": "HTMLView",
            "description": "",
            "description_tooltip": null,
            "layout": "IPY_MODEL_4d374a86b69f42afbcdc1d3412b58c17",
            "placeholder": "​",
            "style": "IPY_MODEL_dd13ef233d174d1587f1527df0b485d2",
            "value": " 28881/28881 [00:00&lt;00:00, 1319704.69it/s]"
          }
        },
        "ecd65827b7fd422489ac041fef54e9e2": {
          "model_module": "@jupyter-widgets/base",
          "model_name": "LayoutModel",
          "model_module_version": "1.2.0",
          "state": {
            "_model_module": "@jupyter-widgets/base",
            "_model_module_version": "1.2.0",
            "_model_name": "LayoutModel",
            "_view_count": null,
            "_view_module": "@jupyter-widgets/base",
            "_view_module_version": "1.2.0",
            "_view_name": "LayoutView",
            "align_content": null,
            "align_items": null,
            "align_self": null,
            "border": null,
            "bottom": null,
            "display": null,
            "flex": null,
            "flex_flow": null,
            "grid_area": null,
            "grid_auto_columns": null,
            "grid_auto_flow": null,
            "grid_auto_rows": null,
            "grid_column": null,
            "grid_gap": null,
            "grid_row": null,
            "grid_template_areas": null,
            "grid_template_columns": null,
            "grid_template_rows": null,
            "height": null,
            "justify_content": null,
            "justify_items": null,
            "left": null,
            "margin": null,
            "max_height": null,
            "max_width": null,
            "min_height": null,
            "min_width": null,
            "object_fit": null,
            "object_position": null,
            "order": null,
            "overflow": null,
            "overflow_x": null,
            "overflow_y": null,
            "padding": null,
            "right": null,
            "top": null,
            "visibility": null,
            "width": null
          }
        },
        "ebfe15a858584f63880c8caa0c538e24": {
          "model_module": "@jupyter-widgets/base",
          "model_name": "LayoutModel",
          "model_module_version": "1.2.0",
          "state": {
            "_model_module": "@jupyter-widgets/base",
            "_model_module_version": "1.2.0",
            "_model_name": "LayoutModel",
            "_view_count": null,
            "_view_module": "@jupyter-widgets/base",
            "_view_module_version": "1.2.0",
            "_view_name": "LayoutView",
            "align_content": null,
            "align_items": null,
            "align_self": null,
            "border": null,
            "bottom": null,
            "display": null,
            "flex": null,
            "flex_flow": null,
            "grid_area": null,
            "grid_auto_columns": null,
            "grid_auto_flow": null,
            "grid_auto_rows": null,
            "grid_column": null,
            "grid_gap": null,
            "grid_row": null,
            "grid_template_areas": null,
            "grid_template_columns": null,
            "grid_template_rows": null,
            "height": null,
            "justify_content": null,
            "justify_items": null,
            "left": null,
            "margin": null,
            "max_height": null,
            "max_width": null,
            "min_height": null,
            "min_width": null,
            "object_fit": null,
            "object_position": null,
            "order": null,
            "overflow": null,
            "overflow_x": null,
            "overflow_y": null,
            "padding": null,
            "right": null,
            "top": null,
            "visibility": null,
            "width": null
          }
        },
        "84c93d6388f442efb130f890fc870633": {
          "model_module": "@jupyter-widgets/controls",
          "model_name": "DescriptionStyleModel",
          "model_module_version": "1.5.0",
          "state": {
            "_model_module": "@jupyter-widgets/controls",
            "_model_module_version": "1.5.0",
            "_model_name": "DescriptionStyleModel",
            "_view_count": null,
            "_view_module": "@jupyter-widgets/base",
            "_view_module_version": "1.2.0",
            "_view_name": "StyleView",
            "description_width": ""
          }
        },
        "d9e8e95400c042929b4101aee14995d6": {
          "model_module": "@jupyter-widgets/base",
          "model_name": "LayoutModel",
          "model_module_version": "1.2.0",
          "state": {
            "_model_module": "@jupyter-widgets/base",
            "_model_module_version": "1.2.0",
            "_model_name": "LayoutModel",
            "_view_count": null,
            "_view_module": "@jupyter-widgets/base",
            "_view_module_version": "1.2.0",
            "_view_name": "LayoutView",
            "align_content": null,
            "align_items": null,
            "align_self": null,
            "border": null,
            "bottom": null,
            "display": null,
            "flex": null,
            "flex_flow": null,
            "grid_area": null,
            "grid_auto_columns": null,
            "grid_auto_flow": null,
            "grid_auto_rows": null,
            "grid_column": null,
            "grid_gap": null,
            "grid_row": null,
            "grid_template_areas": null,
            "grid_template_columns": null,
            "grid_template_rows": null,
            "height": null,
            "justify_content": null,
            "justify_items": null,
            "left": null,
            "margin": null,
            "max_height": null,
            "max_width": null,
            "min_height": null,
            "min_width": null,
            "object_fit": null,
            "object_position": null,
            "order": null,
            "overflow": null,
            "overflow_x": null,
            "overflow_y": null,
            "padding": null,
            "right": null,
            "top": null,
            "visibility": null,
            "width": null
          }
        },
        "26f3e467ae0e40e886c3052820ad47f1": {
          "model_module": "@jupyter-widgets/controls",
          "model_name": "ProgressStyleModel",
          "model_module_version": "1.5.0",
          "state": {
            "_model_module": "@jupyter-widgets/controls",
            "_model_module_version": "1.5.0",
            "_model_name": "ProgressStyleModel",
            "_view_count": null,
            "_view_module": "@jupyter-widgets/base",
            "_view_module_version": "1.2.0",
            "_view_name": "StyleView",
            "bar_color": null,
            "description_width": ""
          }
        },
        "4d374a86b69f42afbcdc1d3412b58c17": {
          "model_module": "@jupyter-widgets/base",
          "model_name": "LayoutModel",
          "model_module_version": "1.2.0",
          "state": {
            "_model_module": "@jupyter-widgets/base",
            "_model_module_version": "1.2.0",
            "_model_name": "LayoutModel",
            "_view_count": null,
            "_view_module": "@jupyter-widgets/base",
            "_view_module_version": "1.2.0",
            "_view_name": "LayoutView",
            "align_content": null,
            "align_items": null,
            "align_self": null,
            "border": null,
            "bottom": null,
            "display": null,
            "flex": null,
            "flex_flow": null,
            "grid_area": null,
            "grid_auto_columns": null,
            "grid_auto_flow": null,
            "grid_auto_rows": null,
            "grid_column": null,
            "grid_gap": null,
            "grid_row": null,
            "grid_template_areas": null,
            "grid_template_columns": null,
            "grid_template_rows": null,
            "height": null,
            "justify_content": null,
            "justify_items": null,
            "left": null,
            "margin": null,
            "max_height": null,
            "max_width": null,
            "min_height": null,
            "min_width": null,
            "object_fit": null,
            "object_position": null,
            "order": null,
            "overflow": null,
            "overflow_x": null,
            "overflow_y": null,
            "padding": null,
            "right": null,
            "top": null,
            "visibility": null,
            "width": null
          }
        },
        "dd13ef233d174d1587f1527df0b485d2": {
          "model_module": "@jupyter-widgets/controls",
          "model_name": "DescriptionStyleModel",
          "model_module_version": "1.5.0",
          "state": {
            "_model_module": "@jupyter-widgets/controls",
            "_model_module_version": "1.5.0",
            "_model_name": "DescriptionStyleModel",
            "_view_count": null,
            "_view_module": "@jupyter-widgets/base",
            "_view_module_version": "1.2.0",
            "_view_name": "StyleView",
            "description_width": ""
          }
        },
        "cb1db24bd3f14c19a19f4797533e8c4c": {
          "model_module": "@jupyter-widgets/controls",
          "model_name": "HBoxModel",
          "model_module_version": "1.5.0",
          "state": {
            "_dom_classes": [],
            "_model_module": "@jupyter-widgets/controls",
            "_model_module_version": "1.5.0",
            "_model_name": "HBoxModel",
            "_view_count": null,
            "_view_module": "@jupyter-widgets/controls",
            "_view_module_version": "1.5.0",
            "_view_name": "HBoxView",
            "box_style": "",
            "children": [
              "IPY_MODEL_3eb8978527df4a079a6a2c53c57c6fdc",
              "IPY_MODEL_1d7ea103920d40e08981fa1049f82b0e",
              "IPY_MODEL_6dbf8450a1c04d808b74bfbe4ede9dce"
            ],
            "layout": "IPY_MODEL_2d47d492414f46e5b14d0738d75b257f"
          }
        },
        "3eb8978527df4a079a6a2c53c57c6fdc": {
          "model_module": "@jupyter-widgets/controls",
          "model_name": "HTMLModel",
          "model_module_version": "1.5.0",
          "state": {
            "_dom_classes": [],
            "_model_module": "@jupyter-widgets/controls",
            "_model_module_version": "1.5.0",
            "_model_name": "HTMLModel",
            "_view_count": null,
            "_view_module": "@jupyter-widgets/controls",
            "_view_module_version": "1.5.0",
            "_view_name": "HTMLView",
            "description": "",
            "description_tooltip": null,
            "layout": "IPY_MODEL_8d4f1fa8e19e4959a785c0fff32172f9",
            "placeholder": "​",
            "style": "IPY_MODEL_908f72caad484aa68d9ae8ba66d1c498",
            "value": "100%"
          }
        },
        "1d7ea103920d40e08981fa1049f82b0e": {
          "model_module": "@jupyter-widgets/controls",
          "model_name": "FloatProgressModel",
          "model_module_version": "1.5.0",
          "state": {
            "_dom_classes": [],
            "_model_module": "@jupyter-widgets/controls",
            "_model_module_version": "1.5.0",
            "_model_name": "FloatProgressModel",
            "_view_count": null,
            "_view_module": "@jupyter-widgets/controls",
            "_view_module_version": "1.5.0",
            "_view_name": "ProgressView",
            "bar_style": "success",
            "description": "",
            "description_tooltip": null,
            "layout": "IPY_MODEL_e18dfcf30fd54bdfa87cad2205b87306",
            "max": 1648877,
            "min": 0,
            "orientation": "horizontal",
            "style": "IPY_MODEL_f70cdbee5c57438f888c2eec42bb81a6",
            "value": 1648877
          }
        },
        "6dbf8450a1c04d808b74bfbe4ede9dce": {
          "model_module": "@jupyter-widgets/controls",
          "model_name": "HTMLModel",
          "model_module_version": "1.5.0",
          "state": {
            "_dom_classes": [],
            "_model_module": "@jupyter-widgets/controls",
            "_model_module_version": "1.5.0",
            "_model_name": "HTMLModel",
            "_view_count": null,
            "_view_module": "@jupyter-widgets/controls",
            "_view_module_version": "1.5.0",
            "_view_name": "HTMLView",
            "description": "",
            "description_tooltip": null,
            "layout": "IPY_MODEL_2b6338d75c7642c6838bfe2b0a0f223d",
            "placeholder": "​",
            "style": "IPY_MODEL_83d781d842a740bd82005b4df5258fe8",
            "value": " 1648877/1648877 [00:00&lt;00:00, 28670116.02it/s]"
          }
        },
        "2d47d492414f46e5b14d0738d75b257f": {
          "model_module": "@jupyter-widgets/base",
          "model_name": "LayoutModel",
          "model_module_version": "1.2.0",
          "state": {
            "_model_module": "@jupyter-widgets/base",
            "_model_module_version": "1.2.0",
            "_model_name": "LayoutModel",
            "_view_count": null,
            "_view_module": "@jupyter-widgets/base",
            "_view_module_version": "1.2.0",
            "_view_name": "LayoutView",
            "align_content": null,
            "align_items": null,
            "align_self": null,
            "border": null,
            "bottom": null,
            "display": null,
            "flex": null,
            "flex_flow": null,
            "grid_area": null,
            "grid_auto_columns": null,
            "grid_auto_flow": null,
            "grid_auto_rows": null,
            "grid_column": null,
            "grid_gap": null,
            "grid_row": null,
            "grid_template_areas": null,
            "grid_template_columns": null,
            "grid_template_rows": null,
            "height": null,
            "justify_content": null,
            "justify_items": null,
            "left": null,
            "margin": null,
            "max_height": null,
            "max_width": null,
            "min_height": null,
            "min_width": null,
            "object_fit": null,
            "object_position": null,
            "order": null,
            "overflow": null,
            "overflow_x": null,
            "overflow_y": null,
            "padding": null,
            "right": null,
            "top": null,
            "visibility": null,
            "width": null
          }
        },
        "8d4f1fa8e19e4959a785c0fff32172f9": {
          "model_module": "@jupyter-widgets/base",
          "model_name": "LayoutModel",
          "model_module_version": "1.2.0",
          "state": {
            "_model_module": "@jupyter-widgets/base",
            "_model_module_version": "1.2.0",
            "_model_name": "LayoutModel",
            "_view_count": null,
            "_view_module": "@jupyter-widgets/base",
            "_view_module_version": "1.2.0",
            "_view_name": "LayoutView",
            "align_content": null,
            "align_items": null,
            "align_self": null,
            "border": null,
            "bottom": null,
            "display": null,
            "flex": null,
            "flex_flow": null,
            "grid_area": null,
            "grid_auto_columns": null,
            "grid_auto_flow": null,
            "grid_auto_rows": null,
            "grid_column": null,
            "grid_gap": null,
            "grid_row": null,
            "grid_template_areas": null,
            "grid_template_columns": null,
            "grid_template_rows": null,
            "height": null,
            "justify_content": null,
            "justify_items": null,
            "left": null,
            "margin": null,
            "max_height": null,
            "max_width": null,
            "min_height": null,
            "min_width": null,
            "object_fit": null,
            "object_position": null,
            "order": null,
            "overflow": null,
            "overflow_x": null,
            "overflow_y": null,
            "padding": null,
            "right": null,
            "top": null,
            "visibility": null,
            "width": null
          }
        },
        "908f72caad484aa68d9ae8ba66d1c498": {
          "model_module": "@jupyter-widgets/controls",
          "model_name": "DescriptionStyleModel",
          "model_module_version": "1.5.0",
          "state": {
            "_model_module": "@jupyter-widgets/controls",
            "_model_module_version": "1.5.0",
            "_model_name": "DescriptionStyleModel",
            "_view_count": null,
            "_view_module": "@jupyter-widgets/base",
            "_view_module_version": "1.2.0",
            "_view_name": "StyleView",
            "description_width": ""
          }
        },
        "e18dfcf30fd54bdfa87cad2205b87306": {
          "model_module": "@jupyter-widgets/base",
          "model_name": "LayoutModel",
          "model_module_version": "1.2.0",
          "state": {
            "_model_module": "@jupyter-widgets/base",
            "_model_module_version": "1.2.0",
            "_model_name": "LayoutModel",
            "_view_count": null,
            "_view_module": "@jupyter-widgets/base",
            "_view_module_version": "1.2.0",
            "_view_name": "LayoutView",
            "align_content": null,
            "align_items": null,
            "align_self": null,
            "border": null,
            "bottom": null,
            "display": null,
            "flex": null,
            "flex_flow": null,
            "grid_area": null,
            "grid_auto_columns": null,
            "grid_auto_flow": null,
            "grid_auto_rows": null,
            "grid_column": null,
            "grid_gap": null,
            "grid_row": null,
            "grid_template_areas": null,
            "grid_template_columns": null,
            "grid_template_rows": null,
            "height": null,
            "justify_content": null,
            "justify_items": null,
            "left": null,
            "margin": null,
            "max_height": null,
            "max_width": null,
            "min_height": null,
            "min_width": null,
            "object_fit": null,
            "object_position": null,
            "order": null,
            "overflow": null,
            "overflow_x": null,
            "overflow_y": null,
            "padding": null,
            "right": null,
            "top": null,
            "visibility": null,
            "width": null
          }
        },
        "f70cdbee5c57438f888c2eec42bb81a6": {
          "model_module": "@jupyter-widgets/controls",
          "model_name": "ProgressStyleModel",
          "model_module_version": "1.5.0",
          "state": {
            "_model_module": "@jupyter-widgets/controls",
            "_model_module_version": "1.5.0",
            "_model_name": "ProgressStyleModel",
            "_view_count": null,
            "_view_module": "@jupyter-widgets/base",
            "_view_module_version": "1.2.0",
            "_view_name": "StyleView",
            "bar_color": null,
            "description_width": ""
          }
        },
        "2b6338d75c7642c6838bfe2b0a0f223d": {
          "model_module": "@jupyter-widgets/base",
          "model_name": "LayoutModel",
          "model_module_version": "1.2.0",
          "state": {
            "_model_module": "@jupyter-widgets/base",
            "_model_module_version": "1.2.0",
            "_model_name": "LayoutModel",
            "_view_count": null,
            "_view_module": "@jupyter-widgets/base",
            "_view_module_version": "1.2.0",
            "_view_name": "LayoutView",
            "align_content": null,
            "align_items": null,
            "align_self": null,
            "border": null,
            "bottom": null,
            "display": null,
            "flex": null,
            "flex_flow": null,
            "grid_area": null,
            "grid_auto_columns": null,
            "grid_auto_flow": null,
            "grid_auto_rows": null,
            "grid_column": null,
            "grid_gap": null,
            "grid_row": null,
            "grid_template_areas": null,
            "grid_template_columns": null,
            "grid_template_rows": null,
            "height": null,
            "justify_content": null,
            "justify_items": null,
            "left": null,
            "margin": null,
            "max_height": null,
            "max_width": null,
            "min_height": null,
            "min_width": null,
            "object_fit": null,
            "object_position": null,
            "order": null,
            "overflow": null,
            "overflow_x": null,
            "overflow_y": null,
            "padding": null,
            "right": null,
            "top": null,
            "visibility": null,
            "width": null
          }
        },
        "83d781d842a740bd82005b4df5258fe8": {
          "model_module": "@jupyter-widgets/controls",
          "model_name": "DescriptionStyleModel",
          "model_module_version": "1.5.0",
          "state": {
            "_model_module": "@jupyter-widgets/controls",
            "_model_module_version": "1.5.0",
            "_model_name": "DescriptionStyleModel",
            "_view_count": null,
            "_view_module": "@jupyter-widgets/base",
            "_view_module_version": "1.2.0",
            "_view_name": "StyleView",
            "description_width": ""
          }
        },
        "bd0e9dcf53524732a907c7a115810845": {
          "model_module": "@jupyter-widgets/controls",
          "model_name": "HBoxModel",
          "model_module_version": "1.5.0",
          "state": {
            "_dom_classes": [],
            "_model_module": "@jupyter-widgets/controls",
            "_model_module_version": "1.5.0",
            "_model_name": "HBoxModel",
            "_view_count": null,
            "_view_module": "@jupyter-widgets/controls",
            "_view_module_version": "1.5.0",
            "_view_name": "HBoxView",
            "box_style": "",
            "children": [
              "IPY_MODEL_b39d13b485684dd5a3740f2655ea71f8",
              "IPY_MODEL_829c51716681482ca05eb63e900253b0",
              "IPY_MODEL_591c1d874b654020b72dfacca0de2d6b"
            ],
            "layout": "IPY_MODEL_5f5758aea0b54d238bd095c070619ef3"
          }
        },
        "b39d13b485684dd5a3740f2655ea71f8": {
          "model_module": "@jupyter-widgets/controls",
          "model_name": "HTMLModel",
          "model_module_version": "1.5.0",
          "state": {
            "_dom_classes": [],
            "_model_module": "@jupyter-widgets/controls",
            "_model_module_version": "1.5.0",
            "_model_name": "HTMLModel",
            "_view_count": null,
            "_view_module": "@jupyter-widgets/controls",
            "_view_module_version": "1.5.0",
            "_view_name": "HTMLView",
            "description": "",
            "description_tooltip": null,
            "layout": "IPY_MODEL_e238837954cd49ba98f1f2b8d6607ec6",
            "placeholder": "​",
            "style": "IPY_MODEL_319a2a9255bf4f548ae40b3c27771da2",
            "value": "100%"
          }
        },
        "829c51716681482ca05eb63e900253b0": {
          "model_module": "@jupyter-widgets/controls",
          "model_name": "FloatProgressModel",
          "model_module_version": "1.5.0",
          "state": {
            "_dom_classes": [],
            "_model_module": "@jupyter-widgets/controls",
            "_model_module_version": "1.5.0",
            "_model_name": "FloatProgressModel",
            "_view_count": null,
            "_view_module": "@jupyter-widgets/controls",
            "_view_module_version": "1.5.0",
            "_view_name": "ProgressView",
            "bar_style": "success",
            "description": "",
            "description_tooltip": null,
            "layout": "IPY_MODEL_b02b1dfa0bcc49d0a4d95ae6087789c9",
            "max": 4542,
            "min": 0,
            "orientation": "horizontal",
            "style": "IPY_MODEL_546f5144b2e44304a5d2fea029d8656d",
            "value": 4542
          }
        },
        "591c1d874b654020b72dfacca0de2d6b": {
          "model_module": "@jupyter-widgets/controls",
          "model_name": "HTMLModel",
          "model_module_version": "1.5.0",
          "state": {
            "_dom_classes": [],
            "_model_module": "@jupyter-widgets/controls",
            "_model_module_version": "1.5.0",
            "_model_name": "HTMLModel",
            "_view_count": null,
            "_view_module": "@jupyter-widgets/controls",
            "_view_module_version": "1.5.0",
            "_view_name": "HTMLView",
            "description": "",
            "description_tooltip": null,
            "layout": "IPY_MODEL_8ba6d46bbc3b462fafc5133ccc066192",
            "placeholder": "​",
            "style": "IPY_MODEL_831444de14c04b3ca96d3c22b38d07a6",
            "value": " 4542/4542 [00:00&lt;00:00, 284217.47it/s]"
          }
        },
        "5f5758aea0b54d238bd095c070619ef3": {
          "model_module": "@jupyter-widgets/base",
          "model_name": "LayoutModel",
          "model_module_version": "1.2.0",
          "state": {
            "_model_module": "@jupyter-widgets/base",
            "_model_module_version": "1.2.0",
            "_model_name": "LayoutModel",
            "_view_count": null,
            "_view_module": "@jupyter-widgets/base",
            "_view_module_version": "1.2.0",
            "_view_name": "LayoutView",
            "align_content": null,
            "align_items": null,
            "align_self": null,
            "border": null,
            "bottom": null,
            "display": null,
            "flex": null,
            "flex_flow": null,
            "grid_area": null,
            "grid_auto_columns": null,
            "grid_auto_flow": null,
            "grid_auto_rows": null,
            "grid_column": null,
            "grid_gap": null,
            "grid_row": null,
            "grid_template_areas": null,
            "grid_template_columns": null,
            "grid_template_rows": null,
            "height": null,
            "justify_content": null,
            "justify_items": null,
            "left": null,
            "margin": null,
            "max_height": null,
            "max_width": null,
            "min_height": null,
            "min_width": null,
            "object_fit": null,
            "object_position": null,
            "order": null,
            "overflow": null,
            "overflow_x": null,
            "overflow_y": null,
            "padding": null,
            "right": null,
            "top": null,
            "visibility": null,
            "width": null
          }
        },
        "e238837954cd49ba98f1f2b8d6607ec6": {
          "model_module": "@jupyter-widgets/base",
          "model_name": "LayoutModel",
          "model_module_version": "1.2.0",
          "state": {
            "_model_module": "@jupyter-widgets/base",
            "_model_module_version": "1.2.0",
            "_model_name": "LayoutModel",
            "_view_count": null,
            "_view_module": "@jupyter-widgets/base",
            "_view_module_version": "1.2.0",
            "_view_name": "LayoutView",
            "align_content": null,
            "align_items": null,
            "align_self": null,
            "border": null,
            "bottom": null,
            "display": null,
            "flex": null,
            "flex_flow": null,
            "grid_area": null,
            "grid_auto_columns": null,
            "grid_auto_flow": null,
            "grid_auto_rows": null,
            "grid_column": null,
            "grid_gap": null,
            "grid_row": null,
            "grid_template_areas": null,
            "grid_template_columns": null,
            "grid_template_rows": null,
            "height": null,
            "justify_content": null,
            "justify_items": null,
            "left": null,
            "margin": null,
            "max_height": null,
            "max_width": null,
            "min_height": null,
            "min_width": null,
            "object_fit": null,
            "object_position": null,
            "order": null,
            "overflow": null,
            "overflow_x": null,
            "overflow_y": null,
            "padding": null,
            "right": null,
            "top": null,
            "visibility": null,
            "width": null
          }
        },
        "319a2a9255bf4f548ae40b3c27771da2": {
          "model_module": "@jupyter-widgets/controls",
          "model_name": "DescriptionStyleModel",
          "model_module_version": "1.5.0",
          "state": {
            "_model_module": "@jupyter-widgets/controls",
            "_model_module_version": "1.5.0",
            "_model_name": "DescriptionStyleModel",
            "_view_count": null,
            "_view_module": "@jupyter-widgets/base",
            "_view_module_version": "1.2.0",
            "_view_name": "StyleView",
            "description_width": ""
          }
        },
        "b02b1dfa0bcc49d0a4d95ae6087789c9": {
          "model_module": "@jupyter-widgets/base",
          "model_name": "LayoutModel",
          "model_module_version": "1.2.0",
          "state": {
            "_model_module": "@jupyter-widgets/base",
            "_model_module_version": "1.2.0",
            "_model_name": "LayoutModel",
            "_view_count": null,
            "_view_module": "@jupyter-widgets/base",
            "_view_module_version": "1.2.0",
            "_view_name": "LayoutView",
            "align_content": null,
            "align_items": null,
            "align_self": null,
            "border": null,
            "bottom": null,
            "display": null,
            "flex": null,
            "flex_flow": null,
            "grid_area": null,
            "grid_auto_columns": null,
            "grid_auto_flow": null,
            "grid_auto_rows": null,
            "grid_column": null,
            "grid_gap": null,
            "grid_row": null,
            "grid_template_areas": null,
            "grid_template_columns": null,
            "grid_template_rows": null,
            "height": null,
            "justify_content": null,
            "justify_items": null,
            "left": null,
            "margin": null,
            "max_height": null,
            "max_width": null,
            "min_height": null,
            "min_width": null,
            "object_fit": null,
            "object_position": null,
            "order": null,
            "overflow": null,
            "overflow_x": null,
            "overflow_y": null,
            "padding": null,
            "right": null,
            "top": null,
            "visibility": null,
            "width": null
          }
        },
        "546f5144b2e44304a5d2fea029d8656d": {
          "model_module": "@jupyter-widgets/controls",
          "model_name": "ProgressStyleModel",
          "model_module_version": "1.5.0",
          "state": {
            "_model_module": "@jupyter-widgets/controls",
            "_model_module_version": "1.5.0",
            "_model_name": "ProgressStyleModel",
            "_view_count": null,
            "_view_module": "@jupyter-widgets/base",
            "_view_module_version": "1.2.0",
            "_view_name": "StyleView",
            "bar_color": null,
            "description_width": ""
          }
        },
        "8ba6d46bbc3b462fafc5133ccc066192": {
          "model_module": "@jupyter-widgets/base",
          "model_name": "LayoutModel",
          "model_module_version": "1.2.0",
          "state": {
            "_model_module": "@jupyter-widgets/base",
            "_model_module_version": "1.2.0",
            "_model_name": "LayoutModel",
            "_view_count": null,
            "_view_module": "@jupyter-widgets/base",
            "_view_module_version": "1.2.0",
            "_view_name": "LayoutView",
            "align_content": null,
            "align_items": null,
            "align_self": null,
            "border": null,
            "bottom": null,
            "display": null,
            "flex": null,
            "flex_flow": null,
            "grid_area": null,
            "grid_auto_columns": null,
            "grid_auto_flow": null,
            "grid_auto_rows": null,
            "grid_column": null,
            "grid_gap": null,
            "grid_row": null,
            "grid_template_areas": null,
            "grid_template_columns": null,
            "grid_template_rows": null,
            "height": null,
            "justify_content": null,
            "justify_items": null,
            "left": null,
            "margin": null,
            "max_height": null,
            "max_width": null,
            "min_height": null,
            "min_width": null,
            "object_fit": null,
            "object_position": null,
            "order": null,
            "overflow": null,
            "overflow_x": null,
            "overflow_y": null,
            "padding": null,
            "right": null,
            "top": null,
            "visibility": null,
            "width": null
          }
        },
        "831444de14c04b3ca96d3c22b38d07a6": {
          "model_module": "@jupyter-widgets/controls",
          "model_name": "DescriptionStyleModel",
          "model_module_version": "1.5.0",
          "state": {
            "_model_module": "@jupyter-widgets/controls",
            "_model_module_version": "1.5.0",
            "_model_name": "DescriptionStyleModel",
            "_view_count": null,
            "_view_module": "@jupyter-widgets/base",
            "_view_module_version": "1.2.0",
            "_view_name": "StyleView",
            "description_width": ""
          }
        }
      }
    }
  },
  "cells": [
    {
      "cell_type": "markdown",
      "metadata": {
        "id": "view-in-github",
        "colab_type": "text"
      },
      "source": [
        "<a href=\"https://colab.research.google.com/github/MarinaWolters/Coding-Tracker/blob/master/R11_FCNN_CNN_Solutions.ipynb\" target=\"_parent\"><img src=\"https://colab.research.google.com/assets/colab-badge.svg\" alt=\"Open In Colab\"/></a>"
      ]
    },
    {
      "cell_type": "markdown",
      "metadata": {
        "id": "31Gsu_ssYQXK"
      },
      "source": [
        "# CIS-545 Recitation 9 - Neural Networks in PyTorch"
      ]
    },
    {
      "cell_type": "markdown",
      "source": [
        "There are various libraries in Python to do Deep Learning such as, [PyTorch](https://pytorch.org/docs/stable/index.html), [TensorFlow](https://www.tensorflow.org/api_docs/python/tf/all_symbols) and [MxNet](https://mxnet.apache.org/versions/1.9.1/api). We can also use other libraries with built-in automatic differentiation such as [Jax](https://jax.readthedocs.io/en/latest/index.html) and its Deep Learning counterpart [Flax](https://flax.readthedocs.io/en/latest/)!"
      ],
      "metadata": {
        "id": "r7AZ5PwNlLHo"
      }
    },
    {
      "cell_type": "markdown",
      "source": [
        "For the context of this course, we will be working with PyTorch - an open-source easy to use library. "
      ],
      "metadata": {
        "id": "mieVENhRmpxF"
      }
    },
    {
      "cell_type": "markdown",
      "metadata": {
        "id": "5Rfbq1OBYWAX"
      },
      "source": [
        "## Loading Dependecies"
      ]
    },
    {
      "cell_type": "code",
      "source": [
        "!pip install torchinfo"
      ],
      "metadata": {
        "colab": {
          "base_uri": "https://localhost:8080/"
        },
        "id": "QguaHq5MfnGs",
        "outputId": "8509500c-38ab-48c9-9f6a-427bc0b9ab6f"
      },
      "execution_count": null,
      "outputs": [
        {
          "output_type": "stream",
          "name": "stdout",
          "text": [
            "Looking in indexes: https://pypi.org/simple, https://us-python.pkg.dev/colab-wheels/public/simple/\n",
            "Collecting torchinfo\n",
            "  Downloading torchinfo-1.7.2-py3-none-any.whl (22 kB)\n",
            "Installing collected packages: torchinfo\n",
            "Successfully installed torchinfo-1.7.2\n"
          ]
        }
      ]
    },
    {
      "cell_type": "code",
      "metadata": {
        "id": "tMyNeAcZVjif",
        "colab": {
          "base_uri": "https://localhost:8080/"
        },
        "outputId": "4080c5bf-b4ad-49db-c9cc-1a116dd8f5c8"
      },
      "source": [
        "import torch\n",
        "import torchvision\n",
        "import torch.nn as nn\n",
        "import torch.optim as optim\n",
        "import torchvision.transforms as transforms\n",
        "import matplotlib.pyplot as plt\n",
        "from torch.utils.data import DataLoader\n",
        "from torchinfo import summary\n",
        "\n",
        "# Setting the device to do computations on - GPU's are generally faster!\n",
        "device = torch.device(\"cuda\" if torch.cuda.is_available() else \"cpu\")\n",
        "print(torch.__version__)\n",
        "print(device)"
      ],
      "execution_count": null,
      "outputs": [
        {
          "output_type": "stream",
          "name": "stdout",
          "text": [
            "1.13.1+cu116\n",
            "cuda\n"
          ]
        }
      ]
    },
    {
      "cell_type": "markdown",
      "source": [
        "## Torch Tensors and Computational Graphs\n",
        "\n",
        "PyTorch has its own data structure to facilitate computing on CPU/GPU as well use automatic differentiation for backpropagation."
      ],
      "metadata": {
        "id": "FoDz9U6_nbKe"
      }
    },
    {
      "cell_type": "code",
      "source": [
        "# Initialize a 2D torch tensor with ones of size 5 x5\n",
        "ones_matrix = torch.ones((5, 5))\n",
        "\n",
        "# Intialize a vector with ones of size 5 x 1\n",
        "ones_vector = torch.ones((5, 1))\n"
      ],
      "metadata": {
        "id": "ISuenw__n_IJ"
      },
      "execution_count": null,
      "outputs": []
    },
    {
      "cell_type": "code",
      "source": [
        "# Matrix-vector multiplication with PyTorch\n",
        "torch.matmul(ones_matrix, ones_vector)"
      ],
      "metadata": {
        "colab": {
          "base_uri": "https://localhost:8080/"
        },
        "id": "nGN4-RFsoOq0",
        "outputId": "7cde5ca7-c479-4961-f46b-966edf2014e5"
      },
      "execution_count": null,
      "outputs": [
        {
          "output_type": "execute_result",
          "data": {
            "text/plain": [
              "tensor([[5.],\n",
              "        [5.],\n",
              "        [5.],\n",
              "        [5.],\n",
              "        [5.]])"
            ]
          },
          "metadata": {},
          "execution_count": 4
        }
      ]
    },
    {
      "cell_type": "code",
      "source": [
        "ones_matrix @ ones_vector"
      ],
      "metadata": {
        "colab": {
          "base_uri": "https://localhost:8080/"
        },
        "id": "SwVSXGKHo0TH",
        "outputId": "661e0d32-84c1-4930-a7b1-52ccce8576be"
      },
      "execution_count": null,
      "outputs": [
        {
          "output_type": "execute_result",
          "data": {
            "text/plain": [
              "tensor([[5.],\n",
              "        [5.],\n",
              "        [5.],\n",
              "        [5.],\n",
              "        [5.]])"
            ]
          },
          "metadata": {},
          "execution_count": 5
        }
      ]
    },
    {
      "cell_type": "markdown",
      "source": [
        "For people familiar with NumPy, there are similar functions that operate on torch tensors, to almost every function in NumPy that operate on NumPy N-d arrays.\n",
        "\n",
        "However, apart from GPU support PyTorch also offers something else that is extremely important in designing Neural Networks."
      ],
      "metadata": {
        "id": "Uf6AWuuto8R4"
      }
    },
    {
      "cell_type": "markdown",
      "source": [
        "Let's consider a 5 x 5 - matrix $A$ and a 5 x 1 - vector $b$. We will compute $l$ as given:\n",
        "\n",
        "\\begin{gather*}\n",
        "  z = A \\cdot b \\\\\n",
        "  l = \\sum_{i=1}^{5} z_{i}\n",
        "\\end{gather*}\n",
        "\n",
        "We can now actually calculate gradients:\n",
        "\n",
        "\\begin{gather*}\n",
        "  \\left( \\frac{\\partial l}{\\partial b} \\right)_{i} = \\sum_{j=1}^{5} A_{ji}\n",
        "\\end{gather*}"
      ],
      "metadata": {
        "id": "8t-UzWR2r42k"
      }
    },
    {
      "cell_type": "code",
      "source": [
        "tensor_A = torch.rand((5, 5))\n",
        "tensor_A.requires_grad = True\n",
        "tensor_b = torch.rand((5, 1))\n",
        "tensor_b.requires_grad = True\n",
        "\n",
        "l_var = torch.sum(tensor_A @ tensor_b) "
      ],
      "metadata": {
        "id": "1npSKnFOqnG8"
      },
      "execution_count": null,
      "outputs": []
    },
    {
      "cell_type": "code",
      "source": [
        "l_var.backward()"
      ],
      "metadata": {
        "id": "nGJOVwWfrPjH"
      },
      "execution_count": null,
      "outputs": []
    },
    {
      "cell_type": "code",
      "source": [
        "# Torch autograd\n",
        "tensor_b.grad"
      ],
      "metadata": {
        "colab": {
          "base_uri": "https://localhost:8080/"
        },
        "id": "wcUNRcjcrzWg",
        "outputId": "f3c9ede7-6d2c-48da-bb86-87b61cddf062"
      },
      "execution_count": null,
      "outputs": [
        {
          "output_type": "execute_result",
          "data": {
            "text/plain": [
              "tensor([[2.8218],\n",
              "        [2.1581],\n",
              "        [2.9693],\n",
              "        [1.8479],\n",
              "        [3.1973]])"
            ]
          },
          "metadata": {},
          "execution_count": 8
        }
      ]
    },
    {
      "cell_type": "code",
      "source": [
        "# Expected gradient\n",
        "torch.sum(tensor_A, axis=0).detach().reshape((-1, 1))"
      ],
      "metadata": {
        "colab": {
          "base_uri": "https://localhost:8080/"
        },
        "id": "Ugdj__bOsGn0",
        "outputId": "890ea159-25e8-473b-fa55-8599ccabb420"
      },
      "execution_count": null,
      "outputs": [
        {
          "output_type": "execute_result",
          "data": {
            "text/plain": [
              "tensor([[2.8218],\n",
              "        [2.1581],\n",
              "        [2.9693],\n",
              "        [1.8479],\n",
              "        [3.1973]])"
            ]
          },
          "metadata": {},
          "execution_count": 9
        }
      ]
    },
    {
      "cell_type": "markdown",
      "metadata": {
        "id": "Ls6hAlPGbai5"
      },
      "source": [
        "## Load the Dataset\n",
        "\n",
        "### PyTorch supports a lot of inbuilt datasets to play around with. In this recitation, we will be working with the famous [MNIST](https://en.wikipedia.org/wiki/MNIST_database#:~:text=The%20MNIST%20database%20(Modified%20National,the%20field%20of%20machine%20learning.) dataset.\n"
      ]
    },
    {
      "cell_type": "markdown",
      "metadata": {
        "id": "TTH9t9_gdybL"
      },
      "source": [
        "Documentation to load the MNIST dataset from torchvision can be found [here](https://pytorch.org/vision/stable/datasets.html).\n",
        "\n",
        "<img src='https://upload.wikimedia.org/wikipedia/commons/2/27/MnistExamples.png'>"
      ]
    },
    {
      "cell_type": "markdown",
      "source": [
        "First, we load the dataset from torchvision."
      ],
      "metadata": {
        "id": "G-G5bPi_crIo"
      }
    },
    {
      "cell_type": "code",
      "metadata": {
        "id": "T1xIADSfVzIV",
        "colab": {
          "base_uri": "https://localhost:8080/",
          "height": 431,
          "referenced_widgets": [
            "d70dbad8d6a64c5e945d1a2dcbec6ac3",
            "08e9ef2fd6bd40798c8de1de3b6f8888",
            "7eb8b74a3a834a4aa105d3e676d659b8",
            "b492cdace0924014a7baac31b5a91886",
            "2327eb5f3d6b4b3687ec82625c60a59c",
            "d1d765156a3f4601aaa1af44528d2181",
            "98c93e688fce4bf6bbb1cdf3d140ca3f",
            "dc97fda8c3b94262a1aa14775b4c5c29",
            "6bbe23eb661d4fad97c071c862089cc1",
            "236abc9c058d446687d0fcc98ed7d873",
            "95bf98050f5240b0be63067e32efd127",
            "49b0371a9e30418db6701af4b2fc591d",
            "26393eba0666445da4d0d475f891924b",
            "c1fac99379cc49138d490494075669a0",
            "33c9e0567582432fa5a61d5150520189",
            "ecd65827b7fd422489ac041fef54e9e2",
            "ebfe15a858584f63880c8caa0c538e24",
            "84c93d6388f442efb130f890fc870633",
            "d9e8e95400c042929b4101aee14995d6",
            "26f3e467ae0e40e886c3052820ad47f1",
            "4d374a86b69f42afbcdc1d3412b58c17",
            "dd13ef233d174d1587f1527df0b485d2",
            "cb1db24bd3f14c19a19f4797533e8c4c",
            "3eb8978527df4a079a6a2c53c57c6fdc",
            "1d7ea103920d40e08981fa1049f82b0e",
            "6dbf8450a1c04d808b74bfbe4ede9dce",
            "2d47d492414f46e5b14d0738d75b257f",
            "8d4f1fa8e19e4959a785c0fff32172f9",
            "908f72caad484aa68d9ae8ba66d1c498",
            "e18dfcf30fd54bdfa87cad2205b87306",
            "f70cdbee5c57438f888c2eec42bb81a6",
            "2b6338d75c7642c6838bfe2b0a0f223d",
            "83d781d842a740bd82005b4df5258fe8",
            "bd0e9dcf53524732a907c7a115810845",
            "b39d13b485684dd5a3740f2655ea71f8",
            "829c51716681482ca05eb63e900253b0",
            "591c1d874b654020b72dfacca0de2d6b",
            "5f5758aea0b54d238bd095c070619ef3",
            "e238837954cd49ba98f1f2b8d6607ec6",
            "319a2a9255bf4f548ae40b3c27771da2",
            "b02b1dfa0bcc49d0a4d95ae6087789c9",
            "546f5144b2e44304a5d2fea029d8656d",
            "8ba6d46bbc3b462fafc5133ccc066192",
            "831444de14c04b3ca96d3c22b38d07a6"
          ]
        },
        "outputId": "1471b8f9-52a3-4e95-9b46-0b244c77d519"
      },
      "source": [
        "mnist_dataset = torchvision.datasets.MNIST('./', download=True, train=True)"
      ],
      "execution_count": null,
      "outputs": [
        {
          "output_type": "stream",
          "name": "stdout",
          "text": [
            "Downloading http://yann.lecun.com/exdb/mnist/train-images-idx3-ubyte.gz\n",
            "Downloading http://yann.lecun.com/exdb/mnist/train-images-idx3-ubyte.gz to ./MNIST/raw/train-images-idx3-ubyte.gz\n"
          ]
        },
        {
          "output_type": "display_data",
          "data": {
            "text/plain": [
              "  0%|          | 0/9912422 [00:00<?, ?it/s]"
            ],
            "application/vnd.jupyter.widget-view+json": {
              "version_major": 2,
              "version_minor": 0,
              "model_id": "d70dbad8d6a64c5e945d1a2dcbec6ac3"
            }
          },
          "metadata": {}
        },
        {
          "output_type": "stream",
          "name": "stdout",
          "text": [
            "Extracting ./MNIST/raw/train-images-idx3-ubyte.gz to ./MNIST/raw\n",
            "\n",
            "Downloading http://yann.lecun.com/exdb/mnist/train-labels-idx1-ubyte.gz\n",
            "Downloading http://yann.lecun.com/exdb/mnist/train-labels-idx1-ubyte.gz to ./MNIST/raw/train-labels-idx1-ubyte.gz\n"
          ]
        },
        {
          "output_type": "display_data",
          "data": {
            "text/plain": [
              "  0%|          | 0/28881 [00:00<?, ?it/s]"
            ],
            "application/vnd.jupyter.widget-view+json": {
              "version_major": 2,
              "version_minor": 0,
              "model_id": "49b0371a9e30418db6701af4b2fc591d"
            }
          },
          "metadata": {}
        },
        {
          "output_type": "stream",
          "name": "stdout",
          "text": [
            "Extracting ./MNIST/raw/train-labels-idx1-ubyte.gz to ./MNIST/raw\n",
            "\n",
            "Downloading http://yann.lecun.com/exdb/mnist/t10k-images-idx3-ubyte.gz\n",
            "Downloading http://yann.lecun.com/exdb/mnist/t10k-images-idx3-ubyte.gz to ./MNIST/raw/t10k-images-idx3-ubyte.gz\n"
          ]
        },
        {
          "output_type": "display_data",
          "data": {
            "text/plain": [
              "  0%|          | 0/1648877 [00:00<?, ?it/s]"
            ],
            "application/vnd.jupyter.widget-view+json": {
              "version_major": 2,
              "version_minor": 0,
              "model_id": "cb1db24bd3f14c19a19f4797533e8c4c"
            }
          },
          "metadata": {}
        },
        {
          "output_type": "stream",
          "name": "stdout",
          "text": [
            "Extracting ./MNIST/raw/t10k-images-idx3-ubyte.gz to ./MNIST/raw\n",
            "\n",
            "Downloading http://yann.lecun.com/exdb/mnist/t10k-labels-idx1-ubyte.gz\n",
            "Downloading http://yann.lecun.com/exdb/mnist/t10k-labels-idx1-ubyte.gz to ./MNIST/raw/t10k-labels-idx1-ubyte.gz\n"
          ]
        },
        {
          "output_type": "display_data",
          "data": {
            "text/plain": [
              "  0%|          | 0/4542 [00:00<?, ?it/s]"
            ],
            "application/vnd.jupyter.widget-view+json": {
              "version_major": 2,
              "version_minor": 0,
              "model_id": "bd0e9dcf53524732a907c7a115810845"
            }
          },
          "metadata": {}
        },
        {
          "output_type": "stream",
          "name": "stdout",
          "text": [
            "Extracting ./MNIST/raw/t10k-labels-idx1-ubyte.gz to ./MNIST/raw\n",
            "\n"
          ]
        }
      ]
    },
    {
      "cell_type": "markdown",
      "source": [
        "## Visualising the dataset\n"
      ],
      "metadata": {
        "id": "9Cm8-do4dPm4"
      }
    },
    {
      "cell_type": "code",
      "source": [
        "# Look at all the class labels\n",
        "mnist_dataset.classes"
      ],
      "metadata": {
        "colab": {
          "base_uri": "https://localhost:8080/"
        },
        "id": "3i-Ee9ch8c_s",
        "outputId": "5beb45d9-807a-44a9-b89a-59076b29a290"
      },
      "execution_count": null,
      "outputs": [
        {
          "output_type": "execute_result",
          "data": {
            "text/plain": [
              "['0 - zero',\n",
              " '1 - one',\n",
              " '2 - two',\n",
              " '3 - three',\n",
              " '4 - four',\n",
              " '5 - five',\n",
              " '6 - six',\n",
              " '7 - seven',\n",
              " '8 - eight',\n",
              " '9 - nine']"
            ]
          },
          "metadata": {},
          "execution_count": 11
        }
      ]
    },
    {
      "cell_type": "code",
      "source": [
        "# Looking at the images\n",
        "idx = 1000\n",
        "\n",
        "datapoint = mnist_dataset[idx]\n",
        "datapoint[0].resize([128, 128]).show()\n",
        "print('Label:', datapoint[1])"
      ],
      "metadata": {
        "colab": {
          "base_uri": "https://localhost:8080/",
          "height": 163
        },
        "id": "Aanmr8dY8MGG",
        "outputId": "ac327853-d107-468e-ddc0-1aab1c61c3ef"
      },
      "execution_count": null,
      "outputs": [
        {
          "output_type": "display_data",
          "data": {
            "text/plain": [
              "<PIL.Image.Image image mode=L size=128x128 at 0x7F2AFB2CABE0>"
            ],
            "image/png": "[encoded data removed]"
          },
          "metadata": {}
        },
        {
          "output_type": "stream",
          "name": "stdout",
          "text": [
            "Label: 0\n"
          ]
        }
      ]
    },
    {
      "cell_type": "code",
      "source": [
        "# Size and shape of our training data\n",
        "mnist_dataset.data.shape"
      ],
      "metadata": {
        "colab": {
          "base_uri": "https://localhost:8080/"
        },
        "id": "olBob0ORLTJN",
        "outputId": "e1760cdd-78b4-4567-a012-fe67c1d7e7c7"
      },
      "execution_count": null,
      "outputs": [
        {
          "output_type": "execute_result",
          "data": {
            "text/plain": [
              "torch.Size([60000, 28, 28])"
            ]
          },
          "metadata": {},
          "execution_count": 13
        }
      ]
    },
    {
      "cell_type": "markdown",
      "source": [
        "## Transforms and Dataloaders\n",
        "\n",
        "Torchvision Transforms are a neat way to preprocess image data before passing it to our neural networks. We will be using transforms for normalizing our data and converting them to torch tensors.\n",
        "\n",
        "However, transforms are often also used for data augmentation in PyTorch. Something that you can find very useful while training Neural Networks in practice, such as in your final projects!\n",
        "\n",
        "You can find the Torchvosion documentation on transforms [here](https://pytorch.org/vision/0.9/transforms.html)."
      ],
      "metadata": {
        "id": "Cn3gtpWo9BjG"
      }
    },
    {
      "cell_type": "code",
      "source": [
        "# We could see what our data mean and variance are, and scale accordingly \n",
        "# - However we don't really need to worry too much about this here! Any idea why?\n",
        "\n",
        "transforms = transforms.Compose([transforms.ToTensor(), \n",
        "                                 transforms.Normalize([0.5], [0.5])])"
      ],
      "metadata": {
        "id": "YEK7xoAK9PP-"
      },
      "execution_count": null,
      "outputs": []
    },
    {
      "cell_type": "code",
      "metadata": {
        "id": "o1DMyS2DV1tc"
      },
      "source": [
        "train_data = torchvision.datasets.MNIST('./', train=True, transform=transforms)\n",
        "test_data = torchvision.datasets.MNIST('./', train=False, transform=transforms)"
      ],
      "execution_count": null,
      "outputs": []
    },
    {
      "cell_type": "markdown",
      "source": [
        "Dataloaders facilitate how our network consumes the data while training. Often optimisation algorithms such as Mini-batch Gradient Descent in Deep Learning, train data in batches. We can also choose whether to shuffle the data on each iteration, "
      ],
      "metadata": {
        "id": "lIoWj-5T-7cL"
      }
    },
    {
      "cell_type": "code",
      "source": [
        "# Batch-size - a hyperparameter\n",
        "batch = 64\n",
        "\n",
        "train_loader = DataLoader(train_data, batch_size = batch, shuffle = True)\n",
        "test_loader = DataLoader(test_data, batch_size = batch, shuffle = False)"
      ],
      "metadata": {
        "id": "pP-FbQGM-5iD"
      },
      "execution_count": null,
      "outputs": []
    },
    {
      "cell_type": "markdown",
      "source": [
        "## A basic fully-connected Neural Network\n",
        "\n",
        "To define models in PyTorch we make use of the torch.nn module. It has all the common layers and activation functions built in. "
      ],
      "metadata": {
        "id": "y5LnoJI2Cxb-"
      }
    },
    {
      "cell_type": "code",
      "source": [
        "class FCNN(nn.Module):\n",
        "    def __init__(self):\n",
        "        super().__init__()\n",
        "\n",
        "        # To flatten your images as vectors so that FCNN can read them\n",
        "        self.flatten = nn.Flatten()\n",
        "\n",
        "        # We will be using activation functions\n",
        "        self.relu = nn.ReLU()\n",
        "        \n",
        "        # Hidden and output layers\n",
        "        self.input = nn.Linear(28 * 28, 256)\n",
        "        self.hidden2 = nn.Linear(256, 64)\n",
        "        self.output = nn.Linear(64, 10)\n",
        "\n",
        "    def forward(self, x):\n",
        "        outputs = nn.Sequential(self.flatten, self.input, self.relu, self.hidden2, self.relu, self.output)(x)\n",
        "        return outputs"
      ],
      "metadata": {
        "id": "ekRL_w3WFPcB"
      },
      "execution_count": null,
      "outputs": []
    },
    {
      "cell_type": "code",
      "source": [
        "# Initialize model and check out its summary\n",
        "model_fcnn = FCNN().to(device)\n",
        "summary(model_fcnn, (batch, 1, 28, 28), device=device)"
      ],
      "metadata": {
        "colab": {
          "base_uri": "https://localhost:8080/"
        },
        "id": "-0JW1oLMMy6G",
        "outputId": "75e42cbb-b049-46d0-e659-56e2e335324e"
      },
      "execution_count": null,
      "outputs": [
        {
          "output_type": "execute_result",
          "data": {
            "text/plain": [
              "==========================================================================================\n",
              "Layer (type:depth-idx)                   Output Shape              Param #\n",
              "==========================================================================================\n",
              "FCNN                                     [64, 10]                  --\n",
              "├─Flatten: 1-1                           [64, 784]                 --\n",
              "├─Linear: 1-2                            [64, 256]                 200,960\n",
              "├─ReLU: 1-3                              [64, 256]                 --\n",
              "├─Linear: 1-4                            [64, 64]                  16,448\n",
              "├─ReLU: 1-5                              [64, 64]                  --\n",
              "├─Linear: 1-6                            [64, 10]                  650\n",
              "==========================================================================================\n",
              "Total params: 218,058\n",
              "Trainable params: 218,058\n",
              "Non-trainable params: 0\n",
              "Total mult-adds (M): 13.96\n",
              "==========================================================================================\n",
              "Input size (MB): 0.20\n",
              "Forward/backward pass size (MB): 0.17\n",
              "Params size (MB): 0.87\n",
              "Estimated Total Size (MB): 1.24\n",
              "=========================================================================================="
            ]
          },
          "metadata": {},
          "execution_count": 18
        }
      ]
    },
    {
      "cell_type": "markdown",
      "source": [
        "Training the model:\n",
        "\n",
        "In order to train the model we need to decide on a loss function and set an optimizer. For a multi-class classification, we typically use the [Cross-Entropy loss](https://pytorch.org/docs/stable/generated/torch.nn.CrossEntropyLoss.html)."
      ],
      "metadata": {
        "id": "WNTCkp7lG7AS"
      }
    },
    {
      "cell_type": "code",
      "source": [
        "criterion = nn.CrossEntropyLoss()"
      ],
      "metadata": {
        "id": "YhQ3LVsOHaEU"
      },
      "execution_count": null,
      "outputs": []
    },
    {
      "cell_type": "markdown",
      "source": [
        "Setting the Optimizer: We will use [Stochastic Gradient Descent](https://pytorch.org/docs/stable/generated/torch.optim.SGD.html) Optimizer to optimize our loss function while training. "
      ],
      "metadata": {
        "id": "F9fKREm7Lhfy"
      }
    },
    {
      "cell_type": "code",
      "source": [
        "# Learning rate - another hyperparameter\n",
        "\n",
        "lr_fcnn = 0.001\n",
        "optimizer_fcnn = optim.SGD(params=model_fcnn.parameters(), lr=lr_fcnn)"
      ],
      "metadata": {
        "id": "ouByzn70LhNO"
      },
      "execution_count": null,
      "outputs": []
    },
    {
      "cell_type": "markdown",
      "source": [
        "Training loop:"
      ],
      "metadata": {
        "id": "51bdDhOuOyyT"
      }
    },
    {
      "cell_type": "code",
      "source": [
        "num_epochs_fcnn = 10 # hyperparameter\n",
        "losses_fcnn = []\n",
        "accuracies_fcnn = []\n",
        "train_size = len(train_data)\n",
        "\n",
        "for epoch in range(num_epochs_fcnn): # Dataloader loop\n",
        "  total_loss = 0 \n",
        "  correct = 0\n",
        "  for inputs, labels in train_loader:\n",
        "    inputs = inputs.to(device) \n",
        "    labels = labels.to(device)\n",
        "    outputs = model_fcnn(inputs)\n",
        "    loss = criterion(outputs, labels)\n",
        "    preds = torch.argmax(outputs, axis=1) # Predictions from the neural network output\n",
        "    correct += (preds == labels).sum().item()\n",
        "    total_loss += loss.item() * len(labels)\n",
        "\n",
        "    # Extremely important! - to clear out gradients from previous iterations\n",
        "    optimizer_fcnn.zero_grad()\n",
        "    loss.backward()\n",
        "    optimizer_fcnn.step()\n",
        "  total_loss = total_loss / train_size\n",
        "  accuracy = correct / train_size\n",
        "  losses_fcnn.append(total_loss)\n",
        "  accuracies_fcnn.append(accuracy)\n",
        "  print(\"Epoch:\", epoch+1, \", Loss:\", round(total_loss, 4), \", Training Accuracy:\", round(accuracy, 3))"
      ],
      "metadata": {
        "colab": {
          "base_uri": "https://localhost:8080/"
        },
        "id": "_eUd6vprQgNv",
        "outputId": "f88c142a-5584-4108-fd4d-00b4a9212895"
      },
      "execution_count": null,
      "outputs": [
        {
          "output_type": "stream",
          "name": "stdout",
          "text": [
            "Epoch: 1 , Loss: 2.2349 , Training Accuracy: 0.292\n",
            "Epoch: 2 , Loss: 1.9765 , Training Accuracy: 0.634\n",
            "Epoch: 3 , Loss: 1.5028 , Training Accuracy: 0.698\n",
            "Epoch: 4 , Loss: 1.0516 , Training Accuracy: 0.768\n",
            "Epoch: 5 , Loss: 0.7887 , Training Accuracy: 0.809\n",
            "Epoch: 6 , Loss: 0.6455 , Training Accuracy: 0.833\n",
            "Epoch: 7 , Loss: 0.561 , Training Accuracy: 0.85\n",
            "Epoch: 8 , Loss: 0.5063 , Training Accuracy: 0.862\n",
            "Epoch: 9 , Loss: 0.4682 , Training Accuracy: 0.87\n",
            "Epoch: 10 , Loss: 0.4401 , Training Accuracy: 0.877\n"
          ]
        }
      ]
    },
    {
      "cell_type": "code",
      "source": [
        "plt.plot(range(1, num_epochs_fcnn + 1), losses_fcnn)\n",
        "plt.title('Learning Curve')\n",
        "plt.xlabel('Epochs')\n",
        "_= plt.ylabel('Training Loss')"
      ],
      "metadata": {
        "colab": {
          "base_uri": "https://localhost:8080/",
          "height": 472
        },
        "id": "-r6wbPchbiJD",
        "outputId": "e9e78b2d-e02c-4257-b18c-dc8138171327"
      },
      "execution_count": null,
      "outputs": [
        {
          "output_type": "display_data",
          "data": {
            "text/plain": [
              "<Figure size 640x480 with 1 Axes>"
            ],
            "image/png": "[encoded data removed]"
          },
          "metadata": {}
        }
      ]
    },
    {
      "cell_type": "code",
      "source": [
        "plt.plot(range(1, num_epochs_fcnn + 1), accuracies_fcnn)\n",
        "plt.title('Accuracy during training')\n",
        "plt.xlabel('Epochs')\n",
        "_= plt.ylabel('Training Accuracy')"
      ],
      "metadata": {
        "id": "OrLJ6UnjYlUl",
        "colab": {
          "base_uri": "https://localhost:8080/",
          "height": 472
        },
        "outputId": "91e9f00f-3879-4f30-f510-959875df1e68"
      },
      "execution_count": null,
      "outputs": [
        {
          "output_type": "display_data",
          "data": {
            "text/plain": [
              "<Figure size 640x480 with 1 Axes>"
            ],
            "image/png": "[encoded data removed]"
          },
          "metadata": {}
        }
      ]
    },
    {
      "cell_type": "code",
      "source": [
        "# Testing accuracy\n",
        "test_size = len(test_data)\n",
        "correct = 0\n",
        "\n",
        "for inputs, labels in test_loader:\n",
        "  inputs = inputs.to(device)\n",
        "  labels = labels.to(device)\n",
        "  outputs = model_fcnn(inputs)\n",
        "  preds = torch.argmax(outputs, axis=1)\n",
        "  correct += (preds == labels).sum().item()\n",
        "\n",
        "test_accuracy = correct / test_size"
      ],
      "metadata": {
        "id": "BLHKfB-tY1bk"
      },
      "execution_count": null,
      "outputs": []
    },
    {
      "cell_type": "code",
      "source": [
        "print(test_accuracy)"
      ],
      "metadata": {
        "id": "zoN-igUdZLip",
        "colab": {
          "base_uri": "https://localhost:8080/"
        },
        "outputId": "501165f4-6cc5-4a2d-82f6-a8df851c7161"
      },
      "execution_count": null,
      "outputs": [
        {
          "output_type": "stream",
          "name": "stdout",
          "text": [
            "0.8853\n"
          ]
        }
      ]
    },
    {
      "cell_type": "markdown",
      "metadata": {
        "id": "040YkbEDp4y8"
      },
      "source": [
        "\n",
        "## Convolutional Neural Networks"
      ]
    },
    {
      "cell_type": "markdown",
      "metadata": {
        "id": "XtA2ULbOBliT"
      },
      "source": [
        "Convolutional Neural Networks work by applying convolutional filters to the images. The output dimension of these layers depend on the various parameters such as filter size, padding and stride.\n",
        "\n",
        "In each dimension of the image i.e. x or y:\n",
        "\n",
        "\\begin{gather*}\n",
        "  o_{x} = \\left \\lfloor \\frac{i_{x} + 2p_{x} - f_{x}}{s_{x}} \\right \\rfloor + 1\n",
        "\\end{gather*}\n",
        "\n",
        "Similarly,\n",
        "\n",
        "\\begin{gather*}\n",
        "  o_{y} = \\left \\lfloor \\frac{i_{y} + 2p_{y} - f_{y}}{s_{y}} \\right \\rfloor + 1\n",
        "\\end{gather*}\n",
        "\n",
        "Normally, we work with odd-sized, square-shaped kernels and have the padding as well as stride to have equal values in both dimensions.\n",
        "\n",
        "The depth of the output convolutional block, i.e. number of channels is given by the number of filters used in the previous convolutional layer."
      ]
    },
    {
      "cell_type": "markdown",
      "source": [
        "## Defining a CNN model on PyTorch"
      ],
      "metadata": {
        "id": "bLh2JWUVdwQf"
      }
    },
    {
      "cell_type": "code",
      "metadata": {
        "id": "LiBQRkpap4a8"
      },
      "source": [
        "class CNN(nn.Module):\n",
        "    def __init__(self):\n",
        "        super().__init__()\n",
        "        \n",
        "        # Activation function\n",
        "        self.relu = nn.ReLU()\n",
        "\n",
        "        # Convolutional layer-1\n",
        "        self.conv1 = nn.Conv2d(in_channels=1, out_channels=16, kernel_size=5, stride=1, padding=2) # A same convolution\n",
        "        \n",
        "        # Pooling layer\n",
        "        self.maxpool = nn.MaxPool2d(2)\n",
        "\n",
        "        # Output size: 16 x 14 x 14\n",
        "\n",
        "        # Convolutional layer-2: use 32, 3x3 filters\n",
        "        self.conv2 = nn.Conv2d(16, 32, 3, stride=1, padding=1)\n",
        "\n",
        "        # Maxpool\n",
        "        # Output size: 32 x 7 x 7\n",
        "        \n",
        "        # Fully connected layers\n",
        "        self.flatten = nn.Flatten()\n",
        "        self.output = nn.Linear(32 * 7 * 7, 10)\n",
        "        \n",
        "    \n",
        "    def forward(self, x):\n",
        "        outputs = nn.Sequential(self.conv1, self.relu, self.maxpool,\n",
        "                                self.conv2, self.relu, self.maxpool,\n",
        "                                self.flatten, self.output)(x)\n",
        "        return outputs"
      ],
      "execution_count": null,
      "outputs": []
    },
    {
      "cell_type": "code",
      "source": [
        "train_data.data.shape[1:]"
      ],
      "metadata": {
        "id": "iq78Axanc1d_",
        "colab": {
          "base_uri": "https://localhost:8080/"
        },
        "outputId": "650cf2f0-0274-425d-a041-e9d1183ead6a"
      },
      "execution_count": null,
      "outputs": [
        {
          "output_type": "execute_result",
          "data": {
            "text/plain": [
              "torch.Size([28, 28])"
            ]
          },
          "metadata": {},
          "execution_count": 27
        }
      ]
    },
    {
      "cell_type": "code",
      "source": [
        "# Initialize our CNN\n",
        "cnn = CNN().to(device)\n",
        "summary(cnn, (batch, 1, 28, 28))"
      ],
      "metadata": {
        "id": "NE_a1foqbV8u",
        "colab": {
          "base_uri": "https://localhost:8080/"
        },
        "outputId": "0e3a3f45-4f7f-4270-b9b1-0ee94a97faf6"
      },
      "execution_count": null,
      "outputs": [
        {
          "output_type": "execute_result",
          "data": {
            "text/plain": [
              "==========================================================================================\n",
              "Layer (type:depth-idx)                   Output Shape              Param #\n",
              "==========================================================================================\n",
              "CNN                                      [64, 10]                  --\n",
              "├─Conv2d: 1-1                            [64, 16, 28, 28]          416\n",
              "├─ReLU: 1-2                              [64, 16, 28, 28]          --\n",
              "├─MaxPool2d: 1-3                         [64, 16, 14, 14]          --\n",
              "├─Conv2d: 1-4                            [64, 32, 14, 14]          4,640\n",
              "├─ReLU: 1-5                              [64, 32, 14, 14]          --\n",
              "├─MaxPool2d: 1-6                         [64, 32, 7, 7]            --\n",
              "├─Flatten: 1-7                           [64, 1568]                --\n",
              "├─Linear: 1-8                            [64, 10]                  15,690\n",
              "==========================================================================================\n",
              "Total params: 20,746\n",
              "Trainable params: 20,746\n",
              "Non-trainable params: 0\n",
              "Total mult-adds (M): 80.08\n",
              "==========================================================================================\n",
              "Input size (MB): 0.20\n",
              "Forward/backward pass size (MB): 9.64\n",
              "Params size (MB): 0.08\n",
              "Estimated Total Size (MB): 9.92\n",
              "=========================================================================================="
            ]
          },
          "metadata": {},
          "execution_count": 28
        }
      ]
    },
    {
      "cell_type": "markdown",
      "source": [
        "## Train the CNN"
      ],
      "metadata": {
        "id": "68lnb7k0d2qZ"
      }
    },
    {
      "cell_type": "code",
      "metadata": {
        "id": "kP664uQDV8j-"
      },
      "source": [
        "# Sending the data to device (CPU or GPU)\n",
        "lr_cnn = 1e-4\n",
        "criterion_cnn = nn.CrossEntropyLoss()\n",
        "optimizer_cnn = optim.Adam(cnn.parameters(), lr=lr_cnn)"
      ],
      "execution_count": null,
      "outputs": []
    },
    {
      "cell_type": "code",
      "source": [
        "num_epochs_fcnn = 10 # hyperparameter\n",
        "losses_cnn = []\n",
        "accuracies_cnn = []\n",
        "train_size = len(train_data)\n",
        "\n",
        "for epoch in range(num_epochs_fcnn):\n",
        "  total_loss = 0\n",
        "  correct = 0\n",
        "\n",
        "  for inputs, labels in train_loader:\n",
        "    inputs = inputs.to(device)\n",
        "    labels = labels.to(device)\n",
        "    outputs = cnn(inputs)\n",
        "    loss = criterion_cnn(outputs, labels)\n",
        "    preds = torch.argmax(outputs, axis=1)\n",
        "    correct += (preds == labels).sum().item()\n",
        "    total_loss += loss.item() * len(labels)\n",
        "\n",
        "    # Extremely important! - to clear out gradients from previous iterations\n",
        "    optimizer_cnn.zero_grad()\n",
        "    loss.backward()\n",
        "    optimizer_cnn.step()\n",
        "    \n",
        "  total_loss = total_loss / train_size\n",
        "  accuracy = correct / train_size\n",
        "  losses_cnn.append(total_loss)\n",
        "  accuracies_cnn.append(accuracy)\n",
        "  print(\"Epoch:\", epoch+1, \", Loss:\", round(total_loss, 4), \", Training Accuracy:\", round(accuracy, 3))"
      ],
      "metadata": {
        "id": "vbkcWvzqbLN7",
        "colab": {
          "base_uri": "https://localhost:8080/"
        },
        "outputId": "9665cbf5-6662-4582-8ba8-3a0cd17150a0"
      },
      "execution_count": null,
      "outputs": [
        {
          "output_type": "stream",
          "name": "stdout",
          "text": [
            "Epoch: 1 , Loss: 0.6913 , Training Accuracy: 0.843\n",
            "Epoch: 2 , Loss: 0.1911 , Training Accuracy: 0.946\n",
            "Epoch: 3 , Loss: 0.133 , Training Accuracy: 0.962\n",
            "Epoch: 4 , Loss: 0.1051 , Training Accuracy: 0.969\n",
            "Epoch: 5 , Loss: 0.0887 , Training Accuracy: 0.974\n",
            "Epoch: 6 , Loss: 0.0783 , Training Accuracy: 0.977\n",
            "Epoch: 7 , Loss: 0.0704 , Training Accuracy: 0.979\n",
            "Epoch: 8 , Loss: 0.0645 , Training Accuracy: 0.981\n",
            "Epoch: 9 , Loss: 0.0601 , Training Accuracy: 0.982\n",
            "Epoch: 10 , Loss: 0.0561 , Training Accuracy: 0.983\n"
          ]
        }
      ]
    },
    {
      "cell_type": "code",
      "source": [
        "plt.plot(losses_cnn)"
      ],
      "metadata": {
        "id": "O_W2Wc81_SG3",
        "colab": {
          "base_uri": "https://localhost:8080/",
          "height": 448
        },
        "outputId": "fc6948d2-8e5e-40ed-dc0e-cb0680a8d4f0"
      },
      "execution_count": null,
      "outputs": [
        {
          "output_type": "execute_result",
          "data": {
            "text/plain": [
              "[<matplotlib.lines.Line2D at 0x7f2af3248dc0>]"
            ]
          },
          "metadata": {},
          "execution_count": 31
        },
        {
          "output_type": "display_data",
          "data": {
            "text/plain": [
              "<Figure size 640x480 with 1 Axes>"
            ],
            "image/png": "[encoded data removed]"
          },
          "metadata": {}
        }
      ]
    },
    {
      "cell_type": "code",
      "source": [
        "plt.plot(accuracies_cnn)"
      ],
      "metadata": {
        "id": "CeiUQMP9_W3D",
        "colab": {
          "base_uri": "https://localhost:8080/",
          "height": 448
        },
        "outputId": "70c8f41f-3087-47d6-8808-13d7c7bb9c5e"
      },
      "execution_count": null,
      "outputs": [
        {
          "output_type": "execute_result",
          "data": {
            "text/plain": [
              "[<matplotlib.lines.Line2D at 0x7f2af31e9520>]"
            ]
          },
          "metadata": {},
          "execution_count": 32
        },
        {
          "output_type": "display_data",
          "data": {
            "text/plain": [
              "<Figure size 640x480 with 1 Axes>"
            ],
            "image/png": "[encoded data removed]"
          },
          "metadata": {}
        }
      ]
    },
    {
      "cell_type": "markdown",
      "source": [
        "## Calculating the Accuracy"
      ],
      "metadata": {
        "id": "sGbr7eP2fGzq"
      }
    },
    {
      "cell_type": "code",
      "metadata": {
        "id": "FVbrpBM9V_Qb"
      },
      "source": [
        "# Testing accuracy\n",
        "test_size = len(test_data)\n",
        "correct = 0\n",
        "\n",
        "for inputs, labels in test_loader:\n",
        "  inputs = inputs.to(device)\n",
        "  labels = labels.to(device)\n",
        "  outputs = cnn(inputs)\n",
        "  preds = torch.argmax(outputs, axis=1)\n",
        "  correct += (preds == labels).sum().item()\n",
        "\n",
        "test_accuracy = correct / test_size"
      ],
      "execution_count": null,
      "outputs": []
    },
    {
      "cell_type": "code",
      "source": [
        "print(test_accuracy)"
      ],
      "metadata": {
        "id": "Krc0rJf288XP",
        "colab": {
          "base_uri": "https://localhost:8080/"
        },
        "outputId": "f18fcc42-2318-4c09-cc89-dc4d79b75cd4"
      },
      "execution_count": null,
      "outputs": [
        {
          "output_type": "stream",
          "name": "stdout",
          "text": [
            "0.9848\n"
          ]
        }
      ]
    },
    {
      "cell_type": "markdown",
      "source": [
        "## Pre-defined Models in TorchVision\n",
        "\n",
        "Torchvision provides predefined model architectures such as VGG-16, Resnet34, Resnet50 etc. You can use these model architectures and train them on new data or you can even use pretrained weights to do tasks on similar data. \n",
        "\n",
        "You can also use the pretrained models as templates and tweak them for your problem. This is called as transfer learning. It is extremely useful when we have limited data but also helps train models faster.\n",
        "\n",
        "[Here](https://github.com/vsa1920/Facial-Recognition-with-Masks-using-One-shot-learning) is an example of it from my CIS-581 project, in case you are interested in learning more on how to use pretrained models and weights. "
      ],
      "metadata": {
        "id": "0_C4zYybg8Z_"
      }
    }
  ]
}