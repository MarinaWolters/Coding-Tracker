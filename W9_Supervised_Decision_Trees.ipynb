{
  "nbformat": 4,
  "nbformat_minor": 0,
  "metadata": {
    "colab": {
      "provenance": [],
      "toc_visible": true,
      "include_colab_link": true
    },
    "kernelspec": {
      "name": "python3",
      "display_name": "Python 3"
    },
    "widgets": {
      "application/vnd.jupyter.widget-state+json": {
        "ed36e01ddfb6457c8db8ac829b74065d": {
          "model_module": "@jupyter-widgets/controls",
          "model_name": "FloatProgressModel",
          "state": {
            "_view_name": "ProgressView",
            "style": "IPY_MODEL_25aafa9d63af4bd88a003c0d5347a814",
            "_dom_classes": [],
            "description": "Progress:",
            "_model_name": "FloatProgressModel",
            "bar_style": "info",
            "max": 1,
            "_view_module": "@jupyter-widgets/controls",
            "_model_module_version": "1.5.0",
            "value": 0,
            "_view_count": null,
            "_view_module_version": "1.5.0",
            "orientation": "horizontal",
            "min": 0,
            "description_tooltip": null,
            "_model_module": "@jupyter-widgets/controls",
            "layout": "IPY_MODEL_859ed314c4114a5b832ab2d8448a57e7"
          },
          "model_module_version": "1.5.0"
        },
        "25aafa9d63af4bd88a003c0d5347a814": {
          "model_module": "@jupyter-widgets/controls",
          "model_name": "ProgressStyleModel",
          "state": {
            "_view_name": "StyleView",
            "_model_name": "ProgressStyleModel",
            "description_width": "",
            "_view_module": "@jupyter-widgets/base",
            "_model_module_version": "1.5.0",
            "_view_count": null,
            "_view_module_version": "1.2.0",
            "bar_color": null,
            "_model_module": "@jupyter-widgets/controls"
          },
          "model_module_version": "1.5.0"
        },
        "859ed314c4114a5b832ab2d8448a57e7": {
          "model_module": "@jupyter-widgets/base",
          "model_name": "LayoutModel",
          "state": {
            "_view_name": "LayoutView",
            "grid_template_rows": null,
            "right": null,
            "justify_content": null,
            "_view_module": "@jupyter-widgets/base",
            "overflow": null,
            "_model_module_version": "1.2.0",
            "_view_count": null,
            "flex_flow": null,
            "width": "50%",
            "min_width": null,
            "border": null,
            "align_items": null,
            "bottom": null,
            "_model_module": "@jupyter-widgets/base",
            "top": null,
            "grid_column": null,
            "overflow_y": null,
            "overflow_x": null,
            "grid_auto_flow": null,
            "grid_area": null,
            "grid_template_columns": null,
            "flex": null,
            "_model_name": "LayoutModel",
            "justify_items": null,
            "grid_row": null,
            "max_height": null,
            "align_content": null,
            "visibility": null,
            "align_self": null,
            "height": "25px",
            "min_height": null,
            "padding": null,
            "grid_auto_rows": null,
            "grid_gap": null,
            "max_width": null,
            "order": null,
            "_view_module_version": "1.2.0",
            "grid_template_areas": null,
            "object_position": null,
            "object_fit": null,
            "grid_auto_columns": null,
            "margin": null,
            "display": null,
            "left": null
          },
          "model_module_version": "1.2.0"
        },
        "8a9b8ab3f2ac42e68be69fd2cd76c662": {
          "model_module": "@jupyter-widgets/controls",
          "model_name": "FloatProgressModel",
          "state": {
            "_view_name": "ProgressView",
            "style": "IPY_MODEL_6e6a7050687842a2a8acd2a12e1c592d",
            "_dom_classes": [],
            "description": "Progress:",
            "_model_name": "FloatProgressModel",
            "bar_style": "info",
            "max": 1,
            "_view_module": "@jupyter-widgets/controls",
            "_model_module_version": "1.5.0",
            "value": 0,
            "_view_count": null,
            "_view_module_version": "1.5.0",
            "orientation": "horizontal",
            "min": 0,
            "description_tooltip": null,
            "_model_module": "@jupyter-widgets/controls",
            "layout": "IPY_MODEL_df2de82e16a04845b9e1d2bfb85c3efa"
          },
          "model_module_version": "1.5.0"
        },
        "6e6a7050687842a2a8acd2a12e1c592d": {
          "model_module": "@jupyter-widgets/controls",
          "model_name": "ProgressStyleModel",
          "state": {
            "_view_name": "StyleView",
            "_model_name": "ProgressStyleModel",
            "description_width": "",
            "_view_module": "@jupyter-widgets/base",
            "_model_module_version": "1.5.0",
            "_view_count": null,
            "_view_module_version": "1.2.0",
            "bar_color": null,
            "_model_module": "@jupyter-widgets/controls"
          },
          "model_module_version": "1.5.0"
        },
        "df2de82e16a04845b9e1d2bfb85c3efa": {
          "model_module": "@jupyter-widgets/base",
          "model_name": "LayoutModel",
          "state": {
            "_view_name": "LayoutView",
            "grid_template_rows": null,
            "right": null,
            "justify_content": null,
            "_view_module": "@jupyter-widgets/base",
            "overflow": null,
            "_model_module_version": "1.2.0",
            "_view_count": null,
            "flex_flow": null,
            "width": "50%",
            "min_width": null,
            "border": null,
            "align_items": null,
            "bottom": null,
            "_model_module": "@jupyter-widgets/base",
            "top": null,
            "grid_column": null,
            "overflow_y": null,
            "overflow_x": null,
            "grid_auto_flow": null,
            "grid_area": null,
            "grid_template_columns": null,
            "flex": null,
            "_model_name": "LayoutModel",
            "justify_items": null,
            "grid_row": null,
            "max_height": null,
            "align_content": null,
            "visibility": null,
            "align_self": null,
            "height": "25px",
            "min_height": null,
            "padding": null,
            "grid_auto_rows": null,
            "grid_gap": null,
            "max_width": null,
            "order": null,
            "_view_module_version": "1.2.0",
            "grid_template_areas": null,
            "object_position": null,
            "object_fit": null,
            "grid_auto_columns": null,
            "margin": null,
            "display": null,
            "left": null
          },
          "model_module_version": "1.2.0"
        },
        "6d174f783b8a4f4d80b1e1135887f223": {
          "model_module": "@jupyter-widgets/controls",
          "model_name": "FloatProgressModel",
          "state": {
            "_view_name": "ProgressView",
            "style": "IPY_MODEL_afee67fb57fa46cba795b7a602f4fe74",
            "_dom_classes": [],
            "description": "Progress:",
            "_model_name": "FloatProgressModel",
            "bar_style": "info",
            "max": 1,
            "_view_module": "@jupyter-widgets/controls",
            "_model_module_version": "1.5.0",
            "value": 0.6,
            "_view_count": null,
            "_view_module_version": "1.5.0",
            "orientation": "horizontal",
            "min": 0,
            "description_tooltip": null,
            "_model_module": "@jupyter-widgets/controls",
            "layout": "IPY_MODEL_bc6067a8f6b34344b2ffc1ac321dcdab"
          },
          "model_module_version": "1.5.0"
        },
        "afee67fb57fa46cba795b7a602f4fe74": {
          "model_module": "@jupyter-widgets/controls",
          "model_name": "ProgressStyleModel",
          "state": {
            "_view_name": "StyleView",
            "_model_name": "ProgressStyleModel",
            "description_width": "",
            "_view_module": "@jupyter-widgets/base",
            "_model_module_version": "1.5.0",
            "_view_count": null,
            "_view_module_version": "1.2.0",
            "bar_color": null,
            "_model_module": "@jupyter-widgets/controls"
          },
          "model_module_version": "1.5.0"
        },
        "bc6067a8f6b34344b2ffc1ac321dcdab": {
          "model_module": "@jupyter-widgets/base",
          "model_name": "LayoutModel",
          "state": {
            "_view_name": "LayoutView",
            "grid_template_rows": null,
            "right": null,
            "justify_content": null,
            "_view_module": "@jupyter-widgets/base",
            "overflow": null,
            "_model_module_version": "1.2.0",
            "_view_count": null,
            "flex_flow": null,
            "width": "50%",
            "min_width": null,
            "border": null,
            "align_items": null,
            "bottom": null,
            "_model_module": "@jupyter-widgets/base",
            "top": null,
            "grid_column": null,
            "overflow_y": null,
            "overflow_x": null,
            "grid_auto_flow": null,
            "grid_area": null,
            "grid_template_columns": null,
            "flex": null,
            "_model_name": "LayoutModel",
            "justify_items": null,
            "grid_row": null,
            "max_height": null,
            "align_content": null,
            "visibility": null,
            "align_self": null,
            "height": "25px",
            "min_height": null,
            "padding": null,
            "grid_auto_rows": null,
            "grid_gap": null,
            "max_width": null,
            "order": null,
            "_view_module_version": "1.2.0",
            "grid_template_areas": null,
            "object_position": null,
            "object_fit": null,
            "grid_auto_columns": null,
            "margin": null,
            "display": null,
            "left": null
          },
          "model_module_version": "1.2.0"
        },
        "e4cfc873eaaf400ea2b48249955d18d2": {
          "model_module": "@jupyter-widgets/controls",
          "model_name": "FloatProgressModel",
          "state": {
            "_view_name": "ProgressView",
            "style": "IPY_MODEL_668da0c608544ad58f57b901c3975672",
            "_dom_classes": [],
            "description": "Progress:",
            "_model_name": "FloatProgressModel",
            "bar_style": "info",
            "max": 1,
            "_view_module": "@jupyter-widgets/controls",
            "_model_module_version": "1.5.0",
            "value": 0,
            "_view_count": null,
            "_view_module_version": "1.5.0",
            "orientation": "horizontal",
            "min": 0,
            "description_tooltip": null,
            "_model_module": "@jupyter-widgets/controls",
            "layout": "IPY_MODEL_0e87d70a742d4a1c9a353a0748e73c52"
          },
          "model_module_version": "1.5.0"
        },
        "668da0c608544ad58f57b901c3975672": {
          "model_module": "@jupyter-widgets/controls",
          "model_name": "ProgressStyleModel",
          "state": {
            "_view_name": "StyleView",
            "_model_name": "ProgressStyleModel",
            "description_width": "",
            "_view_module": "@jupyter-widgets/base",
            "_model_module_version": "1.5.0",
            "_view_count": null,
            "_view_module_version": "1.2.0",
            "bar_color": null,
            "_model_module": "@jupyter-widgets/controls"
          },
          "model_module_version": "1.5.0"
        },
        "0e87d70a742d4a1c9a353a0748e73c52": {
          "model_module": "@jupyter-widgets/base",
          "model_name": "LayoutModel",
          "state": {
            "_view_name": "LayoutView",
            "grid_template_rows": null,
            "right": null,
            "justify_content": null,
            "_view_module": "@jupyter-widgets/base",
            "overflow": null,
            "_model_module_version": "1.2.0",
            "_view_count": null,
            "flex_flow": null,
            "width": "50%",
            "min_width": null,
            "border": null,
            "align_items": null,
            "bottom": null,
            "_model_module": "@jupyter-widgets/base",
            "top": null,
            "grid_column": null,
            "overflow_y": null,
            "overflow_x": null,
            "grid_auto_flow": null,
            "grid_area": null,
            "grid_template_columns": null,
            "flex": null,
            "_model_name": "LayoutModel",
            "justify_items": null,
            "grid_row": null,
            "max_height": null,
            "align_content": null,
            "visibility": null,
            "align_self": null,
            "height": "25px",
            "min_height": null,
            "padding": null,
            "grid_auto_rows": null,
            "grid_gap": null,
            "max_width": null,
            "order": null,
            "_view_module_version": "1.2.0",
            "grid_template_areas": null,
            "object_position": null,
            "object_fit": null,
            "grid_auto_columns": null,
            "margin": null,
            "display": null,
            "left": null
          },
          "model_module_version": "1.2.0"
        },
        "9b71ac8fccfb4a9aba6f10d0af5ef4a5": {
          "model_module": "@jupyter-widgets/controls",
          "model_name": "FloatProgressModel",
          "state": {
            "_view_name": "ProgressView",
            "style": "IPY_MODEL_84363a74195347bb9cac731ade180146",
            "_dom_classes": [],
            "description": "Progress:",
            "_model_name": "FloatProgressModel",
            "bar_style": "info",
            "max": 1,
            "_view_module": "@jupyter-widgets/controls",
            "_model_module_version": "1.5.0",
            "value": 0.6923076923076923,
            "_view_count": null,
            "_view_module_version": "1.5.0",
            "orientation": "horizontal",
            "min": 0,
            "description_tooltip": null,
            "_model_module": "@jupyter-widgets/controls",
            "layout": "IPY_MODEL_8b089b769663490cbe06cba76089ef6a"
          },
          "model_module_version": "1.5.0"
        },
        "84363a74195347bb9cac731ade180146": {
          "model_module": "@jupyter-widgets/controls",
          "model_name": "ProgressStyleModel",
          "state": {
            "_view_name": "StyleView",
            "_model_name": "ProgressStyleModel",
            "description_width": "",
            "_view_module": "@jupyter-widgets/base",
            "_model_module_version": "1.5.0",
            "_view_count": null,
            "_view_module_version": "1.2.0",
            "bar_color": null,
            "_model_module": "@jupyter-widgets/controls"
          },
          "model_module_version": "1.5.0"
        },
        "8b089b769663490cbe06cba76089ef6a": {
          "model_module": "@jupyter-widgets/base",
          "model_name": "LayoutModel",
          "state": {
            "_view_name": "LayoutView",
            "grid_template_rows": null,
            "right": null,
            "justify_content": null,
            "_view_module": "@jupyter-widgets/base",
            "overflow": null,
            "_model_module_version": "1.2.0",
            "_view_count": null,
            "flex_flow": null,
            "width": "50%",
            "min_width": null,
            "border": null,
            "align_items": null,
            "bottom": null,
            "_model_module": "@jupyter-widgets/base",
            "top": null,
            "grid_column": null,
            "overflow_y": null,
            "overflow_x": null,
            "grid_auto_flow": null,
            "grid_area": null,
            "grid_template_columns": null,
            "flex": null,
            "_model_name": "LayoutModel",
            "justify_items": null,
            "grid_row": null,
            "max_height": null,
            "align_content": null,
            "visibility": null,
            "align_self": null,
            "height": "25px",
            "min_height": null,
            "padding": null,
            "grid_auto_rows": null,
            "grid_gap": null,
            "max_width": null,
            "order": null,
            "_view_module_version": "1.2.0",
            "grid_template_areas": null,
            "object_position": null,
            "object_fit": null,
            "grid_auto_columns": null,
            "margin": null,
            "display": null,
            "left": null
          },
          "model_module_version": "1.2.0"
        },
        "991fef179e38406e936c1a2dc8146854": {
          "model_module": "@jupyter-widgets/controls",
          "model_name": "FloatProgressModel",
          "state": {
            "_view_name": "ProgressView",
            "style": "IPY_MODEL_684e4f59bb9949ce930f8b1a4c9eadd6",
            "_dom_classes": [],
            "description": "Progress:",
            "_model_name": "FloatProgressModel",
            "bar_style": "info",
            "max": 1,
            "_view_module": "@jupyter-widgets/controls",
            "_model_module_version": "1.5.0",
            "value": 0.5,
            "_view_count": null,
            "_view_module_version": "1.5.0",
            "orientation": "horizontal",
            "min": 0,
            "description_tooltip": null,
            "_model_module": "@jupyter-widgets/controls",
            "layout": "IPY_MODEL_a9f2b31e4f344effaad35610b091be06"
          },
          "model_module_version": "1.5.0"
        },
        "684e4f59bb9949ce930f8b1a4c9eadd6": {
          "model_module": "@jupyter-widgets/controls",
          "model_name": "ProgressStyleModel",
          "state": {
            "_view_name": "StyleView",
            "_model_name": "ProgressStyleModel",
            "description_width": "",
            "_view_module": "@jupyter-widgets/base",
            "_model_module_version": "1.5.0",
            "_view_count": null,
            "_view_module_version": "1.2.0",
            "bar_color": null,
            "_model_module": "@jupyter-widgets/controls"
          },
          "model_module_version": "1.5.0"
        },
        "a9f2b31e4f344effaad35610b091be06": {
          "model_module": "@jupyter-widgets/base",
          "model_name": "LayoutModel",
          "state": {
            "_view_name": "LayoutView",
            "grid_template_rows": null,
            "right": null,
            "justify_content": null,
            "_view_module": "@jupyter-widgets/base",
            "overflow": null,
            "_model_module_version": "1.2.0",
            "_view_count": null,
            "flex_flow": null,
            "width": "50%",
            "min_width": null,
            "border": null,
            "align_items": null,
            "bottom": null,
            "_model_module": "@jupyter-widgets/base",
            "top": null,
            "grid_column": null,
            "overflow_y": null,
            "overflow_x": null,
            "grid_auto_flow": null,
            "grid_area": null,
            "grid_template_columns": null,
            "flex": null,
            "_model_name": "LayoutModel",
            "justify_items": null,
            "grid_row": null,
            "max_height": null,
            "align_content": null,
            "visibility": null,
            "align_self": null,
            "height": "25px",
            "min_height": null,
            "padding": null,
            "grid_auto_rows": null,
            "grid_gap": null,
            "max_width": null,
            "order": null,
            "_view_module_version": "1.2.0",
            "grid_template_areas": null,
            "object_position": null,
            "object_fit": null,
            "grid_auto_columns": null,
            "margin": null,
            "display": null,
            "left": null
          },
          "model_module_version": "1.2.0"
        }
      }
    }
  },
  "cells": [
    {
      "cell_type": "markdown",
      "metadata": {
        "id": "view-in-github",
        "colab_type": "text"
      },
      "source": [
        "<a href=\"https://colab.research.google.com/github/MarinaWolters/Coding-Tracker/blob/master/W9_Supervised_Decision_Trees.ipynb\" target=\"_parent\"><img src=\"https://colab.research.google.com/assets/colab-badge.svg\" alt=\"Open In Colab\"/></a>"
      ]
    },
    {
      "cell_type": "markdown",
      "metadata": {
        "id": "Wp7qRQdWL5tZ"
      },
      "source": [
        "# 3. Supervised Machine Learning\n",
        "\n",
        "We'll next consider **supervised** machine learning, which learns a function from input features to output classes."
      ]
    },
    {
      "cell_type": "markdown",
      "metadata": {
        "id": "TLXmyJoNbPtl"
      },
      "source": [
        "## 3.1 Classification via Decision Trees\n",
        "\n",
        "We will start with perhaps the simplest (certainly, most explainable) classification algorithm, the *decision tree*.  We'll begin with a very simple example from the slides."
      ]
    },
    {
      "cell_type": "code",
      "metadata": {
        "id": "s16D32x5NEs9",
        "outputId": "e065a616-0c4f-46e8-e45f-bae836b9c855",
        "colab": {
          "base_uri": "https://localhost:8080/",
          "height": 333
        }
      },
      "source": [
        "from sklearn import tree\n",
        "import numpy\n",
        "\n",
        "# Here's a simple example...  We have 4\n",
        "# features to predict whether someone is\n",
        "# going to buy a pet.\n",
        "X = numpy.array(\\\n",
        "                [[1,0,0,0],\\\n",
        "                 [0,1,1,1],\\\n",
        "                 [0,1,0,0],\\\n",
        "                 [0,0,0,1],\\\n",
        "                 [1,1,0,0]])\n",
        "# Here is whether they bought the toy\n",
        "y = [1,1,0,0,1]\n",
        "\n",
        "clf = tree.DecisionTreeClassifier(criterion=\"entropy\")\n",
        "clf = clf.fit(X, y)\n",
        "\n",
        "tree.plot_tree(clf)\n"
      ],
      "execution_count": null,
      "outputs": [
        {
          "output_type": "execute_result",
          "data": {
            "text/plain": [
              "[Text(200.88000000000002, 181.2, 'X[0] <= 0.5\\nentropy = 0.971\\nsamples = 5\\nvalue = [2, 3]'),\n",
              " Text(133.92000000000002, 108.72, 'X[2] <= 0.5\\nentropy = 0.918\\nsamples = 3\\nvalue = [2, 1]'),\n",
              " Text(66.96000000000001, 36.23999999999998, 'entropy = 0.0\\nsamples = 2\\nvalue = [2, 0]'),\n",
              " Text(200.88000000000002, 36.23999999999998, 'entropy = 0.0\\nsamples = 1\\nvalue = [0, 1]'),\n",
              " Text(267.84000000000003, 108.72, 'entropy = 0.0\\nsamples = 2\\nvalue = [0, 2]')]"
            ]
          },
          "metadata": {
            "tags": []
          },
          "execution_count": 1
        },
        {
          "output_type": "display_data",
          "data": {
            "image/png": "[encoded data removed]",
            "text/plain": [
              "<Figure size 432x288 with 1 Axes>"
            ]
          },
          "metadata": {
            "tags": []
          }
        }
      ]
    },
    {
      "cell_type": "markdown",
      "metadata": {
        "id": "uNh-0kBubXkW"
      },
      "source": [
        "### 3.1.1 Entropy\n",
        "\n",
        "A common way of measuring the *information gain* when considering a split is through the notion of *entropy*.\n",
        "\n",
        "Let's start with an example -- suppose we are trying to predict which students like statistics..."
      ]
    },
    {
      "cell_type": "code",
      "metadata": {
        "id": "30g9FPz3b_D8",
        "outputId": "24e9dd31-bbf7-408a-ab3d-25be724d8aaf",
        "colab": {
          "base_uri": "https://localhost:8080/",
          "height": 297
        }
      },
      "source": [
        "import pandas as pd\n",
        "\n",
        "input_data = pd.DataFrame([{'major': 'math','likes_stats': False},\\\n",
        "                           {'major': 'math','likes_stats': False},\\\n",
        "                           {'major': 'math','likes_stats': True},\\\n",
        "                           {'major': 'math','likes_stats': True},\\\n",
        "                           {'major': 'engl','likes_stats': False},\\\n",
        "                           {'major': 'stat','likes_stats': True},\\\n",
        "                           {'major': 'stat','likes_stats': True},\\\n",
        "                           {'major': 'engl','likes_stats': False},\\\n",
        "                           ])\n",
        "\n",
        "input_data"
      ],
      "execution_count": null,
      "outputs": [
        {
          "output_type": "execute_result",
          "data": {
            "text/html": [
              "<div>\n",
              "<style scoped>\n",
              "    .dataframe tbody tr th:only-of-type {\n",
              "        vertical-align: middle;\n",
              "    }\n",
              "\n",
              "    .dataframe tbody tr th {\n",
              "        vertical-align: top;\n",
              "    }\n",
              "\n",
              "    .dataframe thead th {\n",
              "        text-align: right;\n",
              "    }\n",
              "</style>\n",
              "<table border=\"1\" class=\"dataframe\">\n",
              "  <thead>\n",
              "    <tr style=\"text-align: right;\">\n",
              "      <th></th>\n",
              "      <th>major</th>\n",
              "      <th>likes_stats</th>\n",
              "    </tr>\n",
              "  </thead>\n",
              "  <tbody>\n",
              "    <tr>\n",
              "      <th>0</th>\n",
              "      <td>math</td>\n",
              "      <td>False</td>\n",
              "    </tr>\n",
              "    <tr>\n",
              "      <th>1</th>\n",
              "      <td>math</td>\n",
              "      <td>False</td>\n",
              "    </tr>\n",
              "    <tr>\n",
              "      <th>2</th>\n",
              "      <td>math</td>\n",
              "      <td>True</td>\n",
              "    </tr>\n",
              "    <tr>\n",
              "      <th>3</th>\n",
              "      <td>math</td>\n",
              "      <td>True</td>\n",
              "    </tr>\n",
              "    <tr>\n",
              "      <th>4</th>\n",
              "      <td>engl</td>\n",
              "      <td>False</td>\n",
              "    </tr>\n",
              "    <tr>\n",
              "      <th>5</th>\n",
              "      <td>stat</td>\n",
              "      <td>True</td>\n",
              "    </tr>\n",
              "    <tr>\n",
              "      <th>6</th>\n",
              "      <td>stat</td>\n",
              "      <td>True</td>\n",
              "    </tr>\n",
              "    <tr>\n",
              "      <th>7</th>\n",
              "      <td>engl</td>\n",
              "      <td>False</td>\n",
              "    </tr>\n",
              "  </tbody>\n",
              "</table>\n",
              "</div>"
            ],
            "text/plain": [
              "  major  likes_stats\n",
              "0  math        False\n",
              "1  math        False\n",
              "2  math         True\n",
              "3  math         True\n",
              "4  engl        False\n",
              "5  stat         True\n",
              "6  stat         True\n",
              "7  engl        False"
            ]
          },
          "metadata": {
            "tags": []
          },
          "execution_count": 2
        }
      ]
    },
    {
      "cell_type": "code",
      "metadata": {
        "id": "g4t8mt1HcS1w",
        "outputId": "963dfd42-bb8b-4da4-aed4-0ae8c06247dc",
        "colab": {
          "base_uri": "https://localhost:8080/",
          "height": 85
        }
      },
      "source": [
        "from math import log2\n",
        "\n",
        "def prob(term):\n",
        "  return len(input_data[input_data['major']==term])/len(input_data)\n",
        "\n",
        "# Here's how to compute the entropy for the dataset\n",
        "majors = set(input_data['major'])\n",
        "probs = {}\n",
        "for major in majors:\n",
        "  probs[major] = prob(major)\n",
        "\n",
        "print (probs)\n",
        "\n",
        "entropy_major = -sum([p * log2(p) for p in probs.values()])\n",
        "print('Entropy of major: %.2f'%entropy_major)\n",
        "\n",
        "### Here's built-in Python support...\n",
        "from scipy.stats import entropy\n",
        "\n",
        "print ('Entropy of likes_stats: %0.2f'%entropy(\\\n",
        "    [len(input_data[input_data['likes_stats']==True])/len(input_data),\n",
        "     len(input_data[input_data['likes_stats']==False])/len(input_data)],base=2))"
      ],
      "execution_count": null,
      "outputs": [
        {
          "output_type": "stream",
          "text": [
            "{'engl': 0.25, 'stat': 0.25, 'math': 0.5}\n",
            "Entropy of major: 1.50\n",
            "Entropy of major: 1.50\n",
            "Entropy of likes_stats: 1.00\n"
          ],
          "name": "stdout"
        }
      ]
    },
    {
      "cell_type": "markdown",
      "metadata": {
        "id": "F9T3_9tNenUi"
      },
      "source": [
        "Now let's consider *conditional entropy*... Specifically, the entropy of whether someone likes stats, given their major."
      ]
    },
    {
      "cell_type": "code",
      "metadata": {
        "id": "VCBjFBHDfCoc",
        "outputId": "830778d5-8e29-40a9-c1cf-4f1954129d99",
        "colab": {
          "base_uri": "https://localhost:8080/",
          "height": 85
        }
      },
      "source": [
        "def get_subset_likes_stats(term):\n",
        "  subset = input_data[input_data['major']==term]['likes_stats']\n",
        "  return [sum(subset==False)/len(subset), sum(subset==True)/len(subset)]\n",
        "\n",
        "subsets = {}\n",
        "for major in majors:\n",
        "  subsets[major] = get_subset_likes_stats(major)\n",
        "  print(probs[major],'* entropy(',subsets[major],')')\n",
        "\n",
        "entropy_likes_stats_given_major = sum([probs[major] * \\\n",
        "                                       entropy(subsets[major],base=2) \\\n",
        "                                        for major in probs.keys()])\n",
        "\n",
        "entropy_likes_stats_given_major"
      ],
      "execution_count": null,
      "outputs": [
        {
          "output_type": "stream",
          "text": [
            "0.25 * entropy( [1.0, 0.0] )\n",
            "0.25 * entropy( [0.0, 1.0] )\n",
            "0.5 * entropy( [0.5, 0.5] )\n"
          ],
          "name": "stdout"
        },
        {
          "output_type": "execute_result",
          "data": {
            "text/plain": [
              "0.5"
            ]
          },
          "metadata": {
            "tags": []
          },
          "execution_count": 4
        }
      ]
    },
    {
      "cell_type": "markdown",
      "metadata": {
        "id": "5cNtbCqQHgRD"
      },
      "source": [
        "Conditional entropy is ultimately useful for measuring information gain, e.g., the Information Gain $IG(likes\\_stats | major)$ is equal to $H(likes\\_stats) - H(likes\\_stats|major)$, which is equal to $1.0 - 0.5$."
      ]
    },
    {
      "cell_type": "markdown",
      "metadata": {
        "id": "qLN5F2BlbNjH"
      },
      "source": [
        "### 3.1.2 Decision Trees for Real Data"
      ]
    },
    {
      "cell_type": "code",
      "metadata": {
        "id": "otWb6CKmkrxQ",
        "outputId": "a8043dc5-0d75-461f-c5d2-bf6e66df77e0",
        "colab": {
          "base_uri": "https://localhost:8080/",
          "height": 238
        }
      },
      "source": [
        "from sklearn.datasets import load_wine\n",
        "\n",
        "dataset = load_wine()\n",
        "dataset.feature_names"
      ],
      "execution_count": null,
      "outputs": [
        {
          "output_type": "execute_result",
          "data": {
            "text/plain": [
              "['alcohol',\n",
              " 'malic_acid',\n",
              " 'ash',\n",
              " 'alcalinity_of_ash',\n",
              " 'magnesium',\n",
              " 'total_phenols',\n",
              " 'flavanoids',\n",
              " 'nonflavanoid_phenols',\n",
              " 'proanthocyanins',\n",
              " 'color_intensity',\n",
              " 'hue',\n",
              " 'od280/od315_of_diluted_wines',\n",
              " 'proline']"
            ]
          },
          "metadata": {
            "tags": []
          },
          "execution_count": 5
        }
      ]
    },
    {
      "cell_type": "code",
      "metadata": {
        "id": "JVy-3klbJRiW",
        "outputId": "3de41e2c-ac49-48f3-f943-94a975b51025",
        "colab": {
          "base_uri": "https://localhost:8080/",
          "height": 439
        }
      },
      "source": [
        "# Here is the table as a dataframe\n",
        "pd.DataFrame(dataset.data,columns=dataset.feature_names)"
      ],
      "execution_count": null,
      "outputs": [
        {
          "output_type": "execute_result",
          "data": {
            "text/html": [
              "<div>\n",
              "<style scoped>\n",
              "    .dataframe tbody tr th:only-of-type {\n",
              "        vertical-align: middle;\n",
              "    }\n",
              "\n",
              "    .dataframe tbody tr th {\n",
              "        vertical-align: top;\n",
              "    }\n",
              "\n",
              "    .dataframe thead th {\n",
              "        text-align: right;\n",
              "    }\n",
              "</style>\n",
              "<table border=\"1\" class=\"dataframe\">\n",
              "  <thead>\n",
              "    <tr style=\"text-align: right;\">\n",
              "      <th></th>\n",
              "      <th>alcohol</th>\n",
              "      <th>malic_acid</th>\n",
              "      <th>ash</th>\n",
              "      <th>alcalinity_of_ash</th>\n",
              "      <th>magnesium</th>\n",
              "      <th>total_phenols</th>\n",
              "      <th>flavanoids</th>\n",
              "      <th>nonflavanoid_phenols</th>\n",
              "      <th>proanthocyanins</th>\n",
              "      <th>color_intensity</th>\n",
              "      <th>hue</th>\n",
              "      <th>od280/od315_of_diluted_wines</th>\n",
              "      <th>proline</th>\n",
              "    </tr>\n",
              "  </thead>\n",
              "  <tbody>\n",
              "    <tr>\n",
              "      <th>0</th>\n",
              "      <td>14.23</td>\n",
              "      <td>1.71</td>\n",
              "      <td>2.43</td>\n",
              "      <td>15.6</td>\n",
              "      <td>127.0</td>\n",
              "      <td>2.80</td>\n",
              "      <td>3.06</td>\n",
              "      <td>0.28</td>\n",
              "      <td>2.29</td>\n",
              "      <td>5.64</td>\n",
              "      <td>1.04</td>\n",
              "      <td>3.92</td>\n",
              "      <td>1065.0</td>\n",
              "    </tr>\n",
              "    <tr>\n",
              "      <th>1</th>\n",
              "      <td>13.20</td>\n",
              "      <td>1.78</td>\n",
              "      <td>2.14</td>\n",
              "      <td>11.2</td>\n",
              "      <td>100.0</td>\n",
              "      <td>2.65</td>\n",
              "      <td>2.76</td>\n",
              "      <td>0.26</td>\n",
              "      <td>1.28</td>\n",
              "      <td>4.38</td>\n",
              "      <td>1.05</td>\n",
              "      <td>3.40</td>\n",
              "      <td>1050.0</td>\n",
              "    </tr>\n",
              "    <tr>\n",
              "      <th>2</th>\n",
              "      <td>13.16</td>\n",
              "      <td>2.36</td>\n",
              "      <td>2.67</td>\n",
              "      <td>18.6</td>\n",
              "      <td>101.0</td>\n",
              "      <td>2.80</td>\n",
              "      <td>3.24</td>\n",
              "      <td>0.30</td>\n",
              "      <td>2.81</td>\n",
              "      <td>5.68</td>\n",
              "      <td>1.03</td>\n",
              "      <td>3.17</td>\n",
              "      <td>1185.0</td>\n",
              "    </tr>\n",
              "    <tr>\n",
              "      <th>3</th>\n",
              "      <td>14.37</td>\n",
              "      <td>1.95</td>\n",
              "      <td>2.50</td>\n",
              "      <td>16.8</td>\n",
              "      <td>113.0</td>\n",
              "      <td>3.85</td>\n",
              "      <td>3.49</td>\n",
              "      <td>0.24</td>\n",
              "      <td>2.18</td>\n",
              "      <td>7.80</td>\n",
              "      <td>0.86</td>\n",
              "      <td>3.45</td>\n",
              "      <td>1480.0</td>\n",
              "    </tr>\n",
              "    <tr>\n",
              "      <th>4</th>\n",
              "      <td>13.24</td>\n",
              "      <td>2.59</td>\n",
              "      <td>2.87</td>\n",
              "      <td>21.0</td>\n",
              "      <td>118.0</td>\n",
              "      <td>2.80</td>\n",
              "      <td>2.69</td>\n",
              "      <td>0.39</td>\n",
              "      <td>1.82</td>\n",
              "      <td>4.32</td>\n",
              "      <td>1.04</td>\n",
              "      <td>2.93</td>\n",
              "      <td>735.0</td>\n",
              "    </tr>\n",
              "    <tr>\n",
              "      <th>...</th>\n",
              "      <td>...</td>\n",
              "      <td>...</td>\n",
              "      <td>...</td>\n",
              "      <td>...</td>\n",
              "      <td>...</td>\n",
              "      <td>...</td>\n",
              "      <td>...</td>\n",
              "      <td>...</td>\n",
              "      <td>...</td>\n",
              "      <td>...</td>\n",
              "      <td>...</td>\n",
              "      <td>...</td>\n",
              "      <td>...</td>\n",
              "    </tr>\n",
              "    <tr>\n",
              "      <th>173</th>\n",
              "      <td>13.71</td>\n",
              "      <td>5.65</td>\n",
              "      <td>2.45</td>\n",
              "      <td>20.5</td>\n",
              "      <td>95.0</td>\n",
              "      <td>1.68</td>\n",
              "      <td>0.61</td>\n",
              "      <td>0.52</td>\n",
              "      <td>1.06</td>\n",
              "      <td>7.70</td>\n",
              "      <td>0.64</td>\n",
              "      <td>1.74</td>\n",
              "      <td>740.0</td>\n",
              "    </tr>\n",
              "    <tr>\n",
              "      <th>174</th>\n",
              "      <td>13.40</td>\n",
              "      <td>3.91</td>\n",
              "      <td>2.48</td>\n",
              "      <td>23.0</td>\n",
              "      <td>102.0</td>\n",
              "      <td>1.80</td>\n",
              "      <td>0.75</td>\n",
              "      <td>0.43</td>\n",
              "      <td>1.41</td>\n",
              "      <td>7.30</td>\n",
              "      <td>0.70</td>\n",
              "      <td>1.56</td>\n",
              "      <td>750.0</td>\n",
              "    </tr>\n",
              "    <tr>\n",
              "      <th>175</th>\n",
              "      <td>13.27</td>\n",
              "      <td>4.28</td>\n",
              "      <td>2.26</td>\n",
              "      <td>20.0</td>\n",
              "      <td>120.0</td>\n",
              "      <td>1.59</td>\n",
              "      <td>0.69</td>\n",
              "      <td>0.43</td>\n",
              "      <td>1.35</td>\n",
              "      <td>10.20</td>\n",
              "      <td>0.59</td>\n",
              "      <td>1.56</td>\n",
              "      <td>835.0</td>\n",
              "    </tr>\n",
              "    <tr>\n",
              "      <th>176</th>\n",
              "      <td>13.17</td>\n",
              "      <td>2.59</td>\n",
              "      <td>2.37</td>\n",
              "      <td>20.0</td>\n",
              "      <td>120.0</td>\n",
              "      <td>1.65</td>\n",
              "      <td>0.68</td>\n",
              "      <td>0.53</td>\n",
              "      <td>1.46</td>\n",
              "      <td>9.30</td>\n",
              "      <td>0.60</td>\n",
              "      <td>1.62</td>\n",
              "      <td>840.0</td>\n",
              "    </tr>\n",
              "    <tr>\n",
              "      <th>177</th>\n",
              "      <td>14.13</td>\n",
              "      <td>4.10</td>\n",
              "      <td>2.74</td>\n",
              "      <td>24.5</td>\n",
              "      <td>96.0</td>\n",
              "      <td>2.05</td>\n",
              "      <td>0.76</td>\n",
              "      <td>0.56</td>\n",
              "      <td>1.35</td>\n",
              "      <td>9.20</td>\n",
              "      <td>0.61</td>\n",
              "      <td>1.60</td>\n",
              "      <td>560.0</td>\n",
              "    </tr>\n",
              "  </tbody>\n",
              "</table>\n",
              "<p>178 rows × 13 columns</p>\n",
              "</div>"
            ],
            "text/plain": [
              "     alcohol  malic_acid   ash  ...   hue  od280/od315_of_diluted_wines  proline\n",
              "0      14.23        1.71  2.43  ...  1.04                          3.92   1065.0\n",
              "1      13.20        1.78  2.14  ...  1.05                          3.40   1050.0\n",
              "2      13.16        2.36  2.67  ...  1.03                          3.17   1185.0\n",
              "3      14.37        1.95  2.50  ...  0.86                          3.45   1480.0\n",
              "4      13.24        2.59  2.87  ...  1.04                          2.93    735.0\n",
              "..       ...         ...   ...  ...   ...                           ...      ...\n",
              "173    13.71        5.65  2.45  ...  0.64                          1.74    740.0\n",
              "174    13.40        3.91  2.48  ...  0.70                          1.56    750.0\n",
              "175    13.27        4.28  2.26  ...  0.59                          1.56    835.0\n",
              "176    13.17        2.59  2.37  ...  0.60                          1.62    840.0\n",
              "177    14.13        4.10  2.74  ...  0.61                          1.60    560.0\n",
              "\n",
              "[178 rows x 13 columns]"
            ]
          },
          "metadata": {
            "tags": []
          },
          "execution_count": 6
        }
      ]
    },
    {
      "cell_type": "code",
      "metadata": {
        "id": "s9TpGI5RMcYl",
        "outputId": "56cdad0b-89b6-4bfc-ae98-a32be6f71b4c",
        "colab": {
          "base_uri": "https://localhost:8080/",
          "height": 170
        }
      },
      "source": [
        "# These are the y vector -- the target class (0, 1, 2)\n",
        "dataset.target"
      ],
      "execution_count": null,
      "outputs": [
        {
          "output_type": "execute_result",
          "data": {
            "text/plain": [
              "array([0, 0, 0, 0, 0, 0, 0, 0, 0, 0, 0, 0, 0, 0, 0, 0, 0, 0, 0, 0, 0, 0,\n",
              "       0, 0, 0, 0, 0, 0, 0, 0, 0, 0, 0, 0, 0, 0, 0, 0, 0, 0, 0, 0, 0, 0,\n",
              "       0, 0, 0, 0, 0, 0, 0, 0, 0, 0, 0, 0, 0, 0, 0, 1, 1, 1, 1, 1, 1, 1,\n",
              "       1, 1, 1, 1, 1, 1, 1, 1, 1, 1, 1, 1, 1, 1, 1, 1, 1, 1, 1, 1, 1, 1,\n",
              "       1, 1, 1, 1, 1, 1, 1, 1, 1, 1, 1, 1, 1, 1, 1, 1, 1, 1, 1, 1, 1, 1,\n",
              "       1, 1, 1, 1, 1, 1, 1, 1, 1, 1, 1, 1, 1, 1, 1, 1, 1, 1, 1, 1, 2, 2,\n",
              "       2, 2, 2, 2, 2, 2, 2, 2, 2, 2, 2, 2, 2, 2, 2, 2, 2, 2, 2, 2, 2, 2,\n",
              "       2, 2, 2, 2, 2, 2, 2, 2, 2, 2, 2, 2, 2, 2, 2, 2, 2, 2, 2, 2, 2, 2,\n",
              "       2, 2])"
            ]
          },
          "metadata": {
            "tags": []
          },
          "execution_count": 7
        }
      ]
    },
    {
      "cell_type": "code",
      "metadata": {
        "id": "bU-HDu92njet"
      },
      "source": [
        "from sklearn.model_selection import train_test_split\n",
        "import sklearn.metrics\n",
        "\n",
        "X_train, X_test, y_train, y_test = train_test_split(dataset.data, \\\n",
        "                                                    dataset.target, \\\n",
        "                                                    test_size=0.30)\n"
      ],
      "execution_count": null,
      "outputs": []
    },
    {
      "cell_type": "code",
      "metadata": {
        "id": "hSmdPqqwXmYO",
        "outputId": "5920b860-0c04-4de9-8d79-8d95b23373bc",
        "colab": {
          "base_uri": "https://localhost:8080/",
          "height": 34
        }
      },
      "source": [
        "# Training step, on X_train with y_train\n",
        "clf = tree.DecisionTreeClassifier(criterion=\"entropy\")\n",
        "clf = clf.fit(X_train,y_train)\n",
        "\n",
        "# Prediction step, with X_test (and we will validate accuracy\n",
        "# against y_test)\n",
        "prediction = clf.predict(X_test)\n",
        "\n",
        "# Test accuracy, ie Jaccard distance of matched items\n",
        "accuracy = sklearn.metrics.accuracy_score(prediction,y_test)\n",
        "print(\"Accuracy: %.1f%%\"% (accuracy*100))"
      ],
      "execution_count": null,
      "outputs": [
        {
          "output_type": "stream",
          "text": [
            "Accuracy: 90.7%\n"
          ],
          "name": "stdout"
        }
      ]
    },
    {
      "cell_type": "code",
      "metadata": {
        "id": "L43IAZ54Yd17",
        "outputId": "7c426abb-bfb7-4911-dc00-3e7d46d05f84",
        "colab": {
          "base_uri": "https://localhost:8080/",
          "height": 987
        }
      },
      "source": [
        "from matplotlib import pyplot as plt\n",
        "\n",
        "plt.figure(dpi=400)\n",
        "tree.plot_tree(clf)"
      ],
      "execution_count": null,
      "outputs": [
        {
          "output_type": "execute_result",
          "data": {
            "text/plain": [
              "[Text(845.4545454545455, 1087.2, 'X[11] <= 2.09\\nentropy = 1.563\\nsamples = 124\\nvalue = [43, 49, 32]'),\n",
              " Text(507.27272727272725, 845.6, 'X[6] <= 1.4\\nentropy = 0.503\\nsamples = 36\\nvalue = [0, 4, 32]'),\n",
              " Text(338.1818181818182, 604.0, 'X[9] <= 3.525\\nentropy = 0.196\\nsamples = 33\\nvalue = [0, 1, 32]'),\n",
              " Text(169.0909090909091, 362.4, 'entropy = 0.0\\nsamples = 1\\nvalue = [0, 1, 0]'),\n",
              " Text(507.27272727272725, 362.4, 'entropy = 0.0\\nsamples = 32\\nvalue = [0, 0, 32]'),\n",
              " Text(676.3636363636364, 604.0, 'entropy = 0.0\\nsamples = 3\\nvalue = [0, 3, 0]'),\n",
              " Text(1183.6363636363637, 845.6, 'X[0] <= 12.81\\nentropy = 1.0\\nsamples = 88\\nvalue = [43, 45, 0]'),\n",
              " Text(1014.5454545454545, 604.0, 'entropy = 0.0\\nsamples = 41\\nvalue = [0, 41, 0]'),\n",
              " Text(1352.7272727272727, 604.0, 'X[12] <= 655.0\\nentropy = 0.42\\nsamples = 47\\nvalue = [43, 4, 0]'),\n",
              " Text(1183.6363636363637, 362.4, 'entropy = 0.0\\nsamples = 3\\nvalue = [0, 3, 0]'),\n",
              " Text(1521.8181818181818, 362.4, 'X[10] <= 1.295\\nentropy = 0.156\\nsamples = 44\\nvalue = [43, 1, 0]'),\n",
              " Text(1352.7272727272727, 120.79999999999995, 'entropy = 0.0\\nsamples = 43\\nvalue = [43, 0, 0]'),\n",
              " Text(1690.909090909091, 120.79999999999995, 'entropy = 0.0\\nsamples = 1\\nvalue = [0, 1, 0]')]"
            ]
          },
          "metadata": {
            "tags": []
          },
          "execution_count": 64
        },
        {
          "output_type": "display_data",
          "data": {
            "image/png": "[encoded data removed]",
            "text/plain": [
              "<Figure size 2400x1600 with 1 Axes>"
            ]
          },
          "metadata": {
            "tags": []
          }
        }
      ]
    },
    {
      "cell_type": "markdown",
      "metadata": {
        "id": "UJYTJS5ORxjd"
      },
      "source": [
        "### 3.1.3 Decision Trees at Scale: Spark MLLib\n",
        "\n",
        "Now let's see how to use the MLlib library to train a classifier."
      ]
    },
    {
      "cell_type": "code",
      "metadata": {
        "id": "FNyRVD33wz22",
        "outputId": "271d783b-98ec-46cf-8ea4-8f9a99e82d47",
        "colab": {
          "base_uri": "https://localhost:8080/",
          "height": 1000
        }
      },
      "source": [
        "!apt install libkrb5-dev\n",
        "!pip install sparkmagic"
      ],
      "execution_count": null,
      "outputs": [
        {
          "output_type": "stream",
          "text": [
            "Reading package lists... Done\n",
            "Building dependency tree       \n",
            "Reading state information... Done\n",
            "The following additional packages will be installed:\n",
            "  comerr-dev krb5-multidev libcom-err2 libgssrpc4 libkadm5clnt-mit11\n",
            "  libkadm5srv-mit11 libkdb5-9\n",
            "Suggested packages:\n",
            "  doc-base krb5-doc krb5-user\n",
            "The following NEW packages will be installed:\n",
            "  comerr-dev krb5-multidev libgssrpc4 libkadm5clnt-mit11 libkadm5srv-mit11\n",
            "  libkdb5-9 libkrb5-dev\n",
            "The following packages will be upgraded:\n",
            "  libcom-err2\n",
            "1 upgraded, 7 newly installed, 0 to remove and 24 not upgraded.\n",
            "Need to get 358 kB of archives.\n",
            "After this operation, 1,992 kB of additional disk space will be used.\n",
            "Get:1 http://archive.ubuntu.com/ubuntu bionic-updates/main amd64 libcom-err2 amd64 1.44.1-1ubuntu1.3 [8,848 B]\n",
            "Get:2 http://archive.ubuntu.com/ubuntu bionic-updates/main amd64 libgssrpc4 amd64 1.16-2ubuntu0.1 [54.2 kB]\n",
            "Get:3 http://archive.ubuntu.com/ubuntu bionic-updates/main amd64 libkdb5-9 amd64 1.16-2ubuntu0.1 [37.2 kB]\n",
            "Get:4 http://archive.ubuntu.com/ubuntu bionic-updates/main amd64 libkadm5srv-mit11 amd64 1.16-2ubuntu0.1 [49.7 kB]\n",
            "Get:5 http://archive.ubuntu.com/ubuntu bionic-updates/main amd64 libkadm5clnt-mit11 amd64 1.16-2ubuntu0.1 [38.2 kB]\n",
            "Get:6 http://archive.ubuntu.com/ubuntu bionic-updates/main amd64 comerr-dev amd64 2.1-1.44.1-1ubuntu1.3 [38.5 kB]\n",
            "Get:7 http://archive.ubuntu.com/ubuntu bionic-updates/main amd64 krb5-multidev amd64 1.16-2ubuntu0.1 [120 kB]\n",
            "Get:8 http://archive.ubuntu.com/ubuntu bionic-updates/main amd64 libkrb5-dev amd64 1.16-2ubuntu0.1 [11.8 kB]\n",
            "Fetched 358 kB in 2s (170 kB/s)\n",
            "(Reading database ... 133872 files and directories currently installed.)\n",
            "Preparing to unpack .../libcom-err2_1.44.1-1ubuntu1.3_amd64.deb ...\n",
            "Unpacking libcom-err2:amd64 (1.44.1-1ubuntu1.3) over (1.44.1-1ubuntu1.2) ...\n",
            "Setting up libcom-err2:amd64 (1.44.1-1ubuntu1.3) ...\n",
            "Selecting previously unselected package libgssrpc4:amd64.\n",
            "(Reading database ... 133872 files and directories currently installed.)\n",
            "Preparing to unpack .../0-libgssrpc4_1.16-2ubuntu0.1_amd64.deb ...\n",
            "Unpacking libgssrpc4:amd64 (1.16-2ubuntu0.1) ...\n",
            "Selecting previously unselected package libkdb5-9:amd64.\n",
            "Preparing to unpack .../1-libkdb5-9_1.16-2ubuntu0.1_amd64.deb ...\n",
            "Unpacking libkdb5-9:amd64 (1.16-2ubuntu0.1) ...\n",
            "Selecting previously unselected package libkadm5srv-mit11:amd64.\n",
            "Preparing to unpack .../2-libkadm5srv-mit11_1.16-2ubuntu0.1_amd64.deb ...\n",
            "Unpacking libkadm5srv-mit11:amd64 (1.16-2ubuntu0.1) ...\n",
            "Selecting previously unselected package libkadm5clnt-mit11:amd64.\n",
            "Preparing to unpack .../3-libkadm5clnt-mit11_1.16-2ubuntu0.1_amd64.deb ...\n",
            "Unpacking libkadm5clnt-mit11:amd64 (1.16-2ubuntu0.1) ...\n",
            "Selecting previously unselected package comerr-dev:amd64.\n",
            "Preparing to unpack .../4-comerr-dev_2.1-1.44.1-1ubuntu1.3_amd64.deb ...\n",
            "Unpacking comerr-dev:amd64 (2.1-1.44.1-1ubuntu1.3) ...\n",
            "Selecting previously unselected package krb5-multidev:amd64.\n",
            "Preparing to unpack .../5-krb5-multidev_1.16-2ubuntu0.1_amd64.deb ...\n",
            "Unpacking krb5-multidev:amd64 (1.16-2ubuntu0.1) ...\n",
            "Selecting previously unselected package libkrb5-dev:amd64.\n",
            "Preparing to unpack .../6-libkrb5-dev_1.16-2ubuntu0.1_amd64.deb ...\n",
            "Unpacking libkrb5-dev:amd64 (1.16-2ubuntu0.1) ...\n",
            "Setting up libgssrpc4:amd64 (1.16-2ubuntu0.1) ...\n",
            "Setting up comerr-dev:amd64 (2.1-1.44.1-1ubuntu1.3) ...\n",
            "Setting up libkdb5-9:amd64 (1.16-2ubuntu0.1) ...\n",
            "Setting up libkadm5srv-mit11:amd64 (1.16-2ubuntu0.1) ...\n",
            "Setting up libkadm5clnt-mit11:amd64 (1.16-2ubuntu0.1) ...\n",
            "Setting up krb5-multidev:amd64 (1.16-2ubuntu0.1) ...\n",
            "Setting up libkrb5-dev:amd64 (1.16-2ubuntu0.1) ...\n",
            "Processing triggers for man-db (2.8.3-2ubuntu0.1) ...\n",
            "Processing triggers for libc-bin (2.27-3ubuntu1) ...\n",
            "/sbin/ldconfig.real: /usr/local/lib/python3.6/dist-packages/ideep4py/lib/libmkldnn.so.0 is not a symbolic link\n",
            "\n",
            "Collecting sparkmagic\n",
            "  Downloading https://files.pythonhosted.org/packages/eb/f3/458361eec01b7c1fb5aaa1b28a2e24b22167f577c2ab83d12b365a98be75/sparkmagic-0.15.0.tar.gz\n",
            "Collecting hdijupyterutils>=0.6\n",
            "  Downloading https://files.pythonhosted.org/packages/a9/b9/4daa0d8319a9e9101d6d6c8af1f5b1e87178542a70995a4ff2611005cc98/hdijupyterutils-0.15.0.tar.gz\n",
            "Collecting autovizwidget>=0.6\n",
            "  Downloading https://files.pythonhosted.org/packages/17/bb/d7d725dc3288354c4431dbf53aa40d0014379ec9a45475805f62436573ec/autovizwidget-0.15.0.tar.gz\n",
            "Requirement already satisfied: ipython>=4.0.2 in /usr/local/lib/python3.6/dist-packages (from sparkmagic) (5.5.0)\n",
            "Collecting nose\n",
            "\u001b[?25l  Downloading https://files.pythonhosted.org/packages/15/d8/dd071918c040f50fa1cf80da16423af51ff8ce4a0f2399b7bf8de45ac3d9/nose-1.3.7-py3-none-any.whl (154kB)\n",
            "\u001b[K     |████████████████████████████████| 163kB 3.8MB/s \n",
            "\u001b[?25hCollecting mock\n",
            "  Downloading https://files.pythonhosted.org/packages/cd/74/d72daf8dff5b6566db857cfd088907bb0355f5dd2914c4b3ef065c790735/mock-4.0.2-py3-none-any.whl\n",
            "Requirement already satisfied: pandas>=0.17.1 in /usr/local/lib/python3.6/dist-packages (from sparkmagic) (0.25.3)\n",
            "Requirement already satisfied: numpy in /usr/local/lib/python3.6/dist-packages (from sparkmagic) (1.18.2)\n",
            "Requirement already satisfied: requests in /usr/local/lib/python3.6/dist-packages (from sparkmagic) (2.21.0)\n",
            "Requirement already satisfied: ipykernel in /usr/local/lib/python3.6/dist-packages (from sparkmagic) (4.6.1)\n",
            "Requirement already satisfied: ipywidgets>5.0.0 in /usr/local/lib/python3.6/dist-packages (from sparkmagic) (7.5.1)\n",
            "Requirement already satisfied: notebook>=4.2 in /usr/local/lib/python3.6/dist-packages (from sparkmagic) (5.2.2)\n",
            "Requirement already satisfied: tornado>=4 in /usr/local/lib/python3.6/dist-packages (from sparkmagic) (4.5.3)\n",
            "Collecting requests_kerberos>=0.8.0\n",
            "  Downloading https://files.pythonhosted.org/packages/ee/a2/866f2b9a60f75055137b9ad127033e397963b2c4769d4b5fab1c3c7e8be3/requests_kerberos-0.12.0-py2.py3-none-any.whl\n",
            "Requirement already satisfied: jupyter>=1 in /usr/local/lib/python3.6/dist-packages (from hdijupyterutils>=0.6->sparkmagic) (1.0.0)\n",
            "Requirement already satisfied: plotly>=3 in /usr/local/lib/python3.6/dist-packages (from autovizwidget>=0.6->sparkmagic) (4.4.1)\n",
            "Requirement already satisfied: simplegeneric>0.8 in /usr/local/lib/python3.6/dist-packages (from ipython>=4.0.2->sparkmagic) (0.8.1)\n",
            "Requirement already satisfied: traitlets>=4.2 in /usr/local/lib/python3.6/dist-packages (from ipython>=4.0.2->sparkmagic) (4.3.3)\n",
            "Requirement already satisfied: pexpect; sys_platform != \"win32\" in /usr/local/lib/python3.6/dist-packages (from ipython>=4.0.2->sparkmagic) (4.8.0)\n",
            "Requirement already satisfied: decorator in /usr/local/lib/python3.6/dist-packages (from ipython>=4.0.2->sparkmagic) (4.4.2)\n",
            "Requirement already satisfied: pickleshare in /usr/local/lib/python3.6/dist-packages (from ipython>=4.0.2->sparkmagic) (0.7.5)\n",
            "Requirement already satisfied: setuptools>=18.5 in /usr/local/lib/python3.6/dist-packages (from ipython>=4.0.2->sparkmagic) (46.0.0)\n",
            "Requirement already satisfied: prompt-toolkit<2.0.0,>=1.0.4 in /usr/local/lib/python3.6/dist-packages (from ipython>=4.0.2->sparkmagic) (1.0.18)\n",
            "Requirement already satisfied: pygments in /usr/local/lib/python3.6/dist-packages (from ipython>=4.0.2->sparkmagic) (2.1.3)\n",
            "Requirement already satisfied: python-dateutil>=2.6.1 in /usr/local/lib/python3.6/dist-packages (from pandas>=0.17.1->sparkmagic) (2.8.1)\n",
            "Requirement already satisfied: pytz>=2017.2 in /usr/local/lib/python3.6/dist-packages (from pandas>=0.17.1->sparkmagic) (2018.9)\n",
            "Requirement already satisfied: certifi>=2017.4.17 in /usr/local/lib/python3.6/dist-packages (from requests->sparkmagic) (2019.11.28)\n",
            "Requirement already satisfied: idna<2.9,>=2.5 in /usr/local/lib/python3.6/dist-packages (from requests->sparkmagic) (2.8)\n",
            "Requirement already satisfied: urllib3<1.25,>=1.21.1 in /usr/local/lib/python3.6/dist-packages (from requests->sparkmagic) (1.24.3)\n",
            "Requirement already satisfied: chardet<3.1.0,>=3.0.2 in /usr/local/lib/python3.6/dist-packages (from requests->sparkmagic) (3.0.4)\n",
            "Requirement already satisfied: jupyter-client in /usr/local/lib/python3.6/dist-packages (from ipykernel->sparkmagic) (5.3.4)\n",
            "Requirement already satisfied: nbformat>=4.2.0 in /usr/local/lib/python3.6/dist-packages (from ipywidgets>5.0.0->sparkmagic) (5.0.4)\n",
            "Requirement already satisfied: widgetsnbextension~=3.5.0 in /usr/local/lib/python3.6/dist-packages (from ipywidgets>5.0.0->sparkmagic) (3.5.1)\n",
            "Requirement already satisfied: jinja2 in /usr/local/lib/python3.6/dist-packages (from notebook>=4.2->sparkmagic) (2.11.1)\n",
            "Requirement already satisfied: terminado>=0.3.3; sys_platform != \"win32\" in /usr/local/lib/python3.6/dist-packages (from notebook>=4.2->sparkmagic) (0.8.3)\n",
            "Requirement already satisfied: ipython-genutils in /usr/local/lib/python3.6/dist-packages (from notebook>=4.2->sparkmagic) (0.2.0)\n",
            "Requirement already satisfied: nbconvert in /usr/local/lib/python3.6/dist-packages (from notebook>=4.2->sparkmagic) (5.6.1)\n",
            "Requirement already satisfied: jupyter-core in /usr/local/lib/python3.6/dist-packages (from notebook>=4.2->sparkmagic) (4.6.3)\n",
            "Collecting pykerberos<2.0.0,>=1.1.8; sys_platform != \"win32\"\n",
            "  Downloading https://files.pythonhosted.org/packages/9a/b8/1ec56b6fa8a2e2a81420bd3d90e70b59fc83f6b857fb2c2c37accddc8be3/pykerberos-1.2.1.tar.gz\n",
            "Collecting cryptography>=1.3; python_version != \"3.3\"\n",
            "\u001b[?25l  Downloading https://files.pythonhosted.org/packages/ca/9a/7cece52c46546e214e10811b36b2da52ce1ea7fa203203a629b8dfadad53/cryptography-2.8-cp34-abi3-manylinux2010_x86_64.whl (2.3MB)\n",
            "\u001b[K     |████████████████████████████████| 2.3MB 34.6MB/s \n",
            "\u001b[?25hRequirement already satisfied: qtconsole in /usr/local/lib/python3.6/dist-packages (from jupyter>=1->hdijupyterutils>=0.6->sparkmagic) (4.7.1)\n",
            "Requirement already satisfied: jupyter-console in /usr/local/lib/python3.6/dist-packages (from jupyter>=1->hdijupyterutils>=0.6->sparkmagic) (5.2.0)\n",
            "Requirement already satisfied: six in /usr/local/lib/python3.6/dist-packages (from plotly>=3->autovizwidget>=0.6->sparkmagic) (1.12.0)\n",
            "Requirement already satisfied: retrying>=1.3.3 in /usr/local/lib/python3.6/dist-packages (from plotly>=3->autovizwidget>=0.6->sparkmagic) (1.3.3)\n",
            "Requirement already satisfied: ptyprocess>=0.5 in /usr/local/lib/python3.6/dist-packages (from pexpect; sys_platform != \"win32\"->ipython>=4.0.2->sparkmagic) (0.6.0)\n",
            "Requirement already satisfied: wcwidth in /usr/local/lib/python3.6/dist-packages (from prompt-toolkit<2.0.0,>=1.0.4->ipython>=4.0.2->sparkmagic) (0.1.9)\n",
            "Requirement already satisfied: pyzmq>=13 in /usr/local/lib/python3.6/dist-packages (from jupyter-client->ipykernel->sparkmagic) (17.0.0)\n",
            "Requirement already satisfied: jsonschema!=2.5.0,>=2.4 in /usr/local/lib/python3.6/dist-packages (from nbformat>=4.2.0->ipywidgets>5.0.0->sparkmagic) (2.6.0)\n",
            "Requirement already satisfied: MarkupSafe>=0.23 in /usr/local/lib/python3.6/dist-packages (from jinja2->notebook>=4.2->sparkmagic) (1.1.1)\n",
            "Requirement already satisfied: testpath in /usr/local/lib/python3.6/dist-packages (from nbconvert->notebook>=4.2->sparkmagic) (0.4.4)\n",
            "Requirement already satisfied: bleach in /usr/local/lib/python3.6/dist-packages (from nbconvert->notebook>=4.2->sparkmagic) (3.1.3)\n",
            "Requirement already satisfied: entrypoints>=0.2.2 in /usr/local/lib/python3.6/dist-packages (from nbconvert->notebook>=4.2->sparkmagic) (0.3)\n",
            "Requirement already satisfied: pandocfilters>=1.4.1 in /usr/local/lib/python3.6/dist-packages (from nbconvert->notebook>=4.2->sparkmagic) (1.4.2)\n",
            "Requirement already satisfied: defusedxml in /usr/local/lib/python3.6/dist-packages (from nbconvert->notebook>=4.2->sparkmagic) (0.6.0)\n",
            "Requirement already satisfied: mistune<2,>=0.8.1 in /usr/local/lib/python3.6/dist-packages (from nbconvert->notebook>=4.2->sparkmagic) (0.8.4)\n",
            "Requirement already satisfied: cffi!=1.11.3,>=1.8 in /usr/local/lib/python3.6/dist-packages (from cryptography>=1.3; python_version != \"3.3\"->requests_kerberos>=0.8.0->sparkmagic) (1.14.0)\n",
            "Requirement already satisfied: qtpy in /usr/local/lib/python3.6/dist-packages (from qtconsole->jupyter>=1->hdijupyterutils>=0.6->sparkmagic) (1.9.0)\n",
            "Requirement already satisfied: webencodings in /usr/local/lib/python3.6/dist-packages (from bleach->nbconvert->notebook>=4.2->sparkmagic) (0.5.1)\n",
            "Requirement already satisfied: pycparser in /usr/local/lib/python3.6/dist-packages (from cffi!=1.11.3,>=1.8->cryptography>=1.3; python_version != \"3.3\"->requests_kerberos>=0.8.0->sparkmagic) (2.20)\n",
            "Building wheels for collected packages: sparkmagic, hdijupyterutils, autovizwidget, pykerberos\n",
            "  Building wheel for sparkmagic (setup.py) ... \u001b[?25l\u001b[?25hdone\n",
            "  Created wheel for sparkmagic: filename=sparkmagic-0.15.0-cp36-none-any.whl size=57176 sha256=aebc0f96dd345d01fad5f53a4406f125ebadeec95efafeb02b93d020e80d7186\n",
            "  Stored in directory: /root/.cache/pip/wheels/b6/42/21/575eb221b00c86d1e4ca0b8e6916df1b9948f30383680cde14\n",
            "  Building wheel for hdijupyterutils (setup.py) ... \u001b[?25l\u001b[?25hdone\n",
            "  Created wheel for hdijupyterutils: filename=hdijupyterutils-0.15.0-cp36-none-any.whl size=7667 sha256=2d1d7f053b337c6b22c27390a4178907c73040eab978f22c5a8993ad7fe4668a\n",
            "  Stored in directory: /root/.cache/pip/wheels/7e/f0/ad/29b0902eb1384bf2691d6baa61f2cfce35f2370058e8c732cc\n",
            "  Building wheel for autovizwidget (setup.py) ... \u001b[?25l\u001b[?25hdone\n",
            "  Created wheel for autovizwidget: filename=autovizwidget-0.15.0-cp36-none-any.whl size=14547 sha256=2d95335cdf0a99f510ea682d8894c10689002d2fb0ace3fefd2c6e15fdaf4683\n",
            "  Stored in directory: /root/.cache/pip/wheels/c8/09/b3/7851bdad56450e74338735e062864eb8f74fea8517d31f9d0b\n",
            "  Building wheel for pykerberos (setup.py) ... \u001b[?25l\u001b[?25hdone\n",
            "  Created wheel for pykerberos: filename=pykerberos-1.2.1-cp36-cp36m-linux_x86_64.whl size=68614 sha256=fa26a8ecd4e12d1f7fc681e5c27d92ea09b6a6aff75a524eb842b96622ad1ca3\n",
            "  Stored in directory: /root/.cache/pip/wheels/c7/a7/07/d414c22754acf5822ccce48b41822142974ec103057c8305e7\n",
            "Successfully built sparkmagic hdijupyterutils autovizwidget pykerberos\n",
            "Installing collected packages: nose, mock, hdijupyterutils, autovizwidget, pykerberos, cryptography, requests-kerberos, sparkmagic\n",
            "Successfully installed autovizwidget-0.15.0 cryptography-2.8 hdijupyterutils-0.15.0 mock-4.0.2 nose-1.3.7 pykerberos-1.2.1 requests-kerberos-0.12.0 sparkmagic-0.15.0\n"
          ],
          "name": "stdout"
        }
      ]
    },
    {
      "cell_type": "code",
      "metadata": {
        "id": "e63ePVsqw4HN"
      },
      "source": [
        "%load_ext sparkmagic.magics"
      ],
      "execution_count": null,
      "outputs": []
    },
    {
      "cell_type": "code",
      "metadata": {
        "id": "UTwBdvmdw42A",
        "outputId": "c17e7641-6305-4eb7-f76f-81b5b8fc466b",
        "colab": {
          "base_uri": "https://localhost:8080/",
          "height": 95,
          "referenced_widgets": [
            "ed36e01ddfb6457c8db8ac829b74065d",
            "25aafa9d63af4bd88a003c0d5347a814",
            "859ed314c4114a5b832ab2d8448a57e7"
          ]
        }
      },
      "source": [
        "%spark add -s my_session -l python -u http://ec2-3-91-74-45.compute-1.amazonaws.com:8998\n",
        "# The above can connect to an EMR node running Spark + Livy, assuming the firewall is set to let anyone in"
      ],
      "execution_count": null,
      "outputs": [
        {
          "output_type": "stream",
          "text": [
            "Starting Spark application\n"
          ],
          "name": "stdout"
        },
        {
          "output_type": "display_data",
          "data": {
            "text/html": [
              "<table>\n",
              "<tr><th>ID</th><th>YARN Application ID</th><th>Kind</th><th>State</th><th>Spark UI</th><th>Driver log</th><th>Current session?</th></tr><tr><td>81</td><td>application_1581350900124_0082</td><td>pyspark</td><td>idle</td><td><a target=\"_blank\" href=\"http://ip-172-31-42-75.ec2.internal:20888/proxy/application_1581350900124_0082/\">Link</a></td><td><a target=\"_blank\" href=\"http://ip-172-31-40-232.ec2.internal:8042/node/containerlogs/container_1581350900124_0082_01_000001/livy\">Link</a></td><td>✔</td></tr></table>"
            ],
            "text/plain": [
              "<IPython.core.display.HTML object>"
            ]
          },
          "metadata": {
            "tags": []
          }
        },
        {
          "output_type": "display_data",
          "data": {
            "application/vnd.jupyter.widget-view+json": {
              "model_id": "ed36e01ddfb6457c8db8ac829b74065d",
              "version_minor": 0,
              "version_major": 2
            },
            "text/plain": [
              "FloatProgress(value=0.0, bar_style='info', description='Progress:', layout=Layout(height='25px', width='50%'),…"
            ]
          },
          "metadata": {
            "tags": []
          }
        },
        {
          "output_type": "stream",
          "text": [
            "SparkSession available as 'spark'.\n"
          ],
          "name": "stdout"
        }
      ]
    },
    {
      "cell_type": "code",
      "metadata": {
        "id": "xkCisqQXR2ZY",
        "outputId": "3ce43299-4740-4288-f357-d96b30e4530d",
        "colab": {
          "base_uri": "https://localhost:8080/",
          "height": 445,
          "referenced_widgets": [
            "8a9b8ab3f2ac42e68be69fd2cd76c662",
            "6e6a7050687842a2a8acd2a12e1c592d",
            "df2de82e16a04845b9e1d2bfb85c3efa"
          ]
        }
      },
      "source": [
        "%%spark\n",
        "\n",
        "import pandas as pd\n",
        "import numpy as np\n",
        "from sklearn.datasets import load_wine\n",
        "from pyspark.ml.feature import OneHotEncoderEstimator, StringIndexer, VectorAssembler\n",
        "from pyspark.ml.feature import StandardScaler\n",
        "from pyspark.sql.types import StringType, IntegerType, DoubleType, StructField, StructType, ArrayType, MapType\n",
        "\n",
        "dataset = load_wine()\n",
        "# ID,RefractiveIndex,Na,Mg,Al,Si,K,Ca,Ba,Fe,Type\n",
        "schema = StructType([\n",
        "        StructField(\"alcohol\", DoubleType(), True),\n",
        "        StructField(\"malic_acid\", DoubleType(), True),\n",
        "        StructField(\"ash\", DoubleType(), True),\n",
        "        StructField(\"alcalinity_of_ash\", DoubleType(), True),\n",
        "        StructField(\"magnesium\", DoubleType(), True),\n",
        "        StructField(\"total_phenols\", DoubleType(), True),\n",
        "        StructField(\"flavanoids\", DoubleType(), True),\n",
        "        StructField(\"nonflavanoid_phenols\", DoubleType(), True),\n",
        "        StructField(\"proanthocyanins\", DoubleType(), True),\n",
        "        StructField(\"color_intensity\", DoubleType(), True),\n",
        "        StructField(\"hue\", DoubleType(), True),\n",
        "        StructField(\"od280/od315_of_diluted_wines\", DoubleType(), True),\n",
        "        StructField(\"proline\", DoubleType(), True),\n",
        "        StructField(\"label\", IntegerType(), True),\n",
        "         ])\n",
        "\n",
        "### For simplicity we are only going to do a binary classifier\n",
        "### to determine if we have class 1\n",
        "pdf = pd.DataFrame(dataset.data)\n",
        "pdf['label'] = [1 if x == 1 else 0 for x in dataset.target]\n",
        "print(pdf)\n",
        "wine_sdf = spark.createDataFrame(pdf, schema)\n",
        "\n",
        "# Recall from unsupervised learning that the assembler cconverts a list of\n",
        "# dataframe columns into a \"features\" column that's a vector\n",
        "assembler = VectorAssembler(inputCols=dataset.feature_names, outputCol=\"features\")\n",
        "wine_sdf_2 = assembler.transform(wine_sdf)\n",
        "\n",
        "wine_sdf_2.show(5)"
      ],
      "execution_count": null,
      "outputs": [
        {
          "output_type": "display_data",
          "data": {
            "application/vnd.jupyter.widget-view+json": {
              "model_id": "8a9b8ab3f2ac42e68be69fd2cd76c662",
              "version_minor": 0,
              "version_major": 2
            },
            "text/plain": [
              "FloatProgress(value=0.0, bar_style='info', description='Progress:', layout=Layout(height='25px', width='50%'),…"
            ]
          },
          "metadata": {
            "tags": []
          }
        },
        {
          "output_type": "stream",
          "text": [
            "         0     1     2     3      4  ...      9    10    11      12  label\n",
            "0    14.23  1.71  2.43  15.6  127.0  ...   5.64  1.04  3.92  1065.0      0\n",
            "1    13.20  1.78  2.14  11.2  100.0  ...   4.38  1.05  3.40  1050.0      0\n",
            "2    13.16  2.36  2.67  18.6  101.0  ...   5.68  1.03  3.17  1185.0      0\n",
            "3    14.37  1.95  2.50  16.8  113.0  ...   7.80  0.86  3.45  1480.0      0\n",
            "4    13.24  2.59  2.87  21.0  118.0  ...   4.32  1.04  2.93   735.0      0\n",
            "..     ...   ...   ...   ...    ...  ...    ...   ...   ...     ...    ...\n",
            "173  13.71  5.65  2.45  20.5   95.0  ...   7.70  0.64  1.74   740.0      0\n",
            "174  13.40  3.91  2.48  23.0  102.0  ...   7.30  0.70  1.56   750.0      0\n",
            "175  13.27  4.28  2.26  20.0  120.0  ...  10.20  0.59  1.56   835.0      0\n",
            "176  13.17  2.59  2.37  20.0  120.0  ...   9.30  0.60  1.62   840.0      0\n",
            "177  14.13  4.10  2.74  24.5   96.0  ...   9.20  0.61  1.60   560.0      0\n",
            "\n",
            "[178 rows x 14 columns]\n",
            "+-------+----------+----+-----------------+---------+-------------+----------+--------------------+---------------+---------------+----+----------------------------+-------+-----+--------------------+\n",
            "|alcohol|malic_acid| ash|alcalinity_of_ash|magnesium|total_phenols|flavanoids|nonflavanoid_phenols|proanthocyanins|color_intensity| hue|od280/od315_of_diluted_wines|proline|label|            features|\n",
            "+-------+----------+----+-----------------+---------+-------------+----------+--------------------+---------------+---------------+----+----------------------------+-------+-----+--------------------+\n",
            "|  14.23|      1.71|2.43|             15.6|    127.0|          2.8|      3.06|                0.28|           2.29|           5.64|1.04|                        3.92| 1065.0|    0|[14.23,1.71,2.43,...|\n",
            "|   13.2|      1.78|2.14|             11.2|    100.0|         2.65|      2.76|                0.26|           1.28|           4.38|1.05|                         3.4| 1050.0|    0|[13.2,1.78,2.14,1...|\n",
            "|  13.16|      2.36|2.67|             18.6|    101.0|          2.8|      3.24|                 0.3|           2.81|           5.68|1.03|                        3.17| 1185.0|    0|[13.16,2.36,2.67,...|\n",
            "|  14.37|      1.95| 2.5|             16.8|    113.0|         3.85|      3.49|                0.24|           2.18|            7.8|0.86|                        3.45| 1480.0|    0|[14.37,1.95,2.5,1...|\n",
            "|  13.24|      2.59|2.87|             21.0|    118.0|          2.8|      2.69|                0.39|           1.82|           4.32|1.04|                        2.93|  735.0|    0|[13.24,2.59,2.87,...|\n",
            "+-------+----------+----+-----------------+---------+-------------+----------+--------------------+---------------+---------------+----+----------------------------+-------+-----+--------------------+\n",
            "only showing top 5 rows"
          ],
          "name": "stdout"
        }
      ]
    },
    {
      "cell_type": "markdown",
      "metadata": {
        "id": "3srj-BiQciYH"
      },
      "source": [
        "Now we split into training and test sets and train..."
      ]
    },
    {
      "cell_type": "code",
      "metadata": {
        "id": "l4zBgz1Xcp-j",
        "outputId": "727578c0-5827-470f-f4cb-321c91ae3ebf",
        "colab": {
          "base_uri": "https://localhost:8080/",
          "height": 17,
          "referenced_widgets": [
            "6d174f783b8a4f4d80b1e1135887f223",
            "afee67fb57fa46cba795b7a602f4fe74",
            "bc6067a8f6b34344b2ffc1ac321dcdab"
          ]
        }
      },
      "source": [
        "%%spark\n",
        "\n",
        "train, test = wine_sdf_2.randomSplit([0.7, 0.3], seed = 2018)\n",
        "\n",
        "from pyspark.ml.classification import DecisionTreeClassifier\n",
        "dt = DecisionTreeClassifier(featuresCol = 'features', labelCol = 'label', maxDepth = 3)\n",
        "dtModel = dt.fit(train)\n",
        "predictions = dtModel.transform(test)"
      ],
      "execution_count": null,
      "outputs": [
        {
          "output_type": "display_data",
          "data": {
            "application/vnd.jupyter.widget-view+json": {
              "model_id": "6d174f783b8a4f4d80b1e1135887f223",
              "version_minor": 0,
              "version_major": 2
            },
            "text/plain": [
              "FloatProgress(value=0.0, bar_style='info', description='Progress:', layout=Layout(height='25px', width='50%'),…"
            ]
          },
          "metadata": {
            "tags": []
          }
        }
      ]
    },
    {
      "cell_type": "code",
      "metadata": {
        "id": "qeLl3rE291OP",
        "outputId": "2e28c425-688a-4e38-f8f0-c5a2bc1dcf39",
        "colab": {
          "base_uri": "https://localhost:8080/",
          "height": 34,
          "referenced_widgets": [
            "e4cfc873eaaf400ea2b48249955d18d2",
            "668da0c608544ad58f57b901c3975672",
            "0e87d70a742d4a1c9a353a0748e73c52"
          ]
        }
      },
      "source": [
        "%%spark\n",
        "\n",
        "\n",
        "from pyspark.ml.evaluation import BinaryClassificationEvaluator\n",
        "evaluator = BinaryClassificationEvaluator()\n",
        "print(\"Test Area Under ROC: \" + str(evaluator.evaluate(predictions, {evaluator.metricName: \"areaUnderROC\"})))"
      ],
      "execution_count": null,
      "outputs": [
        {
          "output_type": "display_data",
          "data": {
            "application/vnd.jupyter.widget-view+json": {
              "model_id": "e4cfc873eaaf400ea2b48249955d18d2",
              "version_minor": 0,
              "version_major": 2
            },
            "text/plain": [
              "FloatProgress(value=0.0, bar_style='info', description='Progress:', layout=Layout(height='25px', width='50%'),…"
            ]
          },
          "metadata": {
            "tags": []
          }
        },
        {
          "output_type": "stream",
          "text": [
            "Test Area Under ROC: 0.942929292929293"
          ],
          "name": "stdout"
        }
      ]
    },
    {
      "cell_type": "code",
      "metadata": {
        "id": "MWNGR1TvdU0J"
      },
      "source": [],
      "execution_count": null,
      "outputs": []
    },
    {
      "cell_type": "markdown",
      "metadata": {
        "id": "pNfPupyZI5Dt"
      },
      "source": [
        "### 3.1.3 Random Forests\n",
        "\n",
        "A random forest generalizes the decision tree using an ensemble.  We can define both the pruning characteristics for the decision trees plus the size of the ensemble in SciKit-Learn"
      ]
    },
    {
      "cell_type": "code",
      "metadata": {
        "id": "1VMRGOv4Xpx8",
        "outputId": "50b0e710-1489-44e7-eb50-a224605fdd27",
        "colab": {
          "base_uri": "https://localhost:8080/",
          "height": 34
        }
      },
      "source": [
        "from sklearn.ensemble import RandomForestClassifier\n",
        "\n",
        "clf = RandomForestClassifier(n_estimators = 20, max_depth=2)\n",
        "clf.fit(X_train,y_train)\n",
        "prediction = clf.predict(X_test)\n",
        "\n",
        "accuracy = sklearn.metrics.accuracy_score(prediction,y_test)\n",
        "print(\"Accuracy: %.1f%%\"% (accuracy*100))"
      ],
      "execution_count": null,
      "outputs": [
        {
          "output_type": "stream",
          "text": [
            "Accuracy: 96.3%\n"
          ],
          "name": "stdout"
        }
      ]
    },
    {
      "cell_type": "markdown",
      "metadata": {
        "id": "7zDUZFtO_yNQ"
      },
      "source": [
        "and similarly, Mllib has a random forest classifier.  In fact the RandomForestClassifier parallelizes very nicely since each tree can be running independently of the others."
      ]
    },
    {
      "cell_type": "code",
      "metadata": {
        "id": "w0ocPcAWn877",
        "outputId": "c8b0f6cd-49e5-407e-c641-88779b7d5f02",
        "colab": {
          "base_uri": "https://localhost:8080/",
          "height": 17,
          "referenced_widgets": [
            "9b71ac8fccfb4a9aba6f10d0af5ef4a5",
            "84363a74195347bb9cac731ade180146",
            "8b089b769663490cbe06cba76089ef6a"
          ]
        }
      },
      "source": [
        "%%spark\n",
        "\n",
        "from pyspark.ml.classification import RandomForestClassifier\n",
        "dt = RandomForestClassifier(featuresCol = 'features', labelCol = 'label', maxDepth = 2,\\\n",
        "                            numTrees = 20)\n",
        "dtModel = dt.fit(train)\n",
        "predictions = dtModel.transform(test)"
      ],
      "execution_count": null,
      "outputs": [
        {
          "output_type": "display_data",
          "data": {
            "application/vnd.jupyter.widget-view+json": {
              "model_id": "9b71ac8fccfb4a9aba6f10d0af5ef4a5",
              "version_minor": 0,
              "version_major": 2
            },
            "text/plain": [
              "FloatProgress(value=0.0, bar_style='info', description='Progress:', layout=Layout(height='25px', width='50%'),…"
            ]
          },
          "metadata": {
            "tags": []
          }
        }
      ]
    },
    {
      "cell_type": "code",
      "metadata": {
        "id": "8B5FoCeGn3NT",
        "outputId": "6cd85054-accb-453d-d47b-f13c84f26172",
        "colab": {
          "base_uri": "https://localhost:8080/",
          "height": 34,
          "referenced_widgets": [
            "991fef179e38406e936c1a2dc8146854",
            "684e4f59bb9949ce930f8b1a4c9eadd6",
            "a9f2b31e4f344effaad35610b091be06"
          ]
        }
      },
      "source": [
        "%%spark\n",
        "\n",
        "evaluator = BinaryClassificationEvaluator()\n",
        "print(\"Test Area Under ROC: \" + str(evaluator.evaluate(predictions, {evaluator.metricName: \"areaUnderROC\"})))"
      ],
      "execution_count": null,
      "outputs": [
        {
          "output_type": "display_data",
          "data": {
            "application/vnd.jupyter.widget-view+json": {
              "model_id": "991fef179e38406e936c1a2dc8146854",
              "version_minor": 0,
              "version_major": 2
            },
            "text/plain": [
              "FloatProgress(value=0.0, bar_style='info', description='Progress:', layout=Layout(height='25px', width='50%'),…"
            ]
          },
          "metadata": {
            "tags": []
          }
        },
        {
          "output_type": "stream",
          "text": [
            "Test Area Under ROC: 0.9919191919191919"
          ],
          "name": "stdout"
        }
      ]
    },
    {
      "cell_type": "code",
      "metadata": {
        "id": "bOVLFbRj_vlh"
      },
      "source": [],
      "execution_count": null,
      "outputs": []
    }
  ]
}