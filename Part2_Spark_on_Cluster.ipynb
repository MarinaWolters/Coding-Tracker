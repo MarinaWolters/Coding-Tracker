{
  "nbformat": 4,
  "nbformat_minor": 0,
  "metadata": {
    "colab": {
      "provenance": [],
      "include_colab_link": true
    },
    "kernelspec": {
      "name": "python3",
      "display_name": "Python 3"
    }
  },
  "cells": [
    {
      "cell_type": "markdown",
      "metadata": {
        "id": "view-in-github",
        "colab_type": "text"
      },
      "source": [
        "<a href=\"https://colab.research.google.com/github/MarinaWolters/Coding-Tracker/blob/master/Part2_Spark_on_Cluster.ipynb\" target=\"_parent\"><img src=\"https://colab.research.google.com/assets/colab-badge.svg\" alt=\"Open In Colab\"/></a>"
      ]
    },
    {
      "cell_type": "code",
      "metadata": {
        "id": "7iZchwnkJK4l"
      },
      "source": [
        "%%capture\n",
        "!apt install libkrb5-dev\n",
        "!wget https://www-us.apache.org/dist/spark/spark-3.0.1/spark-3.0.1-bin-hadoop3.2.tgz\n",
        "!tar xf spark-3.0.1-bin-hadoop3.2.tgz\n",
        "!pip install findspark\n",
        "!pip install sparkmagic\n",
        "!pip install pyspark\n",
        "! pip install pyspark --user\n",
        "! pip install seaborn --user\n",
        "! pip install plotly --user\n",
        "! pip install imageio --user\n",
        "! pip install folium --user"
      ],
      "execution_count": 1,
      "outputs": []
    },
    {
      "cell_type": "code",
      "metadata": {
        "id": "5ZjCJ1piJYrk"
      },
      "source": [
        "%%capture\n",
        "!apt update\n",
        "!apt install gcc python-dev libkrb5-dev"
      ],
      "execution_count": 2,
      "outputs": []
    },
    {
      "cell_type": "code",
      "metadata": {
        "id": "GZIsi6jVJaL9"
      },
      "source": [
        "from pyspark.sql import SparkSession\n",
        "from pyspark.sql.types import *\n",
        "import pyspark.sql.functions as F\n",
        "\n",
        "import os\n",
        "\n",
        "spark = SparkSession.builder.appName('Graphs-HW2').getOrCreate()\n"
      ],
      "execution_count": 3,
      "outputs": []
    },
    {
      "cell_type": "code",
      "metadata": {
        "id": "UN7rCGMvJbX9"
      },
      "source": [
        "import numpy as np\n",
        "import pandas as pd\n",
        "import matplotlib\n",
        "\n",
        "#misc\n",
        "import gc\n",
        "import time\n",
        "import warnings\n",
        "\n",
        "\n",
        "#graph section\n",
        "import networkx as nx\n",
        "#import heapq  # for getting top n number of things from list,dict\n",
        "import pandas as pd\n",
        "import numpy as np\n",
        "\n",
        "# JSON parsing\n",
        "import json\n",
        "\n",
        "# HTML parsing\n",
        "from lxml import etree\n",
        "import urllib\n",
        "\n",
        "# SQLite RDBMS\n",
        "import sqlite3\n",
        "\n",
        "# Time conversions\n",
        "import time\n",
        "\n",
        "# Parallel processing\n",
        "# import swifter\n",
        "\n",
        "# NoSQL DB\n",
        "from pymongo import MongoClient\n",
        "from pymongo.errors import DuplicateKeyError, OperationFailure\n",
        "\n",
        "import os\n",
        "os.environ['SPARK_HOME'] = \"/content/spark-3.0.1-bin-hadoop3.2\" #change this here\n",
        "import pyspark\n",
        "from pyspark.sql import SQLContext"
      ],
      "execution_count": 4,
      "outputs": []
    },
    {
      "cell_type": "code",
      "metadata": {
        "id": "eGg5AO4OJczV"
      },
      "source": [
        "try:\n",
        "    if(spark == None):\n",
        "        spark = SparkSession.builder.appName('Initial').getOrCreate()\n",
        "        sqlContext=SQLContext(spark)\n",
        "except NameError:\n",
        "    spark = SparkSession.builder.appName('Initial').getOrCreate()\n",
        "    sqlContext=SQLContext(spark)\n"
      ],
      "execution_count": 5,
      "outputs": []
    },
    {
      "cell_type": "code",
      "metadata": {
        "id": "bsOmxIc_Jexu",
        "outputId": "c72eb2cb-2486-4d1d-ff4e-6f623a939e5f",
        "colab": {
          "base_uri": "https://localhost:8080/"
        }
      },
      "source": [
        "from google_drive_downloader import GoogleDriveDownloader as gdd\n",
        "\n",
        "gdd.download_file_from_google_drive(file_id='11lwBibxX7PYGgOfHU25_dDDDsPX1Pt0Y',\n",
        "                                    dest_path='/content/yelp_business.csv')\n"
      ],
      "execution_count": 6,
      "outputs": [
        {
          "output_type": "stream",
          "name": "stdout",
          "text": [
            "Downloading 11lwBibxX7PYGgOfHU25_dDDDsPX1Pt0Y into /content/yelp_business.csv... Done.\n"
          ]
        }
      ]
    },
    {
      "cell_type": "code",
      "metadata": {
        "id": "piBuOHtuJh7J",
        "colab": {
          "base_uri": "https://localhost:8080/"
        },
        "outputId": "39f097cb-4853-499b-db49-e88b5d7d531b"
      },
      "source": [
        "yelp_business_sdf = spark.read.format(\"csv\").option(\"header\", \"true\").load(\"yelp_business.csv\")\n",
        "yelp_business_sdf.createOrReplaceTempView('yelp_business')\n",
        "yelp_business_sdf"
      ],
      "execution_count": 10,
      "outputs": [
        {
          "output_type": "execute_result",
          "data": {
            "text/plain": [
              "DataFrame[business_id: string, name: string, neighborhood: string, address: string, city: string, state: string, postal_code: string, latitude: string, longitude: string, stars: string, review_count: string, is_open: string, categories: string]"
            ]
          },
          "metadata": {},
          "execution_count": 10
        }
      ]
    },
    {
      "cell_type": "code",
      "metadata": {
        "id": "w8Hy1Y9CJ5Bk",
        "outputId": "29ca7243-cee8-4858-b548-aecb455a17c7",
        "colab": {
          "base_uri": "https://localhost:8080/"
        }
      },
      "source": [
        "yelp_business_sdf.show(5)"
      ],
      "execution_count": 11,
      "outputs": [
        {
          "output_type": "stream",
          "name": "stdout",
          "text": [
            "+--------------------+--------------------+------------+--------------------+--------------+-----+-----------+----------+------------+-----+------------+-------+--------------------+\n",
            "|         business_id|                name|neighborhood|             address|          city|state|postal_code|  latitude|   longitude|stars|review_count|is_open|          categories|\n",
            "+--------------------+--------------------+------------+--------------------+--------------+-----+-----------+----------+------------+-----+------------+-------+--------------------+\n",
            "|FYWN1wneV18bWNgQj...|    Dental by Design|        null|4855 E Warner Rd,...|     Ahwatukee|   AZ|      85044|33.3306902|-111.9785992|  4.0|          22|      1|Dentists;General ...|\n",
            "|He-G7vWjzVUysIKrf...| Stephen Szabo Salon|        null|  3101 Washington Rd|      McMurray|   PA|      15317|40.2916853| -80.1048999|  3.0|          11|      1|Hair Stylists;Hai...|\n",
            "|KQPW8lFf1y5BT2Mxi...|Western Motor Veh...|        null|6025 N 27th Ave, ...|       Phoenix|   AZ|      85017|33.5249025|-112.1153098|  1.5|          18|      1|Departments of Mo...|\n",
            "|8DShNS-LuFqpEWIp0...|    Sports Authority|        null|5000 Arizona Mill...|         Tempe|   AZ|      85282|33.3831468|-111.9647254|  3.0|           9|      0|Sporting Goods;Sh...|\n",
            "|PfOCPjBrlQAnz__NX...|Brick House Taver...|        null|        581 Howe Ave|Cuyahoga Falls|   OH|      44221|41.1195346| -81.4756898|  3.5|         116|      1|American (New);Ni...|\n",
            "+--------------------+--------------------+------------+--------------------+--------------+-----+-----------+----------+------------+-----+------------+-------+--------------------+\n",
            "only showing top 5 rows\n",
            "\n"
          ]
        }
      ]
    },
    {
      "cell_type": "code",
      "metadata": {
        "id": "8P85DnGFJnC5",
        "outputId": "c9c4bf6b-84a8-48f5-9802-4c6bb15f2f35",
        "colab": {
          "base_uri": "https://localhost:8080/"
        }
      },
      "source": [
        "avg_reviews_by_city_sdf = spark.sql('select city, avg(stars) as avg_rating '\\\n",
        "                                        'from yelp_business yb '\\\n",
        "                                        'group by city')\n",
        "\n",
        "avg_reviews_by_city_sdf.explain()"
      ],
      "execution_count": 12,
      "outputs": [
        {
          "output_type": "stream",
          "name": "stdout",
          "text": [
            "== Physical Plan ==\n",
            "AdaptiveSparkPlan isFinalPlan=false\n",
            "+- HashAggregate(keys=[city#174], functions=[avg(cast(stars#179 as double))])\n",
            "   +- Exchange hashpartitioning(city#174, 200), ENSURE_REQUIREMENTS, [plan_id=89]\n",
            "      +- HashAggregate(keys=[city#174], functions=[partial_avg(cast(stars#179 as double))])\n",
            "         +- FileScan csv [city#174,stars#179] Batched: false, DataFilters: [], Format: CSV, Location: InMemoryFileIndex(1 paths)[file:/content/yelp_business.csv], PartitionFilters: [], PushedFilters: [], ReadSchema: struct<city:string,stars:string>\n",
            "\n",
            "\n"
          ]
        }
      ]
    },
    {
      "cell_type": "code",
      "source": [
        "avg_reviews_by_city_sdf.show(6)"
      ],
      "metadata": {
        "colab": {
          "base_uri": "https://localhost:8080/"
        },
        "id": "MNVUqwHcoXE_",
        "outputId": "ad26a48f-b4e3-4e80-e21f-cdca81209370"
      },
      "execution_count": 14,
      "outputs": [
        {
          "output_type": "stream",
          "name": "stdout",
          "text": [
            "+--------------------+------------------+\n",
            "|                city|        avg_rating|\n",
            "+--------------------+------------------+\n",
            "|       Harrison City|               3.5|\n",
            "|         Middlefield|               3.5|\n",
            "|        Mississauaga|               5.0|\n",
            "|Saint-Marc-sur-Ri...|               4.0|\n",
            "|               Ratho|               4.5|\n",
            "|               Tempe|3.7298850574712645|\n",
            "+--------------------+------------------+\n",
            "only showing top 6 rows\n",
            "\n"
          ]
        }
      ]
    },
    {
      "cell_type": "code",
      "metadata": {
        "id": "2iZqLIO-J-Lu",
        "outputId": "3b0601d6-c216-437a-c240-5e517fa39ae5",
        "colab": {
          "base_uri": "https://localhost:8080/"
        }
      },
      "source": [
        "same_city_sdf = spark.sql('select b1.name, b2.name from yelp_business b1 join yelp_business b2 '\\\n",
        "                                             ' on b1.city = b2.city and b1.name <> b2.name')\n",
        "\n",
        "same_city_sdf.show(5)"
      ],
      "execution_count": 15,
      "outputs": [
        {
          "output_type": "stream",
          "name": "stdout",
          "text": [
            "+----------------+--------------------+\n",
            "|            name|                name|\n",
            "+----------------+--------------------+\n",
            "|Dental by Design|      My Wine Cellar|\n",
            "|Dental by Design|Florencia Pizza B...|\n",
            "|Dental by Design|           Hi-Health|\n",
            "|Dental by Design|       Barro's Pizza|\n",
            "|Dental by Design|Healthy and Clean...|\n",
            "+----------------+--------------------+\n",
            "only showing top 5 rows\n",
            "\n"
          ]
        }
      ]
    },
    {
      "cell_type": "code",
      "metadata": {
        "id": "fw9IlerSLD3v",
        "outputId": "2a0bf6cd-e228-49da-bb83-5eeb7a9b2f18",
        "colab": {
          "base_uri": "https://localhost:8080/"
        }
      },
      "source": [
        "same_city_sdf.explain()"
      ],
      "execution_count": 16,
      "outputs": [
        {
          "output_type": "stream",
          "name": "stdout",
          "text": [
            "== Physical Plan ==\n",
            "AdaptiveSparkPlan isFinalPlan=false\n",
            "+- Project [name#171, name#302]\n",
            "   +- BroadcastHashJoin [city#174], [city#305], Inner, BuildRight, NOT (name#171 = name#302), false\n",
            "      :- Filter (isnotnull(city#174) AND isnotnull(name#171))\n",
            "      :  +- FileScan csv [name#171,city#174] Batched: false, DataFilters: [isnotnull(city#174), isnotnull(name#171)], Format: CSV, Location: InMemoryFileIndex(1 paths)[file:/content/yelp_business.csv], PartitionFilters: [], PushedFilters: [IsNotNull(city), IsNotNull(name)], ReadSchema: struct<name:string,city:string>\n",
            "      +- BroadcastExchange HashedRelationBroadcastMode(List(input[1, string, false]),false), [plan_id=282]\n",
            "         +- Filter (isnotnull(city#305) AND isnotnull(name#302))\n",
            "            +- FileScan csv [name#302,city#305] Batched: false, DataFilters: [isnotnull(city#305), isnotnull(name#302)], Format: CSV, Location: InMemoryFileIndex(1 paths)[file:/content/yelp_business.csv], PartitionFilters: [], PushedFilters: [IsNotNull(city), IsNotNull(name)], ReadSchema: struct<name:string,city:string>\n",
            "\n",
            "\n"
          ]
        }
      ]
    },
    {
      "cell_type": "code",
      "metadata": {
        "id": "L5qaIk9MT4tt",
        "colab": {
          "base_uri": "https://localhost:8080/"
        },
        "outputId": "9a2759c0-0a78-4846-9386-a64ba6ec5bf6"
      },
      "source": [
        "same_city_leftj_sdf = spark.sql('select b1.name, b2.name '\\\n",
        "                                    'from yelp_business b1 left join yelp_business b2 '\\\n",
        "                                    ' on b1.city = b2.city and b1.name <> b2.name')\n",
        "\n",
        "same_city_leftj_sdf.show(10)"
      ],
      "execution_count": 18,
      "outputs": [
        {
          "output_type": "stream",
          "name": "stdout",
          "text": [
            "+----------------+--------------------+\n",
            "|            name|                name|\n",
            "+----------------+--------------------+\n",
            "|Dental by Design|      My Wine Cellar|\n",
            "|Dental by Design|Florencia Pizza B...|\n",
            "|Dental by Design|           Hi-Health|\n",
            "|Dental by Design|       Barro's Pizza|\n",
            "|Dental by Design|Healthy and Clean...|\n",
            "|Dental by Design|U-Haul Moving & S...|\n",
            "|Dental by Design|    Hertz Rent A Car|\n",
            "|Dental by Design|Aqua-Tots Swim Sc...|\n",
            "|Dental by Design|  Designs By Christa|\n",
            "|Dental by Design| Kathy's Alterations|\n",
            "+----------------+--------------------+\n",
            "only showing top 10 rows\n",
            "\n"
          ]
        }
      ]
    }
  ]
}