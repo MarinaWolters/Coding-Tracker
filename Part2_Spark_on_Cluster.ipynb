{
  "nbformat": 4,
  "nbformat_minor": 0,
  "metadata": {
    "colab": {
      "provenance": [],
      "include_colab_link": true
    },
    "kernelspec": {
      "name": "python3",
      "display_name": "Python 3"
    }
  },
  "cells": [
    {
      "cell_type": "markdown",
      "metadata": {
        "id": "view-in-github",
        "colab_type": "text"
      },
      "source": [
        "<a href=\"https://colab.research.google.com/github/MarinaWolters/Coding-Tracker/blob/master/Part2_Spark_on_Cluster.ipynb\" target=\"_parent\"><img src=\"https://colab.research.google.com/assets/colab-badge.svg\" alt=\"Open In Colab\"/></a>"
      ]
    },
    {
      "cell_type": "code",
      "metadata": {
        "id": "7iZchwnkJK4l"
      },
      "source": [
        "%%capture\n",
        "!apt install libkrb5-dev\n",
        "!wget https://www-us.apache.org/dist/spark/spark-3.0.1/spark-3.0.1-bin-hadoop3.2.tgz\n",
        "!tar xf spark-3.0.1-bin-hadoop3.2.tgz\n",
        "!pip install findspark\n",
        "!pip install sparkmagic\n",
        "!pip install pyspark\n",
        "! pip install pyspark --user\n",
        "! pip install seaborn --user\n",
        "! pip install plotly --user\n",
        "! pip install imageio --user\n",
        "! pip install folium --user"
      ],
      "execution_count": null,
      "outputs": []
    },
    {
      "cell_type": "code",
      "metadata": {
        "id": "5ZjCJ1piJYrk"
      },
      "source": [
        "%%capture\n",
        "!apt update\n",
        "!apt install gcc python-dev libkrb5-dev"
      ],
      "execution_count": null,
      "outputs": []
    },
    {
      "cell_type": "code",
      "metadata": {
        "id": "GZIsi6jVJaL9"
      },
      "source": [
        "from pyspark.sql import SparkSession\n",
        "from pyspark.sql.types import *\n",
        "import pyspark.sql.functions as F\n",
        "\n",
        "import os\n",
        "\n",
        "spark = SparkSession.builder.appName('Graphs-HW2').getOrCreate()\n"
      ],
      "execution_count": null,
      "outputs": []
    },
    {
      "cell_type": "code",
      "metadata": {
        "id": "UN7rCGMvJbX9"
      },
      "source": [
        "import numpy as np\n",
        "import pandas as pd\n",
        "import matplotlib\n",
        "\n",
        "#misc\n",
        "import gc\n",
        "import time\n",
        "import warnings\n",
        "\n",
        "\n",
        "#graph section\n",
        "import networkx as nx\n",
        "#import heapq  # for getting top n number of things from list,dict\n",
        "import pandas as pd\n",
        "import numpy as np\n",
        "\n",
        "# JSON parsing\n",
        "import json\n",
        "\n",
        "# HTML parsing\n",
        "from lxml import etree\n",
        "import urllib\n",
        "\n",
        "# SQLite RDBMS\n",
        "import sqlite3\n",
        "\n",
        "# Time conversions\n",
        "import time\n",
        "\n",
        "# Parallel processing\n",
        "# import swifter\n",
        "\n",
        "# NoSQL DB\n",
        "from pymongo import MongoClient\n",
        "from pymongo.errors import DuplicateKeyError, OperationFailure\n",
        "\n",
        "import os\n",
        "os.environ['SPARK_HOME'] = \"/content/spark-3.0.1-bin-hadoop3.2\" #change this here\n",
        "import pyspark\n",
        "from pyspark.sql import SQLContext"
      ],
      "execution_count": null,
      "outputs": []
    },
    {
      "cell_type": "code",
      "metadata": {
        "id": "eGg5AO4OJczV"
      },
      "source": [
        "try:\n",
        "    if(spark == None):\n",
        "        spark = SparkSession.builder.appName('Initial').getOrCreate()\n",
        "        sqlContext=SQLContext(spark)\n",
        "except NameError:\n",
        "    spark = SparkSession.builder.appName('Initial').getOrCreate()\n",
        "    sqlContext=SQLContext(spark)\n"
      ],
      "execution_count": null,
      "outputs": []
    },
    {
      "cell_type": "code",
      "metadata": {
        "id": "bsOmxIc_Jexu",
        "outputId": "16f326b7-5b29-4d2c-85ed-2c1082fb4984",
        "colab": {
          "base_uri": "https://localhost:8080/",
          "height": 34
        }
      },
      "source": [
        "from google_drive_downloader import GoogleDriveDownloader as gdd\n",
        "\n",
        "gdd.download_file_from_google_drive(file_id='11lwBibxX7PYGgOfHU25_dDDDsPX1Pt0Y',\n",
        "                                    dest_path='/content/yelp_business.csv')\n"
      ],
      "execution_count": null,
      "outputs": [
        {
          "output_type": "stream",
          "text": [
            "Downloading 11lwBibxX7PYGgOfHU25_dDDDsPX1Pt0Y into /content/yelp_business.csv... Done.\n"
          ],
          "name": "stdout"
        }
      ]
    },
    {
      "cell_type": "code",
      "metadata": {
        "id": "piBuOHtuJh7J"
      },
      "source": [
        "yelp_business_sdf = spark.read.format(\"csv\").option(\"header\", \"true\").load(\"yelp_business.csv\")\n",
        "yelp_business_sdf.createOrReplaceTempView('yelp_business')\n"
      ],
      "execution_count": null,
      "outputs": []
    },
    {
      "cell_type": "code",
      "metadata": {
        "id": "w8Hy1Y9CJ5Bk",
        "outputId": "af378d5f-ec8b-4b00-86aa-d491c78b5c42",
        "colab": {
          "base_uri": "https://localhost:8080/",
          "height": 230
        }
      },
      "source": [
        "yelp_business_sdf.show(5)"
      ],
      "execution_count": null,
      "outputs": [
        {
          "output_type": "stream",
          "text": [
            "+--------------------+--------------------+------------+--------------------+--------------+-----+-----------+----------+------------+-----+------------+-------+--------------------+\n",
            "|         business_id|                name|neighborhood|             address|          city|state|postal_code|  latitude|   longitude|stars|review_count|is_open|          categories|\n",
            "+--------------------+--------------------+------------+--------------------+--------------+-----+-----------+----------+------------+-----+------------+-------+--------------------+\n",
            "|FYWN1wneV18bWNgQj...|    Dental by Design|        null|4855 E Warner Rd,...|     Ahwatukee|   AZ|      85044|33.3306902|-111.9785992|  4.0|          22|      1|Dentists;General ...|\n",
            "|He-G7vWjzVUysIKrf...| Stephen Szabo Salon|        null|  3101 Washington Rd|      McMurray|   PA|      15317|40.2916853| -80.1048999|  3.0|          11|      1|Hair Stylists;Hai...|\n",
            "|KQPW8lFf1y5BT2Mxi...|Western Motor Veh...|        null|6025 N 27th Ave, ...|       Phoenix|   AZ|      85017|33.5249025|-112.1153098|  1.5|          18|      1|Departments of Mo...|\n",
            "|8DShNS-LuFqpEWIp0...|    Sports Authority|        null|5000 Arizona Mill...|         Tempe|   AZ|      85282|33.3831468|-111.9647254|  3.0|           9|      0|Sporting Goods;Sh...|\n",
            "|PfOCPjBrlQAnz__NX...|Brick House Taver...|        null|        581 Howe Ave|Cuyahoga Falls|   OH|      44221|41.1195346| -81.4756898|  3.5|         116|      1|American (New);Ni...|\n",
            "+--------------------+--------------------+------------+--------------------+--------------+-----+-----------+----------+------------+-----+------------+-------+--------------------+\n",
            "only showing top 5 rows\n",
            "\n"
          ],
          "name": "stdout"
        }
      ]
    },
    {
      "cell_type": "code",
      "metadata": {
        "id": "8P85DnGFJnC5",
        "outputId": "1ab58aff-5ded-4711-c227-a76bde802011",
        "colab": {
          "base_uri": "https://localhost:8080/",
          "height": 160
        }
      },
      "source": [
        "avg_reviews_by_city_sdf = spark.sql('select city, avg(stars) as avg_rating from yelp_business yb '\\\n",
        "                                             'group by city')\n",
        "\n",
        "avg_reviews_by_city_sdf.explain()"
      ],
      "execution_count": null,
      "outputs": [
        {
          "output_type": "stream",
          "text": [
            "== Physical Plan ==\n",
            "*(2) HashAggregate(keys=[city#129], functions=[avg(cast(stars#134 as double))])\n",
            "+- Exchange hashpartitioning(city#129, 200), true, [id=#98]\n",
            "   +- *(1) HashAggregate(keys=[city#129], functions=[partial_avg(cast(stars#134 as double))])\n",
            "      +- FileScan csv [city#129,stars#134] Batched: false, DataFilters: [], Format: CSV, Location: InMemoryFileIndex[file:/content/yelp_business.csv], PartitionFilters: [], PushedFilters: [], ReadSchema: struct<city:string,stars:string>\n",
            "\n",
            "\n"
          ],
          "name": "stdout"
        }
      ]
    },
    {
      "cell_type": "code",
      "metadata": {
        "id": "2iZqLIO-J-Lu",
        "outputId": "15576eda-fa22-4774-ff7a-8713eebc34a2",
        "colab": {
          "base_uri": "https://localhost:8080/",
          "height": 210
        }
      },
      "source": [
        "same_city_sdf = spark.sql('select b1.name, b2.name from yelp_business b1 join yelp_business b2 '\\\n",
        "                                             ' on b1.city = b2.city and b1.name <> b2.name')\n",
        "\n",
        "same_city_sdf.show(5)"
      ],
      "execution_count": null,
      "outputs": [
        {
          "output_type": "stream",
          "text": [
            "+----------------+--------------------+\n",
            "|            name|                name|\n",
            "+----------------+--------------------+\n",
            "|Dental by Design|      My Wine Cellar|\n",
            "|Dental by Design|Florencia Pizza B...|\n",
            "|Dental by Design|           Hi-Health|\n",
            "|Dental by Design|       Barro's Pizza|\n",
            "|Dental by Design|Healthy and Clean...|\n",
            "+----------------+--------------------+\n",
            "only showing top 5 rows\n",
            "\n"
          ],
          "name": "stdout"
        }
      ]
    },
    {
      "cell_type": "code",
      "metadata": {
        "id": "fw9IlerSLD3v",
        "outputId": "e05f9d97-555f-4d20-a9a3-e15f66c7c8d8",
        "colab": {
          "base_uri": "https://localhost:8080/",
          "height": 248
        }
      },
      "source": [
        "same_city_sdf.explain()"
      ],
      "execution_count": null,
      "outputs": [
        {
          "output_type": "stream",
          "text": [
            "== Physical Plan ==\n",
            "*(2) Project [name#126, name#427]\n",
            "+- *(2) BroadcastHashJoin [city#129], [city#430], Inner, BuildRight, NOT (name#126 = name#427)\n",
            "   :- *(2) Project [name#126, city#129]\n",
            "   :  +- *(2) Filter (isnotnull(city#129) AND isnotnull(name#126))\n",
            "   :     +- FileScan csv [name#126,city#129] Batched: false, DataFilters: [isnotnull(city#129), isnotnull(name#126)], Format: CSV, Location: InMemoryFileIndex[file:/content/yelp_business.csv], PartitionFilters: [], PushedFilters: [IsNotNull(city), IsNotNull(name)], ReadSchema: struct<name:string,city:string>\n",
            "   +- BroadcastExchange HashedRelationBroadcastMode(List(input[1, string, true])), [id=#550]\n",
            "      +- *(1) Project [name#427, city#430]\n",
            "         +- *(1) Filter (isnotnull(city#430) AND isnotnull(name#427))\n",
            "            +- FileScan csv [name#427,city#430] Batched: false, DataFilters: [isnotnull(city#430), isnotnull(name#427)], Format: CSV, Location: InMemoryFileIndex[file:/content/yelp_business.csv], PartitionFilters: [], PushedFilters: [IsNotNull(city), IsNotNull(name)], ReadSchema: struct<name:string,city:string>\n",
            "\n",
            "\n"
          ],
          "name": "stdout"
        }
      ]
    },
    {
      "cell_type": "code",
      "metadata": {
        "id": "L5qaIk9MT4tt"
      },
      "source": [],
      "execution_count": null,
      "outputs": []
    }
  ]
}