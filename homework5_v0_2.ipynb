{
  "nbformat": 4,
  "nbformat_minor": 0,
  "metadata": {
    "colab": {
      "provenance": [],
      "include_colab_link": true
    },
    "kernelspec": {
      "name": "python3",
      "display_name": "Python 3"
    },
    "language_info": {
      "name": "python"
    }
  },
  "cells": [
    {
      "cell_type": "markdown",
      "metadata": {
        "id": "view-in-github",
        "colab_type": "text"
      },
      "source": [
        "<a href=\"https://colab.research.google.com/github/MarinaWolters/Coding-Tracker/blob/master/homework5_v0_2.ipynb\" target=\"_parent\"><img src=\"https://colab.research.google.com/assets/colab-badge.svg\" alt=\"Open In Colab\"/></a>"
      ]
    },
    {
      "cell_type": "markdown",
      "source": [
        "# Homework 5: Advanced Vector Space Models\n",
        "\n",
        "## Due Date: Jun 19\n",
        "## Total Points: 116 points + 8 bonus\n",
        "- **Overview**: In this assignment, we will examine some advanced uses of vector representations of words. We are going to look at three different problems:\n",
        "\n",
        "  - Solving word relation problems like analogies using word embeddings.\n",
        "  - Comparing correlation for human judgments of similarity to the vector similarities\n",
        "  - Discovering the different senses of a ‘polysemous’ word by clustering together its paraphrases.\n",
        "\n",
        "- **Delieverables:** This assignment has several deliverables:\n",
        "  - Code (this notebook) *(Automatic Graded)*\n",
        "    - Part 1: answers to questions\n",
        "    - Part 3: 4 different clustering functions\n",
        "  - Write Up (include in this notebook or a separate Report.pdf) *(Manually Graded)*\n",
        "    - Part 2: answers to questions\n",
        "    - Part 3: F-scores for clustering algorithms & discussions about your models\n",
        "  - Leaderboard Without K *(Automatic Graded on GradeScope)*\n",
        "    - `test_nok_output_leaderboard.txt` = Task 3.4 output file\n",
        "  - Leaderboard With K *(Automatic Graded on GradeScope)*\n",
        "    - `test_output_leaderboard.txt` = Task 3.2 or 3.3 output file\n",
        "\n",
        "- **Grading**: We will use the auto-grading system called `PennGrader`. To complete the homework assignment, you should implement anything marked with `#TODO` and run the cell with `#PennGrader` note.\n",
        "\n",
        "\n",
        "## Recommended Readings\n",
        "- [Vector Semantics](https://web.stanford.edu/~jurafsky/slp3/6.pdf). Dan Jurafsky and James H. Martin. Speech and Language Processing (3rd edition draft).\n",
        "- [Efficient Estimation of Word Representations in Vector Space](https://arxiv.org/pdf/1301.3781.pdf?). Tomas Mikolov, Kai Chen, Greg Corrado, Jeffrey Dean. ArXiV 2013.\n",
        "- [Linguistic Regularities in Continuous Space Word Representations](https://www.aclweb.org/anthology/N13-1090). Tomas Mikolov, Wen-tau Yih, Geoffrey Zweig. NAACL 2013.\n",
        "- [Discovering Word Senses from Text](https://cs.uwaterloo.ca/~cdimarco/pdf/cs886/Pantel+Lin02.pdf). Patrick Pangel and Dekang Ling. KDD 2002.\n",
        "- [Linguistic Regularities in Sparse and Explicit Word Representations](https://aclanthology.org/W14-1618.pdf). Patrick Pangel and Dekang Ling. CoNLL 2014.\n",
        "- [Clustering Paraphrases by Word Sense](https://www.cis.upenn.edu/~ccb/publications/clustering-paraphrases-by-word-sense.pdf). Anne Cocos and Chris Callison-Burch. NAACL 2016.\n",
        "\n",
        "## To get started, **make a copy** of this colab notebook into your google drive!"
      ],
      "metadata": {
        "id": "mb4Yr8KhRhbe"
      }
    },
    {
      "cell_type": "markdown",
      "metadata": {
        "id": "IDv9qN5c9357"
      },
      "source": [
        "## Setup 1: PennGrader Setup [4 points]"
      ]
    },
    {
      "cell_type": "code",
      "source": [
        "## DO NOT CHANGE ANYTHING, JUST RUN\n",
        "%%capture\n",
        "!pip install penngrader-client"
      ],
      "metadata": {
        "id": "jpSjR2N19kk4"
      },
      "execution_count": null,
      "outputs": []
    },
    {
      "cell_type": "code",
      "source": [
        "%%writefile notebook-config.yaml\n",
        "\n",
        "grader_api_url: 'https://23whrwph9h.execute-api.us-east-1.amazonaws.com/default/Grader23'\n",
        "grader_api_key: 'flfkE736fA6Z8GxMDJe2q8Kfk8UDqjsG3GVqOFOa'"
      ],
      "metadata": {
        "id": "FvPA8Z2D9ki_",
        "colab": {
          "base_uri": "https://localhost:8080/"
        },
        "outputId": "8595f04c-8efb-4850-f58a-946e68ed59e9"
      },
      "execution_count": null,
      "outputs": [
        {
          "output_type": "stream",
          "name": "stdout",
          "text": [
            "Writing notebook-config.yaml\n"
          ]
        }
      ]
    },
    {
      "cell_type": "code",
      "source": [
        "!cat notebook-config.yaml"
      ],
      "metadata": {
        "id": "xbeXT4Oj9kg_",
        "colab": {
          "base_uri": "https://localhost:8080/"
        },
        "outputId": "d87db590-2014-4cda-a49a-5b19dbdbc831"
      },
      "execution_count": null,
      "outputs": [
        {
          "output_type": "stream",
          "name": "stdout",
          "text": [
            "\n",
            "grader_api_url: 'https://23whrwph9h.execute-api.us-east-1.amazonaws.com/default/Grader23'\n",
            "grader_api_key: 'flfkE736fA6Z8GxMDJe2q8Kfk8UDqjsG3GVqOFOa'\n"
          ]
        }
      ]
    },
    {
      "cell_type": "code",
      "source": [
        "from penngrader.grader import *\n",
        "\n",
        "## TODO - Start\n",
        "STUDENT_ID = 81449864 # YOUR PENN-ID GOES HERE AS AN INTEGER#\n",
        "## TODO - End\n",
        "\n",
        "SECRET = STUDENT_ID\n",
        "grader = PennGrader('notebook-config.yaml', 'CIS5300_OL_23Su_HW5', STUDENT_ID, SECRET)"
      ],
      "metadata": {
        "id": "OceP0Hr-9kfC",
        "colab": {
          "base_uri": "https://localhost:8080/"
        },
        "outputId": "dd13aee0-1275-457e-8304-b87a4fb69b3c"
      },
      "execution_count": null,
      "outputs": [
        {
          "output_type": "stream",
          "name": "stdout",
          "text": [
            "PennGrader initialized with Student ID: 81449864\n",
            "\n",
            "Make sure this correct or we will not be able to store your grade\n"
          ]
        }
      ]
    },
    {
      "cell_type": "code",
      "source": [
        "# check if the PennGrader is set up correctly\n",
        "# do not chance this cell, see if you get 4/4!\n",
        "name_str = 'CIS 5300 Student'\n",
        "grader.grade(test_case_id = 'name_test', answer = name_str)"
      ],
      "metadata": {
        "id": "k5lAgKaYa-uN",
        "colab": {
          "base_uri": "https://localhost:8080/"
        },
        "outputId": "2e7965a8-3a34-4193-8700-6a66b6cfa06a"
      },
      "execution_count": null,
      "outputs": [
        {
          "output_type": "stream",
          "name": "stdout",
          "text": [
            "Correct! You earned 4/4 points. You are a star!\n",
            "\n",
            "Your submission has been successfully recorded in the gradebook.\n"
          ]
        }
      ]
    },
    {
      "cell_type": "markdown",
      "source": [
        "## Setup 2: Dataset / Packages\n",
        "- **Run the following cells without changing anything!**"
      ],
      "metadata": {
        "id": "CHrdyiQdBt2K"
      }
    },
    {
      "cell_type": "code",
      "source": [
        "### This cell might take 3 min to run ###\n",
        "! echo \"Installing Magnitude.... (please wait, can take a while)\"\n",
        "! (curl https://raw.githubusercontent.com/plasticityai/magnitude/master/install-colab.sh | /bin/bash 1>/dev/null 2>/dev/null)\n",
        "! echo \"Done installing Magnitude.\""
      ],
      "metadata": {
        "id": "lNBeJLVcSusU",
        "colab": {
          "base_uri": "https://localhost:8080/"
        },
        "outputId": "ca969f96-d9b5-4267-fb52-855824668e1c"
      },
      "execution_count": null,
      "outputs": [
        {
          "output_type": "stream",
          "name": "stdout",
          "text": [
            "Installing Magnitude.... (please wait, can take a while)\n",
            "  % Total    % Received % Xferd  Average Speed   Time    Time     Time  Current\n",
            "                                 Dload  Upload   Total   Spent    Left  Speed\n",
            "100   137  100   137    0     0   1078      0 --:--:-- --:--:-- --:--:--  1078\n",
            "Done installing Magnitude.\n"
          ]
        }
      ]
    },
    {
      "cell_type": "code",
      "source": [
        "!pip install spacy\n",
        "!python -m spacy download en_core_web_sm\n",
        "!python -m spacy download en"
      ],
      "metadata": {
        "id": "nMLKUtdbw-qI",
        "colab": {
          "base_uri": "https://localhost:8080/"
        },
        "outputId": "67ca4a07-138d-48c1-e43d-498dc2b99fff"
      },
      "execution_count": null,
      "outputs": [
        {
          "output_type": "stream",
          "name": "stdout",
          "text": [
            "Looking in indexes: https://pypi.org/simple, https://us-python.pkg.dev/colab-wheels/public/simple/\n",
            "Requirement already satisfied: spacy in /usr/local/lib/python3.10/dist-packages (3.5.2)\n",
            "Requirement already satisfied: spacy-legacy<3.1.0,>=3.0.11 in /usr/local/lib/python3.10/dist-packages (from spacy) (3.0.12)\n",
            "Requirement already satisfied: spacy-loggers<2.0.0,>=1.0.0 in /usr/local/lib/python3.10/dist-packages (from spacy) (1.0.4)\n",
            "Requirement already satisfied: murmurhash<1.1.0,>=0.28.0 in /usr/local/lib/python3.10/dist-packages (from spacy) (1.0.9)\n",
            "Requirement already satisfied: cymem<2.1.0,>=2.0.2 in /usr/local/lib/python3.10/dist-packages (from spacy) (2.0.7)\n",
            "Requirement already satisfied: preshed<3.1.0,>=3.0.2 in /usr/local/lib/python3.10/dist-packages (from spacy) (3.0.8)\n",
            "Requirement already satisfied: thinc<8.2.0,>=8.1.8 in /usr/local/lib/python3.10/dist-packages (from spacy) (8.1.9)\n",
            "Requirement already satisfied: wasabi<1.2.0,>=0.9.1 in /usr/local/lib/python3.10/dist-packages (from spacy) (1.1.1)\n",
            "Requirement already satisfied: srsly<3.0.0,>=2.4.3 in /usr/local/lib/python3.10/dist-packages (from spacy) (2.4.6)\n",
            "Requirement already satisfied: catalogue<2.1.0,>=2.0.6 in /usr/local/lib/python3.10/dist-packages (from spacy) (2.0.8)\n",
            "Requirement already satisfied: typer<0.8.0,>=0.3.0 in /usr/local/lib/python3.10/dist-packages (from spacy) (0.7.0)\n",
            "Requirement already satisfied: pathy>=0.10.0 in /usr/local/lib/python3.10/dist-packages (from spacy) (0.10.1)\n",
            "Requirement already satisfied: smart-open<7.0.0,>=5.2.1 in /usr/local/lib/python3.10/dist-packages (from spacy) (6.3.0)\n",
            "Requirement already satisfied: tqdm<5.0.0,>=4.38.0 in /usr/local/lib/python3.10/dist-packages (from spacy) (4.65.0)\n",
            "Requirement already satisfied: numpy>=1.15.0 in /usr/local/lib/python3.10/dist-packages (from spacy) (1.22.4)\n",
            "Requirement already satisfied: requests<3.0.0,>=2.13.0 in /usr/local/lib/python3.10/dist-packages (from spacy) (2.27.1)\n",
            "Requirement already satisfied: pydantic!=1.8,!=1.8.1,<1.11.0,>=1.7.4 in /usr/local/lib/python3.10/dist-packages (from spacy) (1.10.7)\n",
            "Requirement already satisfied: jinja2 in /usr/local/lib/python3.10/dist-packages (from spacy) (3.1.2)\n",
            "Requirement already satisfied: setuptools in /usr/local/lib/python3.10/dist-packages (from spacy) (67.7.2)\n",
            "Requirement already satisfied: packaging>=20.0 in /usr/local/lib/python3.10/dist-packages (from spacy) (23.1)\n",
            "Requirement already satisfied: langcodes<4.0.0,>=3.2.0 in /usr/local/lib/python3.10/dist-packages (from spacy) (3.3.0)\n",
            "Requirement already satisfied: typing-extensions>=4.2.0 in /usr/local/lib/python3.10/dist-packages (from pydantic!=1.8,!=1.8.1,<1.11.0,>=1.7.4->spacy) (4.5.0)\n",
            "Requirement already satisfied: urllib3<1.27,>=1.21.1 in /usr/local/lib/python3.10/dist-packages (from requests<3.0.0,>=2.13.0->spacy) (1.26.15)\n",
            "Requirement already satisfied: certifi>=2017.4.17 in /usr/local/lib/python3.10/dist-packages (from requests<3.0.0,>=2.13.0->spacy) (2022.12.7)\n",
            "Requirement already satisfied: charset-normalizer~=2.0.0 in /usr/local/lib/python3.10/dist-packages (from requests<3.0.0,>=2.13.0->spacy) (2.0.12)\n",
            "Requirement already satisfied: idna<4,>=2.5 in /usr/local/lib/python3.10/dist-packages (from requests<3.0.0,>=2.13.0->spacy) (3.4)\n",
            "Requirement already satisfied: blis<0.8.0,>=0.7.8 in /usr/local/lib/python3.10/dist-packages (from thinc<8.2.0,>=8.1.8->spacy) (0.7.9)\n",
            "Requirement already satisfied: confection<1.0.0,>=0.0.1 in /usr/local/lib/python3.10/dist-packages (from thinc<8.2.0,>=8.1.8->spacy) (0.0.4)\n",
            "Requirement already satisfied: click<9.0.0,>=7.1.1 in /usr/local/lib/python3.10/dist-packages (from typer<0.8.0,>=0.3.0->spacy) (8.1.3)\n",
            "Requirement already satisfied: MarkupSafe>=2.0 in /usr/local/lib/python3.10/dist-packages (from jinja2->spacy) (2.1.2)\n",
            "2023-06-22 20:53:10.075169: I tensorflow/core/platform/cpu_feature_guard.cc:182] This TensorFlow binary is optimized to use available CPU instructions in performance-critical operations.\n",
            "To enable the following instructions: AVX2 FMA, in other operations, rebuild TensorFlow with the appropriate compiler flags.\n",
            "2023-06-22 20:53:10.893416: W tensorflow/compiler/tf2tensorrt/utils/py_utils.cc:38] TF-TRT Warning: Could not find TensorRT\n",
            "Looking in indexes: https://pypi.org/simple, https://us-python.pkg.dev/colab-wheels/public/simple/\n",
            "Collecting en-core-web-sm==3.5.0\n",
            "  Downloading https://github.com/explosion/spacy-models/releases/download/en_core_web_sm-3.5.0/en_core_web_sm-3.5.0-py3-none-any.whl (12.8 MB)\n",
            "\u001b[2K     \u001b[90m━━━━━━━━━━━━━━━━━━━━━━━━━━━━━━━━━━━━━━━\u001b[0m \u001b[32m12.8/12.8 MB\u001b[0m \u001b[31m119.1 MB/s\u001b[0m eta \u001b[36m0:00:00\u001b[0m\n",
            "\u001b[?25hRequirement already satisfied: spacy<3.6.0,>=3.5.0 in /usr/local/lib/python3.10/dist-packages (from en-core-web-sm==3.5.0) (3.5.2)\n",
            "Requirement already satisfied: spacy-legacy<3.1.0,>=3.0.11 in /usr/local/lib/python3.10/dist-packages (from spacy<3.6.0,>=3.5.0->en-core-web-sm==3.5.0) (3.0.12)\n",
            "Requirement already satisfied: spacy-loggers<2.0.0,>=1.0.0 in /usr/local/lib/python3.10/dist-packages (from spacy<3.6.0,>=3.5.0->en-core-web-sm==3.5.0) (1.0.4)\n",
            "Requirement already satisfied: murmurhash<1.1.0,>=0.28.0 in /usr/local/lib/python3.10/dist-packages (from spacy<3.6.0,>=3.5.0->en-core-web-sm==3.5.0) (1.0.9)\n",
            "Requirement already satisfied: cymem<2.1.0,>=2.0.2 in /usr/local/lib/python3.10/dist-packages (from spacy<3.6.0,>=3.5.0->en-core-web-sm==3.5.0) (2.0.7)\n",
            "Requirement already satisfied: preshed<3.1.0,>=3.0.2 in /usr/local/lib/python3.10/dist-packages (from spacy<3.6.0,>=3.5.0->en-core-web-sm==3.5.0) (3.0.8)\n",
            "Requirement already satisfied: thinc<8.2.0,>=8.1.8 in /usr/local/lib/python3.10/dist-packages (from spacy<3.6.0,>=3.5.0->en-core-web-sm==3.5.0) (8.1.9)\n",
            "Requirement already satisfied: wasabi<1.2.0,>=0.9.1 in /usr/local/lib/python3.10/dist-packages (from spacy<3.6.0,>=3.5.0->en-core-web-sm==3.5.0) (1.1.1)\n",
            "Requirement already satisfied: srsly<3.0.0,>=2.4.3 in /usr/local/lib/python3.10/dist-packages (from spacy<3.6.0,>=3.5.0->en-core-web-sm==3.5.0) (2.4.6)\n",
            "Requirement already satisfied: catalogue<2.1.0,>=2.0.6 in /usr/local/lib/python3.10/dist-packages (from spacy<3.6.0,>=3.5.0->en-core-web-sm==3.5.0) (2.0.8)\n",
            "Requirement already satisfied: typer<0.8.0,>=0.3.0 in /usr/local/lib/python3.10/dist-packages (from spacy<3.6.0,>=3.5.0->en-core-web-sm==3.5.0) (0.7.0)\n",
            "Requirement already satisfied: pathy>=0.10.0 in /usr/local/lib/python3.10/dist-packages (from spacy<3.6.0,>=3.5.0->en-core-web-sm==3.5.0) (0.10.1)\n",
            "Requirement already satisfied: smart-open<7.0.0,>=5.2.1 in /usr/local/lib/python3.10/dist-packages (from spacy<3.6.0,>=3.5.0->en-core-web-sm==3.5.0) (6.3.0)\n",
            "Requirement already satisfied: tqdm<5.0.0,>=4.38.0 in /usr/local/lib/python3.10/dist-packages (from spacy<3.6.0,>=3.5.0->en-core-web-sm==3.5.0) (4.65.0)\n",
            "Requirement already satisfied: numpy>=1.15.0 in /usr/local/lib/python3.10/dist-packages (from spacy<3.6.0,>=3.5.0->en-core-web-sm==3.5.0) (1.22.4)\n",
            "Requirement already satisfied: requests<3.0.0,>=2.13.0 in /usr/local/lib/python3.10/dist-packages (from spacy<3.6.0,>=3.5.0->en-core-web-sm==3.5.0) (2.27.1)\n",
            "Requirement already satisfied: pydantic!=1.8,!=1.8.1,<1.11.0,>=1.7.4 in /usr/local/lib/python3.10/dist-packages (from spacy<3.6.0,>=3.5.0->en-core-web-sm==3.5.0) (1.10.7)\n",
            "Requirement already satisfied: jinja2 in /usr/local/lib/python3.10/dist-packages (from spacy<3.6.0,>=3.5.0->en-core-web-sm==3.5.0) (3.1.2)\n",
            "Requirement already satisfied: setuptools in /usr/local/lib/python3.10/dist-packages (from spacy<3.6.0,>=3.5.0->en-core-web-sm==3.5.0) (67.7.2)\n",
            "Requirement already satisfied: packaging>=20.0 in /usr/local/lib/python3.10/dist-packages (from spacy<3.6.0,>=3.5.0->en-core-web-sm==3.5.0) (23.1)\n",
            "Requirement already satisfied: langcodes<4.0.0,>=3.2.0 in /usr/local/lib/python3.10/dist-packages (from spacy<3.6.0,>=3.5.0->en-core-web-sm==3.5.0) (3.3.0)\n",
            "Requirement already satisfied: typing-extensions>=4.2.0 in /usr/local/lib/python3.10/dist-packages (from pydantic!=1.8,!=1.8.1,<1.11.0,>=1.7.4->spacy<3.6.0,>=3.5.0->en-core-web-sm==3.5.0) (4.5.0)\n",
            "Requirement already satisfied: urllib3<1.27,>=1.21.1 in /usr/local/lib/python3.10/dist-packages (from requests<3.0.0,>=2.13.0->spacy<3.6.0,>=3.5.0->en-core-web-sm==3.5.0) (1.26.15)\n",
            "Requirement already satisfied: certifi>=2017.4.17 in /usr/local/lib/python3.10/dist-packages (from requests<3.0.0,>=2.13.0->spacy<3.6.0,>=3.5.0->en-core-web-sm==3.5.0) (2022.12.7)\n",
            "Requirement already satisfied: charset-normalizer~=2.0.0 in /usr/local/lib/python3.10/dist-packages (from requests<3.0.0,>=2.13.0->spacy<3.6.0,>=3.5.0->en-core-web-sm==3.5.0) (2.0.12)\n",
            "Requirement already satisfied: idna<4,>=2.5 in /usr/local/lib/python3.10/dist-packages (from requests<3.0.0,>=2.13.0->spacy<3.6.0,>=3.5.0->en-core-web-sm==3.5.0) (3.4)\n",
            "Requirement already satisfied: blis<0.8.0,>=0.7.8 in /usr/local/lib/python3.10/dist-packages (from thinc<8.2.0,>=8.1.8->spacy<3.6.0,>=3.5.0->en-core-web-sm==3.5.0) (0.7.9)\n",
            "Requirement already satisfied: confection<1.0.0,>=0.0.1 in /usr/local/lib/python3.10/dist-packages (from thinc<8.2.0,>=8.1.8->spacy<3.6.0,>=3.5.0->en-core-web-sm==3.5.0) (0.0.4)\n",
            "Requirement already satisfied: click<9.0.0,>=7.1.1 in /usr/local/lib/python3.10/dist-packages (from typer<0.8.0,>=0.3.0->spacy<3.6.0,>=3.5.0->en-core-web-sm==3.5.0) (8.1.3)\n",
            "Requirement already satisfied: MarkupSafe>=2.0 in /usr/local/lib/python3.10/dist-packages (from jinja2->spacy<3.6.0,>=3.5.0->en-core-web-sm==3.5.0) (2.1.2)\n",
            "\u001b[38;5;2m✔ Download and installation successful\u001b[0m\n",
            "You can now load the package via spacy.load('en_core_web_sm')\n",
            "2023-06-22 20:53:21.036098: I tensorflow/core/platform/cpu_feature_guard.cc:182] This TensorFlow binary is optimized to use available CPU instructions in performance-critical operations.\n",
            "To enable the following instructions: AVX2 FMA, in other operations, rebuild TensorFlow with the appropriate compiler flags.\n",
            "2023-06-22 20:53:21.862174: W tensorflow/compiler/tf2tensorrt/utils/py_utils.cc:38] TF-TRT Warning: Could not find TensorRT\n",
            "\u001b[38;5;3m⚠ As of spaCy v3.0, shortcuts like 'en' are deprecated. Please use the\n",
            "full pipeline package name 'en_core_web_sm' instead.\u001b[0m\n",
            "Looking in indexes: https://pypi.org/simple, https://us-python.pkg.dev/colab-wheels/public/simple/\n",
            "Collecting en-core-web-sm==3.5.0\n",
            "  Downloading https://github.com/explosion/spacy-models/releases/download/en_core_web_sm-3.5.0/en_core_web_sm-3.5.0-py3-none-any.whl (12.8 MB)\n",
            "\u001b[2K     \u001b[90m━━━━━━━━━━━━━━━━━━━━━━━━━━━━━━━━━━━━━━━━\u001b[0m \u001b[32m12.8/12.8 MB\u001b[0m \u001b[31m66.3 MB/s\u001b[0m eta \u001b[36m0:00:00\u001b[0m\n",
            "\u001b[?25hRequirement already satisfied: spacy<3.6.0,>=3.5.0 in /usr/local/lib/python3.10/dist-packages (from en-core-web-sm==3.5.0) (3.5.2)\n",
            "Requirement already satisfied: spacy-legacy<3.1.0,>=3.0.11 in /usr/local/lib/python3.10/dist-packages (from spacy<3.6.0,>=3.5.0->en-core-web-sm==3.5.0) (3.0.12)\n",
            "Requirement already satisfied: spacy-loggers<2.0.0,>=1.0.0 in /usr/local/lib/python3.10/dist-packages (from spacy<3.6.0,>=3.5.0->en-core-web-sm==3.5.0) (1.0.4)\n",
            "Requirement already satisfied: murmurhash<1.1.0,>=0.28.0 in /usr/local/lib/python3.10/dist-packages (from spacy<3.6.0,>=3.5.0->en-core-web-sm==3.5.0) (1.0.9)\n",
            "Requirement already satisfied: cymem<2.1.0,>=2.0.2 in /usr/local/lib/python3.10/dist-packages (from spacy<3.6.0,>=3.5.0->en-core-web-sm==3.5.0) (2.0.7)\n",
            "Requirement already satisfied: preshed<3.1.0,>=3.0.2 in /usr/local/lib/python3.10/dist-packages (from spacy<3.6.0,>=3.5.0->en-core-web-sm==3.5.0) (3.0.8)\n",
            "Requirement already satisfied: thinc<8.2.0,>=8.1.8 in /usr/local/lib/python3.10/dist-packages (from spacy<3.6.0,>=3.5.0->en-core-web-sm==3.5.0) (8.1.9)\n",
            "Requirement already satisfied: wasabi<1.2.0,>=0.9.1 in /usr/local/lib/python3.10/dist-packages (from spacy<3.6.0,>=3.5.0->en-core-web-sm==3.5.0) (1.1.1)\n",
            "Requirement already satisfied: srsly<3.0.0,>=2.4.3 in /usr/local/lib/python3.10/dist-packages (from spacy<3.6.0,>=3.5.0->en-core-web-sm==3.5.0) (2.4.6)\n",
            "Requirement already satisfied: catalogue<2.1.0,>=2.0.6 in /usr/local/lib/python3.10/dist-packages (from spacy<3.6.0,>=3.5.0->en-core-web-sm==3.5.0) (2.0.8)\n",
            "Requirement already satisfied: typer<0.8.0,>=0.3.0 in /usr/local/lib/python3.10/dist-packages (from spacy<3.6.0,>=3.5.0->en-core-web-sm==3.5.0) (0.7.0)\n",
            "Requirement already satisfied: pathy>=0.10.0 in /usr/local/lib/python3.10/dist-packages (from spacy<3.6.0,>=3.5.0->en-core-web-sm==3.5.0) (0.10.1)\n",
            "Requirement already satisfied: smart-open<7.0.0,>=5.2.1 in /usr/local/lib/python3.10/dist-packages (from spacy<3.6.0,>=3.5.0->en-core-web-sm==3.5.0) (6.3.0)\n",
            "Requirement already satisfied: tqdm<5.0.0,>=4.38.0 in /usr/local/lib/python3.10/dist-packages (from spacy<3.6.0,>=3.5.0->en-core-web-sm==3.5.0) (4.65.0)\n",
            "Requirement already satisfied: numpy>=1.15.0 in /usr/local/lib/python3.10/dist-packages (from spacy<3.6.0,>=3.5.0->en-core-web-sm==3.5.0) (1.22.4)\n",
            "Requirement already satisfied: requests<3.0.0,>=2.13.0 in /usr/local/lib/python3.10/dist-packages (from spacy<3.6.0,>=3.5.0->en-core-web-sm==3.5.0) (2.27.1)\n",
            "Requirement already satisfied: pydantic!=1.8,!=1.8.1,<1.11.0,>=1.7.4 in /usr/local/lib/python3.10/dist-packages (from spacy<3.6.0,>=3.5.0->en-core-web-sm==3.5.0) (1.10.7)\n",
            "Requirement already satisfied: jinja2 in /usr/local/lib/python3.10/dist-packages (from spacy<3.6.0,>=3.5.0->en-core-web-sm==3.5.0) (3.1.2)\n",
            "Requirement already satisfied: setuptools in /usr/local/lib/python3.10/dist-packages (from spacy<3.6.0,>=3.5.0->en-core-web-sm==3.5.0) (67.7.2)\n",
            "Requirement already satisfied: packaging>=20.0 in /usr/local/lib/python3.10/dist-packages (from spacy<3.6.0,>=3.5.0->en-core-web-sm==3.5.0) (23.1)\n",
            "Requirement already satisfied: langcodes<4.0.0,>=3.2.0 in /usr/local/lib/python3.10/dist-packages (from spacy<3.6.0,>=3.5.0->en-core-web-sm==3.5.0) (3.3.0)\n",
            "Requirement already satisfied: typing-extensions>=4.2.0 in /usr/local/lib/python3.10/dist-packages (from pydantic!=1.8,!=1.8.1,<1.11.0,>=1.7.4->spacy<3.6.0,>=3.5.0->en-core-web-sm==3.5.0) (4.5.0)\n",
            "Requirement already satisfied: urllib3<1.27,>=1.21.1 in /usr/local/lib/python3.10/dist-packages (from requests<3.0.0,>=2.13.0->spacy<3.6.0,>=3.5.0->en-core-web-sm==3.5.0) (1.26.15)\n",
            "Requirement already satisfied: certifi>=2017.4.17 in /usr/local/lib/python3.10/dist-packages (from requests<3.0.0,>=2.13.0->spacy<3.6.0,>=3.5.0->en-core-web-sm==3.5.0) (2022.12.7)\n",
            "Requirement already satisfied: charset-normalizer~=2.0.0 in /usr/local/lib/python3.10/dist-packages (from requests<3.0.0,>=2.13.0->spacy<3.6.0,>=3.5.0->en-core-web-sm==3.5.0) (2.0.12)\n",
            "Requirement already satisfied: idna<4,>=2.5 in /usr/local/lib/python3.10/dist-packages (from requests<3.0.0,>=2.13.0->spacy<3.6.0,>=3.5.0->en-core-web-sm==3.5.0) (3.4)\n",
            "Requirement already satisfied: blis<0.8.0,>=0.7.8 in /usr/local/lib/python3.10/dist-packages (from thinc<8.2.0,>=8.1.8->spacy<3.6.0,>=3.5.0->en-core-web-sm==3.5.0) (0.7.9)\n",
            "Requirement already satisfied: confection<1.0.0,>=0.0.1 in /usr/local/lib/python3.10/dist-packages (from thinc<8.2.0,>=8.1.8->spacy<3.6.0,>=3.5.0->en-core-web-sm==3.5.0) (0.0.4)\n",
            "Requirement already satisfied: click<9.0.0,>=7.1.1 in /usr/local/lib/python3.10/dist-packages (from typer<0.8.0,>=0.3.0->spacy<3.6.0,>=3.5.0->en-core-web-sm==3.5.0) (8.1.3)\n",
            "Requirement already satisfied: MarkupSafe>=2.0 in /usr/local/lib/python3.10/dist-packages (from jinja2->spacy<3.6.0,>=3.5.0->en-core-web-sm==3.5.0) (2.1.2)\n",
            "\u001b[38;5;2m✔ Download and installation successful\u001b[0m\n",
            "You can now load the package via spacy.load('en_core_web_sm')\n"
          ]
        }
      ]
    },
    {
      "cell_type": "code",
      "source": [
        "!pip uninstall -y annoy\n",
        "!pip install annoy"
      ],
      "metadata": {
        "id": "LNP6g5CqwGBJ",
        "colab": {
          "base_uri": "https://localhost:8080/"
        },
        "outputId": "df9fab92-d57c-496d-d0ad-34a67d483c81"
      },
      "execution_count": null,
      "outputs": [
        {
          "output_type": "stream",
          "name": "stdout",
          "text": [
            "Found existing installation: annoy 1.17.3\n",
            "Uninstalling annoy-1.17.3:\n",
            "  Successfully uninstalled annoy-1.17.3\n",
            "Looking in indexes: https://pypi.org/simple, https://us-python.pkg.dev/colab-wheels/public/simple/\n",
            "Collecting annoy\n",
            "  Downloading annoy-1.17.3.tar.gz (647 kB)\n",
            "\u001b[2K     \u001b[90m━━━━━━━━━━━━━━━━━━━━━━━━━━━━━━━━━━━━━━━\u001b[0m \u001b[32m647.5/647.5 kB\u001b[0m \u001b[31m9.9 MB/s\u001b[0m eta \u001b[36m0:00:00\u001b[0m\n",
            "\u001b[?25h  Preparing metadata (setup.py) ... \u001b[?25l\u001b[?25hdone\n",
            "Building wheels for collected packages: annoy\n",
            "  Building wheel for annoy (setup.py) ... \u001b[?25l\u001b[?25hdone\n",
            "  Created wheel for annoy: filename=annoy-1.17.3-cp310-cp310-linux_x86_64.whl size=583991 sha256=338bf9867e6aac03ed84b038f85c8d082d2ba80361f273ed44c6262a14f99c73\n",
            "  Stored in directory: /root/.cache/pip/wheels/64/8a/da/f714bcf46c5efdcfcac0559e63370c21abe961c48e3992465a\n",
            "Successfully built annoy\n",
            "Installing collected packages: annoy\n",
            "Successfully installed annoy-1.17.3\n"
          ]
        }
      ]
    },
    {
      "cell_type": "code",
      "source": [
        "!pip install -U lz4==1.0.0\n",
        "!pip install -U xxhash==1.0.1\n",
        "!pip install -U fasteners==0.14.1"
      ],
      "metadata": {
        "id": "_E3grhSU2tNc",
        "colab": {
          "base_uri": "https://localhost:8080/"
        },
        "outputId": "49075b97-181a-431a-a753-16d31bb4aa18"
      },
      "execution_count": null,
      "outputs": [
        {
          "output_type": "stream",
          "name": "stdout",
          "text": [
            "Looking in indexes: https://pypi.org/simple, https://us-python.pkg.dev/colab-wheels/public/simple/\n",
            "Collecting lz4==1.0.0\n",
            "  Downloading lz4-1.0.0.tar.gz (114 kB)\n",
            "\u001b[2K     \u001b[90m━━━━━━━━━━━━━━━━━━━━━━━━━━━━━━━━━━━━━━━\u001b[0m \u001b[32m114.7/114.7 kB\u001b[0m \u001b[31m4.5 MB/s\u001b[0m eta \u001b[36m0:00:00\u001b[0m\n",
            "\u001b[?25h  Preparing metadata (setup.py) ... \u001b[?25l\u001b[?25hdone\n",
            "Collecting deprecation (from lz4==1.0.0)\n",
            "  Downloading deprecation-2.1.0-py2.py3-none-any.whl (11 kB)\n",
            "Requirement already satisfied: packaging in /usr/local/lib/python3.10/dist-packages (from deprecation->lz4==1.0.0) (23.1)\n",
            "Building wheels for collected packages: lz4\n",
            "  Building wheel for lz4 (setup.py) ... \u001b[?25l\u001b[?25hdone\n",
            "  Created wheel for lz4: filename=lz4-1.0.0-cp310-cp310-linux_x86_64.whl size=913246 sha256=66eeac72dfd053817034ba8f245ca5bd29628245e29e80f1380f44af847b1c3c\n",
            "  Stored in directory: /root/.cache/pip/wheels/40/dd/7b/fbef788e5fa2c03b81b0a8e443c5f62d4449e75d7838009c0f\n",
            "Successfully built lz4\n",
            "Installing collected packages: deprecation, lz4\n",
            "  Attempting uninstall: lz4\n",
            "    Found existing installation: lz4 4.3.2\n",
            "    Uninstalling lz4-4.3.2:\n",
            "      Successfully uninstalled lz4-4.3.2\n",
            "Successfully installed deprecation-2.1.0 lz4-1.0.0\n",
            "Looking in indexes: https://pypi.org/simple, https://us-python.pkg.dev/colab-wheels/public/simple/\n",
            "Collecting xxhash==1.0.1\n",
            "  Downloading xxhash-1.0.1.zip (28 kB)\n",
            "  Preparing metadata (setup.py) ... \u001b[?25l\u001b[?25hdone\n",
            "Building wheels for collected packages: xxhash\n",
            "  Building wheel for xxhash (setup.py) ... \u001b[?25l\u001b[?25hdone\n",
            "  Created wheel for xxhash: filename=xxhash-1.0.1-cp310-cp310-linux_x86_64.whl size=44615 sha256=39a84708588fca5712a8a8e492266fd3459c919d190ac90aa5cbaf3505b7e688\n",
            "  Stored in directory: /root/.cache/pip/wheels/e3/ce/e2/ae19f1770d4777faec0d1eaf790a05c6f5e2a305eee8f5a22c\n",
            "Successfully built xxhash\n",
            "Installing collected packages: xxhash\n",
            "  Attempting uninstall: xxhash\n",
            "    Found existing installation: xxhash 3.2.0\n",
            "    Uninstalling xxhash-3.2.0:\n",
            "      Successfully uninstalled xxhash-3.2.0\n",
            "Successfully installed xxhash-1.0.1\n",
            "Looking in indexes: https://pypi.org/simple, https://us-python.pkg.dev/colab-wheels/public/simple/\n",
            "Collecting fasteners==0.14.1\n",
            "  Downloading fasteners-0.14.1-py2.py3-none-any.whl (20 kB)\n",
            "Requirement already satisfied: six in /usr/local/lib/python3.10/dist-packages (from fasteners==0.14.1) (1.16.0)\n",
            "Collecting monotonic>=0.1 (from fasteners==0.14.1)\n",
            "  Downloading monotonic-1.6-py2.py3-none-any.whl (8.2 kB)\n",
            "Installing collected packages: monotonic, fasteners\n",
            "  Attempting uninstall: fasteners\n",
            "    Found existing installation: fasteners 0.18\n",
            "    Uninstalling fasteners-0.18:\n",
            "      Successfully uninstalled fasteners-0.18\n",
            "Successfully installed fasteners-0.14.1 monotonic-1.6\n"
          ]
        }
      ]
    },
    {
      "cell_type": "code",
      "source": [
        "import spacy"
      ],
      "metadata": {
        "id": "Gn7PUzzIPP3X"
      },
      "execution_count": null,
      "outputs": []
    },
    {
      "cell_type": "code",
      "source": [
        "# Check your python version\n",
        "!python --version"
      ],
      "metadata": {
        "id": "NzS2Sg3HPjyk",
        "colab": {
          "base_uri": "https://localhost:8080/"
        },
        "outputId": "fc0b90bf-6ac3-4293-dbaf-1d7050466e61"
      },
      "execution_count": null,
      "outputs": [
        {
          "output_type": "stream",
          "name": "stdout",
          "text": [
            "Python 3.10.12\n"
          ]
        }
      ]
    },
    {
      "cell_type": "markdown",
      "source": [
        "If your python version is >= 3.9, run the code cell below before importing from pymaginitude:"
      ],
      "metadata": {
        "id": "ZP9pZS2OPhQ6"
      }
    },
    {
      "cell_type": "code",
      "source": [
        "spacy.load('en_core_web_sm')\n",
        "import collections\n",
        "collections.Sequence = collections.abc.Sequence\n",
        "collections.Mapping = collections.abc.Mapping\n",
        "collections.MutableMapping = collections.abc.MutableMapping\n",
        "collections.Iterable = collections.abc.Iterable\n",
        "collections.MutableSet = collections.abc.MutableSet\n",
        "collections.Callable = collections.abc.Callable"
      ],
      "metadata": {
        "id": "HAdpIjBxQItc"
      },
      "execution_count": null,
      "outputs": []
    },
    {
      "cell_type": "code",
      "source": [
        "from pymagnitude import * # if you encounter an error for this line, try re-running it - I know it's silly but it might work"
      ],
      "metadata": {
        "id": "AVMUXMsTVt4l"
      },
      "execution_count": null,
      "outputs": []
    },
    {
      "cell_type": "code",
      "source": [
        "# this might take ~2min to run\n",
        "!wget http://magnitude.plasticity.ai/word2vec/light/GoogleNews-vectors-negative300.magnitude"
      ],
      "metadata": {
        "id": "7BtMn0op0ehZ",
        "colab": {
          "base_uri": "https://localhost:8080/"
        },
        "outputId": "40821406-2d5a-4ad4-94be-14f0fcd87e50"
      },
      "execution_count": null,
      "outputs": [
        {
          "output_type": "stream",
          "name": "stdout",
          "text": [
            "--2023-06-22 20:55:31--  http://magnitude.plasticity.ai/word2vec/light/GoogleNews-vectors-negative300.magnitude\n",
            "Resolving magnitude.plasticity.ai (magnitude.plasticity.ai)... 52.217.125.245, 52.217.174.197, 52.217.234.77, ...\n",
            "Connecting to magnitude.plasticity.ai (magnitude.plasticity.ai)|52.217.125.245|:80... connected.\n",
            "HTTP request sent, awaiting response... 200 OK\n",
            "Length: 4211335168 (3.9G) [binary/octet-stream]\n",
            "Saving to: ‘GoogleNews-vectors-negative300.magnitude’\n",
            "\n",
            "GoogleNews-vectors- 100%[===================>]   3.92G  39.1MB/s    in 91s     \n",
            "\n",
            "2023-06-22 20:57:03 (44.2 MB/s) - ‘GoogleNews-vectors-negative300.magnitude’ saved [4211335168/4211335168]\n",
            "\n"
          ]
        }
      ]
    },
    {
      "cell_type": "code",
      "source": [
        "from itertools import combinations\n",
        "from prettytable import PrettyTable\n",
        "from sklearn.cluster import KMeans\n",
        "import random\n",
        "import pandas as pd\n",
        "import numpy as np\n",
        "import scipy.stats as stats"
      ],
      "metadata": {
        "id": "aiDQlu759Zee"
      },
      "execution_count": null,
      "outputs": []
    },
    {
      "cell_type": "code",
      "source": [
        "# !gdown 1luyNlDu0GdH_B3D6rjYLKIGGfz_S3yU5 # GoogleNews-vectors-negative300.filter.magnitude\n",
        "!gdown 17a4uC7eNrYdtVlW60wshjyDLcFxTtq0y # SimLex-999.txt\n",
        "!gdown 1h2DHMuubO7OEVxmGQGbvb2Ovj_A6hakC # dev_input.txt\n",
        "!gdown 1I83_VA_i_UB-9cf9GcEe5oGPoc8-ZmLh # dev_output.txt\n",
        "!gdown 1CjK3eYkacyxo3gdLbf9IGdk1DFEfAYvM # test_input.txt\n",
        "!gdown 1sZuq8a2zHJfe6bLjrK3wD2jrZWkQ0-6S # test_nok_input.txt\n",
        "!gdown 1gK13ZVDMA5XYi8sZY8G1gOIZMdxGTuay # coocvec-500mostfreq-window-3.vec.filter.magnitude"
      ],
      "metadata": {
        "id": "GapecdgJoQhO",
        "colab": {
          "base_uri": "https://localhost:8080/"
        },
        "outputId": "72c6f3d3-8edd-4b4e-e688-beeb074d3567"
      },
      "execution_count": null,
      "outputs": [
        {
          "output_type": "stream",
          "name": "stdout",
          "text": [
            "Downloading...\n",
            "From: https://drive.google.com/uc?id=17a4uC7eNrYdtVlW60wshjyDLcFxTtq0y\n",
            "To: /content/SimLex-999.txt\n",
            "100% 43.0k/43.0k [00:00<00:00, 50.3MB/s]\n",
            "Downloading...\n",
            "From: https://drive.google.com/uc?id=1h2DHMuubO7OEVxmGQGbvb2Ovj_A6hakC\n",
            "To: /content/dev_input.txt\n",
            "100% 17.4k/17.4k [00:00<00:00, 54.5MB/s]\n",
            "Downloading...\n",
            "From: https://drive.google.com/uc?id=1I83_VA_i_UB-9cf9GcEe5oGPoc8-ZmLh\n",
            "To: /content/dev_output.txt\n",
            "100% 23.1k/23.1k [00:00<00:00, 99.0MB/s]\n",
            "Downloading...\n",
            "From: https://drive.google.com/uc?id=1CjK3eYkacyxo3gdLbf9IGdk1DFEfAYvM\n",
            "To: /content/test_input.txt\n",
            "100% 3.81k/3.81k [00:00<00:00, 27.3MB/s]\n",
            "Downloading...\n",
            "From: https://drive.google.com/uc?id=1sZuq8a2zHJfe6bLjrK3wD2jrZWkQ0-6S\n",
            "To: /content/test_nok_input.txt\n",
            "100% 4.55k/4.55k [00:00<00:00, 28.3MB/s]\n",
            "Downloading...\n",
            "From: https://drive.google.com/uc?id=1gK13ZVDMA5XYi8sZY8G1gOIZMdxGTuay\n",
            "To: /content/coocvec-500mostfreq-window-3.filter.magnitude\n",
            "100% 3.50M/3.50M [00:00<00:00, 177MB/s]\n"
          ]
        }
      ]
    },
    {
      "cell_type": "markdown",
      "source": [
        "# Section 1: Exploring Analogies and Other Word Pair Relationships [4 points]\n",
        "**Background:** Word2vec is a very cool word embedding method that was developed by [Thomas Mikolov et al](https://aclanthology.org/N13-1090/). One of the noteworthy things about the method is that it can be used to solve word analogy problems like:\n",
        "\n",
        "***man is to king as woman is to [blank]***\n",
        "\n",
        "The way that it they take the vectors representing king, man and woman and perform some vector arithmetic to produce a vector that is close to the expected answer:\n",
        "\n",
        "***king − man + woman ≈ queen***\n",
        "\n",
        "We can find the nearest vector in the vocabulary by looking for argmax *cos(x, king − man + woman)*. Omar Levy has an explanation of the method in this [Quora post](https://www.quora.com/unanswered/How-does-Mikolovs-word-analogy-for-word-embedding-work-How-can-I-code-such-a-function) and in the [paper](https://aclanthology.org/W14-1618/).\n",
        "\n",
        "In addition to solving this sort of analogy problem, the same sort of vector arithmetic was used with word2vec embeddings to find relationships between pairs of words like the following:\n",
        "\n",
        "<img src='https://drive.google.com/uc?id=1_ewkcJ6EQMuIK0SrgBulzK7LFi8kD9nD'>\n",
        "\n",
        "In the first part of the assigment, you will play around with the [Magnitude](https://github.com/plasticityai/magnitude) library. You will use Magnitude to load a vector model trained using word2vec, and use it to manipulate and analyze the vectors. In order to proceed further, you need to use the Medium Google-word2vec embedding model trained on Google News by using file `GoogleNews-vectors-negative300.magnitude`. Once the file is downloaded use the following Python commands:"
      ],
      "metadata": {
        "id": "PGlvLsC9B-gI"
      }
    },
    {
      "cell_type": "code",
      "source": [
        "# file_path = \"/content/GoogleNews-vectors-negative300.filter.magnitude\"\n",
        "file_path = \"/content/GoogleNews-vectors-negative300.magnitude\"\n",
        "vectors = Magnitude(file_path)"
      ],
      "metadata": {
        "id": "YcILHclcou0L"
      },
      "execution_count": null,
      "outputs": []
    },
    {
      "cell_type": "markdown",
      "source": [
        "Now you can use vectors to perform queries. For instance, you can query the distance of cat and dog in the following way:"
      ],
      "metadata": {
        "id": "RJKLr2kjatM3"
      }
    },
    {
      "cell_type": "code",
      "source": [
        "print(vectors.distance(\"cat\", \"dog\")) # should be ~0.69"
      ],
      "metadata": {
        "id": "L-XKt2tpZzi7",
        "colab": {
          "base_uri": "https://localhost:8080/"
        },
        "outputId": "241474ec-833b-465e-e225-64117f00d483"
      },
      "execution_count": null,
      "outputs": [
        {
          "output_type": "stream",
          "name": "stdout",
          "text": [
            "0.69145405\n"
          ]
        }
      ]
    },
    {
      "cell_type": "markdown",
      "source": [
        "The questions below are designed to familiarize you with the Magnitude word2vec package and get you thinking about what type of semantic information word embeddings can encode. We recommend reading using the [library section](https://github.com/plasticityai/magnitude#using-the-library) to reply to the following set of questions:"
      ],
      "metadata": {
        "id": "Q41x7bVXbLY-"
      }
    },
    {
      "cell_type": "markdown",
      "source": [
        "- **Problem 1.1:** What is the dimensionality of these word embeddings? Provide an integer answer. [1 point]"
      ],
      "metadata": {
        "id": "TUnnuRJfbXf5"
      }
    },
    {
      "cell_type": "code",
      "source": [
        "vectors.dim"
      ],
      "metadata": {
        "id": "d7qnNOEPEtfx",
        "colab": {
          "base_uri": "https://localhost:8080/"
        },
        "outputId": "cc5566b5-3c48-4147-aade-3783477da046"
      },
      "execution_count": null,
      "outputs": [
        {
          "output_type": "execute_result",
          "data": {
            "text/plain": [
              "300"
            ]
          },
          "metadata": {},
          "execution_count": 20
        }
      ]
    },
    {
      "cell_type": "code",
      "source": [
        "dimensionality = 300\n",
        "\n",
        "# PennGrader - DO NOT CHANGE\n",
        "grader.grade(test_case_id = 'test_q11_dim', answer = dimensionality) # we only check partial data"
      ],
      "metadata": {
        "id": "hVUR92UPbSkn",
        "colab": {
          "base_uri": "https://localhost:8080/"
        },
        "outputId": "e5b63a60-70ed-4802-cab1-860823d0a5d1"
      },
      "execution_count": null,
      "outputs": [
        {
          "output_type": "stream",
          "name": "stdout",
          "text": [
            "Correct! You earned 1/1 points. You are a star!\n",
            "\n",
            "Your submission has been successfully recorded in the gradebook.\n"
          ]
        }
      ]
    },
    {
      "cell_type": "markdown",
      "source": [
        " - **Problem 1.2:** What are the top-5 most similar words to `picnic` (not including `picnic` itself)? (Hint: try using `vectors.most_similar`) [1 point]"
      ],
      "metadata": {
        "id": "U-GAJhyvbido"
      }
    },
    {
      "cell_type": "code",
      "source": [
        "vectors.most_similar(\"picnic\", topn = 5) # Most similar by key"
      ],
      "metadata": {
        "id": "ZIiW59W-EvjQ",
        "colab": {
          "base_uri": "https://localhost:8080/"
        },
        "outputId": "b4e76d7a-a9c3-4f3f-f86a-895405eb0eb9"
      },
      "execution_count": null,
      "outputs": [
        {
          "output_type": "execute_result",
          "data": {
            "text/plain": [
              "[('picnics', 0.7400875),\n",
              " ('picnic_lunch', 0.7213739),\n",
              " ('Picnic', 0.700534),\n",
              " ('potluck_picnic', 0.6683274),\n",
              " ('picnic_supper', 0.65189123)]"
            ]
          },
          "metadata": {},
          "execution_count": 22
        }
      ]
    },
    {
      "cell_type": "code",
      "source": [
        "mostsim = ['picnics', 'picnic_lunch', 'Picnic', 'potluck_picnic', 'picnic_supper']\n",
        "\n",
        "# PennGrader - DO NOT CHANGE\n",
        "# reload_grader()\n",
        "grader.grade(test_case_id = 'test_q12_picnic', answer = mostsim) # we only check partial data"
      ],
      "metadata": {
        "id": "pTANEQk9bpa_",
        "colab": {
          "base_uri": "https://localhost:8080/"
        },
        "outputId": "87a62d2d-e208-4ae8-e44c-a1218ac4827e"
      },
      "execution_count": null,
      "outputs": [
        {
          "output_type": "stream",
          "name": "stdout",
          "text": [
            "Correct! You earned 1/1 points. You are a star!\n",
            "\n",
            "Your submission has been successfully recorded in the gradebook.\n"
          ]
        }
      ]
    },
    {
      "cell_type": "markdown",
      "source": [
        " - **Problem 1.3:** According to the word embeddings, which of these words is not like the others? `['tissue', 'papyrus', 'manila', 'newsprint', 'parchment', 'gazette']` [1 point]"
      ],
      "metadata": {
        "id": "2cuv5HzCbpzW"
      }
    },
    {
      "cell_type": "code",
      "source": [
        "vectors.doesnt_match(['tissue', 'papyrus', 'manila', 'newsprint', 'parchment', 'gazette'])"
      ],
      "metadata": {
        "id": "I7cAS-RsEwYt",
        "colab": {
          "base_uri": "https://localhost:8080/",
          "height": 35
        },
        "outputId": "98bdcf8d-cb35-4282-af8f-85d7f12df773"
      },
      "execution_count": null,
      "outputs": [
        {
          "output_type": "execute_result",
          "data": {
            "text/plain": [
              "'tissue'"
            ],
            "application/vnd.google.colaboratory.intrinsic+json": {
              "type": "string"
            }
          },
          "metadata": {},
          "execution_count": 25
        }
      ]
    },
    {
      "cell_type": "code",
      "source": [
        "doesnt_match = \"tissue\"\n",
        "\n",
        "# PennGrader - DO NOT CHANGE\n",
        "# reload_grader()\n",
        "grader.grade(test_case_id = 'test_q13_does_not_match', answer = doesnt_match) # we only check partial data"
      ],
      "metadata": {
        "id": "eB3WOnVKbv_R",
        "colab": {
          "base_uri": "https://localhost:8080/"
        },
        "outputId": "e6a7bbb8-3f42-4bad-f763-2058ae67ca14"
      },
      "execution_count": null,
      "outputs": [
        {
          "output_type": "stream",
          "name": "stdout",
          "text": [
            "Correct! You earned 1/1 points. You are a star!\n",
            "\n",
            "Your submission has been successfully recorded in the gradebook.\n"
          ]
        }
      ]
    },
    {
      "cell_type": "markdown",
      "source": [
        " -  **Problem 1.4:** Solve the following analogy: `leg` is to `jump` as X is to `throw` [1 point]"
      ],
      "metadata": {
        "id": "cjol744PbwIl"
      }
    },
    {
      "cell_type": "code",
      "source": [
        "vectors.most_similar(positive=['leg', 'throw'], negative=['jump'])"
      ],
      "metadata": {
        "id": "bbpDYTjgExZe",
        "colab": {
          "base_uri": "https://localhost:8080/"
        },
        "outputId": "f80a5c95-c25c-4953-9b2c-17710121b449"
      },
      "execution_count": null,
      "outputs": [
        {
          "output_type": "execute_result",
          "data": {
            "text/plain": [
              "[('forearm', 0.48294652),\n",
              " ('shin', 0.47376162),\n",
              " ('elbow', 0.4679689),\n",
              " ('metacarpal_bone', 0.46781474),\n",
              " ('metacarpal_bones', 0.46605822),\n",
              " ('ankle', 0.46434426),\n",
              " ('shoulder', 0.46183354),\n",
              " ('thigh', 0.45393682),\n",
              " ('knee', 0.4455708),\n",
              " ('ulna_bone', 0.4423491)]"
            ]
          },
          "metadata": {},
          "execution_count": 29
        }
      ]
    },
    {
      "cell_type": "code",
      "source": [
        "# TODO\n",
        "analogy = \"forearm\"\n",
        "\n",
        "# PennGrader - DO NOT CHANGE\n",
        "# reload_grader()\n",
        "grader.grade(test_case_id = 'test_q14_analogy', answer = analogy)"
      ],
      "metadata": {
        "id": "guWIM6eLb2jA",
        "colab": {
          "base_uri": "https://localhost:8080/"
        },
        "outputId": "00e251f9-0a3d-460a-f0ce-fa794c269454"
      },
      "execution_count": null,
      "outputs": [
        {
          "output_type": "stream",
          "name": "stdout",
          "text": [
            "Correct! You earned 1/1 points. You are a star!\n",
            "\n",
            "Your submission has been successfully recorded in the gradebook.\n"
          ]
        }
      ]
    },
    {
      "cell_type": "markdown",
      "source": [
        "# Section 2: SimLex-999 Dataset Revisited [10 points + 5 Bonus]\n",
        "Let us revisit [SimLex-999](https://fh295.github.io/simlex.html) dataset from Extra Credit in HW4. We will use `SimLex-999.txt`.\n",
        "\n",
        "We provided you a script below that:\n",
        "\n",
        "1. Takes `word1`, `word2`, and `SimLex` columns from the `SimLex-999.txt` dataset,\n",
        "2. Computes the similarity between `word1` and `word2` using `GoogleNews-vectors-negative300.magnitude` from Part 1\n",
        "3. Displays correlation for human judgments of similarity to the vector similarities using [Kendall’s Tau](https://en.wikipedia.org/wiki/Kendall_rank_correlation_coefficient)."
      ],
      "metadata": {
        "id": "xfGRGgLCc38j"
      }
    },
    {
      "cell_type": "code",
      "source": [
        "# Reference Code - DO NOT CHANGE\n",
        "vectors = Magnitude(\"/content/GoogleNews-vectors-negative300.magnitude\")\n",
        "df = pd.read_csv('/content/SimLex-999.txt', sep='\\t')[['word1', 'word2', 'SimLex999']]\n",
        "human_scores = []\n",
        "vector_scores = []\n",
        "\n",
        "counter = 0\n",
        "for word1, word2, score in df.values.tolist():\n",
        "    human_scores.append(score)\n",
        "    similarity_score = vectors.similarity(word1, word2)\n",
        "    vector_scores.append(similarity_score)\n",
        "    if counter < 5: # only print the first five\n",
        "        print(f'{word1},{word2},{score},{similarity_score:.4f}')\n",
        "        counter += 1\n",
        "\n",
        "print()\n",
        "correlation, p_value = stats.kendalltau(human_scores, vector_scores)\n",
        "print(f'Correlation = {correlation}, P Value = {p_value}')"
      ],
      "metadata": {
        "id": "HC0Rc41Hdikw",
        "colab": {
          "base_uri": "https://localhost:8080/"
        },
        "outputId": "689907cf-da1a-4ba3-bef2-d6a2366d7d76"
      },
      "execution_count": null,
      "outputs": [
        {
          "output_type": "stream",
          "name": "stdout",
          "text": [
            "old,new,1.58,0.2228\n",
            "smart,intelligent,9.2,0.6495\n",
            "hard,difficult,8.77,0.6026\n",
            "happy,cheerful,9.55,0.3838\n",
            "hard,easy,0.95,0.4710\n",
            "\n",
            "Correlation = 0.30913428432001067, P Value = 2.6592796177776212e-48\n"
          ]
        }
      ]
    },
    {
      "cell_type": "markdown",
      "source": [
        "In this part of the assignment we would like for you to explore how the Kendall’s Tau correlation changes based on the similarity. You may use the script we provided or create your own script.\n",
        "\n",
        "**Please respond to the following questions in your report\n",
        "\n",
        "Note: **5 Extra points** will be awarded for creativity and a more thorough qualitative analysis.)"
      ],
      "metadata": {
        "id": "CJ2LrGtYc9AJ"
      }
    },
    {
      "cell_type": "markdown",
      "source": [
        " - **Answer 2.1:** What is the least similar 2 pairs of words based on human judgement scores and vector similarity? Do the pairs match? [3 points]\n",
        "\n",
        " - **Answer to 2.1**\n",
        "  * Two the least similar pairs of words, based on Human Judgement are (scale [0..10]):\n",
        "    * `new - ancient`\n",
        "    * `shrink - grow`\n",
        "    * Both of them have the same similarity score of `0.23`\n",
        "  * Two the least similar pairs of words, based on Vector Similarity are scale [-1.0..1.0]):\n",
        "    * `house - key` with negative vector similarity score: `-0.041323`\n",
        "    * `flower - endurance`: `-0.036866`\n",
        "  * These pairs don't match.\n",
        "    * However, there is one pair in top-10 least similar pairs that matches:\n",
        "    * `hole-agreement` with Human Similarity: `0.30`, and Vector Similarity: `0.000394`"
      ],
      "metadata": {
        "id": "fwDFA5rffQ5E"
      }
    },
    {
      "cell_type": "code",
      "source": [
        "# Adds 'vecScore' column to df\n",
        "vectors = Magnitude(\"/content/GoogleNews-vectors-negative300.magnitude\")\n",
        "df = pd.read_csv('/content/SimLex-999.txt', sep='\\t')[['word1', 'word2', 'SimLex999']]\n",
        "human_scores = []\n",
        "vector_scores = []\n",
        "\n",
        "for word1, word2, score in df.values.tolist():\n",
        "    human_scores.append(score)\n",
        "    similarity_score = vectors.similarity(word1, word2)\n",
        "    vector_scores.append(similarity_score)\n",
        "\n",
        "df['vecScore'] = vector_scores\n",
        "df.head(5)\n",
        "# print()\n",
        "# correlation, p_value = stats.kendalltau(human_scores, vector_scores)\n",
        "# print(f'Correlation = {correlation}, P Value = {p_value}')"
      ],
      "metadata": {
        "id": "2TuNcVOuE6D3",
        "colab": {
          "base_uri": "https://localhost:8080/",
          "height": 206
        },
        "outputId": "227dcb9d-822a-4e0c-96ad-fda134150d84"
      },
      "execution_count": null,
      "outputs": [
        {
          "output_type": "execute_result",
          "data": {
            "text/plain": [
              "   word1        word2  SimLex999  vecScore\n",
              "0    old          new       1.58  0.222780\n",
              "1  smart  intelligent       9.20  0.649528\n",
              "2   hard    difficult       8.77  0.602575\n",
              "3  happy     cheerful       9.55  0.383774\n",
              "4   hard         easy       0.95  0.470963"
            ],
            "text/html": [
              "\n",
              "  <div id=\"df-8d0284f6-7c6f-45c6-9c63-b86d6c386bea\">\n",
              "    <div class=\"colab-df-container\">\n",
              "      <div>\n",
              "<style scoped>\n",
              "    .dataframe tbody tr th:only-of-type {\n",
              "        vertical-align: middle;\n",
              "    }\n",
              "\n",
              "    .dataframe tbody tr th {\n",
              "        vertical-align: top;\n",
              "    }\n",
              "\n",
              "    .dataframe thead th {\n",
              "        text-align: right;\n",
              "    }\n",
              "</style>\n",
              "<table border=\"1\" class=\"dataframe\">\n",
              "  <thead>\n",
              "    <tr style=\"text-align: right;\">\n",
              "      <th></th>\n",
              "      <th>word1</th>\n",
              "      <th>word2</th>\n",
              "      <th>SimLex999</th>\n",
              "      <th>vecScore</th>\n",
              "    </tr>\n",
              "  </thead>\n",
              "  <tbody>\n",
              "    <tr>\n",
              "      <th>0</th>\n",
              "      <td>old</td>\n",
              "      <td>new</td>\n",
              "      <td>1.58</td>\n",
              "      <td>0.222780</td>\n",
              "    </tr>\n",
              "    <tr>\n",
              "      <th>1</th>\n",
              "      <td>smart</td>\n",
              "      <td>intelligent</td>\n",
              "      <td>9.20</td>\n",
              "      <td>0.649528</td>\n",
              "    </tr>\n",
              "    <tr>\n",
              "      <th>2</th>\n",
              "      <td>hard</td>\n",
              "      <td>difficult</td>\n",
              "      <td>8.77</td>\n",
              "      <td>0.602575</td>\n",
              "    </tr>\n",
              "    <tr>\n",
              "      <th>3</th>\n",
              "      <td>happy</td>\n",
              "      <td>cheerful</td>\n",
              "      <td>9.55</td>\n",
              "      <td>0.383774</td>\n",
              "    </tr>\n",
              "    <tr>\n",
              "      <th>4</th>\n",
              "      <td>hard</td>\n",
              "      <td>easy</td>\n",
              "      <td>0.95</td>\n",
              "      <td>0.470963</td>\n",
              "    </tr>\n",
              "  </tbody>\n",
              "</table>\n",
              "</div>\n",
              "      <button class=\"colab-df-convert\" onclick=\"convertToInteractive('df-8d0284f6-7c6f-45c6-9c63-b86d6c386bea')\"\n",
              "              title=\"Convert this dataframe to an interactive table.\"\n",
              "              style=\"display:none;\">\n",
              "        \n",
              "  <svg xmlns=\"http://www.w3.org/2000/svg\" height=\"24px\"viewBox=\"0 0 24 24\"\n",
              "       width=\"24px\">\n",
              "    <path d=\"M0 0h24v24H0V0z\" fill=\"none\"/>\n",
              "    <path d=\"M18.56 5.44l.94 2.06.94-2.06 2.06-.94-2.06-.94-.94-2.06-.94 2.06-2.06.94zm-11 1L8.5 8.5l.94-2.06 2.06-.94-2.06-.94L8.5 2.5l-.94 2.06-2.06.94zm10 10l.94 2.06.94-2.06 2.06-.94-2.06-.94-.94-2.06-.94 2.06-2.06.94z\"/><path d=\"M17.41 7.96l-1.37-1.37c-.4-.4-.92-.59-1.43-.59-.52 0-1.04.2-1.43.59L10.3 9.45l-7.72 7.72c-.78.78-.78 2.05 0 2.83L4 21.41c.39.39.9.59 1.41.59.51 0 1.02-.2 1.41-.59l7.78-7.78 2.81-2.81c.8-.78.8-2.07 0-2.86zM5.41 20L4 18.59l7.72-7.72 1.47 1.35L5.41 20z\"/>\n",
              "  </svg>\n",
              "      </button>\n",
              "      \n",
              "  <style>\n",
              "    .colab-df-container {\n",
              "      display:flex;\n",
              "      flex-wrap:wrap;\n",
              "      gap: 12px;\n",
              "    }\n",
              "\n",
              "    .colab-df-convert {\n",
              "      background-color: #E8F0FE;\n",
              "      border: none;\n",
              "      border-radius: 50%;\n",
              "      cursor: pointer;\n",
              "      display: none;\n",
              "      fill: #1967D2;\n",
              "      height: 32px;\n",
              "      padding: 0 0 0 0;\n",
              "      width: 32px;\n",
              "    }\n",
              "\n",
              "    .colab-df-convert:hover {\n",
              "      background-color: #E2EBFA;\n",
              "      box-shadow: 0px 1px 2px rgba(60, 64, 67, 0.3), 0px 1px 3px 1px rgba(60, 64, 67, 0.15);\n",
              "      fill: #174EA6;\n",
              "    }\n",
              "\n",
              "    [theme=dark] .colab-df-convert {\n",
              "      background-color: #3B4455;\n",
              "      fill: #D2E3FC;\n",
              "    }\n",
              "\n",
              "    [theme=dark] .colab-df-convert:hover {\n",
              "      background-color: #434B5C;\n",
              "      box-shadow: 0px 1px 3px 1px rgba(0, 0, 0, 0.15);\n",
              "      filter: drop-shadow(0px 1px 2px rgba(0, 0, 0, 0.3));\n",
              "      fill: #FFFFFF;\n",
              "    }\n",
              "  </style>\n",
              "\n",
              "      <script>\n",
              "        const buttonEl =\n",
              "          document.querySelector('#df-8d0284f6-7c6f-45c6-9c63-b86d6c386bea button.colab-df-convert');\n",
              "        buttonEl.style.display =\n",
              "          google.colab.kernel.accessAllowed ? 'block' : 'none';\n",
              "\n",
              "        async function convertToInteractive(key) {\n",
              "          const element = document.querySelector('#df-8d0284f6-7c6f-45c6-9c63-b86d6c386bea');\n",
              "          const dataTable =\n",
              "            await google.colab.kernel.invokeFunction('convertToInteractive',\n",
              "                                                     [key], {});\n",
              "          if (!dataTable) return;\n",
              "\n",
              "          const docLinkHtml = 'Like what you see? Visit the ' +\n",
              "            '<a target=\"_blank\" href=https://colab.research.google.com/notebooks/data_table.ipynb>data table notebook</a>'\n",
              "            + ' to learn more about interactive tables.';\n",
              "          element.innerHTML = '';\n",
              "          dataTable['output_type'] = 'display_data';\n",
              "          await google.colab.output.renderOutput(dataTable, element);\n",
              "          const docLink = document.createElement('div');\n",
              "          docLink.innerHTML = docLinkHtml;\n",
              "          element.appendChild(docLink);\n",
              "        }\n",
              "      </script>\n",
              "    </div>\n",
              "  </div>\n",
              "  "
            ]
          },
          "metadata": {},
          "execution_count": 40
        }
      ]
    },
    {
      "cell_type": "code",
      "source": [
        "# Top-10 least similar pairs of words based on Human Judgement score\n",
        "df.nsmallest(10, 'SimLex999')"
      ],
      "metadata": {
        "colab": {
          "base_uri": "https://localhost:8080/",
          "height": 363
        },
        "id": "J1mIhiGiBP6D",
        "outputId": "3ca2d91c-3c37-4079-bc33-99f3a3afe204"
      },
      "execution_count": null,
      "outputs": [
        {
          "output_type": "execute_result",
          "data": {
            "text/plain": [
              "        word1      word2  SimLex999  vecScore\n",
              "75        new    ancient       0.23  0.165659\n",
              "829    shrink       grow       0.23  0.570728\n",
              "110     dirty     narrow       0.30  0.113277\n",
              "724      hole  agreement       0.30  0.000394\n",
              "735    island       task       0.30  0.035419\n",
              "742   chapter       tail       0.30  0.101172\n",
              "759       gun        fur       0.30  0.138761\n",
              "765     cliff       tail       0.30  0.173206\n",
              "766     ankle     window       0.30  0.125840\n",
              "767  princess     island       0.30  0.162527"
            ],
            "text/html": [
              "\n",
              "  <div id=\"df-72275003-df21-4aaa-a9a8-cc0f19c7bbb4\">\n",
              "    <div class=\"colab-df-container\">\n",
              "      <div>\n",
              "<style scoped>\n",
              "    .dataframe tbody tr th:only-of-type {\n",
              "        vertical-align: middle;\n",
              "    }\n",
              "\n",
              "    .dataframe tbody tr th {\n",
              "        vertical-align: top;\n",
              "    }\n",
              "\n",
              "    .dataframe thead th {\n",
              "        text-align: right;\n",
              "    }\n",
              "</style>\n",
              "<table border=\"1\" class=\"dataframe\">\n",
              "  <thead>\n",
              "    <tr style=\"text-align: right;\">\n",
              "      <th></th>\n",
              "      <th>word1</th>\n",
              "      <th>word2</th>\n",
              "      <th>SimLex999</th>\n",
              "      <th>vecScore</th>\n",
              "    </tr>\n",
              "  </thead>\n",
              "  <tbody>\n",
              "    <tr>\n",
              "      <th>75</th>\n",
              "      <td>new</td>\n",
              "      <td>ancient</td>\n",
              "      <td>0.23</td>\n",
              "      <td>0.165659</td>\n",
              "    </tr>\n",
              "    <tr>\n",
              "      <th>829</th>\n",
              "      <td>shrink</td>\n",
              "      <td>grow</td>\n",
              "      <td>0.23</td>\n",
              "      <td>0.570728</td>\n",
              "    </tr>\n",
              "    <tr>\n",
              "      <th>110</th>\n",
              "      <td>dirty</td>\n",
              "      <td>narrow</td>\n",
              "      <td>0.30</td>\n",
              "      <td>0.113277</td>\n",
              "    </tr>\n",
              "    <tr>\n",
              "      <th>724</th>\n",
              "      <td>hole</td>\n",
              "      <td>agreement</td>\n",
              "      <td>0.30</td>\n",
              "      <td>0.000394</td>\n",
              "    </tr>\n",
              "    <tr>\n",
              "      <th>735</th>\n",
              "      <td>island</td>\n",
              "      <td>task</td>\n",
              "      <td>0.30</td>\n",
              "      <td>0.035419</td>\n",
              "    </tr>\n",
              "    <tr>\n",
              "      <th>742</th>\n",
              "      <td>chapter</td>\n",
              "      <td>tail</td>\n",
              "      <td>0.30</td>\n",
              "      <td>0.101172</td>\n",
              "    </tr>\n",
              "    <tr>\n",
              "      <th>759</th>\n",
              "      <td>gun</td>\n",
              "      <td>fur</td>\n",
              "      <td>0.30</td>\n",
              "      <td>0.138761</td>\n",
              "    </tr>\n",
              "    <tr>\n",
              "      <th>765</th>\n",
              "      <td>cliff</td>\n",
              "      <td>tail</td>\n",
              "      <td>0.30</td>\n",
              "      <td>0.173206</td>\n",
              "    </tr>\n",
              "    <tr>\n",
              "      <th>766</th>\n",
              "      <td>ankle</td>\n",
              "      <td>window</td>\n",
              "      <td>0.30</td>\n",
              "      <td>0.125840</td>\n",
              "    </tr>\n",
              "    <tr>\n",
              "      <th>767</th>\n",
              "      <td>princess</td>\n",
              "      <td>island</td>\n",
              "      <td>0.30</td>\n",
              "      <td>0.162527</td>\n",
              "    </tr>\n",
              "  </tbody>\n",
              "</table>\n",
              "</div>\n",
              "      <button class=\"colab-df-convert\" onclick=\"convertToInteractive('df-72275003-df21-4aaa-a9a8-cc0f19c7bbb4')\"\n",
              "              title=\"Convert this dataframe to an interactive table.\"\n",
              "              style=\"display:none;\">\n",
              "        \n",
              "  <svg xmlns=\"http://www.w3.org/2000/svg\" height=\"24px\"viewBox=\"0 0 24 24\"\n",
              "       width=\"24px\">\n",
              "    <path d=\"M0 0h24v24H0V0z\" fill=\"none\"/>\n",
              "    <path d=\"M18.56 5.44l.94 2.06.94-2.06 2.06-.94-2.06-.94-.94-2.06-.94 2.06-2.06.94zm-11 1L8.5 8.5l.94-2.06 2.06-.94-2.06-.94L8.5 2.5l-.94 2.06-2.06.94zm10 10l.94 2.06.94-2.06 2.06-.94-2.06-.94-.94-2.06-.94 2.06-2.06.94z\"/><path d=\"M17.41 7.96l-1.37-1.37c-.4-.4-.92-.59-1.43-.59-.52 0-1.04.2-1.43.59L10.3 9.45l-7.72 7.72c-.78.78-.78 2.05 0 2.83L4 21.41c.39.39.9.59 1.41.59.51 0 1.02-.2 1.41-.59l7.78-7.78 2.81-2.81c.8-.78.8-2.07 0-2.86zM5.41 20L4 18.59l7.72-7.72 1.47 1.35L5.41 20z\"/>\n",
              "  </svg>\n",
              "      </button>\n",
              "      \n",
              "  <style>\n",
              "    .colab-df-container {\n",
              "      display:flex;\n",
              "      flex-wrap:wrap;\n",
              "      gap: 12px;\n",
              "    }\n",
              "\n",
              "    .colab-df-convert {\n",
              "      background-color: #E8F0FE;\n",
              "      border: none;\n",
              "      border-radius: 50%;\n",
              "      cursor: pointer;\n",
              "      display: none;\n",
              "      fill: #1967D2;\n",
              "      height: 32px;\n",
              "      padding: 0 0 0 0;\n",
              "      width: 32px;\n",
              "    }\n",
              "\n",
              "    .colab-df-convert:hover {\n",
              "      background-color: #E2EBFA;\n",
              "      box-shadow: 0px 1px 2px rgba(60, 64, 67, 0.3), 0px 1px 3px 1px rgba(60, 64, 67, 0.15);\n",
              "      fill: #174EA6;\n",
              "    }\n",
              "\n",
              "    [theme=dark] .colab-df-convert {\n",
              "      background-color: #3B4455;\n",
              "      fill: #D2E3FC;\n",
              "    }\n",
              "\n",
              "    [theme=dark] .colab-df-convert:hover {\n",
              "      background-color: #434B5C;\n",
              "      box-shadow: 0px 1px 3px 1px rgba(0, 0, 0, 0.15);\n",
              "      filter: drop-shadow(0px 1px 2px rgba(0, 0, 0, 0.3));\n",
              "      fill: #FFFFFF;\n",
              "    }\n",
              "  </style>\n",
              "\n",
              "      <script>\n",
              "        const buttonEl =\n",
              "          document.querySelector('#df-72275003-df21-4aaa-a9a8-cc0f19c7bbb4 button.colab-df-convert');\n",
              "        buttonEl.style.display =\n",
              "          google.colab.kernel.accessAllowed ? 'block' : 'none';\n",
              "\n",
              "        async function convertToInteractive(key) {\n",
              "          const element = document.querySelector('#df-72275003-df21-4aaa-a9a8-cc0f19c7bbb4');\n",
              "          const dataTable =\n",
              "            await google.colab.kernel.invokeFunction('convertToInteractive',\n",
              "                                                     [key], {});\n",
              "          if (!dataTable) return;\n",
              "\n",
              "          const docLinkHtml = 'Like what you see? Visit the ' +\n",
              "            '<a target=\"_blank\" href=https://colab.research.google.com/notebooks/data_table.ipynb>data table notebook</a>'\n",
              "            + ' to learn more about interactive tables.';\n",
              "          element.innerHTML = '';\n",
              "          dataTable['output_type'] = 'display_data';\n",
              "          await google.colab.output.renderOutput(dataTable, element);\n",
              "          const docLink = document.createElement('div');\n",
              "          docLink.innerHTML = docLinkHtml;\n",
              "          element.appendChild(docLink);\n",
              "        }\n",
              "      </script>\n",
              "    </div>\n",
              "  </div>\n",
              "  "
            ]
          },
          "metadata": {},
          "execution_count": 46
        }
      ]
    },
    {
      "cell_type": "code",
      "source": [
        "# Top-10 least similar pairs of words based on Vector Score\n",
        "df.nsmallest(10, 'vecScore')"
      ],
      "metadata": {
        "colab": {
          "base_uri": "https://localhost:8080/",
          "height": 363
        },
        "id": "PJD55GAHE89s",
        "outputId": "8f11bd58-f0ec-4567-8680-f622dc45a7cb"
      },
      "execution_count": null,
      "outputs": [
        {
          "output_type": "execute_result",
          "data": {
            "text/plain": [
              "       word1       word2  SimLex999  vecScore\n",
              "260    house         key       1.90 -0.041323\n",
              "723   flower   endurance       0.40 -0.036866\n",
              "756   camera   president       0.48 -0.017754\n",
              "748    pupil   president       0.78 -0.013141\n",
              "558     fact     insight       4.77 -0.009103\n",
              "751  formula         log       1.77 -0.002238\n",
              "721     jail      choice       1.08  0.000282\n",
              "724     hole   agreement       0.30  0.000394\n",
              "990    enter         owe       0.68  0.000408\n",
              "731    mouse  management       0.48  0.001183"
            ],
            "text/html": [
              "\n",
              "  <div id=\"df-1291add8-36e5-4885-912b-5366d333ba4f\">\n",
              "    <div class=\"colab-df-container\">\n",
              "      <div>\n",
              "<style scoped>\n",
              "    .dataframe tbody tr th:only-of-type {\n",
              "        vertical-align: middle;\n",
              "    }\n",
              "\n",
              "    .dataframe tbody tr th {\n",
              "        vertical-align: top;\n",
              "    }\n",
              "\n",
              "    .dataframe thead th {\n",
              "        text-align: right;\n",
              "    }\n",
              "</style>\n",
              "<table border=\"1\" class=\"dataframe\">\n",
              "  <thead>\n",
              "    <tr style=\"text-align: right;\">\n",
              "      <th></th>\n",
              "      <th>word1</th>\n",
              "      <th>word2</th>\n",
              "      <th>SimLex999</th>\n",
              "      <th>vecScore</th>\n",
              "    </tr>\n",
              "  </thead>\n",
              "  <tbody>\n",
              "    <tr>\n",
              "      <th>260</th>\n",
              "      <td>house</td>\n",
              "      <td>key</td>\n",
              "      <td>1.90</td>\n",
              "      <td>-0.041323</td>\n",
              "    </tr>\n",
              "    <tr>\n",
              "      <th>723</th>\n",
              "      <td>flower</td>\n",
              "      <td>endurance</td>\n",
              "      <td>0.40</td>\n",
              "      <td>-0.036866</td>\n",
              "    </tr>\n",
              "    <tr>\n",
              "      <th>756</th>\n",
              "      <td>camera</td>\n",
              "      <td>president</td>\n",
              "      <td>0.48</td>\n",
              "      <td>-0.017754</td>\n",
              "    </tr>\n",
              "    <tr>\n",
              "      <th>748</th>\n",
              "      <td>pupil</td>\n",
              "      <td>president</td>\n",
              "      <td>0.78</td>\n",
              "      <td>-0.013141</td>\n",
              "    </tr>\n",
              "    <tr>\n",
              "      <th>558</th>\n",
              "      <td>fact</td>\n",
              "      <td>insight</td>\n",
              "      <td>4.77</td>\n",
              "      <td>-0.009103</td>\n",
              "    </tr>\n",
              "    <tr>\n",
              "      <th>751</th>\n",
              "      <td>formula</td>\n",
              "      <td>log</td>\n",
              "      <td>1.77</td>\n",
              "      <td>-0.002238</td>\n",
              "    </tr>\n",
              "    <tr>\n",
              "      <th>721</th>\n",
              "      <td>jail</td>\n",
              "      <td>choice</td>\n",
              "      <td>1.08</td>\n",
              "      <td>0.000282</td>\n",
              "    </tr>\n",
              "    <tr>\n",
              "      <th>724</th>\n",
              "      <td>hole</td>\n",
              "      <td>agreement</td>\n",
              "      <td>0.30</td>\n",
              "      <td>0.000394</td>\n",
              "    </tr>\n",
              "    <tr>\n",
              "      <th>990</th>\n",
              "      <td>enter</td>\n",
              "      <td>owe</td>\n",
              "      <td>0.68</td>\n",
              "      <td>0.000408</td>\n",
              "    </tr>\n",
              "    <tr>\n",
              "      <th>731</th>\n",
              "      <td>mouse</td>\n",
              "      <td>management</td>\n",
              "      <td>0.48</td>\n",
              "      <td>0.001183</td>\n",
              "    </tr>\n",
              "  </tbody>\n",
              "</table>\n",
              "</div>\n",
              "      <button class=\"colab-df-convert\" onclick=\"convertToInteractive('df-1291add8-36e5-4885-912b-5366d333ba4f')\"\n",
              "              title=\"Convert this dataframe to an interactive table.\"\n",
              "              style=\"display:none;\">\n",
              "        \n",
              "  <svg xmlns=\"http://www.w3.org/2000/svg\" height=\"24px\"viewBox=\"0 0 24 24\"\n",
              "       width=\"24px\">\n",
              "    <path d=\"M0 0h24v24H0V0z\" fill=\"none\"/>\n",
              "    <path d=\"M18.56 5.44l.94 2.06.94-2.06 2.06-.94-2.06-.94-.94-2.06-.94 2.06-2.06.94zm-11 1L8.5 8.5l.94-2.06 2.06-.94-2.06-.94L8.5 2.5l-.94 2.06-2.06.94zm10 10l.94 2.06.94-2.06 2.06-.94-2.06-.94-.94-2.06-.94 2.06-2.06.94z\"/><path d=\"M17.41 7.96l-1.37-1.37c-.4-.4-.92-.59-1.43-.59-.52 0-1.04.2-1.43.59L10.3 9.45l-7.72 7.72c-.78.78-.78 2.05 0 2.83L4 21.41c.39.39.9.59 1.41.59.51 0 1.02-.2 1.41-.59l7.78-7.78 2.81-2.81c.8-.78.8-2.07 0-2.86zM5.41 20L4 18.59l7.72-7.72 1.47 1.35L5.41 20z\"/>\n",
              "  </svg>\n",
              "      </button>\n",
              "      \n",
              "  <style>\n",
              "    .colab-df-container {\n",
              "      display:flex;\n",
              "      flex-wrap:wrap;\n",
              "      gap: 12px;\n",
              "    }\n",
              "\n",
              "    .colab-df-convert {\n",
              "      background-color: #E8F0FE;\n",
              "      border: none;\n",
              "      border-radius: 50%;\n",
              "      cursor: pointer;\n",
              "      display: none;\n",
              "      fill: #1967D2;\n",
              "      height: 32px;\n",
              "      padding: 0 0 0 0;\n",
              "      width: 32px;\n",
              "    }\n",
              "\n",
              "    .colab-df-convert:hover {\n",
              "      background-color: #E2EBFA;\n",
              "      box-shadow: 0px 1px 2px rgba(60, 64, 67, 0.3), 0px 1px 3px 1px rgba(60, 64, 67, 0.15);\n",
              "      fill: #174EA6;\n",
              "    }\n",
              "\n",
              "    [theme=dark] .colab-df-convert {\n",
              "      background-color: #3B4455;\n",
              "      fill: #D2E3FC;\n",
              "    }\n",
              "\n",
              "    [theme=dark] .colab-df-convert:hover {\n",
              "      background-color: #434B5C;\n",
              "      box-shadow: 0px 1px 3px 1px rgba(0, 0, 0, 0.15);\n",
              "      filter: drop-shadow(0px 1px 2px rgba(0, 0, 0, 0.3));\n",
              "      fill: #FFFFFF;\n",
              "    }\n",
              "  </style>\n",
              "\n",
              "      <script>\n",
              "        const buttonEl =\n",
              "          document.querySelector('#df-1291add8-36e5-4885-912b-5366d333ba4f button.colab-df-convert');\n",
              "        buttonEl.style.display =\n",
              "          google.colab.kernel.accessAllowed ? 'block' : 'none';\n",
              "\n",
              "        async function convertToInteractive(key) {\n",
              "          const element = document.querySelector('#df-1291add8-36e5-4885-912b-5366d333ba4f');\n",
              "          const dataTable =\n",
              "            await google.colab.kernel.invokeFunction('convertToInteractive',\n",
              "                                                     [key], {});\n",
              "          if (!dataTable) return;\n",
              "\n",
              "          const docLinkHtml = 'Like what you see? Visit the ' +\n",
              "            '<a target=\"_blank\" href=https://colab.research.google.com/notebooks/data_table.ipynb>data table notebook</a>'\n",
              "            + ' to learn more about interactive tables.';\n",
              "          element.innerHTML = '';\n",
              "          dataTable['output_type'] = 'display_data';\n",
              "          await google.colab.output.renderOutput(dataTable, element);\n",
              "          const docLink = document.createElement('div');\n",
              "          docLink.innerHTML = docLinkHtml;\n",
              "          element.appendChild(docLink);\n",
              "        }\n",
              "      </script>\n",
              "    </div>\n",
              "  </div>\n",
              "  "
            ]
          },
          "metadata": {},
          "execution_count": 48
        }
      ]
    },
    {
      "cell_type": "markdown",
      "source": [
        " - **Answer 2.2:** What is the most similar 2 pairs of words based on human judgement scores and vector similarity? Do the pairs match? [3 points]\n",
        "\n",
        " - **Answer to 2.2**\n",
        "  * Two the most similar pairs of words, based on Human Judgement are (scale [0..10]):\n",
        "    * `vanish - disappear` with Human Similarity score: `9.80`\n",
        "    * `quick - rapid`: `9.70`\n",
        "  * Two the most similar pairs of words, based on Vector Similarity are scale [-1.0..1.0]):\n",
        "    * `south - north` with Vector Similarity score: `0.967454`\n",
        "    * `north - west`: `0.941540`\n",
        "  * These pairs don't match.\n",
        "    * However, the `vanish - disappear` pair comes #3 most sililar pair in Vector Similarity ranking with Human Similarity: `9.80`, and Vector Similarity: `0.900423`"
      ],
      "metadata": {
        "id": "QlymLVazfVJH"
      }
    },
    {
      "cell_type": "code",
      "source": [
        "# Top-5 most similar pairs of words based on Human Judgement score\n",
        "df.nlargest(5, 'SimLex999')"
      ],
      "metadata": {
        "id": "MKwpBnM6E-vi",
        "colab": {
          "base_uri": "https://localhost:8080/",
          "height": 206
        },
        "outputId": "fd75ade7-1a5e-48bc-ca54-0a9a0a9bf464"
      },
      "execution_count": null,
      "outputs": [
        {
          "output_type": "execute_result",
          "data": {
            "text/plain": [
              "       word1      word2  SimLex999  vecScore\n",
              "782   vanish  disappear       9.80  0.900423\n",
              "22     quick      rapid       9.70  0.497791\n",
              "205  creator      maker       9.62  0.260506\n",
              "8     stupid       dumb       9.58  0.817314\n",
              "16    insane      crazy       9.57  0.733904"
            ],
            "text/html": [
              "\n",
              "  <div id=\"df-110f1c2f-c905-417f-9780-bd32fba25c15\">\n",
              "    <div class=\"colab-df-container\">\n",
              "      <div>\n",
              "<style scoped>\n",
              "    .dataframe tbody tr th:only-of-type {\n",
              "        vertical-align: middle;\n",
              "    }\n",
              "\n",
              "    .dataframe tbody tr th {\n",
              "        vertical-align: top;\n",
              "    }\n",
              "\n",
              "    .dataframe thead th {\n",
              "        text-align: right;\n",
              "    }\n",
              "</style>\n",
              "<table border=\"1\" class=\"dataframe\">\n",
              "  <thead>\n",
              "    <tr style=\"text-align: right;\">\n",
              "      <th></th>\n",
              "      <th>word1</th>\n",
              "      <th>word2</th>\n",
              "      <th>SimLex999</th>\n",
              "      <th>vecScore</th>\n",
              "    </tr>\n",
              "  </thead>\n",
              "  <tbody>\n",
              "    <tr>\n",
              "      <th>782</th>\n",
              "      <td>vanish</td>\n",
              "      <td>disappear</td>\n",
              "      <td>9.80</td>\n",
              "      <td>0.900423</td>\n",
              "    </tr>\n",
              "    <tr>\n",
              "      <th>22</th>\n",
              "      <td>quick</td>\n",
              "      <td>rapid</td>\n",
              "      <td>9.70</td>\n",
              "      <td>0.497791</td>\n",
              "    </tr>\n",
              "    <tr>\n",
              "      <th>205</th>\n",
              "      <td>creator</td>\n",
              "      <td>maker</td>\n",
              "      <td>9.62</td>\n",
              "      <td>0.260506</td>\n",
              "    </tr>\n",
              "    <tr>\n",
              "      <th>8</th>\n",
              "      <td>stupid</td>\n",
              "      <td>dumb</td>\n",
              "      <td>9.58</td>\n",
              "      <td>0.817314</td>\n",
              "    </tr>\n",
              "    <tr>\n",
              "      <th>16</th>\n",
              "      <td>insane</td>\n",
              "      <td>crazy</td>\n",
              "      <td>9.57</td>\n",
              "      <td>0.733904</td>\n",
              "    </tr>\n",
              "  </tbody>\n",
              "</table>\n",
              "</div>\n",
              "      <button class=\"colab-df-convert\" onclick=\"convertToInteractive('df-110f1c2f-c905-417f-9780-bd32fba25c15')\"\n",
              "              title=\"Convert this dataframe to an interactive table.\"\n",
              "              style=\"display:none;\">\n",
              "        \n",
              "  <svg xmlns=\"http://www.w3.org/2000/svg\" height=\"24px\"viewBox=\"0 0 24 24\"\n",
              "       width=\"24px\">\n",
              "    <path d=\"M0 0h24v24H0V0z\" fill=\"none\"/>\n",
              "    <path d=\"M18.56 5.44l.94 2.06.94-2.06 2.06-.94-2.06-.94-.94-2.06-.94 2.06-2.06.94zm-11 1L8.5 8.5l.94-2.06 2.06-.94-2.06-.94L8.5 2.5l-.94 2.06-2.06.94zm10 10l.94 2.06.94-2.06 2.06-.94-2.06-.94-.94-2.06-.94 2.06-2.06.94z\"/><path d=\"M17.41 7.96l-1.37-1.37c-.4-.4-.92-.59-1.43-.59-.52 0-1.04.2-1.43.59L10.3 9.45l-7.72 7.72c-.78.78-.78 2.05 0 2.83L4 21.41c.39.39.9.59 1.41.59.51 0 1.02-.2 1.41-.59l7.78-7.78 2.81-2.81c.8-.78.8-2.07 0-2.86zM5.41 20L4 18.59l7.72-7.72 1.47 1.35L5.41 20z\"/>\n",
              "  </svg>\n",
              "      </button>\n",
              "      \n",
              "  <style>\n",
              "    .colab-df-container {\n",
              "      display:flex;\n",
              "      flex-wrap:wrap;\n",
              "      gap: 12px;\n",
              "    }\n",
              "\n",
              "    .colab-df-convert {\n",
              "      background-color: #E8F0FE;\n",
              "      border: none;\n",
              "      border-radius: 50%;\n",
              "      cursor: pointer;\n",
              "      display: none;\n",
              "      fill: #1967D2;\n",
              "      height: 32px;\n",
              "      padding: 0 0 0 0;\n",
              "      width: 32px;\n",
              "    }\n",
              "\n",
              "    .colab-df-convert:hover {\n",
              "      background-color: #E2EBFA;\n",
              "      box-shadow: 0px 1px 2px rgba(60, 64, 67, 0.3), 0px 1px 3px 1px rgba(60, 64, 67, 0.15);\n",
              "      fill: #174EA6;\n",
              "    }\n",
              "\n",
              "    [theme=dark] .colab-df-convert {\n",
              "      background-color: #3B4455;\n",
              "      fill: #D2E3FC;\n",
              "    }\n",
              "\n",
              "    [theme=dark] .colab-df-convert:hover {\n",
              "      background-color: #434B5C;\n",
              "      box-shadow: 0px 1px 3px 1px rgba(0, 0, 0, 0.15);\n",
              "      filter: drop-shadow(0px 1px 2px rgba(0, 0, 0, 0.3));\n",
              "      fill: #FFFFFF;\n",
              "    }\n",
              "  </style>\n",
              "\n",
              "      <script>\n",
              "        const buttonEl =\n",
              "          document.querySelector('#df-110f1c2f-c905-417f-9780-bd32fba25c15 button.colab-df-convert');\n",
              "        buttonEl.style.display =\n",
              "          google.colab.kernel.accessAllowed ? 'block' : 'none';\n",
              "\n",
              "        async function convertToInteractive(key) {\n",
              "          const element = document.querySelector('#df-110f1c2f-c905-417f-9780-bd32fba25c15');\n",
              "          const dataTable =\n",
              "            await google.colab.kernel.invokeFunction('convertToInteractive',\n",
              "                                                     [key], {});\n",
              "          if (!dataTable) return;\n",
              "\n",
              "          const docLinkHtml = 'Like what you see? Visit the ' +\n",
              "            '<a target=\"_blank\" href=https://colab.research.google.com/notebooks/data_table.ipynb>data table notebook</a>'\n",
              "            + ' to learn more about interactive tables.';\n",
              "          element.innerHTML = '';\n",
              "          dataTable['output_type'] = 'display_data';\n",
              "          await google.colab.output.renderOutput(dataTable, element);\n",
              "          const docLink = document.createElement('div');\n",
              "          docLink.innerHTML = docLinkHtml;\n",
              "          element.appendChild(docLink);\n",
              "        }\n",
              "      </script>\n",
              "    </div>\n",
              "  </div>\n",
              "  "
            ]
          },
          "metadata": {},
          "execution_count": 57
        }
      ]
    },
    {
      "cell_type": "code",
      "source": [
        "# Top-5 most similar pairs of words based on Vector Score\n",
        "df.nlargest(5, 'vecScore')"
      ],
      "metadata": {
        "colab": {
          "base_uri": "https://localhost:8080/",
          "height": 206
        },
        "id": "_pS0Nz8rFSjb",
        "outputId": "b0b98258-d18a-42a3-81c5-18389c217c6c"
      },
      "execution_count": null,
      "outputs": [
        {
          "output_type": "execute_result",
          "data": {
            "text/plain": [
              "      word1      word2  SimLex999  vecScore\n",
              "115   south      north       2.20  0.967454\n",
              "408   north       west       3.63  0.941540\n",
              "782  vanish  disappear       9.80  0.900423\n",
              "327     son     father       3.82  0.893309\n",
              "129   movie       film       8.87  0.867677"
            ],
            "text/html": [
              "\n",
              "  <div id=\"df-564e5228-5ff9-4d45-b63b-0ffb6b2d26a9\">\n",
              "    <div class=\"colab-df-container\">\n",
              "      <div>\n",
              "<style scoped>\n",
              "    .dataframe tbody tr th:only-of-type {\n",
              "        vertical-align: middle;\n",
              "    }\n",
              "\n",
              "    .dataframe tbody tr th {\n",
              "        vertical-align: top;\n",
              "    }\n",
              "\n",
              "    .dataframe thead th {\n",
              "        text-align: right;\n",
              "    }\n",
              "</style>\n",
              "<table border=\"1\" class=\"dataframe\">\n",
              "  <thead>\n",
              "    <tr style=\"text-align: right;\">\n",
              "      <th></th>\n",
              "      <th>word1</th>\n",
              "      <th>word2</th>\n",
              "      <th>SimLex999</th>\n",
              "      <th>vecScore</th>\n",
              "    </tr>\n",
              "  </thead>\n",
              "  <tbody>\n",
              "    <tr>\n",
              "      <th>115</th>\n",
              "      <td>south</td>\n",
              "      <td>north</td>\n",
              "      <td>2.20</td>\n",
              "      <td>0.967454</td>\n",
              "    </tr>\n",
              "    <tr>\n",
              "      <th>408</th>\n",
              "      <td>north</td>\n",
              "      <td>west</td>\n",
              "      <td>3.63</td>\n",
              "      <td>0.941540</td>\n",
              "    </tr>\n",
              "    <tr>\n",
              "      <th>782</th>\n",
              "      <td>vanish</td>\n",
              "      <td>disappear</td>\n",
              "      <td>9.80</td>\n",
              "      <td>0.900423</td>\n",
              "    </tr>\n",
              "    <tr>\n",
              "      <th>327</th>\n",
              "      <td>son</td>\n",
              "      <td>father</td>\n",
              "      <td>3.82</td>\n",
              "      <td>0.893309</td>\n",
              "    </tr>\n",
              "    <tr>\n",
              "      <th>129</th>\n",
              "      <td>movie</td>\n",
              "      <td>film</td>\n",
              "      <td>8.87</td>\n",
              "      <td>0.867677</td>\n",
              "    </tr>\n",
              "  </tbody>\n",
              "</table>\n",
              "</div>\n",
              "      <button class=\"colab-df-convert\" onclick=\"convertToInteractive('df-564e5228-5ff9-4d45-b63b-0ffb6b2d26a9')\"\n",
              "              title=\"Convert this dataframe to an interactive table.\"\n",
              "              style=\"display:none;\">\n",
              "        \n",
              "  <svg xmlns=\"http://www.w3.org/2000/svg\" height=\"24px\"viewBox=\"0 0 24 24\"\n",
              "       width=\"24px\">\n",
              "    <path d=\"M0 0h24v24H0V0z\" fill=\"none\"/>\n",
              "    <path d=\"M18.56 5.44l.94 2.06.94-2.06 2.06-.94-2.06-.94-.94-2.06-.94 2.06-2.06.94zm-11 1L8.5 8.5l.94-2.06 2.06-.94-2.06-.94L8.5 2.5l-.94 2.06-2.06.94zm10 10l.94 2.06.94-2.06 2.06-.94-2.06-.94-.94-2.06-.94 2.06-2.06.94z\"/><path d=\"M17.41 7.96l-1.37-1.37c-.4-.4-.92-.59-1.43-.59-.52 0-1.04.2-1.43.59L10.3 9.45l-7.72 7.72c-.78.78-.78 2.05 0 2.83L4 21.41c.39.39.9.59 1.41.59.51 0 1.02-.2 1.41-.59l7.78-7.78 2.81-2.81c.8-.78.8-2.07 0-2.86zM5.41 20L4 18.59l7.72-7.72 1.47 1.35L5.41 20z\"/>\n",
              "  </svg>\n",
              "      </button>\n",
              "      \n",
              "  <style>\n",
              "    .colab-df-container {\n",
              "      display:flex;\n",
              "      flex-wrap:wrap;\n",
              "      gap: 12px;\n",
              "    }\n",
              "\n",
              "    .colab-df-convert {\n",
              "      background-color: #E8F0FE;\n",
              "      border: none;\n",
              "      border-radius: 50%;\n",
              "      cursor: pointer;\n",
              "      display: none;\n",
              "      fill: #1967D2;\n",
              "      height: 32px;\n",
              "      padding: 0 0 0 0;\n",
              "      width: 32px;\n",
              "    }\n",
              "\n",
              "    .colab-df-convert:hover {\n",
              "      background-color: #E2EBFA;\n",
              "      box-shadow: 0px 1px 2px rgba(60, 64, 67, 0.3), 0px 1px 3px 1px rgba(60, 64, 67, 0.15);\n",
              "      fill: #174EA6;\n",
              "    }\n",
              "\n",
              "    [theme=dark] .colab-df-convert {\n",
              "      background-color: #3B4455;\n",
              "      fill: #D2E3FC;\n",
              "    }\n",
              "\n",
              "    [theme=dark] .colab-df-convert:hover {\n",
              "      background-color: #434B5C;\n",
              "      box-shadow: 0px 1px 3px 1px rgba(0, 0, 0, 0.15);\n",
              "      filter: drop-shadow(0px 1px 2px rgba(0, 0, 0, 0.3));\n",
              "      fill: #FFFFFF;\n",
              "    }\n",
              "  </style>\n",
              "\n",
              "      <script>\n",
              "        const buttonEl =\n",
              "          document.querySelector('#df-564e5228-5ff9-4d45-b63b-0ffb6b2d26a9 button.colab-df-convert');\n",
              "        buttonEl.style.display =\n",
              "          google.colab.kernel.accessAllowed ? 'block' : 'none';\n",
              "\n",
              "        async function convertToInteractive(key) {\n",
              "          const element = document.querySelector('#df-564e5228-5ff9-4d45-b63b-0ffb6b2d26a9');\n",
              "          const dataTable =\n",
              "            await google.colab.kernel.invokeFunction('convertToInteractive',\n",
              "                                                     [key], {});\n",
              "          if (!dataTable) return;\n",
              "\n",
              "          const docLinkHtml = 'Like what you see? Visit the ' +\n",
              "            '<a target=\"_blank\" href=https://colab.research.google.com/notebooks/data_table.ipynb>data table notebook</a>'\n",
              "            + ' to learn more about interactive tables.';\n",
              "          element.innerHTML = '';\n",
              "          dataTable['output_type'] = 'display_data';\n",
              "          await google.colab.output.renderOutput(dataTable, element);\n",
              "          const docLink = document.createElement('div');\n",
              "          docLink.innerHTML = docLinkHtml;\n",
              "          element.appendChild(docLink);\n",
              "        }\n",
              "      </script>\n",
              "    </div>\n",
              "  </div>\n",
              "  "
            ]
          },
          "metadata": {},
          "execution_count": 60
        }
      ]
    },
    {
      "cell_type": "markdown",
      "source": [
        "- **Answer 2.3:** Provide correlation scores and p values for the following models:\n",
        "   - (Stanford - GloVe Wikipedia 2014 + Gigaword 5 6B Medium 50D) `glove.6B.50d.magnitude`\n",
        "   - (Stanford - GloVe Wikipedia 2014 + Gigaword 5 6B Medium 100D)`glove.6B.100d.magnitude`\n",
        "   - (Stanford - GloVe Wikipedia 2014 + Gigaword 5 6B Medium 200D) `glove.6B.200d.magnitude`\n",
        "   - (Stanford - GloVe Wikipedia 2014 + Gigaword 5 6B Medium 300D) `glove.6B.300d.magnitude`\n",
        "   - (Stanford - GloVe Common Crawl Medium 300D) `love.840B.300d.magnitude`"
      ],
      "metadata": {
        "id": "3irwnpa9fcLM"
      }
    },
    {
      "cell_type": "markdown",
      "source": [
        " **How do those correlation value compare to each other?** [4 points]\n",
        "\n",
        "  **Answer to 2.3**\n",
        "  * `glove.6B.50d.magnitude`: Correlation = 0.18100126067449063, P Value = 1.2242211264976856e-17\n",
        "  * `glove.6B.100d.magnitude`: Correlation = 0.20506409092608713, P Value = 3.41228663395174e-22\n",
        "  * `glove.6B.200d.magnitude`: Correlation = 0.23670323199262908, P Value = 4.9936324557833286e-29\n",
        "  * `glove.6B.300d.magnitude`: Correlation = 0.25894302181101986, P Value = 2.080389068003349e-34\n",
        "  * `glove.840B.300d.magnitude`: Correlation = 0.2860664813618063, P Value = 1.293335613361039e-41\n",
        "\n",
        "  * Analyzing the Correlation between each model vs human similarity we notice that the Correlation increases with every increase in models' dimentions. It doesn't become quite as high as in comparision with GoogleNews vector model `0.31`, but it does get close to it with the Common Crawl & 300 dimentions performing at `0.29`. P Value point to the fact that the results of our correlation measures are statistically significant."
      ],
      "metadata": {
        "id": "fkiilJqShb6z"
      }
    },
    {
      "cell_type": "code",
      "source": [
        "%%capture\n",
        "!wget http://magnitude.plasticity.ai/glove/medium/glove.6B.50d.magnitude\n",
        "!wget http://magnitude.plasticity.ai/glove/medium/glove.6B.100d.magnitude\n",
        "!wget http://magnitude.plasticity.ai/glove/medium/glove.6B.200d.magnitude\n",
        "!wget http://magnitude.plasticity.ai/glove/medium/glove.6B.300d.magnitude\n",
        "!wget http://magnitude.plasticity.ai/glove/medium/glove.840B.300d.magnitude"
      ],
      "metadata": {
        "id": "V0ABIVIXs09b"
      },
      "execution_count": null,
      "outputs": []
    },
    {
      "cell_type": "code",
      "source": [
        "# Outputs the Correlation & P Values of each Stanford's model vs Human Silimarity score of SimLex model\n",
        "vectors_list = ['/content/glove.6B.50d.magnitude', '/content/glove.6B.100d.magnitude',\n",
        "                '/content/glove.6B.200d.magnitude', '/content/glove.6B.300d.magnitude', '/content/glove.840B.300d.magnitude']\n",
        "df = pd.read_csv('/content/SimLex-999.txt', sep='\\t')[['word1', 'word2', 'SimLex999']]\n",
        "human_scores = list(df['SimLex999'])\n",
        "\n",
        "for i in range(5):\n",
        "  vectors = Magnitude(vectors_list[i])\n",
        "  vector_scores = []\n",
        "  for word1, word2, score in df.values.tolist():\n",
        "      similarity_score = vectors.similarity(word1, word2)\n",
        "      vector_scores.append(similarity_score)\n",
        "  correlation, p_value = stats.kendalltau(human_scores, vector_scores)\n",
        "  print(f'Model = {vectors_list[i]}, Correlation = {correlation}, P Value = {p_value}')"
      ],
      "metadata": {
        "id": "hVfFpp44zECt",
        "colab": {
          "base_uri": "https://localhost:8080/"
        },
        "outputId": "899c3c35-eb32-473d-90d5-b79677d5a100"
      },
      "execution_count": null,
      "outputs": [
        {
          "output_type": "stream",
          "name": "stdout",
          "text": [
            "Model = /content/glove.6B.50d.magnitude, Correlation = 0.18100126067449063, P Value = 1.2242211264976856e-17\n",
            "Model = /content/glove.6B.100d.magnitude, Correlation = 0.20506409092608713, P Value = 3.41228663395174e-22\n",
            "Model = /content/glove.6B.200d.magnitude, Correlation = 0.23670323199262908, P Value = 4.9936324557833286e-29\n",
            "Model = /content/glove.6B.300d.magnitude, Correlation = 0.25894302181101986, P Value = 2.080389068003349e-34\n",
            "Model = /content/glove.840B.300d.magnitude, Correlation = 0.2860664813618063, P Value = 1.293335613361039e-41\n"
          ]
        }
      ]
    },
    {
      "cell_type": "code",
      "source": [],
      "metadata": {
        "id": "CoU6zfxps06_"
      },
      "execution_count": null,
      "outputs": []
    },
    {
      "cell_type": "markdown",
      "source": [
        "# Section 3: Creating Word Sense Clusters [96 points]\n",
        "**Background:** Many Natural Language Processing (NLP) tasks require knowing the sense of polysemous words, which are words with multiple meanings. For example, the word bug can mean:\n",
        "\n",
        "1. A creepy crawly thing\n",
        "2. An error in your computer code\n",
        "3. A virus or bacteria that makes you sick\n",
        "4. A listening device planted by the FBI\n",
        "\n",
        "In past research my PhD students and I have looked into automatically deriving the different meaning of polysemous words like bug by clustering their paraphrases. We have developed a resource called [the paraphrase database (PPDB)](http://paraphrase.org/) that contains of paraphrases for tens of millions words and phrases. For the target word bug, we have an unordered list of paraphrases including: insect, glitch, beetle, error, microbe, wire, cockroach, malfunction, microphone, mosquito, virus, tracker, pest, informer, snitch, parasite, bacterium, fault, mistake, failure and many others. We used automatic clustering group those into sets like:\n",
        "\n",
        "<img src='https://drive.google.com/uc?id=1-YbbvZ0qwRKPiHZ1ZWOm62dfCkfu4tLJ'>\n",
        "\n",
        "The clusters in the image above approximate the different word senses of bug, where the 4 circles are the 4 senses of bug. The input to this problem is all the paraphrases in a single list, and the task is to separate them correctly. As humans, this is pretty intuitive, but computers are not that smart. You will explore the main idea underlying our word sense clustering method: which measure the similarity between each pair of paraphrases for a target word and then group together the paraphrases that are most similar to each other. This affinity matrix gives an example of one of the methods for measuring similarity that we tried in our [paper](https://www.cis.upenn.edu/~ccb/publications/clustering-paraphrases-by-word-sense.pdf):\n",
        "\n",
        "<img src='https://drive.google.com/uc?id=1v1dBzwoSM3S3Y1wDUwqcVBEZ7GxxKKJ4'>\n",
        "\n",
        "Here the darkness values give an indication of how similar paraphrases are to each other. For instance in this example similarity between *insect* and *pest* is greater than the similarity between insect and error. You can read more about this task in [these](https://www.cis.upenn.edu/~ccb/publications/clustering-paraphrases-by-word-sense.pdf) [papers](https://cs.uwaterloo.ca/~cdimarco/pdf/cs886/Pantel+Lin02.pdf).\n",
        "\n",
        "In this assignment, we will use vector representations in order to measure their similarities of pairs of paraphrases. You will play with different vector space representations of words to create clusters of word senses. We expect that you have read Jurafsky and Martin [Chapter 6](https://web.stanford.edu/~jurafsky/slp3/6.pdf). Word vectors, also known as word embeddings, can be thought of simply as points in some high-dimensional space. Remember in geometry class when you learned about the Euclidean plane, and 2-dimensional points in that plane? It’s not hard to understand distance between those points – you can even measure it with a ruler. Then you learned about 3-dimensional points, and how to calculate the distance between these. These 3-dimensional points can be thought of as positions in physical space.\n",
        "\n",
        "Now, do your best to stop thinking about physical space, and generalize this idea in your mind: you can calculate a distance between 2-dimensional and 3-dimensional points, now imagine a point with `N` dimensions. The dimensions don’t necessarily have meaning in the same way as the X,Y, and Z dimensions in physical space, but we can calculate distances all the same.\n",
        "\n",
        "This is how we will use word vectors in this assignment: as points in some high-dimensional space, where distances between points are meaningful. The interpretation of distance between word vectors depends entirely on how they were made, but for our purposes, we will consider distance to measure semantic similarity. Word vectors that are close together should have meanings that are similar.\n",
        "\n",
        "With this framework, we can see how to solve our paraphrase clustering problem."
      ],
      "metadata": {
        "id": "chcQNwdxfye3"
      }
    },
    {
      "cell_type": "markdown",
      "source": [
        "**The Data:**\n",
        "The input data to be used for this assignment consists of sets of paraphrases corresponding to one of polysemous target words, e.g.\n",
        "\n",
        "Target\t  | Paraphrase set\n",
        "----------|------------------\n",
        "note.v    | comment mark tell observe state notice say remark mention\n",
        "hot.a     | raging spicy blistering red-hot live\n",
        "\n",
        "(Here the `.v` following the target `note` indicates the part of speech)\n",
        "\n",
        "Your objective is to automatically cluster each paraphrase set such that each cluster contains words pertaining to a single sense, or meaning, of the target word. Note that a single word from the paraphrase set might belong to one or more clusters.\n",
        "\n",
        "**Development Data:** The development data consists of two files:\n",
        "\n",
        "1. words file (input)\n",
        "2. clusters file (output)\n",
        "\n",
        "The words file `dev_input.txt` is formatted such that each line contains one target, its paraphrase set, and the number of ground truth clusters `k`, separated by a `::` symbol. You can use `k` as input to your clustering algorithm.\n",
        "\n",
        "`target.pos :: k :: paraphrase1 paraphrase2 paraphrase3 ...`\n",
        "\n",
        "The clusters file `dev_output.txt` contains the ground truth clusters for each target word’s paraphrase set, split over k lines:\n",
        "\n",
        "```\n",
        "target.pos :: 1 :: paraphrase2 paraphrase6\n",
        "target.pos :: 2 :: paraphrase3 paraphrase4 paraphrase5\n",
        "    .\n",
        "    .\n",
        "    .\n",
        "target.pos :: k :: paraphrase1 paraphrase9\n",
        "```\n",
        "\n",
        "**Test data:** For testing Tasks 3.1 – 3.3, you will receive only words file `test_input.txt` containing the test target words, number of ground truth clusters and their paraphrase sets. For testing Task 3.4, you will receive only words file `test_nok_input.txt` containing the test target words and their paraphrases sets. Neither order of senses, nor order of words in a cluster matter.\n",
        "\n",
        "**Evaluation:** There are many possible ways to evaluate clustering solutions. For this homework we will rely on the paired F-score, which you can read more about in [this paper](https://www.cs.york.ac.uk/semeval2010_WSI/paper/semevaltask14.pdf).\n",
        "\n",
        "The general idea behind paired F-score is to treat clustering prediction like a classification problem; given a target word and its paraphrase set, we call a *positive instance* any pair of paraphrases that appear together in a ground-truth cluster. Once we predict a clustering solution for the paraphrase set, we similarly generate the set of word pairs such that both words in the pair appear in the same predicted cluster. We can then evaluate our set of predicted pairs against the ground truth pairs using precision, recall, and F-score.\n",
        "\n",
        "V-Measure is another metric that is used to evaluate clustering solutions, however we will not be using it in this Assignment."
      ],
      "metadata": {
        "id": "8Qkv_eW5luSc"
      }
    },
    {
      "cell_type": "markdown",
      "source": [
        "**Tasks:**\n",
        "Your task is to fill in 4 functions: `cluster_random`, `cluster_with_sparse_representation`, `cluster_with_dense_representation`, `cluster_with_no_k`.\n",
        "\n",
        "We provided 5 utility functions for you to use:\n",
        "\n",
        "1. `load_input_file(file_path)` that converts the input data (the words file) into 2 dictionaries. The first dictionary is a mapping between a target word and a list of paraphrases. The second dictionary is a mapping between a target word and a number of clusters for a given target word.\n",
        "\n",
        "2. `load_output_file(file_path)` that converts the output data (the clusters file) into a dictionary, where a key is a target word and a value is it’s list of list of paraphrases. Each list of paraphrases is a cluster. Remember that Neither order of senses, nor order of words in a cluster matter.\n",
        "\n",
        "3. `get_paired_f_score(gold_clustering, predicted_clustering)` that calculates paired F-score given a gold and predicted clustering for a target word.\n",
        "\n",
        "4. `evaluate_clusterings(gold_clusterings, predicted_clusterings)` that calculates paired F-score for all target words present in the data and prints the final F-Score weighted by the number of senses that a target word has.\n",
        "\n",
        "5. `write_to_output_file(file_path, clusterings)` that writes the result of the clustering for each target word into the output file (clusters file)\n",
        "Full points will be awarded for each of the tasks if your implementation gets above a certain threshold on the test dataset. Please submit to autograder to see thresholds. Note that thresholds are based on the scores from the previous year and might be lowered depending on the average performance."
      ],
      "metadata": {
        "id": "Q3io9PlcoYqb"
      }
    },
    {
      "cell_type": "code",
      "source": [
        "# Helper functions, DO NOT MODIFY\n",
        "def load_input_file(file_path):\n",
        "    \"\"\"\n",
        "    Loads the input file to two dictionaries\n",
        "    :param file_path: path to an input file\n",
        "    :return: 2 dictionaries:\n",
        "    1. Dictionary, where key is a target word and value is a list of paraphrases\n",
        "    2. Dictionary, where key is a target word and value is a number of clusters\n",
        "    \"\"\"\n",
        "    word_to_paraphrases_dict = {}\n",
        "    word_to_k_dict = {}\n",
        "\n",
        "    with open(file_path, 'r') as fin:\n",
        "        for line in fin:\n",
        "            target_word, k, paraphrases = line.split(' :: ')\n",
        "            word_to_k_dict[target_word] = int(k)\n",
        "            word_to_paraphrases_dict[target_word] = paraphrases.split()\n",
        "\n",
        "    return word_to_paraphrases_dict, word_to_k_dict\n",
        "\n",
        "def load_output_file(file_path):\n",
        "    \"\"\"\n",
        "    :param file_path: path to an output file\n",
        "    :return: A dictionary, where key is a target word and value is a list of list of paraphrases\n",
        "    \"\"\"\n",
        "    clusterings = {}\n",
        "\n",
        "    with open(file_path, 'r') as fin:\n",
        "        for line in fin:\n",
        "            target_word, _, paraphrases_in_cluster = line.strip().split(' :: ')\n",
        "            paraphrases_list = paraphrases_in_cluster.strip().split()\n",
        "            if target_word not in clusterings:\n",
        "                clusterings[target_word] = []\n",
        "            clusterings[target_word].append(paraphrases_list)\n",
        "\n",
        "    return clusterings\n",
        "\n",
        "def get_paired_f_score(gold_clustering, predicted_clustering):\n",
        "    \"\"\"\n",
        "    :param gold_clustering: gold list of list of paraphrases\n",
        "    :param predicted_clustering: predicted list of list of paraphrases\n",
        "    :return: Paired F-Score\n",
        "    \"\"\"\n",
        "    gold_pairs = set()\n",
        "    for gold_cluster in gold_clustering:\n",
        "        for pair in combinations(gold_cluster, 2):\n",
        "            gold_pairs.add(tuple(sorted(pair)))\n",
        "\n",
        "    predicted_pairs = set()\n",
        "    for predicted_cluster in predicted_clustering:\n",
        "        for pair in combinations(predicted_cluster, 2):\n",
        "            predicted_pairs.add(tuple(sorted(pair)))\n",
        "\n",
        "    overlapping_pairs = gold_pairs & predicted_pairs\n",
        "\n",
        "    precision = 1. if len(predicted_pairs) == 0 else float(len(overlapping_pairs)) / len(predicted_pairs)\n",
        "    recall = 1. if len(gold_pairs) == 0 else float(len(overlapping_pairs)) / len(gold_pairs)\n",
        "    paired_f_score = 0. if precision + recall == 0 else 2 * precision * recall / (precision + recall)\n",
        "\n",
        "    return paired_f_score\n",
        "\n",
        "def evaluate_clusterings(gold_clusterings, predicted_clusterings):\n",
        "    \"\"\"\n",
        "    Displays evaluation scores between gold and predicted clusterings\n",
        "    :param gold_clusterings: dictionary where key is a target word and value is a list of list of paraphrases\n",
        "    :param predicted_clusterings: dictionary where key is a target word and value is a list of list of paraphrases\n",
        "    :return: N/A\n",
        "    \"\"\"\n",
        "    target_words = set(gold_clusterings.keys()) & set(predicted_clusterings.keys())\n",
        "\n",
        "    if len(target_words) == 0:\n",
        "        print('No overlapping target words in ground-truth and predicted files')\n",
        "        return None\n",
        "\n",
        "    paired_f_scores = np.zeros((len(target_words)))\n",
        "    ks = np.zeros((len(target_words)))\n",
        "\n",
        "    table = PrettyTable(['Target', 'k', 'Paired F-Score'])\n",
        "    for i, target_word in enumerate(target_words):\n",
        "        paired_f_score = get_paired_f_score(gold_clusterings[target_word], predicted_clusterings[target_word])\n",
        "        k = len(gold_clusterings[target_word])\n",
        "        paired_f_scores[i] = paired_f_score\n",
        "        ks[i] = k\n",
        "        table.add_row([target_word, k, f'{paired_f_score:0.4f}'])\n",
        "\n",
        "    average_f_score = np.average(paired_f_scores, weights=ks)\n",
        "    print(table)\n",
        "    print(f'=> Average Paired F-Score:  {average_f_score:.4f}')\n",
        "\n",
        "def write_to_output_file(file_path, clusterings):\n",
        "    \"\"\"\n",
        "    Writes the result of clusterings into an output file\n",
        "    :param file_path: path to an output file\n",
        "    :param clusterings:  A dictionary, where key is a target word and value is a list of list of paraphrases\n",
        "    :return: N/A\n",
        "    \"\"\"\n",
        "    with open(file_path, 'w') as fout:\n",
        "        for target_word, clustering in clusterings.items():\n",
        "            for i, cluster in enumerate(clustering):\n",
        "                fout.write(f'{target_word} :: {i + 1} :: {\" \".join(cluster)}\\n')\n",
        "        fout.close()"
      ],
      "metadata": {
        "id": "VACDGSp3VQ1f"
      },
      "execution_count": 80,
      "outputs": []
    },
    {
      "cell_type": "markdown",
      "source": [
        "## 3.1. Cluster Randomly [11 points]\n",
        "Write a function `cluster_random(word_to_paraphrases_dict, word_to_k_dict)` that accepts 2 dictionaries:\n",
        "\n",
        "1. word_to_paraphrases_dict = a mapping between a target word and a list of paraphrases\n",
        "\n",
        "2. word_to_k_dict = a mapping between a target word and a number of clusters for a given target\n",
        "\n",
        "The function outputs a dictionary, where the key is a target word and a value is a list of list of paraphrases, where a list of paraphrases represents a distinct sense of a target word.\n",
        "\n",
        "For this task put paraphrases into distinct senses at random. That is, assign to pick a random word for each cluster, as opposed to picking a random cluster for each word. This will ensure that all clusters have at lease one word in them. We recommend using random packages. Please use 123 as a random seed. Your output should look similar to this on the development dataset:\n",
        "\n",
        "```\n",
        "word_to_paraphrases_dict, word_to_k_dict = load_input_file('dev_input.txt')\n",
        "gold_clusterings = load_output_file('dev_output.txt')\n",
        "predicted_clusterings = cluster_random(word_to_paraphrases_dict, word_to_k_dict)\n",
        "evaluate_clusterings(gold_clusterings, predicted_clusterings)\n",
        "```\n",
        "```\n",
        "+----------------+----+----------------+\n",
        "|     Target     | k  | Paired F-Score |\n",
        "+----------------+----+----------------+\n",
        "|    paper.n     | 7  |     0.2978     |\n",
        "|     play.v     | 34 |     0.0896     |\n",
        "|     miss.v     | 8  |     0.2376     |\n",
        "|   produce.v    | 7  |     0.2335     |\n",
        "|    party.n     | 5  |     0.2480     |\n",
        "|     note.v     | 3  |     0.6667     |\n",
        "|     bank.n     | 9  |     0.1515     |\n",
        "    .\n",
        "    .\n",
        "    .\n",
        "|     eat.v      | 6  |     0.2908     |\n",
        "|    climb.v     | 6  |     0.2427     |\n",
        "|    degree.n    | 7  |     0.2891     |\n",
        "|   interest.n   | 5  |     0.2093     |\n",
        "+----------------+----+----------------+\n",
        "=> Average Paired F-Score:  0.2318\n",
        "```"
      ],
      "metadata": {
        "id": "n4sau65Vo47N"
      }
    },
    {
      "cell_type": "markdown",
      "source": [
        "- **Problem 3.1:** Implement `cluster_random` function. **The augograder for 3.2, 3.3, 3.4 will grade your implementation based on the test-set `f_score` achieved by the clustering.**  [10 points]\n"
      ],
      "metadata": {
        "id": "N4XX7i3VLqnO"
      }
    },
    {
      "cell_type": "code",
      "source": [
        "def cluster_random(word_to_paraphrases_dict, word_to_k_dict):\n",
        "    \"\"\" Clusters paraphrases randomly.\n",
        "    :param word_to_paraphrases_dict: dictionary, where key is a target word and value is a list of paraphrases\n",
        "    :param word_to_k_dict: dictionary, where key is a target word and value is a number of clusters\n",
        "    :return: dictionary, where key is a target word and value is a list of list of paraphrases, where each list corresponds to a cluster\n",
        "    \"\"\"\n",
        "    clusterings = {}\n",
        "\n",
        "    for target_word in word_to_paraphrases_dict.keys():\n",
        "        paraphrase_list = word_to_paraphrases_dict[target_word]\n",
        "        k = word_to_k_dict[target_word]\n",
        "\n",
        "        paraph_list_of_lists = []\n",
        "        random.shuffle(paraphrase_list)\n",
        "        index_low = 0\n",
        "        window = len(paraphrase_list) // k\n",
        "        low_rand_index = 1\n",
        "        high_rand_index = low_rand_index + window\n",
        "        div = len(paraphrase_list) - 1\n",
        "\n",
        "        for i in range(k - 1):\n",
        "            div = random.randint(low_rand_index, high_rand_index - 1)   #(1,4), (5, 8), (9, 12)\n",
        "            l = paraphrase_list[index_low:div]                          #[0: 4], [4: 6], [6: 10]\n",
        "            paraph_list_of_lists.append(l)\n",
        "            index_low = div\n",
        "            low_rand_index = high_rand_index    #5, 9, 13\n",
        "            high_rand_index += window           #9, 13, 17\n",
        "        l = paraphrase_list[div:]\n",
        "        paraph_list_of_lists.append(l)\n",
        "\n",
        "        clusterings[target_word] = paraph_list_of_lists\n",
        "    return clusterings"
      ],
      "metadata": {
        "id": "O4q_QnuaXZp-"
      },
      "execution_count": 82,
      "outputs": []
    },
    {
      "cell_type": "markdown",
      "source": [
        "- **Answer 3.1:** Run clustering on `dev` data, report the `f_scores` from the `dev` data [1 point]"
      ],
      "metadata": {
        "id": "QD3t0b5nkdVr"
      }
    },
    {
      "cell_type": "markdown",
      "source": [
        "**Answer to 3.1**\n",
        "Reporting f_scores from the dev data\n",
        "\n",
        "*   Average Paired F-Score from `dev` data:  0.1891\n",
        "\n",
        "```\n",
        "+----------------+----+----------------+\n",
        "|     Target     | k  | Paired F-Score |\n",
        "+----------------+----+----------------+\n",
        "|    smell.v     | 4  |     0.2432     |\n",
        "|    image.n     | 9  |     0.1760     |\n",
        "|   express.v    | 7  |     0.2036     |\n",
        "|     talk.v     | 6  |     0.2460     |\n",
        "| performance.n  | 5  |     0.2373     |\n",
        "|    begin.v     | 8  |     0.1975     |\n",
        "|     use.v      | 6  |     0.2516     |\n",
        "|  atmosphere.n  | 6  |     0.2162     |\n",
        "|     rule.v     | 7  |     0.1909     |\n",
        "|     bank.n     | 9  |     0.0563     |\n",
        "|     win.v      | 4  |     0.3655     |\n",
        "|     wash.v     | 13 |     0.1190     |\n",
        "|    degree.n    | 7  |     0.2119     |\n",
        "|   provide.v    | 7  |     0.2368     |\n",
        "|   receive.v    | 13 |     0.0864     |\n",
        "|    watch.v     | 5  |     0.2182     |\n",
        "|     plan.n     | 3  |     0.3989     |\n",
        "|  different.a   | 1  |     0.0000     |\n",
        "|   produce.v    | 7  |     0.2011     |\n",
        "|    treat.v     | 8  |     0.1699     |\n",
        "|     hear.v     | 5  |     0.2344     |\n",
        "|   operate.v    | 7  |     0.2018     |\n",
        "|    simple.a    | 5  |     0.4545     |\n",
        "|   interest.n   | 5  |     0.2246     |\n",
        "|   judgment.n   | 7  |     0.2464     |\n",
        "|     eat.v      | 6  |     0.2219     |\n",
        "|     mean.v     | 6  |     0.2500     |\n",
        "|     play.v     | 34 |     0.0541     |\n",
        "|    party.n     | 5  |     0.2357     |\n",
        "|    climb.v     | 6  |     0.2824     |\n",
        "|    source.n    | 9  |     0.1274     |\n",
        "|   suspend.v    | 6  |     0.1176     |\n",
        "|    expect.v    | 6  |     0.2902     |\n",
        "| organization.n | 7  |     0.1896     |\n",
        "|   shelter.n    | 5  |     0.3773     |\n",
        "|     miss.v     | 8  |     0.1702     |\n",
        "|    write.v     | 9  |     0.1306     |\n",
        "|    paper.n     | 7  |     0.2282     |\n",
        "|  difference.n  | 5  |     0.2617     |\n",
        "|     note.v     | 3  |     0.4615     |\n",
        "+----------------+----+----------------+\n",
        "=> Average Paired F-Score:  0.1891\n",
        "```"
      ],
      "metadata": {
        "id": "FMeGTMRKKqhX"
      }
    },
    {
      "cell_type": "code",
      "source": [
        "### Reference Code ###\n",
        "###### You can use the following code to test your clustering on dev data ######\n",
        "word_to_paraphrases_dict_dev, word_to_k_dict_dev = load_input_file('dev_input.txt')\n",
        "predicted_clusterings_random_dev = cluster_random(word_to_paraphrases_dict_dev, word_to_k_dict_dev)\n",
        "gold_clusterings_dev = load_output_file('dev_output.txt')\n",
        "f_score = evaluate_clusterings(gold_clusterings_dev, predicted_clusterings_random_dev)\n",
        "f_score"
      ],
      "metadata": {
        "id": "WAqsnipaCAwE",
        "colab": {
          "base_uri": "https://localhost:8080/"
        },
        "outputId": "4f98ba51-e446-472a-94c4-c5700ec9f039"
      },
      "execution_count": 83,
      "outputs": [
        {
          "output_type": "stream",
          "name": "stdout",
          "text": [
            "+----------------+----+----------------+\n",
            "|     Target     | k  | Paired F-Score |\n",
            "+----------------+----+----------------+\n",
            "|    smell.v     | 4  |     0.2432     |\n",
            "|    image.n     | 9  |     0.1760     |\n",
            "|   express.v    | 7  |     0.2036     |\n",
            "|     talk.v     | 6  |     0.2460     |\n",
            "| performance.n  | 5  |     0.2373     |\n",
            "|    begin.v     | 8  |     0.1975     |\n",
            "|     use.v      | 6  |     0.2516     |\n",
            "|  atmosphere.n  | 6  |     0.2162     |\n",
            "|     rule.v     | 7  |     0.1909     |\n",
            "|     bank.n     | 9  |     0.0563     |\n",
            "|     win.v      | 4  |     0.3655     |\n",
            "|     wash.v     | 13 |     0.1190     |\n",
            "|    degree.n    | 7  |     0.2119     |\n",
            "|   provide.v    | 7  |     0.2368     |\n",
            "|   receive.v    | 13 |     0.0864     |\n",
            "|    watch.v     | 5  |     0.2182     |\n",
            "|     plan.n     | 3  |     0.3989     |\n",
            "|  different.a   | 1  |     0.0000     |\n",
            "|   produce.v    | 7  |     0.2011     |\n",
            "|    treat.v     | 8  |     0.1699     |\n",
            "|     hear.v     | 5  |     0.2344     |\n",
            "|   operate.v    | 7  |     0.2018     |\n",
            "|    simple.a    | 5  |     0.4545     |\n",
            "|   interest.n   | 5  |     0.2246     |\n",
            "|   judgment.n   | 7  |     0.2464     |\n",
            "|     eat.v      | 6  |     0.2219     |\n",
            "|     mean.v     | 6  |     0.2500     |\n",
            "|     play.v     | 34 |     0.0541     |\n",
            "|    party.n     | 5  |     0.2357     |\n",
            "|    climb.v     | 6  |     0.2824     |\n",
            "|    source.n    | 9  |     0.1274     |\n",
            "|   suspend.v    | 6  |     0.1176     |\n",
            "|    expect.v    | 6  |     0.2902     |\n",
            "| organization.n | 7  |     0.1896     |\n",
            "|   shelter.n    | 5  |     0.3773     |\n",
            "|     miss.v     | 8  |     0.1702     |\n",
            "|    write.v     | 9  |     0.1306     |\n",
            "|    paper.n     | 7  |     0.2282     |\n",
            "|  difference.n  | 5  |     0.2617     |\n",
            "|     note.v     | 3  |     0.4615     |\n",
            "+----------------+----+----------------+\n",
            "=> Average Paired F-Score:  0.1891\n"
          ]
        }
      ]
    },
    {
      "cell_type": "markdown",
      "source": [
        "Run the following command to generate the output file for the predicted clusterings for the test dataset."
      ],
      "metadata": {
        "id": "DIrLRhCCANCd"
      }
    },
    {
      "cell_type": "code",
      "source": [
        "word_to_paraphrases_dict, word_to_k_dict = load_input_file('test_input.txt')\n",
        "predicted_clusterings_random = cluster_random(word_to_paraphrases_dict, word_to_k_dict)\n",
        "write_to_output_file('test_output_random.txt', predicted_clusterings_random)"
      ],
      "metadata": {
        "id": "wvWFRKjVpjsV"
      },
      "execution_count": 84,
      "outputs": []
    },
    {
      "cell_type": "code",
      "source": [
        "# PennGrader - DO NOT CHANGE\n",
        "# reload_grader()\n",
        "grader.grade(test_case_id = 'test_q3_clusters_random', answer = (predicted_clusterings_random, 'random'))"
      ],
      "metadata": {
        "id": "LdCjRoPu8VrA",
        "colab": {
          "base_uri": "https://localhost:8080/"
        },
        "outputId": "09a33955-2b22-4962-903b-6768b4797e73"
      },
      "execution_count": 85,
      "outputs": [
        {
          "output_type": "stream",
          "name": "stdout",
          "text": [
            "Correct! You earned 10/10 points. You are a star!\n",
            "\n",
            "Your submission has been successfully recorded in the gradebook.\n"
          ]
        }
      ]
    },
    {
      "cell_type": "markdown",
      "source": [
        "## 3.2 Cluster with Sparse Representations [26 points]\n",
        "\n",
        "Write a function `cluster_with_sparse_representation(word_to_paraphrases_dict, word_to_k_dict)`. The input and output remains the same as in Task 1, however the clustering of paraphrases will no longer be random and is based on sparse vector representation.\n",
        "\n",
        "We will feature-based (not dense) vector space representation. In this type of VSM, each dimension of the vector space corresponds to a specific feature, such as a context word (see, for example, the term-context matrix described in [Chapter 6.1.2 of Jurafsky & Martin](https://web.stanford.edu/~jurafsky/slp3/6.pdf)). You will calculate cooccurrence vectors on the Reuters RCV1 corpus. It can take a long time to build cooccurrence vectors, so we have pre-built set called `coocvec-500mostfreq-window-3.vec.filter.magnitude`. To save on space, these include only the words used in the given files. This representation of words uses a term-context matrix `M` of size `|V| x D`, where `|V|` is the size of the vocabulary and D=500. Each feature corresponds to one of the top 500 most-frequent words in the corpus. The value of matrix entry `M[i][j]` gives the number of times the context word represented by column `j` appeared within W=3 words to the left or right of the word represented by row `i` in the corpus.\n",
        "\n",
        "Use one of the clustering algorithms, for instance K-means clustering in `cluster_with_sparse_representation(word_to_paraphrases_dict, word_to_k_dict)`. Here is an example of the K-means clustering code:"
      ],
      "metadata": {
        "id": "eXbO7_Rapj8M"
      }
    },
    {
      "cell_type": "markdown",
      "source": [
        "\n",
        "\n",
        "```\n",
        "from sklearn.cluster import KMeans\n",
        "kmeans = KMeans(n_clusters=k).fit(X)\n",
        "print(kmeans.labels_)\n",
        "```\n",
        "\n"
      ],
      "metadata": {
        "id": "gYTPLYmliqed"
      }
    },
    {
      "cell_type": "markdown",
      "source": [
        "- **Problem 3.2:** Implement `cluster_with_sparse_representation` function [20 points]"
      ],
      "metadata": {
        "id": "d8NhxobeLVJy"
      }
    },
    {
      "cell_type": "code",
      "source": [
        "def cluster_with_sparse_representation(word_to_paraphrases_dict, word_to_k_dict):\n",
        "    \"\"\"\n",
        "    Clusters paraphrases using sparse vector representation\n",
        "    :param word_to_paraphrases_dict: dictionary, where key is a target word and value is a list of paraphrases\n",
        "    :param word_to_k_dict: dictionary, where key is a target word and value is a number of clusters\n",
        "    :return: dictionary, where key is a target word and value is a list of list of paraphrases,\n",
        "    where each list corresponds to a cluster\n",
        "    \"\"\"\n",
        "    # Note: any vector representation should be in the same directory as this file\n",
        "    vectors = Magnitude(\"coocvec-500mostfreq-window-3.filter.magnitude\")\n",
        "    clusterings = {}\n",
        "\n",
        "    for target_word in word_to_paraphrases_dict.keys():\n",
        "        paraphrase_list = word_to_paraphrases_dict[target_word]\n",
        "        k = word_to_k_dict[target_word]\n",
        "        # TODO: Implement\n",
        "        clusterings[target_word] = None\n",
        "\n",
        "    return clusterings"
      ],
      "metadata": {
        "id": "32YASRIJZ4p0"
      },
      "execution_count": null,
      "outputs": []
    },
    {
      "cell_type": "markdown",
      "source": [
        "**Answer 3.2.1:** Run clustering on `dev` data, report the `f_scores` from the `dev` data [1 point]"
      ],
      "metadata": {
        "id": "6q1d4gGaL3jD"
      }
    },
    {
      "cell_type": "markdown",
      "source": [
        "**TODO**: [Report f_scores from the dev data]"
      ],
      "metadata": {
        "id": "TqZdlNrXAyUe"
      }
    },
    {
      "cell_type": "code",
      "source": [
        "# YOUR CODE HERE (you can re-use reference code from 3.1)\n"
      ],
      "metadata": {
        "id": "fI6ViokIL4Pu"
      },
      "execution_count": null,
      "outputs": []
    },
    {
      "cell_type": "markdown",
      "source": [
        "Run the following command to generate the output file for the predicted clusterings for the test dataset."
      ],
      "metadata": {
        "id": "kitStHe3AuPL"
      }
    },
    {
      "cell_type": "code",
      "source": [
        "word_to_paraphrases_dict, word_to_k_dict = load_input_file('test_input.txt')\n",
        "predicted_clusterings_sparse = cluster_with_sparse_representation(word_to_paraphrases_dict, word_to_k_dict)\n",
        "# write_to_output_file('test_output_sparse.txt', predicted_clusterings_sparse)"
      ],
      "metadata": {
        "id": "wUWjirVALhAp"
      },
      "execution_count": null,
      "outputs": []
    },
    {
      "cell_type": "code",
      "source": [
        "# PennGrader - DO NOT CHANGE\n",
        "# reload_grader()\n",
        "grader.grade(test_case_id = 'test_q3_clusters_sparse', answer = (predicted_clusterings_sparse, 'sparse'))"
      ],
      "metadata": {
        "id": "_J_OYL3YAfsK"
      },
      "execution_count": null,
      "outputs": []
    },
    {
      "cell_type": "markdown",
      "source": [
        "**Answer 3.2.2:** Provide a brief description of your method in the report, making sure to describe the vector space model you chose, the clustering algorithm you used, and the results of any preliminary experiments you might have run on the dev set.  [5 points]"
      ],
      "metadata": {
        "id": "ku8Ymx_djo0x"
      }
    },
    {
      "cell_type": "markdown",
      "source": [
        "Suggestions to improve the performance of your model:\n",
        "\n",
        " - What if you reduce or increase `D` in the baseline implementation?\n",
        " - Does it help to change the window `W` used to extract contexts?\n",
        " - Play around with the feature weighting – instead of raw counts, would it help to use PPMI?\n",
        " - Try a different clustering algorithm that’s included with the [scikit-learn clustering package](http://scikit-learn.org/stable/modules/clustering.html), or implement your own.\n",
        " - What if you include additional types of features, like paraphrases in the [Paraphrase Database](http://www.paraphrase.org/) or the part-of-speech of context words?\n",
        "\n",
        "The only feature types that are off-limits are WordNet features."
      ],
      "metadata": {
        "id": "41LGnqdmLiVM"
      }
    },
    {
      "cell_type": "markdown",
      "source": [
        "**TODO**: Description of your mothod"
      ],
      "metadata": {
        "id": "btx89xeVA3lC"
      }
    },
    {
      "cell_type": "markdown",
      "source": [
        "## 3.3 Cluster with Dense Representations [28 points]\n",
        "\n",
        "Write a function `cluster_with_dense_representation(word_to_paraphrases_dict, word_to_k_dict)`. The input and output remains the same as in Task 1 and 2, however the clustering of paraphrases is based on dense vector representation.\n",
        "\n",
        "We would like to see if dense word embeddings are better for clustering the words in our test set. Run the word clustering task again, but this time use a dense word representation.\n",
        "\n",
        "For this task, we have also included a file called `GoogleNews-vectors-negative300.filter.magnitude`, which is filtered to contain only the words in the dev/test splits.\n",
        "\n",
        "As before, use the provided word vectors to represent words and perform one of the clusterings. Here are some suggestions to improve the performance of your model:\n",
        "\n",
        " - Try downloading a different dense vector space model from the web, like [Paragram](http://www.cs.cmu.edu/~jwieting/) or [fastText](https://fasttext.cc/docs/en/english-vectors.html).\n",
        " - Train your own word vectors, either on the provided corpus or something you find online. You can try the skip-gram, CBOW models, or [GLOVE](https://nlp.stanford.edu/projects/glove/). Try experimenting with the dimensionality.\n",
        " - [Retrofitting](https://www.cs.cmu.edu/~hovy/papers/15HLT-retrofitting-word-vectors.pdf) is a simple way to add additional semantic knowledge to pre-trained vectors. The retrofitting code is available here. Experiment with different lexicons, or even try [counter-fitting](http://www.aclweb.org/anthology/N16-1018)."
      ],
      "metadata": {
        "id": "r1gDMVIeL7Bs"
      }
    },
    {
      "cell_type": "markdown",
      "source": [
        "- **Problem 3.3:** Implement `cluster_with_dense_representation` function [20 points]"
      ],
      "metadata": {
        "id": "AFuNXJyQMD5B"
      }
    },
    {
      "cell_type": "code",
      "source": [
        "def cluster_with_dense_representation(word_to_paraphrases_dict, word_to_k_dict):\n",
        "    \"\"\"\n",
        "    Clusters paraphrases using dense vector representation\n",
        "    :param word_to_paraphrases_dict: dictionary, where key is a target word and value is a list of paraphrases\n",
        "    :param word_to_k_dict: dictionary, where key is a target word and value is a number of clusters\n",
        "    :return: dictionary, where key is a target word and value is a list of list of paraphrases,\n",
        "    where each list corresponds to a cluster\n",
        "    \"\"\"\n",
        "    # Note: any vector representation should be in the same directory as this file\n",
        "    vectors = Magnitude(\"GoogleNews-vectors-negative300.magnitude\")\n",
        "    clusterings = {}\n",
        "\n",
        "    for target_word in word_to_paraphrases_dict.keys():\n",
        "        paraphrase_list = word_to_paraphrases_dict[target_word]\n",
        "        k = word_to_k_dict[target_word]\n",
        "        # TODO: Implement\n",
        "        clusterings[target_word] = None\n",
        "\n",
        "    return clusterings"
      ],
      "metadata": {
        "id": "gK2D-aKsaOVp"
      },
      "execution_count": null,
      "outputs": []
    },
    {
      "cell_type": "markdown",
      "source": [
        "**Answer 3.3.1:** Run clustering on `dev` data, report the `f_scores` from the `dev` data [1 point]"
      ],
      "metadata": {
        "id": "rtfulbcTBM7k"
      }
    },
    {
      "cell_type": "markdown",
      "source": [
        "**TODO**: [Report f_scores from the dev data]"
      ],
      "metadata": {
        "id": "I7HJWGCLMAC9"
      }
    },
    {
      "cell_type": "code",
      "source": [
        "# YOUR CODE HERE (you can re-use reference code from 3.1)"
      ],
      "metadata": {
        "id": "-JBHo0u5MAC9"
      },
      "execution_count": null,
      "outputs": []
    },
    {
      "cell_type": "code",
      "source": [],
      "metadata": {
        "id": "bD-amBKwL_4g"
      },
      "execution_count": null,
      "outputs": []
    },
    {
      "cell_type": "markdown",
      "source": [
        "As before, run the following command to generate the output file for the predicted clusterings for the test dataset."
      ],
      "metadata": {
        "id": "-q_THdDDaOep"
      }
    },
    {
      "cell_type": "code",
      "source": [
        "word_to_paraphrases_dict, word_to_k_dict = load_input_file('test_input.txt')\n",
        "predicted_clusterings_dense = cluster_with_dense_representation(word_to_paraphrases_dict, word_to_k_dict)\n",
        "# write_to_output_file('test_output_dense.txt', predicted_clusterings_dense)"
      ],
      "metadata": {
        "id": "DOErpQxTMiiJ"
      },
      "execution_count": null,
      "outputs": []
    },
    {
      "cell_type": "code",
      "source": [
        "# PennGrader - DO NOT CHANGE\n",
        "# reload_grader()\n",
        "grader.grade(test_case_id = 'test_q3_clusters_dense', answer = (predicted_clusterings_dense, 'dense'))"
      ],
      "metadata": {
        "id": "hMigGstY8npi"
      },
      "execution_count": null,
      "outputs": []
    },
    {
      "cell_type": "markdown",
      "source": [
        "**Answer 3.3.2:** Provide a brief description of your method in the report that includes the vectors you used, and any experimental results you have from running your model on the dev set.  [5 points]"
      ],
      "metadata": {
        "id": "a_vDHhZHBjN_"
      }
    },
    {
      "cell_type": "markdown",
      "source": [
        "**TODO**: [Describe your method]"
      ],
      "metadata": {
        "id": "fGUaOkJfB4As"
      }
    },
    {
      "cell_type": "markdown",
      "source": [
        "**Answer 3.3.3:** In addition, for Task 3.2 and 3.3, do an analysis of different errors made by each system – i.e. look at instances that the word-context matrix representation gets wrong and dense gets right, and vice versa, and see if there are any interesting patterns. There is no right answer for this. [2 points]"
      ],
      "metadata": {
        "id": "7vHlYWaxMkUC"
      }
    },
    {
      "cell_type": "markdown",
      "source": [
        "**TODO**: [Error analysis]"
      ],
      "metadata": {
        "id": "3cIodXdnB6P7"
      }
    },
    {
      "cell_type": "markdown",
      "source": [
        "## 3.4 Cluster without K [31 points]\n",
        "\n",
        "So far we made the clustering problem deliberately easier by providing you with `k`, the number of clusters, as an input. But in most clustering situations the best `k` is not given. To take this assignment one step further, see if you can come up with a way to automatically choose `k`.\n",
        "\n",
        "Write a function `cluster_with_no_k(word_to_paraphrases_dict)` that accepts only the first dictionary as an input and produces clusterings for given target words.\n",
        "\n",
        "We have provided an additional test set `test_nok_input.txt`, where the `k` field has been zeroed out. See if you can come up with a method that clusters words by sense, and chooses the best `k` on its own. You can start by assigning `k=5` for all target words as a baseline model.\n",
        "\n",
        "You might want to try and use the development data to analyze how got is your model in determining `k`.\n",
        "\n",
        "One of the ways to approach this challenge is to try and select best `k` for a target word and a list of paraphrases is to use try out a range of `k`'s and judge the performance of the clusterings based on some metric, for instance a [silhouette score](https://scikit-learn.org/stable/modules/generated/sklearn.metrics.silhouette_score.html).\n",
        "\n",
        "Be sure to describe your method in the Report."
      ],
      "metadata": {
        "id": "T6ELKOARMnBH"
      }
    },
    {
      "cell_type": "markdown",
      "source": [
        "- **Problem 3.4:** Implement `cluster_with_no_k` function [25 points]\n"
      ],
      "metadata": {
        "id": "qHwYHJlPMQJb"
      }
    },
    {
      "cell_type": "code",
      "source": [
        "from sklearn.metrics import silhouette_score # Hint: this could be useful if you want to use silhouette_score as distance metric"
      ],
      "metadata": {
        "id": "naUpFNx49AN8"
      },
      "execution_count": null,
      "outputs": []
    },
    {
      "cell_type": "code",
      "source": [
        "def cluster_with_no_k(word_to_paraphrases_dict):\n",
        "    \"\"\"\n",
        "    Clusters paraphrases using any vector representation\n",
        "    :param word_to_paraphrases_dict: dictionary, where key is a target word and value is a list of paraphrases\n",
        "    :return: dictionary, where key is a target word and value is a list of list of paraphrases,\n",
        "    where each list corresponds to a cluster\n",
        "    \"\"\"\n",
        "    # Note: any vector representation should be in the same directory as this file\n",
        "    vectors = Magnitude(\"GoogleNews-vectors-negative300.magnitude\")\n",
        "    clusterings = {}\n",
        "\n",
        "    for target_word in word_to_paraphrases_dict.keys():\n",
        "        paraphrase_list = word_to_paraphrases_dict[target_word]\n",
        "        # TODO: Implement\n",
        "        # hint: first find the best k value, you can define a seperate function, if needed.\n",
        "        # hint: then fit a KMeans model on the data with k clusters\n",
        "        clusterings[target_word] = None\n",
        "\n",
        "    return clusterings"
      ],
      "metadata": {
        "id": "BWeQwrJmakL2"
      },
      "execution_count": null,
      "outputs": []
    },
    {
      "cell_type": "markdown",
      "source": [
        "**Answer 3.4.1:** Run clustering on `dev` data, report the `f_scores` from the `dev` data [1 point]"
      ],
      "metadata": {
        "id": "SSquG6HBCNXW"
      }
    },
    {
      "cell_type": "markdown",
      "source": [
        "**TODO:** [Report f_score on dev data]"
      ],
      "metadata": {
        "id": "ilQ8iSrECYZN"
      }
    },
    {
      "cell_type": "code",
      "source": [
        "# YOUR CODE HERE (you can re-use reference code from 3.1)"
      ],
      "metadata": {
        "id": "vlLfP-jQCZMW"
      },
      "execution_count": null,
      "outputs": []
    },
    {
      "cell_type": "markdown",
      "source": [
        "As before, run the following command to generate the output file for the predicted clusterings for the test dataset."
      ],
      "metadata": {
        "id": "bJq0-6pnakUR"
      }
    },
    {
      "cell_type": "code",
      "source": [
        "word_to_paraphrases_dict, _ = load_input_file('/content/test_nok_input.txt')\n",
        "predicted_clusterings_nok = cluster_with_no_k(word_to_paraphrases_dict)\n",
        "# write_to_output_file('test_output_nok.txt', predicted_clusterings_nok)"
      ],
      "metadata": {
        "id": "riIjx9FaNEwy"
      },
      "execution_count": null,
      "outputs": []
    },
    {
      "cell_type": "code",
      "source": [
        "# PennGrader - DO NOT CHANGE\n",
        "# reload_grader()\n",
        "grader.grade(test_case_id = 'test_q3_clusters_no_k', answer = (predicted_clusterings_nok, 'no k'))"
      ],
      "metadata": {
        "id": "7eugg3gH842c"
      },
      "execution_count": null,
      "outputs": []
    },
    {
      "cell_type": "markdown",
      "source": [
        "**Answer 3.4.2:** Provide a brief description of your method in the report that includes the vectors you used, and any experimental results you have from running your model on the dev set.  [5 points]"
      ],
      "metadata": {
        "id": "LYj7zEKwDiF6"
      }
    },
    {
      "cell_type": "markdown",
      "source": [
        "**TODO**: [Describe your method]"
      ],
      "metadata": {
        "id": "HUkMZBtZDnyE"
      }
    },
    {
      "cell_type": "markdown",
      "source": [
        "# Submissions"
      ],
      "metadata": {
        "id": "2hoP1RcwMqNF"
      }
    },
    {
      "cell_type": "markdown",
      "source": [
        "\n",
        "## Leaderboards [2 points + 3 bonus]\n",
        "In order to stir up some friendly competition, we would also like you to submit the clustering from your best model to a leaderboard. There will be 2 leaderboards to submit to:\n",
        "- **Clusters with no K**: Copy the output file from your best model **(has to come from `3.4`)** to a file called `test_nok_output_leaderboard.txt` and include it with your submission in `HW5: Leaderboard Without K` following the format of the clusters file. [1 point]\n",
        "\n",
        "- **Clusters with K**: Copy the output file from your best model **(has to come from `3.2 or 3.3`)** to a file called `test_output_leaderboard.txt` and include it with your submission in `HW5: Leaderboard With K` following the format of the clusters file. [1 point]\n",
        "\n",
        "The first 10 places in either of the two leaderboards get 3 extra points."
      ],
      "metadata": {
        "id": "fu2saUjcHWPZ"
      }
    },
    {
      "cell_type": "markdown",
      "source": [
        "## Free-response Checklist (check if you missed anything!)\n",
        "We will look for the following free-responses in this notebook:\n",
        "- Section 2: Question responses and analysis of correlations\n",
        "- Section 3: For each clustering algorithm, you would need to report the `f_score` from the `dev` set and description of your methods."
      ],
      "metadata": {
        "id": "-DfjnoJXNfCZ"
      }
    },
    {
      "cell_type": "markdown",
      "source": [
        "## GradeScope File Submission\n",
        "Here are the deliverables you need to submit to GradeScope:\n",
        "- Write-up:\n",
        "    - Part 2: answers to questions\n",
        "    - Part 3: F-scores for clustering algorithms & discussions about your models\n",
        "- Code:\n",
        "    - This notebook and py file: rename to `homework5.ipynb` and `homework5.py`. You can download the notebook and py file by going to the top-left corner of this webpage, `File -> Download -> Download .ipynb/.py`\n",
        "- Leaderboard Results:\n",
        "  - Leaderboard Without K: `test_nok_output_leaderboard.txt` (Task 3.4 output file)\n",
        "  - Leaderboard With K: `test_output_leaderboard.txt` (Task 3.2 or 3.3 output file)"
      ],
      "metadata": {
        "id": "qx1oLs9-OFjE"
      }
    }
  ]
}