{
  "nbformat": 4,
  "nbformat_minor": 0,
  "metadata": {
    "colab": {
      "provenance": [],
      "include_colab_link": true
    },
    "kernelspec": {
      "name": "python3",
      "display_name": "Python 3"
    },
    "language_info": {
      "name": "python"
    }
  },
  "cells": [
    {
      "cell_type": "markdown",
      "metadata": {
        "id": "view-in-github",
        "colab_type": "text"
      },
      "source": [
        "<a href=\"https://colab.research.google.com/github/MarinaWolters/Coding-Tracker/blob/master/Delta_Climate_Project.ipynb\" target=\"_parent\"><img src=\"https://colab.research.google.com/assets/colab-badge.svg\" alt=\"Open In Colab\"/></a>"
      ]
    },
    {
      "cell_type": "markdown",
      "source": [
        "#**Delta Climate: Project Introduction**\n",
        "\n",
        "Hi there! Welcome to Gail, Rekha, and Marina’s CIS-5450 Final Project.\n",
        "\n",
        "Throughout this project we study the trend in surface temperature of land and ocean in the world. We will look into temperature trends in cities and countries. \n",
        "\n",
        "We start our analysis from Earth Surface Temperature, a publicly available dataset that was released by Berkeley. We will walk through the entire process by downloading and acquiring preliminary datasets, extracting features, conducting EDA, and data modeling.**bold text**"
      ],
      "metadata": {
        "id": "Ttvsr5lNbTxP"
      }
    },
    {
      "cell_type": "markdown",
      "source": [
        "#**Step 1: Get the Data**\n",
        "\n",
        "To get the data:\n",
        "\n",
        "1. Go to this Kaggle link and create a Kaggle account (unless you already have an account)\n",
        "2. Go to Account and click on \"Create New API Token\" to get the API key in the form of a json file kaggle.json\n",
        "3. Upload the kaggle.json file to the default location in your Google Drive\n",
        "\n"
      ],
      "metadata": {
        "id": "4lcFSt0DO8zE"
      }
    },
    {
      "cell_type": "code",
      "execution_count": 1,
      "metadata": {
        "colab": {
          "base_uri": "https://localhost:8080/"
        },
        "id": "VlTt72jhN7Xf",
        "outputId": "f421a6ea-188c-4042-acf8-ff9331978f59"
      },
      "outputs": [
        {
          "output_type": "stream",
          "name": "stdout",
          "text": [
            "Mounted at /content/drive\n"
          ]
        }
      ],
      "source": [
        "# Run this cell to mount your drive (you will be prompted to sign in)\n",
        "from google.colab import drive\n",
        "drive.mount('/content/drive')"
      ]
    },
    {
      "cell_type": "code",
      "source": [
        "!pip install kaggle"
      ],
      "metadata": {
        "colab": {
          "base_uri": "https://localhost:8080/"
        },
        "id": "Ol90MW4TPetX",
        "outputId": "7ec8fa55-311b-442c-a699-ee90b7e62c04"
      },
      "execution_count": 2,
      "outputs": [
        {
          "output_type": "stream",
          "name": "stdout",
          "text": [
            "Looking in indexes: https://pypi.org/simple, https://us-python.pkg.dev/colab-wheels/public/simple/\n",
            "Requirement already satisfied: kaggle in /usr/local/lib/python3.9/dist-packages (1.5.13)\n",
            "Requirement already satisfied: tqdm in /usr/local/lib/python3.9/dist-packages (from kaggle) (4.65.0)\n",
            "Requirement already satisfied: python-slugify in /usr/local/lib/python3.9/dist-packages (from kaggle) (8.0.1)\n",
            "Requirement already satisfied: python-dateutil in /usr/local/lib/python3.9/dist-packages (from kaggle) (2.8.2)\n",
            "Requirement already satisfied: urllib3 in /usr/local/lib/python3.9/dist-packages (from kaggle) (1.26.15)\n",
            "Requirement already satisfied: six>=1.10 in /usr/local/lib/python3.9/dist-packages (from kaggle) (1.16.0)\n",
            "Requirement already satisfied: requests in /usr/local/lib/python3.9/dist-packages (from kaggle) (2.27.1)\n",
            "Requirement already satisfied: certifi in /usr/local/lib/python3.9/dist-packages (from kaggle) (2022.12.7)\n",
            "Requirement already satisfied: text-unidecode>=1.3 in /usr/local/lib/python3.9/dist-packages (from python-slugify->kaggle) (1.3)\n",
            "Requirement already satisfied: charset-normalizer~=2.0.0 in /usr/local/lib/python3.9/dist-packages (from requests->kaggle) (2.0.12)\n",
            "Requirement already satisfied: idna<4,>=2.5 in /usr/local/lib/python3.9/dist-packages (from requests->kaggle) (3.4)\n"
          ]
        }
      ]
    },
    {
      "cell_type": "code",
      "source": [
        "!mkdir ~/.kaggle"
      ],
      "metadata": {
        "id": "LzfBaPSePla5"
      },
      "execution_count": 3,
      "outputs": []
    },
    {
      "cell_type": "code",
      "source": [
        "# Read the uploaded kaggle.json file\n",
        "!cp /content/drive/MyDrive/CIS-545_Earth_Temperatures_Project/Colab/kaggle.json ~/.kaggle/"
      ],
      "metadata": {
        "id": "LrfHnZWfPnsS"
      },
      "execution_count": 4,
      "outputs": []
    },
    {
      "cell_type": "code",
      "source": [
        "# Download dataset\n",
        "!!kaggle datasets download -d berkeleyearth/climate-change-earth-surface-temperature-data"
      ],
      "metadata": {
        "colab": {
          "base_uri": "https://localhost:8080/"
        },
        "id": "CX61eyVSPsJ3",
        "outputId": "d0744fbb-e441-470a-b587-13998e9b3865"
      },
      "execution_count": 5,
      "outputs": [
        {
          "output_type": "execute_result",
          "data": {
            "text/plain": [
              "['Downloading climate-change-earth-surface-temperature-data.zip to /content',\n",
              " '',\n",
              " '  0% 0.00/84.7M [00:00<?, ?B/s]',\n",
              " '  6% 5.00M/84.7M [00:00<00:01, 48.0MB/s]',\n",
              " ' 12% 10.0M/84.7M [00:00<00:01, 42.9MB/s]',\n",
              " ' 21% 18.0M/84.7M [00:00<00:01, 56.1MB/s]',\n",
              " ' 30% 25.0M/84.7M [00:00<00:01, 52.9MB/s]',\n",
              " ' 39% 33.0M/84.7M [00:00<00:01, 53.6MB/s]',\n",
              " ' 48% 41.0M/84.7M [00:00<00:00, 49.9MB/s]',\n",
              " ' 58% 49.0M/84.7M [00:00<00:00, 56.3MB/s]',\n",
              " ' 67% 57.0M/84.7M [00:01<00:00, 62.6MB/s]',\n",
              " ' 77% 65.0M/84.7M [00:01<00:00, 66.8MB/s]',\n",
              " ' 93% 79.0M/84.7M [00:01<00:00, 87.6MB/s]',\n",
              " '',\n",
              " '100% 84.7M/84.7M [00:01<00:00, 65.5MB/s]']"
            ]
          },
          "metadata": {},
          "execution_count": 5
        }
      ]
    },
    {
      "cell_type": "code",
      "source": [
        "# Unzip folder in Colab content folder\n",
        "!unzip /content/climate-change-earth-surface-temperature-data.zip"
      ],
      "metadata": {
        "colab": {
          "base_uri": "https://localhost:8080/"
        },
        "id": "1NzGR9yNRQ2d",
        "outputId": "9a2bf5b6-1e94-498d-9acd-e60fae461469"
      },
      "execution_count": 6,
      "outputs": [
        {
          "output_type": "stream",
          "name": "stdout",
          "text": [
            "Archive:  /content/climate-change-earth-surface-temperature-data.zip\n",
            "  inflating: GlobalLandTemperaturesByCity.csv  \n",
            "  inflating: GlobalLandTemperaturesByCountry.csv  \n",
            "  inflating: GlobalLandTemperaturesByMajorCity.csv  \n",
            "  inflating: GlobalLandTemperaturesByState.csv  \n",
            "  inflating: GlobalTemperatures.csv  \n"
          ]
        }
      ]
    },
    {
      "cell_type": "code",
      "source": [
        "# Import necessary libraries\n",
        "# import json\n",
        "# import glob\n",
        "import pandas as pd\n",
        "# import numpy as np\n",
        "# import datetime as dt\n",
        "# import re\n",
        "# import os\n",
        "# import matplotlib.pyplot as plt\n",
        "import seaborn as sns\n",
        "# from matplotlib import cm\n",
        "# from sklearn.model_selection import train_test_split"
      ],
      "metadata": {
        "id": "FGxF3_IARsfS"
      },
      "execution_count": 44,
      "outputs": []
    },
    {
      "cell_type": "code",
      "source": [
        "# Read csv file and save it to a dataframe\n",
        "df_temp_by_city = pd.read_csv(\"GlobalLandTemperaturesByCity.csv\")\n",
        "df_temp_by_country = pd.read_csv(\"GlobalLandTemperaturesByCountry.csv\")\n",
        "df_temp_by_major_city = pd.read_csv(\"GlobalLandTemperaturesByMajorCity.csv\")\n",
        "df_temp_by_state = pd.read_csv(\"GlobalLandTemperaturesByState.csv\")\n",
        "df_temp = pd.read_csv(\"GlobalTemperatures.csv\")"
      ],
      "metadata": {
        "id": "3S5uGF74Riqp"
      },
      "execution_count": 8,
      "outputs": []
    },
    {
      "cell_type": "markdown",
      "source": [
        "#**Step 2: Data Exploration**\n",
        "\n",
        "We are going to explore `df_temp_by_city` DF and look at the data types, number of cities, number of missing values, and number of countries."
      ],
      "metadata": {
        "id": "aZ8aiskXhnOT"
      }
    },
    {
      "cell_type": "code",
      "source": [
        "df_temp_by_city.head(5)"
      ],
      "metadata": {
        "colab": {
          "base_uri": "https://localhost:8080/",
          "height": 206
        },
        "id": "LxSg06ggywww",
        "outputId": "96881a3c-b677-4f0c-996a-7da19858cbb5"
      },
      "execution_count": 9,
      "outputs": [
        {
          "output_type": "execute_result",
          "data": {
            "text/plain": [
              "           dt  AverageTemperature  AverageTemperatureUncertainty   City  \\\n",
              "0  1743-11-01               6.068                          1.737  Århus   \n",
              "1  1743-12-01                 NaN                            NaN  Århus   \n",
              "2  1744-01-01                 NaN                            NaN  Århus   \n",
              "3  1744-02-01                 NaN                            NaN  Århus   \n",
              "4  1744-03-01                 NaN                            NaN  Århus   \n",
              "\n",
              "   Country Latitude Longitude  \n",
              "0  Denmark   57.05N    10.33E  \n",
              "1  Denmark   57.05N    10.33E  \n",
              "2  Denmark   57.05N    10.33E  \n",
              "3  Denmark   57.05N    10.33E  \n",
              "4  Denmark   57.05N    10.33E  "
            ],
            "text/html": [
              "\n",
              "  <div id=\"df-57bddcf2-3608-4aaf-8fbb-b0b9fde6ef6a\">\n",
              "    <div class=\"colab-df-container\">\n",
              "      <div>\n",
              "<style scoped>\n",
              "    .dataframe tbody tr th:only-of-type {\n",
              "        vertical-align: middle;\n",
              "    }\n",
              "\n",
              "    .dataframe tbody tr th {\n",
              "        vertical-align: top;\n",
              "    }\n",
              "\n",
              "    .dataframe thead th {\n",
              "        text-align: right;\n",
              "    }\n",
              "</style>\n",
              "<table border=\"1\" class=\"dataframe\">\n",
              "  <thead>\n",
              "    <tr style=\"text-align: right;\">\n",
              "      <th></th>\n",
              "      <th>dt</th>\n",
              "      <th>AverageTemperature</th>\n",
              "      <th>AverageTemperatureUncertainty</th>\n",
              "      <th>City</th>\n",
              "      <th>Country</th>\n",
              "      <th>Latitude</th>\n",
              "      <th>Longitude</th>\n",
              "    </tr>\n",
              "  </thead>\n",
              "  <tbody>\n",
              "    <tr>\n",
              "      <th>0</th>\n",
              "      <td>1743-11-01</td>\n",
              "      <td>6.068</td>\n",
              "      <td>1.737</td>\n",
              "      <td>Århus</td>\n",
              "      <td>Denmark</td>\n",
              "      <td>57.05N</td>\n",
              "      <td>10.33E</td>\n",
              "    </tr>\n",
              "    <tr>\n",
              "      <th>1</th>\n",
              "      <td>1743-12-01</td>\n",
              "      <td>NaN</td>\n",
              "      <td>NaN</td>\n",
              "      <td>Århus</td>\n",
              "      <td>Denmark</td>\n",
              "      <td>57.05N</td>\n",
              "      <td>10.33E</td>\n",
              "    </tr>\n",
              "    <tr>\n",
              "      <th>2</th>\n",
              "      <td>1744-01-01</td>\n",
              "      <td>NaN</td>\n",
              "      <td>NaN</td>\n",
              "      <td>Århus</td>\n",
              "      <td>Denmark</td>\n",
              "      <td>57.05N</td>\n",
              "      <td>10.33E</td>\n",
              "    </tr>\n",
              "    <tr>\n",
              "      <th>3</th>\n",
              "      <td>1744-02-01</td>\n",
              "      <td>NaN</td>\n",
              "      <td>NaN</td>\n",
              "      <td>Århus</td>\n",
              "      <td>Denmark</td>\n",
              "      <td>57.05N</td>\n",
              "      <td>10.33E</td>\n",
              "    </tr>\n",
              "    <tr>\n",
              "      <th>4</th>\n",
              "      <td>1744-03-01</td>\n",
              "      <td>NaN</td>\n",
              "      <td>NaN</td>\n",
              "      <td>Århus</td>\n",
              "      <td>Denmark</td>\n",
              "      <td>57.05N</td>\n",
              "      <td>10.33E</td>\n",
              "    </tr>\n",
              "  </tbody>\n",
              "</table>\n",
              "</div>\n",
              "      <button class=\"colab-df-convert\" onclick=\"convertToInteractive('df-57bddcf2-3608-4aaf-8fbb-b0b9fde6ef6a')\"\n",
              "              title=\"Convert this dataframe to an interactive table.\"\n",
              "              style=\"display:none;\">\n",
              "        \n",
              "  <svg xmlns=\"http://www.w3.org/2000/svg\" height=\"24px\"viewBox=\"0 0 24 24\"\n",
              "       width=\"24px\">\n",
              "    <path d=\"M0 0h24v24H0V0z\" fill=\"none\"/>\n",
              "    <path d=\"M18.56 5.44l.94 2.06.94-2.06 2.06-.94-2.06-.94-.94-2.06-.94 2.06-2.06.94zm-11 1L8.5 8.5l.94-2.06 2.06-.94-2.06-.94L8.5 2.5l-.94 2.06-2.06.94zm10 10l.94 2.06.94-2.06 2.06-.94-2.06-.94-.94-2.06-.94 2.06-2.06.94z\"/><path d=\"M17.41 7.96l-1.37-1.37c-.4-.4-.92-.59-1.43-.59-.52 0-1.04.2-1.43.59L10.3 9.45l-7.72 7.72c-.78.78-.78 2.05 0 2.83L4 21.41c.39.39.9.59 1.41.59.51 0 1.02-.2 1.41-.59l7.78-7.78 2.81-2.81c.8-.78.8-2.07 0-2.86zM5.41 20L4 18.59l7.72-7.72 1.47 1.35L5.41 20z\"/>\n",
              "  </svg>\n",
              "      </button>\n",
              "      \n",
              "  <style>\n",
              "    .colab-df-container {\n",
              "      display:flex;\n",
              "      flex-wrap:wrap;\n",
              "      gap: 12px;\n",
              "    }\n",
              "\n",
              "    .colab-df-convert {\n",
              "      background-color: #E8F0FE;\n",
              "      border: none;\n",
              "      border-radius: 50%;\n",
              "      cursor: pointer;\n",
              "      display: none;\n",
              "      fill: #1967D2;\n",
              "      height: 32px;\n",
              "      padding: 0 0 0 0;\n",
              "      width: 32px;\n",
              "    }\n",
              "\n",
              "    .colab-df-convert:hover {\n",
              "      background-color: #E2EBFA;\n",
              "      box-shadow: 0px 1px 2px rgba(60, 64, 67, 0.3), 0px 1px 3px 1px rgba(60, 64, 67, 0.15);\n",
              "      fill: #174EA6;\n",
              "    }\n",
              "\n",
              "    [theme=dark] .colab-df-convert {\n",
              "      background-color: #3B4455;\n",
              "      fill: #D2E3FC;\n",
              "    }\n",
              "\n",
              "    [theme=dark] .colab-df-convert:hover {\n",
              "      background-color: #434B5C;\n",
              "      box-shadow: 0px 1px 3px 1px rgba(0, 0, 0, 0.15);\n",
              "      filter: drop-shadow(0px 1px 2px rgba(0, 0, 0, 0.3));\n",
              "      fill: #FFFFFF;\n",
              "    }\n",
              "  </style>\n",
              "\n",
              "      <script>\n",
              "        const buttonEl =\n",
              "          document.querySelector('#df-57bddcf2-3608-4aaf-8fbb-b0b9fde6ef6a button.colab-df-convert');\n",
              "        buttonEl.style.display =\n",
              "          google.colab.kernel.accessAllowed ? 'block' : 'none';\n",
              "\n",
              "        async function convertToInteractive(key) {\n",
              "          const element = document.querySelector('#df-57bddcf2-3608-4aaf-8fbb-b0b9fde6ef6a');\n",
              "          const dataTable =\n",
              "            await google.colab.kernel.invokeFunction('convertToInteractive',\n",
              "                                                     [key], {});\n",
              "          if (!dataTable) return;\n",
              "\n",
              "          const docLinkHtml = 'Like what you see? Visit the ' +\n",
              "            '<a target=\"_blank\" href=https://colab.research.google.com/notebooks/data_table.ipynb>data table notebook</a>'\n",
              "            + ' to learn more about interactive tables.';\n",
              "          element.innerHTML = '';\n",
              "          dataTable['output_type'] = 'display_data';\n",
              "          await google.colab.output.renderOutput(dataTable, element);\n",
              "          const docLink = document.createElement('div');\n",
              "          docLink.innerHTML = docLinkHtml;\n",
              "          element.appendChild(docLink);\n",
              "        }\n",
              "      </script>\n",
              "    </div>\n",
              "  </div>\n",
              "  "
            ]
          },
          "metadata": {},
          "execution_count": 9
        }
      ]
    },
    {
      "cell_type": "code",
      "source": [
        "df_temp_by_city.dtypes\n",
        "print(\"Total rows in temp_by_city df: \", len(df_temp_by_city))"
      ],
      "metadata": {
        "colab": {
          "base_uri": "https://localhost:8080/"
        },
        "id": "1Xv5AsOph759",
        "outputId": "8ce401f2-499b-45a6-cd0f-cc9f0ad5c3e6"
      },
      "execution_count": 12,
      "outputs": [
        {
          "output_type": "stream",
          "name": "stdout",
          "text": [
            "Total rows in temp_by_city df:  8599212\n"
          ]
        }
      ]
    },
    {
      "cell_type": "code",
      "source": [
        "cities = df_temp_by_city.City.unique()\n",
        "print(\"Cities in the dataframe: \", len(cities))\n",
        "print(\"Note, city count could be slightly off due to duplicates across countries\")\n",
        "cities_from_temp_list = cities.tolist()"
      ],
      "metadata": {
        "id": "zPnKq8y_ZSuV",
        "colab": {
          "base_uri": "https://localhost:8080/"
        },
        "outputId": "50f48b48-146f-4298-fea0-7e8dd019cc2b"
      },
      "execution_count": 14,
      "outputs": [
        {
          "output_type": "stream",
          "name": "stdout",
          "text": [
            "Cities in the dataframe:  3448\n",
            "Note, city count could be slightly off due to duplicates across countries\n"
          ]
        }
      ]
    },
    {
      "cell_type": "code",
      "source": [
        "countries = df_temp_by_city.Country.unique()\n",
        "print(\"Countries in the df: \",len(countries))"
      ],
      "metadata": {
        "colab": {
          "base_uri": "https://localhost:8080/"
        },
        "id": "WGZlUS56ilz8",
        "outputId": "82ff1be0-a79a-45a7-ef9c-fd43b9614513"
      },
      "execution_count": 15,
      "outputs": [
        {
          "output_type": "stream",
          "name": "stdout",
          "text": [
            "Countries in the df:  159\n"
          ]
        }
      ]
    },
    {
      "cell_type": "markdown",
      "source": [
        "The number of row that miss temperature data is less than 5% of total number of rows \n"
      ],
      "metadata": {
        "id": "nQcuao07eCv8"
      }
    },
    {
      "cell_type": "code",
      "source": [
        "missing_temp_df = df_temp_by_city.loc[df_temp_by_city['AverageTemperature'].isna()]\n",
        "missing_temp_df.head()\n",
        "print(\"Total number of rows with temp data missing: \",len(missing_temp_df))\n",
        "print(\"Percentage of rows with missing temp data: {:.2f}%\".format(len(missing_temp_df) / len(df_temp_by_city) * 100))"
      ],
      "metadata": {
        "colab": {
          "base_uri": "https://localhost:8080/"
        },
        "id": "_HBI7tZRjAnF",
        "outputId": "a01c26c9-fbf0-4c83-d150-14eeb131ac88"
      },
      "execution_count": 22,
      "outputs": [
        {
          "output_type": "stream",
          "name": "stdout",
          "text": [
            "Total number of rows with temp data missing:  364130\n",
            "Percentage of rows with missing temp data: 4.23%\n"
          ]
        }
      ]
    },
    {
      "cell_type": "markdown",
      "source": [
        "Next, we find all the cities with missing values and create a series to find the number of such cities. We conclude that almost every city has a few missing values.\n",
        "\n",
        "Following that, we find the number of missing values per city, using groupby and storing the result in `cities_mv_summary`. Then, we calculate the percentage of missing values per city.\n",
        "\n",
        "Finally, we print the report on cities with missing values at 8, 10, 12, 15, 18, and 20 percent to help us make the decision for the acceptable level missing values."
      ],
      "metadata": {
        "id": "Egwf3sYZlabw"
      }
    },
    {
      "cell_type": "code",
      "source": [
        "#from numpy.core.multiarray import inner\n",
        "cities_missing_values = missing_temp_df.City.unique()\n",
        "print(\"Cities with missing values:\", len(cities_missing_values))\n",
        "\n",
        "# new DF with the number missing values by City (dropped unnecessary columns)\n",
        "cities_mv_summary = missing_temp_df.groupby(['City']).count().drop(columns=['Country','Latitude','Longitude']).reset_index()\n",
        "cities_mv_summary = cities_mv_summary.sort_values(by = 'City',ascending=False) \n",
        "#cities_mv_summary.head()\n",
        "\n",
        "# Create a new DF with count of total values per City from original DF \n",
        "cities_total_values = df_temp_by_city.groupby(['City']).count().drop(columns=['Country','Latitude','Longitude']).reset_index()\n",
        "# Merge two DFs and add a column missing_Temp_percent to calculate percentage of missing values by City\n",
        "cities_mv_total = cities_mv_summary.merge(cities_total_values,left_on= 'City',right_on= 'City', how ='inner')\n",
        "#cities_mv_total.head()\n",
        "cities_mv_total = cities_mv_total.assign(missing_temp_percent=lambda x: (x.dt_x/x.dt_y)*100)\n",
        "cities_mv_total = cities_mv_total.sort_values(by = 'missing_temp_percent',ascending= False)\n",
        "#cities_mv_total.head()\n",
        "\n",
        "# Print a report on number of cities with missing Temperature Values > 8,10,12,15,17,20 percent\n",
        "percent_list = [8,10,12,15,17,20]\n",
        "for x in percent_list:\n",
        "  cities_to_drop = cities_mv_total.loc[cities_mv_total['missing_temp_percent']> x] \n",
        "  print(\"percent of Nan\", x,\":-number of cities to drop:\",len(cities_to_drop))\n",
        "\n",
        "# Making the decision to drop missing value > 12 percent\n",
        "cities_to_drop = cities_mv_total.loc[cities_mv_total['missing_temp_percent']> 12] \n",
        "cities_to_drop.head()"
      ],
      "metadata": {
        "colab": {
          "base_uri": "https://localhost:8080/",
          "height": 328
        },
        "id": "2Sp4XPfaj8-H",
        "outputId": "6e685a56-aa04-4646-aef6-fadfa15fea58"
      },
      "execution_count": 26,
      "outputs": [
        {
          "output_type": "stream",
          "name": "stdout",
          "text": [
            "Cities with missing values: 3323\n",
            "percent of Nan 8 :-number of cities to drop: 746\n",
            "percent of Nan 10 :-number of cities to drop: 391\n",
            "percent of Nan 12 :-number of cities to drop: 314\n",
            "percent of Nan 15 :-number of cities to drop: 184\n",
            "percent of Nan 17 :-number of cities to drop: 170\n",
            "percent of Nan 20 :-number of cities to drop: 18\n"
          ]
        },
        {
          "output_type": "execute_result",
          "data": {
            "text/plain": [
              "              City  dt_x  AverageTemperature_x  \\\n",
              "1013    Port Louis  1039                     0   \n",
              "807    Saint Denis  1039                     0   \n",
              "2438  Fianarantsoa  1036                     0   \n",
              "1369        Nacala   958                     0   \n",
              "3197  Antananarivo   958                     0   \n",
              "\n",
              "      AverageTemperatureUncertainty_x  dt_y  AverageTemperature_y  \\\n",
              "1013                                0  2721                  1682   \n",
              "807                                 0  2721                  1682   \n",
              "2438                                0  2721                  1685   \n",
              "1369                                0  2721                  1763   \n",
              "3197                                0  2721                  1763   \n",
              "\n",
              "      AverageTemperatureUncertainty_y  missing_temp_percent  \n",
              "1013                             1682             38.184491  \n",
              "807                              1682             38.184491  \n",
              "2438                             1685             38.074237  \n",
              "1369                             1763             35.207644  \n",
              "3197                             1763             35.207644  "
            ],
            "text/html": [
              "\n",
              "  <div id=\"df-eb6df647-b0b0-4d0f-ade9-1c127f76da44\">\n",
              "    <div class=\"colab-df-container\">\n",
              "      <div>\n",
              "<style scoped>\n",
              "    .dataframe tbody tr th:only-of-type {\n",
              "        vertical-align: middle;\n",
              "    }\n",
              "\n",
              "    .dataframe tbody tr th {\n",
              "        vertical-align: top;\n",
              "    }\n",
              "\n",
              "    .dataframe thead th {\n",
              "        text-align: right;\n",
              "    }\n",
              "</style>\n",
              "<table border=\"1\" class=\"dataframe\">\n",
              "  <thead>\n",
              "    <tr style=\"text-align: right;\">\n",
              "      <th></th>\n",
              "      <th>City</th>\n",
              "      <th>dt_x</th>\n",
              "      <th>AverageTemperature_x</th>\n",
              "      <th>AverageTemperatureUncertainty_x</th>\n",
              "      <th>dt_y</th>\n",
              "      <th>AverageTemperature_y</th>\n",
              "      <th>AverageTemperatureUncertainty_y</th>\n",
              "      <th>missing_temp_percent</th>\n",
              "    </tr>\n",
              "  </thead>\n",
              "  <tbody>\n",
              "    <tr>\n",
              "      <th>1013</th>\n",
              "      <td>Port Louis</td>\n",
              "      <td>1039</td>\n",
              "      <td>0</td>\n",
              "      <td>0</td>\n",
              "      <td>2721</td>\n",
              "      <td>1682</td>\n",
              "      <td>1682</td>\n",
              "      <td>38.184491</td>\n",
              "    </tr>\n",
              "    <tr>\n",
              "      <th>807</th>\n",
              "      <td>Saint Denis</td>\n",
              "      <td>1039</td>\n",
              "      <td>0</td>\n",
              "      <td>0</td>\n",
              "      <td>2721</td>\n",
              "      <td>1682</td>\n",
              "      <td>1682</td>\n",
              "      <td>38.184491</td>\n",
              "    </tr>\n",
              "    <tr>\n",
              "      <th>2438</th>\n",
              "      <td>Fianarantsoa</td>\n",
              "      <td>1036</td>\n",
              "      <td>0</td>\n",
              "      <td>0</td>\n",
              "      <td>2721</td>\n",
              "      <td>1685</td>\n",
              "      <td>1685</td>\n",
              "      <td>38.074237</td>\n",
              "    </tr>\n",
              "    <tr>\n",
              "      <th>1369</th>\n",
              "      <td>Nacala</td>\n",
              "      <td>958</td>\n",
              "      <td>0</td>\n",
              "      <td>0</td>\n",
              "      <td>2721</td>\n",
              "      <td>1763</td>\n",
              "      <td>1763</td>\n",
              "      <td>35.207644</td>\n",
              "    </tr>\n",
              "    <tr>\n",
              "      <th>3197</th>\n",
              "      <td>Antananarivo</td>\n",
              "      <td>958</td>\n",
              "      <td>0</td>\n",
              "      <td>0</td>\n",
              "      <td>2721</td>\n",
              "      <td>1763</td>\n",
              "      <td>1763</td>\n",
              "      <td>35.207644</td>\n",
              "    </tr>\n",
              "  </tbody>\n",
              "</table>\n",
              "</div>\n",
              "      <button class=\"colab-df-convert\" onclick=\"convertToInteractive('df-eb6df647-b0b0-4d0f-ade9-1c127f76da44')\"\n",
              "              title=\"Convert this dataframe to an interactive table.\"\n",
              "              style=\"display:none;\">\n",
              "        \n",
              "  <svg xmlns=\"http://www.w3.org/2000/svg\" height=\"24px\"viewBox=\"0 0 24 24\"\n",
              "       width=\"24px\">\n",
              "    <path d=\"M0 0h24v24H0V0z\" fill=\"none\"/>\n",
              "    <path d=\"M18.56 5.44l.94 2.06.94-2.06 2.06-.94-2.06-.94-.94-2.06-.94 2.06-2.06.94zm-11 1L8.5 8.5l.94-2.06 2.06-.94-2.06-.94L8.5 2.5l-.94 2.06-2.06.94zm10 10l.94 2.06.94-2.06 2.06-.94-2.06-.94-.94-2.06-.94 2.06-2.06.94z\"/><path d=\"M17.41 7.96l-1.37-1.37c-.4-.4-.92-.59-1.43-.59-.52 0-1.04.2-1.43.59L10.3 9.45l-7.72 7.72c-.78.78-.78 2.05 0 2.83L4 21.41c.39.39.9.59 1.41.59.51 0 1.02-.2 1.41-.59l7.78-7.78 2.81-2.81c.8-.78.8-2.07 0-2.86zM5.41 20L4 18.59l7.72-7.72 1.47 1.35L5.41 20z\"/>\n",
              "  </svg>\n",
              "      </button>\n",
              "      \n",
              "  <style>\n",
              "    .colab-df-container {\n",
              "      display:flex;\n",
              "      flex-wrap:wrap;\n",
              "      gap: 12px;\n",
              "    }\n",
              "\n",
              "    .colab-df-convert {\n",
              "      background-color: #E8F0FE;\n",
              "      border: none;\n",
              "      border-radius: 50%;\n",
              "      cursor: pointer;\n",
              "      display: none;\n",
              "      fill: #1967D2;\n",
              "      height: 32px;\n",
              "      padding: 0 0 0 0;\n",
              "      width: 32px;\n",
              "    }\n",
              "\n",
              "    .colab-df-convert:hover {\n",
              "      background-color: #E2EBFA;\n",
              "      box-shadow: 0px 1px 2px rgba(60, 64, 67, 0.3), 0px 1px 3px 1px rgba(60, 64, 67, 0.15);\n",
              "      fill: #174EA6;\n",
              "    }\n",
              "\n",
              "    [theme=dark] .colab-df-convert {\n",
              "      background-color: #3B4455;\n",
              "      fill: #D2E3FC;\n",
              "    }\n",
              "\n",
              "    [theme=dark] .colab-df-convert:hover {\n",
              "      background-color: #434B5C;\n",
              "      box-shadow: 0px 1px 3px 1px rgba(0, 0, 0, 0.15);\n",
              "      filter: drop-shadow(0px 1px 2px rgba(0, 0, 0, 0.3));\n",
              "      fill: #FFFFFF;\n",
              "    }\n",
              "  </style>\n",
              "\n",
              "      <script>\n",
              "        const buttonEl =\n",
              "          document.querySelector('#df-eb6df647-b0b0-4d0f-ade9-1c127f76da44 button.colab-df-convert');\n",
              "        buttonEl.style.display =\n",
              "          google.colab.kernel.accessAllowed ? 'block' : 'none';\n",
              "\n",
              "        async function convertToInteractive(key) {\n",
              "          const element = document.querySelector('#df-eb6df647-b0b0-4d0f-ade9-1c127f76da44');\n",
              "          const dataTable =\n",
              "            await google.colab.kernel.invokeFunction('convertToInteractive',\n",
              "                                                     [key], {});\n",
              "          if (!dataTable) return;\n",
              "\n",
              "          const docLinkHtml = 'Like what you see? Visit the ' +\n",
              "            '<a target=\"_blank\" href=https://colab.research.google.com/notebooks/data_table.ipynb>data table notebook</a>'\n",
              "            + ' to learn more about interactive tables.';\n",
              "          element.innerHTML = '';\n",
              "          dataTable['output_type'] = 'display_data';\n",
              "          await google.colab.output.renderOutput(dataTable, element);\n",
              "          const docLink = document.createElement('div');\n",
              "          docLink.innerHTML = docLinkHtml;\n",
              "          element.appendChild(docLink);\n",
              "        }\n",
              "      </script>\n",
              "    </div>\n",
              "  </div>\n",
              "  "
            ]
          },
          "metadata": {},
          "execution_count": 26
        }
      ]
    },
    {
      "cell_type": "code",
      "source": [
        "# Visualising out findings from analysis of missing values\n",
        "d = {'total_num_of_cities': len(cities), \n",
        "     'cities_with_missing_values': len(cities_missing_values), \n",
        "     'cities_to_drop': len(cities_to_drop)}\n",
        "vis_df = pd.DataFrame(d, index=list(range(0, 1)))\n",
        "\n",
        "g = sns.barplot(data=vis_df, palette='magma', orient='h')\n",
        "g.set(xlabel='Number of Citiies', ylabel='Cities dataframes')\n",
        "g.set(title=\"Total Number of Cities vs Cities with missing values vs Cities we dropped\")"
      ],
      "metadata": {
        "colab": {
          "base_uri": "https://localhost:8080/",
          "height": 489
        },
        "id": "O420A5FLrqPo",
        "outputId": "a4972a4e-91f5-4f77-bcb4-bd970256a1a5"
      },
      "execution_count": 70,
      "outputs": [
        {
          "output_type": "execute_result",
          "data": {
            "text/plain": [
              "[Text(0.5, 1.0, 'Total Number of Cities vs Cities with missing values vs Cities we dropped')]"
            ]
          },
          "metadata": {},
          "execution_count": 70
        },
        {
          "output_type": "display_data",
          "data": {
            "text/plain": [
              "<Figure size 640x480 with 1 Axes>"
            ],
            "image/png": "[encoded data removed]"
          },
          "metadata": {}
        }
      ]
    },
    {
      "cell_type": "markdown",
      "source": [
        "As we can see, we can drop cities with >12% missing values and lose less than 10% of the cities. \n",
        "\n",
        "The guidelines for missing values in Metereology also recommend not using months with greater than 3 consecutive days or 5 days in total in computing monthly averages.\n",
        "https://rmets.onlinelibrary.wiley.com/doi/full/10.1002/joc.5801\n",
        "\n",
        "As an approximation to this rule, we drop cities with more than 12% of missing data. These rows have been flagged below.\n"
      ],
      "metadata": {
        "id": "wjpBdG2Losy5"
      }
    },
    {
      "cell_type": "code",
      "source": [
        "cities_to_drop_list = cities_to_drop['City'].tolist()\n",
        "\n",
        "df_temp_by_city['drop_city'] = df_temp_by_city['City'].apply(lambda x: 1 if x in cities_to_drop_list else 0)\n",
        "df_temp_by_city.head()\n",
        "df_temp_by_city.tail()"
      ],
      "metadata": {
        "colab": {
          "base_uri": "https://localhost:8080/",
          "height": 206
        },
        "id": "SzjR8iiDUUKh",
        "outputId": "65d7176a-56cc-480f-8ed0-9851922b0f86"
      },
      "execution_count": 69,
      "outputs": [
        {
          "output_type": "execute_result",
          "data": {
            "text/plain": [
              "                 dt  AverageTemperature  AverageTemperatureUncertainty  \\\n",
              "8599207  2013-05-01              11.464                          0.236   \n",
              "8599208  2013-06-01              15.043                          0.261   \n",
              "8599209  2013-07-01              18.775                          0.193   \n",
              "8599210  2013-08-01              18.025                          0.298   \n",
              "8599211  2013-09-01                 NaN                            NaN   \n",
              "\n",
              "           City      Country Latitude Longitude  drop_city  \n",
              "8599207  Zwolle  Netherlands   52.24N     5.26E          0  \n",
              "8599208  Zwolle  Netherlands   52.24N     5.26E          0  \n",
              "8599209  Zwolle  Netherlands   52.24N     5.26E          0  \n",
              "8599210  Zwolle  Netherlands   52.24N     5.26E          0  \n",
              "8599211  Zwolle  Netherlands   52.24N     5.26E          0  "
            ],
            "text/html": [
              "\n",
              "  <div id=\"df-d8a32002-c7b7-4c05-834e-d95d572a1c3b\">\n",
              "    <div class=\"colab-df-container\">\n",
              "      <div>\n",
              "<style scoped>\n",
              "    .dataframe tbody tr th:only-of-type {\n",
              "        vertical-align: middle;\n",
              "    }\n",
              "\n",
              "    .dataframe tbody tr th {\n",
              "        vertical-align: top;\n",
              "    }\n",
              "\n",
              "    .dataframe thead th {\n",
              "        text-align: right;\n",
              "    }\n",
              "</style>\n",
              "<table border=\"1\" class=\"dataframe\">\n",
              "  <thead>\n",
              "    <tr style=\"text-align: right;\">\n",
              "      <th></th>\n",
              "      <th>dt</th>\n",
              "      <th>AverageTemperature</th>\n",
              "      <th>AverageTemperatureUncertainty</th>\n",
              "      <th>City</th>\n",
              "      <th>Country</th>\n",
              "      <th>Latitude</th>\n",
              "      <th>Longitude</th>\n",
              "      <th>drop_city</th>\n",
              "    </tr>\n",
              "  </thead>\n",
              "  <tbody>\n",
              "    <tr>\n",
              "      <th>8599207</th>\n",
              "      <td>2013-05-01</td>\n",
              "      <td>11.464</td>\n",
              "      <td>0.236</td>\n",
              "      <td>Zwolle</td>\n",
              "      <td>Netherlands</td>\n",
              "      <td>52.24N</td>\n",
              "      <td>5.26E</td>\n",
              "      <td>0</td>\n",
              "    </tr>\n",
              "    <tr>\n",
              "      <th>8599208</th>\n",
              "      <td>2013-06-01</td>\n",
              "      <td>15.043</td>\n",
              "      <td>0.261</td>\n",
              "      <td>Zwolle</td>\n",
              "      <td>Netherlands</td>\n",
              "      <td>52.24N</td>\n",
              "      <td>5.26E</td>\n",
              "      <td>0</td>\n",
              "    </tr>\n",
              "    <tr>\n",
              "      <th>8599209</th>\n",
              "      <td>2013-07-01</td>\n",
              "      <td>18.775</td>\n",
              "      <td>0.193</td>\n",
              "      <td>Zwolle</td>\n",
              "      <td>Netherlands</td>\n",
              "      <td>52.24N</td>\n",
              "      <td>5.26E</td>\n",
              "      <td>0</td>\n",
              "    </tr>\n",
              "    <tr>\n",
              "      <th>8599210</th>\n",
              "      <td>2013-08-01</td>\n",
              "      <td>18.025</td>\n",
              "      <td>0.298</td>\n",
              "      <td>Zwolle</td>\n",
              "      <td>Netherlands</td>\n",
              "      <td>52.24N</td>\n",
              "      <td>5.26E</td>\n",
              "      <td>0</td>\n",
              "    </tr>\n",
              "    <tr>\n",
              "      <th>8599211</th>\n",
              "      <td>2013-09-01</td>\n",
              "      <td>NaN</td>\n",
              "      <td>NaN</td>\n",
              "      <td>Zwolle</td>\n",
              "      <td>Netherlands</td>\n",
              "      <td>52.24N</td>\n",
              "      <td>5.26E</td>\n",
              "      <td>0</td>\n",
              "    </tr>\n",
              "  </tbody>\n",
              "</table>\n",
              "</div>\n",
              "      <button class=\"colab-df-convert\" onclick=\"convertToInteractive('df-d8a32002-c7b7-4c05-834e-d95d572a1c3b')\"\n",
              "              title=\"Convert this dataframe to an interactive table.\"\n",
              "              style=\"display:none;\">\n",
              "        \n",
              "  <svg xmlns=\"http://www.w3.org/2000/svg\" height=\"24px\"viewBox=\"0 0 24 24\"\n",
              "       width=\"24px\">\n",
              "    <path d=\"M0 0h24v24H0V0z\" fill=\"none\"/>\n",
              "    <path d=\"M18.56 5.44l.94 2.06.94-2.06 2.06-.94-2.06-.94-.94-2.06-.94 2.06-2.06.94zm-11 1L8.5 8.5l.94-2.06 2.06-.94-2.06-.94L8.5 2.5l-.94 2.06-2.06.94zm10 10l.94 2.06.94-2.06 2.06-.94-2.06-.94-.94-2.06-.94 2.06-2.06.94z\"/><path d=\"M17.41 7.96l-1.37-1.37c-.4-.4-.92-.59-1.43-.59-.52 0-1.04.2-1.43.59L10.3 9.45l-7.72 7.72c-.78.78-.78 2.05 0 2.83L4 21.41c.39.39.9.59 1.41.59.51 0 1.02-.2 1.41-.59l7.78-7.78 2.81-2.81c.8-.78.8-2.07 0-2.86zM5.41 20L4 18.59l7.72-7.72 1.47 1.35L5.41 20z\"/>\n",
              "  </svg>\n",
              "      </button>\n",
              "      \n",
              "  <style>\n",
              "    .colab-df-container {\n",
              "      display:flex;\n",
              "      flex-wrap:wrap;\n",
              "      gap: 12px;\n",
              "    }\n",
              "\n",
              "    .colab-df-convert {\n",
              "      background-color: #E8F0FE;\n",
              "      border: none;\n",
              "      border-radius: 50%;\n",
              "      cursor: pointer;\n",
              "      display: none;\n",
              "      fill: #1967D2;\n",
              "      height: 32px;\n",
              "      padding: 0 0 0 0;\n",
              "      width: 32px;\n",
              "    }\n",
              "\n",
              "    .colab-df-convert:hover {\n",
              "      background-color: #E2EBFA;\n",
              "      box-shadow: 0px 1px 2px rgba(60, 64, 67, 0.3), 0px 1px 3px 1px rgba(60, 64, 67, 0.15);\n",
              "      fill: #174EA6;\n",
              "    }\n",
              "\n",
              "    [theme=dark] .colab-df-convert {\n",
              "      background-color: #3B4455;\n",
              "      fill: #D2E3FC;\n",
              "    }\n",
              "\n",
              "    [theme=dark] .colab-df-convert:hover {\n",
              "      background-color: #434B5C;\n",
              "      box-shadow: 0px 1px 3px 1px rgba(0, 0, 0, 0.15);\n",
              "      filter: drop-shadow(0px 1px 2px rgba(0, 0, 0, 0.3));\n",
              "      fill: #FFFFFF;\n",
              "    }\n",
              "  </style>\n",
              "\n",
              "      <script>\n",
              "        const buttonEl =\n",
              "          document.querySelector('#df-d8a32002-c7b7-4c05-834e-d95d572a1c3b button.colab-df-convert');\n",
              "        buttonEl.style.display =\n",
              "          google.colab.kernel.accessAllowed ? 'block' : 'none';\n",
              "\n",
              "        async function convertToInteractive(key) {\n",
              "          const element = document.querySelector('#df-d8a32002-c7b7-4c05-834e-d95d572a1c3b');\n",
              "          const dataTable =\n",
              "            await google.colab.kernel.invokeFunction('convertToInteractive',\n",
              "                                                     [key], {});\n",
              "          if (!dataTable) return;\n",
              "\n",
              "          const docLinkHtml = 'Like what you see? Visit the ' +\n",
              "            '<a target=\"_blank\" href=https://colab.research.google.com/notebooks/data_table.ipynb>data table notebook</a>'\n",
              "            + ' to learn more about interactive tables.';\n",
              "          element.innerHTML = '';\n",
              "          dataTable['output_type'] = 'display_data';\n",
              "          await google.colab.output.renderOutput(dataTable, element);\n",
              "          const docLink = document.createElement('div');\n",
              "          docLink.innerHTML = docLinkHtml;\n",
              "          element.appendChild(docLink);\n",
              "        }\n",
              "      </script>\n",
              "    </div>\n",
              "  </div>\n",
              "  "
            ]
          },
          "metadata": {},
          "execution_count": 69
        }
      ]
    },
    {
      "cell_type": "markdown",
      "source": [
        "We again look at the dataset."
      ],
      "metadata": {
        "id": "ts5Tsxxb-XGZ"
      }
    },
    {
      "cell_type": "code",
      "source": [
        "# Data types\n",
        "df_temp_by_city.dtypes"
      ],
      "metadata": {
        "colab": {
          "base_uri": "https://localhost:8080/"
        },
        "id": "GFrBUIe9ysys",
        "outputId": "15bd5f56-f2b8-468b-f528-58047880d1d7"
      },
      "execution_count": null,
      "outputs": [
        {
          "output_type": "execute_result",
          "data": {
            "text/plain": [
              "dt                                object\n",
              "AverageTemperature               float64\n",
              "AverageTemperatureUncertainty    float64\n",
              "City                              object\n",
              "Country                           object\n",
              "Latitude                          object\n",
              "Longitude                         object\n",
              "drop_city                          int64\n",
              "dtype: object"
            ]
          },
          "metadata": {},
          "execution_count": 42
        }
      ]
    },
    {
      "cell_type": "code",
      "source": [
        "# Number of missing values is still 364140\n",
        "df_temp_by_city.isna().sum()"
      ],
      "metadata": {
        "colab": {
          "base_uri": "https://localhost:8080/"
        },
        "id": "C-oHhJYn3C2Z",
        "outputId": "26d5dc7f-65a6-4690-d5f4-0e81304cdbb4"
      },
      "execution_count": null,
      "outputs": [
        {
          "output_type": "execute_result",
          "data": {
            "text/plain": [
              "dt                                    0\n",
              "AverageTemperature               364130\n",
              "AverageTemperatureUncertainty    364130\n",
              "City                                  0\n",
              "Country                               0\n",
              "Latitude                              0\n",
              "Longitude                             0\n",
              "drop_city                             0\n",
              "dtype: int64"
            ]
          },
          "metadata": {},
          "execution_count": 43
        }
      ]
    },
    {
      "cell_type": "code",
      "source": [
        "# There is no change in the number of rows after calling drop_duplicates(). Therefore, there is no need to drop duplicates.\n",
        "len(df_temp_by_city) - len(df_temp_by_city.drop_duplicates())"
      ],
      "metadata": {
        "colab": {
          "base_uri": "https://localhost:8080/"
        },
        "id": "hprq87T5vBLV",
        "outputId": "852763d1-4684-43d8-d33f-e9a5afd97471"
      },
      "execution_count": null,
      "outputs": [
        {
          "output_type": "execute_result",
          "data": {
            "text/plain": [
              "0"
            ]
          },
          "metadata": {},
          "execution_count": 44
        }
      ]
    },
    {
      "cell_type": "markdown",
      "source": [
        "Next, we do the following:\n",
        "1. Remove the nulls in AverageTemperature\n",
        "2. To simplify analysis, drop unnecessary columns\n",
        "3. To allow timeseries, convert dt type from object to datetime\n"
      ],
      "metadata": {
        "id": "khe36I_vtl_C"
      }
    },
    {
      "cell_type": "code",
      "source": [
        "# Drop null values\n",
        "df_temp_by_city_clean = df_temp_by_city.dropna()"
      ],
      "metadata": {
        "id": "knSpS9RWxmAb"
      },
      "execution_count": null,
      "outputs": []
    },
    {
      "cell_type": "code",
      "source": [
        "# Number of missing values is now zero\n",
        "df_temp_by_city_clean.isna().sum()"
      ],
      "metadata": {
        "colab": {
          "base_uri": "https://localhost:8080/"
        },
        "id": "HQGcCqtHxtW7",
        "outputId": "e0e0dd73-03e4-405d-fed2-4c092b800d54"
      },
      "execution_count": null,
      "outputs": [
        {
          "output_type": "execute_result",
          "data": {
            "text/plain": [
              "dt                               0\n",
              "AverageTemperature               0\n",
              "AverageTemperatureUncertainty    0\n",
              "City                             0\n",
              "Country                          0\n",
              "Latitude                         0\n",
              "Longitude                        0\n",
              "drop_city                        0\n",
              "dtype: int64"
            ]
          },
          "metadata": {},
          "execution_count": 55
        }
      ]
    },
    {
      "cell_type": "code",
      "source": [
        "# cast dt as datetime\n",
        "df_temp_by_city_clean['date'] =  pd.to_datetime(df_temp_by_city_clean['dt'], format='%Y-%m-%d')"
      ],
      "metadata": {
        "colab": {
          "base_uri": "https://localhost:8080/"
        },
        "id": "K8sje0Fh7eg0",
        "outputId": "f8aec2de-9d52-4ba3-e188-f62f3f2454a7"
      },
      "execution_count": null,
      "outputs": [
        {
          "output_type": "stream",
          "name": "stderr",
          "text": [
            "<ipython-input-56-711b2c5cb02a>:2: SettingWithCopyWarning: \n",
            "A value is trying to be set on a copy of a slice from a DataFrame.\n",
            "Try using .loc[row_indexer,col_indexer] = value instead\n",
            "\n",
            "See the caveats in the documentation: https://pandas.pydata.org/pandas-docs/stable/user_guide/indexing.html#returning-a-view-versus-a-copy\n",
            "  df_temp_by_city_clean['date'] =  pd.to_datetime(df_temp_by_city_clean['dt'], format='%Y-%m-%d')\n"
          ]
        }
      ]
    },
    {
      "cell_type": "code",
      "source": [
        "# check type of datetime column\n",
        "df_temp_by_city_clean.dtypes"
      ],
      "metadata": {
        "colab": {
          "base_uri": "https://localhost:8080/"
        },
        "id": "ilpX3YeK8TSx",
        "outputId": "639d4a96-3f5d-453e-a001-5fcdcf2e5169"
      },
      "execution_count": null,
      "outputs": [
        {
          "output_type": "execute_result",
          "data": {
            "text/plain": [
              "dt                                       object\n",
              "AverageTemperature                      float64\n",
              "AverageTemperatureUncertainty           float64\n",
              "City                                     object\n",
              "Country                                  object\n",
              "Latitude                                 object\n",
              "Longitude                                object\n",
              "drop_city                                 int64\n",
              "date                             datetime64[ns]\n",
              "dtype: object"
            ]
          },
          "metadata": {},
          "execution_count": 57
        }
      ]
    },
    {
      "cell_type": "code",
      "source": [
        "# drop columns\n",
        "df_temp_by_city_clean = df_temp_by_city_clean.drop(columns=['drop_city', 'dt'])"
      ],
      "metadata": {
        "id": "FiweTiwEx6Ln"
      },
      "execution_count": null,
      "outputs": []
    },
    {
      "cell_type": "code",
      "source": [
        "df_temp_by_city_clean.info()"
      ],
      "metadata": {
        "colab": {
          "base_uri": "https://localhost:8080/"
        },
        "id": "F-cSVh5v8nbw",
        "outputId": "ad1ef0d8-884e-470e-90a8-517080561c89"
      },
      "execution_count": null,
      "outputs": [
        {
          "output_type": "stream",
          "name": "stdout",
          "text": [
            "<class 'pandas.core.frame.DataFrame'>\n",
            "Int64Index: 8235082 entries, 0 to 8599210\n",
            "Data columns (total 7 columns):\n",
            " #   Column                         Dtype         \n",
            "---  ------                         -----         \n",
            " 0   AverageTemperature             float64       \n",
            " 1   AverageTemperatureUncertainty  float64       \n",
            " 2   City                           object        \n",
            " 3   Country                        object        \n",
            " 4   Latitude                       object        \n",
            " 5   Longitude                      object        \n",
            " 6   date                           datetime64[ns]\n",
            "dtypes: datetime64[ns](1), float64(2), object(4)\n",
            "memory usage: 502.6+ MB\n"
          ]
        }
      ]
    },
    {
      "cell_type": "markdown",
      "source": [
        "Repeat the cleaning process on the other datasets."
      ],
      "metadata": {
        "id": "Jw9QyCcN85oc"
      }
    },
    {
      "cell_type": "code",
      "source": [
        "df_temp_by_country.dtypes"
      ],
      "metadata": {
        "colab": {
          "base_uri": "https://localhost:8080/"
        },
        "id": "wreV21bH9JgA",
        "outputId": "d2c7443b-4259-4f73-a0e3-4b9a4a692f0b"
      },
      "execution_count": null,
      "outputs": [
        {
          "output_type": "execute_result",
          "data": {
            "text/plain": [
              "dt                                object\n",
              "AverageTemperature               float64\n",
              "AverageTemperatureUncertainty    float64\n",
              "Country                           object\n",
              "dtype: object"
            ]
          },
          "metadata": {},
          "execution_count": 52
        }
      ]
    },
    {
      "cell_type": "code",
      "source": [
        "# no duplicates\n",
        "len(df_temp_by_country)-len(df_temp_by_country.drop_duplicates())"
      ],
      "metadata": {
        "colab": {
          "base_uri": "https://localhost:8080/"
        },
        "id": "OVLXaUFcAISt",
        "outputId": "9d0df880-d251-42ad-8a09-02e8bf51e396"
      },
      "execution_count": null,
      "outputs": [
        {
          "output_type": "execute_result",
          "data": {
            "text/plain": [
              "0"
            ]
          },
          "metadata": {},
          "execution_count": 63
        }
      ]
    },
    {
      "cell_type": "code",
      "source": [
        "# drop nulls\n",
        "# df_temp_by_country.isna().sum()\n",
        "df_temp_by_country_clean = df_temp_by_country.dropna()\n",
        "df_temp_by_country_clean.isna().sum()"
      ],
      "metadata": {
        "colab": {
          "base_uri": "https://localhost:8080/"
        },
        "id": "EK_FmOHnAcZz",
        "outputId": "e698bdc8-59fa-4934-9db5-cfb4f9670d2f"
      },
      "execution_count": null,
      "outputs": [
        {
          "output_type": "execute_result",
          "data": {
            "text/plain": [
              "dt                               0\n",
              "AverageTemperature               0\n",
              "AverageTemperatureUncertainty    0\n",
              "Country                          0\n",
              "dtype: int64"
            ]
          },
          "metadata": {},
          "execution_count": 68
        }
      ]
    },
    {
      "cell_type": "code",
      "source": [
        "# convert dt to datetime and drop\n",
        "df_temp_by_country_clean[\"date\"] = pd.to_datetime(df_temp_by_country_clean['dt'], format='%Y-%m-%d')\n",
        "df_temp_by_country_clean = df_temp_by_country_clean.drop(columns=['dt'])"
      ],
      "metadata": {
        "colab": {
          "base_uri": "https://localhost:8080/"
        },
        "id": "poZimJTz_3v7",
        "outputId": "c00540f9-660e-47ca-b54a-d19b528cabf2"
      },
      "execution_count": null,
      "outputs": [
        {
          "output_type": "stream",
          "name": "stderr",
          "text": [
            "<ipython-input-72-b1d5ef5e82fd>:2: SettingWithCopyWarning: \n",
            "A value is trying to be set on a copy of a slice from a DataFrame.\n",
            "Try using .loc[row_indexer,col_indexer] = value instead\n",
            "\n",
            "See the caveats in the documentation: https://pandas.pydata.org/pandas-docs/stable/user_guide/indexing.html#returning-a-view-versus-a-copy\n",
            "  df_temp_by_country_clean[\"date\"] = pd.to_datetime(df_temp_by_country_clean['dt'], format='%Y-%m-%d')\n"
          ]
        }
      ]
    },
    {
      "cell_type": "code",
      "source": [
        "df_temp_by_country_clean.info()"
      ],
      "metadata": {
        "colab": {
          "base_uri": "https://localhost:8080/"
        },
        "id": "EgkDihQgBFiJ",
        "outputId": "182a57df-b0bc-430f-b007-99ad9bc6de84"
      },
      "execution_count": null,
      "outputs": [
        {
          "output_type": "stream",
          "name": "stdout",
          "text": [
            "<class 'pandas.core.frame.DataFrame'>\n",
            "Int64Index: 544811 entries, 0 to 577460\n",
            "Data columns (total 4 columns):\n",
            " #   Column                         Non-Null Count   Dtype         \n",
            "---  ------                         --------------   -----         \n",
            " 0   AverageTemperature             544811 non-null  float64       \n",
            " 1   AverageTemperatureUncertainty  544811 non-null  float64       \n",
            " 2   Country                        544811 non-null  object        \n",
            " 3   date                           544811 non-null  datetime64[ns]\n",
            "dtypes: datetime64[ns](1), float64(2), object(1)\n",
            "memory usage: 20.8+ MB\n"
          ]
        }
      ]
    },
    {
      "cell_type": "code",
      "source": [
        "df_temp_by_major_city.info()"
      ],
      "metadata": {
        "colab": {
          "base_uri": "https://localhost:8080/"
        },
        "id": "EwwIlksh9ysr",
        "outputId": "8d5b0fe8-6485-40d9-fe2b-80b998d80cff"
      },
      "execution_count": null,
      "outputs": [
        {
          "output_type": "stream",
          "name": "stdout",
          "text": [
            "<class 'pandas.core.frame.DataFrame'>\n",
            "RangeIndex: 239177 entries, 0 to 239176\n",
            "Data columns (total 7 columns):\n",
            " #   Column                         Non-Null Count   Dtype  \n",
            "---  ------                         --------------   -----  \n",
            " 0   dt                             239177 non-null  object \n",
            " 1   AverageTemperature             228175 non-null  float64\n",
            " 2   AverageTemperatureUncertainty  228175 non-null  float64\n",
            " 3   City                           239177 non-null  object \n",
            " 4   Country                        239177 non-null  object \n",
            " 5   Latitude                       239177 non-null  object \n",
            " 6   Longitude                      239177 non-null  object \n",
            "dtypes: float64(2), object(5)\n",
            "memory usage: 12.8+ MB\n"
          ]
        }
      ]
    },
    {
      "cell_type": "code",
      "source": [
        "# no duplicates\n",
        "len(df_temp_by_major_city)-len(df_temp_by_major_city.drop_duplicates())"
      ],
      "metadata": {
        "colab": {
          "base_uri": "https://localhost:8080/"
        },
        "id": "IFCrV4CUBg_b",
        "outputId": "0470bdb6-6ce8-4267-8ecc-0a64418482d2"
      },
      "execution_count": null,
      "outputs": [
        {
          "output_type": "execute_result",
          "data": {
            "text/plain": [
              "0"
            ]
          },
          "metadata": {},
          "execution_count": 76
        }
      ]
    },
    {
      "cell_type": "code",
      "source": [
        "# drop nulls\n",
        "# df_temp_by_major_city.isna().sum()\n",
        "df_temp_by_major_city_clean = df_temp_by_major_city.dropna()\n",
        "df_temp_by_major_city_clean.isna().sum()"
      ],
      "metadata": {
        "colab": {
          "base_uri": "https://localhost:8080/"
        },
        "id": "GPHv2igtBzMV",
        "outputId": "48737136-27cc-4d90-cbd0-ddea0f672d35"
      },
      "execution_count": null,
      "outputs": [
        {
          "output_type": "execute_result",
          "data": {
            "text/plain": [
              "dt                               0\n",
              "AverageTemperature               0\n",
              "AverageTemperatureUncertainty    0\n",
              "City                             0\n",
              "Country                          0\n",
              "Latitude                         0\n",
              "Longitude                        0\n",
              "dtype: int64"
            ]
          },
          "metadata": {},
          "execution_count": 79
        }
      ]
    },
    {
      "cell_type": "code",
      "source": [
        "# convert dt to datetime and drop\n",
        "df_temp_by_major_city_clean[\"date\"] = pd.to_datetime(df_temp_by_major_city_clean['dt'], format='%Y-%m-%d')\n",
        "df_temp_by_major_city_clean = df_temp_by_major_city_clean.drop(columns=['dt'])"
      ],
      "metadata": {
        "colab": {
          "base_uri": "https://localhost:8080/"
        },
        "id": "vUgI9io2CK2p",
        "outputId": "aaeed90d-80cf-4235-f66e-be2508f16ecc"
      },
      "execution_count": null,
      "outputs": [
        {
          "output_type": "stream",
          "name": "stderr",
          "text": [
            "<ipython-input-80-90ca39b26641>:2: SettingWithCopyWarning: \n",
            "A value is trying to be set on a copy of a slice from a DataFrame.\n",
            "Try using .loc[row_indexer,col_indexer] = value instead\n",
            "\n",
            "See the caveats in the documentation: https://pandas.pydata.org/pandas-docs/stable/user_guide/indexing.html#returning-a-view-versus-a-copy\n",
            "  df_temp_by_major_city_clean[\"date\"] = pd.to_datetime(df_temp_by_major_city_clean['dt'], format='%Y-%m-%d')\n"
          ]
        }
      ]
    },
    {
      "cell_type": "code",
      "source": [
        "df_temp_by_major_city_clean.info()"
      ],
      "metadata": {
        "colab": {
          "base_uri": "https://localhost:8080/"
        },
        "id": "EwrGNjXrCQ1G",
        "outputId": "3c2fb88e-5532-4483-8871-6fef42752526"
      },
      "execution_count": null,
      "outputs": [
        {
          "output_type": "stream",
          "name": "stdout",
          "text": [
            "<class 'pandas.core.frame.DataFrame'>\n",
            "Int64Index: 228175 entries, 0 to 239175\n",
            "Data columns (total 7 columns):\n",
            " #   Column                         Non-Null Count   Dtype         \n",
            "---  ------                         --------------   -----         \n",
            " 0   AverageTemperature             228175 non-null  float64       \n",
            " 1   AverageTemperatureUncertainty  228175 non-null  float64       \n",
            " 2   City                           228175 non-null  object        \n",
            " 3   Country                        228175 non-null  object        \n",
            " 4   Latitude                       228175 non-null  object        \n",
            " 5   Longitude                      228175 non-null  object        \n",
            " 6   date                           228175 non-null  datetime64[ns]\n",
            "dtypes: datetime64[ns](1), float64(2), object(4)\n",
            "memory usage: 13.9+ MB\n"
          ]
        }
      ]
    },
    {
      "cell_type": "code",
      "source": [
        "df_temp_by_state.info()"
      ],
      "metadata": {
        "colab": {
          "base_uri": "https://localhost:8080/"
        },
        "id": "SC_tR0Tz90PB",
        "outputId": "4350598b-a4de-4c51-86d2-f67e963da702"
      },
      "execution_count": null,
      "outputs": [
        {
          "output_type": "stream",
          "name": "stdout",
          "text": [
            "<class 'pandas.core.frame.DataFrame'>\n",
            "RangeIndex: 645675 entries, 0 to 645674\n",
            "Data columns (total 5 columns):\n",
            " #   Column                         Non-Null Count   Dtype  \n",
            "---  ------                         --------------   -----  \n",
            " 0   dt                             645675 non-null  object \n",
            " 1   AverageTemperature             620027 non-null  float64\n",
            " 2   AverageTemperatureUncertainty  620027 non-null  float64\n",
            " 3   State                          645675 non-null  object \n",
            " 4   Country                        645675 non-null  object \n",
            "dtypes: float64(2), object(3)\n",
            "memory usage: 24.6+ MB\n"
          ]
        }
      ]
    },
    {
      "cell_type": "code",
      "source": [
        "# no duplicates\n",
        "len(df_temp_by_state)-len(df_temp_by_state.drop_duplicates())"
      ],
      "metadata": {
        "colab": {
          "base_uri": "https://localhost:8080/"
        },
        "id": "VLwfAlv2CsBf",
        "outputId": "0775198e-7dd2-4acf-e6b2-7387743b54f8"
      },
      "execution_count": null,
      "outputs": [
        {
          "output_type": "execute_result",
          "data": {
            "text/plain": [
              "0"
            ]
          },
          "metadata": {},
          "execution_count": 85
        }
      ]
    },
    {
      "cell_type": "code",
      "source": [
        "# drop nulls\n",
        "# df_temp_by_state.isna().sum()\n",
        "df_temp_by_state_clean = df_temp_by_state.dropna()\n",
        "df_temp_by_state_clean.isna().sum()"
      ],
      "metadata": {
        "colab": {
          "base_uri": "https://localhost:8080/"
        },
        "id": "KjvVtX0hC18m",
        "outputId": "5794ff12-aa8d-4864-b015-bb0a2df7a506"
      },
      "execution_count": null,
      "outputs": [
        {
          "output_type": "execute_result",
          "data": {
            "text/plain": [
              "dt                               0\n",
              "AverageTemperature               0\n",
              "AverageTemperatureUncertainty    0\n",
              "State                            0\n",
              "Country                          0\n",
              "dtype: int64"
            ]
          },
          "metadata": {},
          "execution_count": 88
        }
      ]
    },
    {
      "cell_type": "code",
      "source": [
        "# convert dt to datetime and drop\n",
        "df_temp_by_state_clean[\"date\"] = pd.to_datetime(df_temp_by_state_clean['dt'], format='%Y-%m-%d')\n",
        "df_temp_by_state_clean = df_temp_by_state_clean.drop(columns=['dt'])"
      ],
      "metadata": {
        "colab": {
          "base_uri": "https://localhost:8080/"
        },
        "id": "qinrryOhDOj8",
        "outputId": "99a097dc-240b-4881-a7c1-6e5a8a743007"
      },
      "execution_count": null,
      "outputs": [
        {
          "output_type": "stream",
          "name": "stderr",
          "text": [
            "<ipython-input-91-e29e0a4b8b00>:2: SettingWithCopyWarning: \n",
            "A value is trying to be set on a copy of a slice from a DataFrame.\n",
            "Try using .loc[row_indexer,col_indexer] = value instead\n",
            "\n",
            "See the caveats in the documentation: https://pandas.pydata.org/pandas-docs/stable/user_guide/indexing.html#returning-a-view-versus-a-copy\n",
            "  df_temp_by_state_clean[\"date\"] = pd.to_datetime(df_temp_by_state_clean['dt'], format='%Y-%m-%d')\n"
          ]
        }
      ]
    },
    {
      "cell_type": "code",
      "source": [
        "df_temp_by_state_clean.info()"
      ],
      "metadata": {
        "colab": {
          "base_uri": "https://localhost:8080/"
        },
        "id": "NAyTfxwZDR48",
        "outputId": "217a21cb-5dbc-4b6b-aebb-1a1b208dc836"
      },
      "execution_count": null,
      "outputs": [
        {
          "output_type": "stream",
          "name": "stdout",
          "text": [
            "<class 'pandas.core.frame.DataFrame'>\n",
            "Int64Index: 620027 entries, 0 to 645673\n",
            "Data columns (total 5 columns):\n",
            " #   Column                         Non-Null Count   Dtype         \n",
            "---  ------                         --------------   -----         \n",
            " 0   AverageTemperature             620027 non-null  float64       \n",
            " 1   AverageTemperatureUncertainty  620027 non-null  float64       \n",
            " 2   State                          620027 non-null  object        \n",
            " 3   Country                        620027 non-null  object        \n",
            " 4   date                           620027 non-null  datetime64[ns]\n",
            "dtypes: datetime64[ns](1), float64(2), object(2)\n",
            "memory usage: 28.4+ MB\n"
          ]
        }
      ]
    },
    {
      "cell_type": "code",
      "source": [
        "df_temp.info()"
      ],
      "metadata": {
        "colab": {
          "base_uri": "https://localhost:8080/"
        },
        "id": "BeIpBxz991jC",
        "outputId": "1d9bb722-e548-44d0-e52d-746b4c53591c"
      },
      "execution_count": null,
      "outputs": [
        {
          "output_type": "stream",
          "name": "stdout",
          "text": [
            "<class 'pandas.core.frame.DataFrame'>\n",
            "RangeIndex: 3192 entries, 0 to 3191\n",
            "Data columns (total 9 columns):\n",
            " #   Column                                     Non-Null Count  Dtype  \n",
            "---  ------                                     --------------  -----  \n",
            " 0   dt                                         3192 non-null   object \n",
            " 1   LandAverageTemperature                     3180 non-null   float64\n",
            " 2   LandAverageTemperatureUncertainty          3180 non-null   float64\n",
            " 3   LandMaxTemperature                         1992 non-null   float64\n",
            " 4   LandMaxTemperatureUncertainty              1992 non-null   float64\n",
            " 5   LandMinTemperature                         1992 non-null   float64\n",
            " 6   LandMinTemperatureUncertainty              1992 non-null   float64\n",
            " 7   LandAndOceanAverageTemperature             1992 non-null   float64\n",
            " 8   LandAndOceanAverageTemperatureUncertainty  1992 non-null   float64\n",
            "dtypes: float64(8), object(1)\n",
            "memory usage: 224.6+ KB\n"
          ]
        }
      ]
    },
    {
      "cell_type": "code",
      "source": [
        "# no duplicates\n",
        "len(df_temp)-len(df_temp.drop_duplicates())"
      ],
      "metadata": {
        "colab": {
          "base_uri": "https://localhost:8080/"
        },
        "id": "uFRPqEOQCvoP",
        "outputId": "377ed94e-1f7d-4ad0-94a4-f9be59c72f6d"
      },
      "execution_count": null,
      "outputs": [
        {
          "output_type": "execute_result",
          "data": {
            "text/plain": [
              "0"
            ]
          },
          "metadata": {},
          "execution_count": 86
        }
      ]
    },
    {
      "cell_type": "code",
      "source": [
        "# drop nulls\n",
        "# df_temp.isna().sum()\n",
        "df_temp_clean = df_temp.dropna()\n",
        "df_temp_clean.isna().sum()"
      ],
      "metadata": {
        "colab": {
          "base_uri": "https://localhost:8080/"
        },
        "id": "QAu375fNDAFB",
        "outputId": "1f553da9-0f0b-410e-cfa3-a6ce61c47f4b"
      },
      "execution_count": null,
      "outputs": [
        {
          "output_type": "execute_result",
          "data": {
            "text/plain": [
              "dt                                           0\n",
              "LandAverageTemperature                       0\n",
              "LandAverageTemperatureUncertainty            0\n",
              "LandMaxTemperature                           0\n",
              "LandMaxTemperatureUncertainty                0\n",
              "LandMinTemperature                           0\n",
              "LandMinTemperatureUncertainty                0\n",
              "LandAndOceanAverageTemperature               0\n",
              "LandAndOceanAverageTemperatureUncertainty    0\n",
              "dtype: int64"
            ]
          },
          "metadata": {},
          "execution_count": 90
        }
      ]
    },
    {
      "cell_type": "code",
      "source": [
        "# convert dt to datetime and drop\n",
        "df_temp_clean[\"date\"] = pd.to_datetime(df_temp_clean['dt'], format='%Y-%m-%d')\n",
        "df_temp_clean = df_temp_clean.drop(columns=['dt'])"
      ],
      "metadata": {
        "colab": {
          "base_uri": "https://localhost:8080/"
        },
        "id": "I_j_plMuDWGL",
        "outputId": "44312572-0b1c-488e-dcff-4fa13be357df"
      },
      "execution_count": null,
      "outputs": [
        {
          "output_type": "stream",
          "name": "stderr",
          "text": [
            "<ipython-input-93-2804d0cb3a58>:2: SettingWithCopyWarning: \n",
            "A value is trying to be set on a copy of a slice from a DataFrame.\n",
            "Try using .loc[row_indexer,col_indexer] = value instead\n",
            "\n",
            "See the caveats in the documentation: https://pandas.pydata.org/pandas-docs/stable/user_guide/indexing.html#returning-a-view-versus-a-copy\n",
            "  df_temp_clean[\"date\"] = pd.to_datetime(df_temp_clean['dt'], format='%Y-%m-%d')\n"
          ]
        }
      ]
    },
    {
      "cell_type": "code",
      "source": [
        "df_temp_clean.info()"
      ],
      "metadata": {
        "colab": {
          "base_uri": "https://localhost:8080/"
        },
        "id": "IE-vURACDeN5",
        "outputId": "eb17c1b8-7e81-494e-fda2-1405499cb626"
      },
      "execution_count": null,
      "outputs": [
        {
          "output_type": "stream",
          "name": "stdout",
          "text": [
            "<class 'pandas.core.frame.DataFrame'>\n",
            "Int64Index: 1992 entries, 1200 to 3191\n",
            "Data columns (total 9 columns):\n",
            " #   Column                                     Non-Null Count  Dtype         \n",
            "---  ------                                     --------------  -----         \n",
            " 0   LandAverageTemperature                     1992 non-null   float64       \n",
            " 1   LandAverageTemperatureUncertainty          1992 non-null   float64       \n",
            " 2   LandMaxTemperature                         1992 non-null   float64       \n",
            " 3   LandMaxTemperatureUncertainty              1992 non-null   float64       \n",
            " 4   LandMinTemperature                         1992 non-null   float64       \n",
            " 5   LandMinTemperatureUncertainty              1992 non-null   float64       \n",
            " 6   LandAndOceanAverageTemperature             1992 non-null   float64       \n",
            " 7   LandAndOceanAverageTemperatureUncertainty  1992 non-null   float64       \n",
            " 8   date                                       1992 non-null   datetime64[ns]\n",
            "dtypes: datetime64[ns](1), float64(8)\n",
            "memory usage: 155.6 KB\n"
          ]
        }
      ]
    },
    {
      "cell_type": "markdown",
      "source": [
        "# Tweets dataset\n",
        "Disaster Tweets dataset:\n",
        "Look for climate related tweets.\n",
        "OECD Dataset on climate and Economic data . There are multiple aspects of cities and 2 datasets were chosen. One has climate data like heat stress days from 2001 to 2020. The other has GDP per capita data. This enables us to see the income level of the cities which are most impacted by climate change."
      ],
      "metadata": {
        "id": "Y5B4aCYrq-I8"
      }
    },
    {
      "cell_type": "markdown",
      "source": [
        "Mount the next dataset Tweets.csv"
      ],
      "metadata": {
        "id": "h9PNoHQDq_Ra"
      }
    },
    {
      "cell_type": "code",
      "source": [
        "!! kaggle datasets download -d vstepanenko/disaster-tweets"
      ],
      "metadata": {
        "colab": {
          "base_uri": "https://localhost:8080/"
        },
        "id": "goI0iB2_tkcM",
        "outputId": "bd35c90f-e8ec-4370-f8e8-5bd664f0f1b8"
      },
      "execution_count": null,
      "outputs": [
        {
          "output_type": "execute_result",
          "data": {
            "text/plain": [
              "['Downloading disaster-tweets.zip to /content',\n",
              " '',\n",
              " '  0% 0.00/656k [00:00<?, ?B/s]',\n",
              " '',\n",
              " '100% 656k/656k [00:00<00:00, 75.7MB/s]']"
            ]
          },
          "metadata": {},
          "execution_count": 17
        }
      ]
    },
    {
      "cell_type": "code",
      "source": [
        "from google.colab import drive\n",
        "drive.mount('/content/drive')\n",
        "import os\n",
        "os.chdir(\"drive/My Drive/CIS-545_Earth_Temperatures_Project\")"
      ],
      "metadata": {
        "colab": {
          "base_uri": "https://localhost:8080/"
        },
        "id": "mr2evErltkw_",
        "outputId": "7020f6de-2c80-4ff9-b0c0-b8ee40336008"
      },
      "execution_count": null,
      "outputs": [
        {
          "output_type": "stream",
          "name": "stdout",
          "text": [
            "Mounted at /content/drive\n"
          ]
        }
      ]
    },
    {
      "cell_type": "code",
      "source": [
        "tweets_df = pd.read_csv('tweets.csv')\n",
        "tweets_df.dtypes"
      ],
      "metadata": {
        "colab": {
          "base_uri": "https://localhost:8080/"
        },
        "id": "CbmeYiERsIyY",
        "outputId": "21507d9c-b9e2-49de-acf7-576c81c44768"
      },
      "execution_count": null,
      "outputs": [
        {
          "output_type": "execute_result",
          "data": {
            "text/plain": [
              "id           int64\n",
              "keyword     object\n",
              "location    object\n",
              "text        object\n",
              "target       int64\n",
              "dtype: object"
            ]
          },
          "metadata": {},
          "execution_count": 19
        }
      ]
    },
    {
      "cell_type": "markdown",
      "source": [
        "Find all the unique keywords in the Tweets .csv file . Convert it to alist . Convert the Unique cities to alist. Export the Unique cities and Unique keywords to two different Csv  files through a DF step.  Open and read them manually. Select the keywords relevant to weather or Climate Change in the Excel . Continue Processing. \n"
      ],
      "metadata": {
        "id": "8C0WhkTRgMqQ"
      }
    },
    {
      "cell_type": "code",
      "source": [
        "tweets_df.head()\n",
        "keywords_list = tweets_df.keyword.unique().tolist()\n",
        "print(\"unique key words count\",len(keywords_list))\n",
        "tweet_cities = tweets_df.location.unique().tolist()\n",
        "print(\"unique cities in tweets\",len(tweet_cities))\n",
        "# Keyword List to Df \n",
        "keywords_df = pd.DataFrame(keywords_list,columns = ['Tweet keywords'])\n",
        "# First Tweet keywords File below \n",
        "keywords_df.to_csv(\"tweet_keywords.csv\")\n",
        "# The Tweets Cities Df Below , City names are Dirty \n",
        "tweet_cities_df = pd.DataFrame(tweet_cities,columns = ['Tweet cities'])\n",
        "# TweetCities File to see the cities and assess cleanliness \n",
        "tweet_cities_df.to_csv(\"tweet_cities\")"
      ],
      "metadata": {
        "colab": {
          "base_uri": "https://localhost:8080/"
        },
        "id": "qG-JXrvyxs5v",
        "outputId": "3d0ed828-0acc-48ed-e643-d3c0f836a075"
      },
      "execution_count": null,
      "outputs": [
        {
          "output_type": "stream",
          "name": "stdout",
          "text": [
            "unique key words count 219\n",
            "unique cities in tweets 4505\n"
          ]
        }
      ]
    },
    {
      "cell_type": "markdown",
      "source": [
        "The tweet keywords relevant to weather were selected manually from the downloaded tweet_keywords.csv and will now be used in the next cell to downselect the tweets to relevant tweets."
      ],
      "metadata": {
        "id": "OvXCPSiRPpIx"
      }
    },
    {
      "cell_type": "code",
      "source": [
        "tw_keywords_sel_df = pd.read_csv(\"tweet_keywords_select.csv\")\n",
        "tw_keywords_sel_df = tw_keywords_sel_df.loc[tw_keywords_sel_df['Selected'] == 'Y']\n",
        "#tw_keywords_sel_df.head()\n",
        "climate_tweets_df = tw_keywords_sel_df.merge(tweets_df,left_on= 'Tweet keywords',right_on = 'keyword',how = 'inner')\n",
        "climate_tweets_df = climate_tweets_df[climate_tweets_df['location'].notna()]\n",
        "print(\"tweets relevant to climate based disaster\",len(climate_tweets_df))\n"
      ],
      "metadata": {
        "colab": {
          "base_uri": "https://localhost:8080/"
        },
        "id": "v9CGx7sbP3h3",
        "outputId": "29bb2c09-dbd0-4432-c9ab-d60416ac1b3f"
      },
      "execution_count": null,
      "outputs": [
        {
          "output_type": "stream",
          "name": "stdout",
          "text": [
            "tweets relevant to climate based disaster 1340\n"
          ]
        }
      ]
    },
    {
      "cell_type": "markdown",
      "source": [
        "# OECD dataset"
      ],
      "metadata": {
        "id": "WpP5dNEw9O45"
      }
    },
    {
      "cell_type": "markdown",
      "source": [
        "OECD FUA city dataset link\n",
        "https://stats.oecd.org/Index.aspx?datasetcode=FUA_CITY\n",
        "https://stats.oecd.org/Index.aspx?DataSetCode=CITIES#"
      ],
      "metadata": {
        "id": "1WlMLZVV0l1I"
      }
    },
    {
      "cell_type": "code",
      "source": [
        "oecd_cities_climate = pd.read_csv(\"FUA_CITY_OECD_DATA.csv\")\n",
        "oecd_cities_climate.dtypes"
      ],
      "metadata": {
        "colab": {
          "base_uri": "https://localhost:8080/",
          "height": 336
        },
        "id": "wtlODZfA0qmF",
        "outputId": "206b0e44-21af-4d07-c9ea-68af8200cd90"
      },
      "execution_count": null,
      "outputs": [
        {
          "output_type": "error",
          "ename": "FileNotFoundError",
          "evalue": "ignored",
          "traceback": [
            "\u001b[0;31m---------------------------------------------------------------------------\u001b[0m",
            "\u001b[0;31mFileNotFoundError\u001b[0m                         Traceback (most recent call last)",
            "\u001b[0;32m<ipython-input-95-d3c7dcf0cbdd>\u001b[0m in \u001b[0;36m<cell line: 1>\u001b[0;34m()\u001b[0m\n\u001b[0;32m----> 1\u001b[0;31m \u001b[0moecd_cities_climate\u001b[0m \u001b[0;34m=\u001b[0m \u001b[0mpd\u001b[0m\u001b[0;34m.\u001b[0m\u001b[0mread_csv\u001b[0m\u001b[0;34m(\u001b[0m\u001b[0;34m\"FUA_CITY_OECD_DATA.csv\"\u001b[0m\u001b[0;34m)\u001b[0m\u001b[0;34m\u001b[0m\u001b[0;34m\u001b[0m\u001b[0m\n\u001b[0m\u001b[1;32m      2\u001b[0m \u001b[0moecd_cities_climate\u001b[0m\u001b[0;34m.\u001b[0m\u001b[0mdtypes\u001b[0m\u001b[0;34m\u001b[0m\u001b[0;34m\u001b[0m\u001b[0m\n",
            "\u001b[0;32m/usr/local/lib/python3.9/dist-packages/pandas/util/_decorators.py\u001b[0m in \u001b[0;36mwrapper\u001b[0;34m(*args, **kwargs)\u001b[0m\n\u001b[1;32m    309\u001b[0m                     \u001b[0mstacklevel\u001b[0m\u001b[0;34m=\u001b[0m\u001b[0mstacklevel\u001b[0m\u001b[0;34m,\u001b[0m\u001b[0;34m\u001b[0m\u001b[0;34m\u001b[0m\u001b[0m\n\u001b[1;32m    310\u001b[0m                 )\n\u001b[0;32m--> 311\u001b[0;31m             \u001b[0;32mreturn\u001b[0m \u001b[0mfunc\u001b[0m\u001b[0;34m(\u001b[0m\u001b[0;34m*\u001b[0m\u001b[0margs\u001b[0m\u001b[0;34m,\u001b[0m \u001b[0;34m**\u001b[0m\u001b[0mkwargs\u001b[0m\u001b[0;34m)\u001b[0m\u001b[0;34m\u001b[0m\u001b[0;34m\u001b[0m\u001b[0m\n\u001b[0m\u001b[1;32m    312\u001b[0m \u001b[0;34m\u001b[0m\u001b[0m\n\u001b[1;32m    313\u001b[0m         \u001b[0;32mreturn\u001b[0m \u001b[0mwrapper\u001b[0m\u001b[0;34m\u001b[0m\u001b[0;34m\u001b[0m\u001b[0m\n",
            "\u001b[0;32m/usr/local/lib/python3.9/dist-packages/pandas/io/parsers/readers.py\u001b[0m in \u001b[0;36mread_csv\u001b[0;34m(filepath_or_buffer, sep, delimiter, header, names, index_col, usecols, squeeze, prefix, mangle_dupe_cols, dtype, engine, converters, true_values, false_values, skipinitialspace, skiprows, skipfooter, nrows, na_values, keep_default_na, na_filter, verbose, skip_blank_lines, parse_dates, infer_datetime_format, keep_date_col, date_parser, dayfirst, cache_dates, iterator, chunksize, compression, thousands, decimal, lineterminator, quotechar, quoting, doublequote, escapechar, comment, encoding, encoding_errors, dialect, error_bad_lines, warn_bad_lines, on_bad_lines, delim_whitespace, low_memory, memory_map, float_precision, storage_options)\u001b[0m\n\u001b[1;32m    676\u001b[0m     \u001b[0mkwds\u001b[0m\u001b[0;34m.\u001b[0m\u001b[0mupdate\u001b[0m\u001b[0;34m(\u001b[0m\u001b[0mkwds_defaults\u001b[0m\u001b[0;34m)\u001b[0m\u001b[0;34m\u001b[0m\u001b[0;34m\u001b[0m\u001b[0m\n\u001b[1;32m    677\u001b[0m \u001b[0;34m\u001b[0m\u001b[0m\n\u001b[0;32m--> 678\u001b[0;31m     \u001b[0;32mreturn\u001b[0m \u001b[0m_read\u001b[0m\u001b[0;34m(\u001b[0m\u001b[0mfilepath_or_buffer\u001b[0m\u001b[0;34m,\u001b[0m \u001b[0mkwds\u001b[0m\u001b[0;34m)\u001b[0m\u001b[0;34m\u001b[0m\u001b[0;34m\u001b[0m\u001b[0m\n\u001b[0m\u001b[1;32m    679\u001b[0m \u001b[0;34m\u001b[0m\u001b[0m\n\u001b[1;32m    680\u001b[0m \u001b[0;34m\u001b[0m\u001b[0m\n",
            "\u001b[0;32m/usr/local/lib/python3.9/dist-packages/pandas/io/parsers/readers.py\u001b[0m in \u001b[0;36m_read\u001b[0;34m(filepath_or_buffer, kwds)\u001b[0m\n\u001b[1;32m    573\u001b[0m \u001b[0;34m\u001b[0m\u001b[0m\n\u001b[1;32m    574\u001b[0m     \u001b[0;31m# Create the parser.\u001b[0m\u001b[0;34m\u001b[0m\u001b[0;34m\u001b[0m\u001b[0m\n\u001b[0;32m--> 575\u001b[0;31m     \u001b[0mparser\u001b[0m \u001b[0;34m=\u001b[0m \u001b[0mTextFileReader\u001b[0m\u001b[0;34m(\u001b[0m\u001b[0mfilepath_or_buffer\u001b[0m\u001b[0;34m,\u001b[0m \u001b[0;34m**\u001b[0m\u001b[0mkwds\u001b[0m\u001b[0;34m)\u001b[0m\u001b[0;34m\u001b[0m\u001b[0;34m\u001b[0m\u001b[0m\n\u001b[0m\u001b[1;32m    576\u001b[0m \u001b[0;34m\u001b[0m\u001b[0m\n\u001b[1;32m    577\u001b[0m     \u001b[0;32mif\u001b[0m \u001b[0mchunksize\u001b[0m \u001b[0;32mor\u001b[0m \u001b[0miterator\u001b[0m\u001b[0;34m:\u001b[0m\u001b[0;34m\u001b[0m\u001b[0;34m\u001b[0m\u001b[0m\n",
            "\u001b[0;32m/usr/local/lib/python3.9/dist-packages/pandas/io/parsers/readers.py\u001b[0m in \u001b[0;36m__init__\u001b[0;34m(self, f, engine, **kwds)\u001b[0m\n\u001b[1;32m    930\u001b[0m \u001b[0;34m\u001b[0m\u001b[0m\n\u001b[1;32m    931\u001b[0m         \u001b[0mself\u001b[0m\u001b[0;34m.\u001b[0m\u001b[0mhandles\u001b[0m\u001b[0;34m:\u001b[0m \u001b[0mIOHandles\u001b[0m \u001b[0;34m|\u001b[0m \u001b[0;32mNone\u001b[0m \u001b[0;34m=\u001b[0m \u001b[0;32mNone\u001b[0m\u001b[0;34m\u001b[0m\u001b[0;34m\u001b[0m\u001b[0m\n\u001b[0;32m--> 932\u001b[0;31m         \u001b[0mself\u001b[0m\u001b[0;34m.\u001b[0m\u001b[0m_engine\u001b[0m \u001b[0;34m=\u001b[0m \u001b[0mself\u001b[0m\u001b[0;34m.\u001b[0m\u001b[0m_make_engine\u001b[0m\u001b[0;34m(\u001b[0m\u001b[0mf\u001b[0m\u001b[0;34m,\u001b[0m \u001b[0mself\u001b[0m\u001b[0;34m.\u001b[0m\u001b[0mengine\u001b[0m\u001b[0;34m)\u001b[0m\u001b[0;34m\u001b[0m\u001b[0;34m\u001b[0m\u001b[0m\n\u001b[0m\u001b[1;32m    933\u001b[0m \u001b[0;34m\u001b[0m\u001b[0m\n\u001b[1;32m    934\u001b[0m     \u001b[0;32mdef\u001b[0m \u001b[0mclose\u001b[0m\u001b[0;34m(\u001b[0m\u001b[0mself\u001b[0m\u001b[0;34m)\u001b[0m\u001b[0;34m:\u001b[0m\u001b[0;34m\u001b[0m\u001b[0;34m\u001b[0m\u001b[0m\n",
            "\u001b[0;32m/usr/local/lib/python3.9/dist-packages/pandas/io/parsers/readers.py\u001b[0m in \u001b[0;36m_make_engine\u001b[0;34m(self, f, engine)\u001b[0m\n\u001b[1;32m   1214\u001b[0m             \u001b[0;31m# \"Union[str, PathLike[str], ReadCsvBuffer[bytes], ReadCsvBuffer[str]]\"\u001b[0m\u001b[0;34m\u001b[0m\u001b[0;34m\u001b[0m\u001b[0m\n\u001b[1;32m   1215\u001b[0m             \u001b[0;31m# , \"str\", \"bool\", \"Any\", \"Any\", \"Any\", \"Any\", \"Any\"\u001b[0m\u001b[0;34m\u001b[0m\u001b[0;34m\u001b[0m\u001b[0m\n\u001b[0;32m-> 1216\u001b[0;31m             self.handles = get_handle(  # type: ignore[call-overload]\n\u001b[0m\u001b[1;32m   1217\u001b[0m                 \u001b[0mf\u001b[0m\u001b[0;34m,\u001b[0m\u001b[0;34m\u001b[0m\u001b[0;34m\u001b[0m\u001b[0m\n\u001b[1;32m   1218\u001b[0m                 \u001b[0mmode\u001b[0m\u001b[0;34m,\u001b[0m\u001b[0;34m\u001b[0m\u001b[0;34m\u001b[0m\u001b[0m\n",
            "\u001b[0;32m/usr/local/lib/python3.9/dist-packages/pandas/io/common.py\u001b[0m in \u001b[0;36mget_handle\u001b[0;34m(path_or_buf, mode, encoding, compression, memory_map, is_text, errors, storage_options)\u001b[0m\n\u001b[1;32m    784\u001b[0m         \u001b[0;32mif\u001b[0m \u001b[0mioargs\u001b[0m\u001b[0;34m.\u001b[0m\u001b[0mencoding\u001b[0m \u001b[0;32mand\u001b[0m \u001b[0;34m\"b\"\u001b[0m \u001b[0;32mnot\u001b[0m \u001b[0;32min\u001b[0m \u001b[0mioargs\u001b[0m\u001b[0;34m.\u001b[0m\u001b[0mmode\u001b[0m\u001b[0;34m:\u001b[0m\u001b[0;34m\u001b[0m\u001b[0;34m\u001b[0m\u001b[0m\n\u001b[1;32m    785\u001b[0m             \u001b[0;31m# Encoding\u001b[0m\u001b[0;34m\u001b[0m\u001b[0;34m\u001b[0m\u001b[0m\n\u001b[0;32m--> 786\u001b[0;31m             handle = open(\n\u001b[0m\u001b[1;32m    787\u001b[0m                 \u001b[0mhandle\u001b[0m\u001b[0;34m,\u001b[0m\u001b[0;34m\u001b[0m\u001b[0;34m\u001b[0m\u001b[0m\n\u001b[1;32m    788\u001b[0m                 \u001b[0mioargs\u001b[0m\u001b[0;34m.\u001b[0m\u001b[0mmode\u001b[0m\u001b[0;34m,\u001b[0m\u001b[0;34m\u001b[0m\u001b[0;34m\u001b[0m\u001b[0m\n",
            "\u001b[0;31mFileNotFoundError\u001b[0m: [Errno 2] No such file or directory: 'FUA_CITY_OECD_DATA.csv'"
          ]
        }
      ]
    },
    {
      "cell_type": "code",
      "source": [
        "oecd_cities_climate.head()\n",
        "variables_tracked = oecd_cities_climate.Variable.unique()\n",
        "print(\"variables tracked:\",len(variables_tracked))\n",
        "print(variables_tracked)"
      ],
      "metadata": {
        "colab": {
          "base_uri": "https://localhost:8080/"
        },
        "id": "6ybGhuRD1YEy",
        "outputId": "1813aa48-9eac-44f7-e212-6b22bbc97eec"
      },
      "execution_count": null,
      "outputs": [
        {
          "output_type": "stream",
          "name": "stdout",
          "text": [
            "variables tracked: 25\n",
            "['Heating degree days (Sum over a year of the differences between the threshold temperature (15.5°C) and the daily mean outdoor temperature when the daily mean outdoor temperature is below 15.5°C)'\n",
            " 'Days of very strong heat stress (UTCI > 38°C)'\n",
            " 'Cooling degree days (Sum over a year of the differences between the daily mean outdoor air temperature and the threshold temperature (22°C) when the daily mean outdoor temperature is above 22°C)'\n",
            " 'Days of extreme heat stress (UTCI > 46°C)'\n",
            " 'Days of strong heat stress (UTCI > 32°C)'\n",
            " 'Additional days of very strong heat stress (UTCI > 38°C) compared to the 1981-2010 average'\n",
            " 'Nightime urban heat island: difference in land surface temperature (in °C) between the built-up area and its surroundings'\n",
            " 'Share of population esposed to river flooding, 50-year return period'\n",
            " 'Share of population exposed to river flooding, 10-year return period'\n",
            " 'Area burned as a share of total area'\n",
            " 'Share of population exposed to coastal flooding, 100-year return period'\n",
            " 'Additional days of strong heat stress (UTCI > 32°C) compared to the 1981-2010 average'\n",
            " 'Share of population exposed to at least one forest fire'\n",
            " 'Summer nighttime urban heat island: difference in land surface temperature (in °C) between the built-up area and its surroundings'\n",
            " 'Additional cooling degree days, compared to 1981-2010'\n",
            " 'Share of population esposed to coastal flooding, 50-year return period'\n",
            " 'Summer daytime urban heat island: difference in land surface temperature (in °C) between the built-up area and its surroundings'\n",
            " 'Share of population exposed to coastal flooding, 10-year return period'\n",
            " 'Additional days of extreme heat stress (UTCI > 46°C) compared to the 1981-2010 average'\n",
            " 'Share of population exposed to river flooding, 100-year return period'\n",
            " 'Daytime urban heat island: difference in land surface temperature (in °C) between the built-up area and its surroundings'\n",
            " 'Additional heating degree days, compared to 1981-2010'\n",
            " 'Share of population exposed to coastal flooding, 25-year return period'\n",
            " 'Share of population exposed to river flooding, 20-year return period'\n",
            " 'Built-up area burned as a share of total built-up area ']\n"
          ]
        }
      ]
    },
    {
      "cell_type": "markdown",
      "source": [
        "There are 25 climate variables tracked by city. We can flatten the data set and make the variables columns and put the dats in the row form for ease of use if we wish to look at all 25. Need to decide how to analyze. Below we check the number of cities and compare to the temperature dataset"
      ],
      "metadata": {
        "id": "zcZg4Osmud0s"
      }
    },
    {
      "cell_type": "code",
      "source": [
        "oecd_cities = oecd_cities_climate.loc[oecd_cities_climate['TL']=='CITY']\n",
        "oecd_cities_list = oecd_cities.Geography.unique().tolist()\n",
        "print(\"oecd cities count\",len(oecd_cities_list))"
      ],
      "metadata": {
        "colab": {
          "base_uri": "https://localhost:8080/"
        },
        "id": "gtv-yr-aur0h",
        "outputId": "ece5e343-56fa-49e7-8885-359ee7f2892d"
      },
      "execution_count": null,
      "outputs": [
        {
          "output_type": "stream",
          "name": "stdout",
          "text": [
            "oecd cities count 1385\n"
          ]
        }
      ]
    },
    {
      "cell_type": "markdown",
      "source": [
        "OECD city gdp data is from link below https://stats.oecd.org/Index.aspx?datasetcode=FUA_CITY\n",
        "\n",
        "GDP data exists here at country level but the city is called \"Functional Urban Area\"(FUA), The field VAR = GDP_REAL_PPP indicates per capita GDP in the city by year from 2001 and we can use this to rate the city amongst the cities. We can keep the data only for the year 2015 as GDP is normalized to prices in the year 2015. To be decided by the group"
      ],
      "metadata": {
        "id": "DI5v5aw91wLq"
      }
    },
    {
      "cell_type": "code",
      "source": [
        "oecd_cities_gdp = pd.read_csv(\"FUA_CITY_GDP.csv\")\n",
        "oecd_cities_gdp.head()\n",
        "oecd_gdp_cities_list = oecd_cities_gdp.Geography.unique()\n",
        "print(\"count of cities for gdp\",len(oecd_gdp_cities_list))"
      ],
      "metadata": {
        "colab": {
          "base_uri": "https://localhost:8080/"
        },
        "id": "fuSeAY221vTK",
        "outputId": "0235102d-7012-4aa2-ce3f-016538fcdcc4"
      },
      "execution_count": null,
      "outputs": [
        {
          "output_type": "stream",
          "name": "stdout",
          "text": [
            "count of cities for gdp 699\n"
          ]
        }
      ]
    },
    {
      "cell_type": "markdown",
      "source": [
        "Keep only per capita GDP rows for the year 2015 . Put the cities into 4 quartiles where 1 is high gdp and 4 is lowest gdp"
      ],
      "metadata": {
        "id": "bh6-fx4C6FJ9"
      }
    },
    {
      "cell_type": "code",
      "source": [
        "oecd_quartile_list = oecd_cities_gdp.Value.quantile([0.25,0.50,0.75]).tolist()\n",
        "print(oecd_quartile_list)"
      ],
      "metadata": {
        "colab": {
          "base_uri": "https://localhost:8080/"
        },
        "id": "Y7ntt4vLHRqF",
        "outputId": "1eb54c7a-2abc-4e0f-be5e-e612c851def7"
      },
      "execution_count": null,
      "outputs": [
        {
          "output_type": "stream",
          "name": "stdout",
          "text": [
            "[8722.75, 39698.5, 100516.5]\n"
          ]
        }
      ]
    },
    {
      "cell_type": "code",
      "source": [
        "# hard coded values from above cell\n",
        "def quartile_calc(x):\n",
        "\n",
        "  if x < 11519.0:\n",
        "    return 4\n",
        "  else:\n",
        "    if x < 19741.0:\n",
        "      return 3\n",
        "    else:\n",
        "      if x< 38664.5:\n",
        "        return 2\n",
        "      else:\n",
        "        return 1\n",
        "\n",
        "oecd_cities_gdp = oecd_cities_gdp.loc[oecd_cities_gdp['VAR']== \"GDP_REAL_PPP\" ]\n",
        "oecd_cities_gdp = oecd_cities_gdp.loc[oecd_cities_gdp['TIME'] == 2015]\n",
        "#oecd_cities_gdp.head()\n",
        "\n",
        "\n",
        "oecd_cities_gdp = oecd_cities_gdp.assign(Quartile = lambda x : x.Value.apply(quartile_calc) )\n",
        "#oecd_cities_gdp.head()"
      ],
      "metadata": {
        "id": "9Vp3VbA35XmV"
      },
      "execution_count": null,
      "outputs": []
    },
    {
      "cell_type": "markdown",
      "source": [
        "The oecd cities all have a GEO field and we will use this to merge in gdp quartile data where applicable. The GDP is at the Functional Urban Area level whereas the climate data is both at the FUA level and the city level. For the purposes of impact of extreme weather on lower income neighborhoods, it is probably better to use the FUA level analysis. \n"
      ],
      "metadata": {
        "id": "CjoTsn6dU0YZ"
      }
    },
    {
      "cell_type": "code",
      "source": [
        "oecd_cities_climate_gdp = oecd_cities_climate.merge(oecd_cities_gdp[['GEO','Quartile']],left_on = 'GEO', right_on ='GEO',how = 'left' )\n",
        "oecd_full_cities_list = oecd_cities_climate_gdp.Geography.unique().tolist()\n",
        "oecd_cities_climate_gdp.tail()"
      ],
      "metadata": {
        "id": "gPy20CQIUzzc",
        "colab": {
          "base_uri": "https://localhost:8080/",
          "height": 635
        },
        "outputId": "278edf77-261e-4ebf-bdcf-f32f76e3a675"
      },
      "execution_count": null,
      "outputs": [
        {
          "output_type": "execute_result",
          "data": {
            "text/plain": [
              "       LOCATION        Country    TL Territory level     GEO Geography  \\\n",
              "650546      USA  United States  CITY            City  USA68C      Kent   \n",
              "650547      USA  United States  CITY            City  USA68C      Kent   \n",
              "650548      USA  United States  CITY            City  USA68C      Kent   \n",
              "650549      USA  United States  CITY            City  USA68C      Kent   \n",
              "650550      USA  United States  CITY            City  USA68C      Kent   \n",
              "\n",
              "                 VAR                                           Variable  TIME  \\\n",
              "650546  FIRES_POP_SH  Share of population exposed to at least one fo...  2017   \n",
              "650547  FIRES_POP_SH  Share of population exposed to at least one fo...  2018   \n",
              "650548  FIRES_POP_SH  Share of population exposed to at least one fo...  2019   \n",
              "650549  FIRES_POP_SH  Share of population exposed to at least one fo...  2020   \n",
              "650550  FIRES_POP_SH  Share of population exposed to at least one fo...  2021   \n",
              "\n",
              "        Time  Value  Flag Codes  Flags  Quartile  \n",
              "650546  2017    0.0         NaN    NaN       NaN  \n",
              "650547  2018    0.0         NaN    NaN       NaN  \n",
              "650548  2019    0.0         NaN    NaN       NaN  \n",
              "650549  2020    0.0         NaN    NaN       NaN  \n",
              "650550  2021    0.0         NaN    NaN       NaN  "
            ],
            "text/html": [
              "\n",
              "  <div id=\"df-e91e913f-45dc-45ec-92ae-e19ed80c450a\">\n",
              "    <div class=\"colab-df-container\">\n",
              "      <div>\n",
              "<style scoped>\n",
              "    .dataframe tbody tr th:only-of-type {\n",
              "        vertical-align: middle;\n",
              "    }\n",
              "\n",
              "    .dataframe tbody tr th {\n",
              "        vertical-align: top;\n",
              "    }\n",
              "\n",
              "    .dataframe thead th {\n",
              "        text-align: right;\n",
              "    }\n",
              "</style>\n",
              "<table border=\"1\" class=\"dataframe\">\n",
              "  <thead>\n",
              "    <tr style=\"text-align: right;\">\n",
              "      <th></th>\n",
              "      <th>LOCATION</th>\n",
              "      <th>Country</th>\n",
              "      <th>TL</th>\n",
              "      <th>Territory level</th>\n",
              "      <th>GEO</th>\n",
              "      <th>Geography</th>\n",
              "      <th>VAR</th>\n",
              "      <th>Variable</th>\n",
              "      <th>TIME</th>\n",
              "      <th>Time</th>\n",
              "      <th>Value</th>\n",
              "      <th>Flag Codes</th>\n",
              "      <th>Flags</th>\n",
              "      <th>Quartile</th>\n",
              "    </tr>\n",
              "  </thead>\n",
              "  <tbody>\n",
              "    <tr>\n",
              "      <th>650546</th>\n",
              "      <td>USA</td>\n",
              "      <td>United States</td>\n",
              "      <td>CITY</td>\n",
              "      <td>City</td>\n",
              "      <td>USA68C</td>\n",
              "      <td>Kent</td>\n",
              "      <td>FIRES_POP_SH</td>\n",
              "      <td>Share of population exposed to at least one fo...</td>\n",
              "      <td>2017</td>\n",
              "      <td>2017</td>\n",
              "      <td>0.0</td>\n",
              "      <td>NaN</td>\n",
              "      <td>NaN</td>\n",
              "      <td>NaN</td>\n",
              "    </tr>\n",
              "    <tr>\n",
              "      <th>650547</th>\n",
              "      <td>USA</td>\n",
              "      <td>United States</td>\n",
              "      <td>CITY</td>\n",
              "      <td>City</td>\n",
              "      <td>USA68C</td>\n",
              "      <td>Kent</td>\n",
              "      <td>FIRES_POP_SH</td>\n",
              "      <td>Share of population exposed to at least one fo...</td>\n",
              "      <td>2018</td>\n",
              "      <td>2018</td>\n",
              "      <td>0.0</td>\n",
              "      <td>NaN</td>\n",
              "      <td>NaN</td>\n",
              "      <td>NaN</td>\n",
              "    </tr>\n",
              "    <tr>\n",
              "      <th>650548</th>\n",
              "      <td>USA</td>\n",
              "      <td>United States</td>\n",
              "      <td>CITY</td>\n",
              "      <td>City</td>\n",
              "      <td>USA68C</td>\n",
              "      <td>Kent</td>\n",
              "      <td>FIRES_POP_SH</td>\n",
              "      <td>Share of population exposed to at least one fo...</td>\n",
              "      <td>2019</td>\n",
              "      <td>2019</td>\n",
              "      <td>0.0</td>\n",
              "      <td>NaN</td>\n",
              "      <td>NaN</td>\n",
              "      <td>NaN</td>\n",
              "    </tr>\n",
              "    <tr>\n",
              "      <th>650549</th>\n",
              "      <td>USA</td>\n",
              "      <td>United States</td>\n",
              "      <td>CITY</td>\n",
              "      <td>City</td>\n",
              "      <td>USA68C</td>\n",
              "      <td>Kent</td>\n",
              "      <td>FIRES_POP_SH</td>\n",
              "      <td>Share of population exposed to at least one fo...</td>\n",
              "      <td>2020</td>\n",
              "      <td>2020</td>\n",
              "      <td>0.0</td>\n",
              "      <td>NaN</td>\n",
              "      <td>NaN</td>\n",
              "      <td>NaN</td>\n",
              "    </tr>\n",
              "    <tr>\n",
              "      <th>650550</th>\n",
              "      <td>USA</td>\n",
              "      <td>United States</td>\n",
              "      <td>CITY</td>\n",
              "      <td>City</td>\n",
              "      <td>USA68C</td>\n",
              "      <td>Kent</td>\n",
              "      <td>FIRES_POP_SH</td>\n",
              "      <td>Share of population exposed to at least one fo...</td>\n",
              "      <td>2021</td>\n",
              "      <td>2021</td>\n",
              "      <td>0.0</td>\n",
              "      <td>NaN</td>\n",
              "      <td>NaN</td>\n",
              "      <td>NaN</td>\n",
              "    </tr>\n",
              "  </tbody>\n",
              "</table>\n",
              "</div>\n",
              "      <button class=\"colab-df-convert\" onclick=\"convertToInteractive('df-e91e913f-45dc-45ec-92ae-e19ed80c450a')\"\n",
              "              title=\"Convert this dataframe to an interactive table.\"\n",
              "              style=\"display:none;\">\n",
              "        \n",
              "  <svg xmlns=\"http://www.w3.org/2000/svg\" height=\"24px\"viewBox=\"0 0 24 24\"\n",
              "       width=\"24px\">\n",
              "    <path d=\"M0 0h24v24H0V0z\" fill=\"none\"/>\n",
              "    <path d=\"M18.56 5.44l.94 2.06.94-2.06 2.06-.94-2.06-.94-.94-2.06-.94 2.06-2.06.94zm-11 1L8.5 8.5l.94-2.06 2.06-.94-2.06-.94L8.5 2.5l-.94 2.06-2.06.94zm10 10l.94 2.06.94-2.06 2.06-.94-2.06-.94-.94-2.06-.94 2.06-2.06.94z\"/><path d=\"M17.41 7.96l-1.37-1.37c-.4-.4-.92-.59-1.43-.59-.52 0-1.04.2-1.43.59L10.3 9.45l-7.72 7.72c-.78.78-.78 2.05 0 2.83L4 21.41c.39.39.9.59 1.41.59.51 0 1.02-.2 1.41-.59l7.78-7.78 2.81-2.81c.8-.78.8-2.07 0-2.86zM5.41 20L4 18.59l7.72-7.72 1.47 1.35L5.41 20z\"/>\n",
              "  </svg>\n",
              "      </button>\n",
              "      \n",
              "  <style>\n",
              "    .colab-df-container {\n",
              "      display:flex;\n",
              "      flex-wrap:wrap;\n",
              "      gap: 12px;\n",
              "    }\n",
              "\n",
              "    .colab-df-convert {\n",
              "      background-color: #E8F0FE;\n",
              "      border: none;\n",
              "      border-radius: 50%;\n",
              "      cursor: pointer;\n",
              "      display: none;\n",
              "      fill: #1967D2;\n",
              "      height: 32px;\n",
              "      padding: 0 0 0 0;\n",
              "      width: 32px;\n",
              "    }\n",
              "\n",
              "    .colab-df-convert:hover {\n",
              "      background-color: #E2EBFA;\n",
              "      box-shadow: 0px 1px 2px rgba(60, 64, 67, 0.3), 0px 1px 3px 1px rgba(60, 64, 67, 0.15);\n",
              "      fill: #174EA6;\n",
              "    }\n",
              "\n",
              "    [theme=dark] .colab-df-convert {\n",
              "      background-color: #3B4455;\n",
              "      fill: #D2E3FC;\n",
              "    }\n",
              "\n",
              "    [theme=dark] .colab-df-convert:hover {\n",
              "      background-color: #434B5C;\n",
              "      box-shadow: 0px 1px 3px 1px rgba(0, 0, 0, 0.15);\n",
              "      filter: drop-shadow(0px 1px 2px rgba(0, 0, 0, 0.3));\n",
              "      fill: #FFFFFF;\n",
              "    }\n",
              "  </style>\n",
              "\n",
              "      <script>\n",
              "        const buttonEl =\n",
              "          document.querySelector('#df-e91e913f-45dc-45ec-92ae-e19ed80c450a button.colab-df-convert');\n",
              "        buttonEl.style.display =\n",
              "          google.colab.kernel.accessAllowed ? 'block' : 'none';\n",
              "\n",
              "        async function convertToInteractive(key) {\n",
              "          const element = document.querySelector('#df-e91e913f-45dc-45ec-92ae-e19ed80c450a');\n",
              "          const dataTable =\n",
              "            await google.colab.kernel.invokeFunction('convertToInteractive',\n",
              "                                                     [key], {});\n",
              "          if (!dataTable) return;\n",
              "\n",
              "          const docLinkHtml = 'Like what you see? Visit the ' +\n",
              "            '<a target=\"_blank\" href=https://colab.research.google.com/notebooks/data_table.ipynb>data table notebook</a>'\n",
              "            + ' to learn more about interactive tables.';\n",
              "          element.innerHTML = '';\n",
              "          dataTable['output_type'] = 'display_data';\n",
              "          await google.colab.output.renderOutput(dataTable, element);\n",
              "          const docLink = document.createElement('div');\n",
              "          docLink.innerHTML = docLinkHtml;\n",
              "          element.appendChild(docLink);\n",
              "        }\n",
              "      </script>\n",
              "    </div>\n",
              "  </div>\n",
              "  "
            ]
          },
          "metadata": {},
          "execution_count": 31
        }
      ]
    },
    {
      "cell_type": "markdown",
      "source": [
        "Look for the matches in city names between the temperature data set and OECD data set. There appear to be 528 ( see code cell output below)\n",
        "Conclusions:\n",
        " temperature dataset can drop cities with too much missing data. \n",
        " temperature dataset can possibly interpolate values for missing data for cities that are retained.\n",
        " the temperature data set can be used to days of heat stress.\n",
        " We can match the cities in the 2 data sets for deeper analysis"
      ],
      "metadata": {
        "id": "Clrq9f8uZNZR"
      }
    },
    {
      "cell_type": "code",
      "source": [
        "\n",
        "cities_temp_and_oecd = []\n",
        "# cities_from_temp_list has the cities from df_city_temp, oecd_full_cities_list has cities from oecd datasets after merge\n",
        "# code below finds the common cities\n",
        "for x in cities_from_temp_list:\n",
        "  if x in oecd_full_cities_list:\n",
        "    cities_temp_and_oecd.append(x)\n",
        "print(len(cities_temp_and_oecd))"
      ],
      "metadata": {
        "id": "BdjiplrpZKw1",
        "colab": {
          "base_uri": "https://localhost:8080/"
        },
        "outputId": "4d9e5471-3079-408a-87c2-4a30f41fdd30"
      },
      "execution_count": null,
      "outputs": [
        {
          "output_type": "stream",
          "name": "stdout",
          "text": [
            "528\n"
          ]
        }
      ]
    },
    {
      "cell_type": "markdown",
      "source": [
        "The OECD dataset has used temperatures of 32C,38C  and 46C to count days of heat stress on various levels. This is based on max temperatures. Our dataset has average temperatures where night time temperatures beging down the value. We are using over 32 degrees average to flag heat stress at any level for this analysis. This average tempearature higher than 89.6F which would normally guarantee a daytime high of around 100F given reasonable variations of 20F from day to night max to min. Simple analysis of philadelphia is done as an exploratory exercise\n"
      ],
      "metadata": {
        "id": "W6ZXZNAbJ3gH"
      }
    },
    {
      "cell_type": "code",
      "source": [
        "#extract the data for philadelphia \n",
        "df_temp_phily = df_temp_by_city.loc[df_temp_by_city['City']==\"Philadelphia\"]\n",
        "df_temp_phily['date'] = pd.to_datetime(df_temp_phily['dt'],format ='%Y-%m-%d' )\n",
        "df_temp_phily.head()"
      ],
      "metadata": {
        "id": "qJVgVaEtQ9Io",
        "colab": {
          "base_uri": "https://localhost:8080/",
          "height": 464
        },
        "outputId": "6e0d862c-afd8-4210-ebee-e4a97d424ac1"
      },
      "execution_count": null,
      "outputs": [
        {
          "output_type": "stream",
          "name": "stderr",
          "text": [
            "<ipython-input-19-a99f10c48c32>:3: SettingWithCopyWarning: \n",
            "A value is trying to be set on a copy of a slice from a DataFrame.\n",
            "Try using .loc[row_indexer,col_indexer] = value instead\n",
            "\n",
            "See the caveats in the documentation: https://pandas.pydata.org/pandas-docs/stable/user_guide/indexing.html#returning-a-view-versus-a-copy\n",
            "  df_temp_phily['date'] = pd.to_datetime(df_temp_phily['dt'],format ='%Y-%m-%d' )\n"
          ]
        },
        {
          "output_type": "execute_result",
          "data": {
            "text/plain": [
              "                 dt  AverageTemperature  AverageTemperatureUncertainty  \\\n",
              "5846209  1743-11-01               6.072                           1.74   \n",
              "5846210  1743-12-01                 NaN                            NaN   \n",
              "5846211  1744-01-01                 NaN                            NaN   \n",
              "5846212  1744-02-01                 NaN                            NaN   \n",
              "5846213  1744-03-01                 NaN                            NaN   \n",
              "\n",
              "                 City        Country Latitude Longitude  drop_city       date  \n",
              "5846209  Philadelphia  United States   39.38N    74.91W          0 1743-11-01  \n",
              "5846210  Philadelphia  United States   39.38N    74.91W          0 1743-12-01  \n",
              "5846211  Philadelphia  United States   39.38N    74.91W          0 1744-01-01  \n",
              "5846212  Philadelphia  United States   39.38N    74.91W          0 1744-02-01  \n",
              "5846213  Philadelphia  United States   39.38N    74.91W          0 1744-03-01  "
            ],
            "text/html": [
              "\n",
              "  <div id=\"df-fa41d06d-db39-45e3-9724-7893bc2b5022\">\n",
              "    <div class=\"colab-df-container\">\n",
              "      <div>\n",
              "<style scoped>\n",
              "    .dataframe tbody tr th:only-of-type {\n",
              "        vertical-align: middle;\n",
              "    }\n",
              "\n",
              "    .dataframe tbody tr th {\n",
              "        vertical-align: top;\n",
              "    }\n",
              "\n",
              "    .dataframe thead th {\n",
              "        text-align: right;\n",
              "    }\n",
              "</style>\n",
              "<table border=\"1\" class=\"dataframe\">\n",
              "  <thead>\n",
              "    <tr style=\"text-align: right;\">\n",
              "      <th></th>\n",
              "      <th>dt</th>\n",
              "      <th>AverageTemperature</th>\n",
              "      <th>AverageTemperatureUncertainty</th>\n",
              "      <th>City</th>\n",
              "      <th>Country</th>\n",
              "      <th>Latitude</th>\n",
              "      <th>Longitude</th>\n",
              "      <th>drop_city</th>\n",
              "      <th>date</th>\n",
              "    </tr>\n",
              "  </thead>\n",
              "  <tbody>\n",
              "    <tr>\n",
              "      <th>5846209</th>\n",
              "      <td>1743-11-01</td>\n",
              "      <td>6.072</td>\n",
              "      <td>1.74</td>\n",
              "      <td>Philadelphia</td>\n",
              "      <td>United States</td>\n",
              "      <td>39.38N</td>\n",
              "      <td>74.91W</td>\n",
              "      <td>0</td>\n",
              "      <td>1743-11-01</td>\n",
              "    </tr>\n",
              "    <tr>\n",
              "      <th>5846210</th>\n",
              "      <td>1743-12-01</td>\n",
              "      <td>NaN</td>\n",
              "      <td>NaN</td>\n",
              "      <td>Philadelphia</td>\n",
              "      <td>United States</td>\n",
              "      <td>39.38N</td>\n",
              "      <td>74.91W</td>\n",
              "      <td>0</td>\n",
              "      <td>1743-12-01</td>\n",
              "    </tr>\n",
              "    <tr>\n",
              "      <th>5846211</th>\n",
              "      <td>1744-01-01</td>\n",
              "      <td>NaN</td>\n",
              "      <td>NaN</td>\n",
              "      <td>Philadelphia</td>\n",
              "      <td>United States</td>\n",
              "      <td>39.38N</td>\n",
              "      <td>74.91W</td>\n",
              "      <td>0</td>\n",
              "      <td>1744-01-01</td>\n",
              "    </tr>\n",
              "    <tr>\n",
              "      <th>5846212</th>\n",
              "      <td>1744-02-01</td>\n",
              "      <td>NaN</td>\n",
              "      <td>NaN</td>\n",
              "      <td>Philadelphia</td>\n",
              "      <td>United States</td>\n",
              "      <td>39.38N</td>\n",
              "      <td>74.91W</td>\n",
              "      <td>0</td>\n",
              "      <td>1744-02-01</td>\n",
              "    </tr>\n",
              "    <tr>\n",
              "      <th>5846213</th>\n",
              "      <td>1744-03-01</td>\n",
              "      <td>NaN</td>\n",
              "      <td>NaN</td>\n",
              "      <td>Philadelphia</td>\n",
              "      <td>United States</td>\n",
              "      <td>39.38N</td>\n",
              "      <td>74.91W</td>\n",
              "      <td>0</td>\n",
              "      <td>1744-03-01</td>\n",
              "    </tr>\n",
              "  </tbody>\n",
              "</table>\n",
              "</div>\n",
              "      <button class=\"colab-df-convert\" onclick=\"convertToInteractive('df-fa41d06d-db39-45e3-9724-7893bc2b5022')\"\n",
              "              title=\"Convert this dataframe to an interactive table.\"\n",
              "              style=\"display:none;\">\n",
              "        \n",
              "  <svg xmlns=\"http://www.w3.org/2000/svg\" height=\"24px\"viewBox=\"0 0 24 24\"\n",
              "       width=\"24px\">\n",
              "    <path d=\"M0 0h24v24H0V0z\" fill=\"none\"/>\n",
              "    <path d=\"M18.56 5.44l.94 2.06.94-2.06 2.06-.94-2.06-.94-.94-2.06-.94 2.06-2.06.94zm-11 1L8.5 8.5l.94-2.06 2.06-.94-2.06-.94L8.5 2.5l-.94 2.06-2.06.94zm10 10l.94 2.06.94-2.06 2.06-.94-2.06-.94-.94-2.06-.94 2.06-2.06.94z\"/><path d=\"M17.41 7.96l-1.37-1.37c-.4-.4-.92-.59-1.43-.59-.52 0-1.04.2-1.43.59L10.3 9.45l-7.72 7.72c-.78.78-.78 2.05 0 2.83L4 21.41c.39.39.9.59 1.41.59.51 0 1.02-.2 1.41-.59l7.78-7.78 2.81-2.81c.8-.78.8-2.07 0-2.86zM5.41 20L4 18.59l7.72-7.72 1.47 1.35L5.41 20z\"/>\n",
              "  </svg>\n",
              "      </button>\n",
              "      \n",
              "  <style>\n",
              "    .colab-df-container {\n",
              "      display:flex;\n",
              "      flex-wrap:wrap;\n",
              "      gap: 12px;\n",
              "    }\n",
              "\n",
              "    .colab-df-convert {\n",
              "      background-color: #E8F0FE;\n",
              "      border: none;\n",
              "      border-radius: 50%;\n",
              "      cursor: pointer;\n",
              "      display: none;\n",
              "      fill: #1967D2;\n",
              "      height: 32px;\n",
              "      padding: 0 0 0 0;\n",
              "      width: 32px;\n",
              "    }\n",
              "\n",
              "    .colab-df-convert:hover {\n",
              "      background-color: #E2EBFA;\n",
              "      box-shadow: 0px 1px 2px rgba(60, 64, 67, 0.3), 0px 1px 3px 1px rgba(60, 64, 67, 0.15);\n",
              "      fill: #174EA6;\n",
              "    }\n",
              "\n",
              "    [theme=dark] .colab-df-convert {\n",
              "      background-color: #3B4455;\n",
              "      fill: #D2E3FC;\n",
              "    }\n",
              "\n",
              "    [theme=dark] .colab-df-convert:hover {\n",
              "      background-color: #434B5C;\n",
              "      box-shadow: 0px 1px 3px 1px rgba(0, 0, 0, 0.15);\n",
              "      filter: drop-shadow(0px 1px 2px rgba(0, 0, 0, 0.3));\n",
              "      fill: #FFFFFF;\n",
              "    }\n",
              "  </style>\n",
              "\n",
              "      <script>\n",
              "        const buttonEl =\n",
              "          document.querySelector('#df-fa41d06d-db39-45e3-9724-7893bc2b5022 button.colab-df-convert');\n",
              "        buttonEl.style.display =\n",
              "          google.colab.kernel.accessAllowed ? 'block' : 'none';\n",
              "\n",
              "        async function convertToInteractive(key) {\n",
              "          const element = document.querySelector('#df-fa41d06d-db39-45e3-9724-7893bc2b5022');\n",
              "          const dataTable =\n",
              "            await google.colab.kernel.invokeFunction('convertToInteractive',\n",
              "                                                     [key], {});\n",
              "          if (!dataTable) return;\n",
              "\n",
              "          const docLinkHtml = 'Like what you see? Visit the ' +\n",
              "            '<a target=\"_blank\" href=https://colab.research.google.com/notebooks/data_table.ipynb>data table notebook</a>'\n",
              "            + ' to learn more about interactive tables.';\n",
              "          element.innerHTML = '';\n",
              "          dataTable['output_type'] = 'display_data';\n",
              "          await google.colab.output.renderOutput(dataTable, element);\n",
              "          const docLink = document.createElement('div');\n",
              "          docLink.innerHTML = docLinkHtml;\n",
              "          element.appendChild(docLink);\n",
              "        }\n",
              "      </script>\n",
              "    </div>\n",
              "  </div>\n",
              "  "
            ]
          },
          "metadata": {},
          "execution_count": 19
        }
      ]
    },
    {
      "cell_type": "markdown",
      "source": [
        "Test time series forecasting on Phily data"
      ],
      "metadata": {
        "id": "vEoaS3eZr95O"
      }
    },
    {
      "cell_type": "code",
      "source": [
        "import matplotlib.pyplot as plt\n",
        "import seaborn as sns\n",
        "\n",
        "plt.ylabel(\"AverageTemperature\")\n",
        "plt.xlabel(\"date\")\n",
        "plt.plot(df_temp_phily.dt,df_temp_phily.AverageTemperature)"
      ],
      "metadata": {
        "id": "NwVCVszcr7Lz",
        "colab": {
          "base_uri": "https://localhost:8080/",
          "height": 467
        },
        "outputId": "bf011834-ef4e-4800-ee8c-11cd7436871f"
      },
      "execution_count": null,
      "outputs": [
        {
          "output_type": "execute_result",
          "data": {
            "text/plain": [
              "[<matplotlib.lines.Line2D at 0x7fd59fb7b0d0>]"
            ]
          },
          "metadata": {},
          "execution_count": 21
        },
        {
          "output_type": "display_data",
          "data": {
            "text/plain": [
              "<Figure size 640x480 with 1 Axes>"
            ],
            "image/png": "[encoded data removed]"
          },
          "metadata": {}
        }
      ]
    },
    {
      "cell_type": "code",
      "source": [
        "from statsmodels.tsa.statespace.sarimax import SARIMAX\n",
        "train = df_temp_phily[df_temp_phily['date'] < pd.to_datetime(\"2008-12-31\", format='%Y-%m-%d')]\n",
        "test=   df_temp_phily[df_temp_phily['date'] > pd.to_datetime(\"2008-12-31\",format = '%Y-%m-%d')]\n",
        "\n",
        "y_temp = train['AverageTemperature']\n",
        "smax_model = SARIMAX(y_temp,order=(2,2,2),seasonal_order = (2,2,2,12))\n",
        "smax_model = smax_model.fit()\n",
        "y_temp = smax_model.get_forecast(len(test.index))\n",
        "y_temp_df = y_temp.conf_int(alpha = 0.05)\n",
        "y_temp_df['Predicted_temp'] = smax_model.predict(start = y_temp_df.index[0],end = y_temp_df.index[-1])\n",
        "y_temp_df.index = test.index\n",
        "#y_temp_df.head()\n",
        "#y_temp_df = y_temp_df.merge(test[['date']] ,left_on = 'index',right_on = 'index', how = 'inner')\n",
        "y_temp_df.head(50)\n",
        "\n",
        "plt.plot(y_temp_df['Predicted_temp'],color = 'green', label = 'Predicted temp')\n",
        "plt.ylabel(\"temperatures in degrees C\")\n",
        "plt.xlabel(\"prediction for 5 years from 2009\")"
      ],
      "metadata": {
        "colab": {
          "base_uri": "https://localhost:8080/",
          "height": 665
        },
        "id": "dRXT8Sp2N5eh",
        "outputId": "2bbdab80-a917-4973-9700-cef42f979d5f"
      },
      "execution_count": null,
      "outputs": [
        {
          "output_type": "stream",
          "name": "stderr",
          "text": [
            "/usr/local/lib/python3.9/dist-packages/statsmodels/tsa/base/tsa_model.py:471: ValueWarning: An unsupported index was provided and will be ignored when e.g. forecasting.\n",
            "  self._init_dates(dates, freq)\n",
            "/usr/local/lib/python3.9/dist-packages/statsmodels/tsa/base/tsa_model.py:471: ValueWarning: An unsupported index was provided and will be ignored when e.g. forecasting.\n",
            "  self._init_dates(dates, freq)\n",
            "/usr/local/lib/python3.9/dist-packages/statsmodels/base/model.py:604: ConvergenceWarning: Maximum Likelihood optimization failed to converge. Check mle_retvals\n",
            "  warnings.warn(\"Maximum Likelihood optimization failed to \"\n",
            "/usr/local/lib/python3.9/dist-packages/statsmodels/tsa/base/tsa_model.py:834: ValueWarning: No supported index is available. Prediction results will be given with an integer index beginning at `start`.\n",
            "  return get_prediction_index(\n",
            "/usr/local/lib/python3.9/dist-packages/statsmodels/tsa/base/tsa_model.py:834: ValueWarning: No supported index is available. Prediction results will be given with an integer index beginning at `start`.\n",
            "  return get_prediction_index(\n"
          ]
        },
        {
          "output_type": "execute_result",
          "data": {
            "text/plain": [
              "Text(0.5, 0, 'prediction for 5 years from 2009')"
            ]
          },
          "metadata": {},
          "execution_count": 22
        },
        {
          "output_type": "display_data",
          "data": {
            "text/plain": [
              "<Figure size 640x480 with 1 Axes>"
            ],
            "image/png": "[encoded data removed]"
          },
          "metadata": {}
        }
      ]
    },
    {
      "cell_type": "markdown",
      "source": [
        "# OECD dataset"
      ],
      "metadata": {
        "id": "DAcl71BlGYYX"
      }
    },
    {
      "cell_type": "markdown",
      "source": [
        "https://stats.oecd.org/Index.aspx?datasetcode=FUA_CITY"
      ],
      "metadata": {
        "id": "xfD-6ruYTMF0"
      }
    },
    {
      "cell_type": "markdown",
      "source": [
        "Create link to project folder in google drive\n",
        "![image.png](data:image/png;base64,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)"
      ],
      "metadata": {
        "id": "LkLQaasWYcFh"
      }
    },
    {
      "cell_type": "code",
      "source": [
        "# Download dataset\n",
        "df_demography = pd.read_csv(\"/content/drive/MyDrive/CIS-545_Earth_Temperatures_Project/Colab/FUA_CITY_Demography.csv\")\n",
        "df_economy = pd.read_csv(\"/content/drive/MyDrive/CIS-545_Earth_Temperatures_Project/Colab/FUA_CITY_Economy.csv\")\n",
        "df_air_pollution = pd.read_csv(\"/content/drive/MyDrive/CIS-545_Earth_Temperatures_Project/Colab/FUA_CITY_Air_pollution.csv\")\n",
        "df_climate_hazards = pd.read_csv(\"/content/drive/MyDrive/CIS-545_Earth_Temperatures_Project/Colab/FUA_CITY_Climate_hazards.csv\")\n",
        "df_territorial_organization = pd.read_csv(\"/content/drive/MyDrive/CIS-545_Earth_Temperatures_Project/Colab/FUA_CITY_Territorial_Organization.csv\")\n"
      ],
      "metadata": {
        "id": "7qixe05TIMZD"
      },
      "execution_count": null,
      "outputs": []
    },
    {
      "cell_type": "code",
      "source": [
        "df_city_demography.head()"
      ],
      "metadata": {
        "colab": {
          "base_uri": "https://localhost:8080/",
          "height": 206
        },
        "id": "rn81fGZTYM48",
        "outputId": "989b586e-f429-4120-8855-378482fc5f4b"
      },
      "execution_count": null,
      "outputs": [
        {
          "output_type": "execute_result",
          "data": {
            "text/plain": [
              "  LOCATION    Country       TL Territory level  GEO  Geography  VAR  \\\n",
              "0      AUS  Australia  COUNTRY         Country  AUS  Australia  T_T   \n",
              "1      AUS  Australia  COUNTRY         Country  AUS  Australia  T_T   \n",
              "2      AUS  Australia  COUNTRY         Country  AUS  Australia  T_T   \n",
              "3      AUS  Australia  COUNTRY         Country  AUS  Australia  T_T   \n",
              "4      AUS  Australia  COUNTRY         Country  AUS  Australia  T_T   \n",
              "\n",
              "                                    Variable  TIME  Time       Value  \\\n",
              "0  Population, all ages, administrative data  2001  2001  19272100.0   \n",
              "1  Population, all ages, administrative data  2002  2002  19492800.0   \n",
              "2  Population, all ages, administrative data  2003  2003  19718400.0   \n",
              "3  Population, all ages, administrative data  2004  2004  19930400.0   \n",
              "4  Population, all ages, administrative data  2005  2005  20174500.0   \n",
              "\n",
              "   Flag Codes  Flags  \n",
              "0         NaN    NaN  \n",
              "1         NaN    NaN  \n",
              "2         NaN    NaN  \n",
              "3         NaN    NaN  \n",
              "4         NaN    NaN  "
            ],
            "text/html": [
              "\n",
              "  <div id=\"df-ab17e09e-9a48-467d-ad90-18a020ce2664\">\n",
              "    <div class=\"colab-df-container\">\n",
              "      <div>\n",
              "<style scoped>\n",
              "    .dataframe tbody tr th:only-of-type {\n",
              "        vertical-align: middle;\n",
              "    }\n",
              "\n",
              "    .dataframe tbody tr th {\n",
              "        vertical-align: top;\n",
              "    }\n",
              "\n",
              "    .dataframe thead th {\n",
              "        text-align: right;\n",
              "    }\n",
              "</style>\n",
              "<table border=\"1\" class=\"dataframe\">\n",
              "  <thead>\n",
              "    <tr style=\"text-align: right;\">\n",
              "      <th></th>\n",
              "      <th>LOCATION</th>\n",
              "      <th>Country</th>\n",
              "      <th>TL</th>\n",
              "      <th>Territory level</th>\n",
              "      <th>GEO</th>\n",
              "      <th>Geography</th>\n",
              "      <th>VAR</th>\n",
              "      <th>Variable</th>\n",
              "      <th>TIME</th>\n",
              "      <th>Time</th>\n",
              "      <th>Value</th>\n",
              "      <th>Flag Codes</th>\n",
              "      <th>Flags</th>\n",
              "    </tr>\n",
              "  </thead>\n",
              "  <tbody>\n",
              "    <tr>\n",
              "      <th>0</th>\n",
              "      <td>AUS</td>\n",
              "      <td>Australia</td>\n",
              "      <td>COUNTRY</td>\n",
              "      <td>Country</td>\n",
              "      <td>AUS</td>\n",
              "      <td>Australia</td>\n",
              "      <td>T_T</td>\n",
              "      <td>Population, all ages, administrative data</td>\n",
              "      <td>2001</td>\n",
              "      <td>2001</td>\n",
              "      <td>19272100.0</td>\n",
              "      <td>NaN</td>\n",
              "      <td>NaN</td>\n",
              "    </tr>\n",
              "    <tr>\n",
              "      <th>1</th>\n",
              "      <td>AUS</td>\n",
              "      <td>Australia</td>\n",
              "      <td>COUNTRY</td>\n",
              "      <td>Country</td>\n",
              "      <td>AUS</td>\n",
              "      <td>Australia</td>\n",
              "      <td>T_T</td>\n",
              "      <td>Population, all ages, administrative data</td>\n",
              "      <td>2002</td>\n",
              "      <td>2002</td>\n",
              "      <td>19492800.0</td>\n",
              "      <td>NaN</td>\n",
              "      <td>NaN</td>\n",
              "    </tr>\n",
              "    <tr>\n",
              "      <th>2</th>\n",
              "      <td>AUS</td>\n",
              "      <td>Australia</td>\n",
              "      <td>COUNTRY</td>\n",
              "      <td>Country</td>\n",
              "      <td>AUS</td>\n",
              "      <td>Australia</td>\n",
              "      <td>T_T</td>\n",
              "      <td>Population, all ages, administrative data</td>\n",
              "      <td>2003</td>\n",
              "      <td>2003</td>\n",
              "      <td>19718400.0</td>\n",
              "      <td>NaN</td>\n",
              "      <td>NaN</td>\n",
              "    </tr>\n",
              "    <tr>\n",
              "      <th>3</th>\n",
              "      <td>AUS</td>\n",
              "      <td>Australia</td>\n",
              "      <td>COUNTRY</td>\n",
              "      <td>Country</td>\n",
              "      <td>AUS</td>\n",
              "      <td>Australia</td>\n",
              "      <td>T_T</td>\n",
              "      <td>Population, all ages, administrative data</td>\n",
              "      <td>2004</td>\n",
              "      <td>2004</td>\n",
              "      <td>19930400.0</td>\n",
              "      <td>NaN</td>\n",
              "      <td>NaN</td>\n",
              "    </tr>\n",
              "    <tr>\n",
              "      <th>4</th>\n",
              "      <td>AUS</td>\n",
              "      <td>Australia</td>\n",
              "      <td>COUNTRY</td>\n",
              "      <td>Country</td>\n",
              "      <td>AUS</td>\n",
              "      <td>Australia</td>\n",
              "      <td>T_T</td>\n",
              "      <td>Population, all ages, administrative data</td>\n",
              "      <td>2005</td>\n",
              "      <td>2005</td>\n",
              "      <td>20174500.0</td>\n",
              "      <td>NaN</td>\n",
              "      <td>NaN</td>\n",
              "    </tr>\n",
              "  </tbody>\n",
              "</table>\n",
              "</div>\n",
              "      <button class=\"colab-df-convert\" onclick=\"convertToInteractive('df-ab17e09e-9a48-467d-ad90-18a020ce2664')\"\n",
              "              title=\"Convert this dataframe to an interactive table.\"\n",
              "              style=\"display:none;\">\n",
              "        \n",
              "  <svg xmlns=\"http://www.w3.org/2000/svg\" height=\"24px\"viewBox=\"0 0 24 24\"\n",
              "       width=\"24px\">\n",
              "    <path d=\"M0 0h24v24H0V0z\" fill=\"none\"/>\n",
              "    <path d=\"M18.56 5.44l.94 2.06.94-2.06 2.06-.94-2.06-.94-.94-2.06-.94 2.06-2.06.94zm-11 1L8.5 8.5l.94-2.06 2.06-.94-2.06-.94L8.5 2.5l-.94 2.06-2.06.94zm10 10l.94 2.06.94-2.06 2.06-.94-2.06-.94-.94-2.06-.94 2.06-2.06.94z\"/><path d=\"M17.41 7.96l-1.37-1.37c-.4-.4-.92-.59-1.43-.59-.52 0-1.04.2-1.43.59L10.3 9.45l-7.72 7.72c-.78.78-.78 2.05 0 2.83L4 21.41c.39.39.9.59 1.41.59.51 0 1.02-.2 1.41-.59l7.78-7.78 2.81-2.81c.8-.78.8-2.07 0-2.86zM5.41 20L4 18.59l7.72-7.72 1.47 1.35L5.41 20z\"/>\n",
              "  </svg>\n",
              "      </button>\n",
              "      \n",
              "  <style>\n",
              "    .colab-df-container {\n",
              "      display:flex;\n",
              "      flex-wrap:wrap;\n",
              "      gap: 12px;\n",
              "    }\n",
              "\n",
              "    .colab-df-convert {\n",
              "      background-color: #E8F0FE;\n",
              "      border: none;\n",
              "      border-radius: 50%;\n",
              "      cursor: pointer;\n",
              "      display: none;\n",
              "      fill: #1967D2;\n",
              "      height: 32px;\n",
              "      padding: 0 0 0 0;\n",
              "      width: 32px;\n",
              "    }\n",
              "\n",
              "    .colab-df-convert:hover {\n",
              "      background-color: #E2EBFA;\n",
              "      box-shadow: 0px 1px 2px rgba(60, 64, 67, 0.3), 0px 1px 3px 1px rgba(60, 64, 67, 0.15);\n",
              "      fill: #174EA6;\n",
              "    }\n",
              "\n",
              "    [theme=dark] .colab-df-convert {\n",
              "      background-color: #3B4455;\n",
              "      fill: #D2E3FC;\n",
              "    }\n",
              "\n",
              "    [theme=dark] .colab-df-convert:hover {\n",
              "      background-color: #434B5C;\n",
              "      box-shadow: 0px 1px 3px 1px rgba(0, 0, 0, 0.15);\n",
              "      filter: drop-shadow(0px 1px 2px rgba(0, 0, 0, 0.3));\n",
              "      fill: #FFFFFF;\n",
              "    }\n",
              "  </style>\n",
              "\n",
              "      <script>\n",
              "        const buttonEl =\n",
              "          document.querySelector('#df-ab17e09e-9a48-467d-ad90-18a020ce2664 button.colab-df-convert');\n",
              "        buttonEl.style.display =\n",
              "          google.colab.kernel.accessAllowed ? 'block' : 'none';\n",
              "\n",
              "        async function convertToInteractive(key) {\n",
              "          const element = document.querySelector('#df-ab17e09e-9a48-467d-ad90-18a020ce2664');\n",
              "          const dataTable =\n",
              "            await google.colab.kernel.invokeFunction('convertToInteractive',\n",
              "                                                     [key], {});\n",
              "          if (!dataTable) return;\n",
              "\n",
              "          const docLinkHtml = 'Like what you see? Visit the ' +\n",
              "            '<a target=\"_blank\" href=https://colab.research.google.com/notebooks/data_table.ipynb>data table notebook</a>'\n",
              "            + ' to learn more about interactive tables.';\n",
              "          element.innerHTML = '';\n",
              "          dataTable['output_type'] = 'display_data';\n",
              "          await google.colab.output.renderOutput(dataTable, element);\n",
              "          const docLink = document.createElement('div');\n",
              "          docLink.innerHTML = docLinkHtml;\n",
              "          element.appendChild(docLink);\n",
              "        }\n",
              "      </script>\n",
              "    </div>\n",
              "  </div>\n",
              "  "
            ]
          },
          "metadata": {},
          "execution_count": 102
        }
      ]
    },
    {
      "cell_type": "code",
      "source": [
        "df_city_demography.info()"
      ],
      "metadata": {
        "colab": {
          "base_uri": "https://localhost:8080/"
        },
        "id": "5Qf40XBNZpd7",
        "outputId": "9f0b9865-2218-4a0a-e87a-e60bb23bc735"
      },
      "execution_count": null,
      "outputs": [
        {
          "output_type": "stream",
          "name": "stdout",
          "text": [
            "<class 'pandas.core.frame.DataFrame'>\n",
            "RangeIndex: 243223 entries, 0 to 243222\n",
            "Data columns (total 13 columns):\n",
            " #   Column           Non-Null Count   Dtype  \n",
            "---  ------           --------------   -----  \n",
            " 0   LOCATION         243223 non-null  object \n",
            " 1   Country          243223 non-null  object \n",
            " 2   TL               243223 non-null  object \n",
            " 3   Territory level  243223 non-null  object \n",
            " 4   GEO              243223 non-null  object \n",
            " 5   Geography        243223 non-null  object \n",
            " 6   VAR              243223 non-null  object \n",
            " 7   Variable         243223 non-null  object \n",
            " 8   TIME             243223 non-null  int64  \n",
            " 9   Time             243223 non-null  int64  \n",
            " 10  Value            243223 non-null  float64\n",
            " 11  Flag Codes       0 non-null       float64\n",
            " 12  Flags            0 non-null       float64\n",
            "dtypes: float64(3), int64(2), object(8)\n",
            "memory usage: 24.1+ MB\n"
          ]
        }
      ]
    },
    {
      "cell_type": "markdown",
      "source": [
        "To clean this dataset,\n",
        "1. Drop unnecessary and redundant columns\n",
        "2. Check for duplicates and nullls"
      ],
      "metadata": {
        "id": "FddREBIjaKx9"
      }
    },
    {
      "cell_type": "code",
      "source": [
        "# LOCATION is the three-letter code of country. We will be using the full name of countries, so we can remove this column.\n",
        "df_city_demography[\"LOCATION\"].unique()"
      ],
      "metadata": {
        "colab": {
          "base_uri": "https://localhost:8080/"
        },
        "id": "6ZBtrT7rbUvY",
        "outputId": "25ae6842-9bb1-4357-8248-9d12be96648b"
      },
      "execution_count": null,
      "outputs": [
        {
          "output_type": "execute_result",
          "data": {
            "text/plain": [
              "array(['AUS', 'AUT', 'BEL', 'BGR', 'CAN', 'HUN', 'IRL', 'ISL', 'ITA',\n",
              "       'USA', 'CHE', 'CHL', 'COL', 'JPN', 'CZE', 'DEU', 'KOR', 'LTU',\n",
              "       'LUX', 'LVA', 'MEX', 'DNK', 'ESP', 'MLT', 'NLD', 'NOR', 'NZL',\n",
              "       'POL', 'EST', 'FIN', 'FRA', 'PRT', 'GBR', 'ROU', 'SVK', 'SVN',\n",
              "       'SWE', 'TUR', 'GRC', 'HRV'], dtype=object)"
            ]
          },
          "metadata": {},
          "execution_count": 109
        }
      ]
    },
    {
      "cell_type": "code",
      "source": [
        "# df_city_demography[\"TL\"].unique() # 'COUNTRY', 'FUA', 'CITY' # can be removed\n",
        "df_city_demography[\"Territory level\"].unique() # 'Country', 'Functional Urban Area', 'City'"
      ],
      "metadata": {
        "colab": {
          "base_uri": "https://localhost:8080/"
        },
        "id": "Xd1R6CYkbbcy",
        "outputId": "15e0c1b8-0f08-4038-8679-556892f9bc04"
      },
      "execution_count": null,
      "outputs": [
        {
          "output_type": "execute_result",
          "data": {
            "text/plain": [
              "array(['Country', 'Functional Urban Area', 'City'], dtype=object)"
            ]
          },
          "metadata": {},
          "execution_count": 115
        }
      ]
    },
    {
      "cell_type": "code",
      "source": [
        "# df_city_demography[\"GEO\"].unique() # can be removed\n",
        "# df_city_demography[\"Geography\"].unique()"
      ],
      "metadata": {
        "colab": {
          "base_uri": "https://localhost:8080/"
        },
        "id": "9RnOH_FSblvB",
        "outputId": "e516d167-73b7-4a2f-bf64-6c3e030184c3"
      },
      "execution_count": null,
      "outputs": [
        {
          "output_type": "execute_result",
          "data": {
            "text/plain": [
              "array(['AUS', 'AUS01F', 'AUS01C', ..., 'USA149F', 'USA149C', 'USA14F'],\n",
              "      dtype=object)"
            ]
          },
          "metadata": {},
          "execution_count": 117
        }
      ]
    },
    {
      "cell_type": "code",
      "source": [
        "# df_city_demography[\"VAR\"].unique() # can be removed\n",
        "df_city_demography[\"Variable\"].unique()"
      ],
      "metadata": {
        "colab": {
          "base_uri": "https://localhost:8080/"
        },
        "id": "kpYm_E2jcKBM",
        "outputId": "f4d69b06-e672-404a-f400-a02664a40c31"
      },
      "execution_count": null,
      "outputs": [
        {
          "output_type": "execute_result",
          "data": {
            "text/plain": [
              "array(['Population, all ages, administrative data',\n",
              "       'Youth population group (0-14)',\n",
              "       'Working age population group (15-64)',\n",
              "       'Elderly population group (65+)',\n",
              "       'Youth dependency ratio (-15 over population 15-64)',\n",
              "       'Elderly dependency ratio (65+ over population 15-64)',\n",
              "       'Growth/shrinking index of the total population (2010=100)',\n",
              "       'Population of the metropolitan area as a share of the national population'],\n",
              "      dtype=object)"
            ]
          },
          "metadata": {},
          "execution_count": 121
        }
      ]
    },
    {
      "cell_type": "code",
      "source": [
        "# These two columns are the same so remove one\n",
        "df_city_demography[\"TIME\"].unique() # can be removed\n",
        "df_city_demography[\"Time\"].unique()"
      ],
      "metadata": {
        "colab": {
          "base_uri": "https://localhost:8080/"
        },
        "id": "L_EL9lU4bDPn",
        "outputId": "6bb2d800-d9b3-41fe-ca3d-07c989f9164c"
      },
      "execution_count": null,
      "outputs": [
        {
          "output_type": "execute_result",
          "data": {
            "text/plain": [
              "array([2001, 2002, 2003, 2004, 2005, 2006, 2007, 2008, 2009, 2010, 2011,\n",
              "       2012, 2013, 2014, 2015, 2016, 2017, 2018, 2019, 2020, 2021, 2022])"
            ]
          },
          "metadata": {},
          "execution_count": 107
        }
      ]
    },
    {
      "cell_type": "code",
      "source": [
        "df_city_demography_clean = df_city_demography.drop(columns = ['LOCATION', 'TL', 'GEO', 'VAR', 'TIME', 'Flag Codes', 'Flags'])"
      ],
      "metadata": {
        "id": "BfC8mjKRaKS-"
      },
      "execution_count": null,
      "outputs": []
    },
    {
      "cell_type": "code",
      "source": [
        "# no duplicates\n",
        "len(df_city_demography_clean) - len(df_city_demography_clean.drop_duplicates())"
      ],
      "metadata": {
        "colab": {
          "base_uri": "https://localhost:8080/"
        },
        "id": "I6Iw77Khc95T",
        "outputId": "fc980c4b-ea71-4e7b-9b85-dce7aaa795af"
      },
      "execution_count": null,
      "outputs": [
        {
          "output_type": "execute_result",
          "data": {
            "text/plain": [
              "0"
            ]
          },
          "metadata": {},
          "execution_count": 124
        }
      ]
    },
    {
      "cell_type": "code",
      "source": [
        "# no nulls\n",
        "df_city_demography_clean.info()"
      ],
      "metadata": {
        "colab": {
          "base_uri": "https://localhost:8080/"
        },
        "id": "JtMkC1AScxIn",
        "outputId": "14d13022-9bff-403f-c7b4-522b5aa9a657"
      },
      "execution_count": null,
      "outputs": [
        {
          "output_type": "stream",
          "name": "stdout",
          "text": [
            "<class 'pandas.core.frame.DataFrame'>\n",
            "RangeIndex: 243223 entries, 0 to 243222\n",
            "Data columns (total 6 columns):\n",
            " #   Column           Non-Null Count   Dtype  \n",
            "---  ------           --------------   -----  \n",
            " 0   Country          243223 non-null  object \n",
            " 1   Territory level  243223 non-null  object \n",
            " 2   Geography        243223 non-null  object \n",
            " 3   Variable         243223 non-null  object \n",
            " 4   Time             243223 non-null  int64  \n",
            " 5   Value            243223 non-null  float64\n",
            "dtypes: float64(1), int64(1), object(4)\n",
            "memory usage: 11.1+ MB\n"
          ]
        }
      ]
    },
    {
      "cell_type": "markdown",
      "source": [
        "Repeat the cleaning process on the other datasets"
      ],
      "metadata": {
        "id": "79unhTQjdKjW"
      }
    },
    {
      "cell_type": "code",
      "source": [
        "df_economy.head()"
      ],
      "metadata": {
        "colab": {
          "base_uri": "https://localhost:8080/",
          "height": 206
        },
        "id": "uIoV4i5AfnF5",
        "outputId": "d0ff1702-4860-4ffa-da03-60f36566f04d"
      },
      "execution_count": null,
      "outputs": [
        {
          "output_type": "execute_result",
          "data": {
            "text/plain": [
              "  Country  Geography                                           Variable  Time  \\\n",
              "0   Spain  Barcelona  Labour productivity (GDP per worker in USD, co...  2001   \n",
              "1   Spain  Barcelona  Labour productivity (GDP per worker in USD, co...  2002   \n",
              "2   Spain  Barcelona  Labour productivity (GDP per worker in USD, co...  2003   \n",
              "3   Spain  Barcelona  Labour productivity (GDP per worker in USD, co...  2004   \n",
              "4   Spain  Barcelona  Labour productivity (GDP per worker in USD, co...  2005   \n",
              "\n",
              "     Value  \n",
              "0  80384.0  \n",
              "1  82528.0  \n",
              "2  82882.0  \n",
              "3  82727.0  \n",
              "4  82931.0  "
            ],
            "text/html": [
              "\n",
              "  <div id=\"df-af875db1-0190-4629-b2ac-7e41547342cf\">\n",
              "    <div class=\"colab-df-container\">\n",
              "      <div>\n",
              "<style scoped>\n",
              "    .dataframe tbody tr th:only-of-type {\n",
              "        vertical-align: middle;\n",
              "    }\n",
              "\n",
              "    .dataframe tbody tr th {\n",
              "        vertical-align: top;\n",
              "    }\n",
              "\n",
              "    .dataframe thead th {\n",
              "        text-align: right;\n",
              "    }\n",
              "</style>\n",
              "<table border=\"1\" class=\"dataframe\">\n",
              "  <thead>\n",
              "    <tr style=\"text-align: right;\">\n",
              "      <th></th>\n",
              "      <th>Country</th>\n",
              "      <th>Geography</th>\n",
              "      <th>Variable</th>\n",
              "      <th>Time</th>\n",
              "      <th>Value</th>\n",
              "    </tr>\n",
              "  </thead>\n",
              "  <tbody>\n",
              "    <tr>\n",
              "      <th>0</th>\n",
              "      <td>Spain</td>\n",
              "      <td>Barcelona</td>\n",
              "      <td>Labour productivity (GDP per worker in USD, co...</td>\n",
              "      <td>2001</td>\n",
              "      <td>80384.0</td>\n",
              "    </tr>\n",
              "    <tr>\n",
              "      <th>1</th>\n",
              "      <td>Spain</td>\n",
              "      <td>Barcelona</td>\n",
              "      <td>Labour productivity (GDP per worker in USD, co...</td>\n",
              "      <td>2002</td>\n",
              "      <td>82528.0</td>\n",
              "    </tr>\n",
              "    <tr>\n",
              "      <th>2</th>\n",
              "      <td>Spain</td>\n",
              "      <td>Barcelona</td>\n",
              "      <td>Labour productivity (GDP per worker in USD, co...</td>\n",
              "      <td>2003</td>\n",
              "      <td>82882.0</td>\n",
              "    </tr>\n",
              "    <tr>\n",
              "      <th>3</th>\n",
              "      <td>Spain</td>\n",
              "      <td>Barcelona</td>\n",
              "      <td>Labour productivity (GDP per worker in USD, co...</td>\n",
              "      <td>2004</td>\n",
              "      <td>82727.0</td>\n",
              "    </tr>\n",
              "    <tr>\n",
              "      <th>4</th>\n",
              "      <td>Spain</td>\n",
              "      <td>Barcelona</td>\n",
              "      <td>Labour productivity (GDP per worker in USD, co...</td>\n",
              "      <td>2005</td>\n",
              "      <td>82931.0</td>\n",
              "    </tr>\n",
              "  </tbody>\n",
              "</table>\n",
              "</div>\n",
              "      <button class=\"colab-df-convert\" onclick=\"convertToInteractive('df-af875db1-0190-4629-b2ac-7e41547342cf')\"\n",
              "              title=\"Convert this dataframe to an interactive table.\"\n",
              "              style=\"display:none;\">\n",
              "        \n",
              "  <svg xmlns=\"http://www.w3.org/2000/svg\" height=\"24px\"viewBox=\"0 0 24 24\"\n",
              "       width=\"24px\">\n",
              "    <path d=\"M0 0h24v24H0V0z\" fill=\"none\"/>\n",
              "    <path d=\"M18.56 5.44l.94 2.06.94-2.06 2.06-.94-2.06-.94-.94-2.06-.94 2.06-2.06.94zm-11 1L8.5 8.5l.94-2.06 2.06-.94-2.06-.94L8.5 2.5l-.94 2.06-2.06.94zm10 10l.94 2.06.94-2.06 2.06-.94-2.06-.94-.94-2.06-.94 2.06-2.06.94z\"/><path d=\"M17.41 7.96l-1.37-1.37c-.4-.4-.92-.59-1.43-.59-.52 0-1.04.2-1.43.59L10.3 9.45l-7.72 7.72c-.78.78-.78 2.05 0 2.83L4 21.41c.39.39.9.59 1.41.59.51 0 1.02-.2 1.41-.59l7.78-7.78 2.81-2.81c.8-.78.8-2.07 0-2.86zM5.41 20L4 18.59l7.72-7.72 1.47 1.35L5.41 20z\"/>\n",
              "  </svg>\n",
              "      </button>\n",
              "      \n",
              "  <style>\n",
              "    .colab-df-container {\n",
              "      display:flex;\n",
              "      flex-wrap:wrap;\n",
              "      gap: 12px;\n",
              "    }\n",
              "\n",
              "    .colab-df-convert {\n",
              "      background-color: #E8F0FE;\n",
              "      border: none;\n",
              "      border-radius: 50%;\n",
              "      cursor: pointer;\n",
              "      display: none;\n",
              "      fill: #1967D2;\n",
              "      height: 32px;\n",
              "      padding: 0 0 0 0;\n",
              "      width: 32px;\n",
              "    }\n",
              "\n",
              "    .colab-df-convert:hover {\n",
              "      background-color: #E2EBFA;\n",
              "      box-shadow: 0px 1px 2px rgba(60, 64, 67, 0.3), 0px 1px 3px 1px rgba(60, 64, 67, 0.15);\n",
              "      fill: #174EA6;\n",
              "    }\n",
              "\n",
              "    [theme=dark] .colab-df-convert {\n",
              "      background-color: #3B4455;\n",
              "      fill: #D2E3FC;\n",
              "    }\n",
              "\n",
              "    [theme=dark] .colab-df-convert:hover {\n",
              "      background-color: #434B5C;\n",
              "      box-shadow: 0px 1px 3px 1px rgba(0, 0, 0, 0.15);\n",
              "      filter: drop-shadow(0px 1px 2px rgba(0, 0, 0, 0.3));\n",
              "      fill: #FFFFFF;\n",
              "    }\n",
              "  </style>\n",
              "\n",
              "      <script>\n",
              "        const buttonEl =\n",
              "          document.querySelector('#df-af875db1-0190-4629-b2ac-7e41547342cf button.colab-df-convert');\n",
              "        buttonEl.style.display =\n",
              "          google.colab.kernel.accessAllowed ? 'block' : 'none';\n",
              "\n",
              "        async function convertToInteractive(key) {\n",
              "          const element = document.querySelector('#df-af875db1-0190-4629-b2ac-7e41547342cf');\n",
              "          const dataTable =\n",
              "            await google.colab.kernel.invokeFunction('convertToInteractive',\n",
              "                                                     [key], {});\n",
              "          if (!dataTable) return;\n",
              "\n",
              "          const docLinkHtml = 'Like what you see? Visit the ' +\n",
              "            '<a target=\"_blank\" href=https://colab.research.google.com/notebooks/data_table.ipynb>data table notebook</a>'\n",
              "            + ' to learn more about interactive tables.';\n",
              "          element.innerHTML = '';\n",
              "          dataTable['output_type'] = 'display_data';\n",
              "          await google.colab.output.renderOutput(dataTable, element);\n",
              "          const docLink = document.createElement('div');\n",
              "          docLink.innerHTML = docLinkHtml;\n",
              "          element.appendChild(docLink);\n",
              "        }\n",
              "      </script>\n",
              "    </div>\n",
              "  </div>\n",
              "  "
            ]
          },
          "metadata": {},
          "execution_count": 166
        }
      ]
    },
    {
      "cell_type": "code",
      "source": [
        "df_economy[\"Territory level\"].unique() # 'Functional Urban Area' only. # can be removed"
      ],
      "metadata": {
        "colab": {
          "base_uri": "https://localhost:8080/"
        },
        "id": "qsRPLYxlfylC",
        "outputId": "a7f17a46-7c4c-4e58-d156-9d498629c128"
      },
      "execution_count": null,
      "outputs": [
        {
          "output_type": "execute_result",
          "data": {
            "text/plain": [
              "array(['Functional Urban Area'], dtype=object)"
            ]
          },
          "metadata": {},
          "execution_count": 126
        }
      ]
    },
    {
      "cell_type": "code",
      "source": [
        "df_economy_clean = df_economy.drop(columns = ['LOCATION', 'TL', 'Territory level', 'GEO', 'VAR', 'TIME', 'Flag Codes', 'Flags'])"
      ],
      "metadata": {
        "id": "_z5cw2NCgI17"
      },
      "execution_count": null,
      "outputs": []
    },
    {
      "cell_type": "code",
      "source": [
        "df_economy_clean[\"Variable\"].unique() "
      ],
      "metadata": {
        "colab": {
          "base_uri": "https://localhost:8080/"
        },
        "id": "zFmNudYdgW7n",
        "outputId": "80ef54a8-f4d2-47dc-a167-28d3c8f7cf1a"
      },
      "execution_count": null,
      "outputs": [
        {
          "output_type": "execute_result",
          "data": {
            "text/plain": [
              "array(['Labour productivity (GDP per worker in USD, constant prices, constant PPP, base year 2015)',\n",
              "       'GDP (Million USD, constant prices, constant PPP, base year 2015)',\n",
              "       'GDP per capita (USD, constant prices, constant PPP, base year 2015)',\n",
              "       'GDP of the metropolitan area as a share of the national GDP',\n",
              "       'Employment at place of work'], dtype=object)"
            ]
          },
          "metadata": {},
          "execution_count": 129
        }
      ]
    },
    {
      "cell_type": "code",
      "source": [
        "# no duplicates\n",
        "len(df_economy_clean) - len(df_economy_clean.drop_duplicates())"
      ],
      "metadata": {
        "id": "AScZIMbBkhrf"
      },
      "execution_count": null,
      "outputs": []
    },
    {
      "cell_type": "code",
      "source": [
        "# no nulls\n",
        "df_economy_clean.info()"
      ],
      "metadata": {
        "colab": {
          "base_uri": "https://localhost:8080/"
        },
        "id": "GHfQEw8tgShI",
        "outputId": "fc4bdf4f-6f9a-4922-b355-67a50f560e80"
      },
      "execution_count": null,
      "outputs": [
        {
          "output_type": "stream",
          "name": "stdout",
          "text": [
            "<class 'pandas.core.frame.DataFrame'>\n",
            "RangeIndex: 62688 entries, 0 to 62687\n",
            "Data columns (total 5 columns):\n",
            " #   Column     Non-Null Count  Dtype  \n",
            "---  ------     --------------  -----  \n",
            " 0   Country    62688 non-null  object \n",
            " 1   Geography  62688 non-null  object \n",
            " 2   Variable   62688 non-null  object \n",
            " 3   Time       62688 non-null  int64  \n",
            " 4   Value      62688 non-null  float64\n",
            "dtypes: float64(1), int64(1), object(3)\n",
            "memory usage: 2.4+ MB\n"
          ]
        }
      ]
    },
    {
      "cell_type": "code",
      "source": [
        "df_air_pollution.head()"
      ],
      "metadata": {
        "colab": {
          "base_uri": "https://localhost:8080/",
          "height": 354
        },
        "id": "qY_ovQpWgim_",
        "outputId": "2f024eab-a70b-4415-c1ab-5f70a1cf2bb2"
      },
      "execution_count": null,
      "outputs": [
        {
          "output_type": "execute_result",
          "data": {
            "text/plain": [
              "  LOCATION        Country   TL        Territory level      GEO    Geography  \\\n",
              "0      USA  United States  FUA  Functional Urban Area  USA180F  Punta Gorda   \n",
              "1      USA  United States  FUA  Functional Urban Area  USA180F  Punta Gorda   \n",
              "2      USA  United States  FUA  Functional Urban Area  USA180F  Punta Gorda   \n",
              "3      USA  United States  FUA  Functional Urban Area  USA180F  Punta Gorda   \n",
              "4      USA  United States  FUA  Functional Urban Area  USA180F  Punta Gorda   \n",
              "\n",
              "                 VAR                                           Variable  TIME  \\\n",
              "0  SPEX_MORE_THAN_15  Share of population exposed to a level of PM2....  2000   \n",
              "1  SPEX_MORE_THAN_15  Share of population exposed to a level of PM2....  2001   \n",
              "2  SPEX_MORE_THAN_15  Share of population exposed to a level of PM2....  2002   \n",
              "3  SPEX_MORE_THAN_15  Share of population exposed to a level of PM2....  2003   \n",
              "4  SPEX_MORE_THAN_15  Share of population exposed to a level of PM2....  2004   \n",
              "\n",
              "   Time  Value  Flag Codes  Flags  \n",
              "0  2000    0.0         NaN    NaN  \n",
              "1  2001    0.0         NaN    NaN  \n",
              "2  2002    0.0         NaN    NaN  \n",
              "3  2003    0.0         NaN    NaN  \n",
              "4  2004    0.0         NaN    NaN  "
            ],
            "text/html": [
              "\n",
              "  <div id=\"df-c95b4b54-af62-401d-b12e-3926dcf12d0b\">\n",
              "    <div class=\"colab-df-container\">\n",
              "      <div>\n",
              "<style scoped>\n",
              "    .dataframe tbody tr th:only-of-type {\n",
              "        vertical-align: middle;\n",
              "    }\n",
              "\n",
              "    .dataframe tbody tr th {\n",
              "        vertical-align: top;\n",
              "    }\n",
              "\n",
              "    .dataframe thead th {\n",
              "        text-align: right;\n",
              "    }\n",
              "</style>\n",
              "<table border=\"1\" class=\"dataframe\">\n",
              "  <thead>\n",
              "    <tr style=\"text-align: right;\">\n",
              "      <th></th>\n",
              "      <th>LOCATION</th>\n",
              "      <th>Country</th>\n",
              "      <th>TL</th>\n",
              "      <th>Territory level</th>\n",
              "      <th>GEO</th>\n",
              "      <th>Geography</th>\n",
              "      <th>VAR</th>\n",
              "      <th>Variable</th>\n",
              "      <th>TIME</th>\n",
              "      <th>Time</th>\n",
              "      <th>Value</th>\n",
              "      <th>Flag Codes</th>\n",
              "      <th>Flags</th>\n",
              "    </tr>\n",
              "  </thead>\n",
              "  <tbody>\n",
              "    <tr>\n",
              "      <th>0</th>\n",
              "      <td>USA</td>\n",
              "      <td>United States</td>\n",
              "      <td>FUA</td>\n",
              "      <td>Functional Urban Area</td>\n",
              "      <td>USA180F</td>\n",
              "      <td>Punta Gorda</td>\n",
              "      <td>SPEX_MORE_THAN_15</td>\n",
              "      <td>Share of population exposed to a level of PM2....</td>\n",
              "      <td>2000</td>\n",
              "      <td>2000</td>\n",
              "      <td>0.0</td>\n",
              "      <td>NaN</td>\n",
              "      <td>NaN</td>\n",
              "    </tr>\n",
              "    <tr>\n",
              "      <th>1</th>\n",
              "      <td>USA</td>\n",
              "      <td>United States</td>\n",
              "      <td>FUA</td>\n",
              "      <td>Functional Urban Area</td>\n",
              "      <td>USA180F</td>\n",
              "      <td>Punta Gorda</td>\n",
              "      <td>SPEX_MORE_THAN_15</td>\n",
              "      <td>Share of population exposed to a level of PM2....</td>\n",
              "      <td>2001</td>\n",
              "      <td>2001</td>\n",
              "      <td>0.0</td>\n",
              "      <td>NaN</td>\n",
              "      <td>NaN</td>\n",
              "    </tr>\n",
              "    <tr>\n",
              "      <th>2</th>\n",
              "      <td>USA</td>\n",
              "      <td>United States</td>\n",
              "      <td>FUA</td>\n",
              "      <td>Functional Urban Area</td>\n",
              "      <td>USA180F</td>\n",
              "      <td>Punta Gorda</td>\n",
              "      <td>SPEX_MORE_THAN_15</td>\n",
              "      <td>Share of population exposed to a level of PM2....</td>\n",
              "      <td>2002</td>\n",
              "      <td>2002</td>\n",
              "      <td>0.0</td>\n",
              "      <td>NaN</td>\n",
              "      <td>NaN</td>\n",
              "    </tr>\n",
              "    <tr>\n",
              "      <th>3</th>\n",
              "      <td>USA</td>\n",
              "      <td>United States</td>\n",
              "      <td>FUA</td>\n",
              "      <td>Functional Urban Area</td>\n",
              "      <td>USA180F</td>\n",
              "      <td>Punta Gorda</td>\n",
              "      <td>SPEX_MORE_THAN_15</td>\n",
              "      <td>Share of population exposed to a level of PM2....</td>\n",
              "      <td>2003</td>\n",
              "      <td>2003</td>\n",
              "      <td>0.0</td>\n",
              "      <td>NaN</td>\n",
              "      <td>NaN</td>\n",
              "    </tr>\n",
              "    <tr>\n",
              "      <th>4</th>\n",
              "      <td>USA</td>\n",
              "      <td>United States</td>\n",
              "      <td>FUA</td>\n",
              "      <td>Functional Urban Area</td>\n",
              "      <td>USA180F</td>\n",
              "      <td>Punta Gorda</td>\n",
              "      <td>SPEX_MORE_THAN_15</td>\n",
              "      <td>Share of population exposed to a level of PM2....</td>\n",
              "      <td>2004</td>\n",
              "      <td>2004</td>\n",
              "      <td>0.0</td>\n",
              "      <td>NaN</td>\n",
              "      <td>NaN</td>\n",
              "    </tr>\n",
              "  </tbody>\n",
              "</table>\n",
              "</div>\n",
              "      <button class=\"colab-df-convert\" onclick=\"convertToInteractive('df-c95b4b54-af62-401d-b12e-3926dcf12d0b')\"\n",
              "              title=\"Convert this dataframe to an interactive table.\"\n",
              "              style=\"display:none;\">\n",
              "        \n",
              "  <svg xmlns=\"http://www.w3.org/2000/svg\" height=\"24px\"viewBox=\"0 0 24 24\"\n",
              "       width=\"24px\">\n",
              "    <path d=\"M0 0h24v24H0V0z\" fill=\"none\"/>\n",
              "    <path d=\"M18.56 5.44l.94 2.06.94-2.06 2.06-.94-2.06-.94-.94-2.06-.94 2.06-2.06.94zm-11 1L8.5 8.5l.94-2.06 2.06-.94-2.06-.94L8.5 2.5l-.94 2.06-2.06.94zm10 10l.94 2.06.94-2.06 2.06-.94-2.06-.94-.94-2.06-.94 2.06-2.06.94z\"/><path d=\"M17.41 7.96l-1.37-1.37c-.4-.4-.92-.59-1.43-.59-.52 0-1.04.2-1.43.59L10.3 9.45l-7.72 7.72c-.78.78-.78 2.05 0 2.83L4 21.41c.39.39.9.59 1.41.59.51 0 1.02-.2 1.41-.59l7.78-7.78 2.81-2.81c.8-.78.8-2.07 0-2.86zM5.41 20L4 18.59l7.72-7.72 1.47 1.35L5.41 20z\"/>\n",
              "  </svg>\n",
              "      </button>\n",
              "      \n",
              "  <style>\n",
              "    .colab-df-container {\n",
              "      display:flex;\n",
              "      flex-wrap:wrap;\n",
              "      gap: 12px;\n",
              "    }\n",
              "\n",
              "    .colab-df-convert {\n",
              "      background-color: #E8F0FE;\n",
              "      border: none;\n",
              "      border-radius: 50%;\n",
              "      cursor: pointer;\n",
              "      display: none;\n",
              "      fill: #1967D2;\n",
              "      height: 32px;\n",
              "      padding: 0 0 0 0;\n",
              "      width: 32px;\n",
              "    }\n",
              "\n",
              "    .colab-df-convert:hover {\n",
              "      background-color: #E2EBFA;\n",
              "      box-shadow: 0px 1px 2px rgba(60, 64, 67, 0.3), 0px 1px 3px 1px rgba(60, 64, 67, 0.15);\n",
              "      fill: #174EA6;\n",
              "    }\n",
              "\n",
              "    [theme=dark] .colab-df-convert {\n",
              "      background-color: #3B4455;\n",
              "      fill: #D2E3FC;\n",
              "    }\n",
              "\n",
              "    [theme=dark] .colab-df-convert:hover {\n",
              "      background-color: #434B5C;\n",
              "      box-shadow: 0px 1px 3px 1px rgba(0, 0, 0, 0.15);\n",
              "      filter: drop-shadow(0px 1px 2px rgba(0, 0, 0, 0.3));\n",
              "      fill: #FFFFFF;\n",
              "    }\n",
              "  </style>\n",
              "\n",
              "      <script>\n",
              "        const buttonEl =\n",
              "          document.querySelector('#df-c95b4b54-af62-401d-b12e-3926dcf12d0b button.colab-df-convert');\n",
              "        buttonEl.style.display =\n",
              "          google.colab.kernel.accessAllowed ? 'block' : 'none';\n",
              "\n",
              "        async function convertToInteractive(key) {\n",
              "          const element = document.querySelector('#df-c95b4b54-af62-401d-b12e-3926dcf12d0b');\n",
              "          const dataTable =\n",
              "            await google.colab.kernel.invokeFunction('convertToInteractive',\n",
              "                                                     [key], {});\n",
              "          if (!dataTable) return;\n",
              "\n",
              "          const docLinkHtml = 'Like what you see? Visit the ' +\n",
              "            '<a target=\"_blank\" href=https://colab.research.google.com/notebooks/data_table.ipynb>data table notebook</a>'\n",
              "            + ' to learn more about interactive tables.';\n",
              "          element.innerHTML = '';\n",
              "          dataTable['output_type'] = 'display_data';\n",
              "          await google.colab.output.renderOutput(dataTable, element);\n",
              "          const docLink = document.createElement('div');\n",
              "          docLink.innerHTML = docLinkHtml;\n",
              "          element.appendChild(docLink);\n",
              "        }\n",
              "      </script>\n",
              "    </div>\n",
              "  </div>\n",
              "  "
            ]
          },
          "metadata": {},
          "execution_count": 130
        }
      ]
    },
    {
      "cell_type": "code",
      "source": [
        "df_air_pollution[\"Territory level\"].unique() # has both FUA and City so keep"
      ],
      "metadata": {
        "colab": {
          "base_uri": "https://localhost:8080/"
        },
        "id": "tZx51_VflNy1",
        "outputId": "5315a90e-43fa-44a7-bce9-d46af3319f4d"
      },
      "execution_count": null,
      "outputs": [
        {
          "output_type": "execute_result",
          "data": {
            "text/plain": [
              "array(['Functional Urban Area', 'City'], dtype=object)"
            ]
          },
          "metadata": {},
          "execution_count": 167
        }
      ]
    },
    {
      "cell_type": "code",
      "source": [
        "df_air_pollution_clean = df_air_pollution.drop(columns = ['LOCATION', 'TL', 'GEO', 'VAR', 'TIME', 'Flag Codes', 'Flags'])"
      ],
      "metadata": {
        "id": "smd6lOHIg1f_"
      },
      "execution_count": null,
      "outputs": []
    },
    {
      "cell_type": "code",
      "source": [
        "df_air_pollution_clean[\"Variable\"].unique() "
      ],
      "metadata": {
        "colab": {
          "base_uri": "https://localhost:8080/"
        },
        "id": "dEMRhVBnlGst",
        "outputId": "44f17115-e01a-488c-cfa5-4bc6bc824956"
      },
      "execution_count": null,
      "outputs": [
        {
          "output_type": "execute_result",
          "data": {
            "text/plain": [
              "array(['Share of population exposed to a level of PM2.5 above 15 µg/m3',\n",
              "       'Share of population exposed to a level of PM2.5 above 5 µg/m3',\n",
              "       'Share of population exposed to a level of PM2.5 above 10 µg/m3',\n",
              "       'Mean population exposure to PM2.5 air pollution',\n",
              "       'Share of population exposed to a level of PM2.5 above 35 µg/m3',\n",
              "       'Share of population exposed to a level of PM2.5 above 25 µg/m3'],\n",
              "      dtype=object)"
            ]
          },
          "metadata": {},
          "execution_count": 169
        }
      ]
    },
    {
      "cell_type": "code",
      "source": [
        "# no duplicates\n",
        "len(df_air_pollution_clean) - len(df_air_pollution_clean.drop_duplicates())"
      ],
      "metadata": {
        "colab": {
          "base_uri": "https://localhost:8080/"
        },
        "id": "ZfuoYvmdky3T",
        "outputId": "bf920437-afff-4ddc-8792-371ac3efd096"
      },
      "execution_count": null,
      "outputs": [
        {
          "output_type": "execute_result",
          "data": {
            "text/plain": [
              "0"
            ]
          },
          "metadata": {},
          "execution_count": 170
        }
      ]
    },
    {
      "cell_type": "code",
      "source": [
        "# no nulls\n",
        "df_air_pollution_clean.info()"
      ],
      "metadata": {
        "colab": {
          "base_uri": "https://localhost:8080/"
        },
        "id": "8JvNgq4RlArk",
        "outputId": "c5e01a14-af49-416a-b9f8-b1a931de213a"
      },
      "execution_count": null,
      "outputs": [
        {
          "output_type": "stream",
          "name": "stdout",
          "text": [
            "<class 'pandas.core.frame.DataFrame'>\n",
            "RangeIndex: 334530 entries, 0 to 334529\n",
            "Data columns (total 6 columns):\n",
            " #   Column           Non-Null Count   Dtype  \n",
            "---  ------           --------------   -----  \n",
            " 0   Country          334530 non-null  object \n",
            " 1   Territory level  334530 non-null  object \n",
            " 2   Geography        334530 non-null  object \n",
            " 3   Variable         334530 non-null  object \n",
            " 4   Time             334530 non-null  int64  \n",
            " 5   Value            334530 non-null  float64\n",
            "dtypes: float64(1), int64(1), object(4)\n",
            "memory usage: 15.3+ MB\n"
          ]
        }
      ]
    },
    {
      "cell_type": "code",
      "source": [
        "df_climate_hazards.head()"
      ],
      "metadata": {
        "colab": {
          "base_uri": "https://localhost:8080/",
          "height": 206
        },
        "id": "aOzdDcbKgjOm",
        "outputId": "780d7209-2004-4ddd-fb70-955a0632f459"
      },
      "execution_count": null,
      "outputs": [
        {
          "output_type": "execute_result",
          "data": {
            "text/plain": [
              "  LOCATION        Country   TL        Territory level      GEO Geography  VAR  \\\n",
              "0      USA  United States  FUA  Functional Urban Area  USA117F     Scott  HDD   \n",
              "1      USA  United States  FUA  Functional Urban Area  USA117F     Scott  HDD   \n",
              "2      USA  United States  FUA  Functional Urban Area  USA117F     Scott  HDD   \n",
              "3      USA  United States  FUA  Functional Urban Area  USA117F     Scott  HDD   \n",
              "4      USA  United States  FUA  Functional Urban Area  USA117F     Scott  HDD   \n",
              "\n",
              "                                            Variable  TIME  Time   Value  \\\n",
              "0  Heating degree days (Sum over a year of the di...  2001  2001  2838.0   \n",
              "1  Heating degree days (Sum over a year of the di...  2002  2002  2943.0   \n",
              "2  Heating degree days (Sum over a year of the di...  2003  2003  3084.0   \n",
              "3  Heating degree days (Sum over a year of the di...  2004  2004  2849.0   \n",
              "4  Heating degree days (Sum over a year of the di...  2005  2005  2858.0   \n",
              "\n",
              "   Flag Codes  Flags  \n",
              "0         NaN    NaN  \n",
              "1         NaN    NaN  \n",
              "2         NaN    NaN  \n",
              "3         NaN    NaN  \n",
              "4         NaN    NaN  "
            ],
            "text/html": [
              "\n",
              "  <div id=\"df-797ed74a-3105-4127-9799-d46e41f45469\">\n",
              "    <div class=\"colab-df-container\">\n",
              "      <div>\n",
              "<style scoped>\n",
              "    .dataframe tbody tr th:only-of-type {\n",
              "        vertical-align: middle;\n",
              "    }\n",
              "\n",
              "    .dataframe tbody tr th {\n",
              "        vertical-align: top;\n",
              "    }\n",
              "\n",
              "    .dataframe thead th {\n",
              "        text-align: right;\n",
              "    }\n",
              "</style>\n",
              "<table border=\"1\" class=\"dataframe\">\n",
              "  <thead>\n",
              "    <tr style=\"text-align: right;\">\n",
              "      <th></th>\n",
              "      <th>LOCATION</th>\n",
              "      <th>Country</th>\n",
              "      <th>TL</th>\n",
              "      <th>Territory level</th>\n",
              "      <th>GEO</th>\n",
              "      <th>Geography</th>\n",
              "      <th>VAR</th>\n",
              "      <th>Variable</th>\n",
              "      <th>TIME</th>\n",
              "      <th>Time</th>\n",
              "      <th>Value</th>\n",
              "      <th>Flag Codes</th>\n",
              "      <th>Flags</th>\n",
              "    </tr>\n",
              "  </thead>\n",
              "  <tbody>\n",
              "    <tr>\n",
              "      <th>0</th>\n",
              "      <td>USA</td>\n",
              "      <td>United States</td>\n",
              "      <td>FUA</td>\n",
              "      <td>Functional Urban Area</td>\n",
              "      <td>USA117F</td>\n",
              "      <td>Scott</td>\n",
              "      <td>HDD</td>\n",
              "      <td>Heating degree days (Sum over a year of the di...</td>\n",
              "      <td>2001</td>\n",
              "      <td>2001</td>\n",
              "      <td>2838.0</td>\n",
              "      <td>NaN</td>\n",
              "      <td>NaN</td>\n",
              "    </tr>\n",
              "    <tr>\n",
              "      <th>1</th>\n",
              "      <td>USA</td>\n",
              "      <td>United States</td>\n",
              "      <td>FUA</td>\n",
              "      <td>Functional Urban Area</td>\n",
              "      <td>USA117F</td>\n",
              "      <td>Scott</td>\n",
              "      <td>HDD</td>\n",
              "      <td>Heating degree days (Sum over a year of the di...</td>\n",
              "      <td>2002</td>\n",
              "      <td>2002</td>\n",
              "      <td>2943.0</td>\n",
              "      <td>NaN</td>\n",
              "      <td>NaN</td>\n",
              "    </tr>\n",
              "    <tr>\n",
              "      <th>2</th>\n",
              "      <td>USA</td>\n",
              "      <td>United States</td>\n",
              "      <td>FUA</td>\n",
              "      <td>Functional Urban Area</td>\n",
              "      <td>USA117F</td>\n",
              "      <td>Scott</td>\n",
              "      <td>HDD</td>\n",
              "      <td>Heating degree days (Sum over a year of the di...</td>\n",
              "      <td>2003</td>\n",
              "      <td>2003</td>\n",
              "      <td>3084.0</td>\n",
              "      <td>NaN</td>\n",
              "      <td>NaN</td>\n",
              "    </tr>\n",
              "    <tr>\n",
              "      <th>3</th>\n",
              "      <td>USA</td>\n",
              "      <td>United States</td>\n",
              "      <td>FUA</td>\n",
              "      <td>Functional Urban Area</td>\n",
              "      <td>USA117F</td>\n",
              "      <td>Scott</td>\n",
              "      <td>HDD</td>\n",
              "      <td>Heating degree days (Sum over a year of the di...</td>\n",
              "      <td>2004</td>\n",
              "      <td>2004</td>\n",
              "      <td>2849.0</td>\n",
              "      <td>NaN</td>\n",
              "      <td>NaN</td>\n",
              "    </tr>\n",
              "    <tr>\n",
              "      <th>4</th>\n",
              "      <td>USA</td>\n",
              "      <td>United States</td>\n",
              "      <td>FUA</td>\n",
              "      <td>Functional Urban Area</td>\n",
              "      <td>USA117F</td>\n",
              "      <td>Scott</td>\n",
              "      <td>HDD</td>\n",
              "      <td>Heating degree days (Sum over a year of the di...</td>\n",
              "      <td>2005</td>\n",
              "      <td>2005</td>\n",
              "      <td>2858.0</td>\n",
              "      <td>NaN</td>\n",
              "      <td>NaN</td>\n",
              "    </tr>\n",
              "  </tbody>\n",
              "</table>\n",
              "</div>\n",
              "      <button class=\"colab-df-convert\" onclick=\"convertToInteractive('df-797ed74a-3105-4127-9799-d46e41f45469')\"\n",
              "              title=\"Convert this dataframe to an interactive table.\"\n",
              "              style=\"display:none;\">\n",
              "        \n",
              "  <svg xmlns=\"http://www.w3.org/2000/svg\" height=\"24px\"viewBox=\"0 0 24 24\"\n",
              "       width=\"24px\">\n",
              "    <path d=\"M0 0h24v24H0V0z\" fill=\"none\"/>\n",
              "    <path d=\"M18.56 5.44l.94 2.06.94-2.06 2.06-.94-2.06-.94-.94-2.06-.94 2.06-2.06.94zm-11 1L8.5 8.5l.94-2.06 2.06-.94-2.06-.94L8.5 2.5l-.94 2.06-2.06.94zm10 10l.94 2.06.94-2.06 2.06-.94-2.06-.94-.94-2.06-.94 2.06-2.06.94z\"/><path d=\"M17.41 7.96l-1.37-1.37c-.4-.4-.92-.59-1.43-.59-.52 0-1.04.2-1.43.59L10.3 9.45l-7.72 7.72c-.78.78-.78 2.05 0 2.83L4 21.41c.39.39.9.59 1.41.59.51 0 1.02-.2 1.41-.59l7.78-7.78 2.81-2.81c.8-.78.8-2.07 0-2.86zM5.41 20L4 18.59l7.72-7.72 1.47 1.35L5.41 20z\"/>\n",
              "  </svg>\n",
              "      </button>\n",
              "      \n",
              "  <style>\n",
              "    .colab-df-container {\n",
              "      display:flex;\n",
              "      flex-wrap:wrap;\n",
              "      gap: 12px;\n",
              "    }\n",
              "\n",
              "    .colab-df-convert {\n",
              "      background-color: #E8F0FE;\n",
              "      border: none;\n",
              "      border-radius: 50%;\n",
              "      cursor: pointer;\n",
              "      display: none;\n",
              "      fill: #1967D2;\n",
              "      height: 32px;\n",
              "      padding: 0 0 0 0;\n",
              "      width: 32px;\n",
              "    }\n",
              "\n",
              "    .colab-df-convert:hover {\n",
              "      background-color: #E2EBFA;\n",
              "      box-shadow: 0px 1px 2px rgba(60, 64, 67, 0.3), 0px 1px 3px 1px rgba(60, 64, 67, 0.15);\n",
              "      fill: #174EA6;\n",
              "    }\n",
              "\n",
              "    [theme=dark] .colab-df-convert {\n",
              "      background-color: #3B4455;\n",
              "      fill: #D2E3FC;\n",
              "    }\n",
              "\n",
              "    [theme=dark] .colab-df-convert:hover {\n",
              "      background-color: #434B5C;\n",
              "      box-shadow: 0px 1px 3px 1px rgba(0, 0, 0, 0.15);\n",
              "      filter: drop-shadow(0px 1px 2px rgba(0, 0, 0, 0.3));\n",
              "      fill: #FFFFFF;\n",
              "    }\n",
              "  </style>\n",
              "\n",
              "      <script>\n",
              "        const buttonEl =\n",
              "          document.querySelector('#df-797ed74a-3105-4127-9799-d46e41f45469 button.colab-df-convert');\n",
              "        buttonEl.style.display =\n",
              "          google.colab.kernel.accessAllowed ? 'block' : 'none';\n",
              "\n",
              "        async function convertToInteractive(key) {\n",
              "          const element = document.querySelector('#df-797ed74a-3105-4127-9799-d46e41f45469');\n",
              "          const dataTable =\n",
              "            await google.colab.kernel.invokeFunction('convertToInteractive',\n",
              "                                                     [key], {});\n",
              "          if (!dataTable) return;\n",
              "\n",
              "          const docLinkHtml = 'Like what you see? Visit the ' +\n",
              "            '<a target=\"_blank\" href=https://colab.research.google.com/notebooks/data_table.ipynb>data table notebook</a>'\n",
              "            + ' to learn more about interactive tables.';\n",
              "          element.innerHTML = '';\n",
              "          dataTable['output_type'] = 'display_data';\n",
              "          await google.colab.output.renderOutput(dataTable, element);\n",
              "          const docLink = document.createElement('div');\n",
              "          docLink.innerHTML = docLinkHtml;\n",
              "          element.appendChild(docLink);\n",
              "        }\n",
              "      </script>\n",
              "    </div>\n",
              "  </div>\n",
              "  "
            ]
          },
          "metadata": {},
          "execution_count": 172
        }
      ]
    },
    {
      "cell_type": "code",
      "source": [
        "df_climate_hazards[\"Territory level\"].unique() # has both FUA and City so keep"
      ],
      "metadata": {
        "colab": {
          "base_uri": "https://localhost:8080/"
        },
        "id": "n5jzn839lj8N",
        "outputId": "15f7c7c4-6fd0-4b78-c2e1-8a0112d9384d"
      },
      "execution_count": null,
      "outputs": [
        {
          "output_type": "execute_result",
          "data": {
            "text/plain": [
              "array(['Functional Urban Area', 'City'], dtype=object)"
            ]
          },
          "metadata": {},
          "execution_count": 173
        }
      ]
    },
    {
      "cell_type": "code",
      "source": [
        "df_climate_hazards_clean = df_climate_hazards.drop(columns = ['LOCATION', 'TL', 'GEO', 'VAR', 'TIME', 'Flag Codes', 'Flags'])"
      ],
      "metadata": {
        "id": "sqqto1NMk1QN"
      },
      "execution_count": null,
      "outputs": []
    },
    {
      "cell_type": "code",
      "source": [
        "df_climate_hazards_clean[\"Variable\"].unique() "
      ],
      "metadata": {
        "colab": {
          "base_uri": "https://localhost:8080/"
        },
        "id": "Mm_gGErZlH9x",
        "outputId": "5a518526-aa05-4184-a155-fbfb0509306d"
      },
      "execution_count": null,
      "outputs": [
        {
          "output_type": "execute_result",
          "data": {
            "text/plain": [
              "array(['Heating degree days (Sum over a year of the differences between the threshold temperature (15.5°C) and the daily mean outdoor temperature when the daily mean outdoor temperature is below 15.5°C)',\n",
              "       'Days of very strong heat stress (UTCI > 38°C)',\n",
              "       'Cooling degree days (Sum over a year of the differences between the daily mean outdoor air temperature and the threshold temperature (22°C) when the daily mean outdoor temperature is above 22°C)',\n",
              "       'Days of extreme heat stress (UTCI > 46°C)',\n",
              "       'Days of strong heat stress (UTCI > 32°C)',\n",
              "       'Area burned as a share of total area',\n",
              "       'Share of population exposed to coastal flooding, 100-year return period',\n",
              "       'Share of population exposed to at least one forest fire',\n",
              "       'Summer daytime urban heat island: difference in land surface temperature (in °C) between the built-up area and its surroundings',\n",
              "       'Share of population exposed to river flooding, 100-year return period'],\n",
              "      dtype=object)"
            ]
          },
          "metadata": {},
          "execution_count": 175
        }
      ]
    },
    {
      "cell_type": "code",
      "source": [
        "# no duplicates\n",
        "len(df_climate_hazards_clean) - len(df_climate_hazards_clean.drop_duplicates())"
      ],
      "metadata": {
        "colab": {
          "base_uri": "https://localhost:8080/"
        },
        "id": "E7OA9qDQk7G2",
        "outputId": "1632710a-30bd-499e-8e51-f6398cadb513"
      },
      "execution_count": null,
      "outputs": [
        {
          "output_type": "execute_result",
          "data": {
            "text/plain": [
              "0"
            ]
          },
          "metadata": {},
          "execution_count": 176
        }
      ]
    },
    {
      "cell_type": "code",
      "source": [
        "# no nulls\n",
        "df_climate_hazards_clean.info()"
      ],
      "metadata": {
        "colab": {
          "base_uri": "https://localhost:8080/"
        },
        "id": "Whe1B-TglB8n",
        "outputId": "658e190f-634c-4ef0-d0fd-37e2b3b6c7b2"
      },
      "execution_count": null,
      "outputs": [
        {
          "output_type": "stream",
          "name": "stdout",
          "text": [
            "<class 'pandas.core.frame.DataFrame'>\n",
            "RangeIndex: 393624 entries, 0 to 393623\n",
            "Data columns (total 6 columns):\n",
            " #   Column           Non-Null Count   Dtype  \n",
            "---  ------           --------------   -----  \n",
            " 0   Country          393624 non-null  object \n",
            " 1   Territory level  393624 non-null  object \n",
            " 2   Geography        393624 non-null  object \n",
            " 3   Variable         393624 non-null  object \n",
            " 4   Time             393624 non-null  int64  \n",
            " 5   Value            393624 non-null  float64\n",
            "dtypes: float64(1), int64(1), object(4)\n",
            "memory usage: 18.0+ MB\n"
          ]
        }
      ]
    },
    {
      "cell_type": "code",
      "source": [
        "df_territorial_organization.head()"
      ],
      "metadata": {
        "colab": {
          "base_uri": "https://localhost:8080/",
          "height": 354
        },
        "id": "0fkq4zoZgjt9",
        "outputId": "211659cf-6a9d-46d2-d06f-00383410c4a0"
      },
      "execution_count": null,
      "outputs": [
        {
          "output_type": "execute_result",
          "data": {
            "text/plain": [
              "  LOCATION        Country    TL        Territory level      GEO  \\\n",
              "0      DEU        Germany  CITY                   City   DE034C   \n",
              "1      GRC         Greece   FUA  Functional Urban Area   EL006F   \n",
              "2      USA  United States   FUA  Functional Urban Area  USA112F   \n",
              "3      POL         Poland  CITY                   City   PL056C   \n",
              "4      POL         Poland   FUA  Functional Urban Area   PL008F   \n",
              "\n",
              "         Geography          VAR  \\\n",
              "0  Mönchengladbach     URB_AREA   \n",
              "1            Volos  URB_AREA_PC   \n",
              "2          Cameron  URB_AREA_PC   \n",
              "3           Zabrze     URB_AREA   \n",
              "4        Bydgoszcz     URB_AREA   \n",
              "\n",
              "                                            Variable  TIME  Time  Value  \\\n",
              "0  Urbanised area (built-up area or land for urba...  2014  2014   53.0   \n",
              "1          Urbanised area per capita (m² per capita)  2014  2014  257.0   \n",
              "2          Urbanised area per capita (m² per capita)  2014  2014  233.0   \n",
              "3  Urbanised area (built-up area or land for urba...  2014  2014   32.0   \n",
              "4  Urbanised area (built-up area or land for urba...  2014  2014   82.0   \n",
              "\n",
              "   Flag Codes  Flags  \n",
              "0         NaN    NaN  \n",
              "1         NaN    NaN  \n",
              "2         NaN    NaN  \n",
              "3         NaN    NaN  \n",
              "4         NaN    NaN  "
            ],
            "text/html": [
              "\n",
              "  <div id=\"df-15002ece-894c-477c-95aa-9b15a1a7d89e\">\n",
              "    <div class=\"colab-df-container\">\n",
              "      <div>\n",
              "<style scoped>\n",
              "    .dataframe tbody tr th:only-of-type {\n",
              "        vertical-align: middle;\n",
              "    }\n",
              "\n",
              "    .dataframe tbody tr th {\n",
              "        vertical-align: top;\n",
              "    }\n",
              "\n",
              "    .dataframe thead th {\n",
              "        text-align: right;\n",
              "    }\n",
              "</style>\n",
              "<table border=\"1\" class=\"dataframe\">\n",
              "  <thead>\n",
              "    <tr style=\"text-align: right;\">\n",
              "      <th></th>\n",
              "      <th>LOCATION</th>\n",
              "      <th>Country</th>\n",
              "      <th>TL</th>\n",
              "      <th>Territory level</th>\n",
              "      <th>GEO</th>\n",
              "      <th>Geography</th>\n",
              "      <th>VAR</th>\n",
              "      <th>Variable</th>\n",
              "      <th>TIME</th>\n",
              "      <th>Time</th>\n",
              "      <th>Value</th>\n",
              "      <th>Flag Codes</th>\n",
              "      <th>Flags</th>\n",
              "    </tr>\n",
              "  </thead>\n",
              "  <tbody>\n",
              "    <tr>\n",
              "      <th>0</th>\n",
              "      <td>DEU</td>\n",
              "      <td>Germany</td>\n",
              "      <td>CITY</td>\n",
              "      <td>City</td>\n",
              "      <td>DE034C</td>\n",
              "      <td>Mönchengladbach</td>\n",
              "      <td>URB_AREA</td>\n",
              "      <td>Urbanised area (built-up area or land for urba...</td>\n",
              "      <td>2014</td>\n",
              "      <td>2014</td>\n",
              "      <td>53.0</td>\n",
              "      <td>NaN</td>\n",
              "      <td>NaN</td>\n",
              "    </tr>\n",
              "    <tr>\n",
              "      <th>1</th>\n",
              "      <td>GRC</td>\n",
              "      <td>Greece</td>\n",
              "      <td>FUA</td>\n",
              "      <td>Functional Urban Area</td>\n",
              "      <td>EL006F</td>\n",
              "      <td>Volos</td>\n",
              "      <td>URB_AREA_PC</td>\n",
              "      <td>Urbanised area per capita (m² per capita)</td>\n",
              "      <td>2014</td>\n",
              "      <td>2014</td>\n",
              "      <td>257.0</td>\n",
              "      <td>NaN</td>\n",
              "      <td>NaN</td>\n",
              "    </tr>\n",
              "    <tr>\n",
              "      <th>2</th>\n",
              "      <td>USA</td>\n",
              "      <td>United States</td>\n",
              "      <td>FUA</td>\n",
              "      <td>Functional Urban Area</td>\n",
              "      <td>USA112F</td>\n",
              "      <td>Cameron</td>\n",
              "      <td>URB_AREA_PC</td>\n",
              "      <td>Urbanised area per capita (m² per capita)</td>\n",
              "      <td>2014</td>\n",
              "      <td>2014</td>\n",
              "      <td>233.0</td>\n",
              "      <td>NaN</td>\n",
              "      <td>NaN</td>\n",
              "    </tr>\n",
              "    <tr>\n",
              "      <th>3</th>\n",
              "      <td>POL</td>\n",
              "      <td>Poland</td>\n",
              "      <td>CITY</td>\n",
              "      <td>City</td>\n",
              "      <td>PL056C</td>\n",
              "      <td>Zabrze</td>\n",
              "      <td>URB_AREA</td>\n",
              "      <td>Urbanised area (built-up area or land for urba...</td>\n",
              "      <td>2014</td>\n",
              "      <td>2014</td>\n",
              "      <td>32.0</td>\n",
              "      <td>NaN</td>\n",
              "      <td>NaN</td>\n",
              "    </tr>\n",
              "    <tr>\n",
              "      <th>4</th>\n",
              "      <td>POL</td>\n",
              "      <td>Poland</td>\n",
              "      <td>FUA</td>\n",
              "      <td>Functional Urban Area</td>\n",
              "      <td>PL008F</td>\n",
              "      <td>Bydgoszcz</td>\n",
              "      <td>URB_AREA</td>\n",
              "      <td>Urbanised area (built-up area or land for urba...</td>\n",
              "      <td>2014</td>\n",
              "      <td>2014</td>\n",
              "      <td>82.0</td>\n",
              "      <td>NaN</td>\n",
              "      <td>NaN</td>\n",
              "    </tr>\n",
              "  </tbody>\n",
              "</table>\n",
              "</div>\n",
              "      <button class=\"colab-df-convert\" onclick=\"convertToInteractive('df-15002ece-894c-477c-95aa-9b15a1a7d89e')\"\n",
              "              title=\"Convert this dataframe to an interactive table.\"\n",
              "              style=\"display:none;\">\n",
              "        \n",
              "  <svg xmlns=\"http://www.w3.org/2000/svg\" height=\"24px\"viewBox=\"0 0 24 24\"\n",
              "       width=\"24px\">\n",
              "    <path d=\"M0 0h24v24H0V0z\" fill=\"none\"/>\n",
              "    <path d=\"M18.56 5.44l.94 2.06.94-2.06 2.06-.94-2.06-.94-.94-2.06-.94 2.06-2.06.94zm-11 1L8.5 8.5l.94-2.06 2.06-.94-2.06-.94L8.5 2.5l-.94 2.06-2.06.94zm10 10l.94 2.06.94-2.06 2.06-.94-2.06-.94-.94-2.06-.94 2.06-2.06.94z\"/><path d=\"M17.41 7.96l-1.37-1.37c-.4-.4-.92-.59-1.43-.59-.52 0-1.04.2-1.43.59L10.3 9.45l-7.72 7.72c-.78.78-.78 2.05 0 2.83L4 21.41c.39.39.9.59 1.41.59.51 0 1.02-.2 1.41-.59l7.78-7.78 2.81-2.81c.8-.78.8-2.07 0-2.86zM5.41 20L4 18.59l7.72-7.72 1.47 1.35L5.41 20z\"/>\n",
              "  </svg>\n",
              "      </button>\n",
              "      \n",
              "  <style>\n",
              "    .colab-df-container {\n",
              "      display:flex;\n",
              "      flex-wrap:wrap;\n",
              "      gap: 12px;\n",
              "    }\n",
              "\n",
              "    .colab-df-convert {\n",
              "      background-color: #E8F0FE;\n",
              "      border: none;\n",
              "      border-radius: 50%;\n",
              "      cursor: pointer;\n",
              "      display: none;\n",
              "      fill: #1967D2;\n",
              "      height: 32px;\n",
              "      padding: 0 0 0 0;\n",
              "      width: 32px;\n",
              "    }\n",
              "\n",
              "    .colab-df-convert:hover {\n",
              "      background-color: #E2EBFA;\n",
              "      box-shadow: 0px 1px 2px rgba(60, 64, 67, 0.3), 0px 1px 3px 1px rgba(60, 64, 67, 0.15);\n",
              "      fill: #174EA6;\n",
              "    }\n",
              "\n",
              "    [theme=dark] .colab-df-convert {\n",
              "      background-color: #3B4455;\n",
              "      fill: #D2E3FC;\n",
              "    }\n",
              "\n",
              "    [theme=dark] .colab-df-convert:hover {\n",
              "      background-color: #434B5C;\n",
              "      box-shadow: 0px 1px 3px 1px rgba(0, 0, 0, 0.15);\n",
              "      filter: drop-shadow(0px 1px 2px rgba(0, 0, 0, 0.3));\n",
              "      fill: #FFFFFF;\n",
              "    }\n",
              "  </style>\n",
              "\n",
              "      <script>\n",
              "        const buttonEl =\n",
              "          document.querySelector('#df-15002ece-894c-477c-95aa-9b15a1a7d89e button.colab-df-convert');\n",
              "        buttonEl.style.display =\n",
              "          google.colab.kernel.accessAllowed ? 'block' : 'none';\n",
              "\n",
              "        async function convertToInteractive(key) {\n",
              "          const element = document.querySelector('#df-15002ece-894c-477c-95aa-9b15a1a7d89e');\n",
              "          const dataTable =\n",
              "            await google.colab.kernel.invokeFunction('convertToInteractive',\n",
              "                                                     [key], {});\n",
              "          if (!dataTable) return;\n",
              "\n",
              "          const docLinkHtml = 'Like what you see? Visit the ' +\n",
              "            '<a target=\"_blank\" href=https://colab.research.google.com/notebooks/data_table.ipynb>data table notebook</a>'\n",
              "            + ' to learn more about interactive tables.';\n",
              "          element.innerHTML = '';\n",
              "          dataTable['output_type'] = 'display_data';\n",
              "          await google.colab.output.renderOutput(dataTable, element);\n",
              "          const docLink = document.createElement('div');\n",
              "          docLink.innerHTML = docLinkHtml;\n",
              "          element.appendChild(docLink);\n",
              "        }\n",
              "      </script>\n",
              "    </div>\n",
              "  </div>\n",
              "  "
            ]
          },
          "metadata": {},
          "execution_count": 180
        }
      ]
    },
    {
      "cell_type": "code",
      "source": [
        "df_territorial_organization[\"Territory level\"].unique() # has both FUA and City so keep"
      ],
      "metadata": {
        "colab": {
          "base_uri": "https://localhost:8080/"
        },
        "id": "DpPsFPsKmasc",
        "outputId": "28be3374-6fe7-4991-8352-7d3a32548c31"
      },
      "execution_count": null,
      "outputs": [
        {
          "output_type": "execute_result",
          "data": {
            "text/plain": [
              "array(['City', 'Functional Urban Area'], dtype=object)"
            ]
          },
          "metadata": {},
          "execution_count": 181
        }
      ]
    },
    {
      "cell_type": "code",
      "source": [
        "df_territorial_organization_clean = df_territorial_organization.drop(columns = ['LOCATION', 'TL', 'GEO', 'VAR', 'TIME', 'Flag Codes', 'Flags'])"
      ],
      "metadata": {
        "id": "s5Yvpbvzk1wK"
      },
      "execution_count": null,
      "outputs": []
    },
    {
      "cell_type": "code",
      "source": [
        "df_territorial_organization_clean[\"Variable\"].unique() "
      ],
      "metadata": {
        "colab": {
          "base_uri": "https://localhost:8080/"
        },
        "id": "bf1BodNvlIsT",
        "outputId": "b52e6648-3496-4cde-8c56-cc09c504aa9b"
      },
      "execution_count": null,
      "outputs": [
        {
          "output_type": "execute_result",
          "data": {
            "text/plain": [
              "array(['Urbanised area (built-up area or land for urban use in km²)',\n",
              "       'Urbanised area per capita (m² per capita)',\n",
              "       'Total land area (in km²)',\n",
              "       'Average population size of local governments',\n",
              "       'Territorial fragmentation (local governments per 100 000 inhabitants)',\n",
              "       'Population density (inhabitants per km²)',\n",
              "       'Local governments (count)'], dtype=object)"
            ]
          },
          "metadata": {},
          "execution_count": 183
        }
      ]
    },
    {
      "cell_type": "code",
      "source": [
        "# no duplicates\n",
        "len(df_territorial_organization_clean) - len(df_territorial_organization_clean.drop_duplicates())"
      ],
      "metadata": {
        "colab": {
          "base_uri": "https://localhost:8080/"
        },
        "id": "mxUplt19k8K4",
        "outputId": "aa7c4609-1c47-4a65-ce42-21d1afdff9f4"
      },
      "execution_count": null,
      "outputs": [
        {
          "output_type": "execute_result",
          "data": {
            "text/plain": [
              "0"
            ]
          },
          "metadata": {},
          "execution_count": 184
        }
      ]
    },
    {
      "cell_type": "code",
      "source": [
        "# no nulls\n",
        "df_territorial_organization_clean.info()"
      ],
      "metadata": {
        "colab": {
          "base_uri": "https://localhost:8080/"
        },
        "id": "NRgSuxM8lCoD",
        "outputId": "23f56378-9302-4688-9246-4ec3c2d6d412"
      },
      "execution_count": null,
      "outputs": [
        {
          "output_type": "stream",
          "name": "stdout",
          "text": [
            "<class 'pandas.core.frame.DataFrame'>\n",
            "RangeIndex: 84436 entries, 0 to 84435\n",
            "Data columns (total 6 columns):\n",
            " #   Column           Non-Null Count  Dtype  \n",
            "---  ------           --------------  -----  \n",
            " 0   Country          84436 non-null  object \n",
            " 1   Territory level  84436 non-null  object \n",
            " 2   Geography        84436 non-null  object \n",
            " 3   Variable         84436 non-null  object \n",
            " 4   Time             84436 non-null  int64  \n",
            " 5   Value            84436 non-null  float64\n",
            "dtypes: float64(1), int64(1), object(4)\n",
            "memory usage: 3.9+ MB\n"
          ]
        }
      ]
    },
    {
      "cell_type": "markdown",
      "source": [
        "# Next steps\n",
        "1. Determine which attributes are important and convert \"Variable\" column values into columns.\n",
        "2. Merge OECD data with Temperature data.\n",
        "3. Check for any correlation. Visualize data. If needed, reduce dimensions.\n",
        "3. Create test, train, and, if possible, validation datasets.\n",
        "4. Train model and predict temperature change.\n",
        "5. Evaluate performance of model.\n",
        "\n",
        "\n"
      ],
      "metadata": {
        "id": "oIr9hnwydOuE"
      }
    }
  ]
}