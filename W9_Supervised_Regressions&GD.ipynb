{
  "nbformat": 4,
  "nbformat_minor": 0,
  "metadata": {
    "colab": {
      "provenance": [],
      "toc_visible": true,
      "include_colab_link": true
    },
    "kernelspec": {
      "name": "python3",
      "display_name": "Python 3"
    },
    "widgets": {
      "application/vnd.jupyter.widget-state+json": {
        "2572f92466c549519429859cfe35e4f4": {
          "model_module": "@jupyter-widgets/controls",
          "model_name": "FloatProgressModel",
          "state": {
            "_view_name": "ProgressView",
            "style": "IPY_MODEL_167531a1cd414d069afaed57cd2d9743",
            "_dom_classes": [],
            "description": "Progress:",
            "_model_name": "FloatProgressModel",
            "bar_style": "info",
            "max": 1,
            "_view_module": "@jupyter-widgets/controls",
            "_model_module_version": "1.5.0",
            "value": 0,
            "_view_count": null,
            "_view_module_version": "1.5.0",
            "orientation": "horizontal",
            "min": 0,
            "description_tooltip": null,
            "_model_module": "@jupyter-widgets/controls",
            "layout": "IPY_MODEL_3eb3e3e7c47f427d8271f74411cdd6bd"
          },
          "model_module_version": "1.5.0"
        },
        "167531a1cd414d069afaed57cd2d9743": {
          "model_module": "@jupyter-widgets/controls",
          "model_name": "ProgressStyleModel",
          "state": {
            "_view_name": "StyleView",
            "_model_name": "ProgressStyleModel",
            "description_width": "",
            "_view_module": "@jupyter-widgets/base",
            "_model_module_version": "1.5.0",
            "_view_count": null,
            "_view_module_version": "1.2.0",
            "bar_color": null,
            "_model_module": "@jupyter-widgets/controls"
          },
          "model_module_version": "1.5.0"
        },
        "3eb3e3e7c47f427d8271f74411cdd6bd": {
          "model_module": "@jupyter-widgets/base",
          "model_name": "LayoutModel",
          "state": {
            "_view_name": "LayoutView",
            "grid_template_rows": null,
            "right": null,
            "justify_content": null,
            "_view_module": "@jupyter-widgets/base",
            "overflow": null,
            "_model_module_version": "1.2.0",
            "_view_count": null,
            "flex_flow": null,
            "width": "50%",
            "min_width": null,
            "border": null,
            "align_items": null,
            "bottom": null,
            "_model_module": "@jupyter-widgets/base",
            "top": null,
            "grid_column": null,
            "overflow_y": null,
            "overflow_x": null,
            "grid_auto_flow": null,
            "grid_area": null,
            "grid_template_columns": null,
            "flex": null,
            "_model_name": "LayoutModel",
            "justify_items": null,
            "grid_row": null,
            "max_height": null,
            "align_content": null,
            "visibility": null,
            "align_self": null,
            "height": "25px",
            "min_height": null,
            "padding": null,
            "grid_auto_rows": null,
            "grid_gap": null,
            "max_width": null,
            "order": null,
            "_view_module_version": "1.2.0",
            "grid_template_areas": null,
            "object_position": null,
            "object_fit": null,
            "grid_auto_columns": null,
            "margin": null,
            "display": null,
            "left": null
          },
          "model_module_version": "1.2.0"
        },
        "cd3403850c164196a3d10df7cad1d69b": {
          "model_module": "@jupyter-widgets/controls",
          "model_name": "FloatProgressModel",
          "state": {
            "_view_name": "ProgressView",
            "style": "IPY_MODEL_503a919269704658a16409fe5b30772c",
            "_dom_classes": [],
            "description": "Progress:",
            "_model_name": "FloatProgressModel",
            "bar_style": "info",
            "max": 1,
            "_view_module": "@jupyter-widgets/controls",
            "_model_module_version": "1.5.0",
            "value": 0,
            "_view_count": null,
            "_view_module_version": "1.5.0",
            "orientation": "horizontal",
            "min": 0,
            "description_tooltip": null,
            "_model_module": "@jupyter-widgets/controls",
            "layout": "IPY_MODEL_7684b9f9774c478c9d88a19fc7241721"
          },
          "model_module_version": "1.5.0"
        },
        "503a919269704658a16409fe5b30772c": {
          "model_module": "@jupyter-widgets/controls",
          "model_name": "ProgressStyleModel",
          "state": {
            "_view_name": "StyleView",
            "_model_name": "ProgressStyleModel",
            "description_width": "",
            "_view_module": "@jupyter-widgets/base",
            "_model_module_version": "1.5.0",
            "_view_count": null,
            "_view_module_version": "1.2.0",
            "bar_color": null,
            "_model_module": "@jupyter-widgets/controls"
          },
          "model_module_version": "1.5.0"
        },
        "7684b9f9774c478c9d88a19fc7241721": {
          "model_module": "@jupyter-widgets/base",
          "model_name": "LayoutModel",
          "state": {
            "_view_name": "LayoutView",
            "grid_template_rows": null,
            "right": null,
            "justify_content": null,
            "_view_module": "@jupyter-widgets/base",
            "overflow": null,
            "_model_module_version": "1.2.0",
            "_view_count": null,
            "flex_flow": null,
            "width": "50%",
            "min_width": null,
            "border": null,
            "align_items": null,
            "bottom": null,
            "_model_module": "@jupyter-widgets/base",
            "top": null,
            "grid_column": null,
            "overflow_y": null,
            "overflow_x": null,
            "grid_auto_flow": null,
            "grid_area": null,
            "grid_template_columns": null,
            "flex": null,
            "_model_name": "LayoutModel",
            "justify_items": null,
            "grid_row": null,
            "max_height": null,
            "align_content": null,
            "visibility": null,
            "align_self": null,
            "height": "25px",
            "min_height": null,
            "padding": null,
            "grid_auto_rows": null,
            "grid_gap": null,
            "max_width": null,
            "order": null,
            "_view_module_version": "1.2.0",
            "grid_template_areas": null,
            "object_position": null,
            "object_fit": null,
            "grid_auto_columns": null,
            "margin": null,
            "display": null,
            "left": null
          },
          "model_module_version": "1.2.0"
        },
        "cfd76a5180c84c0d8efe175e7e012356": {
          "model_module": "@jupyter-widgets/controls",
          "model_name": "FloatProgressModel",
          "state": {
            "_view_name": "ProgressView",
            "style": "IPY_MODEL_5472f893b9324eb39ddda6dcc21eb2b5",
            "_dom_classes": [],
            "description": "Progress:",
            "_model_name": "FloatProgressModel",
            "bar_style": "info",
            "max": 1,
            "_view_module": "@jupyter-widgets/controls",
            "_model_module_version": "1.5.0",
            "value": 0.972972972972973,
            "_view_count": null,
            "_view_module_version": "1.5.0",
            "orientation": "horizontal",
            "min": 0,
            "description_tooltip": null,
            "_model_module": "@jupyter-widgets/controls",
            "layout": "IPY_MODEL_1967e75c96ad43bba44fa87e5f558c47"
          },
          "model_module_version": "1.5.0"
        },
        "5472f893b9324eb39ddda6dcc21eb2b5": {
          "model_module": "@jupyter-widgets/controls",
          "model_name": "ProgressStyleModel",
          "state": {
            "_view_name": "StyleView",
            "_model_name": "ProgressStyleModel",
            "description_width": "",
            "_view_module": "@jupyter-widgets/base",
            "_model_module_version": "1.5.0",
            "_view_count": null,
            "_view_module_version": "1.2.0",
            "bar_color": null,
            "_model_module": "@jupyter-widgets/controls"
          },
          "model_module_version": "1.5.0"
        },
        "1967e75c96ad43bba44fa87e5f558c47": {
          "model_module": "@jupyter-widgets/base",
          "model_name": "LayoutModel",
          "state": {
            "_view_name": "LayoutView",
            "grid_template_rows": null,
            "right": null,
            "justify_content": null,
            "_view_module": "@jupyter-widgets/base",
            "overflow": null,
            "_model_module_version": "1.2.0",
            "_view_count": null,
            "flex_flow": null,
            "width": "50%",
            "min_width": null,
            "border": null,
            "align_items": null,
            "bottom": null,
            "_model_module": "@jupyter-widgets/base",
            "top": null,
            "grid_column": null,
            "overflow_y": null,
            "overflow_x": null,
            "grid_auto_flow": null,
            "grid_area": null,
            "grid_template_columns": null,
            "flex": null,
            "_model_name": "LayoutModel",
            "justify_items": null,
            "grid_row": null,
            "max_height": null,
            "align_content": null,
            "visibility": null,
            "align_self": null,
            "height": "25px",
            "min_height": null,
            "padding": null,
            "grid_auto_rows": null,
            "grid_gap": null,
            "max_width": null,
            "order": null,
            "_view_module_version": "1.2.0",
            "grid_template_areas": null,
            "object_position": null,
            "object_fit": null,
            "grid_auto_columns": null,
            "margin": null,
            "display": null,
            "left": null
          },
          "model_module_version": "1.2.0"
        },
        "7b03a5727ee54e258637b8446c725302": {
          "model_module": "@jupyter-widgets/controls",
          "model_name": "FloatProgressModel",
          "state": {
            "_view_name": "ProgressView",
            "style": "IPY_MODEL_be6703078fa149ddba913508b916c7f3",
            "_dom_classes": [],
            "description": "Progress:",
            "_model_name": "FloatProgressModel",
            "bar_style": "info",
            "max": 1,
            "_view_module": "@jupyter-widgets/controls",
            "_model_module_version": "1.5.0",
            "value": 0.8,
            "_view_count": null,
            "_view_module_version": "1.5.0",
            "orientation": "horizontal",
            "min": 0,
            "description_tooltip": null,
            "_model_module": "@jupyter-widgets/controls",
            "layout": "IPY_MODEL_4f423f1ac7404ee78149839d4824e124"
          },
          "model_module_version": "1.5.0"
        },
        "be6703078fa149ddba913508b916c7f3": {
          "model_module": "@jupyter-widgets/controls",
          "model_name": "ProgressStyleModel",
          "state": {
            "_view_name": "StyleView",
            "_model_name": "ProgressStyleModel",
            "description_width": "",
            "_view_module": "@jupyter-widgets/base",
            "_model_module_version": "1.5.0",
            "_view_count": null,
            "_view_module_version": "1.2.0",
            "bar_color": null,
            "_model_module": "@jupyter-widgets/controls"
          },
          "model_module_version": "1.5.0"
        },
        "4f423f1ac7404ee78149839d4824e124": {
          "model_module": "@jupyter-widgets/base",
          "model_name": "LayoutModel",
          "state": {
            "_view_name": "LayoutView",
            "grid_template_rows": null,
            "right": null,
            "justify_content": null,
            "_view_module": "@jupyter-widgets/base",
            "overflow": null,
            "_model_module_version": "1.2.0",
            "_view_count": null,
            "flex_flow": null,
            "width": "50%",
            "min_width": null,
            "border": null,
            "align_items": null,
            "bottom": null,
            "_model_module": "@jupyter-widgets/base",
            "top": null,
            "grid_column": null,
            "overflow_y": null,
            "overflow_x": null,
            "grid_auto_flow": null,
            "grid_area": null,
            "grid_template_columns": null,
            "flex": null,
            "_model_name": "LayoutModel",
            "justify_items": null,
            "grid_row": null,
            "max_height": null,
            "align_content": null,
            "visibility": null,
            "align_self": null,
            "height": "25px",
            "min_height": null,
            "padding": null,
            "grid_auto_rows": null,
            "grid_gap": null,
            "max_width": null,
            "order": null,
            "_view_module_version": "1.2.0",
            "grid_template_areas": null,
            "object_position": null,
            "object_fit": null,
            "grid_auto_columns": null,
            "margin": null,
            "display": null,
            "left": null
          },
          "model_module_version": "1.2.0"
        }
      }
    }
  },
  "cells": [
    {
      "cell_type": "markdown",
      "metadata": {
        "id": "view-in-github",
        "colab_type": "text"
      },
      "source": [
        "<a href=\"https://colab.research.google.com/github/MarinaWolters/Coding-Tracker/blob/master/W9_Supervised_Regressions%26GD.ipynb\" target=\"_parent\"><img src=\"https://colab.research.google.com/assets/colab-badge.svg\" alt=\"Open In Colab\"/></a>"
      ]
    },
    {
      "cell_type": "markdown",
      "metadata": {
        "id": "Wp7qRQdWL5tZ"
      },
      "source": [
        "# 3. Supervised Machine Learning\n",
        "\n",
        "We'll next consider **supervised** machine learning, which learns a function from input features to output classes."
      ]
    },
    {
      "cell_type": "markdown",
      "metadata": {
        "id": "NLR_5AEkJy6U"
      },
      "source": [
        "## 3.2 Linear Regression"
      ]
    },
    {
      "cell_type": "markdown",
      "metadata": {
        "id": "tpstVh2UKx3g"
      },
      "source": [
        "Let's start with a simple scatter plot of points where we should be able to find the regression line..."
      ]
    },
    {
      "cell_type": "code",
      "metadata": {
        "id": "_QjVMgiVTD2l",
        "outputId": "99549b13-03c8-4829-bc7c-3236efe50e8a",
        "colab": {
          "base_uri": "https://localhost:8080/",
          "height": 501
        }
      },
      "source": [
        "import numpy as np\n",
        "import matplotlib.pyplot as plt\n",
        "\n",
        "# Let's plot a series of points\n",
        "X = 2 * np.random.rand(200, 1)\n",
        "\n",
        "# We are plotting y = 2x + 3 plus a random\n",
        "# value \n",
        "y = 2 * X + 3 + np.random.randn(200, 1)\n",
        "\n",
        "# Let's plot it\n",
        "fig, ax = plt.subplots(figsize=(8,8))\n",
        "ax.scatter(X, y)\n"
      ],
      "execution_count": null,
      "outputs": [
        {
          "output_type": "execute_result",
          "data": {
            "text/plain": [
              "<matplotlib.collections.PathCollection at 0x7f1543c7aac8>"
            ]
          },
          "metadata": {
            "tags": []
          },
          "execution_count": 1
        },
        {
          "output_type": "display_data",
          "data": {
            "image/png": "[encoded data removed]",
            "text/plain": [
              "<Figure size 576x576 with 1 Axes>"
            ]
          },
          "metadata": {
            "tags": [],
            "needs_background": "light"
          }
        }
      ]
    },
    {
      "cell_type": "code",
      "metadata": {
        "id": "s__ZMQdeKBZp",
        "outputId": "5ed63ade-497b-4440-92ae-8a794ae2a39a",
        "colab": {
          "base_uri": "https://localhost:8080/",
          "height": 518
        }
      },
      "source": [
        "from sklearn.linear_model import LinearRegression\n",
        "\n",
        "# Use regression to get slope + intercept for\n",
        "# a line matching the points\n",
        "rgr = LinearRegression()\n",
        "rgr.fit(X, y)\n",
        "\n",
        "# Let's plot it\n",
        "fig, ax = plt.subplots(figsize=(8,8))\n",
        "ax.scatter(X, y)\n",
        "\n",
        "# The line will be from 0 -> 3 non-inclusive\n",
        "X2 = range(0,3)\n",
        "y2 = rgr.coef_*X2 + rgr.intercept_\n",
        "ax.plot(X2, y2.T, color='red')\n",
        "plt.show()\n",
        "\n",
        "print (\"Intercept:\", rgr.intercept_)\n",
        "print (\"Coefficient:\",rgr.coef_)"
      ],
      "execution_count": null,
      "outputs": [
        {
          "output_type": "display_data",
          "data": {
            "image/png": "[encoded data removed]",
            "text/plain": [
              "<Figure size 576x576 with 1 Axes>"
            ]
          },
          "metadata": {
            "tags": [],
            "needs_background": "light"
          }
        },
        {
          "output_type": "stream",
          "text": [
            "Intercept: [3.05288046]\n",
            "Coefficient: [[1.93055378]]\n"
          ],
          "name": "stdout"
        }
      ]
    },
    {
      "cell_type": "markdown",
      "metadata": {
        "id": "7kscASXBhJA-"
      },
      "source": [
        "How can we actually do this ourselves?\n",
        "\n",
        "We can use the \"normal equation\" $(X^T X)^{-1} X^T y$ to compute this using a closed form solution.  It's a bit expensive, and it does require that we add the intercept $x_0=1$ to the $X$ matrix..."
      ]
    },
    {
      "cell_type": "code",
      "metadata": {
        "id": "MxXg7XY9_jY7",
        "outputId": "4e846259-71a8-4fec-fcf5-3aec50859475",
        "colab": {
          "base_uri": "https://localhost:8080/",
          "height": 518
        }
      },
      "source": [
        "from numpy.linalg import inv\n",
        "import matplotlib.pyplot as plt\n",
        "from sklearn.preprocessing import StandardScaler\n",
        "\n",
        "# Insert the x_0 column\n",
        "X_with_bias = np.ones((X.shape[0],2))\n",
        "X_with_bias[:,1] = X.T\n",
        "\n",
        "b = inv(X_with_bias.T.dot(X_with_bias)).dot(X_with_bias.T).dot(y)\n",
        "print('Intercept: ', b[0])\n",
        "print('Coefficient: ', b[1])\n",
        "\n",
        "# predict using coefficients\n",
        "yhat = X_with_bias.dot(b)\n",
        "# plot data and predictions\n",
        "# Let's plot it\n",
        "fig, ax = plt.subplots(figsize=(8,8))\n",
        "ax.scatter(X, y)\n",
        "\n",
        "plt.plot(X, yhat, color='red')\n",
        "plt.show()\n"
      ],
      "execution_count": null,
      "outputs": [
        {
          "output_type": "stream",
          "text": [
            "Intercept:  [3.05288046]\n",
            "Coefficient:  [1.93055378]\n"
          ],
          "name": "stdout"
        },
        {
          "output_type": "display_data",
          "data": {
            "image/png": "[encoded data removed]",
            "text/plain": [
              "<Figure size 576x576 with 1 Axes>"
            ]
          },
          "metadata": {
            "tags": [],
            "needs_background": "light"
          }
        }
      ]
    },
    {
      "cell_type": "markdown",
      "metadata": {
        "id": "43o-0EFyQn8u"
      },
      "source": [
        "How well do the above coefficient + intercept match our original $y = 2x + 3 + random$ equation?"
      ]
    },
    {
      "cell_type": "markdown",
      "metadata": {
        "id": "_GyFjBFWZczT"
      },
      "source": [
        "How about some real data?\n"
      ]
    },
    {
      "cell_type": "code",
      "metadata": {
        "id": "noCnVRuQZcBf",
        "outputId": "1bdf23ee-a54e-4a02-f5dc-c39064b1e7dc",
        "colab": {
          "base_uri": "https://localhost:8080/",
          "height": 437
        }
      },
      "source": [
        "import pandas as pd\n",
        "from sklearn.datasets import load_boston\n",
        "\n",
        "\n",
        "# Boston housing dataset\n",
        "housing_data = load_boston()\n",
        "\n",
        "housing_df = pd.DataFrame(housing_data.data, columns=housing_data.feature_names)\n",
        "housing_df['Price'] = housing_data.target\n",
        "housing_df"
      ],
      "execution_count": null,
      "outputs": [
        {
          "output_type": "execute_result",
          "data": {
            "text/html": [
              "<div>\n",
              "<style scoped>\n",
              "    .dataframe tbody tr th:only-of-type {\n",
              "        vertical-align: middle;\n",
              "    }\n",
              "\n",
              "    .dataframe tbody tr th {\n",
              "        vertical-align: top;\n",
              "    }\n",
              "\n",
              "    .dataframe thead th {\n",
              "        text-align: right;\n",
              "    }\n",
              "</style>\n",
              "<table border=\"1\" class=\"dataframe\">\n",
              "  <thead>\n",
              "    <tr style=\"text-align: right;\">\n",
              "      <th></th>\n",
              "      <th>CRIM</th>\n",
              "      <th>ZN</th>\n",
              "      <th>INDUS</th>\n",
              "      <th>CHAS</th>\n",
              "      <th>NOX</th>\n",
              "      <th>RM</th>\n",
              "      <th>AGE</th>\n",
              "      <th>DIS</th>\n",
              "      <th>RAD</th>\n",
              "      <th>TAX</th>\n",
              "      <th>PTRATIO</th>\n",
              "      <th>B</th>\n",
              "      <th>LSTAT</th>\n",
              "      <th>Price</th>\n",
              "    </tr>\n",
              "  </thead>\n",
              "  <tbody>\n",
              "    <tr>\n",
              "      <th>0</th>\n",
              "      <td>0.00632</td>\n",
              "      <td>18.0</td>\n",
              "      <td>2.31</td>\n",
              "      <td>0.0</td>\n",
              "      <td>0.538</td>\n",
              "      <td>6.575</td>\n",
              "      <td>65.2</td>\n",
              "      <td>4.0900</td>\n",
              "      <td>1.0</td>\n",
              "      <td>296.0</td>\n",
              "      <td>15.3</td>\n",
              "      <td>396.90</td>\n",
              "      <td>4.98</td>\n",
              "      <td>24.0</td>\n",
              "    </tr>\n",
              "    <tr>\n",
              "      <th>1</th>\n",
              "      <td>0.02731</td>\n",
              "      <td>0.0</td>\n",
              "      <td>7.07</td>\n",
              "      <td>0.0</td>\n",
              "      <td>0.469</td>\n",
              "      <td>6.421</td>\n",
              "      <td>78.9</td>\n",
              "      <td>4.9671</td>\n",
              "      <td>2.0</td>\n",
              "      <td>242.0</td>\n",
              "      <td>17.8</td>\n",
              "      <td>396.90</td>\n",
              "      <td>9.14</td>\n",
              "      <td>21.6</td>\n",
              "    </tr>\n",
              "    <tr>\n",
              "      <th>2</th>\n",
              "      <td>0.02729</td>\n",
              "      <td>0.0</td>\n",
              "      <td>7.07</td>\n",
              "      <td>0.0</td>\n",
              "      <td>0.469</td>\n",
              "      <td>7.185</td>\n",
              "      <td>61.1</td>\n",
              "      <td>4.9671</td>\n",
              "      <td>2.0</td>\n",
              "      <td>242.0</td>\n",
              "      <td>17.8</td>\n",
              "      <td>392.83</td>\n",
              "      <td>4.03</td>\n",
              "      <td>34.7</td>\n",
              "    </tr>\n",
              "    <tr>\n",
              "      <th>3</th>\n",
              "      <td>0.03237</td>\n",
              "      <td>0.0</td>\n",
              "      <td>2.18</td>\n",
              "      <td>0.0</td>\n",
              "      <td>0.458</td>\n",
              "      <td>6.998</td>\n",
              "      <td>45.8</td>\n",
              "      <td>6.0622</td>\n",
              "      <td>3.0</td>\n",
              "      <td>222.0</td>\n",
              "      <td>18.7</td>\n",
              "      <td>394.63</td>\n",
              "      <td>2.94</td>\n",
              "      <td>33.4</td>\n",
              "    </tr>\n",
              "    <tr>\n",
              "      <th>4</th>\n",
              "      <td>0.06905</td>\n",
              "      <td>0.0</td>\n",
              "      <td>2.18</td>\n",
              "      <td>0.0</td>\n",
              "      <td>0.458</td>\n",
              "      <td>7.147</td>\n",
              "      <td>54.2</td>\n",
              "      <td>6.0622</td>\n",
              "      <td>3.0</td>\n",
              "      <td>222.0</td>\n",
              "      <td>18.7</td>\n",
              "      <td>396.90</td>\n",
              "      <td>5.33</td>\n",
              "      <td>36.2</td>\n",
              "    </tr>\n",
              "    <tr>\n",
              "      <th>...</th>\n",
              "      <td>...</td>\n",
              "      <td>...</td>\n",
              "      <td>...</td>\n",
              "      <td>...</td>\n",
              "      <td>...</td>\n",
              "      <td>...</td>\n",
              "      <td>...</td>\n",
              "      <td>...</td>\n",
              "      <td>...</td>\n",
              "      <td>...</td>\n",
              "      <td>...</td>\n",
              "      <td>...</td>\n",
              "      <td>...</td>\n",
              "      <td>...</td>\n",
              "    </tr>\n",
              "    <tr>\n",
              "      <th>501</th>\n",
              "      <td>0.06263</td>\n",
              "      <td>0.0</td>\n",
              "      <td>11.93</td>\n",
              "      <td>0.0</td>\n",
              "      <td>0.573</td>\n",
              "      <td>6.593</td>\n",
              "      <td>69.1</td>\n",
              "      <td>2.4786</td>\n",
              "      <td>1.0</td>\n",
              "      <td>273.0</td>\n",
              "      <td>21.0</td>\n",
              "      <td>391.99</td>\n",
              "      <td>9.67</td>\n",
              "      <td>22.4</td>\n",
              "    </tr>\n",
              "    <tr>\n",
              "      <th>502</th>\n",
              "      <td>0.04527</td>\n",
              "      <td>0.0</td>\n",
              "      <td>11.93</td>\n",
              "      <td>0.0</td>\n",
              "      <td>0.573</td>\n",
              "      <td>6.120</td>\n",
              "      <td>76.7</td>\n",
              "      <td>2.2875</td>\n",
              "      <td>1.0</td>\n",
              "      <td>273.0</td>\n",
              "      <td>21.0</td>\n",
              "      <td>396.90</td>\n",
              "      <td>9.08</td>\n",
              "      <td>20.6</td>\n",
              "    </tr>\n",
              "    <tr>\n",
              "      <th>503</th>\n",
              "      <td>0.06076</td>\n",
              "      <td>0.0</td>\n",
              "      <td>11.93</td>\n",
              "      <td>0.0</td>\n",
              "      <td>0.573</td>\n",
              "      <td>6.976</td>\n",
              "      <td>91.0</td>\n",
              "      <td>2.1675</td>\n",
              "      <td>1.0</td>\n",
              "      <td>273.0</td>\n",
              "      <td>21.0</td>\n",
              "      <td>396.90</td>\n",
              "      <td>5.64</td>\n",
              "      <td>23.9</td>\n",
              "    </tr>\n",
              "    <tr>\n",
              "      <th>504</th>\n",
              "      <td>0.10959</td>\n",
              "      <td>0.0</td>\n",
              "      <td>11.93</td>\n",
              "      <td>0.0</td>\n",
              "      <td>0.573</td>\n",
              "      <td>6.794</td>\n",
              "      <td>89.3</td>\n",
              "      <td>2.3889</td>\n",
              "      <td>1.0</td>\n",
              "      <td>273.0</td>\n",
              "      <td>21.0</td>\n",
              "      <td>393.45</td>\n",
              "      <td>6.48</td>\n",
              "      <td>22.0</td>\n",
              "    </tr>\n",
              "    <tr>\n",
              "      <th>505</th>\n",
              "      <td>0.04741</td>\n",
              "      <td>0.0</td>\n",
              "      <td>11.93</td>\n",
              "      <td>0.0</td>\n",
              "      <td>0.573</td>\n",
              "      <td>6.030</td>\n",
              "      <td>80.8</td>\n",
              "      <td>2.5050</td>\n",
              "      <td>1.0</td>\n",
              "      <td>273.0</td>\n",
              "      <td>21.0</td>\n",
              "      <td>396.90</td>\n",
              "      <td>7.88</td>\n",
              "      <td>11.9</td>\n",
              "    </tr>\n",
              "  </tbody>\n",
              "</table>\n",
              "<p>506 rows × 14 columns</p>\n",
              "</div>"
            ],
            "text/plain": [
              "        CRIM    ZN  INDUS  CHAS    NOX  ...    TAX  PTRATIO       B  LSTAT  Price\n",
              "0    0.00632  18.0   2.31   0.0  0.538  ...  296.0     15.3  396.90   4.98   24.0\n",
              "1    0.02731   0.0   7.07   0.0  0.469  ...  242.0     17.8  396.90   9.14   21.6\n",
              "2    0.02729   0.0   7.07   0.0  0.469  ...  242.0     17.8  392.83   4.03   34.7\n",
              "3    0.03237   0.0   2.18   0.0  0.458  ...  222.0     18.7  394.63   2.94   33.4\n",
              "4    0.06905   0.0   2.18   0.0  0.458  ...  222.0     18.7  396.90   5.33   36.2\n",
              "..       ...   ...    ...   ...    ...  ...    ...      ...     ...    ...    ...\n",
              "501  0.06263   0.0  11.93   0.0  0.573  ...  273.0     21.0  391.99   9.67   22.4\n",
              "502  0.04527   0.0  11.93   0.0  0.573  ...  273.0     21.0  396.90   9.08   20.6\n",
              "503  0.06076   0.0  11.93   0.0  0.573  ...  273.0     21.0  396.90   5.64   23.9\n",
              "504  0.10959   0.0  11.93   0.0  0.573  ...  273.0     21.0  393.45   6.48   22.0\n",
              "505  0.04741   0.0  11.93   0.0  0.573  ...  273.0     21.0  396.90   7.88   11.9\n",
              "\n",
              "[506 rows x 14 columns]"
            ]
          },
          "metadata": {
            "tags": []
          },
          "execution_count": 4
        }
      ]
    },
    {
      "cell_type": "code",
      "metadata": {
        "id": "6wP2tkveeDud",
        "outputId": "9686316e-5aa0-47c1-a37f-4fa6f5a29561",
        "colab": {
          "base_uri": "https://localhost:8080/"
        }
      },
      "source": [
        "housing_df.info()"
      ],
      "execution_count": null,
      "outputs": [
        {
          "output_type": "stream",
          "text": [
            "<class 'pandas.core.frame.DataFrame'>\n",
            "RangeIndex: 506 entries, 0 to 505\n",
            "Data columns (total 14 columns):\n",
            " #   Column   Non-Null Count  Dtype  \n",
            "---  ------   --------------  -----  \n",
            " 0   CRIM     506 non-null    float64\n",
            " 1   ZN       506 non-null    float64\n",
            " 2   INDUS    506 non-null    float64\n",
            " 3   CHAS     506 non-null    float64\n",
            " 4   NOX      506 non-null    float64\n",
            " 5   RM       506 non-null    float64\n",
            " 6   AGE      506 non-null    float64\n",
            " 7   DIS      506 non-null    float64\n",
            " 8   RAD      506 non-null    float64\n",
            " 9   TAX      506 non-null    float64\n",
            " 10  PTRATIO  506 non-null    float64\n",
            " 11  B        506 non-null    float64\n",
            " 12  LSTAT    506 non-null    float64\n",
            " 13  Price    506 non-null    float64\n",
            "dtypes: float64(14)\n",
            "memory usage: 55.5 KB\n"
          ],
          "name": "stdout"
        }
      ]
    },
    {
      "cell_type": "code",
      "metadata": {
        "id": "ckpXZLc3eBsa",
        "outputId": "19c218ec-ba09-42ba-8ffe-91af731c5c57",
        "colab": {
          "base_uri": "https://localhost:8080/",
          "height": 316
        }
      },
      "source": [
        "housing_df.describe()"
      ],
      "execution_count": null,
      "outputs": [
        {
          "output_type": "execute_result",
          "data": {
            "text/html": [
              "<div>\n",
              "<style scoped>\n",
              "    .dataframe tbody tr th:only-of-type {\n",
              "        vertical-align: middle;\n",
              "    }\n",
              "\n",
              "    .dataframe tbody tr th {\n",
              "        vertical-align: top;\n",
              "    }\n",
              "\n",
              "    .dataframe thead th {\n",
              "        text-align: right;\n",
              "    }\n",
              "</style>\n",
              "<table border=\"1\" class=\"dataframe\">\n",
              "  <thead>\n",
              "    <tr style=\"text-align: right;\">\n",
              "      <th></th>\n",
              "      <th>CRIM</th>\n",
              "      <th>ZN</th>\n",
              "      <th>INDUS</th>\n",
              "      <th>CHAS</th>\n",
              "      <th>NOX</th>\n",
              "      <th>RM</th>\n",
              "      <th>AGE</th>\n",
              "      <th>DIS</th>\n",
              "      <th>RAD</th>\n",
              "      <th>TAX</th>\n",
              "      <th>PTRATIO</th>\n",
              "      <th>B</th>\n",
              "      <th>LSTAT</th>\n",
              "      <th>Price</th>\n",
              "    </tr>\n",
              "  </thead>\n",
              "  <tbody>\n",
              "    <tr>\n",
              "      <th>count</th>\n",
              "      <td>506.000000</td>\n",
              "      <td>506.000000</td>\n",
              "      <td>506.000000</td>\n",
              "      <td>506.000000</td>\n",
              "      <td>506.000000</td>\n",
              "      <td>506.000000</td>\n",
              "      <td>506.000000</td>\n",
              "      <td>506.000000</td>\n",
              "      <td>506.000000</td>\n",
              "      <td>506.000000</td>\n",
              "      <td>506.000000</td>\n",
              "      <td>506.000000</td>\n",
              "      <td>506.000000</td>\n",
              "      <td>506.000000</td>\n",
              "    </tr>\n",
              "    <tr>\n",
              "      <th>mean</th>\n",
              "      <td>3.613524</td>\n",
              "      <td>11.363636</td>\n",
              "      <td>11.136779</td>\n",
              "      <td>0.069170</td>\n",
              "      <td>0.554695</td>\n",
              "      <td>6.284634</td>\n",
              "      <td>68.574901</td>\n",
              "      <td>3.795043</td>\n",
              "      <td>9.549407</td>\n",
              "      <td>408.237154</td>\n",
              "      <td>18.455534</td>\n",
              "      <td>356.674032</td>\n",
              "      <td>12.653063</td>\n",
              "      <td>22.532806</td>\n",
              "    </tr>\n",
              "    <tr>\n",
              "      <th>std</th>\n",
              "      <td>8.601545</td>\n",
              "      <td>23.322453</td>\n",
              "      <td>6.860353</td>\n",
              "      <td>0.253994</td>\n",
              "      <td>0.115878</td>\n",
              "      <td>0.702617</td>\n",
              "      <td>28.148861</td>\n",
              "      <td>2.105710</td>\n",
              "      <td>8.707259</td>\n",
              "      <td>168.537116</td>\n",
              "      <td>2.164946</td>\n",
              "      <td>91.294864</td>\n",
              "      <td>7.141062</td>\n",
              "      <td>9.197104</td>\n",
              "    </tr>\n",
              "    <tr>\n",
              "      <th>min</th>\n",
              "      <td>0.006320</td>\n",
              "      <td>0.000000</td>\n",
              "      <td>0.460000</td>\n",
              "      <td>0.000000</td>\n",
              "      <td>0.385000</td>\n",
              "      <td>3.561000</td>\n",
              "      <td>2.900000</td>\n",
              "      <td>1.129600</td>\n",
              "      <td>1.000000</td>\n",
              "      <td>187.000000</td>\n",
              "      <td>12.600000</td>\n",
              "      <td>0.320000</td>\n",
              "      <td>1.730000</td>\n",
              "      <td>5.000000</td>\n",
              "    </tr>\n",
              "    <tr>\n",
              "      <th>25%</th>\n",
              "      <td>0.082045</td>\n",
              "      <td>0.000000</td>\n",
              "      <td>5.190000</td>\n",
              "      <td>0.000000</td>\n",
              "      <td>0.449000</td>\n",
              "      <td>5.885500</td>\n",
              "      <td>45.025000</td>\n",
              "      <td>2.100175</td>\n",
              "      <td>4.000000</td>\n",
              "      <td>279.000000</td>\n",
              "      <td>17.400000</td>\n",
              "      <td>375.377500</td>\n",
              "      <td>6.950000</td>\n",
              "      <td>17.025000</td>\n",
              "    </tr>\n",
              "    <tr>\n",
              "      <th>50%</th>\n",
              "      <td>0.256510</td>\n",
              "      <td>0.000000</td>\n",
              "      <td>9.690000</td>\n",
              "      <td>0.000000</td>\n",
              "      <td>0.538000</td>\n",
              "      <td>6.208500</td>\n",
              "      <td>77.500000</td>\n",
              "      <td>3.207450</td>\n",
              "      <td>5.000000</td>\n",
              "      <td>330.000000</td>\n",
              "      <td>19.050000</td>\n",
              "      <td>391.440000</td>\n",
              "      <td>11.360000</td>\n",
              "      <td>21.200000</td>\n",
              "    </tr>\n",
              "    <tr>\n",
              "      <th>75%</th>\n",
              "      <td>3.677083</td>\n",
              "      <td>12.500000</td>\n",
              "      <td>18.100000</td>\n",
              "      <td>0.000000</td>\n",
              "      <td>0.624000</td>\n",
              "      <td>6.623500</td>\n",
              "      <td>94.075000</td>\n",
              "      <td>5.188425</td>\n",
              "      <td>24.000000</td>\n",
              "      <td>666.000000</td>\n",
              "      <td>20.200000</td>\n",
              "      <td>396.225000</td>\n",
              "      <td>16.955000</td>\n",
              "      <td>25.000000</td>\n",
              "    </tr>\n",
              "    <tr>\n",
              "      <th>max</th>\n",
              "      <td>88.976200</td>\n",
              "      <td>100.000000</td>\n",
              "      <td>27.740000</td>\n",
              "      <td>1.000000</td>\n",
              "      <td>0.871000</td>\n",
              "      <td>8.780000</td>\n",
              "      <td>100.000000</td>\n",
              "      <td>12.126500</td>\n",
              "      <td>24.000000</td>\n",
              "      <td>711.000000</td>\n",
              "      <td>22.000000</td>\n",
              "      <td>396.900000</td>\n",
              "      <td>37.970000</td>\n",
              "      <td>50.000000</td>\n",
              "    </tr>\n",
              "  </tbody>\n",
              "</table>\n",
              "</div>"
            ],
            "text/plain": [
              "             CRIM          ZN       INDUS  ...           B       LSTAT       Price\n",
              "count  506.000000  506.000000  506.000000  ...  506.000000  506.000000  506.000000\n",
              "mean     3.613524   11.363636   11.136779  ...  356.674032   12.653063   22.532806\n",
              "std      8.601545   23.322453    6.860353  ...   91.294864    7.141062    9.197104\n",
              "min      0.006320    0.000000    0.460000  ...    0.320000    1.730000    5.000000\n",
              "25%      0.082045    0.000000    5.190000  ...  375.377500    6.950000   17.025000\n",
              "50%      0.256510    0.000000    9.690000  ...  391.440000   11.360000   21.200000\n",
              "75%      3.677083   12.500000   18.100000  ...  396.225000   16.955000   25.000000\n",
              "max     88.976200  100.000000   27.740000  ...  396.900000   37.970000   50.000000\n",
              "\n",
              "[8 rows x 14 columns]"
            ]
          },
          "metadata": {
            "tags": []
          },
          "execution_count": 6
        }
      ]
    },
    {
      "cell_type": "code",
      "metadata": {
        "id": "XDXthgnJhFvP"
      },
      "source": [
        "y = housing_df['Price']\n",
        "X = housing_df.drop(columns=['Price'])"
      ],
      "execution_count": null,
      "outputs": []
    },
    {
      "cell_type": "markdown",
      "metadata": {
        "id": "aCI3StTUJvGe"
      },
      "source": [
        "Before we run Linear Regression we should know if we have multicolinearity, i.e., the features are heavily correlated."
      ]
    },
    {
      "cell_type": "code",
      "metadata": {
        "id": "ndUQKeEVI9Wd",
        "outputId": "01fdfc3f-a741-4aec-a9ae-ae264feb66ff",
        "colab": {
          "base_uri": "https://localhost:8080/",
          "height": 374
        }
      },
      "source": [
        "# Is the data correlated?\n",
        "corr_matrix = housing_df.corr()\n",
        "\n",
        "import seaborn as sn\n",
        "import matplotlib.pyplot as plt\n",
        "\n",
        "plt.figure(figsize=(15,8))\n",
        "sn.heatmap(corr_matrix, annot=True)\n",
        "plt.show()"
      ],
      "execution_count": null,
      "outputs": [
        {
          "output_type": "display_data",
          "data": {
            "image/png": "[encoded data removed]",
            "text/plain": [
              "<Figure size 1080x576 with 2 Axes>"
            ]
          },
          "metadata": {
            "tags": [],
            "needs_background": "light"
          }
        }
      ]
    },
    {
      "cell_type": "code",
      "metadata": {
        "id": "SaxuDbRzIFr2"
      },
      "source": [
        "from sklearn.decomposition import PCA\n",
        "\n",
        "pca = PCA(n_components=13)\n",
        "X2 = pca.fit_transform(X)"
      ],
      "execution_count": null,
      "outputs": []
    },
    {
      "cell_type": "code",
      "metadata": {
        "id": "MUHbCVTmpCUp"
      },
      "source": [
        "from sklearn.model_selection import train_test_split\n",
        "\n",
        "X_train, X_test, y_train, y_test = train_test_split(X2, y, test_size=0.4)"
      ],
      "execution_count": null,
      "outputs": []
    },
    {
      "cell_type": "code",
      "metadata": {
        "id": "Q32yCPOdzcpP",
        "outputId": "ad91ba23-7faf-4bc8-9a1b-39a86d4f0771",
        "colab": {
          "base_uri": "https://localhost:8080/",
          "height": 432
        }
      },
      "source": [
        "from sklearn.preprocessing import StandardScaler\n",
        "from sklearn.linear_model import LinearRegression\n",
        "from sklearn.metrics import accuracy_score, mean_absolute_error, mean_squared_error\n",
        "import matplotlib\n",
        "import matplotlib.pyplot as plt\n",
        "import numpy as np\n",
        "\n",
        "clf = LinearRegression()\n",
        "clf.fit(X_train, y_train)\n",
        "\n",
        "predictions = clf.predict(X_test)\n",
        "\n",
        "print(\"Score:\", clf.score(X_test, y_test))\n",
        "plt.figure(dpi=100)\n",
        "plt.scatter(y_test, predictions)\n",
        "\n",
        "# Different error measures\n",
        "print(\"MAE:\", mean_absolute_error(y_test, predictions))\n",
        "print('MSE:', mean_squared_error(y_test, predictions))\n",
        "print('RMSE:', np.sqrt(mean_squared_error(y_test, predictions)))\n",
        "\n",
        "\n"
      ],
      "execution_count": null,
      "outputs": [
        {
          "output_type": "stream",
          "text": [
            "Score: 0.7185533694126434\n",
            "MAE: 3.520355969133342\n",
            "MSE: 25.72293107880328\n",
            "RMSE: 5.071777901170681\n"
          ],
          "name": "stdout"
        },
        {
          "output_type": "display_data",
          "data": {
            "image/png": "[encoded data removed]",
            "text/plain": [
              "<Figure size 600x400 with 1 Axes>"
            ]
          },
          "metadata": {
            "tags": [],
            "needs_background": "light"
          }
        }
      ]
    },
    {
      "cell_type": "code",
      "metadata": {
        "id": "SStTo48sz5R1",
        "outputId": "e0d7a9bc-e385-4228-aeff-bf794408c724",
        "colab": {
          "base_uri": "https://localhost:8080/",
          "height": 468
        }
      },
      "source": [
        "print(clf.intercept_)\n",
        "print(clf.coef_)\n",
        "plt.figure(dpi=100)\n",
        "#plt.bar(housing_data.feature_names,clf.coef_)\n",
        "plt.bar(['c0','c1','c2','c3','c4','c5','c6','c7','c8','c9','c10','c11','c12'], clf.coef_)"
      ],
      "execution_count": null,
      "outputs": [
        {
          "output_type": "stream",
          "text": [
            "22.55932496378149\n",
            "[-2.46358139e-02 -1.33733301e-02  6.49370796e-02  4.40142345e-02\n",
            " -2.19074601e-01 -8.65832815e-01  1.84672852e-01 -3.88441961e-01\n",
            " -1.20058041e+00 -1.13606157e+00 -4.30099458e+00  3.47381198e+00\n",
            " -1.65511042e+01]\n"
          ],
          "name": "stdout"
        },
        {
          "output_type": "execute_result",
          "data": {
            "text/plain": [
              "<BarContainer object of 13 artists>"
            ]
          },
          "metadata": {
            "tags": []
          },
          "execution_count": 23
        },
        {
          "output_type": "display_data",
          "data": {
            "image/png": "[encoded data removed]",
            "text/plain": [
              "<Figure size 600x400 with 1 Axes>"
            ]
          },
          "metadata": {
            "tags": [],
            "needs_background": "light"
          }
        }
      ]
    },
    {
      "cell_type": "markdown",
      "metadata": {
        "id": "p23EP4kq9oQM"
      },
      "source": [
        "How about if we add normalization?\n"
      ]
    },
    {
      "cell_type": "code",
      "metadata": {
        "id": "Ht5iGVcn9y_E",
        "outputId": "bb721c2f-53ca-4f52-f707-b466a2b011a9",
        "colab": {
          "base_uri": "https://localhost:8080/",
          "height": 503
        }
      },
      "source": [
        "from sklearn.linear_model import Lasso\n",
        "\n",
        "clf = Lasso()\n",
        "clf.fit(X_train, y_train)\n",
        "\n",
        "predictions = clf.predict(X_test)\n",
        "\n",
        "print(\"Score:\", clf.score(X_test, y_test))\n",
        "\n",
        "# Different error measures\n",
        "print(\"MAE:\", mean_absolute_error(y_test, predictions))\n",
        "print('MSE:', mean_squared_error(y_test, predictions))\n",
        "print('RMSE:', np.sqrt(mean_squared_error(y_test, predictions)))\n",
        "\n",
        "print(clf.coef_)\n",
        "plt.figure(dpi=100)\n",
        "#plt.bar(housing_data.feature_names,clf.coef_)\n",
        "plt.bar(['c0','c1','c2','c3','c4','c5','c6','c7','c8','c9','c10','c11','c12'], clf.coef_)"
      ],
      "execution_count": null,
      "outputs": [
        {
          "output_type": "stream",
          "text": [
            "Score: 0.6424652163439284\n",
            "MAE: 3.858916954964473\n",
            "MSE: 32.67703926341878\n",
            "RMSE: 5.716383407664218\n",
            "[-0.02431104 -0.01365949  0.07035485  0.04358221 -0.18201984 -0.80485798\n",
            "  0.11004901 -0.31933467 -0.77594037 -0.44930727 -0.          0.\n",
            " -0.        ]\n"
          ],
          "name": "stdout"
        },
        {
          "output_type": "execute_result",
          "data": {
            "text/plain": [
              "<BarContainer object of 13 artists>"
            ]
          },
          "metadata": {
            "tags": []
          },
          "execution_count": 24
        },
        {
          "output_type": "display_data",
          "data": {
            "image/png": "[encoded data removed]",
            "text/plain": [
              "<Figure size 600x400 with 1 Axes>"
            ]
          },
          "metadata": {
            "tags": [],
            "needs_background": "light"
          }
        }
      ]
    },
    {
      "cell_type": "markdown",
      "metadata": {
        "id": "aEfafTZdNwWb"
      },
      "source": [
        "Now let's redo *without* PCA..."
      ]
    },
    {
      "cell_type": "code",
      "metadata": {
        "id": "Un1uH0kCNyVx"
      },
      "source": [
        "from sklearn.model_selection import train_test_split\n",
        "\n",
        "X_train, X_test, y_train, y_test = train_test_split(X, y, test_size=0.4)"
      ],
      "execution_count": null,
      "outputs": []
    },
    {
      "cell_type": "code",
      "metadata": {
        "id": "H4kz4LZ3N12M",
        "outputId": "645417fa-1a71-4a5c-93d2-8663ce54f4fc",
        "colab": {
          "base_uri": "https://localhost:8080/",
          "height": 432
        }
      },
      "source": [
        "from sklearn.preprocessing import StandardScaler\n",
        "from sklearn.linear_model import LinearRegression\n",
        "from sklearn.metrics import accuracy_score, mean_absolute_error, mean_squared_error\n",
        "import matplotlib\n",
        "import matplotlib.pyplot as plt\n",
        "import numpy as np\n",
        "\n",
        "clf = LinearRegression()\n",
        "clf.fit(X_train, y_train)\n",
        "\n",
        "predictions = clf.predict(X_test)\n",
        "\n",
        "print(\"Score:\", clf.score(X_test, y_test))\n",
        "plt.figure(dpi=100)\n",
        "plt.scatter(y_test, predictions)\n",
        "\n",
        "# Different error measures\n",
        "print(\"MAE:\", mean_absolute_error(y_test, predictions))\n",
        "print('MSE:', mean_squared_error(y_test, predictions))\n",
        "print('RMSE:', np.sqrt(mean_squared_error(y_test, predictions)))\n",
        "\n",
        "\n"
      ],
      "execution_count": null,
      "outputs": [
        {
          "output_type": "stream",
          "text": [
            "Score: 0.7039973526954314\n",
            "MAE: 3.8850271101736147\n",
            "MSE: 27.44455062296323\n",
            "RMSE: 5.238754682456817\n"
          ],
          "name": "stdout"
        },
        {
          "output_type": "display_data",
          "data": {
            "image/png": "[encoded data removed]",
            "text/plain": [
              "<Figure size 600x400 with 1 Axes>"
            ]
          },
          "metadata": {
            "tags": [],
            "needs_background": "light"
          }
        }
      ]
    },
    {
      "cell_type": "code",
      "metadata": {
        "id": "TXZYLhCVN6kA",
        "outputId": "98fb8eb5-69c5-4760-85df-bdfff3ca8f48",
        "colab": {
          "base_uri": "https://localhost:8080/",
          "height": 468
        }
      },
      "source": [
        "print(clf.intercept_)\n",
        "print(clf.coef_)\n",
        "plt.figure(dpi=100)\n",
        "plt.bar(housing_data.feature_names,clf.coef_)\n"
      ],
      "execution_count": null,
      "outputs": [
        {
          "output_type": "stream",
          "text": [
            "31.61429225336325\n",
            "[-1.10541239e-01  3.51445564e-02  1.44561402e-01  2.02887240e+00\n",
            " -2.08095051e+01  4.32311310e+00  7.53699914e-03 -1.39281311e+00\n",
            "  3.69336268e-01 -1.14637117e-02 -9.11523110e-01  1.08220661e-02\n",
            " -5.98570370e-01]\n"
          ],
          "name": "stdout"
        },
        {
          "output_type": "execute_result",
          "data": {
            "text/plain": [
              "<BarContainer object of 13 artists>"
            ]
          },
          "metadata": {
            "tags": []
          },
          "execution_count": 27
        },
        {
          "output_type": "display_data",
          "data": {
            "image/png": "[encoded data removed]",
            "text/plain": [
              "<Figure size 600x400 with 1 Axes>"
            ]
          },
          "metadata": {
            "tags": [],
            "needs_background": "light"
          }
        }
      ]
    },
    {
      "cell_type": "markdown",
      "metadata": {
        "id": "Q0K-7jfUOAb7"
      },
      "source": [
        "With Lasso / L1 regularization... Which we know isn't super helpful with multicollinearity..."
      ]
    },
    {
      "cell_type": "code",
      "metadata": {
        "id": "IxsjpBMnN-dh",
        "outputId": "9fab732c-93cf-4bc8-a2f6-b12a151ee28f",
        "colab": {
          "base_uri": "https://localhost:8080/",
          "height": 503
        }
      },
      "source": [
        "from sklearn.linear_model import Lasso\n",
        "\n",
        "clf = Lasso()\n",
        "clf.fit(X_train, y_train)\n",
        "\n",
        "predictions = clf.predict(X_test)\n",
        "\n",
        "print(\"Score:\", clf.score(X_test, y_test))\n",
        "\n",
        "# Different error measures\n",
        "print(\"MAE:\", mean_absolute_error(y_test, predictions))\n",
        "print('MSE:', mean_squared_error(y_test, predictions))\n",
        "print('RMSE:', np.sqrt(mean_squared_error(y_test, predictions)))\n",
        "\n",
        "print(clf.coef_)\n",
        "plt.figure(dpi=100)\n",
        "plt.bar(housing_data.feature_names,clf.coef_)"
      ],
      "execution_count": null,
      "outputs": [
        {
          "output_type": "stream",
          "text": [
            "Score: 0.6746267953503291\n",
            "MAE: 3.9463942028186754\n",
            "MSE: 30.16770784882722\n",
            "RMSE: 5.492513800513133\n",
            "[-0.07769588  0.03404854  0.          0.         -0.          0.95891901\n",
            "  0.02684725 -0.59352004  0.28840494 -0.01193397 -0.65828563  0.01052315\n",
            " -0.82363951]\n"
          ],
          "name": "stdout"
        },
        {
          "output_type": "execute_result",
          "data": {
            "text/plain": [
              "<BarContainer object of 13 artists>"
            ]
          },
          "metadata": {
            "tags": []
          },
          "execution_count": 29
        },
        {
          "output_type": "display_data",
          "data": {
            "image/png": "[encoded data removed]",
            "text/plain": [
              "<Figure size 600x400 with 1 Axes>"
            ]
          },
          "metadata": {
            "tags": [],
            "needs_background": "light"
          }
        }
      ]
    },
    {
      "cell_type": "markdown",
      "metadata": {
        "id": "-I2r57qDOL2Z"
      },
      "source": [
        "But ridge (L2) regression helps in this case!"
      ]
    },
    {
      "cell_type": "code",
      "metadata": {
        "id": "UqB2P2nL-Y3I",
        "outputId": "6db8696d-54b5-4633-bc2b-20657c8f9326",
        "colab": {
          "base_uri": "https://localhost:8080/",
          "height": 520
        }
      },
      "source": [
        "from sklearn.linear_model import Ridge\n",
        "\n",
        "clf = Ridge()\n",
        "clf.fit(X_train, y_train)\n",
        "\n",
        "predictions = clf.predict(X_test)\n",
        "\n",
        "print(\"Score:\", clf.score(X_test, y_test))\n",
        "\n",
        "# Different error measures\n",
        "print(\"MAE:\", mean_absolute_error(y_test, predictions))\n",
        "print('MSE:', mean_squared_error(y_test, predictions))\n",
        "print('RMSE:', np.sqrt(mean_squared_error(y_test, predictions)))\n",
        "\n",
        "print(clf.coef_)\n",
        "plt.figure(dpi=100)\n",
        "plt.bar(housing_data.feature_names,clf.coef_)"
      ],
      "execution_count": null,
      "outputs": [
        {
          "output_type": "stream",
          "text": [
            "Score: 0.7069601485241435\n",
            "MAE: 3.8124687894911458\n",
            "MSE: 27.169848349699695\n",
            "RMSE: 5.212470465115337\n",
            "[-1.01556440e-01  3.86026489e-02  9.50198697e-02  1.99681812e+00\n",
            " -1.00769807e+01  4.35212113e+00 -7.74464826e-04 -1.24105144e+00\n",
            "  3.40169656e-01 -1.21957779e-02 -7.82297266e-01  1.18711802e-02\n",
            " -6.13035619e-01]\n"
          ],
          "name": "stdout"
        },
        {
          "output_type": "execute_result",
          "data": {
            "text/plain": [
              "<BarContainer object of 13 artists>"
            ]
          },
          "metadata": {
            "tags": []
          },
          "execution_count": 30
        },
        {
          "output_type": "display_data",
          "data": {
            "image/png": "[encoded data removed]",
            "text/plain": [
              "<Figure size 600x400 with 1 Axes>"
            ]
          },
          "metadata": {
            "tags": [],
            "needs_background": "light"
          }
        }
      ]
    },
    {
      "cell_type": "markdown",
      "metadata": {
        "id": "RWngEXD70JDJ"
      },
      "source": []
    },
    {
      "cell_type": "code",
      "metadata": {
        "id": "Y9EgxQxt-o_5",
        "outputId": "61ee9d59-dc04-4bee-ad03-41877ad1be98",
        "colab": {
          "base_uri": "https://localhost:8080/",
          "height": 501
        }
      },
      "source": [
        "from sklearn.linear_model import ElasticNet\n",
        "\n",
        "\n",
        "clf = ElasticNet()\n",
        "clf.fit(X_train, y_train)\n",
        "\n",
        "predictions = clf.predict(X_test)\n",
        "\n",
        "print(\"Score:\", clf.score(X_test, y_test))\n",
        "\n",
        "# Different error measures\n",
        "print(\"MAE:\", mean_absolute_error(y_test, predictions))\n",
        "print('MSE:', mean_squared_error(y_test, predictions))\n",
        "print('RMSE:', np.sqrt(mean_squared_error(y_test, predictions)))\n",
        "\n",
        "print(clf.coef_)\n",
        "plt.figure(dpi=100)\n",
        "plt.bar(housing_data.feature_names,clf.coef_)"
      ],
      "execution_count": null,
      "outputs": [
        {
          "output_type": "stream",
          "text": [
            "Score: 0.6181546787010386\n",
            "MAE: 3.645832822848912\n",
            "MSE: 28.594649921907198\n",
            "RMSE: 5.347396555512523\n",
            "[-0.00566155  0.07735367 -0.07821781  0.         -0.          1.41008979\n",
            "  0.02606585 -0.82573693  0.25515817 -0.01731954 -0.56237368  0.00804697\n",
            " -0.71888293]\n"
          ],
          "name": "stdout"
        },
        {
          "output_type": "execute_result",
          "data": {
            "text/plain": [
              "<BarContainer object of 13 artists>"
            ]
          },
          "metadata": {
            "tags": []
          },
          "execution_count": 13
        },
        {
          "output_type": "display_data",
          "data": {
            "image/png": "[encoded data removed]",
            "text/plain": [
              "<Figure size 600x400 with 1 Axes>"
            ]
          },
          "metadata": {
            "tags": []
          }
        }
      ]
    },
    {
      "cell_type": "markdown",
      "metadata": {
        "id": "gFrsv5NUwLJg"
      },
      "source": [
        "## 3.3 Logistic Regression\n",
        "\n",
        "Logistic regression uses techniques from linear regression but tries to map to Boolean values.\n",
        "\n",
        "### 3.3.1 The Logistic Function\n",
        "\n",
        "Let's look at the **logit** or **logistic** function, also called the **sigmoid** function and indicated by $\\sigma$, which is \"near linear\" but flattens at 0 and 1.  Let's look at several variations, also vs a linear and step function..."
      ]
    },
    {
      "cell_type": "code",
      "metadata": {
        "id": "no7A4TIQLMH9",
        "outputId": "40216c09-b14e-4d51-fa0a-79d80bef4915",
        "colab": {
          "base_uri": "https://localhost:8080/",
          "height": 585
        }
      },
      "source": [
        "X = [x * 0.01 for x in range(-400,400)]\n",
        "\n",
        "def logit_1(x):\n",
        "  return 1 / (1 + np.exp(-2*x))\n",
        "\n",
        "def logit_2(x):\n",
        "  return 1 / (1 + np.exp(-x))\n",
        "\n",
        "def logit_3(x):\n",
        "  return 1 / (1 + np.exp(-(x * 0.5)))\n",
        "\n",
        "\n",
        "# Let's plot it\n",
        "fig, ax = plt.subplots(figsize=(8,8))\n",
        "ax.plot(X, [1 if x >= 0 else 0 for x in X], color='gray', label='x>=0')\n",
        "ax.plot(X, [x/8+0.5 for x in X], color='brown', label='x/8 + 1/2')\n",
        "ax.plot(X, [logit_1(x) for x in X], color='red', label='1/(1+exp(-2x))')\n",
        "ax.plot(X, [logit_2(x) for x in X], color='blue', label='1/(1+exp(-x))')\n",
        "ax.plot(X, [logit_3(x) for x in X], color='green', label='1/(1+exp(-x/2))')\n",
        "ax.set_title('Boolean step vs linear vs logistic functions',fontsize='xx-large')\n",
        "ax.set_xlim(-4, 4)\n",
        "ax.set_ylim(-0.1, 1.1)\n",
        "ax.legend(fontsize='x-large')\n",
        "plt.tight_layout()\n",
        "\n",
        "plt.show()\n"
      ],
      "execution_count": null,
      "outputs": [
        {
          "output_type": "display_data",
          "data": {
            "image/png": "[encoded data removed]",
            "text/plain": [
              "<Figure size 576x576 with 1 Axes>"
            ]
          },
          "metadata": {
            "tags": []
          }
        }
      ]
    },
    {
      "cell_type": "markdown",
      "metadata": {
        "id": "uqRAOal-A8UH"
      },
      "source": [
        "### 3.3.2 Using Logistic Regression in SciKit-Learn\n",
        "\n",
        "We can easily use a logistic regression classifier from SciKit to train and make predictions."
      ]
    },
    {
      "cell_type": "code",
      "metadata": {
        "id": "HApbtAnJ5LHu",
        "outputId": "e870a166-9a70-4a43-8ea8-18c0c9745de5",
        "colab": {
          "base_uri": "https://localhost:8080/",
          "height": 34
        }
      },
      "source": [
        "from sklearn.linear_model import LogisticRegression\n",
        "\n",
        "from sklearn.datasets import load_wine\n",
        "\n",
        "dataset = load_wine()\n",
        "dataset.feature_names\n",
        "\n",
        "from sklearn.model_selection import train_test_split\n",
        "import sklearn.metrics\n",
        "\n",
        "X_train, X_test, y_train, y_test = train_test_split(dataset.data, \\\n",
        "                                                    dataset.target, \\\n",
        "                                                    test_size=0.40)\n",
        "\n",
        "clf = LogisticRegression(max_iter=10000)\n",
        "clf.fit(X_train,y_train)\n",
        "prediction = clf.predict(X_test)\n",
        "\n",
        "accuracy = sklearn.metrics.accuracy_score(prediction,y_test)\n",
        "print(\"Accuracy: %.1f%%\"% (accuracy*100))"
      ],
      "execution_count": null,
      "outputs": [
        {
          "output_type": "stream",
          "text": [
            "Accuracy: 94.4%\n"
          ],
          "name": "stdout"
        }
      ]
    },
    {
      "cell_type": "code",
      "metadata": {
        "id": "xXLub9yyBGm5",
        "outputId": "3c3f1cc5-36de-4e77-ab03-e375d4cf6d5c",
        "colab": {
          "base_uri": "https://localhost:8080/",
          "height": 170
        }
      },
      "source": [
        "print(clf.coef_, clf.intercept_)"
      ],
      "execution_count": null,
      "outputs": [
        {
          "output_type": "stream",
          "text": [
            "[[ 0.37267126  0.51652045  0.23108832 -0.13842391  0.03966274  0.26451135\n",
            "   0.62364518  0.02192541  0.01903155  0.19678096  0.02322726  0.41110478\n",
            "   0.01088526]\n",
            " [-0.70377242 -0.80346263 -0.26454628 -0.0414934  -0.01386839  0.00318437\n",
            "   0.27249671 -0.09049248  0.26532123 -1.13045252  0.11383007  0.13944012\n",
            "  -0.00906274]\n",
            " [ 0.33110116  0.28694218  0.03345797  0.17991731 -0.02579435 -0.26769572\n",
            "  -0.8961419   0.06856707 -0.28435278  0.93367156 -0.13705733 -0.5505449\n",
            "  -0.00182252]] [-19.92246934  24.50216487  -4.57969553]\n"
          ],
          "name": "stdout"
        }
      ]
    },
    {
      "cell_type": "markdown",
      "metadata": {
        "id": "5IzGg6I9p2rE"
      },
      "source": [
        "### 3.3.3 Introducing SciKit-Learn Pipelines\n",
        "\n",
        "Often we need to do sequences of transformations on our data.  SciKit-Learn allows us to capture this using a *pipeline* of operations."
      ]
    },
    {
      "cell_type": "code",
      "metadata": {
        "id": "ULBwk84pp15N",
        "outputId": "fbf87b50-4443-4910-dcf4-5d1bd5a4fbad",
        "colab": {
          "base_uri": "https://localhost:8080/",
          "height": 34
        }
      },
      "source": [
        "from sklearn.pipeline import Pipeline\n",
        "from sklearn.preprocessing import StandardScaler\n",
        "from sklearn.decomposition import PCA\n",
        "\n",
        "scl = StandardScaler()\n",
        "\n",
        "pca = PCA()\n",
        "\n",
        "clf = LogisticRegression(max_iter=10000, penalty='l2')\n",
        "\n",
        "pipe = Pipeline(steps=[('Scale',scl),('PCA',pca),('LogReg',clf)])\n",
        "\n",
        "pipe.fit(X_train,y_train)\n",
        "\n",
        "prediction = pipe.predict(X_test)\n",
        "\n",
        "accuracy = sklearn.metrics.accuracy_score(prediction,y_test)\n",
        "print(\"Accuracy: %.1f%%\"% (accuracy*100))"
      ],
      "execution_count": null,
      "outputs": [
        {
          "output_type": "stream",
          "text": [
            "Accuracy: 95.8%\n"
          ],
          "name": "stdout"
        }
      ]
    },
    {
      "cell_type": "markdown",
      "metadata": {
        "id": "-o1EeJKtcP95"
      },
      "source": [
        "### 3.3.3 Logistic Regression for Big Data"
      ]
    },
    {
      "cell_type": "code",
      "metadata": {
        "id": "wdlWrjMOchJh",
        "outputId": "5002903c-8fd6-4144-aab1-6c6829d157fa",
        "colab": {
          "base_uri": "https://localhost:8080/",
          "height": 1000
        }
      },
      "source": [
        "!apt install libkrb5-dev\n",
        "!pip install sparkmagic"
      ],
      "execution_count": null,
      "outputs": [
        {
          "output_type": "stream",
          "text": [
            "\rReading package lists... 0%\r\rReading package lists... 0%\r\rReading package lists... 0%\r\rReading package lists... 7%\r\rReading package lists... 7%\r\rReading package lists... 7%\r\rReading package lists... 7%\r\rReading package lists... 53%\r\rReading package lists... 64%\r\rReading package lists... 64%\r\rReading package lists... 65%\r\rReading package lists... 65%\r\rReading package lists... 72%\r\rReading package lists... 72%\r\rReading package lists... 72%\r\rReading package lists... 72%\r\rReading package lists... 81%\r\rReading package lists... 81%\r\rReading package lists... 81%\r\rReading package lists... 81%\r\rReading package lists... 81%\r\rReading package lists... 81%\r\rReading package lists... 81%\r\rReading package lists... 81%\r\rReading package lists... 87%\r\rReading package lists... 87%\r\rReading package lists... 87%\r\rReading package lists... 87%\r\rReading package lists... 93%\r\rReading package lists... 93%\r\rReading package lists... 93%\r\rReading package lists... 93%\r\rReading package lists... 93%\r\rReading package lists... 93%\r\rReading package lists... 94%\r\rReading package lists... 94%\r\rReading package lists... 95%\r\rReading package lists... 95%\r\rReading package lists... 98%\r\rReading package lists... 98%\r\rReading package lists... 98%\r\rReading package lists... 98%\r\rReading package lists... Done\r\n",
            "\rBuilding dependency tree... 0%\r\rBuilding dependency tree... 0%\r\rBuilding dependency tree... 50%\r\rBuilding dependency tree... 50%\r\rBuilding dependency tree... 62%\r\rBuilding dependency tree       \r\n",
            "\rReading state information... 0%\r\rReading state information... 0%\r\rReading state information... Done\r\n",
            "The following additional packages will be installed:\n",
            "  comerr-dev krb5-multidev libcom-err2 libgssrpc4 libkadm5clnt-mit11\n",
            "  libkadm5srv-mit11 libkdb5-9\n",
            "Suggested packages:\n",
            "  doc-base krb5-doc krb5-user\n",
            "The following NEW packages will be installed:\n",
            "  comerr-dev krb5-multidev libgssrpc4 libkadm5clnt-mit11 libkadm5srv-mit11\n",
            "  libkdb5-9 libkrb5-dev\n",
            "The following packages will be upgraded:\n",
            "  libcom-err2\n",
            "1 upgraded, 7 newly installed, 0 to remove and 24 not upgraded.\n",
            "Need to get 358 kB of archives.\n",
            "After this operation, 1,992 kB of additional disk space will be used.\n",
            "\u001b[33m\r0% [Working]\u001b[0m\r            \rGet:1 http://archive.ubuntu.com/ubuntu bionic-updates/main amd64 libcom-err2 amd64 1.44.1-1ubuntu1.3 [8,848 B]\n",
            "\u001b[33m\r0% [1 libcom-err2 0 B/8,848 B 0%]\u001b[0m\u001b[33m\r                                 \r4% [Working]\u001b[0m\r            \rGet:2 http://archive.ubuntu.com/ubuntu bionic-updates/main amd64 libgssrpc4 amd64 1.16-2ubuntu0.1 [54.2 kB]\n",
            "\u001b[33m\r4% [2 libgssrpc4 0 B/54.2 kB 0%]\u001b[0m\u001b[33m\r                                \r19% [Working]\u001b[0m\r             \rGet:3 http://archive.ubuntu.com/ubuntu bionic-updates/main amd64 libkdb5-9 amd64 1.16-2ubuntu0.1 [37.2 kB]\n",
            "\u001b[33m\r19% [3 libkdb5-9 0 B/37.2 kB 0%]\u001b[0m\u001b[33m\r                                \r30% [Working]\u001b[0m\r             \rGet:4 http://archive.ubuntu.com/ubuntu bionic-updates/main amd64 libkadm5srv-mit11 amd64 1.16-2ubuntu0.1 [49.7 kB]\n",
            "\u001b[33m\r30% [4 libkadm5srv-mit11 0 B/49.7 kB 0%]\u001b[0m\u001b[33m\r                                        \r44% [Working]\u001b[0m\r             \rGet:5 http://archive.ubuntu.com/ubuntu bionic-updates/main amd64 libkadm5clnt-mit11 amd64 1.16-2ubuntu0.1 [38.2 kB]\n",
            "\u001b[33m\r44% [5 libkadm5clnt-mit11 0 B/38.2 kB 0%]\u001b[0m\u001b[33m\r                                         \r55% [Working]\u001b[0m\r             \rGet:6 http://archive.ubuntu.com/ubuntu bionic-updates/main amd64 comerr-dev amd64 2.1-1.44.1-1ubuntu1.3 [38.5 kB]\n",
            "\u001b[33m\r55% [6 comerr-dev 0 B/38.5 kB 0%]\u001b[0m\u001b[33m\r                                 \r66% [Working]\u001b[0m\r             \rGet:7 http://archive.ubuntu.com/ubuntu bionic-updates/main amd64 krb5-multidev amd64 1.16-2ubuntu0.1 [120 kB]\n",
            "\u001b[33m\r66% [7 krb5-multidev 0 B/120 kB 0%]\u001b[0m\u001b[33m\r                                   \r95% [Working]\u001b[0m\r             \rGet:8 http://archive.ubuntu.com/ubuntu bionic-updates/main amd64 libkrb5-dev amd64 1.16-2ubuntu0.1 [11.8 kB]\n",
            "Fetched 358 kB in 1s (482 kB/s)\n",
            "(Reading database ... 133872 files and directories currently installed.)\n",
            "Preparing to unpack .../libcom-err2_1.44.1-1ubuntu1.3_amd64.deb ...\n",
            "Unpacking libcom-err2:amd64 (1.44.1-1ubuntu1.3) over (1.44.1-1ubuntu1.2) ...\n",
            "Setting up libcom-err2:amd64 (1.44.1-1ubuntu1.3) ...\n",
            "Selecting previously unselected package libgssrpc4:amd64.\n",
            "(Reading database ... 133872 files and directories currently installed.)\n",
            "Preparing to unpack .../0-libgssrpc4_1.16-2ubuntu0.1_amd64.deb ...\n",
            "Unpacking libgssrpc4:amd64 (1.16-2ubuntu0.1) ...\n",
            "Selecting previously unselected package libkdb5-9:amd64.\n",
            "Preparing to unpack .../1-libkdb5-9_1.16-2ubuntu0.1_amd64.deb ...\n",
            "Unpacking libkdb5-9:amd64 (1.16-2ubuntu0.1) ...\n",
            "Selecting previously unselected package libkadm5srv-mit11:amd64.\n",
            "Preparing to unpack .../2-libkadm5srv-mit11_1.16-2ubuntu0.1_amd64.deb ...\n",
            "Unpacking libkadm5srv-mit11:amd64 (1.16-2ubuntu0.1) ...\n",
            "Selecting previously unselected package libkadm5clnt-mit11:amd64.\n",
            "Preparing to unpack .../3-libkadm5clnt-mit11_1.16-2ubuntu0.1_amd64.deb ...\n",
            "Unpacking libkadm5clnt-mit11:amd64 (1.16-2ubuntu0.1) ...\n",
            "Selecting previously unselected package comerr-dev:amd64.\n",
            "Preparing to unpack .../4-comerr-dev_2.1-1.44.1-1ubuntu1.3_amd64.deb ...\n",
            "Unpacking comerr-dev:amd64 (2.1-1.44.1-1ubuntu1.3) ...\n",
            "Selecting previously unselected package krb5-multidev:amd64.\n",
            "Preparing to unpack .../5-krb5-multidev_1.16-2ubuntu0.1_amd64.deb ...\n",
            "Unpacking krb5-multidev:amd64 (1.16-2ubuntu0.1) ...\n",
            "Selecting previously unselected package libkrb5-dev:amd64.\n",
            "Preparing to unpack .../6-libkrb5-dev_1.16-2ubuntu0.1_amd64.deb ...\n",
            "Unpacking libkrb5-dev:amd64 (1.16-2ubuntu0.1) ...\n",
            "Setting up libgssrpc4:amd64 (1.16-2ubuntu0.1) ...\n",
            "Setting up comerr-dev:amd64 (2.1-1.44.1-1ubuntu1.3) ...\n",
            "Setting up libkdb5-9:amd64 (1.16-2ubuntu0.1) ...\n",
            "Setting up libkadm5srv-mit11:amd64 (1.16-2ubuntu0.1) ...\n",
            "Setting up libkadm5clnt-mit11:amd64 (1.16-2ubuntu0.1) ...\n",
            "Setting up krb5-multidev:amd64 (1.16-2ubuntu0.1) ...\n",
            "Setting up libkrb5-dev:amd64 (1.16-2ubuntu0.1) ...\n",
            "Processing triggers for man-db (2.8.3-2ubuntu0.1) ...\n",
            "Processing triggers for libc-bin (2.27-3ubuntu1) ...\n",
            "/sbin/ldconfig.real: /usr/local/lib/python3.6/dist-packages/ideep4py/lib/libmkldnn.so.0 is not a symbolic link\n",
            "\n",
            "Collecting sparkmagic\n",
            "  Downloading https://files.pythonhosted.org/packages/eb/f3/458361eec01b7c1fb5aaa1b28a2e24b22167f577c2ab83d12b365a98be75/sparkmagic-0.15.0.tar.gz\n",
            "Collecting hdijupyterutils>=0.6\n",
            "  Downloading https://files.pythonhosted.org/packages/a9/b9/4daa0d8319a9e9101d6d6c8af1f5b1e87178542a70995a4ff2611005cc98/hdijupyterutils-0.15.0.tar.gz\n",
            "Collecting autovizwidget>=0.6\n",
            "  Downloading https://files.pythonhosted.org/packages/17/bb/d7d725dc3288354c4431dbf53aa40d0014379ec9a45475805f62436573ec/autovizwidget-0.15.0.tar.gz\n",
            "Requirement already satisfied: ipython>=4.0.2 in /usr/local/lib/python3.6/dist-packages (from sparkmagic) (5.5.0)\n",
            "Collecting nose\n",
            "\u001b[?25l  Downloading https://files.pythonhosted.org/packages/15/d8/dd071918c040f50fa1cf80da16423af51ff8ce4a0f2399b7bf8de45ac3d9/nose-1.3.7-py3-none-any.whl (154kB)\n",
            "\u001b[K     |████████████████████████████████| 163kB 8.1MB/s \n",
            "\u001b[?25hCollecting mock\n",
            "  Downloading https://files.pythonhosted.org/packages/cd/74/d72daf8dff5b6566db857cfd088907bb0355f5dd2914c4b3ef065c790735/mock-4.0.2-py3-none-any.whl\n",
            "Requirement already satisfied: pandas>=0.17.1 in /usr/local/lib/python3.6/dist-packages (from sparkmagic) (1.0.3)\n",
            "Requirement already satisfied: numpy in /usr/local/lib/python3.6/dist-packages (from sparkmagic) (1.18.2)\n",
            "Requirement already satisfied: requests in /usr/local/lib/python3.6/dist-packages (from sparkmagic) (2.21.0)\n",
            "Requirement already satisfied: ipykernel in /usr/local/lib/python3.6/dist-packages (from sparkmagic) (4.6.1)\n",
            "Requirement already satisfied: ipywidgets>5.0.0 in /usr/local/lib/python3.6/dist-packages (from sparkmagic) (7.5.1)\n",
            "Requirement already satisfied: notebook>=4.2 in /usr/local/lib/python3.6/dist-packages (from sparkmagic) (5.2.2)\n",
            "Requirement already satisfied: tornado>=4 in /usr/local/lib/python3.6/dist-packages (from sparkmagic) (4.5.3)\n",
            "Collecting requests_kerberos>=0.8.0\n",
            "  Downloading https://files.pythonhosted.org/packages/ee/a2/866f2b9a60f75055137b9ad127033e397963b2c4769d4b5fab1c3c7e8be3/requests_kerberos-0.12.0-py2.py3-none-any.whl\n",
            "Requirement already satisfied: jupyter>=1 in /usr/local/lib/python3.6/dist-packages (from hdijupyterutils>=0.6->sparkmagic) (1.0.0)\n",
            "Requirement already satisfied: plotly>=3 in /usr/local/lib/python3.6/dist-packages (from autovizwidget>=0.6->sparkmagic) (4.4.1)\n",
            "Requirement already satisfied: setuptools>=18.5 in /usr/local/lib/python3.6/dist-packages (from ipython>=4.0.2->sparkmagic) (46.0.0)\n",
            "Requirement already satisfied: simplegeneric>0.8 in /usr/local/lib/python3.6/dist-packages (from ipython>=4.0.2->sparkmagic) (0.8.1)\n",
            "Requirement already satisfied: pygments in /usr/local/lib/python3.6/dist-packages (from ipython>=4.0.2->sparkmagic) (2.1.3)\n",
            "Requirement already satisfied: decorator in /usr/local/lib/python3.6/dist-packages (from ipython>=4.0.2->sparkmagic) (4.4.2)\n",
            "Requirement already satisfied: prompt-toolkit<2.0.0,>=1.0.4 in /usr/local/lib/python3.6/dist-packages (from ipython>=4.0.2->sparkmagic) (1.0.18)\n",
            "Requirement already satisfied: traitlets>=4.2 in /usr/local/lib/python3.6/dist-packages (from ipython>=4.0.2->sparkmagic) (4.3.3)\n",
            "Requirement already satisfied: pexpect; sys_platform != \"win32\" in /usr/local/lib/python3.6/dist-packages (from ipython>=4.0.2->sparkmagic) (4.8.0)\n",
            "Requirement already satisfied: pickleshare in /usr/local/lib/python3.6/dist-packages (from ipython>=4.0.2->sparkmagic) (0.7.5)\n",
            "Requirement already satisfied: pytz>=2017.2 in /usr/local/lib/python3.6/dist-packages (from pandas>=0.17.1->sparkmagic) (2018.9)\n",
            "Requirement already satisfied: python-dateutil>=2.6.1 in /usr/local/lib/python3.6/dist-packages (from pandas>=0.17.1->sparkmagic) (2.8.1)\n",
            "Requirement already satisfied: chardet<3.1.0,>=3.0.2 in /usr/local/lib/python3.6/dist-packages (from requests->sparkmagic) (3.0.4)\n",
            "Requirement already satisfied: idna<2.9,>=2.5 in /usr/local/lib/python3.6/dist-packages (from requests->sparkmagic) (2.8)\n",
            "Requirement already satisfied: certifi>=2017.4.17 in /usr/local/lib/python3.6/dist-packages (from requests->sparkmagic) (2019.11.28)\n",
            "Requirement already satisfied: urllib3<1.25,>=1.21.1 in /usr/local/lib/python3.6/dist-packages (from requests->sparkmagic) (1.24.3)\n",
            "Requirement already satisfied: jupyter-client in /usr/local/lib/python3.6/dist-packages (from ipykernel->sparkmagic) (5.3.4)\n",
            "Requirement already satisfied: nbformat>=4.2.0 in /usr/local/lib/python3.6/dist-packages (from ipywidgets>5.0.0->sparkmagic) (5.0.4)\n",
            "Requirement already satisfied: widgetsnbextension~=3.5.0 in /usr/local/lib/python3.6/dist-packages (from ipywidgets>5.0.0->sparkmagic) (3.5.1)\n",
            "Requirement already satisfied: jinja2 in /usr/local/lib/python3.6/dist-packages (from notebook>=4.2->sparkmagic) (2.11.1)\n",
            "Requirement already satisfied: jupyter-core in /usr/local/lib/python3.6/dist-packages (from notebook>=4.2->sparkmagic) (4.6.3)\n",
            "Requirement already satisfied: ipython-genutils in /usr/local/lib/python3.6/dist-packages (from notebook>=4.2->sparkmagic) (0.2.0)\n",
            "Requirement already satisfied: nbconvert in /usr/local/lib/python3.6/dist-packages (from notebook>=4.2->sparkmagic) (5.6.1)\n",
            "Requirement already satisfied: terminado>=0.3.3; sys_platform != \"win32\" in /usr/local/lib/python3.6/dist-packages (from notebook>=4.2->sparkmagic) (0.8.3)\n",
            "Collecting cryptography>=1.3; python_version != \"3.3\"\n",
            "\u001b[?25l  Downloading https://files.pythonhosted.org/packages/ca/9a/7cece52c46546e214e10811b36b2da52ce1ea7fa203203a629b8dfadad53/cryptography-2.8-cp34-abi3-manylinux2010_x86_64.whl (2.3MB)\n",
            "\u001b[K     |████████████████████████████████| 2.3MB 43.7MB/s \n",
            "\u001b[?25hCollecting pykerberos<2.0.0,>=1.1.8; sys_platform != \"win32\"\n",
            "  Downloading https://files.pythonhosted.org/packages/9a/b8/1ec56b6fa8a2e2a81420bd3d90e70b59fc83f6b857fb2c2c37accddc8be3/pykerberos-1.2.1.tar.gz\n",
            "Requirement already satisfied: jupyter-console in /usr/local/lib/python3.6/dist-packages (from jupyter>=1->hdijupyterutils>=0.6->sparkmagic) (5.2.0)\n",
            "Requirement already satisfied: qtconsole in /usr/local/lib/python3.6/dist-packages (from jupyter>=1->hdijupyterutils>=0.6->sparkmagic) (4.7.2)\n",
            "Requirement already satisfied: retrying>=1.3.3 in /usr/local/lib/python3.6/dist-packages (from plotly>=3->autovizwidget>=0.6->sparkmagic) (1.3.3)\n",
            "Requirement already satisfied: six in /usr/local/lib/python3.6/dist-packages (from plotly>=3->autovizwidget>=0.6->sparkmagic) (1.12.0)\n",
            "Requirement already satisfied: wcwidth in /usr/local/lib/python3.6/dist-packages (from prompt-toolkit<2.0.0,>=1.0.4->ipython>=4.0.2->sparkmagic) (0.1.9)\n",
            "Requirement already satisfied: ptyprocess>=0.5 in /usr/local/lib/python3.6/dist-packages (from pexpect; sys_platform != \"win32\"->ipython>=4.0.2->sparkmagic) (0.6.0)\n",
            "Requirement already satisfied: pyzmq>=13 in /usr/local/lib/python3.6/dist-packages (from jupyter-client->ipykernel->sparkmagic) (17.0.0)\n",
            "Requirement already satisfied: jsonschema!=2.5.0,>=2.4 in /usr/local/lib/python3.6/dist-packages (from nbformat>=4.2.0->ipywidgets>5.0.0->sparkmagic) (2.6.0)\n",
            "Requirement already satisfied: MarkupSafe>=0.23 in /usr/local/lib/python3.6/dist-packages (from jinja2->notebook>=4.2->sparkmagic) (1.1.1)\n",
            "Requirement already satisfied: bleach in /usr/local/lib/python3.6/dist-packages (from nbconvert->notebook>=4.2->sparkmagic) (3.1.4)\n",
            "Requirement already satisfied: entrypoints>=0.2.2 in /usr/local/lib/python3.6/dist-packages (from nbconvert->notebook>=4.2->sparkmagic) (0.3)\n",
            "Requirement already satisfied: mistune<2,>=0.8.1 in /usr/local/lib/python3.6/dist-packages (from nbconvert->notebook>=4.2->sparkmagic) (0.8.4)\n",
            "Requirement already satisfied: defusedxml in /usr/local/lib/python3.6/dist-packages (from nbconvert->notebook>=4.2->sparkmagic) (0.6.0)\n",
            "Requirement already satisfied: pandocfilters>=1.4.1 in /usr/local/lib/python3.6/dist-packages (from nbconvert->notebook>=4.2->sparkmagic) (1.4.2)\n",
            "Requirement already satisfied: testpath in /usr/local/lib/python3.6/dist-packages (from nbconvert->notebook>=4.2->sparkmagic) (0.4.4)\n",
            "Requirement already satisfied: cffi!=1.11.3,>=1.8 in /usr/local/lib/python3.6/dist-packages (from cryptography>=1.3; python_version != \"3.3\"->requests_kerberos>=0.8.0->sparkmagic) (1.14.0)\n",
            "Requirement already satisfied: qtpy in /usr/local/lib/python3.6/dist-packages (from qtconsole->jupyter>=1->hdijupyterutils>=0.6->sparkmagic) (1.9.0)\n",
            "Requirement already satisfied: webencodings in /usr/local/lib/python3.6/dist-packages (from bleach->nbconvert->notebook>=4.2->sparkmagic) (0.5.1)\n",
            "Requirement already satisfied: pycparser in /usr/local/lib/python3.6/dist-packages (from cffi!=1.11.3,>=1.8->cryptography>=1.3; python_version != \"3.3\"->requests_kerberos>=0.8.0->sparkmagic) (2.20)\n",
            "Building wheels for collected packages: sparkmagic, hdijupyterutils, autovizwidget, pykerberos\n",
            "  Building wheel for sparkmagic (setup.py) ... \u001b[?25l\u001b[?25hdone\n",
            "  Created wheel for sparkmagic: filename=sparkmagic-0.15.0-cp36-none-any.whl size=57176 sha256=a27202a4de9b16bc310ca9ad4b30e0c572a87c9a46d52444dc89b48a5ac7bd67\n",
            "  Stored in directory: /root/.cache/pip/wheels/b6/42/21/575eb221b00c86d1e4ca0b8e6916df1b9948f30383680cde14\n",
            "  Building wheel for hdijupyterutils (setup.py) ... \u001b[?25l\u001b[?25hdone\n",
            "  Created wheel for hdijupyterutils: filename=hdijupyterutils-0.15.0-cp36-none-any.whl size=7667 sha256=6813c0659b87be59c11b6774352d8a45d005f5a92708d490444cbe8f4073025e\n",
            "  Stored in directory: /root/.cache/pip/wheels/7e/f0/ad/29b0902eb1384bf2691d6baa61f2cfce35f2370058e8c732cc\n",
            "  Building wheel for autovizwidget (setup.py) ... \u001b[?25l\u001b[?25hdone\n",
            "  Created wheel for autovizwidget: filename=autovizwidget-0.15.0-cp36-none-any.whl size=14547 sha256=4d558b86d58cb389eb7502dce1b392096245ec232def0874df5d5227af77c5ce\n",
            "  Stored in directory: /root/.cache/pip/wheels/c8/09/b3/7851bdad56450e74338735e062864eb8f74fea8517d31f9d0b\n",
            "  Building wheel for pykerberos (setup.py) ... \u001b[?25l\u001b[?25hdone\n",
            "  Created wheel for pykerberos: filename=pykerberos-1.2.1-cp36-cp36m-linux_x86_64.whl size=68610 sha256=4e1b7cc671afb33f7227ae7de4094a7aa8ccd13e3023f3e2f12e42ef013f8603\n",
            "  Stored in directory: /root/.cache/pip/wheels/c7/a7/07/d414c22754acf5822ccce48b41822142974ec103057c8305e7\n",
            "Successfully built sparkmagic hdijupyterutils autovizwidget pykerberos\n",
            "Installing collected packages: nose, mock, hdijupyterutils, autovizwidget, cryptography, pykerberos, requests-kerberos, sparkmagic\n",
            "Successfully installed autovizwidget-0.15.0 cryptography-2.8 hdijupyterutils-0.15.0 mock-4.0.2 nose-1.3.7 pykerberos-1.2.1 requests-kerberos-0.12.0 sparkmagic-0.15.0\n"
          ],
          "name": "stdout"
        }
      ]
    },
    {
      "cell_type": "code",
      "metadata": {
        "id": "Kqi8gU3EciAW"
      },
      "source": [
        "%load_ext sparkmagic.magics"
      ],
      "execution_count": null,
      "outputs": []
    },
    {
      "cell_type": "code",
      "metadata": {
        "id": "IL-5Evv7cnwB",
        "outputId": "8e391052-7b48-4431-9778-8037c895f918",
        "colab": {
          "base_uri": "https://localhost:8080/",
          "height": 95,
          "referenced_widgets": [
            "2572f92466c549519429859cfe35e4f4",
            "167531a1cd414d069afaed57cd2d9743",
            "3eb3e3e7c47f427d8271f74411cdd6bd"
          ]
        }
      },
      "source": [
        "%spark add -s my_session -l python -u http://ec2-3-91-74-45.compute-1.amazonaws.com:8998\n",
        "# The above can connect to an EMR node running Spark + Livy, assuming the firewall is set to let anyone in"
      ],
      "execution_count": null,
      "outputs": [
        {
          "output_type": "stream",
          "text": [
            "Starting Spark application\n"
          ],
          "name": "stdout"
        },
        {
          "output_type": "display_data",
          "data": {
            "text/html": [
              "<table>\n",
              "<tr><th>ID</th><th>YARN Application ID</th><th>Kind</th><th>State</th><th>Spark UI</th><th>Driver log</th><th>Current session?</th></tr><tr><td>87</td><td>application_1581350900124_0088</td><td>pyspark</td><td>idle</td><td><a target=\"_blank\" href=\"http://ip-172-31-42-75.ec2.internal:20888/proxy/application_1581350900124_0088/\">Link</a></td><td><a target=\"_blank\" href=\"http://ip-172-31-40-232.ec2.internal:8042/node/containerlogs/container_1581350900124_0088_01_000001/livy\">Link</a></td><td>✔</td></tr></table>"
            ],
            "text/plain": [
              "<IPython.core.display.HTML object>"
            ]
          },
          "metadata": {
            "tags": []
          }
        },
        {
          "output_type": "display_data",
          "data": {
            "application/vnd.jupyter.widget-view+json": {
              "model_id": "2572f92466c549519429859cfe35e4f4",
              "version_minor": 0,
              "version_major": 2
            },
            "text/plain": [
              "FloatProgress(value=0.0, bar_style='info', description='Progress:', layout=Layout(height='25px', width='50%'),…"
            ]
          },
          "metadata": {
            "tags": []
          }
        },
        {
          "output_type": "stream",
          "text": [
            "SparkSession available as 'spark'.\n"
          ],
          "name": "stdout"
        }
      ]
    },
    {
      "cell_type": "code",
      "metadata": {
        "id": "vjkst7_rcqKA",
        "outputId": "eb0b6f25-f636-45ae-b70f-359fe550c74e",
        "colab": {
          "base_uri": "https://localhost:8080/",
          "height": 445,
          "referenced_widgets": [
            "cd3403850c164196a3d10df7cad1d69b",
            "503a919269704658a16409fe5b30772c",
            "7684b9f9774c478c9d88a19fc7241721"
          ]
        }
      },
      "source": [
        "%%spark\n",
        "\n",
        "import pandas as pd\n",
        "import numpy as np\n",
        "from sklearn.datasets import load_wine\n",
        "from pyspark.ml.feature import OneHotEncoderEstimator, StringIndexer, VectorAssembler\n",
        "from pyspark.ml.feature import StandardScaler\n",
        "from pyspark.sql.types import StringType, IntegerType, DoubleType, StructField, StructType, ArrayType, MapType\n",
        "\n",
        "dataset = load_wine()\n",
        "# ID,RefractiveIndex,Na,Mg,Al,Si,K,Ca,Ba,Fe,Type\n",
        "schema = StructType([\n",
        "        StructField(\"alcohol\", DoubleType(), True),\n",
        "        StructField(\"malic_acid\", DoubleType(), True),\n",
        "        StructField(\"ash\", DoubleType(), True),\n",
        "        StructField(\"alcalinity_of_ash\", DoubleType(), True),\n",
        "        StructField(\"magnesium\", DoubleType(), True),\n",
        "        StructField(\"total_phenols\", DoubleType(), True),\n",
        "        StructField(\"flavanoids\", DoubleType(), True),\n",
        "        StructField(\"nonflavanoid_phenols\", DoubleType(), True),\n",
        "        StructField(\"proanthocyanins\", DoubleType(), True),\n",
        "        StructField(\"color_intensity\", DoubleType(), True),\n",
        "        StructField(\"hue\", DoubleType(), True),\n",
        "        StructField(\"od280/od315_of_diluted_wines\", DoubleType(), True),\n",
        "        StructField(\"proline\", DoubleType(), True),\n",
        "        StructField(\"label\", IntegerType(), True),\n",
        "         ])\n",
        "\n",
        "### For simplicity we are only going to do a binary classifier\n",
        "### to determine if we have class 1\n",
        "pdf = pd.DataFrame(dataset.data)\n",
        "pdf['label'] = [1 if x == 1 else 0 for x in dataset.target]\n",
        "print(pdf)\n",
        "wine_sdf = spark.createDataFrame(pdf, schema)\n",
        "\n",
        "# Recall from unsupervised learning that the assembler cconverts a list of\n",
        "# dataframe columns into a \"features\" column that's a vector\n",
        "assembler = VectorAssembler(inputCols=dataset.feature_names, outputCol=\"features\")\n",
        "wine_sdf_2 = assembler.transform(wine_sdf)\n",
        "\n",
        "wine_sdf_2.show(5)"
      ],
      "execution_count": null,
      "outputs": [
        {
          "output_type": "display_data",
          "data": {
            "application/vnd.jupyter.widget-view+json": {
              "model_id": "cd3403850c164196a3d10df7cad1d69b",
              "version_minor": 0,
              "version_major": 2
            },
            "text/plain": [
              "FloatProgress(value=0.0, bar_style='info', description='Progress:', layout=Layout(height='25px', width='50%'),…"
            ]
          },
          "metadata": {
            "tags": []
          }
        },
        {
          "output_type": "stream",
          "text": [
            "         0     1     2     3      4  ...      9    10    11      12  label\n",
            "0    14.23  1.71  2.43  15.6  127.0  ...   5.64  1.04  3.92  1065.0      0\n",
            "1    13.20  1.78  2.14  11.2  100.0  ...   4.38  1.05  3.40  1050.0      0\n",
            "2    13.16  2.36  2.67  18.6  101.0  ...   5.68  1.03  3.17  1185.0      0\n",
            "3    14.37  1.95  2.50  16.8  113.0  ...   7.80  0.86  3.45  1480.0      0\n",
            "4    13.24  2.59  2.87  21.0  118.0  ...   4.32  1.04  2.93   735.0      0\n",
            "..     ...   ...   ...   ...    ...  ...    ...   ...   ...     ...    ...\n",
            "173  13.71  5.65  2.45  20.5   95.0  ...   7.70  0.64  1.74   740.0      0\n",
            "174  13.40  3.91  2.48  23.0  102.0  ...   7.30  0.70  1.56   750.0      0\n",
            "175  13.27  4.28  2.26  20.0  120.0  ...  10.20  0.59  1.56   835.0      0\n",
            "176  13.17  2.59  2.37  20.0  120.0  ...   9.30  0.60  1.62   840.0      0\n",
            "177  14.13  4.10  2.74  24.5   96.0  ...   9.20  0.61  1.60   560.0      0\n",
            "\n",
            "[178 rows x 14 columns]\n",
            "+-------+----------+----+-----------------+---------+-------------+----------+--------------------+---------------+---------------+----+----------------------------+-------+-----+--------------------+\n",
            "|alcohol|malic_acid| ash|alcalinity_of_ash|magnesium|total_phenols|flavanoids|nonflavanoid_phenols|proanthocyanins|color_intensity| hue|od280/od315_of_diluted_wines|proline|label|            features|\n",
            "+-------+----------+----+-----------------+---------+-------------+----------+--------------------+---------------+---------------+----+----------------------------+-------+-----+--------------------+\n",
            "|  14.23|      1.71|2.43|             15.6|    127.0|          2.8|      3.06|                0.28|           2.29|           5.64|1.04|                        3.92| 1065.0|    0|[14.23,1.71,2.43,...|\n",
            "|   13.2|      1.78|2.14|             11.2|    100.0|         2.65|      2.76|                0.26|           1.28|           4.38|1.05|                         3.4| 1050.0|    0|[13.2,1.78,2.14,1...|\n",
            "|  13.16|      2.36|2.67|             18.6|    101.0|          2.8|      3.24|                 0.3|           2.81|           5.68|1.03|                        3.17| 1185.0|    0|[13.16,2.36,2.67,...|\n",
            "|  14.37|      1.95| 2.5|             16.8|    113.0|         3.85|      3.49|                0.24|           2.18|            7.8|0.86|                        3.45| 1480.0|    0|[14.37,1.95,2.5,1...|\n",
            "|  13.24|      2.59|2.87|             21.0|    118.0|          2.8|      2.69|                0.39|           1.82|           4.32|1.04|                        2.93|  735.0|    0|[13.24,2.59,2.87,...|\n",
            "+-------+----------+----+-----------------+---------+-------------+----------+--------------------+---------------+---------------+----+----------------------------+-------+-----+--------------------+\n",
            "only showing top 5 rows"
          ],
          "name": "stdout"
        }
      ]
    },
    {
      "cell_type": "code",
      "metadata": {
        "id": "9L2upw7Zctpn",
        "outputId": "d8553369-2ec6-477e-ea81-347ef1fea87a",
        "colab": {
          "base_uri": "https://localhost:8080/",
          "height": 17,
          "referenced_widgets": [
            "cfd76a5180c84c0d8efe175e7e012356",
            "5472f893b9324eb39ddda6dcc21eb2b5",
            "1967e75c96ad43bba44fa87e5f558c47"
          ]
        }
      },
      "source": [
        "%%spark\n",
        "\n",
        "train, test = wine_sdf_2.randomSplit([0.7, 0.3], seed = 2018)\n",
        "\n",
        "from pyspark.ml.classification import LogisticRegression\n",
        "lr = LogisticRegression(featuresCol = 'features', labelCol = 'label')\n",
        "clfModel = lr.fit(train)\n",
        "predictions = clfModel.transform(test)"
      ],
      "execution_count": null,
      "outputs": [
        {
          "output_type": "display_data",
          "data": {
            "application/vnd.jupyter.widget-view+json": {
              "model_id": "cfd76a5180c84c0d8efe175e7e012356",
              "version_minor": 0,
              "version_major": 2
            },
            "text/plain": [
              "FloatProgress(value=0.0, bar_style='info', description='Progress:', layout=Layout(height='25px', width='50%'),…"
            ]
          },
          "metadata": {
            "tags": []
          }
        }
      ]
    },
    {
      "cell_type": "code",
      "metadata": {
        "id": "mu3mYa7QeRpk",
        "outputId": "815b01ea-f813-4314-c563-0c88eea3f950",
        "colab": {
          "base_uri": "https://localhost:8080/",
          "height": 34,
          "referenced_widgets": [
            "7b03a5727ee54e258637b8446c725302",
            "be6703078fa149ddba913508b916c7f3",
            "4f423f1ac7404ee78149839d4824e124"
          ]
        }
      },
      "source": [
        "%%spark\n",
        "\n",
        "from pyspark.ml.evaluation import BinaryClassificationEvaluator\n",
        "evaluator = BinaryClassificationEvaluator()\n",
        "print(\"Test Area Under ROC: \" + str(evaluator.evaluate(predictions, {evaluator.metricName: \"areaUnderROC\"})))"
      ],
      "execution_count": null,
      "outputs": [
        {
          "output_type": "display_data",
          "data": {
            "application/vnd.jupyter.widget-view+json": {
              "model_id": "7b03a5727ee54e258637b8446c725302",
              "version_minor": 0,
              "version_major": 2
            },
            "text/plain": [
              "FloatProgress(value=0.0, bar_style='info', description='Progress:', layout=Layout(height='25px', width='50%'),…"
            ]
          },
          "metadata": {
            "tags": []
          }
        },
        {
          "output_type": "stream",
          "text": [
            "Test Area Under ROC: 0.996969696969697"
          ],
          "name": "stdout"
        }
      ]
    },
    {
      "cell_type": "markdown",
      "metadata": {
        "id": "829riMBRIoXm"
      },
      "source": [
        "## 3.4 Gradient Descent\n",
        "\n",
        "### 3.4.1 Gradient Descent with a Linear Function\n",
        "\n",
        "To look at gradient descent, let's first consider a simple example based on our wine dataset, with a linear value for our prediction.  (We'll relax this in a moment to consider the logistic function.)\n",
        "\n",
        "We can define the cost function to be Mean Squared Error as follows:\n",
        "\n",
        "$MSE = {1 \\over n}\\Sigma^n_{i=1}(\\hat{y}^{(i)} - y^{(i)})$\n",
        "\n",
        "where\n",
        "\n",
        "$\\hat{y}^{(i)} = \\sigma(w^T \\cdot x^{(i)})$.\n",
        "\n",
        "For this part we'll generate a simple artificial dataset with two \"blob\" clusters.\n"
      ]
    },
    {
      "cell_type": "code",
      "metadata": {
        "id": "aMd6Qhpa9C0c",
        "outputId": "222c3618-e277-42e4-ea45-649200885316",
        "colab": {
          "base_uri": "https://localhost:8080/",
          "height": 500
        }
      },
      "source": [
        "import numpy as np\n",
        "import matplotlib.pyplot as plt\n",
        "\n",
        "# Let's plot a series of points\n",
        "X = 2 * np.random.rand(200, 1)\n",
        "\n",
        "# We are plotting y = 2x + 3 plus a random\n",
        "# value \n",
        "y = 2 * X + 3 + np.random.randn(200, 1)\n",
        "\n",
        "# Let's plot it\n",
        "fig, ax = plt.subplots(figsize=(8,8))\n",
        "ax.scatter(X, y)\n"
      ],
      "execution_count": null,
      "outputs": [
        {
          "output_type": "execute_result",
          "data": {
            "text/plain": [
              "<matplotlib.collections.PathCollection at 0x7f936388a860>"
            ]
          },
          "metadata": {
            "tags": []
          },
          "execution_count": 64
        },
        {
          "output_type": "display_data",
          "data": {
            "image/png": "[encoded data removed]",
            "text/plain": [
              "<Figure size 576x576 with 1 Axes>"
            ]
          },
          "metadata": {
            "tags": []
          }
        }
      ]
    },
    {
      "cell_type": "code",
      "metadata": {
        "id": "d6UGS25F9OfK",
        "outputId": "4c0a43b2-89db-45cc-ffd8-d2e6fa0d8823",
        "colab": {
          "base_uri": "https://localhost:8080/",
          "height": 1000
        }
      },
      "source": [
        "from sklearn.model_selection import train_test_split\n",
        "import sklearn.metrics\n",
        "\n",
        "# Change X-vector to include an additional feature with value 1,\n",
        "# for the bias/intercept term\n",
        "\n",
        "X2 = np.ones((X.shape[0],2))\n",
        "X2[:,1] = X.T\n",
        "\n",
        "X_train, X_test, y_train, y_test = train_test_split(X2, \\\n",
        "                                                    y, \\\n",
        "                                                    test_size=0.30)\n",
        "\n",
        "y_train"
      ],
      "execution_count": null,
      "outputs": [
        {
          "output_type": "execute_result",
          "data": {
            "text/plain": [
              "array([[4.57785734],\n",
              "       [5.0036551 ],\n",
              "       [5.49422844],\n",
              "       [6.15510511],\n",
              "       [2.69857218],\n",
              "       [5.20884985],\n",
              "       [4.46437859],\n",
              "       [3.62699811],\n",
              "       [6.22208829],\n",
              "       [5.81504589],\n",
              "       [4.03783965],\n",
              "       [6.43273652],\n",
              "       [1.87566814],\n",
              "       [6.82053787],\n",
              "       [5.60357145],\n",
              "       [5.80982558],\n",
              "       [2.47970647],\n",
              "       [9.12722452],\n",
              "       [4.22937864],\n",
              "       [6.05068087],\n",
              "       [4.19614322],\n",
              "       [5.48631085],\n",
              "       [6.01577435],\n",
              "       [6.76972496],\n",
              "       [1.52317263],\n",
              "       [5.73943867],\n",
              "       [5.37456267],\n",
              "       [6.61454656],\n",
              "       [5.24451502],\n",
              "       [3.3990313 ],\n",
              "       [5.85197812],\n",
              "       [3.21308583],\n",
              "       [6.84027095],\n",
              "       [6.37666209],\n",
              "       [4.93674547],\n",
              "       [3.42170438],\n",
              "       [7.11716032],\n",
              "       [3.07619774],\n",
              "       [6.13214304],\n",
              "       [5.64836179],\n",
              "       [6.41584787],\n",
              "       [4.41579284],\n",
              "       [5.66917858],\n",
              "       [6.83095782],\n",
              "       [6.15216418],\n",
              "       [4.55744452],\n",
              "       [1.92577453],\n",
              "       [4.52743298],\n",
              "       [7.2430457 ],\n",
              "       [6.06081297],\n",
              "       [6.49727205],\n",
              "       [3.46399569],\n",
              "       [3.82798566],\n",
              "       [6.07589984],\n",
              "       [1.90646005],\n",
              "       [1.98358907],\n",
              "       [6.81513814],\n",
              "       [4.97537466],\n",
              "       [3.64043817],\n",
              "       [3.07671576],\n",
              "       [8.67001194],\n",
              "       [4.34585016],\n",
              "       [1.93885059],\n",
              "       [5.28095437],\n",
              "       [7.72591276],\n",
              "       [6.79851086],\n",
              "       [5.66193657],\n",
              "       [4.07993607],\n",
              "       [7.11159619],\n",
              "       [5.16217542],\n",
              "       [5.92063897],\n",
              "       [4.60219139],\n",
              "       [4.72661982],\n",
              "       [3.8923447 ],\n",
              "       [3.61595179],\n",
              "       [2.97460358],\n",
              "       [5.99391429],\n",
              "       [6.57325394],\n",
              "       [7.24206324],\n",
              "       [4.25193738],\n",
              "       [7.28539325],\n",
              "       [7.2409754 ],\n",
              "       [5.05796221],\n",
              "       [5.89509351],\n",
              "       [3.92272084],\n",
              "       [3.3668173 ],\n",
              "       [6.31078664],\n",
              "       [6.83584042],\n",
              "       [5.46574191],\n",
              "       [4.13775901],\n",
              "       [6.12642532],\n",
              "       [4.22395639],\n",
              "       [6.68546069],\n",
              "       [6.21375733],\n",
              "       [3.76018686],\n",
              "       [3.4450338 ],\n",
              "       [6.52136328],\n",
              "       [2.78051209],\n",
              "       [5.10185336],\n",
              "       [5.90272985],\n",
              "       [5.763099  ],\n",
              "       [3.67680961],\n",
              "       [3.16502907],\n",
              "       [5.02500062],\n",
              "       [4.12794418],\n",
              "       [4.81537847],\n",
              "       [4.30785529],\n",
              "       [5.26371351],\n",
              "       [4.24588729],\n",
              "       [7.13095767],\n",
              "       [7.22386872],\n",
              "       [8.41848035],\n",
              "       [3.38507559],\n",
              "       [3.89143281],\n",
              "       [5.53054811],\n",
              "       [6.04253848],\n",
              "       [7.46690831],\n",
              "       [6.22528228],\n",
              "       [3.48538587],\n",
              "       [4.99682387],\n",
              "       [5.53535113],\n",
              "       [5.10475238],\n",
              "       [6.73574043],\n",
              "       [5.95062079],\n",
              "       [6.37997611],\n",
              "       [6.67037429],\n",
              "       [5.66203915],\n",
              "       [6.28344472],\n",
              "       [3.84015387],\n",
              "       [3.43559184],\n",
              "       [6.82569747],\n",
              "       [3.31088606],\n",
              "       [3.49170881],\n",
              "       [4.36155796],\n",
              "       [4.68469363],\n",
              "       [5.51319583],\n",
              "       [8.2186494 ],\n",
              "       [3.91864364],\n",
              "       [3.1278594 ],\n",
              "       [6.58146011]])"
            ]
          },
          "metadata": {
            "tags": []
          },
          "execution_count": 65
        }
      ]
    },
    {
      "cell_type": "code",
      "metadata": {
        "id": "diFLtuwGAfWK",
        "outputId": "b5dee72d-7a19-495b-acc7-8ee175296a72",
        "colab": {
          "base_uri": "https://localhost:8080/",
          "height": 34
        }
      },
      "source": [],
      "execution_count": null,
      "outputs": [
        {
          "output_type": "execute_result",
          "data": {
            "text/plain": [
              "(2,)"
            ]
          },
          "metadata": {
            "tags": []
          },
          "execution_count": 74
        }
      ]
    },
    {
      "cell_type": "code",
      "metadata": {
        "id": "krwhAxsAJzb6",
        "outputId": "77962a78-2065-4ee9-93a2-90667c1000a7",
        "colab": {
          "base_uri": "https://localhost:8080/",
          "height": 265
        }
      },
      "source": [
        "import matplotlib.pyplot as plt\n",
        "from sklearn.metrics import mean_squared_error\n",
        "\n",
        "\n",
        "x_coord = range(-5,15)\n",
        "\n",
        "plt.figure(figsize=(12, 4))\n",
        "\n",
        "w = np.random.randn(2)\n",
        "\n",
        "# Here's our cost function, as mean squared error\n",
        "def cost_fn(X, y, p, fn):\n",
        "  if len(X.shape) == 1:\n",
        "    # Single row, return the squared error\n",
        "    return np.square(y - fn(X[p]))\n",
        "  else:\n",
        "    # Matrix, return the mean of the squared errors\n",
        "    return np.average([cost_fn(X[i], y[i], p, fn) for i in range (0, X.shape[0])])\n",
        "\n",
        "# Now let's plot the error function for a *single instance*, for each feature,\n",
        "# for a range of weights and the *linear* function x*w\n",
        "for feature in range(0, 2):\n",
        "  ax = plt.subplot(1, 2, feature+1)\n",
        "  ax.plot(x_coord, [cost_fn(X_train, y_train, feature, lambda x: x*w) for w in x_coord])\n",
        "  ax.set_ylabel('Error for Feature ' + str(feature))\n",
        "  "
      ],
      "execution_count": null,
      "outputs": [
        {
          "output_type": "display_data",
          "data": {
            "image/png": "[encoded data removed]",
            "text/plain": [
              "<Figure size 864x288 with 2 Axes>"
            ]
          },
          "metadata": {
            "tags": []
          }
        }
      ]
    },
    {
      "cell_type": "code",
      "metadata": {
        "id": "UR0VaxVv974r",
        "outputId": "c97c2894-1f27-448c-b2fd-831263da3701",
        "colab": {
          "base_uri": "https://localhost:8080/",
          "height": 368
        }
      },
      "source": [
        "def gradient_descent(epochs, eta, X, w, y):\n",
        "  \"\"\"\n",
        "  The gradient descent iterates for *epochs* rounds, making a step\n",
        "  of size eta.  It will be adjusting w, based on the prediction for each\n",
        "  instance vs y and the overall error.\n",
        "  \"\"\"\n",
        "  # We'll use this list to accumulate\n",
        "  # the error\n",
        "  overall_error = []\n",
        "  # Iterate over each epoch\n",
        "  for i in range(epochs):\n",
        "    # This is y-hat, the predictions for each\n",
        "    # class label before they are thresholded\n",
        "    # based on comparison with 0.5\n",
        "    predictions = X.dot(w)\n",
        "\n",
        "    # The overall error, as a vector\n",
        "    error = (predictions - y)\n",
        "\n",
        "    # Record the MSE so we can plot it\n",
        "    mean_sq_error = np.sum(error ** 2) / X.shape[0]\n",
        "    overall_error.append(mean_sq_error)\n",
        "\n",
        "    # Now we update the weights.\n",
        "    # The gradient is based on the partial derivative\n",
        "    # of the MSE with respect to w.\n",
        "    gradient = 2 / X.shape[0] * X.T.dot(error)\n",
        "\n",
        "    w = w - eta * gradient\n",
        "\n",
        "  return w, overall_error\n",
        "\n",
        "# Training rounds or epochs\n",
        "epochs = 500\n",
        "eta = 0.01\n",
        "\n",
        "w = np.zeros((2,1))\n",
        "w[:,0] = np.random.randn(2)\n",
        "\n",
        "weights, evect = gradient_descent(epochs, eta, X_train, w, y_train)\n",
        "print (weights)\n",
        "print (evect)\n",
        "\n",
        "# Plot the mean-squared error\n",
        "plt.plot(range(0,epochs), evect)\n",
        "plt.xlabel('Gradient Descent Epoch #')\n",
        "plt.ylabel('Mean-squared error (loss)')"
      ],
      "execution_count": null,
      "outputs": [
        {
          "output_type": "stream",
          "text": [
            "[[2.95508592]\n",
            " [2.05189431]]\n",
            "[15.567016814432604, 14.282079474424483, 13.114315215259426, 12.053016494725378, 11.088454399135392, 10.211789199430426, 9.414989082209496, 8.690756308521122, 8.032460121538998, 7.43407578629232, 6.8901292009977135, 6.395646570763627, 5.946108680980136, 5.537409349995536, 5.165817679104292, 4.827943752782487, 4.520707473827566, 4.241310246880689, 3.987209249997328, 3.7560940577255466, 3.5458654007705954, 3.354615866967689, 3.1806123661326864, 3.0222801975770572, 2.8781885738080155, 2.747037467322455, 2.6276456595675555, 2.5189398821932887, 2.419944950764351, 2.329774800223436, 2.2476243396882425, 2.1727620516973554, 2.1045232678644137, 2.04230405911869, 1.9855556843605777, 1.9337795464943792, 1.8865226094655054, 1.8433732341675466, 1.8039573949356527, 1.7679352418416747, 1.734997977185743, 1.7048650174675735, 1.6772814147454551, 1.652015513675583, 1.6288568226912035, 1.6076140797497833, 1.588113494865214, 1.5701971532673928, 1.553721564508267, 1.538556344175251, 1.5245830160920537, 1.5116939239947094, 1.4997912426770692, 1.4887860795145296, 1.4785976581056712, 1.4691525765264517, 1.460384133377587, 1.452231715428994, 1.4446402412315045, 1.4375596555805958, 1.4309444701844007, 1.4247533463130582, 1.418948715592426, 1.4134964354558675, 1.4083654760864601, 1.4035276359714897, 1.3989572834541524, 1.3946311219063838, 1.3905279763639196, 1.3866285996619987, 1.3829154962893995, 1.3793727623414114, 1.3759859401003447, 1.3727418859066567, 1.3696286501059798, 1.366635367968343, 1.3637521605767595, 1.3609700447740174, 1.3582808513397704, 1.3556771506457124, 1.3531521851053547, 1.350699807797404, 1.3483144266984928, 1.3459909540125838, 1.3437247601312237, 1.3415116318014133, 1.339347734116516, 1.337229575980806, 1.3351539787301647, 1.3331180476204727, 1.3311191459215932, 1.3291548713788122, 1.3272230348253504, 1.3253216407493515, 1.3234488696367144, 1.3216030619274601, 1.3197827034381715, 1.317986412116501, 1.3162129260060071, 1.3144610923107056, 1.312729857458813, 1.311018258074374, 1.3093254127737903, 1.307650514711856, 1.3059928248088055, 1.30435166559613, 1.3027264156246057, 1.3011165043831596, 1.2995214076818793, 1.2979406434567458, 1.2963737679575562, 1.2948203722840013, 1.2932800792380916, 1.291752540464014, 1.2902374338491491, 1.28873446116239, 1.2872433459080608, 1.2857638313757473, 1.284295678868125, 1.282838666090519, 1.2813925856874195, 1.279957243912522, 1.2785324594200826, 1.2771180621665168, 1.2757138924121505, 1.2743197998139855, 1.272935642601152, 1.2715612868255006, 1.270196605680459, 1.2688414788819244, 1.267495792105519, 1.2661594364750532, 1.2648323080975328, 1.2635143076404398, 1.2622053399474358, 1.260905313688977, 1.2596141410446453, 1.2583317374143057, 1.2570580211554487, 1.2557929133443355, 1.2545363375587613, 1.253288219680473, 1.2520484877154339, 1.2508170716303197, 1.2495939032037515, 1.2483789158909275, 1.2471720447004262, 1.245973226082073, 1.2447823978248567, 1.2435994989639851, 1.2424244696962354, 1.241257251302854, 1.2400977860793079, 1.2389460172712694, 1.237801889016259, 1.2366653462904378, 1.2355363348600745, 1.234414801237263, 1.233300692639504, 1.232193956952798, 1.2310945426979274, 1.2300023989996436, 1.2289174755584888, 1.2278397226250157, 1.2267690909761861, 1.2257055318937513, 1.2246489971444352, 1.2235994389617506, 1.222556810029313, 1.2215210634654987, 1.2204921528093455, 1.2194700320075629, 1.21845465540257, 1.2174459777214548, 1.2164439540657799, 1.2154485399021533, 1.214459691053501, 1.21347736369097, 1.2125015143264144, 1.2115320998054058, 1.2105690773007238, 1.2096124043062848, 1.2086620386314662, 1.2077179383957943, 1.206780062023965, 1.2058483682411605, 1.2049228160686474, 1.20400336481962, 1.2030899740952747, 1.2021826037810939, 1.20128121404332, 1.2003857653256014, 1.1994962183458033, 1.1986125340929579, 1.1977346738243528, 1.1968625990627393, 1.1959962715936534, 1.1951356534628388, 1.194280706973765, 1.1934313946852306, 1.1925876794090475, 1.1917495242077987, 1.190916892392661, 1.1900897475212928, 1.1892680533957762, 1.1884517740606169, 1.1876408738007866, 1.1868353171398167, 1.1860350688379322, 1.1852400938902228, 1.1844503575248533, 1.1836658252013066, 1.1828864626086597, 1.1821122356638871, 1.1813431105101948, 1.1805790535153768, 1.1798200312702025, 1.1790660105868191, 1.1783169584971822, 1.177572842251503, 1.1768336293167199, 1.176099287374983, 1.1753697843221607, 1.174645088266359, 1.1739251675264646, 1.1732099906306916, 1.172499526315155, 1.171793743522451, 1.171092611400253, 1.1703960992999214, 1.1697041767751262, 1.16901681358048, 1.1683339796701855, 1.1676556451966937, 1.1669817805093732, 1.1663123561531883, 1.1656473428673935, 1.164986711584233, 1.1643304334276523, 1.1636784797120214, 1.1630308219408638, 1.1623874318056016, 1.1617482811843003, 1.161113342140435, 1.1604825869216548, 1.1598559879585626, 1.1592335178635025, 1.1586151494293522, 1.1580008556283308, 1.1573906096108089, 1.1567843847041306, 1.1561821544114415, 1.155583892410527, 1.1549895725526567, 1.154399168861439, 1.15381265553168, 1.1532300069282562, 1.152651197584986, 1.152076202203519, 1.1515049956522245, 1.150937552965093, 1.150373849340641, 1.1498138601408283, 1.1492575608899769, 1.1487049272736987, 1.1481559351378356, 1.1476105604874, 1.1470687794855237, 1.146530568452418, 1.1459959038643355, 1.1454647623525422, 1.1449371207022954, 1.1444129558518272, 1.1438922448913384, 1.1433749650619935, 1.1428610937549275, 1.1423506085102568, 1.1418434870160976, 1.1413397071075886, 1.140839246765924, 1.1403420841173897, 1.1398481974324068, 1.1393575651245829, 1.1388701657497657, 1.138385978005109, 1.137904980728139, 1.1374271528958297, 1.1369524736236847, 1.1364809221648227, 1.136012477909071, 1.1355471203820677, 1.1350848292443605, 1.1346255842905237, 1.1341693654482714, 1.1337161527775816, 1.133265926469824, 1.1328186668468936, 1.1323743543603526, 1.1319329695905738, 1.1314944932458924, 1.1310589061617642, 1.1306261892999248, 1.1301963237475612, 1.1297692907164825, 1.1293450715422981, 1.1289236476836062, 1.128505000721178, 1.1280891123571564, 1.1276759644142544, 1.127265538834961, 1.1268578176807529, 1.1264527831313083, 1.1260504174837305, 1.1256507031517722, 1.1252536226650676, 1.1248591586683696, 1.1244672939207898, 1.1240780112950461, 1.1236912937767125, 1.123307124463478, 1.1229254865644052, 1.1225463633991986, 1.1221697383974734, 1.121795595098033, 1.1214239171481497, 1.121054688302848, 1.1206878924241963, 1.1203235134806004, 1.1199615355461048, 1.1196019427996935, 1.1192447195246018, 1.1188898501076263, 1.1185373190384456, 1.1181871109089392, 1.1178392104125172, 1.117493602343448, 1.1171502715961974, 1.1168092031647645, 1.1164703821420288, 1.1161337937190974, 1.1157994231846582, 1.115467255924336, 1.1151372774200545, 1.1148094732494023, 1.1144838290850017, 1.1141603306938812, 1.1138389639368573, 1.1135197147679123, 1.1132025692335832, 1.1128875134723504, 1.1125745337140314, 1.1122636162791817, 1.1119547475784937, 1.1116479141122046, 1.1113431024695055, 1.111040299327956, 1.1107394914529005, 1.1104406656968926, 1.110143808999117, 1.1098489083848209, 1.1095559509647468, 1.1092649239345675, 1.1089758145743283, 1.1086886102478903, 1.1084032984023777, 1.1081198665676304, 1.1078383023556573, 1.1075585934600969, 1.1072807276556764, 1.1070046927976815, 1.1067304768214217, 1.1064580677417044, 1.106187453652313, 1.1059186227254827, 1.1056515632113868, 1.105386263437622, 1.1051227118086973, 1.1048608968055293, 1.1046008069849365, 1.104342430979141, 1.10408575749527, 1.1038307753148633, 1.1035774732933834, 1.1033258403597268, 1.103075865515741, 1.102827537835745, 1.1025808464660498, 1.1023357806244842, 1.1020923295999252, 1.1018504827518283, 1.1016102295097632, 1.101371559372951, 1.1011344619098067, 1.1008989267574814, 1.1006649436214109, 1.1004325022748649, 1.1002015925585011, 1.0999722043799185, 1.09974432771322, 1.0995179525985714, 1.099293069141767, 1.0990696675137985, 1.0988477379504213, 1.0986272707517335, 1.0984082562817474, 1.0981906849679703, 1.0979745473009845, 1.0977598338340357, 1.097546535182614, 1.0973346420240493, 1.0971241450971008, 1.0969150352015529, 1.0967073031978125, 1.0965009400065124, 1.0962959366081098, 1.0960922840424956, 1.095889973408602, 1.0956889958640124, 1.0954893426245764, 1.0952910049640248, 1.0950939742135883, 1.09489824176162, 1.0947037990532165, 1.0945106375898463, 1.0943187489289767, 1.0941281246837073, 1.0939387565223988, 1.093750636168314, 1.0935637553992532, 1.093378106047195, 1.0931936799979396, 1.0930104691907558, 1.0928284656180243, 1.0926476613248932, 1.0924680484089266, 1.0922896190197602, 1.0921123653587579, 1.0919362796786727, 1.0917613542833051, 1.0915875815271687, 1.0914149538151567, 1.0912434636022077, 1.0910731033929775, 1.0909038657415107, 1.0907357432509168, 1.090568728573045, 1.0904028144081634, 1.0902379935046411, 1.0900742586586305, 1.0899116027137519, 1.0897500185607818, 1.0895894991373407, 1.0894300374275872, 1.0892716264619078, 1.0891142593166143, 1.0889579291136418, 1.0888026290202464, 1.088648352248707, 1.08849509205603, 1.088342841743653, 1.0881915946571523, 1.0880413441859522, 1.0878920837630375, 1.0877438068646637, 1.0875965070100737, 1.0874501777612147, 1.0873048127224556, 1.0871604055403086, 1.087016949903151, 1.0868744395409493, 1.0867328682249853, 1.086592229767583, 1.0864525180218407, 1.0863137268813596, 1.086175850279978, 1.0860388821915057, 1.085902816629461, 1.08576764764681, 1.0856333693357048, 1.0854999758272268, 1.0853674612911286, 1.0852358199355812, 1.0851050460069194, 1.0849751337893905, 1.0848460776049047, 1.0847178718127886, 1.0845905108095337, 1.0844639890285583, 1.0843383009399583, 1.0842134410502686, 1.0840894039022226, 1.0839661840745134, 1.0838437761815563, 1.083722174873254, 1.0836013748347633, 1.0834813707862614, 1.083362157482717, 1.083243729713659, 1.0831260823029494, 1.083009210108559]\n"
          ],
          "name": "stdout"
        },
        {
          "output_type": "execute_result",
          "data": {
            "text/plain": [
              "Text(0, 0.5, 'Mean-squared error (loss)')"
            ]
          },
          "metadata": {
            "tags": []
          },
          "execution_count": 87
        },
        {
          "output_type": "display_data",
          "data": {
            "image/png": "[encoded data removed]",
            "text/plain": [
              "<Figure size 432x288 with 1 Axes>"
            ]
          },
          "metadata": {
            "tags": []
          }
        }
      ]
    },
    {
      "cell_type": "markdown",
      "metadata": {
        "id": "tFXjiNOFDu6b"
      },
      "source": []
    },
    {
      "cell_type": "markdown",
      "metadata": {
        "id": "lfsbc2cM6yP8"
      },
      "source": [
        "## 3.4.2 Gradient Descent for Training Logistic Regression\n",
        "\n",
        "Let's try this with logistic regression, using the sigmoid function...\n",
        "\n",
        "First' let's look at the shape of the cost functions for $y_i=1$, $y_i=0$..."
      ]
    },
    {
      "cell_type": "code",
      "metadata": {
        "id": "FQO-gsoQRk-3"
      },
      "source": [
        "from sklearn.datasets import make_blobs\n",
        "\n",
        "(X, y) = make_blobs(n_samples=1000, n_features=2, centers=2, \\\n",
        "                    cluster_std=1.10, random_state=42)\n"
      ],
      "execution_count": null,
      "outputs": []
    },
    {
      "cell_type": "code",
      "metadata": {
        "id": "12PLfC4HSaIQ",
        "outputId": "7323aafc-538d-4eee-ccf6-a1c7b2340d2e",
        "colab": {
          "base_uri": "https://localhost:8080/",
          "height": 265
        }
      },
      "source": [
        "import matplotlib.pyplot as plt\n",
        "\n",
        "\n",
        "plt.scatter(x=X[:, 0], y=X[:, 1], c=y)\n",
        "\n",
        "X_train, X_test, y_train, y_test = train_test_split(X, \\\n",
        "                                                    y, \\\n",
        "                                                    test_size=0.30)\n"
      ],
      "execution_count": null,
      "outputs": [
        {
          "output_type": "display_data",
          "data": {
            "image/png": "[encoded data removed]",
            "text/plain": [
              "<Figure size 432x288 with 1 Axes>"
            ]
          },
          "metadata": {
            "tags": []
          }
        }
      ]
    },
    {
      "cell_type": "code",
      "metadata": {
        "id": "daGo29F4wqhZ",
        "outputId": "60a68b91-59a2-4349-f2b2-57da40f77f87",
        "colab": {
          "base_uri": "https://localhost:8080/",
          "height": 282
        }
      },
      "source": [
        "import matplotlib\n",
        "import matplotlib.pyplot as plt\n",
        "import math\n",
        "\n",
        "def prediction(x):\n",
        "  return 1.0 / (1 + np.exp(-x))\n",
        "\n",
        "x = [(i - 500)/125 for i in range(1000)]\n",
        "\n",
        "# Recall the cost function\n",
        "plt.plot(x,[-math.log(prediction(i)) for i in x])\n",
        "plt.plot(x,[-math.log(1 - prediction(i)) for i in x])"
      ],
      "execution_count": null,
      "outputs": [
        {
          "output_type": "execute_result",
          "data": {
            "text/plain": [
              "[<matplotlib.lines.Line2D at 0x7f93672d8240>]"
            ]
          },
          "metadata": {
            "tags": []
          },
          "execution_count": 101
        },
        {
          "output_type": "display_data",
          "data": {
            "image/png": "[encoded data removed]",
            "text/plain": [
              "<Figure size 432x288 with 1 Axes>"
            ]
          },
          "metadata": {
            "tags": []
          }
        }
      ]
    },
    {
      "cell_type": "code",
      "metadata": {
        "id": "MZPIMFNr60Gq",
        "outputId": "a22f1f72-565b-4218-9462-53bc445e46a8",
        "colab": {
          "base_uri": "https://localhost:8080/",
          "height": 350
        }
      },
      "source": [
        "import numpy as np\n",
        "\n",
        "# Here is our sigmoid function for making\n",
        "# predictions with logistic regression\n",
        "# or with perceptron-style neural nets\n",
        "def prediction(x):\n",
        "  return 1.0 / (1 + np.exp(-x))\n",
        "\n",
        "\n",
        "def gradient_descent(epochs, eta, X, w, y):\n",
        "  \"\"\"\n",
        "  The gradient descent iterates for *epochs* rounds, making a step\n",
        "  of size eta.  It will be adjusting w, based on the prediction for each\n",
        "  instance vs y and the overall error.\n",
        "  \"\"\"\n",
        "  # We'll use this list to accumulate\n",
        "  # the error\n",
        "  overall_error = []\n",
        "  # Iterate over each epoch\n",
        "  for i in range(epochs):\n",
        "    # This is y-hat, the predictions for each\n",
        "    # class label before they are thresholded\n",
        "    # based on comparison with 0.5\n",
        "    predictions = prediction(X.dot(w))\n",
        "\n",
        "    # The overall error, as a vector\n",
        "    error = (predictions - y)\n",
        "\n",
        "    # Record the MSE so we can plot it\n",
        "    mean_sq_error = np.sum(error ** 2) / X.shape[0]\n",
        "    overall_error.append(mean_sq_error)\n",
        "\n",
        "    # Now we update the weights.\n",
        "    # The gradient is based on the partial derivative\n",
        "    # of the log loss with respect to w.\n",
        "    gradient = 1 / X.shape[0] * X.T.dot(error)\n",
        "\n",
        "    w = w - eta * gradient\n",
        "\n",
        "  return w, overall_error\n",
        "\n",
        "# Training rounds or epochs\n",
        "epochs = 500\n",
        "eta = 0.01\n",
        "\n",
        "w = np.random.randn(2)\n",
        "\n",
        "weights, evect = gradient_descent(epochs, eta, X, w, y)\n",
        "print (weights)\n",
        "print (evect)\n",
        "\n",
        "# Plot the mean-squared error\n",
        "plt.plot(range(0,epochs), evect)\n",
        "plt.xlabel('Gradient Descent Epoch #')\n",
        "plt.ylabel('Mean-squared error (loss)')"
      ],
      "execution_count": null,
      "outputs": [
        {
          "output_type": "stream",
          "text": [
            "[ 1.05041276 -0.30054439]\n",
            "[0.19629723239746574, 0.16155183668875844, 0.13267008042817896, 0.10933432914787958, 0.09077562005221607, 0.07610936287843625, 0.06451633942310563, 0.05531116537112461, 0.04795008931392077, 0.0420135152496342, 0.03718186269926918, 0.03321277132260288, 0.029922248854196042, 0.02717001224863582, 0.02484843595327181, 0.022874343311033635, 0.02118294550484544, 0.01972336836958864, 0.018455341740169655, 0.01734673726190489, 0.016371726024035176, 0.01550939056947857, 0.014742671687656184, 0.014057563367486776, 0.01344249291876345, 0.012887840215697026, 0.01238556220217346, 0.011928897599132349, 0.011512133144302064, 0.011130417361162664, 0.01077961128343259, 0.010456168097788196, 0.010157035555635706, 0.009879576419360707, 0.009621503275103334, 0.009380824853396905, 0.009155801616815496, 0.0089449088482248, 0.008746805839700887, 0.00856031006684119, 0.00838437545550863, 0.008218074022592533, 0.00806058031010303, 0.007911158141136729, 0.007769149313274362, 0.00763396391462588, 0.007505072003738407, 0.007381996439796922, 0.007264306686204956, 0.00715161344047065, 0.007043563967704875, 0.006939838035034466, 0.006840144360693063, 0.0067442175051471015, 0.0066518151428814655, 0.006562715662837505, 0.006476716053309726, 0.006393630033644646, 0.0063132864005706665, 0.006235527561603635, 0.006160208231867851, 0.006087194273967877, 0.006016361663342227, 0.0059475955639076905, 0.005880789500829967, 0.005815844618988795, 0.005752669017189287, 0.005691177149445233, 0.0056312892857559626, 0.005572931025743317, 0.005516032859331646, 0.0054605297693605444, 0.005406360871633022, 0.005353469088434649, 0.005301800852023016, 0.005251305834991476, 0.005201936704764696, 0.005153648899792947, 0.005106400425283359, 0.00506015166654467, 0.00501486521823146, 0.0049705057279585425, 0.004927039752918997, 0.004884435628283297, 0.004842663346284219, 0.004801694445005179, 0.004761501905989632, 0.004722060059878233, 0.004683344499359519, 0.004645331998790417, 0.004608000439905771, 0.004571328743092215, 0.004535296803751949, 0.004499885433326915, 0.004465076304594201, 0.00443085190087956, 0.004397195468868501, 0.004364090974723526, 0.004331523063242416, 0.004299477019816125, 0.004267938734966213, 0.004236894671261055, 0.004206331832427461, 0.004176237734490158, 0.004146600378785813, 0.004117408226711303, 0.004088650176077601, 0.004060315538951362, 0.004032394020875969, 0.004004875701372652, 0.003977751015630246, 0.003951010737299545, 0.003924645962314864, 0.0038986480936714523, 0.0038730088270930644, 0.0038477201375289533, 0.0038227742664243528, 0.0037981637097126136, 0.0037738812064811917, 0.003749919728267169, 0.003726272468941345, 0.003702932835142893, 0.0036798944372293707, 0.0036571510807094205, 0.0036346967581278237, 0.003612525641374764, 0.003590632074393089, 0.00356901056625924, 0.0035476557846151864, 0.003526562549430267, 0.003505725827073279, 0.003485140724676497, 0.0034648024847745208, 0.0034447064802020128, 0.003424848209235408, 0.0034052232909647043, 0.003385827460882307, 0.00336665656667675, 0.0033477065642199344, 0.003328973513737179, 0.0033104535761501346, 0.0032921430095831563, 0.003274038166024396, 0.0032561354881333313, 0.003238431506187034, 0.0032209228351578775, 0.0032036061719158972, 0.0031864782925493424, 0.003169536049797423, 0.003152776370589539, 0.003136196253685662, 0.003119792767412832, 0.0031035630474930184, 0.003087504294957852, 0.0030716137741460567, 0.0030558888107795374, 0.003040326790114405, 0.003024925155163376, 0.0030096814049861897, 0.002994593093044866, 0.002979657825620821, 0.0029648732602909843, 0.0029502371044602418, 0.0029357471139476645, 0.002921401091624105, 0.0029071968860988856, 0.0028931323904534184, 0.0028792055410196927, 0.0028654143162016926, 0.0028517567353378973, 0.002838230857603103, 0.00282483478094791, 0.0028115666410742767, 0.0027984246104456505, 0.002785406897330244, 0.002772511744876072, 0.0027597374302164896, 0.00274708226360497, 0.0027345445875779587, 0.002722122776144683, 0.002709815234002858, 0.002697620395779258, 0.0026855367252941963, 0.0026735627148489895, 0.002661696884535511, 0.0026499377815670127, 0.0026382839796293823, 0.0026267340782521052, 0.0026152867021981578, 0.002603940500872163, 0.0025926941477461157, 0.0025815463398020486, 0.0025704957969910234, 0.002559541261707854, 0.002548681498281007, 0.0025379152924771367, 0.0025272414510197397, 0.002516658801121439, 0.0025061661900294173, 0.002495762484583554, 0.002485446570786822, 0.002475217353387532, 0.002465073755473024, 0.002455014718074423, 0.0024450391997820806, 0.0024351461763713607, 0.0024253346404384223, 0.0024156036010456673, 0.002405952083376553, 0.002396379128399456, 0.0023868837925402958, 0.0023774651473636482, 0.002368122279262073, 0.002358854289153396, 0.0023496602921857066, 0.0023405394174498095, 0.002331490807698933, 0.002322513619075436, 0.0023136070208443255, 0.0023047701951333685, 0.0022960023366795953, 0.0022873026525820107, 0.002278670362060324, 0.0022701046962195193, 0.0022616048978200956, 0.002253170221053811, 0.002244799931324765, 0.0022364933050356747, 0.002228249629379186, 0.0022200682021340824, 0.002211948331466243, 0.00220388933573423, 0.00219589054329936, 0.002187951292340142, 0.0021800709306709627, 0.002172248815564887, 0.0021644843135804857, 0.002156776800392554, 0.002149125660626629, 0.002141530287697204, 0.0021339900836495327, 0.0021265044590049304, 0.0021190728326094814, 0.0021116946314860582, 0.0021043692906895684, 0.00209709625316534, 0.0020898749696105683, 0.0020827048983387436, 0.0020755855051469733, 0.0020685162631861463, 0.0020614966528338364, 0.0020545261615698995, 0.00204760428385469, 0.0020407305210098188, 0.0020339043811014048, 0.0020271253788257506, 0.0020203930353973744, 0.0020137068784393613, 0.0020070664418759447, 0.0020004712658272966, 0.0019939208965064517, 0.0019874148861183157, 0.001980952792760714, 0.0019745341803274275, 0.001968158618413168, 0.001961825682220449, 0.0019555349524683014, 0.0019492860153027946, 0.0019430784622093268, 0.0019369118899266223, 0.0019307859003624226, 0.0019247001005108107, 0.001918654102371141, 0.0019126475228685362, 0.0019066799837759137, 0.0019007511116375059, 0.0018948605376938423, 0.0018890078978081597, 0.0018831928323942097, 0.0018774149863454246, 0.0018716740089654194, 0.0018659695538998026, 0.0018603012790692534, 0.0018546688466038483, 0.0018490719227786064, 0.0018435101779502307, 0.0018379832864950057, 0.001832490926747844, 0.0018270327809424445, 0.0018216085351525399, 0.0018162178792342197, 0.001810860506769283, 0.0018055361150096367, 0.001800244404822667, 0.0017949850806376127, 0.0017897578503928817, 0.001784562425484317, 0.001779398520714373, 0.0017742658542421936, 0.0017691641475345726, 0.0017640931253177726, 0.0017590525155301924, 0.0017540420492758546, 0.0017490614607787109, 0.0017441104873377339, 0.0017391888692827892, 0.0017342963499312669, 0.0017294326755454587, 0.0017245975952906688, 0.0017197908611940314, 0.00171501222810404, 0.00171026145365076, 0.001705538298206711, 0.0017008425248484134, 0.0016961738993185832, 0.001691532189988953, 0.001686917167823727, 0.001682328606343632, 0.0016777662815905773, 0.0016732299720928917, 0.0016687194588311432, 0.0016642345252045128, 0.001659774956997726, 0.001655340542348529, 0.001650931071715689, 0.0016465463378475165, 0.0016421861357509093, 0.00163785026266088, 0.0016335385180105914, 0.001629250703401868, 0.0016249866225761767, 0.0016207460813860801, 0.001616528887767142, 0.0016123348517102785, 0.00160816378523455, 0.001604015502360384, 0.00159988981908322, 0.0015957865533475681, 0.0015917055250214821, 0.0015876465558714188, 0.0015836094695375032, 0.0015795940915091723, 0.0015756002491011992, 0.0015716277714300857, 0.0015676764893908252, 0.0015637462356340177, 0.0015598368445433406, 0.0015559481522133627, 0.0015520799964276984, 0.0015482322166374947, 0.0015444046539402447, 0.001540597151058926, 0.0015368095523214478, 0.0015330417036404135, 0.0015292934524931885, 0.0015255646479022632, 0.0015218551404159112, 0.001518164782089141, 0.0015144934264649259, 0.0015108409285557124, 0.0015072071448252087, 0.0015035919331704375, 0.001499995152904054, 0.001496416664736925, 0.0014928563307609651, 0.001489314014432222, 0.001485789580554207, 0.0014822828952614758, 0.0014787938260034368, 0.0014753222415284043, 0.0014718680118678779, 0.0014684310083210464, 0.0014650111034395198, 0.0014616081710122778, 0.0014582220860508313, 0.0014548527247746027, 0.001451499964596508, 0.0014481636841087453, 0.0014448437630687888, 0.001441540082385576, 0.0014382525241058942, 0.0014349809714009534, 0.0014317253085531561, 0.0014284854209430427, 0.0014252611950364264, 0.0014220525183717076, 0.0014188592795473603, 0.0014156813682095941, 0.001412518675040192, 0.00140937109174451, 0.0014062385110396444, 0.0014031208266427635, 0.0014000179332595954, 0.0013969297265730817, 0.0013938561032321752, 0.0013907969608407994, 0.0013877521979469552, 0.0013847217140319729, 0.0013817054094999147, 0.001378703185667117, 0.001375714944751875, 0.0013727405898642626, 0.0013697800249960997, 0.0013668331550110374, 0.0013638998856347927, 0.0013609801234455, 0.001358073775864198, 0.0013551807511454428, 0.001352300958368044, 0.0013494343074259214, 0.0013465807090190856, 0.001343740074644736, 0.0013409123165884754, 0.001338097347915641, 0.0013352950824627463, 0.001332505434829039, 0.0013297283203681646, 0.001326963655179939, 0.00132421135610223, 0.0013214713407029449, 0.0013187435272721123, 0.0013160278348140829, 0.0013133241830398112, 0.0013106324923592542, 0.0013079526838738502, 0.001305284679369112, 0.001302628401307297, 0.001299983772820184, 0.0012973507177019342, 0.0012947291604020448, 0.0012921190260183916, 0.001289520240290362, 0.00128693272959207, 0.0012843564209256595, 0.001281791241914691, 0.0012792371207976105, 0.001276693986421299, 0.0012741617682347076, 0.0012716403962825644, 0.001269129801199166, 0.0012666299142022402, 0.0012641406670868896, 0.0012616619922196076, 0.0012591938225323695, 0.0012567360915167944, 0.0012542887332183774, 0.001251851682230798, 0.0012494248736902918, 0.0012470082432700965, 0.0012446017271749619, 0.0012422052621357262, 0.0012398187854039586, 0.0012374422347466727, 0.0012350755484410911, 0.0012327186652694873, 0.0012303715245140774, 0.0012280340659519826, 0.0012257062298502454, 0.0012233879569609112, 0.0012210791885161637, 0.0012187798662235195, 0.0012164899322610792, 0.0012142093292728433, 0.001211938000364067, 0.001209675889096686, 0.0012074229394847876, 0.0012051790959901356, 0.001202944303517754, 0.0012007185074115532, 0.001198501653450015, 0.0011962936878419236, 0.0011940945572221494, 0.0011919042086474818, 0.001189722589592507, 0.001187549647945535, 0.0011853853320045798, 0.001183229590473374, 0.0011810823724574427, 0.001178943627460212, 0.0011768133053791695, 0.0011746913565020651, 0.0011725777315031538, 0.0011704723814394877, 0.0011683752577472408, 0.0011662863122380894, 0.0011642054970956183, 0.0011621327648717783, 0.00116006806848338, 0.0011580113612086286, 0.0011559625966836942, 0.0011539217288993285, 0.0011518887121975108, 0.0011498635012681358, 0.0011478460511457405, 0.0011458363172062627, 0.0011438342551638408, 0.0011418398210676463, 0.0011398529712987498, 0.001137873662567028, 0.0011359018519081006]\n"
          ],
          "name": "stdout"
        },
        {
          "output_type": "execute_result",
          "data": {
            "text/plain": [
              "Text(0, 0.5, 'Mean-squared error (loss)')"
            ]
          },
          "metadata": {
            "tags": []
          },
          "execution_count": 102
        },
        {
          "output_type": "display_data",
          "data": {
            "image/png": "[encoded data removed]",
            "text/plain": [
              "<Figure size 432x288 with 1 Axes>"
            ]
          },
          "metadata": {
            "tags": []
          }
        }
      ]
    },
    {
      "cell_type": "code",
      "metadata": {
        "id": "r7CAqODetbXZ",
        "outputId": "9da5ed72-a3a0-4956-c11f-41f9dc9fc175",
        "colab": {
          "base_uri": "https://localhost:8080/",
          "height": 279
        }
      },
      "source": [
        "x_coord = range(-10,10)\n",
        "\n",
        "plt.figure(figsize=(12, 4))\n",
        "\n",
        "# Now let's plot the error function for each feature,\n",
        "# for a range of weights and the output of the sigmoid function over x*w\n",
        "for feature in range(0, 2):\n",
        "  ax = plt.subplot(1, 2, feature+1)\n",
        "  ax.plot(x_coord, [cost_fn(X_train, y_train, feature, lambda x: prediction(x*w)) for w in x_coord],\n",
        "          marker='x')\n",
        "\n",
        "  ax.axvline(x=weights[feature], color='red')\n",
        "  ax.set_ylabel('Cost vs weight on feature ' + str(feature))\n",
        "  ax.set_xlabel('Weight w' + str(feature))"
      ],
      "execution_count": null,
      "outputs": [
        {
          "output_type": "display_data",
          "data": {
            "image/png": "[encoded data removed]",
            "text/plain": [
              "<Figure size 864x288 with 2 Axes>"
            ]
          },
          "metadata": {
            "tags": []
          }
        }
      ]
    },
    {
      "cell_type": "markdown",
      "metadata": {
        "id": "89LKGhu4837u"
      },
      "source": [
        "We've trained the weights -- let's make predictions!"
      ]
    },
    {
      "cell_type": "code",
      "metadata": {
        "id": "4ypZeyVe0A__",
        "outputId": "cdbf7ec4-ca03-4b39-f68e-8a36f3982be6",
        "colab": {
          "base_uri": "https://localhost:8080/",
          "height": 1000
        }
      },
      "source": [
        "for item in range(len(X_test)):\n",
        "  predicted_label = 0 if prediction(X_test[item].dot(weights)) < 0.5 else 1\n",
        "\n",
        "  print('Prediction {} vs {}'.format(predicted_label, y_test[item]))"
      ],
      "execution_count": null,
      "outputs": [
        {
          "output_type": "stream",
          "text": [
            "Prediction 1 vs 1\n",
            "Prediction 0 vs 0\n",
            "Prediction 0 vs 0\n",
            "Prediction 1 vs 1\n",
            "Prediction 0 vs 0\n",
            "Prediction 1 vs 1\n",
            "Prediction 1 vs 1\n",
            "Prediction 1 vs 1\n",
            "Prediction 0 vs 0\n",
            "Prediction 0 vs 0\n",
            "Prediction 1 vs 1\n",
            "Prediction 1 vs 1\n",
            "Prediction 0 vs 0\n",
            "Prediction 0 vs 0\n",
            "Prediction 0 vs 0\n",
            "Prediction 1 vs 1\n",
            "Prediction 0 vs 0\n",
            "Prediction 0 vs 0\n",
            "Prediction 0 vs 0\n",
            "Prediction 0 vs 0\n",
            "Prediction 1 vs 1\n",
            "Prediction 0 vs 0\n",
            "Prediction 0 vs 0\n",
            "Prediction 1 vs 1\n",
            "Prediction 0 vs 0\n",
            "Prediction 1 vs 1\n",
            "Prediction 1 vs 1\n",
            "Prediction 1 vs 1\n",
            "Prediction 1 vs 1\n",
            "Prediction 1 vs 1\n",
            "Prediction 0 vs 0\n",
            "Prediction 0 vs 0\n",
            "Prediction 0 vs 0\n",
            "Prediction 0 vs 0\n",
            "Prediction 0 vs 0\n",
            "Prediction 1 vs 1\n",
            "Prediction 0 vs 0\n",
            "Prediction 1 vs 1\n",
            "Prediction 1 vs 1\n",
            "Prediction 0 vs 0\n",
            "Prediction 0 vs 0\n",
            "Prediction 1 vs 1\n",
            "Prediction 1 vs 1\n",
            "Prediction 1 vs 1\n",
            "Prediction 1 vs 1\n",
            "Prediction 1 vs 1\n",
            "Prediction 0 vs 0\n",
            "Prediction 1 vs 1\n",
            "Prediction 0 vs 0\n",
            "Prediction 1 vs 1\n",
            "Prediction 0 vs 0\n",
            "Prediction 1 vs 1\n",
            "Prediction 1 vs 1\n",
            "Prediction 1 vs 1\n",
            "Prediction 0 vs 0\n",
            "Prediction 1 vs 1\n",
            "Prediction 1 vs 1\n",
            "Prediction 1 vs 1\n",
            "Prediction 0 vs 0\n",
            "Prediction 1 vs 1\n",
            "Prediction 0 vs 0\n",
            "Prediction 0 vs 0\n",
            "Prediction 1 vs 1\n",
            "Prediction 0 vs 0\n",
            "Prediction 0 vs 0\n",
            "Prediction 1 vs 1\n",
            "Prediction 1 vs 1\n",
            "Prediction 0 vs 0\n",
            "Prediction 1 vs 1\n",
            "Prediction 1 vs 1\n",
            "Prediction 0 vs 0\n",
            "Prediction 0 vs 0\n",
            "Prediction 1 vs 1\n",
            "Prediction 0 vs 0\n",
            "Prediction 0 vs 0\n",
            "Prediction 0 vs 0\n",
            "Prediction 1 vs 1\n",
            "Prediction 1 vs 1\n",
            "Prediction 1 vs 1\n",
            "Prediction 0 vs 0\n",
            "Prediction 0 vs 0\n",
            "Prediction 1 vs 1\n",
            "Prediction 0 vs 0\n",
            "Prediction 1 vs 1\n",
            "Prediction 1 vs 1\n",
            "Prediction 1 vs 1\n",
            "Prediction 0 vs 0\n",
            "Prediction 1 vs 1\n",
            "Prediction 1 vs 1\n",
            "Prediction 0 vs 0\n",
            "Prediction 0 vs 0\n",
            "Prediction 1 vs 1\n",
            "Prediction 1 vs 1\n",
            "Prediction 1 vs 1\n",
            "Prediction 1 vs 1\n",
            "Prediction 0 vs 0\n",
            "Prediction 1 vs 1\n",
            "Prediction 1 vs 1\n",
            "Prediction 1 vs 1\n",
            "Prediction 1 vs 1\n",
            "Prediction 1 vs 1\n",
            "Prediction 0 vs 0\n",
            "Prediction 0 vs 0\n",
            "Prediction 1 vs 1\n",
            "Prediction 0 vs 0\n",
            "Prediction 1 vs 1\n",
            "Prediction 1 vs 1\n",
            "Prediction 0 vs 0\n",
            "Prediction 0 vs 0\n",
            "Prediction 1 vs 1\n",
            "Prediction 0 vs 0\n",
            "Prediction 0 vs 0\n",
            "Prediction 1 vs 1\n",
            "Prediction 1 vs 1\n",
            "Prediction 1 vs 1\n",
            "Prediction 0 vs 0\n",
            "Prediction 0 vs 0\n",
            "Prediction 1 vs 1\n",
            "Prediction 0 vs 0\n",
            "Prediction 1 vs 1\n",
            "Prediction 1 vs 1\n",
            "Prediction 0 vs 0\n",
            "Prediction 0 vs 0\n",
            "Prediction 1 vs 1\n",
            "Prediction 0 vs 0\n",
            "Prediction 1 vs 1\n",
            "Prediction 1 vs 1\n",
            "Prediction 0 vs 0\n",
            "Prediction 1 vs 1\n",
            "Prediction 0 vs 0\n",
            "Prediction 1 vs 1\n",
            "Prediction 1 vs 1\n",
            "Prediction 0 vs 0\n",
            "Prediction 0 vs 0\n",
            "Prediction 0 vs 0\n",
            "Prediction 0 vs 0\n",
            "Prediction 0 vs 0\n",
            "Prediction 0 vs 0\n",
            "Prediction 1 vs 1\n",
            "Prediction 0 vs 0\n",
            "Prediction 0 vs 0\n",
            "Prediction 1 vs 1\n",
            "Prediction 0 vs 0\n",
            "Prediction 1 vs 1\n",
            "Prediction 0 vs 0\n",
            "Prediction 0 vs 0\n",
            "Prediction 0 vs 0\n",
            "Prediction 1 vs 1\n",
            "Prediction 1 vs 1\n",
            "Prediction 0 vs 0\n",
            "Prediction 1 vs 1\n",
            "Prediction 1 vs 1\n",
            "Prediction 1 vs 1\n",
            "Prediction 0 vs 0\n",
            "Prediction 0 vs 0\n",
            "Prediction 1 vs 1\n",
            "Prediction 0 vs 0\n",
            "Prediction 0 vs 0\n",
            "Prediction 1 vs 1\n",
            "Prediction 1 vs 1\n",
            "Prediction 0 vs 0\n",
            "Prediction 0 vs 0\n",
            "Prediction 1 vs 1\n",
            "Prediction 1 vs 1\n",
            "Prediction 1 vs 1\n",
            "Prediction 0 vs 0\n",
            "Prediction 0 vs 0\n",
            "Prediction 0 vs 0\n",
            "Prediction 1 vs 1\n",
            "Prediction 1 vs 1\n",
            "Prediction 0 vs 0\n",
            "Prediction 0 vs 0\n",
            "Prediction 0 vs 0\n",
            "Prediction 1 vs 1\n",
            "Prediction 0 vs 0\n",
            "Prediction 0 vs 0\n",
            "Prediction 0 vs 0\n",
            "Prediction 1 vs 1\n",
            "Prediction 1 vs 1\n",
            "Prediction 1 vs 1\n",
            "Prediction 0 vs 0\n",
            "Prediction 1 vs 1\n",
            "Prediction 0 vs 0\n",
            "Prediction 1 vs 1\n",
            "Prediction 0 vs 0\n",
            "Prediction 0 vs 0\n",
            "Prediction 0 vs 0\n",
            "Prediction 0 vs 0\n",
            "Prediction 0 vs 0\n",
            "Prediction 1 vs 1\n",
            "Prediction 1 vs 1\n",
            "Prediction 1 vs 1\n",
            "Prediction 1 vs 1\n",
            "Prediction 0 vs 0\n",
            "Prediction 1 vs 1\n",
            "Prediction 0 vs 0\n",
            "Prediction 1 vs 1\n",
            "Prediction 0 vs 0\n",
            "Prediction 1 vs 1\n",
            "Prediction 0 vs 0\n",
            "Prediction 1 vs 1\n",
            "Prediction 0 vs 0\n",
            "Prediction 1 vs 1\n",
            "Prediction 1 vs 1\n",
            "Prediction 1 vs 1\n",
            "Prediction 0 vs 0\n",
            "Prediction 0 vs 0\n",
            "Prediction 0 vs 0\n",
            "Prediction 0 vs 0\n",
            "Prediction 1 vs 1\n",
            "Prediction 1 vs 1\n",
            "Prediction 0 vs 0\n",
            "Prediction 0 vs 0\n",
            "Prediction 1 vs 1\n",
            "Prediction 0 vs 0\n",
            "Prediction 1 vs 1\n",
            "Prediction 0 vs 0\n",
            "Prediction 1 vs 1\n",
            "Prediction 0 vs 0\n",
            "Prediction 1 vs 1\n",
            "Prediction 0 vs 0\n",
            "Prediction 0 vs 0\n",
            "Prediction 1 vs 1\n",
            "Prediction 1 vs 1\n",
            "Prediction 0 vs 0\n",
            "Prediction 0 vs 0\n",
            "Prediction 1 vs 1\n",
            "Prediction 1 vs 1\n",
            "Prediction 0 vs 0\n",
            "Prediction 1 vs 1\n",
            "Prediction 0 vs 0\n",
            "Prediction 0 vs 0\n",
            "Prediction 0 vs 0\n",
            "Prediction 0 vs 0\n",
            "Prediction 0 vs 0\n",
            "Prediction 1 vs 1\n",
            "Prediction 1 vs 1\n",
            "Prediction 1 vs 1\n",
            "Prediction 1 vs 1\n",
            "Prediction 0 vs 0\n",
            "Prediction 1 vs 1\n",
            "Prediction 0 vs 0\n",
            "Prediction 1 vs 1\n",
            "Prediction 0 vs 0\n",
            "Prediction 0 vs 0\n",
            "Prediction 0 vs 0\n",
            "Prediction 1 vs 1\n",
            "Prediction 1 vs 1\n",
            "Prediction 0 vs 0\n",
            "Prediction 1 vs 1\n",
            "Prediction 0 vs 0\n",
            "Prediction 1 vs 1\n",
            "Prediction 1 vs 1\n",
            "Prediction 0 vs 0\n",
            "Prediction 0 vs 0\n",
            "Prediction 0 vs 0\n",
            "Prediction 0 vs 0\n",
            "Prediction 1 vs 1\n",
            "Prediction 0 vs 0\n",
            "Prediction 0 vs 0\n",
            "Prediction 1 vs 1\n",
            "Prediction 1 vs 1\n",
            "Prediction 0 vs 0\n",
            "Prediction 0 vs 0\n",
            "Prediction 0 vs 0\n",
            "Prediction 0 vs 0\n",
            "Prediction 0 vs 0\n",
            "Prediction 0 vs 0\n",
            "Prediction 0 vs 0\n",
            "Prediction 1 vs 1\n",
            "Prediction 0 vs 0\n",
            "Prediction 0 vs 0\n",
            "Prediction 1 vs 1\n",
            "Prediction 0 vs 0\n",
            "Prediction 0 vs 0\n",
            "Prediction 0 vs 0\n",
            "Prediction 1 vs 1\n",
            "Prediction 1 vs 1\n",
            "Prediction 0 vs 0\n",
            "Prediction 0 vs 0\n",
            "Prediction 0 vs 0\n",
            "Prediction 0 vs 0\n",
            "Prediction 0 vs 0\n",
            "Prediction 0 vs 0\n",
            "Prediction 1 vs 1\n",
            "Prediction 0 vs 0\n",
            "Prediction 0 vs 0\n",
            "Prediction 1 vs 1\n",
            "Prediction 1 vs 1\n",
            "Prediction 0 vs 0\n",
            "Prediction 1 vs 1\n",
            "Prediction 0 vs 0\n",
            "Prediction 1 vs 1\n",
            "Prediction 1 vs 1\n",
            "Prediction 0 vs 0\n",
            "Prediction 1 vs 1\n",
            "Prediction 1 vs 1\n",
            "Prediction 1 vs 1\n",
            "Prediction 1 vs 1\n",
            "Prediction 1 vs 1\n"
          ],
          "name": "stdout"
        }
      ]
    },
    {
      "cell_type": "code",
      "metadata": {
        "id": "8B5FoCeGn3NT"
      },
      "source": [],
      "execution_count": null,
      "outputs": []
    }
  ]
}