{
  "nbformat": 4,
  "nbformat_minor": 0,
  "metadata": {
    "colab": {
      "provenance": [],
      "include_colab_link": true
    },
    "kernelspec": {
      "name": "python3",
      "display_name": "Python 3"
    },
    "widgets": {
      "application/vnd.jupyter.widget-state+json": {
        "af78c26ae76a487a93b682d904997ff8": {
          "model_module": "@jupyter-widgets/controls",
          "model_name": "FloatProgressModel",
          "state": {
            "_view_name": "ProgressView",
            "style": "IPY_MODEL_0f10b96b5ab54f8581abc4e5d37716ea",
            "_dom_classes": [],
            "description": "Progress:",
            "_model_name": "FloatProgressModel",
            "bar_style": "info",
            "max": 1,
            "_view_module": "@jupyter-widgets/controls",
            "_model_module_version": "1.5.0",
            "value": 0,
            "_view_count": null,
            "_view_module_version": "1.5.0",
            "orientation": "horizontal",
            "min": 0,
            "description_tooltip": null,
            "_model_module": "@jupyter-widgets/controls",
            "layout": "IPY_MODEL_d014a7d501154c07b919decfdc62e6a6"
          },
          "model_module_version": "1.5.0"
        },
        "0f10b96b5ab54f8581abc4e5d37716ea": {
          "model_module": "@jupyter-widgets/controls",
          "model_name": "ProgressStyleModel",
          "state": {
            "_view_name": "StyleView",
            "_model_name": "ProgressStyleModel",
            "description_width": "",
            "_view_module": "@jupyter-widgets/base",
            "_model_module_version": "1.5.0",
            "_view_count": null,
            "_view_module_version": "1.2.0",
            "bar_color": null,
            "_model_module": "@jupyter-widgets/controls"
          },
          "model_module_version": "1.5.0"
        },
        "d014a7d501154c07b919decfdc62e6a6": {
          "model_module": "@jupyter-widgets/base",
          "model_name": "LayoutModel",
          "state": {
            "_view_name": "LayoutView",
            "grid_template_rows": null,
            "right": null,
            "justify_content": null,
            "_view_module": "@jupyter-widgets/base",
            "overflow": null,
            "_model_module_version": "1.2.0",
            "_view_count": null,
            "flex_flow": null,
            "width": "50%",
            "min_width": null,
            "border": null,
            "align_items": null,
            "bottom": null,
            "_model_module": "@jupyter-widgets/base",
            "top": null,
            "grid_column": null,
            "overflow_y": null,
            "overflow_x": null,
            "grid_auto_flow": null,
            "grid_area": null,
            "grid_template_columns": null,
            "flex": null,
            "_model_name": "LayoutModel",
            "justify_items": null,
            "grid_row": null,
            "max_height": null,
            "align_content": null,
            "visibility": null,
            "align_self": null,
            "height": "25px",
            "min_height": null,
            "padding": null,
            "grid_auto_rows": null,
            "grid_gap": null,
            "max_width": null,
            "order": null,
            "_view_module_version": "1.2.0",
            "grid_template_areas": null,
            "object_position": null,
            "object_fit": null,
            "grid_auto_columns": null,
            "margin": null,
            "display": null,
            "left": null
          },
          "model_module_version": "1.2.0"
        },
        "75d15eb7c6f440d7b0616ba13d085db3": {
          "model_module": "@jupyter-widgets/controls",
          "model_name": "FloatProgressModel",
          "state": {
            "_view_name": "ProgressView",
            "style": "IPY_MODEL_33527a90565c46d8ac4335e35a86f5db",
            "_dom_classes": [],
            "description": "Progress:",
            "_model_name": "FloatProgressModel",
            "bar_style": "info",
            "max": 1,
            "_view_module": "@jupyter-widgets/controls",
            "_model_module_version": "1.5.0",
            "value": 0,
            "_view_count": null,
            "_view_module_version": "1.5.0",
            "orientation": "horizontal",
            "min": 0,
            "description_tooltip": null,
            "_model_module": "@jupyter-widgets/controls",
            "layout": "IPY_MODEL_5aec1a546a2444229ed1f109c2dcb8f9"
          },
          "model_module_version": "1.5.0"
        },
        "33527a90565c46d8ac4335e35a86f5db": {
          "model_module": "@jupyter-widgets/controls",
          "model_name": "ProgressStyleModel",
          "state": {
            "_view_name": "StyleView",
            "_model_name": "ProgressStyleModel",
            "description_width": "",
            "_view_module": "@jupyter-widgets/base",
            "_model_module_version": "1.5.0",
            "_view_count": null,
            "_view_module_version": "1.2.0",
            "bar_color": null,
            "_model_module": "@jupyter-widgets/controls"
          },
          "model_module_version": "1.5.0"
        },
        "5aec1a546a2444229ed1f109c2dcb8f9": {
          "model_module": "@jupyter-widgets/base",
          "model_name": "LayoutModel",
          "state": {
            "_view_name": "LayoutView",
            "grid_template_rows": null,
            "right": null,
            "justify_content": null,
            "_view_module": "@jupyter-widgets/base",
            "overflow": null,
            "_model_module_version": "1.2.0",
            "_view_count": null,
            "flex_flow": null,
            "width": "50%",
            "min_width": null,
            "border": null,
            "align_items": null,
            "bottom": null,
            "_model_module": "@jupyter-widgets/base",
            "top": null,
            "grid_column": null,
            "overflow_y": null,
            "overflow_x": null,
            "grid_auto_flow": null,
            "grid_area": null,
            "grid_template_columns": null,
            "flex": null,
            "_model_name": "LayoutModel",
            "justify_items": null,
            "grid_row": null,
            "max_height": null,
            "align_content": null,
            "visibility": null,
            "align_self": null,
            "height": "25px",
            "min_height": null,
            "padding": null,
            "grid_auto_rows": null,
            "grid_gap": null,
            "max_width": null,
            "order": null,
            "_view_module_version": "1.2.0",
            "grid_template_areas": null,
            "object_position": null,
            "object_fit": null,
            "grid_auto_columns": null,
            "margin": null,
            "display": null,
            "left": null
          },
          "model_module_version": "1.2.0"
        },
        "db68080847b848c5857a35b0390ecf67": {
          "model_module": "@jupyter-widgets/controls",
          "model_name": "FloatProgressModel",
          "state": {
            "_view_name": "ProgressView",
            "style": "IPY_MODEL_471ca510593f4b059972eb01f177a5f2",
            "_dom_classes": [],
            "description": "Progress:",
            "_model_name": "FloatProgressModel",
            "bar_style": "info",
            "max": 1,
            "_view_module": "@jupyter-widgets/controls",
            "_model_module_version": "1.5.0",
            "value": 1,
            "_view_count": null,
            "_view_module_version": "1.5.0",
            "orientation": "horizontal",
            "min": 0,
            "description_tooltip": null,
            "_model_module": "@jupyter-widgets/controls",
            "layout": "IPY_MODEL_fb023e84b2cc4af3b608aa74101246e2"
          },
          "model_module_version": "1.5.0"
        },
        "471ca510593f4b059972eb01f177a5f2": {
          "model_module": "@jupyter-widgets/controls",
          "model_name": "ProgressStyleModel",
          "state": {
            "_view_name": "StyleView",
            "_model_name": "ProgressStyleModel",
            "description_width": "",
            "_view_module": "@jupyter-widgets/base",
            "_model_module_version": "1.5.0",
            "_view_count": null,
            "_view_module_version": "1.2.0",
            "bar_color": null,
            "_model_module": "@jupyter-widgets/controls"
          },
          "model_module_version": "1.5.0"
        },
        "fb023e84b2cc4af3b608aa74101246e2": {
          "model_module": "@jupyter-widgets/base",
          "model_name": "LayoutModel",
          "state": {
            "_view_name": "LayoutView",
            "grid_template_rows": null,
            "right": null,
            "justify_content": null,
            "_view_module": "@jupyter-widgets/base",
            "overflow": null,
            "_model_module_version": "1.2.0",
            "_view_count": null,
            "flex_flow": null,
            "width": "50%",
            "min_width": null,
            "border": null,
            "align_items": null,
            "bottom": null,
            "_model_module": "@jupyter-widgets/base",
            "top": null,
            "grid_column": null,
            "overflow_y": null,
            "overflow_x": null,
            "grid_auto_flow": null,
            "grid_area": null,
            "grid_template_columns": null,
            "flex": null,
            "_model_name": "LayoutModel",
            "justify_items": null,
            "grid_row": null,
            "max_height": null,
            "align_content": null,
            "visibility": null,
            "align_self": null,
            "height": "25px",
            "min_height": null,
            "padding": null,
            "grid_auto_rows": null,
            "grid_gap": null,
            "max_width": null,
            "order": null,
            "_view_module_version": "1.2.0",
            "grid_template_areas": null,
            "object_position": null,
            "object_fit": null,
            "grid_auto_columns": null,
            "margin": null,
            "display": null,
            "left": null
          },
          "model_module_version": "1.2.0"
        },
        "e5d3e6e556c2427dbfc3864b7b74cf65": {
          "model_module": "@jupyter-widgets/controls",
          "model_name": "FloatProgressModel",
          "state": {
            "_view_name": "ProgressView",
            "style": "IPY_MODEL_d258c491aabb41e3ba8891e41d4bd223",
            "_dom_classes": [],
            "description": "Progress:",
            "_model_name": "FloatProgressModel",
            "bar_style": "info",
            "max": 1,
            "_view_module": "@jupyter-widgets/controls",
            "_model_module_version": "1.5.0",
            "value": 0,
            "_view_count": null,
            "_view_module_version": "1.5.0",
            "orientation": "horizontal",
            "min": 0,
            "description_tooltip": null,
            "_model_module": "@jupyter-widgets/controls",
            "layout": "IPY_MODEL_7ed505ae6c824e47a6c40f617bff426b"
          },
          "model_module_version": "1.5.0"
        },
        "d258c491aabb41e3ba8891e41d4bd223": {
          "model_module": "@jupyter-widgets/controls",
          "model_name": "ProgressStyleModel",
          "state": {
            "_view_name": "StyleView",
            "_model_name": "ProgressStyleModel",
            "description_width": "",
            "_view_module": "@jupyter-widgets/base",
            "_model_module_version": "1.5.0",
            "_view_count": null,
            "_view_module_version": "1.2.0",
            "bar_color": null,
            "_model_module": "@jupyter-widgets/controls"
          },
          "model_module_version": "1.5.0"
        },
        "7ed505ae6c824e47a6c40f617bff426b": {
          "model_module": "@jupyter-widgets/base",
          "model_name": "LayoutModel",
          "state": {
            "_view_name": "LayoutView",
            "grid_template_rows": null,
            "right": null,
            "justify_content": null,
            "_view_module": "@jupyter-widgets/base",
            "overflow": null,
            "_model_module_version": "1.2.0",
            "_view_count": null,
            "flex_flow": null,
            "width": "50%",
            "min_width": null,
            "border": null,
            "align_items": null,
            "bottom": null,
            "_model_module": "@jupyter-widgets/base",
            "top": null,
            "grid_column": null,
            "overflow_y": null,
            "overflow_x": null,
            "grid_auto_flow": null,
            "grid_area": null,
            "grid_template_columns": null,
            "flex": null,
            "_model_name": "LayoutModel",
            "justify_items": null,
            "grid_row": null,
            "max_height": null,
            "align_content": null,
            "visibility": null,
            "align_self": null,
            "height": "25px",
            "min_height": null,
            "padding": null,
            "grid_auto_rows": null,
            "grid_gap": null,
            "max_width": null,
            "order": null,
            "_view_module_version": "1.2.0",
            "grid_template_areas": null,
            "object_position": null,
            "object_fit": null,
            "grid_auto_columns": null,
            "margin": null,
            "display": null,
            "left": null
          },
          "model_module_version": "1.2.0"
        },
        "07961ec3b40a40e690cb5417e7fc6c7d": {
          "model_module": "@jupyter-widgets/controls",
          "model_name": "FloatProgressModel",
          "state": {
            "_view_name": "ProgressView",
            "style": "IPY_MODEL_d226ba2f38154ae6a6986f21c542661b",
            "_dom_classes": [],
            "description": "Progress:",
            "_model_name": "FloatProgressModel",
            "bar_style": "info",
            "max": 1,
            "_view_module": "@jupyter-widgets/controls",
            "_model_module_version": "1.5.0",
            "value": 0,
            "_view_count": null,
            "_view_module_version": "1.5.0",
            "orientation": "horizontal",
            "min": 0,
            "description_tooltip": null,
            "_model_module": "@jupyter-widgets/controls",
            "layout": "IPY_MODEL_fe8bad773ced4d908e3405b9a44577cf"
          },
          "model_module_version": "1.5.0"
        },
        "d226ba2f38154ae6a6986f21c542661b": {
          "model_module": "@jupyter-widgets/controls",
          "model_name": "ProgressStyleModel",
          "state": {
            "_view_name": "StyleView",
            "_model_name": "ProgressStyleModel",
            "description_width": "",
            "_view_module": "@jupyter-widgets/base",
            "_model_module_version": "1.5.0",
            "_view_count": null,
            "_view_module_version": "1.2.0",
            "bar_color": null,
            "_model_module": "@jupyter-widgets/controls"
          },
          "model_module_version": "1.5.0"
        },
        "fe8bad773ced4d908e3405b9a44577cf": {
          "model_module": "@jupyter-widgets/base",
          "model_name": "LayoutModel",
          "state": {
            "_view_name": "LayoutView",
            "grid_template_rows": null,
            "right": null,
            "justify_content": null,
            "_view_module": "@jupyter-widgets/base",
            "overflow": null,
            "_model_module_version": "1.2.0",
            "_view_count": null,
            "flex_flow": null,
            "width": "50%",
            "min_width": null,
            "border": null,
            "align_items": null,
            "bottom": null,
            "_model_module": "@jupyter-widgets/base",
            "top": null,
            "grid_column": null,
            "overflow_y": null,
            "overflow_x": null,
            "grid_auto_flow": null,
            "grid_area": null,
            "grid_template_columns": null,
            "flex": null,
            "_model_name": "LayoutModel",
            "justify_items": null,
            "grid_row": null,
            "max_height": null,
            "align_content": null,
            "visibility": null,
            "align_self": null,
            "height": "25px",
            "min_height": null,
            "padding": null,
            "grid_auto_rows": null,
            "grid_gap": null,
            "max_width": null,
            "order": null,
            "_view_module_version": "1.2.0",
            "grid_template_areas": null,
            "object_position": null,
            "object_fit": null,
            "grid_auto_columns": null,
            "margin": null,
            "display": null,
            "left": null
          },
          "model_module_version": "1.2.0"
        },
        "e7b2e7eac2694542ad45c9c68cdc3712": {
          "model_module": "@jupyter-widgets/controls",
          "model_name": "FloatProgressModel",
          "state": {
            "_view_name": "ProgressView",
            "style": "IPY_MODEL_59e3f80454304c0d918bb3ef9d795a8c",
            "_dom_classes": [],
            "description": "Progress:",
            "_model_name": "FloatProgressModel",
            "bar_style": "info",
            "max": 1,
            "_view_module": "@jupyter-widgets/controls",
            "_model_module_version": "1.5.0",
            "value": 0,
            "_view_count": null,
            "_view_module_version": "1.5.0",
            "orientation": "horizontal",
            "min": 0,
            "description_tooltip": null,
            "_model_module": "@jupyter-widgets/controls",
            "layout": "IPY_MODEL_04c537dd86d643149ea07fdffb706914"
          },
          "model_module_version": "1.5.0"
        },
        "59e3f80454304c0d918bb3ef9d795a8c": {
          "model_module": "@jupyter-widgets/controls",
          "model_name": "ProgressStyleModel",
          "state": {
            "_view_name": "StyleView",
            "_model_name": "ProgressStyleModel",
            "description_width": "",
            "_view_module": "@jupyter-widgets/base",
            "_model_module_version": "1.5.0",
            "_view_count": null,
            "_view_module_version": "1.2.0",
            "bar_color": null,
            "_model_module": "@jupyter-widgets/controls"
          },
          "model_module_version": "1.5.0"
        },
        "04c537dd86d643149ea07fdffb706914": {
          "model_module": "@jupyter-widgets/base",
          "model_name": "LayoutModel",
          "state": {
            "_view_name": "LayoutView",
            "grid_template_rows": null,
            "right": null,
            "justify_content": null,
            "_view_module": "@jupyter-widgets/base",
            "overflow": null,
            "_model_module_version": "1.2.0",
            "_view_count": null,
            "flex_flow": null,
            "width": "50%",
            "min_width": null,
            "border": null,
            "align_items": null,
            "bottom": null,
            "_model_module": "@jupyter-widgets/base",
            "top": null,
            "grid_column": null,
            "overflow_y": null,
            "overflow_x": null,
            "grid_auto_flow": null,
            "grid_area": null,
            "grid_template_columns": null,
            "flex": null,
            "_model_name": "LayoutModel",
            "justify_items": null,
            "grid_row": null,
            "max_height": null,
            "align_content": null,
            "visibility": null,
            "align_self": null,
            "height": "25px",
            "min_height": null,
            "padding": null,
            "grid_auto_rows": null,
            "grid_gap": null,
            "max_width": null,
            "order": null,
            "_view_module_version": "1.2.0",
            "grid_template_areas": null,
            "object_position": null,
            "object_fit": null,
            "grid_auto_columns": null,
            "margin": null,
            "display": null,
            "left": null
          },
          "model_module_version": "1.2.0"
        },
        "fb22f3fc525549569fa6f0230498dd0d": {
          "model_module": "@jupyter-widgets/controls",
          "model_name": "FloatProgressModel",
          "state": {
            "_view_name": "ProgressView",
            "style": "IPY_MODEL_bf6caa57b94544e2ac2f601a7d1211a2",
            "_dom_classes": [],
            "description": "Progress:",
            "_model_name": "FloatProgressModel",
            "bar_style": "info",
            "max": 1,
            "_view_module": "@jupyter-widgets/controls",
            "_model_module_version": "1.5.0",
            "value": 0,
            "_view_count": null,
            "_view_module_version": "1.5.0",
            "orientation": "horizontal",
            "min": 0,
            "description_tooltip": null,
            "_model_module": "@jupyter-widgets/controls",
            "layout": "IPY_MODEL_89f72f4025784706882b1c25722519fa"
          },
          "model_module_version": "1.5.0"
        },
        "bf6caa57b94544e2ac2f601a7d1211a2": {
          "model_module": "@jupyter-widgets/controls",
          "model_name": "ProgressStyleModel",
          "state": {
            "_view_name": "StyleView",
            "_model_name": "ProgressStyleModel",
            "description_width": "",
            "_view_module": "@jupyter-widgets/base",
            "_model_module_version": "1.5.0",
            "_view_count": null,
            "_view_module_version": "1.2.0",
            "bar_color": null,
            "_model_module": "@jupyter-widgets/controls"
          },
          "model_module_version": "1.5.0"
        },
        "89f72f4025784706882b1c25722519fa": {
          "model_module": "@jupyter-widgets/base",
          "model_name": "LayoutModel",
          "state": {
            "_view_name": "LayoutView",
            "grid_template_rows": null,
            "right": null,
            "justify_content": null,
            "_view_module": "@jupyter-widgets/base",
            "overflow": null,
            "_model_module_version": "1.2.0",
            "_view_count": null,
            "flex_flow": null,
            "width": "50%",
            "min_width": null,
            "border": null,
            "align_items": null,
            "bottom": null,
            "_model_module": "@jupyter-widgets/base",
            "top": null,
            "grid_column": null,
            "overflow_y": null,
            "overflow_x": null,
            "grid_auto_flow": null,
            "grid_area": null,
            "grid_template_columns": null,
            "flex": null,
            "_model_name": "LayoutModel",
            "justify_items": null,
            "grid_row": null,
            "max_height": null,
            "align_content": null,
            "visibility": null,
            "align_self": null,
            "height": "25px",
            "min_height": null,
            "padding": null,
            "grid_auto_rows": null,
            "grid_gap": null,
            "max_width": null,
            "order": null,
            "_view_module_version": "1.2.0",
            "grid_template_areas": null,
            "object_position": null,
            "object_fit": null,
            "grid_auto_columns": null,
            "margin": null,
            "display": null,
            "left": null
          },
          "model_module_version": "1.2.0"
        },
        "e831c4a1f8a8452a862b1838a2217653": {
          "model_module": "@jupyter-widgets/controls",
          "model_name": "FloatProgressModel",
          "state": {
            "_view_name": "ProgressView",
            "style": "IPY_MODEL_47460bf17ac348eb9ea3b89a8dfa1cc0",
            "_dom_classes": [],
            "description": "Progress:",
            "_model_name": "FloatProgressModel",
            "bar_style": "info",
            "max": 1,
            "_view_module": "@jupyter-widgets/controls",
            "_model_module_version": "1.5.0",
            "value": 0,
            "_view_count": null,
            "_view_module_version": "1.5.0",
            "orientation": "horizontal",
            "min": 0,
            "description_tooltip": null,
            "_model_module": "@jupyter-widgets/controls",
            "layout": "IPY_MODEL_ba3b7d108db74728a9ead95b3274e294"
          },
          "model_module_version": "1.5.0"
        },
        "47460bf17ac348eb9ea3b89a8dfa1cc0": {
          "model_module": "@jupyter-widgets/controls",
          "model_name": "ProgressStyleModel",
          "state": {
            "_view_name": "StyleView",
            "_model_name": "ProgressStyleModel",
            "description_width": "",
            "_view_module": "@jupyter-widgets/base",
            "_model_module_version": "1.5.0",
            "_view_count": null,
            "_view_module_version": "1.2.0",
            "bar_color": null,
            "_model_module": "@jupyter-widgets/controls"
          },
          "model_module_version": "1.5.0"
        },
        "ba3b7d108db74728a9ead95b3274e294": {
          "model_module": "@jupyter-widgets/base",
          "model_name": "LayoutModel",
          "state": {
            "_view_name": "LayoutView",
            "grid_template_rows": null,
            "right": null,
            "justify_content": null,
            "_view_module": "@jupyter-widgets/base",
            "overflow": null,
            "_model_module_version": "1.2.0",
            "_view_count": null,
            "flex_flow": null,
            "width": "50%",
            "min_width": null,
            "border": null,
            "align_items": null,
            "bottom": null,
            "_model_module": "@jupyter-widgets/base",
            "top": null,
            "grid_column": null,
            "overflow_y": null,
            "overflow_x": null,
            "grid_auto_flow": null,
            "grid_area": null,
            "grid_template_columns": null,
            "flex": null,
            "_model_name": "LayoutModel",
            "justify_items": null,
            "grid_row": null,
            "max_height": null,
            "align_content": null,
            "visibility": null,
            "align_self": null,
            "height": "25px",
            "min_height": null,
            "padding": null,
            "grid_auto_rows": null,
            "grid_gap": null,
            "max_width": null,
            "order": null,
            "_view_module_version": "1.2.0",
            "grid_template_areas": null,
            "object_position": null,
            "object_fit": null,
            "grid_auto_columns": null,
            "margin": null,
            "display": null,
            "left": null
          },
          "model_module_version": "1.2.0"
        },
        "36a48c09162f41bb9e9d34737ca905e3": {
          "model_module": "@jupyter-widgets/controls",
          "model_name": "FloatProgressModel",
          "state": {
            "_view_name": "ProgressView",
            "style": "IPY_MODEL_510e076e9f3747f0b927f072c4326597",
            "_dom_classes": [],
            "description": "Progress:",
            "_model_name": "FloatProgressModel",
            "bar_style": "info",
            "max": 1,
            "_view_module": "@jupyter-widgets/controls",
            "_model_module_version": "1.5.0",
            "value": 0,
            "_view_count": null,
            "_view_module_version": "1.5.0",
            "orientation": "horizontal",
            "min": 0,
            "description_tooltip": null,
            "_model_module": "@jupyter-widgets/controls",
            "layout": "IPY_MODEL_fe0c9e80007e41e5824b5f42b459fa69"
          },
          "model_module_version": "1.5.0"
        },
        "510e076e9f3747f0b927f072c4326597": {
          "model_module": "@jupyter-widgets/controls",
          "model_name": "ProgressStyleModel",
          "state": {
            "_view_name": "StyleView",
            "_model_name": "ProgressStyleModel",
            "description_width": "",
            "_view_module": "@jupyter-widgets/base",
            "_model_module_version": "1.5.0",
            "_view_count": null,
            "_view_module_version": "1.2.0",
            "bar_color": null,
            "_model_module": "@jupyter-widgets/controls"
          },
          "model_module_version": "1.5.0"
        },
        "fe0c9e80007e41e5824b5f42b459fa69": {
          "model_module": "@jupyter-widgets/base",
          "model_name": "LayoutModel",
          "state": {
            "_view_name": "LayoutView",
            "grid_template_rows": null,
            "right": null,
            "justify_content": null,
            "_view_module": "@jupyter-widgets/base",
            "overflow": null,
            "_model_module_version": "1.2.0",
            "_view_count": null,
            "flex_flow": null,
            "width": "50%",
            "min_width": null,
            "border": null,
            "align_items": null,
            "bottom": null,
            "_model_module": "@jupyter-widgets/base",
            "top": null,
            "grid_column": null,
            "overflow_y": null,
            "overflow_x": null,
            "grid_auto_flow": null,
            "grid_area": null,
            "grid_template_columns": null,
            "flex": null,
            "_model_name": "LayoutModel",
            "justify_items": null,
            "grid_row": null,
            "max_height": null,
            "align_content": null,
            "visibility": null,
            "align_self": null,
            "height": "25px",
            "min_height": null,
            "padding": null,
            "grid_auto_rows": null,
            "grid_gap": null,
            "max_width": null,
            "order": null,
            "_view_module_version": "1.2.0",
            "grid_template_areas": null,
            "object_position": null,
            "object_fit": null,
            "grid_auto_columns": null,
            "margin": null,
            "display": null,
            "left": null
          },
          "model_module_version": "1.2.0"
        },
        "7b8319c5fde146308ee8614107f6fd29": {
          "model_module": "@jupyter-widgets/controls",
          "model_name": "FloatProgressModel",
          "state": {
            "_view_name": "ProgressView",
            "style": "IPY_MODEL_3de0f85542ca46e282bc791d54695fa3",
            "_dom_classes": [],
            "description": "Progress:",
            "_model_name": "FloatProgressModel",
            "bar_style": "info",
            "max": 1,
            "_view_module": "@jupyter-widgets/controls",
            "_model_module_version": "1.5.0",
            "value": 0.736322869955157,
            "_view_count": null,
            "_view_module_version": "1.5.0",
            "orientation": "horizontal",
            "min": 0,
            "description_tooltip": null,
            "_model_module": "@jupyter-widgets/controls",
            "layout": "IPY_MODEL_e63c684af808459280cf8385915117c4"
          },
          "model_module_version": "1.5.0"
        },
        "3de0f85542ca46e282bc791d54695fa3": {
          "model_module": "@jupyter-widgets/controls",
          "model_name": "ProgressStyleModel",
          "state": {
            "_view_name": "StyleView",
            "_model_name": "ProgressStyleModel",
            "description_width": "",
            "_view_module": "@jupyter-widgets/base",
            "_model_module_version": "1.5.0",
            "_view_count": null,
            "_view_module_version": "1.2.0",
            "bar_color": null,
            "_model_module": "@jupyter-widgets/controls"
          },
          "model_module_version": "1.5.0"
        },
        "e63c684af808459280cf8385915117c4": {
          "model_module": "@jupyter-widgets/base",
          "model_name": "LayoutModel",
          "state": {
            "_view_name": "LayoutView",
            "grid_template_rows": null,
            "right": null,
            "justify_content": null,
            "_view_module": "@jupyter-widgets/base",
            "overflow": null,
            "_model_module_version": "1.2.0",
            "_view_count": null,
            "flex_flow": null,
            "width": "50%",
            "min_width": null,
            "border": null,
            "align_items": null,
            "bottom": null,
            "_model_module": "@jupyter-widgets/base",
            "top": null,
            "grid_column": null,
            "overflow_y": null,
            "overflow_x": null,
            "grid_auto_flow": null,
            "grid_area": null,
            "grid_template_columns": null,
            "flex": null,
            "_model_name": "LayoutModel",
            "justify_items": null,
            "grid_row": null,
            "max_height": null,
            "align_content": null,
            "visibility": null,
            "align_self": null,
            "height": "25px",
            "min_height": null,
            "padding": null,
            "grid_auto_rows": null,
            "grid_gap": null,
            "max_width": null,
            "order": null,
            "_view_module_version": "1.2.0",
            "grid_template_areas": null,
            "object_position": null,
            "object_fit": null,
            "grid_auto_columns": null,
            "margin": null,
            "display": null,
            "left": null
          },
          "model_module_version": "1.2.0"
        },
        "99316016c4f34b9d8441c979ac116b48": {
          "model_module": "@jupyter-widgets/controls",
          "model_name": "FloatProgressModel",
          "state": {
            "_view_name": "ProgressView",
            "style": "IPY_MODEL_4629e003a78b477eb199de0365756961",
            "_dom_classes": [],
            "description": "Progress:",
            "_model_name": "FloatProgressModel",
            "bar_style": "info",
            "max": 1,
            "_view_module": "@jupyter-widgets/controls",
            "_model_module_version": "1.5.0",
            "value": 1,
            "_view_count": null,
            "_view_module_version": "1.5.0",
            "orientation": "horizontal",
            "min": 0,
            "description_tooltip": null,
            "_model_module": "@jupyter-widgets/controls",
            "layout": "IPY_MODEL_8605de08c5d24a3a8bcf8d5ba27d146f"
          },
          "model_module_version": "1.5.0"
        },
        "4629e003a78b477eb199de0365756961": {
          "model_module": "@jupyter-widgets/controls",
          "model_name": "ProgressStyleModel",
          "state": {
            "_view_name": "StyleView",
            "_model_name": "ProgressStyleModel",
            "description_width": "",
            "_view_module": "@jupyter-widgets/base",
            "_model_module_version": "1.5.0",
            "_view_count": null,
            "_view_module_version": "1.2.0",
            "bar_color": null,
            "_model_module": "@jupyter-widgets/controls"
          },
          "model_module_version": "1.5.0"
        },
        "8605de08c5d24a3a8bcf8d5ba27d146f": {
          "model_module": "@jupyter-widgets/base",
          "model_name": "LayoutModel",
          "state": {
            "_view_name": "LayoutView",
            "grid_template_rows": null,
            "right": null,
            "justify_content": null,
            "_view_module": "@jupyter-widgets/base",
            "overflow": null,
            "_model_module_version": "1.2.0",
            "_view_count": null,
            "flex_flow": null,
            "width": "50%",
            "min_width": null,
            "border": null,
            "align_items": null,
            "bottom": null,
            "_model_module": "@jupyter-widgets/base",
            "top": null,
            "grid_column": null,
            "overflow_y": null,
            "overflow_x": null,
            "grid_auto_flow": null,
            "grid_area": null,
            "grid_template_columns": null,
            "flex": null,
            "_model_name": "LayoutModel",
            "justify_items": null,
            "grid_row": null,
            "max_height": null,
            "align_content": null,
            "visibility": null,
            "align_self": null,
            "height": "25px",
            "min_height": null,
            "padding": null,
            "grid_auto_rows": null,
            "grid_gap": null,
            "max_width": null,
            "order": null,
            "_view_module_version": "1.2.0",
            "grid_template_areas": null,
            "object_position": null,
            "object_fit": null,
            "grid_auto_columns": null,
            "margin": null,
            "display": null,
            "left": null
          },
          "model_module_version": "1.2.0"
        }
      }
    }
  },
  "cells": [
    {
      "cell_type": "markdown",
      "metadata": {
        "id": "view-in-github",
        "colab_type": "text"
      },
      "source": [
        "<a href=\"https://colab.research.google.com/github/MarinaWolters/Coding-Tracker/blob/master/W8_Unsupervised_ML.ipynb\" target=\"_parent\"><img src=\"https://colab.research.google.com/assets/colab-badge.svg\" alt=\"Open In Colab\"/></a>"
      ]
    },
    {
      "cell_type": "markdown",
      "metadata": {
        "id": "bTO5Y-JDTggl"
      },
      "source": [
        "# 2.1 Unsupervised Machine Learning: Dimensionality Reduction\n",
        "\n",
        "### Example Data\n",
        "\n",
        "We'll start by using PCA, which is helpful in reducing dimensionality.  Here we use a dataset on types of glass -- useful in criminology where we may need to identify a glass shard by its purpose.  This dataset comes from the UC Irvine Machine Learning Repository; it was created by B. German in Britain's Home Office Forensic Science Service and donated by Dr. Vina Spiehler of Diagnostic Products Corporation.  You can read more about it at:\n",
        "\n",
        "https://archive.ics.uci.edu/ml/datasets/glass+identification\n",
        "\n"
      ]
    },
    {
      "cell_type": "markdown",
      "metadata": {
        "id": "L5hxhOjjh67_"
      },
      "source": [
        "We will start by downloading the data from where it is shared in Google Drive."
      ]
    },
    {
      "cell_type": "code",
      "metadata": {
        "id": "mOI3VqXzWGEJ",
        "outputId": "37c64b34-ba41-4924-c437-88ce8cdbf6b7",
        "colab": {
          "base_uri": "https://localhost:8080/",
          "height": 34
        }
      },
      "source": [
        "!pip install googledrivedownloader"
      ],
      "execution_count": null,
      "outputs": [
        {
          "output_type": "stream",
          "text": [
            "Requirement already satisfied: googledrivedownloader in /usr/local/lib/python3.6/dist-packages (0.4)\n"
          ],
          "name": "stdout"
        }
      ]
    },
    {
      "cell_type": "code",
      "metadata": {
        "id": "-XY8NA3iTJMR"
      },
      "source": [
        "from google_drive_downloader import GoogleDriveDownloader as gdd\n",
        "\n",
        "# Glass data from https://archive.ics.uci.edu/ml/machine-learning-databases/glass/\n",
        "gdd.download_file_from_google_drive(file_id='1b1C1AlZmqada3ncYWVqJd8zQIWphOo_K',\n",
        "                                    dest_path='/content/glass.csv')"
      ],
      "execution_count": null,
      "outputs": []
    },
    {
      "cell_type": "code",
      "metadata": {
        "id": "_VPFStwZWOPh",
        "outputId": "bd2d7a1f-fe4a-439d-eda4-6cb8f624d7b7",
        "colab": {
          "base_uri": "https://localhost:8080/",
          "height": 187
        }
      },
      "source": [
        "!head glass.csv"
      ],
      "execution_count": null,
      "outputs": [
        {
          "output_type": "stream",
          "text": [
            "ID,RefractiveIndex,Na,Mg,Al,Si,K,Ca,Ba,Fe,Type\r\n",
            "1,1.52101,13.64,4.49,1.1,71.78,0.06,8.75,0,0,1\r\n",
            "2,1.51761,13.89,3.6,1.36,72.73,0.48,7.83,0,0,1\r\n",
            "3,1.51618,13.53,3.55,1.54,72.99,0.39,7.78,0,0,1\r\n",
            "4,1.51766,13.21,3.69,1.29,72.61,0.57,8.22,0,0,1\r\n",
            "5,1.51742,13.27,3.62,1.24,73.08,0.55,8.07,0,0,1\r\n",
            "6,1.51596,12.79,3.61,1.62,72.97,0.64,8.07,0,0.26,1\r\n",
            "7,1.51743,13.3,3.6,1.14,73.09,0.58,8.17,0,0,1\r\n",
            "8,1.51756,13.15,3.61,1.05,73.24,0.57,8.24,0,0,1\r\n",
            "9,1.51918,14.04,3.58,1.37,72.08,0.56,8.3,0,0,1\r\n"
          ],
          "name": "stdout"
        }
      ]
    },
    {
      "cell_type": "code",
      "metadata": {
        "id": "yo7YgJWHXDiX",
        "outputId": "a968d2c9-f1bb-4aea-bcdf-c0f7dcad7079",
        "colab": {
          "base_uri": "https://localhost:8080/",
          "height": 419
        }
      },
      "source": [
        "# Load into a dataframe, with the header in row 0\n",
        "import pandas as pd\n",
        "\n",
        "glass_df = pd.read_csv('glass.csv', header=[0])\n",
        "\n",
        "glass_df"
      ],
      "execution_count": null,
      "outputs": [
        {
          "output_type": "execute_result",
          "data": {
            "text/html": [
              "<div>\n",
              "<style scoped>\n",
              "    .dataframe tbody tr th:only-of-type {\n",
              "        vertical-align: middle;\n",
              "    }\n",
              "\n",
              "    .dataframe tbody tr th {\n",
              "        vertical-align: top;\n",
              "    }\n",
              "\n",
              "    .dataframe thead th {\n",
              "        text-align: right;\n",
              "    }\n",
              "</style>\n",
              "<table border=\"1\" class=\"dataframe\">\n",
              "  <thead>\n",
              "    <tr style=\"text-align: right;\">\n",
              "      <th></th>\n",
              "      <th>ID</th>\n",
              "      <th>RefractiveIndex</th>\n",
              "      <th>Na</th>\n",
              "      <th>Mg</th>\n",
              "      <th>Al</th>\n",
              "      <th>Si</th>\n",
              "      <th>K</th>\n",
              "      <th>Ca</th>\n",
              "      <th>Ba</th>\n",
              "      <th>Fe</th>\n",
              "      <th>Type</th>\n",
              "    </tr>\n",
              "  </thead>\n",
              "  <tbody>\n",
              "    <tr>\n",
              "      <th>0</th>\n",
              "      <td>1</td>\n",
              "      <td>1.52101</td>\n",
              "      <td>13.64</td>\n",
              "      <td>4.49</td>\n",
              "      <td>1.10</td>\n",
              "      <td>71.78</td>\n",
              "      <td>0.06</td>\n",
              "      <td>8.75</td>\n",
              "      <td>0.00</td>\n",
              "      <td>0.0</td>\n",
              "      <td>1</td>\n",
              "    </tr>\n",
              "    <tr>\n",
              "      <th>1</th>\n",
              "      <td>2</td>\n",
              "      <td>1.51761</td>\n",
              "      <td>13.89</td>\n",
              "      <td>3.60</td>\n",
              "      <td>1.36</td>\n",
              "      <td>72.73</td>\n",
              "      <td>0.48</td>\n",
              "      <td>7.83</td>\n",
              "      <td>0.00</td>\n",
              "      <td>0.0</td>\n",
              "      <td>1</td>\n",
              "    </tr>\n",
              "    <tr>\n",
              "      <th>2</th>\n",
              "      <td>3</td>\n",
              "      <td>1.51618</td>\n",
              "      <td>13.53</td>\n",
              "      <td>3.55</td>\n",
              "      <td>1.54</td>\n",
              "      <td>72.99</td>\n",
              "      <td>0.39</td>\n",
              "      <td>7.78</td>\n",
              "      <td>0.00</td>\n",
              "      <td>0.0</td>\n",
              "      <td>1</td>\n",
              "    </tr>\n",
              "    <tr>\n",
              "      <th>3</th>\n",
              "      <td>4</td>\n",
              "      <td>1.51766</td>\n",
              "      <td>13.21</td>\n",
              "      <td>3.69</td>\n",
              "      <td>1.29</td>\n",
              "      <td>72.61</td>\n",
              "      <td>0.57</td>\n",
              "      <td>8.22</td>\n",
              "      <td>0.00</td>\n",
              "      <td>0.0</td>\n",
              "      <td>1</td>\n",
              "    </tr>\n",
              "    <tr>\n",
              "      <th>4</th>\n",
              "      <td>5</td>\n",
              "      <td>1.51742</td>\n",
              "      <td>13.27</td>\n",
              "      <td>3.62</td>\n",
              "      <td>1.24</td>\n",
              "      <td>73.08</td>\n",
              "      <td>0.55</td>\n",
              "      <td>8.07</td>\n",
              "      <td>0.00</td>\n",
              "      <td>0.0</td>\n",
              "      <td>1</td>\n",
              "    </tr>\n",
              "    <tr>\n",
              "      <th>...</th>\n",
              "      <td>...</td>\n",
              "      <td>...</td>\n",
              "      <td>...</td>\n",
              "      <td>...</td>\n",
              "      <td>...</td>\n",
              "      <td>...</td>\n",
              "      <td>...</td>\n",
              "      <td>...</td>\n",
              "      <td>...</td>\n",
              "      <td>...</td>\n",
              "      <td>...</td>\n",
              "    </tr>\n",
              "    <tr>\n",
              "      <th>209</th>\n",
              "      <td>210</td>\n",
              "      <td>1.51623</td>\n",
              "      <td>14.14</td>\n",
              "      <td>0.00</td>\n",
              "      <td>2.88</td>\n",
              "      <td>72.61</td>\n",
              "      <td>0.08</td>\n",
              "      <td>9.18</td>\n",
              "      <td>1.06</td>\n",
              "      <td>0.0</td>\n",
              "      <td>7</td>\n",
              "    </tr>\n",
              "    <tr>\n",
              "      <th>210</th>\n",
              "      <td>211</td>\n",
              "      <td>1.51685</td>\n",
              "      <td>14.92</td>\n",
              "      <td>0.00</td>\n",
              "      <td>1.99</td>\n",
              "      <td>73.06</td>\n",
              "      <td>0.00</td>\n",
              "      <td>8.40</td>\n",
              "      <td>1.59</td>\n",
              "      <td>0.0</td>\n",
              "      <td>7</td>\n",
              "    </tr>\n",
              "    <tr>\n",
              "      <th>211</th>\n",
              "      <td>212</td>\n",
              "      <td>1.52065</td>\n",
              "      <td>14.36</td>\n",
              "      <td>0.00</td>\n",
              "      <td>2.02</td>\n",
              "      <td>73.42</td>\n",
              "      <td>0.00</td>\n",
              "      <td>8.44</td>\n",
              "      <td>1.64</td>\n",
              "      <td>0.0</td>\n",
              "      <td>7</td>\n",
              "    </tr>\n",
              "    <tr>\n",
              "      <th>212</th>\n",
              "      <td>213</td>\n",
              "      <td>1.51651</td>\n",
              "      <td>14.38</td>\n",
              "      <td>0.00</td>\n",
              "      <td>1.94</td>\n",
              "      <td>73.61</td>\n",
              "      <td>0.00</td>\n",
              "      <td>8.48</td>\n",
              "      <td>1.57</td>\n",
              "      <td>0.0</td>\n",
              "      <td>7</td>\n",
              "    </tr>\n",
              "    <tr>\n",
              "      <th>213</th>\n",
              "      <td>214</td>\n",
              "      <td>1.51711</td>\n",
              "      <td>14.23</td>\n",
              "      <td>0.00</td>\n",
              "      <td>2.08</td>\n",
              "      <td>73.36</td>\n",
              "      <td>0.00</td>\n",
              "      <td>8.62</td>\n",
              "      <td>1.67</td>\n",
              "      <td>0.0</td>\n",
              "      <td>7</td>\n",
              "    </tr>\n",
              "  </tbody>\n",
              "</table>\n",
              "<p>214 rows × 11 columns</p>\n",
              "</div>"
            ],
            "text/plain": [
              "      ID  RefractiveIndex     Na    Mg    Al  ...     K    Ca    Ba   Fe  Type\n",
              "0      1          1.52101  13.64  4.49  1.10  ...  0.06  8.75  0.00  0.0     1\n",
              "1      2          1.51761  13.89  3.60  1.36  ...  0.48  7.83  0.00  0.0     1\n",
              "2      3          1.51618  13.53  3.55  1.54  ...  0.39  7.78  0.00  0.0     1\n",
              "3      4          1.51766  13.21  3.69  1.29  ...  0.57  8.22  0.00  0.0     1\n",
              "4      5          1.51742  13.27  3.62  1.24  ...  0.55  8.07  0.00  0.0     1\n",
              "..   ...              ...    ...   ...   ...  ...   ...   ...   ...  ...   ...\n",
              "209  210          1.51623  14.14  0.00  2.88  ...  0.08  9.18  1.06  0.0     7\n",
              "210  211          1.51685  14.92  0.00  1.99  ...  0.00  8.40  1.59  0.0     7\n",
              "211  212          1.52065  14.36  0.00  2.02  ...  0.00  8.44  1.64  0.0     7\n",
              "212  213          1.51651  14.38  0.00  1.94  ...  0.00  8.48  1.57  0.0     7\n",
              "213  214          1.51711  14.23  0.00  2.08  ...  0.00  8.62  1.67  0.0     7\n",
              "\n",
              "[214 rows x 11 columns]"
            ]
          },
          "metadata": {
            "tags": []
          },
          "execution_count": 4
        }
      ]
    },
    {
      "cell_type": "code",
      "metadata": {
        "id": "emfInXU-sNB2",
        "outputId": "b24e6aae-7c3e-4465-9f1b-0e9923b3a3ae",
        "colab": {
          "base_uri": "https://localhost:8080/",
          "height": 279
        }
      },
      "source": [
        "import matplotlib\n",
        "import matplotlib.pyplot as plt\n",
        "\n",
        "fig1 = glass_df.plot.scatter(x='RefractiveIndex',y='Na')"
      ],
      "execution_count": null,
      "outputs": [
        {
          "output_type": "display_data",
          "data": {
            "image/png": "[encoded data removed]",
            "text/plain": [
              "<Figure size 432x288 with 1 Axes>"
            ]
          },
          "metadata": {
            "tags": []
          }
        }
      ]
    },
    {
      "cell_type": "code",
      "metadata": {
        "id": "oBHmrP7QXM2s",
        "outputId": "ab657d89-9ef9-4595-dacf-04ab439bc2b3",
        "colab": {
          "base_uri": "https://localhost:8080/",
          "height": 419
        }
      },
      "source": [
        "# Remove the ID and the Type labels for the training data\n",
        "X = glass_df.drop(['ID','Type'], axis=1)\n",
        "\n",
        "# Labels\n",
        "y = glass_df['Type']\n",
        "\n",
        "# Let's see the data\n",
        "X"
      ],
      "execution_count": null,
      "outputs": [
        {
          "output_type": "execute_result",
          "data": {
            "text/html": [
              "<div>\n",
              "<style scoped>\n",
              "    .dataframe tbody tr th:only-of-type {\n",
              "        vertical-align: middle;\n",
              "    }\n",
              "\n",
              "    .dataframe tbody tr th {\n",
              "        vertical-align: top;\n",
              "    }\n",
              "\n",
              "    .dataframe thead th {\n",
              "        text-align: right;\n",
              "    }\n",
              "</style>\n",
              "<table border=\"1\" class=\"dataframe\">\n",
              "  <thead>\n",
              "    <tr style=\"text-align: right;\">\n",
              "      <th></th>\n",
              "      <th>RefractiveIndex</th>\n",
              "      <th>Na</th>\n",
              "      <th>Mg</th>\n",
              "      <th>Al</th>\n",
              "      <th>Si</th>\n",
              "      <th>K</th>\n",
              "      <th>Ca</th>\n",
              "      <th>Ba</th>\n",
              "      <th>Fe</th>\n",
              "    </tr>\n",
              "  </thead>\n",
              "  <tbody>\n",
              "    <tr>\n",
              "      <th>0</th>\n",
              "      <td>1.52101</td>\n",
              "      <td>13.64</td>\n",
              "      <td>4.49</td>\n",
              "      <td>1.10</td>\n",
              "      <td>71.78</td>\n",
              "      <td>0.06</td>\n",
              "      <td>8.75</td>\n",
              "      <td>0.00</td>\n",
              "      <td>0.0</td>\n",
              "    </tr>\n",
              "    <tr>\n",
              "      <th>1</th>\n",
              "      <td>1.51761</td>\n",
              "      <td>13.89</td>\n",
              "      <td>3.60</td>\n",
              "      <td>1.36</td>\n",
              "      <td>72.73</td>\n",
              "      <td>0.48</td>\n",
              "      <td>7.83</td>\n",
              "      <td>0.00</td>\n",
              "      <td>0.0</td>\n",
              "    </tr>\n",
              "    <tr>\n",
              "      <th>2</th>\n",
              "      <td>1.51618</td>\n",
              "      <td>13.53</td>\n",
              "      <td>3.55</td>\n",
              "      <td>1.54</td>\n",
              "      <td>72.99</td>\n",
              "      <td>0.39</td>\n",
              "      <td>7.78</td>\n",
              "      <td>0.00</td>\n",
              "      <td>0.0</td>\n",
              "    </tr>\n",
              "    <tr>\n",
              "      <th>3</th>\n",
              "      <td>1.51766</td>\n",
              "      <td>13.21</td>\n",
              "      <td>3.69</td>\n",
              "      <td>1.29</td>\n",
              "      <td>72.61</td>\n",
              "      <td>0.57</td>\n",
              "      <td>8.22</td>\n",
              "      <td>0.00</td>\n",
              "      <td>0.0</td>\n",
              "    </tr>\n",
              "    <tr>\n",
              "      <th>4</th>\n",
              "      <td>1.51742</td>\n",
              "      <td>13.27</td>\n",
              "      <td>3.62</td>\n",
              "      <td>1.24</td>\n",
              "      <td>73.08</td>\n",
              "      <td>0.55</td>\n",
              "      <td>8.07</td>\n",
              "      <td>0.00</td>\n",
              "      <td>0.0</td>\n",
              "    </tr>\n",
              "    <tr>\n",
              "      <th>...</th>\n",
              "      <td>...</td>\n",
              "      <td>...</td>\n",
              "      <td>...</td>\n",
              "      <td>...</td>\n",
              "      <td>...</td>\n",
              "      <td>...</td>\n",
              "      <td>...</td>\n",
              "      <td>...</td>\n",
              "      <td>...</td>\n",
              "    </tr>\n",
              "    <tr>\n",
              "      <th>209</th>\n",
              "      <td>1.51623</td>\n",
              "      <td>14.14</td>\n",
              "      <td>0.00</td>\n",
              "      <td>2.88</td>\n",
              "      <td>72.61</td>\n",
              "      <td>0.08</td>\n",
              "      <td>9.18</td>\n",
              "      <td>1.06</td>\n",
              "      <td>0.0</td>\n",
              "    </tr>\n",
              "    <tr>\n",
              "      <th>210</th>\n",
              "      <td>1.51685</td>\n",
              "      <td>14.92</td>\n",
              "      <td>0.00</td>\n",
              "      <td>1.99</td>\n",
              "      <td>73.06</td>\n",
              "      <td>0.00</td>\n",
              "      <td>8.40</td>\n",
              "      <td>1.59</td>\n",
              "      <td>0.0</td>\n",
              "    </tr>\n",
              "    <tr>\n",
              "      <th>211</th>\n",
              "      <td>1.52065</td>\n",
              "      <td>14.36</td>\n",
              "      <td>0.00</td>\n",
              "      <td>2.02</td>\n",
              "      <td>73.42</td>\n",
              "      <td>0.00</td>\n",
              "      <td>8.44</td>\n",
              "      <td>1.64</td>\n",
              "      <td>0.0</td>\n",
              "    </tr>\n",
              "    <tr>\n",
              "      <th>212</th>\n",
              "      <td>1.51651</td>\n",
              "      <td>14.38</td>\n",
              "      <td>0.00</td>\n",
              "      <td>1.94</td>\n",
              "      <td>73.61</td>\n",
              "      <td>0.00</td>\n",
              "      <td>8.48</td>\n",
              "      <td>1.57</td>\n",
              "      <td>0.0</td>\n",
              "    </tr>\n",
              "    <tr>\n",
              "      <th>213</th>\n",
              "      <td>1.51711</td>\n",
              "      <td>14.23</td>\n",
              "      <td>0.00</td>\n",
              "      <td>2.08</td>\n",
              "      <td>73.36</td>\n",
              "      <td>0.00</td>\n",
              "      <td>8.62</td>\n",
              "      <td>1.67</td>\n",
              "      <td>0.0</td>\n",
              "    </tr>\n",
              "  </tbody>\n",
              "</table>\n",
              "<p>214 rows × 9 columns</p>\n",
              "</div>"
            ],
            "text/plain": [
              "     RefractiveIndex     Na    Mg    Al     Si     K    Ca    Ba   Fe\n",
              "0            1.52101  13.64  4.49  1.10  71.78  0.06  8.75  0.00  0.0\n",
              "1            1.51761  13.89  3.60  1.36  72.73  0.48  7.83  0.00  0.0\n",
              "2            1.51618  13.53  3.55  1.54  72.99  0.39  7.78  0.00  0.0\n",
              "3            1.51766  13.21  3.69  1.29  72.61  0.57  8.22  0.00  0.0\n",
              "4            1.51742  13.27  3.62  1.24  73.08  0.55  8.07  0.00  0.0\n",
              "..               ...    ...   ...   ...    ...   ...   ...   ...  ...\n",
              "209          1.51623  14.14  0.00  2.88  72.61  0.08  9.18  1.06  0.0\n",
              "210          1.51685  14.92  0.00  1.99  73.06  0.00  8.40  1.59  0.0\n",
              "211          1.52065  14.36  0.00  2.02  73.42  0.00  8.44  1.64  0.0\n",
              "212          1.51651  14.38  0.00  1.94  73.61  0.00  8.48  1.57  0.0\n",
              "213          1.51711  14.23  0.00  2.08  73.36  0.00  8.62  1.67  0.0\n",
              "\n",
              "[214 rows x 9 columns]"
            ]
          },
          "metadata": {
            "tags": []
          },
          "execution_count": 6
        }
      ]
    },
    {
      "cell_type": "markdown",
      "metadata": {
        "id": "DmjNbBha_0BO"
      },
      "source": [
        "2.1.1 Principal Components Analysis (PCA)\n",
        "\n",
        "We will now use **PCA** to reduce the number of dimensions in the data."
      ]
    },
    {
      "cell_type": "markdown",
      "metadata": {
        "id": "hYV4nyKqiL06"
      },
      "source": [
        "Best practice for PCA is to scale the data..."
      ]
    },
    {
      "cell_type": "code",
      "metadata": {
        "id": "4Ks0QAlqc0I8",
        "outputId": "5ffe1f15-c9c6-4ff1-af15-21365725c66d",
        "colab": {
          "base_uri": "https://localhost:8080/",
          "height": 238
        }
      },
      "source": [
        "from sklearn.preprocessing import StandardScaler\n",
        "\n",
        "# Standardizing the features based on unit variance\n",
        "X = StandardScaler().fit_transform(X)\n",
        "\n",
        "X"
      ],
      "execution_count": null,
      "outputs": [
        {
          "output_type": "execute_result",
          "data": {
            "text/plain": [
              "array([[ 0.87286765,  0.28495326,  1.25463857, ..., -0.14576634,\n",
              "        -0.35287683, -0.5864509 ],\n",
              "       [-0.24933347,  0.59181718,  0.63616803, ..., -0.79373376,\n",
              "        -0.35287683, -0.5864509 ],\n",
              "       [-0.72131806,  0.14993314,  0.60142249, ..., -0.82894938,\n",
              "        -0.35287683, -0.5864509 ],\n",
              "       ...,\n",
              "       [ 0.75404635,  1.16872135, -1.86551055, ..., -0.36410319,\n",
              "         2.95320036, -0.5864509 ],\n",
              "       [-0.61239854,  1.19327046, -1.86551055, ..., -0.33593069,\n",
              "         2.81208731, -0.5864509 ],\n",
              "       [-0.41436305,  1.00915211, -1.86551055, ..., -0.23732695,\n",
              "         3.01367739, -0.5864509 ]])"
            ]
          },
          "metadata": {
            "tags": []
          },
          "execution_count": 7
        }
      ]
    },
    {
      "cell_type": "code",
      "metadata": {
        "id": "2MQ0-vE5uQP6",
        "outputId": "0ff377ba-595d-4f81-c513-7c21d625c58b",
        "colab": {
          "base_uri": "https://localhost:8080/",
          "height": 282
        }
      },
      "source": [
        "# Re-plotting now with the mean at the center!\n",
        "plt.scatter(X[:,0], X[:,1])"
      ],
      "execution_count": null,
      "outputs": [
        {
          "output_type": "execute_result",
          "data": {
            "text/plain": [
              "<matplotlib.collections.PathCollection at 0x7f0cc9c76048>"
            ]
          },
          "metadata": {
            "tags": []
          },
          "execution_count": 8
        },
        {
          "output_type": "display_data",
          "data": {
            "image/png": "[encoded data removed]",
            "text/plain": [
              "<Figure size 432x288 with 1 Axes>"
            ]
          },
          "metadata": {
            "tags": []
          }
        }
      ]
    },
    {
      "cell_type": "markdown",
      "metadata": {
        "id": "XpEKRnjEYAIr"
      },
      "source": [
        "## 2.1.1 Running PCA\n",
        "\n",
        "We start by creating an instance of the PCA class, and fit it to the data..."
      ]
    },
    {
      "cell_type": "code",
      "metadata": {
        "id": "hc3jHCm_X3o1"
      },
      "source": [
        "from sklearn.decomposition import PCA\n",
        "\n",
        "pca = PCA(n_components=9)\n",
        "X2 = pca.fit_transform(X)"
      ],
      "execution_count": null,
      "outputs": []
    },
    {
      "cell_type": "code",
      "metadata": {
        "id": "vkpPHzeDX_Jm",
        "outputId": "c3103039-d48d-4870-fd7d-96c947595547",
        "colab": {
          "base_uri": "https://localhost:8080/",
          "height": 323
        }
      },
      "source": [
        "# Let's see the components\n",
        "pca.components_"
      ],
      "execution_count": null,
      "outputs": [
        {
          "output_type": "execute_result",
          "data": {
            "text/plain": [
              "array([[ 0.54517662, -0.2581256 ,  0.11088095, -0.42870863, -0.22883635,\n",
              "        -0.21934405,  0.49230609, -0.25037512,  0.18584154],\n",
              "       [ 0.28568318,  0.27035007, -0.59355826,  0.29521154, -0.15509891,\n",
              "        -0.15397013,  0.3453798 ,  0.48470218, -0.06203879],\n",
              "       [ 0.08691083, -0.38491962,  0.00841796,  0.32923712, -0.45870884,\n",
              "         0.66257412, -0.00098473,  0.07405473,  0.28445055],\n",
              "       [ 0.14738099,  0.49124204,  0.37878577, -0.13750592, -0.65253771,\n",
              "        -0.03853544, -0.27644322,  0.13317545, -0.23049202],\n",
              "       [-0.0735427 ,  0.1536833 ,  0.12350912,  0.01410888,  0.00850012,\n",
              "        -0.30703984, -0.18818774,  0.25133426,  0.87326405],\n",
              "       [ 0.11528772, -0.55811757,  0.30818598, -0.01885731,  0.08609797,\n",
              "        -0.24363237, -0.14866937,  0.65721884, -0.24304431],\n",
              "       [ 0.08186724,  0.14858006, -0.20604537, -0.69923557,  0.21606658,\n",
              "         0.50412141, -0.09913463,  0.35178255,  0.07372136],\n",
              "       [-0.7522159 , -0.12769315, -0.07689061, -0.27444105, -0.37992298,\n",
              "        -0.10981168,  0.39870468,  0.14493235, -0.01627141],\n",
              "       [ 0.02573194, -0.31193718, -0.57727335, -0.19222686, -0.29807321,\n",
              "        -0.26050863, -0.57932321, -0.1982282 , -0.01466944]])"
            ]
          },
          "metadata": {
            "tags": []
          },
          "execution_count": 10
        }
      ]
    },
    {
      "cell_type": "code",
      "metadata": {
        "id": "yCUTaUOowxUP",
        "outputId": "24145e4e-37d2-439c-a7c7-863995b21c00",
        "colab": {
          "base_uri": "https://localhost:8080/",
          "height": 1000
        }
      },
      "source": [
        "X[:,0:2]"
      ],
      "execution_count": null,
      "outputs": [
        {
          "output_type": "execute_result",
          "data": {
            "text/plain": [
              "array([[ 8.72867646e-01,  2.84953261e-01],\n",
              "       [-2.49333469e-01,  5.91817180e-01],\n",
              "       [-7.21318056e-01,  1.49933137e-01],\n",
              "       [-2.32830512e-01, -2.42852679e-01],\n",
              "       [-3.12044708e-01, -1.69205338e-01],\n",
              "       [-7.93931069e-01, -7.58384063e-01],\n",
              "       [-3.08744117e-01, -1.32381668e-01],\n",
              "       [-2.65836427e-01, -3.16500020e-01],\n",
              "       [ 2.68859399e-01,  7.75935532e-01],\n",
              "       [-2.69137018e-01, -5.00618371e-01],\n",
              "       [-8.76445857e-01, -8.44305960e-01],\n",
              "       [-2.42732286e-01, -7.46109506e-01],\n",
              "       [-8.17035210e-01, -6.47913052e-01],\n",
              "       [-2.92241159e-01, -6.72462165e-01],\n",
              "       [-2.42732286e-01, -9.79326084e-01],\n",
              "       [-2.49333469e-01, -7.33834949e-01],\n",
              "       [-1.73419864e-01, -8.93404187e-01],\n",
              "       [ 1.18642384e+00,  1.16872135e+00],\n",
              "       [ 2.45755258e-01,  6.04091737e-01],\n",
              "       [-3.35148849e-01, -4.76069257e-01],\n",
              "       [-2.85639976e-01, -7.21560392e-01],\n",
              "       [ 4.27287791e-01,  1.67197817e+00],\n",
              "       [-3.31848257e-01, -7.70658619e-01],\n",
              "       [-2.82339384e-01, -7.33834949e-01],\n",
              "       [-3.84657721e-01, -3.41852141e-02],\n",
              "       [-2.39431695e-01, -5.25167484e-01],\n",
              "       [-1.43714541e-01, -2.42852679e-01],\n",
              "       [-3.81357130e-01, -6.60187609e-01],\n",
              "       [-2.26229329e-01, -1.04069887e+00],\n",
              "       [-1.73419864e-01, -4.02421917e-01],\n",
              "       [-2.26229329e-01, -9.30227857e-01],\n",
              "       [-2.95541751e-01, -6.97011279e-01],\n",
              "       [-2.03125188e-01, -6.84736722e-01],\n",
              "       [-2.75738201e-01, -1.02842431e+00],\n",
              "       [-1.76720456e-01, -8.81129630e-01],\n",
              "       [-8.89648223e-01, -1.44656225e-01],\n",
              "       [ 2.39154075e-01,  5.91817180e-01],\n",
              "       [-1.30512175e-01, -8.19756846e-01],\n",
              "       [ 1.24253390e+00,  9.84602997e-01],\n",
              "       [ 1.24253390e+00,  9.84602997e-01],\n",
              "       [-1.43714541e-01, -7.58384063e-01],\n",
              "       [-2.69137018e-01, -8.56580517e-01],\n",
              "       [-1.89922822e-01, -2.42852679e-01],\n",
              "       [ 1.23263212e+00,  3.95424272e-01],\n",
              "       [-1.66818681e-01, -8.32031403e-01],\n",
              "       [ 2.09448751e-01,  1.00834910e-01],\n",
              "       [ 1.07130414e-01, -2.67401792e-01],\n",
              "       [ 2.74100244e+00,  7.14562748e-01],\n",
              "       [ 1.27553981e+00, -2.42852679e-01],\n",
              "       [ 2.02847568e-01,  2.11305921e-01],\n",
              "       [ 1.59569719e+00,  3.83149716e-01],\n",
              "       [ 2.95264131e-01, -2.55127236e-01],\n",
              "       [-9.42056681e-02,  2.71875696e-02],\n",
              "       [ 1.51148583e-03, -3.28774576e-01],\n",
              "       [-1.93223414e-01, -2.42852679e-01],\n",
              "       [-2.22928737e-01, -1.17571899e+00],\n",
              "       [-2.05145644e+00, -5.12892928e-01],\n",
              "       [-4.13962039e-02, -6.60187609e-01],\n",
              "       [-2.72437610e-01,  8.85603534e-02],\n",
              "       [-2.72437610e-01, -2.19106574e-02],\n",
              "       [ 2.25951709e-01,  2.35855034e-01],\n",
              "       [ 4.63594298e-01,  4.93620726e-01],\n",
              "       [ 1.10720964e+00,  1.25384024e-01],\n",
              "       [ 1.28874218e+00,  9.35504770e-01],\n",
              "       [ 1.10720964e+00,  8.85603534e-02],\n",
              "       [ 8.66266463e-01,  3.46326045e-01],\n",
              "       [ 1.04119781e+00, -4.39245587e-01],\n",
              "       [ 1.04119781e+00, -4.39245587e-01],\n",
              "       [ 1.04119781e+00, -3.53323690e-01],\n",
              "       [ 1.52968536e+00, -1.20107111e-01],\n",
              "       [-8.66544083e-01,  1.78244919e+00],\n",
              "       [ 3.78179925e-02,  2.84953261e-01],\n",
              "       [-8.03832844e-01, -3.90147360e-01],\n",
              "       [-6.78410366e-01, -8.32834412e-02],\n",
              "       [-7.93931069e-01, -4.76069257e-01],\n",
              "       [-8.13734618e-01, -4.76069257e-01],\n",
              "       [-6.32202085e-01,  3.94621264e-02],\n",
              "       [-6.91612732e-01, -5.00618371e-01],\n",
              "       [-7.37821014e-01,  6.28640851e-01],\n",
              "       [-8.13734618e-01, -7.21560392e-01],\n",
              "       [-8.07133435e-01, -6.72462165e-01],\n",
              "       [-8.03832844e-01, -1.93754452e-01],\n",
              "       [-6.28901494e-01,  2.63845612e-03],\n",
              "       [-8.00532252e-01, -3.90147360e-01],\n",
              "       [-1.41114168e+00,  1.03370122e+00],\n",
              "       [-6.98213915e-01, -5.87343277e-02],\n",
              "       [-8.83047040e-01, -2.06029009e-01],\n",
              "       [-6.32202085e-01, -9.63610063e-03],\n",
              "       [-7.21318056e-01, -4.88343814e-01],\n",
              "       [-6.48705043e-01, -1.05297342e+00],\n",
              "       [ 1.47138519e-02, -5.86540268e-01],\n",
              "       [-7.64225746e-01, -6.23363938e-01],\n",
              "       [-8.20335801e-01, -3.53323690e-01],\n",
              "       [-8.13734618e-01, -2.06029009e-01],\n",
              "       [-6.85011549e-01, -8.56580517e-01],\n",
              "       [ 7.74250907e-02, -5.87343277e-02],\n",
              "       [ 1.47138519e-02, -4.76069257e-01],\n",
              "       [-3.08744117e-01, -1.48258291e+00],\n",
              "       [-4.86976058e-01, -9.05678744e-01],\n",
              "       [-8.43038936e-02, -5.49716598e-01],\n",
              "       [-5.99196170e-01, -8.07482290e-01],\n",
              "       [-3.51651806e-01, -1.29846456e+00],\n",
              "       [-5.45985699e-02, -9.67051528e-01],\n",
              "       [ 2.93243675e+00,  4.81346170e-01],\n",
              "       [ 1.89275042e+00,  5.18169840e-01],\n",
              "       [ 2.10728887e+00, -2.40317467e+00],\n",
              "       [ 4.25267336e+00, -3.28694275e+00],\n",
              "       [ 5.13723188e+00, -1.35983734e+00],\n",
              "       [ 1.27223922e+00,  1.25464325e+00],\n",
              "       [-6.11997530e-02,  3.83149716e-01],\n",
              "       [ 2.73110067e+00, -2.67321492e+00],\n",
              "       [ 2.97864503e+00, -2.93098061e+00],\n",
              "       [ 3.10406751e+00, -9.42502414e-01],\n",
              "       [ 1.83044019e-01,  6.40112399e-02],\n",
              "       [ 3.45174010e-02, -3.77872803e-01],\n",
              "       [ 3.12168095e-02,  2.63845612e-03],\n",
              "       [-2.48932463e-02, -2.06029009e-01],\n",
              "       [-4.24264820e-01,  3.83149716e-01],\n",
              "       [-5.39785523e-01, -1.32381668e-01],\n",
              "       [-6.09097944e-01,  1.86756807e-01],\n",
              "       [ 2.46156264e-02, -1.93754452e-01],\n",
              "       [-5.72791438e-01, -5.86540268e-01],\n",
              "       [-4.93577241e-01, -2.18303565e-01],\n",
              "       [-4.27565411e-01,  8.85603534e-02],\n",
              "       [ 1.12371260e+00, -2.55127236e-01],\n",
              "       [ 1.17032189e-01, -5.86540268e-01],\n",
              "       [-5.59589072e-01, -5.74265711e-01],\n",
              "       [ 8.06855816e-01,  4.56797056e-01],\n",
              "       [ 7.63948126e-01,  1.74482251e-01],\n",
              "       [ 6.05519733e-01,  7.02288191e-01],\n",
              "       [ 1.12371260e+00,  4.19973386e-01],\n",
              "       [ 2.56607109e+00,  3.58600602e-01],\n",
              "       [-7.77027105e-02,  2.71875696e-02],\n",
              "       [-1.20610400e-01,  3.70875159e-01],\n",
              "       [-8.43038936e-02, -9.55579979e-02],\n",
              "       [-1.56916907e-01, -2.67401792e-01],\n",
              "       [-1.00806851e-01, -5.00618371e-01],\n",
              "       [-4.14363045e-01, -6.35638495e-01],\n",
              "       [-5.36484931e-01, -7.58384063e-01],\n",
              "       [-5.36484931e-01, -6.60187609e-01],\n",
              "       [-4.83675467e-01, -9.55579979e-02],\n",
              "       [ 4.77197670e-02, -2.55127236e-01],\n",
              "       [-5.76092029e-01, -6.84736722e-01],\n",
              "       [-4.20964228e-01, -5.00618371e-01],\n",
              "       [-5.82693212e-01, -5.12892928e-01],\n",
              "       [ 8.11266886e-03, -6.84736722e-01],\n",
              "       [-2.22928737e-01,  2.97227818e-01],\n",
              "       [-7.47722788e-01, -9.55579979e-02],\n",
              "       [-5.49687297e-01, -2.06029009e-01],\n",
              "       [-6.38803268e-01, -1.53168114e+00],\n",
              "       [-5.66190255e-01, -3.28774576e-01],\n",
              "       [ 9.58683025e-01,  1.11962312e+00],\n",
              "       [-1.89922822e-01,  2.84953261e-01],\n",
              "       [-7.47722788e-01,  1.49130129e-02],\n",
              "       [-4.70473101e-01, -6.72462165e-01],\n",
              "       [-6.28901494e-01, -4.51520144e-01],\n",
              "       [-5.99196170e-01,  2.63845612e-03],\n",
              "       [ 9.38879476e-01,  7.63660975e-01],\n",
              "       [-1.99824597e-01,  1.49933137e-01],\n",
              "       [-1.33812766e-01,  1.13109467e-01],\n",
              "       [-1.49914717e-02, -9.55579979e-02],\n",
              "       [ 3.21668863e-01,  2.84953261e-01],\n",
              "       [ 1.23593271e+00,  9.60053883e-01],\n",
              "       [-1.06457957e+00,  7.39111861e-01],\n",
              "       [ 2.58957624e-01, -8.32031403e-01],\n",
              "       [ 1.10390905e+00, -2.26815454e+00],\n",
              "       [ 1.03789722e+00, -2.91870605e+00],\n",
              "       [ 4.37189566e-01, -9.42502414e-01],\n",
              "       [-5.62889663e-01, -6.72462165e-01],\n",
              "       [ 5.19704354e-01, -1.69205338e-01],\n",
              "       [ 1.75742617e+00,  3.94621264e-02],\n",
              "       [-1.71809669e+00, -4.76069257e-01],\n",
              "       [-1.70159374e+00, -5.00618371e-01],\n",
              "       [ 6.81433338e-01, -3.41852141e-02],\n",
              "       [ 7.30942211e-01, -6.84736722e-01],\n",
              "       [ 9.32278293e-01, -5.37442041e-01],\n",
              "       [ 2.25951709e-01,  7.26837305e-01],\n",
              "       [ 3.31570637e-01,  4.69071613e-01],\n",
              "       [-2.48932463e-02,  1.29146692e+00],\n",
              "       [ 5.10203586e-02,  8.37308315e-01],\n",
              "       [-1.77420675e+00,  1.21781957e+00],\n",
              "       [ 1.69841653e-01,  1.94201842e+00],\n",
              "       [ 2.62258216e-01,  9.10955656e-01],\n",
              "       [ 4.37189566e-01,  1.41421248e+00],\n",
              "       [-2.38151559e+00,  4.87563749e+00],\n",
              "       [-2.32870612e+00,  3.46326045e-01],\n",
              "       [ 4.81207735e-03,  1.11962312e+00],\n",
              "       [ 1.57919423e+00,  3.94621264e-02],\n",
              "       [ 1.35475401e+00,  1.78244919e+00],\n",
              "       [ 1.74422381e+00,  2.92398296e+00],\n",
              "       [-7.37821014e-01,  5.79542624e-01],\n",
              "       [-7.74127520e-01,  1.77017463e+00],\n",
              "       [-7.04815098e-01,  9.72328440e-01],\n",
              "       [-3.87958313e-01,  1.64742906e+00],\n",
              "       [-5.06779608e-01,  1.41421248e+00],\n",
              "       [-9.62261237e-01,  8.98681099e-01],\n",
              "       [-9.25954730e-01,  5.67268067e-01],\n",
              "       [-3.61553581e-01,  1.58605628e+00],\n",
              "       [-1.00846952e+00,  1.19327046e+00],\n",
              "       [-7.51023380e-01,  1.96656754e+00],\n",
              "       [-1.08438312e+00,  2.13841133e+00],\n",
              "       [-6.05797353e-01, -1.78944683e+00],\n",
              "       [-1.06457957e+00,  1.77017463e+00],\n",
              "       [-5.89294395e-01,  1.70880185e+00],\n",
              "       [-7.24618648e-01,  1.89292020e+00],\n",
              "       [-3.45050623e-01,  1.89292020e+00],\n",
              "       [-6.32202085e-01,  1.88064564e+00],\n",
              "       [-1.82920633e-02,  1.20554502e+00],\n",
              "       [-6.48705043e-01,  1.18099590e+00],\n",
              "       [-7.04815098e-01,  8.98681099e-01],\n",
              "       [-5.00178424e-01,  1.85609653e+00],\n",
              "       [ 7.54046351e-01,  1.16872135e+00],\n",
              "       [-6.12398536e-01,  1.19327046e+00],\n",
              "       [-4.14363045e-01,  1.00915211e+00]])"
            ]
          },
          "metadata": {
            "tags": []
          },
          "execution_count": 11
        }
      ]
    },
    {
      "cell_type": "code",
      "metadata": {
        "id": "H0OMBOpCvM3k",
        "outputId": "f7ff5813-4bdb-4995-fb65-d94b024c8ad3",
        "colab": {
          "base_uri": "https://localhost:8080/",
          "height": 265
        }
      },
      "source": [
        "# Visualization code based on \n",
        "# https://stackoverflow.com/questions/18299523/basic-example-for-pca-with-matplotlib\n",
        "import numpy as np\n",
        "\n",
        "# Let's take our first two dimensions, as before\n",
        "data = X[:, 0:2]\n",
        "\n",
        "mu = data.mean(axis=0)\n",
        "data = (data - mu)/data.std(axis=0)\n",
        "eigenvectors, eigenvalues, V = np.linalg.svd(data.T, full_matrices=False)\n",
        "projected_data = np.dot(data, eigenvectors)\n",
        "sigma = projected_data.std(axis=0).mean()\n",
        "\n",
        "fig, ax = plt.subplots()\n",
        "ax.scatter(X[:,0], X[:,1])\n",
        "for axis in eigenvectors:\n",
        "    start, end = mu, mu + sigma * axis\n",
        "    ax.annotate(\n",
        "        '', xy=end, xycoords='data',\n",
        "        xytext=start, textcoords='data',\n",
        "        arrowprops=dict(facecolor='red', width=2.0))\n",
        "ax.set_aspect('equal')\n",
        "plt.show()"
      ],
      "execution_count": null,
      "outputs": [
        {
          "output_type": "display_data",
          "data": {
            "image/png": "[encoded data removed]",
            "text/plain": [
              "<Figure size 432x288 with 1 Axes>"
            ]
          },
          "metadata": {
            "tags": []
          }
        }
      ]
    },
    {
      "cell_type": "code",
      "metadata": {
        "id": "h-Ycb38szfmI",
        "outputId": "192d7325-e8fb-47bc-c25f-8087edbdb9e7",
        "colab": {
          "base_uri": "https://localhost:8080/",
          "height": 282
        }
      },
      "source": [
        "# Here is the transformed data along the first 2 components\n",
        "plt.scatter(X2[:,0], X2[:,1])"
      ],
      "execution_count": null,
      "outputs": [
        {
          "output_type": "execute_result",
          "data": {
            "text/plain": [
              "<matplotlib.collections.PathCollection at 0x7f0cc790c588>"
            ]
          },
          "metadata": {
            "tags": []
          },
          "execution_count": 13
        },
        {
          "output_type": "display_data",
          "data": {
            "image/png": "[encoded data removed]",
            "text/plain": [
              "<Figure size 432x288 with 1 Axes>"
            ]
          },
          "metadata": {
            "tags": []
          }
        }
      ]
    },
    {
      "cell_type": "markdown",
      "metadata": {
        "id": "uZyMIkq3eFMU"
      },
      "source": [
        "## 2.1.2 How Many Components? Principal Components vs Explained Variance\n",
        "\n",
        "How much does each component explain the variance?  We can look at the `explained_variance_ratio_` to tell..."
      ]
    },
    {
      "cell_type": "code",
      "metadata": {
        "id": "7oxDWx30d2YB",
        "outputId": "0d054bd8-8573-4ccd-ce23-e4cc64acb931",
        "colab": {
          "base_uri": "https://localhost:8080/",
          "height": 51
        }
      },
      "source": [
        "np.set_printoptions(suppress=True)\n",
        "pca.explained_variance_ratio_"
      ],
      "execution_count": null,
      "outputs": [
        {
          "output_type": "execute_result",
          "data": {
            "text/plain": [
              "array([0.27901819, 0.2277858 , 0.15609378, 0.12865138, 0.10155581,\n",
              "       0.05862613, 0.04099538, 0.00709477, 0.00017876])"
            ]
          },
          "metadata": {
            "tags": []
          },
          "execution_count": 14
        }
      ]
    },
    {
      "cell_type": "code",
      "metadata": {
        "id": "nH6_48jWl-k2",
        "outputId": "17597921-503d-45c8-d054-1fd7b36609a4",
        "colab": {
          "base_uri": "https://localhost:8080/",
          "height": 282
        }
      },
      "source": [
        "# See how much is contributed by the first few terms\n",
        "pc_vs_variance = np.cumsum(pca.explained_variance_ratio_)\n",
        "\n",
        "pc_vs_variance\n",
        "plt.plot(pc_vs_variance)"
      ],
      "execution_count": null,
      "outputs": [
        {
          "output_type": "execute_result",
          "data": {
            "text/plain": [
              "[<matplotlib.lines.Line2D at 0x7f0cc786fa90>]"
            ]
          },
          "metadata": {
            "tags": []
          },
          "execution_count": 15
        },
        {
          "output_type": "display_data",
          "data": {
            "image/png": "[encoded data removed]",
            "text/plain": [
              "<Figure size 432x288 with 1 Axes>"
            ]
          },
          "metadata": {
            "tags": []
          }
        }
      ]
    },
    {
      "cell_type": "markdown",
      "metadata": {
        "id": "VmkvrPMpeQbu"
      },
      "source": [
        "... So, the first 6 components (of 9) gives 95% explained variance.  Not too bad!"
      ]
    },
    {
      "cell_type": "markdown",
      "metadata": {
        "id": "jJ_fHVl-cWw1"
      },
      "source": [
        "## 2.1.3 Learning over PCA-Reduced Data\n",
        "\n",
        "From the above, we saw how to do PCA on the overall dataset.  But let's do it more methodically as part of machine learning.  We'll start with separate training and test data.\n",
        "\n"
      ]
    },
    {
      "cell_type": "code",
      "metadata": {
        "id": "ZdqkKECmc-dp",
        "outputId": "9ea4bbb5-4e70-4848-98c7-31de9ebf1c4b",
        "colab": {
          "base_uri": "https://localhost:8080/",
          "height": 238
        }
      },
      "source": [
        "from sklearn import linear_model\n",
        "from sklearn.metrics import mean_squared_error, r2_score\n",
        "from sklearn.model_selection import train_test_split\n",
        "\n",
        "X_train, X_test, y_train, y_test = train_test_split(\\\n",
        "  X, y, test_size=0.20, random_state=42)\n",
        "\n",
        "# Fit the PCA on the training data\n",
        "pca = PCA(n_components=6)\n",
        "pca.fit(X_train)\n",
        "# and transform it\n",
        "X_train_2 = pca.transform(X_train)\n",
        "\n",
        "# Then train a simple linear regression classifier\n",
        "# (tries to find the best weighted linear combination to\n",
        "# match the output)\n",
        "regr = linear_model.LinearRegression()\n",
        "regr.fit(X_train_2, y_train)\n",
        "\n",
        "X_train_2"
      ],
      "execution_count": null,
      "outputs": [
        {
          "output_type": "execute_result",
          "data": {
            "text/plain": [
              "array([[-1.40712977, -0.5548499 ,  0.27978336, -0.19045658,  0.68459377,\n",
              "         0.02754543],\n",
              "       [ 0.97583006, -0.86557172,  0.42879509,  0.49226798, -1.77175323,\n",
              "         0.24376956],\n",
              "       [ 0.68750686,  0.14086061, -1.70529824, -3.08716943, -0.74135314,\n",
              "        -0.04003752],\n",
              "       ...,\n",
              "       [-0.67637945, -0.83390501,  0.76929081, -0.46784216, -1.45750402,\n",
              "        -0.02251824],\n",
              "       [-0.03405592,  0.56315378, -1.04661605, -0.28054165, -0.20925479,\n",
              "        -0.71265347],\n",
              "       [ 0.49573744, -1.2931273 ,  0.7719564 , -1.45704714, -1.22898275,\n",
              "         0.61543649]])"
            ]
          },
          "metadata": {
            "tags": []
          },
          "execution_count": 16
        }
      ]
    },
    {
      "cell_type": "code",
      "metadata": {
        "id": "MzspjW-9bW7I",
        "outputId": "ff7d9622-cd1c-4ee5-d3e5-900cf2a4b716",
        "colab": {
          "base_uri": "https://localhost:8080/",
          "height": 34
        }
      },
      "source": [
        "X_test_2 = pca.transform(X_test)\n",
        "\n",
        "regr.predict(X_test_2)\n",
        "\n",
        "regr.score(X_test_2, y_test)"
      ],
      "execution_count": null,
      "outputs": [
        {
          "output_type": "execute_result",
          "data": {
            "text/plain": [
              "0.8739872270917841"
            ]
          },
          "metadata": {
            "tags": []
          },
          "execution_count": 17
        }
      ]
    },
    {
      "cell_type": "markdown",
      "metadata": {
        "id": "r8bsfFWpgE7I"
      },
      "source": [
        "So, 87.4% predictive accuracy on the test set.\n",
        "\n",
        "How does that compare with working directly on the real data?"
      ]
    },
    {
      "cell_type": "code",
      "metadata": {
        "id": "h0UJilwrfxdu",
        "outputId": "928ed566-8e1d-43e4-df63-4d9ccfaa792c",
        "colab": {
          "base_uri": "https://localhost:8080/",
          "height": 34
        }
      },
      "source": [
        "# Train and evaluate over non-dimensionality-reduced data\n",
        "regr_full_data = linear_model.LinearRegression()\n",
        "regr_full_data.fit(X_train, y_train)\n",
        "\n",
        "regr_full_data.predict(X_test)\n",
        "regr_full_data.score(X_test, y_test)"
      ],
      "execution_count": null,
      "outputs": [
        {
          "output_type": "execute_result",
          "data": {
            "text/plain": [
              "0.8557278202617988"
            ]
          },
          "metadata": {
            "tags": []
          },
          "execution_count": 18
        }
      ]
    },
    {
      "cell_type": "markdown",
      "metadata": {
        "id": "JAGUnvxn4FRQ"
      },
      "source": [
        "## 2.1.4 PCA with Apache Spark\n",
        "\n",
        "Thus far we've seen PCA and t-SNE using Scikit-Learn, which is fantastic for mid-sized data sets.\n",
        "\n",
        "What if we have a really big Spark dataframe with our dataset?\n"
      ]
    },
    {
      "cell_type": "code",
      "metadata": {
        "id": "3HKcEk984vjg",
        "outputId": "c2ac8922-6fde-4d1a-e823-fc03fc0d0161",
        "colab": {
          "base_uri": "https://localhost:8080/",
          "height": 1000
        }
      },
      "source": [
        "!apt install libkrb5-dev\n",
        "!pip install sparkmagic"
      ],
      "execution_count": null,
      "outputs": [
        {
          "output_type": "stream",
          "text": [
            "Reading package lists... Done\n",
            "Building dependency tree       \n",
            "Reading state information... Done\n",
            "libkrb5-dev is already the newest version (1.16-2ubuntu0.1).\n",
            "0 upgraded, 0 newly installed, 0 to remove and 24 not upgraded.\n",
            "Requirement already satisfied: sparkmagic in /usr/local/lib/python3.6/dist-packages (0.15.0)\n",
            "Requirement already satisfied: hdijupyterutils>=0.6 in /usr/local/lib/python3.6/dist-packages (from sparkmagic) (0.15.0)\n",
            "Requirement already satisfied: ipywidgets>5.0.0 in /usr/local/lib/python3.6/dist-packages (from sparkmagic) (7.5.1)\n",
            "Requirement already satisfied: nose in /usr/local/lib/python3.6/dist-packages (from sparkmagic) (1.3.7)\n",
            "Requirement already satisfied: tornado>=4 in /usr/local/lib/python3.6/dist-packages (from sparkmagic) (4.5.3)\n",
            "Requirement already satisfied: ipykernel in /usr/local/lib/python3.6/dist-packages (from sparkmagic) (4.6.1)\n",
            "Requirement already satisfied: requests-kerberos>=0.8.0 in /usr/local/lib/python3.6/dist-packages (from sparkmagic) (0.12.0)\n",
            "Requirement already satisfied: autovizwidget>=0.6 in /usr/local/lib/python3.6/dist-packages (from sparkmagic) (0.15.0)\n",
            "Requirement already satisfied: requests in /usr/local/lib/python3.6/dist-packages (from sparkmagic) (2.21.0)\n",
            "Requirement already satisfied: ipython>=4.0.2 in /usr/local/lib/python3.6/dist-packages (from sparkmagic) (5.5.0)\n",
            "Requirement already satisfied: pandas>=0.17.1 in /usr/local/lib/python3.6/dist-packages (from sparkmagic) (0.25.3)\n",
            "Requirement already satisfied: mock in /usr/local/lib/python3.6/dist-packages (from sparkmagic) (4.0.2)\n",
            "Requirement already satisfied: notebook>=4.2 in /usr/local/lib/python3.6/dist-packages (from sparkmagic) (5.2.2)\n",
            "Requirement already satisfied: numpy in /usr/local/lib/python3.6/dist-packages (from sparkmagic) (1.18.2)\n",
            "Requirement already satisfied: jupyter>=1 in /usr/local/lib/python3.6/dist-packages (from hdijupyterutils>=0.6->sparkmagic) (1.0.0)\n",
            "Requirement already satisfied: widgetsnbextension~=3.5.0 in /usr/local/lib/python3.6/dist-packages (from ipywidgets>5.0.0->sparkmagic) (3.5.1)\n",
            "Requirement already satisfied: nbformat>=4.2.0 in /usr/local/lib/python3.6/dist-packages (from ipywidgets>5.0.0->sparkmagic) (5.0.4)\n",
            "Requirement already satisfied: traitlets>=4.3.1 in /usr/local/lib/python3.6/dist-packages (from ipywidgets>5.0.0->sparkmagic) (4.3.3)\n",
            "Requirement already satisfied: jupyter-client in /usr/local/lib/python3.6/dist-packages (from ipykernel->sparkmagic) (5.3.4)\n",
            "Requirement already satisfied: cryptography>=1.3; python_version != \"3.3\" in /usr/local/lib/python3.6/dist-packages (from requests-kerberos>=0.8.0->sparkmagic) (2.8)\n",
            "Requirement already satisfied: pykerberos<2.0.0,>=1.1.8; sys_platform != \"win32\" in /usr/local/lib/python3.6/dist-packages (from requests-kerberos>=0.8.0->sparkmagic) (1.2.1)\n",
            "Requirement already satisfied: plotly>=3 in /usr/local/lib/python3.6/dist-packages (from autovizwidget>=0.6->sparkmagic) (4.4.1)\n",
            "Requirement already satisfied: certifi>=2017.4.17 in /usr/local/lib/python3.6/dist-packages (from requests->sparkmagic) (2019.11.28)\n",
            "Requirement already satisfied: idna<2.9,>=2.5 in /usr/local/lib/python3.6/dist-packages (from requests->sparkmagic) (2.8)\n",
            "Requirement already satisfied: urllib3<1.25,>=1.21.1 in /usr/local/lib/python3.6/dist-packages (from requests->sparkmagic) (1.24.3)\n",
            "Requirement already satisfied: chardet<3.1.0,>=3.0.2 in /usr/local/lib/python3.6/dist-packages (from requests->sparkmagic) (3.0.4)\n",
            "Requirement already satisfied: setuptools>=18.5 in /usr/local/lib/python3.6/dist-packages (from ipython>=4.0.2->sparkmagic) (46.0.0)\n",
            "Requirement already satisfied: decorator in /usr/local/lib/python3.6/dist-packages (from ipython>=4.0.2->sparkmagic) (4.4.2)\n",
            "Requirement already satisfied: simplegeneric>0.8 in /usr/local/lib/python3.6/dist-packages (from ipython>=4.0.2->sparkmagic) (0.8.1)\n",
            "Requirement already satisfied: prompt-toolkit<2.0.0,>=1.0.4 in /usr/local/lib/python3.6/dist-packages (from ipython>=4.0.2->sparkmagic) (1.0.18)\n",
            "Requirement already satisfied: pexpect; sys_platform != \"win32\" in /usr/local/lib/python3.6/dist-packages (from ipython>=4.0.2->sparkmagic) (4.8.0)\n",
            "Requirement already satisfied: pygments in /usr/local/lib/python3.6/dist-packages (from ipython>=4.0.2->sparkmagic) (2.1.3)\n",
            "Requirement already satisfied: pickleshare in /usr/local/lib/python3.6/dist-packages (from ipython>=4.0.2->sparkmagic) (0.7.5)\n",
            "Requirement already satisfied: python-dateutil>=2.6.1 in /usr/local/lib/python3.6/dist-packages (from pandas>=0.17.1->sparkmagic) (2.8.1)\n",
            "Requirement already satisfied: pytz>=2017.2 in /usr/local/lib/python3.6/dist-packages (from pandas>=0.17.1->sparkmagic) (2018.9)\n",
            "Requirement already satisfied: terminado>=0.3.3; sys_platform != \"win32\" in /usr/local/lib/python3.6/dist-packages (from notebook>=4.2->sparkmagic) (0.8.3)\n",
            "Requirement already satisfied: jupyter-core in /usr/local/lib/python3.6/dist-packages (from notebook>=4.2->sparkmagic) (4.6.3)\n",
            "Requirement already satisfied: ipython-genutils in /usr/local/lib/python3.6/dist-packages (from notebook>=4.2->sparkmagic) (0.2.0)\n",
            "Requirement already satisfied: nbconvert in /usr/local/lib/python3.6/dist-packages (from notebook>=4.2->sparkmagic) (5.6.1)\n",
            "Requirement already satisfied: jinja2 in /usr/local/lib/python3.6/dist-packages (from notebook>=4.2->sparkmagic) (2.11.1)\n",
            "Requirement already satisfied: jupyter-console in /usr/local/lib/python3.6/dist-packages (from jupyter>=1->hdijupyterutils>=0.6->sparkmagic) (5.2.0)\n",
            "Requirement already satisfied: qtconsole in /usr/local/lib/python3.6/dist-packages (from jupyter>=1->hdijupyterutils>=0.6->sparkmagic) (4.7.1)\n",
            "Requirement already satisfied: jsonschema!=2.5.0,>=2.4 in /usr/local/lib/python3.6/dist-packages (from nbformat>=4.2.0->ipywidgets>5.0.0->sparkmagic) (2.6.0)\n",
            "Requirement already satisfied: six in /usr/local/lib/python3.6/dist-packages (from traitlets>=4.3.1->ipywidgets>5.0.0->sparkmagic) (1.12.0)\n",
            "Requirement already satisfied: pyzmq>=13 in /usr/local/lib/python3.6/dist-packages (from jupyter-client->ipykernel->sparkmagic) (17.0.0)\n",
            "Requirement already satisfied: cffi!=1.11.3,>=1.8 in /usr/local/lib/python3.6/dist-packages (from cryptography>=1.3; python_version != \"3.3\"->requests-kerberos>=0.8.0->sparkmagic) (1.14.0)\n",
            "Requirement already satisfied: retrying>=1.3.3 in /usr/local/lib/python3.6/dist-packages (from plotly>=3->autovizwidget>=0.6->sparkmagic) (1.3.3)\n",
            "Requirement already satisfied: wcwidth in /usr/local/lib/python3.6/dist-packages (from prompt-toolkit<2.0.0,>=1.0.4->ipython>=4.0.2->sparkmagic) (0.1.8)\n",
            "Requirement already satisfied: ptyprocess>=0.5 in /usr/local/lib/python3.6/dist-packages (from pexpect; sys_platform != \"win32\"->ipython>=4.0.2->sparkmagic) (0.6.0)\n",
            "Requirement already satisfied: mistune<2,>=0.8.1 in /usr/local/lib/python3.6/dist-packages (from nbconvert->notebook>=4.2->sparkmagic) (0.8.4)\n",
            "Requirement already satisfied: testpath in /usr/local/lib/python3.6/dist-packages (from nbconvert->notebook>=4.2->sparkmagic) (0.4.4)\n",
            "Requirement already satisfied: bleach in /usr/local/lib/python3.6/dist-packages (from nbconvert->notebook>=4.2->sparkmagic) (3.1.3)\n",
            "Requirement already satisfied: pandocfilters>=1.4.1 in /usr/local/lib/python3.6/dist-packages (from nbconvert->notebook>=4.2->sparkmagic) (1.4.2)\n",
            "Requirement already satisfied: defusedxml in /usr/local/lib/python3.6/dist-packages (from nbconvert->notebook>=4.2->sparkmagic) (0.6.0)\n",
            "Requirement already satisfied: entrypoints>=0.2.2 in /usr/local/lib/python3.6/dist-packages (from nbconvert->notebook>=4.2->sparkmagic) (0.3)\n",
            "Requirement already satisfied: MarkupSafe>=0.23 in /usr/local/lib/python3.6/dist-packages (from jinja2->notebook>=4.2->sparkmagic) (1.1.1)\n",
            "Requirement already satisfied: qtpy in /usr/local/lib/python3.6/dist-packages (from qtconsole->jupyter>=1->hdijupyterutils>=0.6->sparkmagic) (1.9.0)\n",
            "Requirement already satisfied: pycparser in /usr/local/lib/python3.6/dist-packages (from cffi!=1.11.3,>=1.8->cryptography>=1.3; python_version != \"3.3\"->requests-kerberos>=0.8.0->sparkmagic) (2.20)\n",
            "Requirement already satisfied: webencodings in /usr/local/lib/python3.6/dist-packages (from bleach->nbconvert->notebook>=4.2->sparkmagic) (0.5.1)\n"
          ],
          "name": "stdout"
        }
      ]
    },
    {
      "cell_type": "code",
      "metadata": {
        "id": "JU-6cWNY4ypi"
      },
      "source": [
        "%load_ext sparkmagic.magics"
      ],
      "execution_count": null,
      "outputs": []
    },
    {
      "cell_type": "code",
      "metadata": {
        "id": "F0sYf_n842B6",
        "outputId": "4dc8300b-39bc-4aba-e4b3-7e6703ab6808",
        "colab": {
          "base_uri": "https://localhost:8080/",
          "height": 95,
          "referenced_widgets": [
            "af78c26ae76a487a93b682d904997ff8",
            "0f10b96b5ab54f8581abc4e5d37716ea",
            "d014a7d501154c07b919decfdc62e6a6"
          ]
        }
      },
      "source": [
        "%spark add -s my_session -l python -u http://ec2-3-91-74-45.compute-1.amazonaws.com:8998\n",
        "# The above can connect to an EMR node running Spark + Livy, assuming the firewall is set to let anyone in"
      ],
      "execution_count": null,
      "outputs": [
        {
          "output_type": "stream",
          "text": [
            "Starting Spark application\n"
          ],
          "name": "stdout"
        },
        {
          "output_type": "display_data",
          "data": {
            "text/html": [
              "<table>\n",
              "<tr><th>ID</th><th>YARN Application ID</th><th>Kind</th><th>State</th><th>Spark UI</th><th>Driver log</th><th>Current session?</th></tr><tr><td>79</td><td>application_1581350900124_0080</td><td>pyspark</td><td>idle</td><td></td><td></td><td>✔</td></tr></table>"
            ],
            "text/plain": [
              "<IPython.core.display.HTML object>"
            ]
          },
          "metadata": {
            "tags": []
          }
        },
        {
          "output_type": "display_data",
          "data": {
            "application/vnd.jupyter.widget-view+json": {
              "model_id": "af78c26ae76a487a93b682d904997ff8",
              "version_minor": 0,
              "version_major": 2
            },
            "text/plain": [
              "FloatProgress(value=0.0, bar_style='info', description='Progress:', layout=Layout(height='25px', width='50%'),…"
            ]
          },
          "metadata": {
            "tags": []
          }
        },
        {
          "output_type": "stream",
          "text": [
            "SparkSession available as 'spark'.\n"
          ],
          "name": "stdout"
        }
      ]
    },
    {
      "cell_type": "code",
      "metadata": {
        "id": "sy0XEYjm43nC",
        "outputId": "c1be25e7-a407-42f3-f5c0-4ab76a56cf69",
        "colab": {
          "base_uri": "https://localhost:8080/",
          "height": 187,
          "referenced_widgets": [
            "75d15eb7c6f440d7b0616ba13d085db3",
            "33527a90565c46d8ac4335e35a86f5db",
            "5aec1a546a2444229ed1f109c2dcb8f9"
          ]
        }
      },
      "source": [
        "%%spark\n",
        "\n",
        "import pandas as pd\n",
        "from pyspark import SparkFiles\n",
        "\n",
        "from pyspark.sql.types import StringType, IntegerType, DoubleType, StructField, StructType, ArrayType, MapType\n",
        "\n",
        "# ID,RefractiveIndex,Na,Mg,Al,Si,K,Ca,Ba,Fe,Type\n",
        "schema = StructType([\n",
        "        StructField(\"ID\", IntegerType(), True),\n",
        "        StructField(\"RefractiveIndex\", DoubleType(), True),\n",
        "        StructField(\"Na\", DoubleType(), True),\n",
        "        StructField(\"Mg\", DoubleType(), True),\n",
        "        StructField(\"Al\", DoubleType(), True),\n",
        "        StructField(\"Si\", DoubleType(), True),\n",
        "        StructField(\"K\", DoubleType(), True),\n",
        "        StructField(\"Ca\", DoubleType(), True),\n",
        "        StructField(\"Ba\", DoubleType(), True),\n",
        "        StructField(\"Fe\", DoubleType(), True),\n",
        "        StructField(\"Type\", IntegerType(), True),\n",
        "         ])\n",
        "\n",
        "glass_sdf = spark.createDataFrame(\\\n",
        "                                  pd.read_csv('https://archive.ics.uci.edu/ml/machine-learning-databases/glass/glass.data'), \\\n",
        "                                  schema=schema)\n",
        "\n",
        "glass_sdf.show(5)"
      ],
      "execution_count": null,
      "outputs": [
        {
          "output_type": "display_data",
          "data": {
            "application/vnd.jupyter.widget-view+json": {
              "model_id": "75d15eb7c6f440d7b0616ba13d085db3",
              "version_minor": 0,
              "version_major": 2
            },
            "text/plain": [
              "FloatProgress(value=0.0, bar_style='info', description='Progress:', layout=Layout(height='25px', width='50%'),…"
            ]
          },
          "metadata": {
            "tags": []
          }
        },
        {
          "output_type": "stream",
          "text": [
            "+---+------------------+-----+----+----+-----+----+----+---+----+----+\n",
            "| ID|   RefractiveIndex|   Na|  Mg|  Al|   Si|   K|  Ca| Ba|  Fe|Type|\n",
            "+---+------------------+-----+----+----+-----+----+----+---+----+----+\n",
            "|  2|1.5176100000000001|13.89| 3.6|1.36|72.73|0.48|7.83|0.0| 0.0|   1|\n",
            "|  3|1.5161799999999999|13.53|3.55|1.54|72.99|0.39|7.78|0.0| 0.0|   1|\n",
            "|  4|           1.51766|13.21|3.69|1.29|72.61|0.57|8.22|0.0| 0.0|   1|\n",
            "|  5|           1.51742|13.27|3.62|1.24|73.08|0.55|8.07|0.0| 0.0|   1|\n",
            "|  6|           1.51596|12.79|3.61|1.62|72.97|0.64|8.07|0.0|0.26|   1|\n",
            "+---+------------------+-----+----+----+-----+----+----+---+----+----+\n",
            "only showing top 5 rows"
          ],
          "name": "stdout"
        }
      ]
    },
    {
      "cell_type": "code",
      "metadata": {
        "id": "FLNlZGWj8pUg",
        "outputId": "202369f7-d673-4ac1-db39-920164ccfb46",
        "colab": {
          "base_uri": "https://localhost:8080/",
          "height": 54,
          "referenced_widgets": [
            "db68080847b848c5857a35b0390ecf67",
            "471ca510593f4b059972eb01f177a5f2",
            "fb023e84b2cc4af3b608aa74101246e2"
          ]
        }
      },
      "source": [
        "%%spark\n",
        "\n",
        "from pyspark.mllib.linalg import Vectors\n",
        "from pyspark.mllib.linalg.distributed import RowMatrix\n",
        "\n",
        "M = RowMatrix(glass_sdf.select('RefractiveIndex','Na','Mg','Al','Si','K','Ca','Ba','Fe').rdd.map(\\\n",
        "  lambda row: Vectors.dense(list(row.asDict().values()))))\n",
        "\n",
        "pc = M.computePrincipalComponents(6)\n",
        "\n",
        "projected = M.multiply(pc)\n",
        "\n",
        "projected.rows.collect()"
      ],
      "execution_count": null,
      "outputs": [
        {
          "output_type": "display_data",
          "data": {
            "application/vnd.jupyter.widget-view+json": {
              "model_id": "db68080847b848c5857a35b0390ecf67",
              "version_minor": 0,
              "version_major": 2
            },
            "text/plain": [
              "FloatProgress(value=0.0, bar_style='info', description='Progress:', layout=Layout(height='25px', width='50%'),…"
            ]
          },
          "metadata": {
            "tags": []
          }
        },
        {
          "output_type": "stream",
          "text": [
            "[DenseVector([-2.2414, -13.0845, 41.5609, -45.2941, 13.1599, -2.874]), DenseVector([-2.2496, -13.0844, 41.9784, -45.3113, 12.9424, -2.735]), DenseVector([-2.4224, -12.4907, 41.8856, -44.9697, 12.9633, -2.9404]), DenseVector([-2.3657, -12.7196, 42.194, -45.2626, 13.0373, -3.0094]), DenseVector([-2.3759, -12.6138, 42.4659, -44.8585, 12.7556, -2.7378]), DenseVector([-2.4419, -12.6604, 42.1774, -45.2893, 13.1049, -3.0937]), DenseVector([-2.4752, -12.5559, 42.3667, -45.354, 13.0878, -3.1702]), DenseVector([-2.5805, -12.7548, 40.9867, -44.9568, 13.2216, -2.833]), DenseVector([-2.6058, -12.4337, 42.2918, -45.0837, 12.9134, -2.9112]), DenseVector([-2.4888, -12.687, 42.6949, -44.9418, 12.7993, -2.8144]), DenseVector([-2.6618, -12.2078, 42.4148, -45.0426, 12.8882, -2.9864]), DenseVector([-2.4762, -12.7681, 42.6514, -45.0687, 12.9312, -2.9495]), DenseVector([-2.6146, -12.426, 42.5342, -45.1934, 12.8938, -2.9914]), DenseVector([-2.6684, -12.268, 42.7473, -45.1203, 12.8207, -2.975]), DenseVector([-2.6295, -12.4129, 42.5944, -45.1758, 12.9167, -3.0368]), DenseVector([-2.7414, -12.0599, 42.5468, -45.0863, 12.8988, -3.0783]), DenseVector([-2.9915, -11.9126, 40.0614, -45.1621, 13.2501, -3.0121]), DenseVector([-2.9045, -12.1629, 40.9286, -45.3699, 13.0024, -2.8287]), DenseVector([-2.6967, -12.4836, 42.1105, -44.8745, 12.7841, -2.6313]), DenseVector([-2.7316, -12.2986, 42.2363, -44.8716, 12.7705, -2.7888]), DenseVector([-2.9436, -12.1824, 40.2346, -45.9021, 13.6066, -3.4913]), DenseVector([-2.79, -12.0981, 42.2654, -44.919, 12.8582, -2.9529]), DenseVector([-2.7492, -12.2673, 42.4332, -45.0087, 12.8873, -2.9332]), DenseVector([-2.7024, -12.5367, 41.9335, -45.2421, 13.0926, -3.046]), DenseVector([-2.7242, -12.3518, 42.3171, -45.0706, 13.0102, -3.0497]), DenseVector([-2.7206, -12.5156, 41.9285, -44.9301, 12.9691, -2.8579]), DenseVector([-2.7093, -12.4311, 42.4203, -45.0697, 12.8855, -2.9421]), DenseVector([-2.7529, -12.2649, 42.6909, -44.994, 12.7516, -2.8731]), DenseVector([-2.7432, -12.4303, 42.1571, -45.0373, 12.9893, -2.9752]), DenseVector([-2.82, -12.1421, 42.5685, -45.0072, 12.8441, -2.9731]), DenseVector([-2.7654, -12.3293, 42.5804, -45.2463, 12.9633, -3.1004]), DenseVector([-2.7971, -12.3258, 42.3676, -45.0133, 12.8682, -3.0758]), DenseVector([-2.7888, -12.3249, 42.8639, -45.118, 12.8145, -2.9366]), DenseVector([-2.8824, -12.1164, 42.4419, -44.9693, 12.8228, -2.9221]), DenseVector([-2.8316, -12.4427, 41.9244, -45.0941, 13.0702, -3.0082]), DenseVector([-2.955, -12.383, 40.8338, -44.8126, 13.0845, -2.8947]), DenseVector([-2.8733, -12.2237, 42.4448, -44.9323, 12.8763, -2.9377]), DenseVector([-3.2775, -11.5767, 40.3894, -45.4963, 13.3742, -3.3459]), DenseVector([-3.2775, -11.5767, 40.3894, -45.4963, 13.3742, -3.3459]), DenseVector([-2.9102, -12.1316, 42.4405, -45.0589, 12.9797, -3.117]), DenseVector([-2.8834, -12.2707, 42.6273, -45.1205, 12.9129, -3.0605]), DenseVector([-2.8899, -12.4689, 42.0087, -45.0179, 13.0241, -2.9273]), DenseVector([-3.3776, -11.3372, 40.7002, -45.2189, 13.1442, -3.1678]), DenseVector([-2.9586, -12.1475, 42.4342, -44.9764, 12.9121, -3.0565]), DenseVector([-3.1228, -12.1282, 41.2041, -44.7267, 13.0442, -2.8312]), DenseVector([-3.0634, -12.2736, 41.9664, -45.0527, 13.0617, -3.0308]), DenseVector([-3.5512, -11.4137, 40.3809, -45.3026, 13.168, -3.1244]), DenseVector([-3.6144, -11.0524, 41.1807, -45.1738, 12.9431, -3.12]), DenseVector([-3.1465, -12.2883, 41.2645, -44.8181, 13.1556, -2.9508]), DenseVector([-3.6798, -11.1356, 40.6647, -45.3255, 13.1902, -3.3063]), DenseVector([-3.3101, -12.0708, 41.6971, -44.8238, 13.0369, -2.9317]), DenseVector([-3.5648, -12.547, 41.9433, -45.1786, 13.2126, -3.0397]), DenseVector([-3.6127, -12.4473, 42.1426, -45.0534, 13.0751, -2.9749]), DenseVector([-3.6037, -12.5442, 42.1905, -45.1683, 13.0897, -2.9661]), DenseVector([-3.6785, -12.408, 43.2105, -45.2458, 12.8944, -3.0386]), DenseVector([-2.6506, -12.4689, 42.3115, -45.0874, 13.0103, -3.1187]), DenseVector([-2.7053, -12.4077, 42.3626, -45.0036, 12.9089, -2.9784]), DenseVector([-2.2501, -12.7319, 41.9866, -45.291, 13.1416, -3.0613]), DenseVector([-2.4749, -12.5555, 41.8926, -45.1602, 13.0875, -3.0264]), DenseVector([-2.8746, -12.2708, 41.5271, -45.4938, 13.0, -2.95]), DenseVector([-2.9185, -12.4646, 40.6677, -44.9447, 12.4389, -3.1123]), DenseVector([-3.2249, -11.4116, 40.8972, -45.0606, 13.0227, -3.0688]), DenseVector([-3.3933, -11.4816, 40.1038, -45.2463, 13.1702, -3.0468]), DenseVector([-3.3612, -11.4648, 41.0734, -45.1918, 13.0171, -3.0576]), DenseVector([-3.3468, -11.7995, 40.9322, -45.2155, 12.9805, -2.8691]), DenseVector([-3.5783, -11.2254, 41.4931, -45.156, 12.9025, -3.1005]), DenseVector([-3.5773, -11.2444, 41.5638, -45.2112, 12.913, -3.1066]), DenseVector([-3.6078, -11.3184, 41.4551, -45.1261, 12.943, -3.0896]), DenseVector([-3.8576, -11.1109, 41.1296, -45.1973, 12.9921, -3.0971]), DenseVector([-1.9384, -13.6248, 40.3117, -45.266, 13.1347, -2.435]), DenseVector([-2.3772, -12.3668, 41.1119, -44.8136, 13.0414, -2.8897]), DenseVector([-2.2229, -12.8989, 42.3854, -45.0333, 12.9278, -2.8353]), DenseVector([-2.2921, -12.9368, 42.0502, -45.0258, 12.9625, -2.7616]), DenseVector([-2.2879, -12.8564, 42.4471, -44.9747, 12.9271, -2.8341]), DenseVector([-2.3155, -12.7998, 42.4392, -45.0143, 12.9247, -2.8474]), DenseVector([-2.3605, -12.7754, 41.6384, -44.7833, 12.9931, -2.7615]), DenseVector([-2.3807, -12.6872, 42.2262, -44.8979, 12.8416, -2.7831]), DenseVector([-2.3771, -13.0594, 41.6229, -45.4892, 13.1756, -2.9398]), DenseVector([-2.3824, -12.7974, 42.4114, -44.6862, 12.7014, -2.533]), DenseVector([-2.3951, -12.8323, 42.2555, -44.5304, 12.6276, -2.3485]), DenseVector([-2.347, -13.0054, 42.3316, -45.1829, 13.0092, -2.8972]), DenseVector([-2.4319, -12.7601, 41.9464, -45.0673, 13.1351, -3.0201]), DenseVector([-2.4267, -12.7658, 42.2189, -44.8955, 12.9169, -2.7974]), DenseVector([-2.0896, -14.1308, 41.2992, -44.462, 13.3364, -2.4901]), DenseVector([-2.5148, -12.6779, 41.8685, -45.1004, 12.9187, -2.7623]), DenseVector([-2.4536, -12.8777, 42.3318, -45.3832, 12.8922, -2.803]), DenseVector([-2.476, -12.8378, 41.8618, -44.9002, 13.0255, -2.8005]), DenseVector([-2.4906, -12.6808, 42.2615, -44.9541, 12.877, -2.8323]), DenseVector([-2.4813, -12.6982, 42.8307, -44.8426, 12.6194, -2.5659]), DenseVector([-2.8774, -11.7913, 41.7737, -44.7315, 12.9482, -3.0597]), DenseVector([-2.6441, -12.5858, 42.4152, -45.1277, 12.7936, -2.8238]), DenseVector([-2.785, -12.6483, 42.3433, -45.5368, 12.6782, -2.6305]), DenseVector([-2.6922, -12.8157, 42.2328, -45.2889, 12.9057, -2.7983]), DenseVector([-2.6806, -12.6633, 42.7584, -44.9992, 12.852, -2.8763]), DenseVector([-2.8867, -12.4239, 41.5414, -44.8284, 12.9572, -2.7931]), DenseVector([-3.0785, -11.7886, 41.7578, -44.8089, 13.0282, -3.1019]), DenseVector([-3.167, -12.0542, 43.2111, -45.1133, 12.7982, -3.1294]), DenseVector([-3.2147, -12.7589, 42.7945, -44.8156, 12.845, -2.7299]), DenseVector([-3.3444, -12.5695, 42.313, -44.9351, 12.8664, -2.9589]), DenseVector([-3.4171, -12.6007, 42.7105, -45.0588, 12.8241, -2.956]), DenseVector([-3.7984, -12.2063, 42.717, -44.5763, 12.7498, -2.7565]), DenseVector([-3.8864, -12.1099, 43.0778, -45.6629, 13.0314, -3.333]), DenseVector([-5.1913, -10.3272, 39.7349, -44.7012, 13.199, -3.0954]), DenseVector([-4.8076, -11.239, 40.2524, -44.8196, 13.0756, -2.7689]), DenseVector([-8.4918, -10.8139, 42.9006, -43.6726, 12.7635, -2.578]), DenseVector([-8.8125, -10.7768, 41.2184, -41.9026, 9.9037, -3.9732]), DenseVector([-10.5598, -8.6666, 40.5008, -43.739, 13.0101, -2.8592]), DenseVector([-7.3794, -12.8635, 41.2673, -45.6507, 13.8067, -3.1084]), DenseVector([-6.9742, -13.1186, 42.9822, -46.5346, 13.7644, -3.5601]), DenseVector([-9.4761, -9.674, 43.4288, -45.0963, 12.8214, -3.2532]), DenseVector([-9.6644, -9.388, 43.449, -44.9695, 12.749, -3.2561]), DenseVector([-9.3122, -10.1668, 41.708, -44.9221, 13.3012, -3.2607]), DenseVector([-2.3185, -12.4995, 41.6636, -45.0478, 13.0505, -2.9496]), DenseVector([-2.3574, -12.1097, 41.7831, -44.8834, 12.9404, -2.9982]), DenseVector([-2.3319, -12.3858, 41.5527, -44.9694, 12.9642, -2.8647]), DenseVector([-2.3433, -12.307, 41.6358, -44.8326, 12.8852, -2.8111]), DenseVector([-2.2296, -12.9468, 41.237, -44.6416, 12.9601, -2.522]), DenseVector([-2.3356, -12.7207, 41.8229, -44.8191, 12.9399, -2.7756]), DenseVector([-2.3413, -12.8797, 41.6068, -44.8846, 13.0573, -2.8166]), DenseVector([-2.5122, -12.3149, 41.6897, -44.8718, 12.9607, -2.8971]), DenseVector([-2.4014, -12.7319, 42.3808, -44.8949, 12.8144, -2.7396]), DenseVector([-2.4556, -12.7462, 42.0727, -45.0367, 12.9345, -2.8138]), DenseVector([-2.4369, -12.9517, 41.7258, -44.8349, 12.9565, -2.6329]), DenseVector([-2.6291, -12.2958, 41.9556, -45.1179, 13.0229, -3.0421]), DenseVector([-2.6772, -12.2421, 41.9898, -44.7465, 12.7829, -2.7224]), DenseVector([-2.7331, -12.2108, 42.1357, -44.9771, 12.906, -2.9668]), DenseVector([-4.5808, -12.3991, 41.1324, -44.7956, 13.2524, -2.7837]), DenseVector([-4.5482, -12.7449, 41.4465, -44.6635, 12.9386, -2.7906]), DenseVector([-5.7584, -12.5504, 40.8996, -44.6991, 13.3129, -2.6082]), DenseVector([-6.3836, -12.2972, 41.3246, -44.9671, 13.3895, -2.8325]), DenseVector([-8.7032, -11.2232, 40.6113, -44.5445, 13.4258, -2.7203]), DenseVector([-2.1651, -12.4135, 41.6221, -45.0325, 13.0506, -3.0062]), DenseVector([-2.2736, -12.4739, 40.9742, -44.6845, 12.9618, -2.6693]), DenseVector([-2.2413, -12.5299, 41.903, -45.163, 12.9969, -2.9619]), DenseVector([-2.4265, -12.1757, 41.6533, -44.8497, 12.9034, -2.8937]), DenseVector([-2.4355, -12.2783, 42.3069, -45.2304, 12.9871, -3.1228]), DenseVector([-2.3978, -12.6107, 42.3797, -44.9296, 12.8036, -2.7654]), DenseVector([-2.315, -12.8272, 42.7654, -45.066, 12.8344, -2.8389]), DenseVector([-2.3567, -12.7654, 42.5489, -44.9624, 12.8096, -2.739]), DenseVector([-2.4636, -12.769, 41.826, -44.7906, 12.964, -2.7241]), DenseVector([-2.59, -12.4054, 42.0184, -45.1416, 13.0023, -3.1732]), DenseVector([-2.5511, -12.5734, 42.4469, -44.9173, 12.838, -2.9242]), DenseVector([-2.564, -12.7103, 42.1749, -44.7315, 12.7951, -2.5959]), DenseVector([-3.1819, -12.3693, 42.3041, -45.076, 13.009, -3.0224]), DenseVector([-2.7395, -12.0535, 42.0653, -44.8163, 12.8793, -2.9831]), DenseVector([-2.7383, -12.3889, 41.5881, -45.5993, 13.0046, -2.9519]), DenseVector([-2.6173, -12.5824, 41.8641, -45.0293, 13.0162, -2.905]), DenseVector([-2.6636, -12.4713, 41.9319, -45.0115, 12.9724, -2.8718]), DenseVector([-2.7385, -12.0398, 42.7613, -44.7265, 12.5899, -2.9263]), DenseVector([-2.7236, -12.5927, 41.8894, -44.7063, 12.8147, -2.5815]), DenseVector([-3.195, -11.6569, 40.1196, -45.3679, 13.2098, -3.016]), DenseVector([-2.9518, -12.1078, 41.6989, -45.8997, 13.1655, -3.3026]), DenseVector([-2.6976, -12.6716, 41.8383, -45.0713, 13.1162, -3.013]), DenseVector([-2.8829, -12.07, 42.0899, -44.8306, 12.8842, -2.9297]), DenseVector([-2.8727, -12.4235, 42.2769, -45.1615, 12.9675, -2.9811]), DenseVector([-2.9389, -12.4698, 41.7737, -45.0891, 13.0751, -2.9356]), DenseVector([-3.3771, -11.5202, 40.5268, -45.4103, 13.2802, -3.2647]), DenseVector([-3.0346, -12.3754, 41.2827, -44.705, 13.0233, -2.7208]), DenseVector([-3.0907, -12.3852, 41.2406, -44.6107, 12.9642, -2.6284]), DenseVector([-3.2197, -12.2328, 41.4728, -44.6998, 12.9563, -2.7067]), DenseVector([-3.0154, -12.1914, 41.4758, -45.5807, 13.0458, -3.32]), DenseVector([-3.027, -11.8955, 40.2005, -45.0284, 13.2118, -3.0237]), DenseVector([-1.763, -15.465, 39.8074, -41.9554, 11.2967, -2.6806]), DenseVector([-5.0393, -12.3229, 42.3853, -44.5794, 12.8831, -2.5505]), DenseVector([-5.8949, -10.9684, 43.1097, -44.4962, 12.5477, -2.7392]), DenseVector([-6.1368, -10.8408, 43.8895, -44.543, 12.4804, -2.8141]), DenseVector([-7.3507, -12.5403, 43.2722, -45.2297, 13.1497, -2.7693]), DenseVector([-6.3845, -13.593, 43.4571, -44.8529, 13.4052, -2.8294]), DenseVector([-7.2234, -12.8231, 42.3974, -44.9579, 13.3226, -2.6597]), DenseVector([-7.8676, -12.1119, 41.6032, -44.7758, 13.346, -2.6817]), DenseVector([-3.8641, -15.8197, 42.3141, -38.9453, 15.1893, -3.1609]), DenseVector([-3.84, -15.8667, 42.4839, -39.0632, 15.2086, -3.1911]), DenseVector([-8.0351, -11.8887, 41.6353, -44.8274, 13.4037, -2.8201]), DenseVector([-4.9727, -12.7857, 42.0292, -44.0728, 12.6779, -2.4747]), DenseVector([-6.9589, -12.5173, 42.7259, -45.376, 13.1098, -2.7763]), DenseVector([-4.3549, -12.6585, 41.1742, -45.3819, 13.0674, -2.5747]), DenseVector([-4.4528, -12.419, 41.5479, -45.6351, 13.1519, -2.8838]), DenseVector([-4.2615, -13.1329, 40.9326, -45.5052, 13.2238, -2.5375]), DenseVector([-4.3308, -13.0401, 41.38, -45.5182, 13.1023, -2.5304]), DenseVector([-3.4524, -14.7974, 42.7005, -46.5575, 13.3807, -2.8053]), DenseVector([-5.7974, -13.7751, 40.8232, -45.6197, 13.568, -2.4931]), DenseVector([-6.9933, -13.4295, 41.583, -45.3236, 13.2711, -2.2585]), DenseVector([-7.1561, -13.1312, 41.737, -46.3173, 14.0122, -3.4812]), DenseVector([-4.0507, -17.3765, 41.6347, -48.2095, 15.1037, -3.8582]), DenseVector([-0.8926, -15.2213, 42.1088, -43.9807, 12.6621, -3.6258]), DenseVector([-1.1985, -15.0992, 40.4651, -43.4266, 12.1883, -3.3543]), DenseVector([-3.0926, -12.3446, 41.5765, -44.9204, 13.1319, -2.9768]), DenseVector([-4.6203, -12.7967, 39.3163, -43.8654, 13.4463, -2.2482]), DenseVector([-4.2443, -14.248, 38.6236, -44.5481, 12.6488, -3.7011]), DenseVector([-4.237, -13.864, 41.8302, -45.4936, 12.4947, -2.9224]), DenseVector([-5.6122, -15.3302, 41.6107, -45.6164, 12.9378, -2.4735]), DenseVector([-5.7876, -14.9875, 42.1958, -45.3789, 12.772, -2.0429]), DenseVector([-5.5109, -15.4967, 41.3623, -45.4381, 12.328, -3.2942]), DenseVector([-5.4955, -15.4682, 41.6781, -45.525, 12.3001, -3.3183]), DenseVector([-5.8155, -14.9551, 42.1566, -45.3036, 12.6557, -2.2528]), DenseVector([-6.049, -14.6231, 42.1682, -45.1152, 12.4931, -2.4747]), DenseVector([-5.7391, -15.1491, 41.687, -45.5827, 12.8919, -2.5129]), DenseVector([-5.8341, -14.9887, 41.7827, -45.2617, 12.6883, -2.2529]), DenseVector([-5.6587, -15.3235, 41.3703, -45.4933, 13.044, -2.3053]), DenseVector([-5.3213, -15.7158, 41.6003, -45.8606, 13.1023, -2.5903]), DenseVector([-5.3402, -14.2431, 45.3741, -44.1632, 14.1776, -3.9178]), DenseVector([-5.3503, -15.6345, 41.9633, -45.8361, 13.0038, -2.4351]), DenseVector([-5.3485, -15.7128, 41.3964, -45.4842, 12.2645, -3.3812]), DenseVector([-5.5768, -15.3847, 41.5542, -45.6891, 12.9927, -2.5773]), DenseVector([-5.5572, -15.4631, 41.2006, -45.5579, 12.5016, -3.4207]), DenseVector([-5.5871, -15.4251, 41.3136, -45.6207, 12.6079, -3.2766]), DenseVector([-4.0751, -16.9705, 41.743, -44.069, 11.9301, -4.587]), DenseVector([-6.0887, -14.7047, 41.5927, -45.1558, 12.7052, -2.0981]), DenseVector([-5.942, -14.893, 41.5458, -44.783, 12.2139, -2.298]), DenseVector([-5.424, -15.6511, 41.2904, -45.5182, 12.3965, -3.3056]), DenseVector([-5.4431, -15.4887, 41.8973, -45.5029, 12.1707, -3.3398]), DenseVector([-5.4598, -15.472, 42.021, -45.6457, 12.2738, -3.3731]), DenseVector([-5.5695, -15.337, 41.9235, -45.4135, 12.0853, -3.3029])]"
          ],
          "name": "stdout"
        }
      ]
    },
    {
      "cell_type": "markdown",
      "metadata": {
        "id": "4pen2UiLAMsD"
      },
      "source": [
        "## 2.1.5 t-SNE\n",
        "\n",
        "For high-dimensional data, we often use t-Distributed Stochastic Neighbor Embedding (t-SNE) to reduce dimensionality.  This is a stochastic method so it doesn't always produce the same output.\n",
        "\n",
        "t-SNE isn't supported directly in Apache Spark (there is a 3rd party extension) but it's built into SciKit-Learn."
      ]
    },
    {
      "cell_type": "code",
      "metadata": {
        "id": "t7ywFmPFhdBi",
        "outputId": "a0eb06cb-c7ee-4b04-e69a-608795489ddf",
        "colab": {
          "base_uri": "https://localhost:8080/",
          "height": 282
        }
      },
      "source": [
        "from sklearn.manifold import TSNE\n",
        "\n",
        "X_embedded = TSNE(n_components=2).fit_transform(X)\n",
        "plt.scatter(X_embedded[:,0],X_embedded[:,1])"
      ],
      "execution_count": null,
      "outputs": [
        {
          "output_type": "execute_result",
          "data": {
            "text/plain": [
              "<matplotlib.collections.PathCollection at 0x7f0cc36924a8>"
            ]
          },
          "metadata": {
            "tags": []
          },
          "execution_count": 24
        },
        {
          "output_type": "display_data",
          "data": {
            "image/png": "[encoded data removed]",
            "text/plain": [
              "<Figure size 432x288 with 1 Axes>"
            ]
          },
          "metadata": {
            "tags": []
          }
        }
      ]
    },
    {
      "cell_type": "markdown",
      "metadata": {
        "id": "Vqb3OWu_Apg9"
      },
      "source": [
        "# 2.2 Clustering\n",
        "\n",
        "## 2.2.1 k-Means Clustering"
      ]
    },
    {
      "cell_type": "code",
      "metadata": {
        "id": "zBTrS2wurTmC",
        "outputId": "d3222d24-f8c8-401d-9e7e-aeb8e3f32079",
        "colab": {
          "base_uri": "https://localhost:8080/",
          "height": 1000
        }
      },
      "source": [
        "# Let's take the data from X_embedded and try to choose a clustering!\n",
        "X_embedded"
      ],
      "execution_count": null,
      "outputs": [
        {
          "output_type": "execute_result",
          "data": {
            "text/plain": [
              "array([[ -2.8509688 ,   3.8407674 ],\n",
              "       [  4.00473   ,  -0.02244001],\n",
              "       [  5.0354033 ,  -3.268447  ],\n",
              "       [  5.279113  ,   0.9729654 ],\n",
              "       [  7.587734  ,   1.1029699 ],\n",
              "       [ -5.2162714 , -12.58785   ],\n",
              "       [  7.6611576 ,   1.3505372 ],\n",
              "       [ 10.594555  ,   1.0355572 ],\n",
              "       [  0.4869503 ,   2.6800313 ],\n",
              "       [ -1.4567728 ,  -9.978761  ],\n",
              "       [ -4.7537637 , -12.94121   ],\n",
              "       [ 10.348014  ,  -1.2602195 ],\n",
              "       [ -4.5952153 , -12.796842  ],\n",
              "       [ -2.9965928 , -11.161304  ],\n",
              "       [ 11.490781  ,  -2.519173  ],\n",
              "       [ 11.386934  ,  -1.6429449 ],\n",
              "       [ 11.286578  ,  -1.0115668 ],\n",
              "       [ -3.9153295 ,   5.1955853 ],\n",
              "       [ -1.4198531 ,   3.0312915 ],\n",
              "       [  0.9831101 ,  -8.277434  ],\n",
              "       [ -3.4086652 , -11.527053  ],\n",
              "       [ -5.419554  ,   6.0951195 ],\n",
              "       [  9.308257  ,  -1.2752436 ],\n",
              "       [  9.972816  ,  -1.9900852 ],\n",
              "       [  6.7066355 ,   0.86977977],\n",
              "       [  9.729544  ,  -0.38431844],\n",
              "       [  5.232978  ,   0.5652696 ],\n",
              "       [  9.47846   ,  -2.19408   ],\n",
              "       [ 10.787704  ,  -3.0377374 ],\n",
              "       [  8.470667  ,  -0.00534202],\n",
              "       [ -2.5018551 , -10.815675  ],\n",
              "       [ 11.804764  ,  -0.7847904 ],\n",
              "       [ -4.163861  , -11.23587   ],\n",
              "       [ 12.052424  ,  -3.3441567 ],\n",
              "       [ 10.435013  ,  -2.132835  ],\n",
              "       [  6.5515485 ,  -1.0333523 ],\n",
              "       [ -0.08554774,   2.5080798 ],\n",
              "       [ 10.281283  ,  -1.650502  ],\n",
              "       [ -5.234721  ,   5.165884  ],\n",
              "       [ -5.234721  ,   5.165884  ],\n",
              "       [ 11.011784  ,  -0.39982307],\n",
              "       [ 11.590418  ,  -1.6208798 ],\n",
              "       [  7.382821  ,   0.15516809],\n",
              "       [ -4.5792174 ,   4.2317066 ],\n",
              "       [ -5.4018965 , -11.404782  ],\n",
              "       [  0.61476815,   1.7240729 ],\n",
              "       [ -3.1337404 ,  -9.292427  ],\n",
              "       [ -6.503949  ,   4.2470875 ],\n",
              "       [ -4.500499  ,   3.522189  ],\n",
              "       [  0.55004805,   1.9449959 ],\n",
              "       [ -6.507175  ,   3.2318995 ],\n",
              "       [ -2.8728132 ,  -7.8643756 ],\n",
              "       [  8.622326  ,   2.358517  ],\n",
              "       [  9.069456  ,   1.8904953 ],\n",
              "       [ -0.9369459 , -10.152309  ],\n",
              "       [ -3.848846  , -14.035576  ],\n",
              "       [ -6.147326  , -13.2468    ],\n",
              "       [ 10.029363  ,  -0.698838  ],\n",
              "       [  6.8845997 ,   1.5728593 ],\n",
              "       [ -1.3440769 ,  -9.356912  ],\n",
              "       [  5.4092493 ,   3.772778  ],\n",
              "       [ -0.7273164 ,   3.2999995 ],\n",
              "       [ -5.6510463 ,   2.8089256 ],\n",
              "       [ -4.4725413 ,   5.2120214 ],\n",
              "       [ -5.1080656 ,   3.0411344 ],\n",
              "       [ -3.0880826 ,   3.6994402 ],\n",
              "       [ -6.4604907 ,   1.8490735 ],\n",
              "       [ -6.496838  ,   1.779251  ],\n",
              "       [ -6.338292  ,   1.9052536 ],\n",
              "       [ -4.9503217 ,   3.5192943 ],\n",
              "       [  1.7950706 ,   4.073842  ],\n",
              "       [ -6.6660633 , -10.1320915 ],\n",
              "       [  7.012668  ,  -4.65827   ],\n",
              "       [  5.4371524 ,  -3.4762304 ],\n",
              "       [  7.3305416 ,  -5.034823  ],\n",
              "       [  7.425474  ,  -4.779129  ],\n",
              "       [  3.5408638 ,  -1.3018    ],\n",
              "       [  6.169554  ,  -4.8233438 ],\n",
              "       [  0.16807261, -10.206007  ],\n",
              "       [  6.7012315 ,  -7.293207  ],\n",
              "       [  6.7536464 ,  -7.6589704 ],\n",
              "       [  6.803939  ,  -3.8980324 ],\n",
              "       [  5.752654  ,  -0.5556332 ],\n",
              "       [  0.6076262 ,  -8.832586  ],\n",
              "       [  2.961163  ,   3.7990553 ],\n",
              "       [  5.118311  ,  -2.2124403 ],\n",
              "       [  6.8775277 ,  -3.4826362 ],\n",
              "       [  0.10061343,  -8.905271  ],\n",
              "       [  6.3742366 ,  -4.4554024 ],\n",
              "       [  5.00925   ,  -8.534881  ],\n",
              "       [ -4.6729293 ,  -9.674732  ],\n",
              "       [  7.9719315 ,  -3.93406   ],\n",
              "       [ -2.8874798 , -12.767539  ],\n",
              "       [  6.698583  ,  -3.2932055 ],\n",
              "       [  8.715185  ,  -5.135855  ],\n",
              "       [  2.067955  ,   1.355837  ],\n",
              "       [ -3.6079142 ,  -8.630694  ],\n",
              "       [ -4.1374025 , -14.108215  ],\n",
              "       [  5.331559  ,  -6.537659  ],\n",
              "       [  9.477566  ,   0.7292406 ],\n",
              "       [ -3.8971462 , -12.968337  ],\n",
              "       [  4.1464486 ,  -6.4016294 ],\n",
              "       [ -3.4344764 , -14.598116  ],\n",
              "       [ -6.8341317 ,   5.178848  ],\n",
              "       [ -4.0228276 ,   6.170987  ],\n",
              "       [ -7.129782  ,  -4.146047  ],\n",
              "       [ -7.2328043 ,  -3.1384666 ],\n",
              "       [ -7.0261292 ,  -2.2054615 ],\n",
              "       [ -4.4851236 ,  -0.52504253],\n",
              "       [  1.8147397 ,   6.566358  ],\n",
              "       [ -7.9495854 ,  -1.1428659 ],\n",
              "       [ -7.943189  ,  -1.1447747 ],\n",
              "       [ -7.20624   ,  -1.191594  ],\n",
              "       [ -2.3333457 ,  -8.66948   ],\n",
              "       [  4.2221045 ,   1.8437636 ],\n",
              "       [  3.3946617 ,   1.4376175 ],\n",
              "       [ -1.6258535 ,  -7.8318324 ],\n",
              "       [  2.4918873 ,   2.7353003 ],\n",
              "       [ -6.0905824 , -11.635401  ],\n",
              "       [  3.798869  ,  -1.0554892 ],\n",
              "       [  3.669188  ,   1.4172705 ],\n",
              "       [ -3.764271  , -12.279055  ],\n",
              "       [  5.708977  ,  -2.7484798 ],\n",
              "       [  3.2572954 ,  -1.8113625 ],\n",
              "       [ -0.62968403,   5.097044  ],\n",
              "       [ -1.6271071 ,  -8.185369  ],\n",
              "       [  8.304295  ,  -1.226229  ],\n",
              "       [ -4.869656  ,  -4.9027743 ],\n",
              "       [ -4.865727  ,  -5.0431247 ],\n",
              "       [ -4.947047  ,  -4.6755457 ],\n",
              "       [ -4.5348496 ,  -1.1084731 ],\n",
              "       [ -6.0836687 ,  -1.4742613 ],\n",
              "       [  4.514485  ,   1.654431  ],\n",
              "       [ -1.7316855 ,  -6.52375   ],\n",
              "       [  5.788864  ,   1.5431259 ],\n",
              "       [ -5.8281455 , -10.461322  ],\n",
              "       [ -2.2060096 , -10.088387  ],\n",
              "       [  6.797053  ,  -5.641217  ],\n",
              "       [  8.365332  ,  -5.6017237 ],\n",
              "       [  7.4439    ,  -5.8700686 ],\n",
              "       [  3.770105  ,  -1.9468147 ],\n",
              "       [ -3.2562695 ,  -9.75315   ],\n",
              "       [ -4.709326  , -12.216911  ],\n",
              "       [  6.3070726 ,  -6.64964   ],\n",
              "       [ -4.59411   , -11.693907  ],\n",
              "       [ -6.297344  , -10.870921  ],\n",
              "       [  5.7697096 ,   3.633872  ],\n",
              "       [  5.680331  ,  -1.2638798 ],\n",
              "       [ -0.49362046,  -9.142056  ],\n",
              "       [ 10.782023  ,  -4.0686126 ],\n",
              "       [ -1.7839698 , -11.917819  ],\n",
              "       [ -4.144353  ,   4.9961724 ],\n",
              "       [  6.5595603 ,   3.8858654 ],\n",
              "       [  6.023424  ,  -0.7205713 ],\n",
              "       [  8.494543  ,  -1.025265  ],\n",
              "       [  8.364147  ,  -1.9684123 ],\n",
              "       [  6.1655293 ,  -0.28360945],\n",
              "       [ -4.932414  ,   4.7322845 ],\n",
              "       [  1.3604823 ,   1.3107644 ],\n",
              "       [ -1.5536578 ,  -6.072432  ],\n",
              "       [  1.4201735 ,   1.102482  ],\n",
              "       [ -5.336566  ,  -8.70318   ],\n",
              "       [ -7.715661  ,  -9.606665  ],\n",
              "       [  0.8363078 ,  10.322055  ],\n",
              "       [  3.292108  ,  -6.202715  ],\n",
              "       [ -9.2651615 ,  -2.7262661 ],\n",
              "       [ -9.293982  ,  -2.7255547 ],\n",
              "       [ -2.9164388 ,  -2.0694308 ],\n",
              "       [ -2.0696344 ,  -2.3069217 ],\n",
              "       [ -3.4163094 ,  -1.8111271 ],\n",
              "       [ -4.989286  ,  -1.3991575 ],\n",
              "       [  1.1620476 ,  -4.230191  ],\n",
              "       [  1.1620377 ,  -4.2293463 ],\n",
              "       [ -4.5753284 ,  -1.462848  ],\n",
              "       [ -7.024083  ,  -8.644801  ],\n",
              "       [ -6.4983525 ,  -5.0147996 ],\n",
              "       [  4.4803786 ,   6.908258  ],\n",
              "       [  4.476651  ,   6.161072  ],\n",
              "       [  4.558094  ,   7.298633  ],\n",
              "       [  4.617143  ,   7.1693897 ],\n",
              "       [  4.0148106 ,  -4.1123557 ],\n",
              "       [  4.61616   ,   8.395743  ],\n",
              "       [  4.546217  ,   9.165102  ],\n",
              "       [  1.7850829 ,   6.5611076 ],\n",
              "       [  8.382745  ,   8.752027  ],\n",
              "       [  0.92688996,   9.272838  ],\n",
              "       [  0.8108806 ,   9.999323  ],\n",
              "       [ -0.87843585,   5.010092  ],\n",
              "       [ -2.8154216 ,   6.9258647 ],\n",
              "       [ -2.1240377 ,   7.8538475 ],\n",
              "       [  6.381662  ,  10.859623  ],\n",
              "       [  6.3910937 ,  13.145568  ],\n",
              "       [  5.2679987 ,  12.201829  ],\n",
              "       [  7.080241  ,  14.8801565 ],\n",
              "       [  6.7954865 ,  14.544527  ],\n",
              "       [  5.487948  ,  12.583384  ],\n",
              "       [  5.4835515 ,  13.317319  ],\n",
              "       [  6.326475  ,  12.248777  ],\n",
              "       [  5.7253633 ,  12.996581  ],\n",
              "       [  6.2612314 ,  12.5052185 ],\n",
              "       [  7.2170773 ,  12.717517  ],\n",
              "       [ -1.3511176 ,  -2.5792484 ],\n",
              "       [  6.8925295 ,  12.340026  ],\n",
              "       [  7.3781285 ,  15.207235  ],\n",
              "       [  6.7713127 ,  12.945082  ],\n",
              "       [  7.770075  ,  14.763773  ],\n",
              "       [  7.4138875 ,  14.07838   ],\n",
              "       [  7.4750915 ,  16.415817  ],\n",
              "       [  5.0779276 ,  12.848599  ],\n",
              "       [  5.18493   ,  13.783873  ],\n",
              "       [  7.4929557 ,  14.516891  ],\n",
              "       [  6.6561294 ,  15.620233  ],\n",
              "       [  6.438791  ,  14.769219  ],\n",
              "       [  6.352912  ,  15.097497  ]], dtype=float32)"
            ]
          },
          "metadata": {
            "tags": []
          },
          "execution_count": 25
        }
      ]
    },
    {
      "cell_type": "markdown",
      "metadata": {
        "id": "Hh6ox3hg2SGo"
      },
      "source": [
        "### The Algorithm, in Full Detail\n",
        "\n",
        "Let's start with the basic algorithm.  We'll split it into three components:\n",
        "1. The clustering coefficient or `error` function -- how far away are points?\n",
        "2. The function to get the most appropriate cluster for a point, `get_nearest`.\n",
        "3. The main K-Means algorithm.\n",
        "\n",
        "For this version we will initialize with randomly chosen points in the dataset, then iteratively recompute until we reach convergence (which is detected when every point remains in its current cluster)."
      ]
    },
    {
      "cell_type": "code",
      "metadata": {
        "id": "83hAdqB4BwsX",
        "outputId": "33a8165c-5f45-4b98-eb4e-d47f6f59cf13",
        "colab": {
          "base_uri": "https://localhost:8080/",
          "height": 1000
        }
      },
      "source": [
        "from random import randint\n",
        "\n",
        "def error(x,c):\n",
        "  \"\"\"\n",
        "  Error (distance, clustering coefficient) between a point x\n",
        "  and the centroid c.  We are using Euclidean distance, which\n",
        "  can also be thought of as the sum of the squared error.\n",
        "  \"\"\"\n",
        "  #err = 0\n",
        "  #for i in range(len(x)):\n",
        "  #  err = err + np.square(x[i] - c[i])\n",
        "\n",
        "  err = np.linalg.norm(x - c)\n",
        "\n",
        "  return err\n",
        "\n",
        "def get_nearest(c_list, x):\n",
        "  nearest = -1\n",
        "  nearest_error = np.infty\n",
        "  for i, v in enumerate(c_list):\n",
        "    if error(x, v) < nearest_error:\n",
        "      nearest_error = error(x, v)\n",
        "      nearest = i\n",
        "  return nearest\n",
        "\n",
        "def kmeans(X, k, show):\n",
        "  \"\"\"\n",
        "  Simple k-means algorithm\n",
        "  \"\"\"\n",
        "  # Initialize the centroids to random points\n",
        "  # in the data\n",
        "  centroids = np.zeros((k,2))\n",
        "  cluster_assignments = [0 for i in range(len(X))]\n",
        "  for i in range(0, k):\n",
        "    centroids[i] = X[randint(0, X.shape[0])]\n",
        "\n",
        "  if show:\n",
        "    print('Initialized centroids to: ')\n",
        "    print(centroids)\n",
        "\n",
        "  iteration = 1\n",
        "  changed = True\n",
        "  while changed:\n",
        "    if show:\n",
        "      print ('Iteration %d'%iteration)\n",
        "      iteration = iteration + 1\n",
        "\n",
        "    # Nothing happened in this iteration, by default    \n",
        "    changed = False\n",
        "    # Assign points to clusters\n",
        "    for i,x in enumerate(X):\n",
        "      nearest = get_nearest(centroids, x)\n",
        "      # We changed a cluster mapping!\n",
        "      if nearest != cluster_assignments[i]:\n",
        "        changed = True\n",
        "      cluster_assignments[i] = nearest\n",
        "\n",
        "    if changed:\n",
        "      # Recompute clusters\n",
        "      for i in range(len(centroids)):\n",
        "        points = [j for j,v in enumerate(cluster_assignments) if v == i]\n",
        "        if show:\n",
        "          print ('Cluster %d'%i)\n",
        "        X_subset = np.array([[X[i,0],X[i,1]] for i in points])\n",
        "        #if show:\n",
        "        #  print (X_subset)\n",
        "\n",
        "        if len(X_subset):\n",
        "          centroids[i][0] = np.sum(X_subset[:, 0]) / len(points)\n",
        "          centroids[i][1] = np.sum(X_subset[:, 1]) / len(points)\n",
        "          print (centroids[i])\n",
        "    elif show:\n",
        "      print('Converged!')\n",
        "\n",
        "  return (centroids, np.array(cluster_assignments))\n",
        "\n",
        "  \n",
        "k = 2\n",
        "plt.scatter(X_embedded[:,0], X_embedded[:,1], c='red', marker='o', s=50)\n",
        "plt.grid()\n",
        "plt.show()\n",
        "centroids, assignments = kmeans(X_embedded, k, True)\n",
        "\n",
        "assignments"
      ],
      "execution_count": null,
      "outputs": [
        {
          "output_type": "display_data",
          "data": {
            "image/png": "[encoded data removed]",
            "text/plain": [
              "<Figure size 432x288 with 1 Axes>"
            ]
          },
          "metadata": {
            "tags": []
          }
        },
        {
          "output_type": "stream",
          "text": [
            "Initialized centroids to: \n",
            "[[ 0.98311007 -8.27743435]\n",
            " [ 6.79705286 -5.64121723]]\n",
            "Iteration 1\n",
            "Cluster 0\n",
            "[-4.09569541 -4.76599222]\n",
            "Cluster 1\n",
            "[6.03096914 2.6301535 ]\n",
            "Iteration 2\n",
            "Cluster 0\n",
            "[-3.94771593 -5.16411065]\n",
            "Cluster 1\n",
            "[5.84189876 2.85946385]\n",
            "Iteration 3\n",
            "Cluster 0\n",
            "[-3.85614117 -5.39712319]\n",
            "Cluster 1\n",
            "[5.69838086 2.96118018]\n",
            "Iteration 4\n",
            "Cluster 0\n",
            "[-3.83614143 -5.88643153]\n",
            "Cluster 1\n",
            "[5.38893825 3.02442069]\n",
            "Iteration 5\n",
            "Cluster 0\n",
            "[-3.65045538 -6.43050478]\n",
            "Cluster 1\n",
            "[5.06392693 3.15988645]\n",
            "Iteration 6\n",
            "Cluster 0\n",
            "[-3.49611485 -6.68686554]\n",
            "Cluster 1\n",
            "[4.90440793 3.2439075 ]\n",
            "Iteration 7\n",
            "Cluster 0\n",
            "[-3.33387775 -6.83289629]\n",
            "Cluster 1\n",
            "[4.80560211 3.33284352]\n",
            "Iteration 8\n",
            "Cluster 0\n",
            "[-3.27129238 -7.09813526]\n",
            "Cluster 1\n",
            "[4.64839319 3.33745456]\n",
            "Iteration 9\n",
            "Converged!\n"
          ],
          "name": "stdout"
        },
        {
          "output_type": "execute_result",
          "data": {
            "text/plain": [
              "array([1, 1, 1, 1, 1, 0, 1, 1, 1, 0, 0, 1, 0, 0, 1, 1, 1, 1, 1, 0, 0, 1,\n",
              "       1, 1, 1, 1, 1, 1, 1, 1, 0, 1, 0, 1, 1, 1, 1, 1, 1, 1, 1, 1, 1, 1,\n",
              "       0, 1, 0, 1, 1, 1, 0, 0, 1, 1, 0, 0, 0, 1, 1, 0, 1, 1, 0, 1, 1, 1,\n",
              "       0, 0, 0, 1, 1, 0, 1, 1, 1, 1, 1, 1, 0, 0, 0, 1, 1, 0, 1, 1, 1, 0,\n",
              "       1, 0, 0, 1, 0, 1, 1, 1, 0, 0, 0, 1, 0, 0, 0, 1, 1, 0, 0, 0, 0, 1,\n",
              "       0, 0, 0, 0, 1, 1, 0, 1, 0, 1, 1, 0, 1, 1, 1, 0, 1, 0, 0, 0, 0, 0,\n",
              "       1, 0, 1, 0, 0, 1, 1, 1, 1, 0, 0, 0, 0, 0, 1, 1, 0, 1, 0, 1, 1, 1,\n",
              "       1, 1, 1, 1, 1, 0, 1, 0, 0, 1, 0, 0, 0, 0, 0, 0, 0, 0, 0, 0, 0, 0,\n",
              "       1, 1, 1, 1, 1, 1, 1, 1, 1, 1, 1, 1, 1, 1, 1, 1, 1, 1, 1, 1, 1, 1,\n",
              "       1, 1, 1, 0, 1, 1, 1, 1, 1, 1, 1, 1, 1, 1, 1, 1])"
            ]
          },
          "metadata": {
            "tags": []
          },
          "execution_count": 26
        }
      ]
    },
    {
      "cell_type": "code",
      "metadata": {
        "id": "wE87q7lm0TOU",
        "outputId": "5681ee41-49f0-47d1-9c3b-236b658dc77a",
        "colab": {
          "base_uri": "https://localhost:8080/",
          "height": 282
        }
      },
      "source": [
        "# Plotting along with the Centroids\n",
        "clust0 = np.array([x for i, x in enumerate(X_embedded) if assignments[i] == 0])\n",
        "clust1 = np.array([x for i, x in enumerate(X_embedded) if assignments[i] == 1])\n",
        "\n",
        "plt.scatter(clust0[:,0], clust0[:,1], c='red', marker='o', s=50)\n",
        "plt.scatter(clust1[:,0], clust1[:,1], c='black', marker='o', s=50)\n",
        "plt.scatter(centroids[:,0], centroids[:,1], marker='*', s=50, c='g')"
      ],
      "execution_count": null,
      "outputs": [
        {
          "output_type": "execute_result",
          "data": {
            "text/plain": [
              "<matplotlib.collections.PathCollection at 0x7f0cc2d79b70>"
            ]
          },
          "metadata": {
            "tags": []
          },
          "execution_count": 27
        },
        {
          "output_type": "display_data",
          "data": {
            "image/png": "[encoded data removed]",
            "text/plain": [
              "<Figure size 432x288 with 1 Axes>"
            ]
          },
          "metadata": {
            "tags": []
          }
        }
      ]
    },
    {
      "cell_type": "code",
      "metadata": {
        "id": "15YV5OnlCIgg",
        "outputId": "bca4838b-02c1-446b-e795-75b847baab5e",
        "colab": {
          "base_uri": "https://localhost:8080/",
          "height": 68
        }
      },
      "source": [
        "from sklearn.cluster import KMeans\n",
        "\n",
        "km = KMeans(2, 'random', n_init=1, max_iter=300, random_state=0)\n",
        "km.fit(X_embedded)"
      ],
      "execution_count": null,
      "outputs": [
        {
          "output_type": "execute_result",
          "data": {
            "text/plain": [
              "KMeans(algorithm='auto', copy_x=True, init='random', max_iter=300, n_clusters=2,\n",
              "       n_init=1, n_jobs=None, precompute_distances='auto', random_state=0,\n",
              "       tol=0.0001, verbose=0)"
            ]
          },
          "metadata": {
            "tags": []
          },
          "execution_count": 28
        }
      ]
    },
    {
      "cell_type": "code",
      "metadata": {
        "id": "DYlKOGWhV4sm",
        "outputId": "e4c8321e-a0da-4ded-c61b-9847a7e16649",
        "colab": {
          "base_uri": "https://localhost:8080/",
          "height": 51
        }
      },
      "source": [
        "km.cluster_centers_"
      ],
      "execution_count": null,
      "outputs": [
        {
          "output_type": "execute_result",
          "data": {
            "text/plain": [
              "array([[-3.1983624, -7.360958 ],\n",
              "       [ 4.4917874,  3.3328261]], dtype=float32)"
            ]
          },
          "metadata": {
            "tags": []
          },
          "execution_count": 29
        }
      ]
    },
    {
      "cell_type": "code",
      "metadata": {
        "id": "vD5sJfDjV57W",
        "outputId": "21a9d76a-aa01-41b9-9e03-60dce3394923",
        "colab": {
          "base_uri": "https://localhost:8080/",
          "height": 187
        }
      },
      "source": [
        "km.labels_"
      ],
      "execution_count": null,
      "outputs": [
        {
          "output_type": "execute_result",
          "data": {
            "text/plain": [
              "array([1, 1, 1, 1, 1, 0, 1, 1, 1, 0, 0, 1, 0, 0, 1, 1, 1, 1, 1, 0, 0, 1,\n",
              "       1, 1, 1, 1, 1, 1, 1, 1, 0, 1, 0, 1, 1, 1, 1, 1, 1, 1, 1, 1, 1, 1,\n",
              "       0, 1, 0, 1, 1, 1, 1, 0, 1, 1, 0, 0, 0, 1, 1, 0, 1, 1, 1, 1, 1, 1,\n",
              "       0, 0, 0, 1, 1, 0, 1, 1, 1, 1, 1, 1, 0, 0, 0, 1, 1, 0, 1, 1, 1, 0,\n",
              "       1, 0, 0, 1, 0, 1, 1, 1, 0, 0, 0, 1, 0, 0, 0, 1, 1, 0, 0, 0, 0, 1,\n",
              "       0, 0, 0, 0, 1, 1, 0, 1, 0, 1, 1, 0, 1, 1, 1, 0, 1, 0, 0, 0, 0, 0,\n",
              "       1, 0, 1, 0, 0, 1, 1, 1, 1, 0, 0, 0, 0, 0, 1, 1, 0, 1, 0, 1, 1, 1,\n",
              "       1, 1, 1, 1, 1, 0, 1, 0, 0, 1, 0, 0, 0, 0, 0, 0, 0, 0, 0, 0, 0, 0,\n",
              "       1, 1, 1, 1, 1, 1, 1, 1, 1, 1, 1, 1, 1, 1, 1, 1, 1, 1, 1, 1, 1, 1,\n",
              "       1, 1, 1, 0, 1, 1, 1, 1, 1, 1, 1, 1, 1, 1, 1, 1], dtype=int32)"
            ]
          },
          "metadata": {
            "tags": []
          },
          "execution_count": 30
        }
      ]
    },
    {
      "cell_type": "code",
      "metadata": {
        "id": "-Dj_ABunXGaz",
        "outputId": "42095389-deba-477d-d87b-272021267b14",
        "colab": {
          "base_uri": "https://localhost:8080/",
          "height": 282
        }
      },
      "source": [
        "# Plotting along with the Centroids\n",
        "clust0 = np.array([x for i, x in enumerate(X_embedded) if km.labels_[i] == 0])\n",
        "clust1 = np.array([x for i, x in enumerate(X_embedded) if km.labels_[i] == 1])\n",
        "\n",
        "plt.scatter(clust0[:,0], clust0[:,1], c='red', marker='o', s=50)\n",
        "plt.scatter(clust1[:,0], clust1[:,1], c='black', marker='o', s=50)\n",
        "plt.scatter(centroids[:,0], centroids[:,1], marker='*', s=50, c='g')"
      ],
      "execution_count": null,
      "outputs": [
        {
          "output_type": "execute_result",
          "data": {
            "text/plain": [
              "<matplotlib.collections.PathCollection at 0x7f0cc21d1390>"
            ]
          },
          "metadata": {
            "tags": []
          },
          "execution_count": 31
        },
        {
          "output_type": "display_data",
          "data": {
            "image/png": "[encoded data removed]",
            "text/plain": [
              "<Figure size 432x288 with 1 Axes>"
            ]
          },
          "metadata": {
            "tags": []
          }
        }
      ]
    },
    {
      "cell_type": "markdown",
      "metadata": {
        "id": "mdei8_5RNoxb"
      },
      "source": [
        "### 2.2.2 k-Means in SQL\n",
        "\n",
        "For this one we'll use the college dataset from Kaggle.  Here we have both private and public universities, as well as many statistics.\n",
        "\n",
        "The hope is that we can find 2 natural clusters.  Let's see!"
      ]
    },
    {
      "cell_type": "code",
      "metadata": {
        "id": "mPPjlW_5NoIL",
        "outputId": "0bbbb371-67c3-4298-de5c-b50f58300add",
        "colab": {
          "base_uri": "https://localhost:8080/",
          "height": 255,
          "referenced_widgets": [
            "e5d3e6e556c2427dbfc3864b7b74cf65",
            "d258c491aabb41e3ba8891e41d4bd223",
            "7ed505ae6c824e47a6c40f617bff426b"
          ]
        }
      },
      "source": [
        "%%spark\n",
        "\n",
        "import pandas as pd\n",
        "\n",
        "# Sample data\n",
        "km_data = pd.DataFrame(pd.read_csv('https://www.cis.upenn.edu/~zives/college-data.csv').reset_index())\n",
        "\n",
        "km_data\n"
      ],
      "execution_count": null,
      "outputs": [
        {
          "output_type": "display_data",
          "data": {
            "application/vnd.jupyter.widget-view+json": {
              "model_id": "e5d3e6e556c2427dbfc3864b7b74cf65",
              "version_minor": 0,
              "version_major": 2
            },
            "text/plain": [
              "FloatProgress(value=0.0, bar_style='info', description='Progress:', layout=Layout(height='25px', width='50%'),…"
            ]
          },
          "metadata": {
            "tags": []
          }
        },
        {
          "output_type": "stream",
          "text": [
            "     index private   apps  accept  ...  s_f_ratio  perc_alumni  expend  grad_rate\n",
            "0        0     Yes   1660    1232  ...       18.1           12    7041         60\n",
            "1        1     Yes   2186    1924  ...       12.2           16   10527         56\n",
            "2        2     Yes   1428    1097  ...       12.9           30    8735         54\n",
            "3        3     Yes    417     349  ...        7.7           37   19016         59\n",
            "4        4     Yes    193     146  ...       11.9            2   10922         15\n",
            "..     ...     ...    ...     ...  ...        ...          ...     ...        ...\n",
            "772    772      No   2197    1515  ...       21.0           14    4469         40\n",
            "773    773     Yes   1959    1805  ...       13.3           31    9189         83\n",
            "774    774     Yes   2097    1915  ...       14.4           20    8323         49\n",
            "775    775     Yes  10705    2453  ...        5.8           49   40386         99\n",
            "776    776     Yes   2989    1855  ...       18.1           28    4509         99\n",
            "\n",
            "[777 rows x 19 columns]"
          ],
          "name": "stdout"
        }
      ]
    },
    {
      "cell_type": "code",
      "metadata": {
        "id": "0BUzd6NKZeex",
        "outputId": "36a05f21-501a-479b-ead7-b38f79a01a02",
        "colab": {
          "base_uri": "https://localhost:8080/",
          "height": 459,
          "referenced_widgets": [
            "07961ec3b40a40e690cb5417e7fc6c7d",
            "d226ba2f38154ae6a6986f21c542661b",
            "fe8bad773ced4d908e3405b9a44577cf"
          ]
        }
      },
      "source": [
        "%%spark\n",
        "\n",
        "km_data_sdf = spark.createDataFrame(km_data)\n",
        "\n",
        "km_data.info()\n"
      ],
      "execution_count": null,
      "outputs": [
        {
          "output_type": "display_data",
          "data": {
            "application/vnd.jupyter.widget-view+json": {
              "model_id": "07961ec3b40a40e690cb5417e7fc6c7d",
              "version_minor": 0,
              "version_major": 2
            },
            "text/plain": [
              "FloatProgress(value=0.0, bar_style='info', description='Progress:', layout=Layout(height='25px', width='50%'),…"
            ]
          },
          "metadata": {
            "tags": []
          }
        },
        {
          "output_type": "stream",
          "text": [
            "<class 'pandas.core.frame.DataFrame'>\n",
            "RangeIndex: 777 entries, 0 to 776\n",
            "Data columns (total 19 columns):\n",
            " #   Column       Non-Null Count  Dtype  \n",
            "---  ------       --------------  -----  \n",
            " 0   index        777 non-null    int64  \n",
            " 1   private      777 non-null    object \n",
            " 2   apps         777 non-null    int64  \n",
            " 3   accept       777 non-null    int64  \n",
            " 4   enroll       777 non-null    int64  \n",
            " 5   top10perc    777 non-null    int64  \n",
            " 6   top25perc    777 non-null    int64  \n",
            " 7   f_undergrad  777 non-null    int64  \n",
            " 8   p_undergrad  777 non-null    int64  \n",
            " 9   outstate     777 non-null    int64  \n",
            " 10  room_board   777 non-null    int64  \n",
            " 11  books        777 non-null    int64  \n",
            " 12  personal     777 non-null    int64  \n",
            " 13  phd          777 non-null    int64  \n",
            " 14  terminal     777 non-null    int64  \n",
            " 15  s_f_ratio    777 non-null    float64\n",
            " 16  perc_alumni  777 non-null    int64  \n",
            " 17  expend       777 non-null    int64  \n",
            " 18  grad_rate    777 non-null    int64  \n",
            "dtypes: float64(1), int64(17), object(1)\n",
            "memory usage: 115.5+ KB"
          ],
          "name": "stdout"
        }
      ]
    },
    {
      "cell_type": "code",
      "metadata": {
        "id": "qx0pKR6ehkOr",
        "outputId": "ac05b9c6-bb57-4151-9a91-618f7d1b3bb2",
        "colab": {
          "base_uri": "https://localhost:8080/",
          "height": 204,
          "referenced_widgets": [
            "e7b2e7eac2694542ad45c9c68cdc3712",
            "59e3f80454304c0d918bb3ef9d795a8c",
            "04c537dd86d643149ea07fdffb706914"
          ]
        }
      },
      "source": [
        "%%spark\n",
        "\n",
        "km_data.describe()"
      ],
      "execution_count": null,
      "outputs": [
        {
          "output_type": "display_data",
          "data": {
            "application/vnd.jupyter.widget-view+json": {
              "model_id": "e7b2e7eac2694542ad45c9c68cdc3712",
              "version_minor": 0,
              "version_major": 2
            },
            "text/plain": [
              "FloatProgress(value=0.0, bar_style='info', description='Progress:', layout=Layout(height='25px', width='50%'),…"
            ]
          },
          "metadata": {
            "tags": []
          }
        },
        {
          "output_type": "stream",
          "text": [
            "            index          apps  ...        expend  grad_rate\n",
            "count  777.000000    777.000000  ...    777.000000  777.00000\n",
            "mean   388.000000   3001.638353  ...   9660.171171   65.46332\n",
            "std    224.444871   3870.201484  ...   5221.768440   17.17771\n",
            "min      0.000000     81.000000  ...   3186.000000   10.00000\n",
            "25%    194.000000    776.000000  ...   6751.000000   53.00000\n",
            "50%    388.000000   1558.000000  ...   8377.000000   65.00000\n",
            "75%    582.000000   3624.000000  ...  10830.000000   78.00000\n",
            "max    776.000000  48094.000000  ...  56233.000000  118.00000\n",
            "\n",
            "[8 rows x 18 columns]"
          ],
          "name": "stdout"
        }
      ]
    },
    {
      "cell_type": "code",
      "metadata": {
        "id": "4_bKsM0viEUX",
        "outputId": "bbc57f1a-5a13-4139-b164-50bb300f6e6e",
        "colab": {
          "base_uri": "https://localhost:8080/",
          "height": 17,
          "referenced_widgets": [
            "fb22f3fc525549569fa6f0230498dd0d",
            "bf6caa57b94544e2ac2f601a7d1211a2",
            "89f72f4025784706882b1c25722519fa"
          ]
        }
      },
      "source": [
        "%%spark\n",
        "\n",
        "k = 2\n",
        "km_data_sdf.createOrReplaceTempView('km_data')\n",
        "\n",
        "def initialize():\n",
        "  ######################\n",
        "  ## Initialize clusters.  It's better to do this randomly, but we'll use the\n",
        "  ## first k=2 rows\n",
        "  km_cluster_centroids_sdf = spark.sql(\"\"\"\n",
        "            (SELECT index as cluster_id,apps,accept,enroll,top10perc,top25perc,f_undergrad,p_undergrad,outstate,room_board,books,personal,phd,terminal,s_f_ratio,perc_alumni,expend,grad_rate\n",
        "            FROM km_data k ORDER BY index LIMIT\n",
        "            \"\"\" + ' ' + str(k) + ')')\n",
        "\n",
        "  km_cluster_centroids_sdf.show(1)\n",
        "  km_cluster_centroids_sdf.createOrReplaceTempView('km_cluster_centroids')\n",
        "  return km_cluster_centroids_sdf"
      ],
      "execution_count": null,
      "outputs": [
        {
          "output_type": "display_data",
          "data": {
            "application/vnd.jupyter.widget-view+json": {
              "model_id": "fb22f3fc525549569fa6f0230498dd0d",
              "version_minor": 0,
              "version_major": 2
            },
            "text/plain": [
              "FloatProgress(value=0.0, bar_style='info', description='Progress:', layout=Layout(height='25px', width='50%'),…"
            ]
          },
          "metadata": {
            "tags": []
          }
        }
      ]
    },
    {
      "cell_type": "code",
      "metadata": {
        "id": "eKb5rrnvnPmm",
        "outputId": "452f22e6-ca7f-4802-e592-ce598b9bbe5f",
        "colab": {
          "base_uri": "https://localhost:8080/",
          "height": 17,
          "referenced_widgets": [
            "e831c4a1f8a8452a862b1838a2217653",
            "47460bf17ac348eb9ea3b89a8dfa1cc0",
            "ba3b7d108db74728a9ead95b3274e294"
          ]
        }
      },
      "source": [
        "%%spark\n",
        "\n",
        "def assign_clusters():\n",
        "      # Distance between each point & each centroid\n",
        "    km_data_to_cluster_dist_sdf =\\\n",
        "      spark.sql(\"\"\"\n",
        "                SELECT c.cluster_id,k.index,(pow(c.apps - k.apps, 2)+\n",
        "                                              pow(c.accept - k.accept, 2)+\n",
        "                                              pow(c.enroll - k.enroll, 2)+\n",
        "                                              pow(c.top10perc - k.top10perc, 2)+\n",
        "                                              pow(c.top25perc - k.top25perc, 2)+\n",
        "                                              pow(c.f_undergrad - k.f_undergrad, 2)+\n",
        "                                              pow(c.p_undergrad - k.p_undergrad, 2)+\n",
        "                                              pow(c.outstate - k.outstate, 2)+\n",
        "                                              pow(c.room_board - k.room_board, 2)+\n",
        "                                              pow(c.personal - k.personal, 2)+\n",
        "                                              pow(c.phd - k.phd, 2)+\n",
        "                                              pow(c.terminal - k.terminal, 2)+\n",
        "                                              pow(c.s_f_ratio - k.s_f_ratio, 2)+\n",
        "                                              pow(c.perc_alumni - k.perc_alumni, 2)+\n",
        "                                              pow(c.expend - k.expend, 2)+\n",
        "                                              pow(c.grad_rate - k.grad_rate, 2)\n",
        "                ) as dist\n",
        "                FROM km_cluster_centroids c CROSS JOIN km_data k\n",
        "                \"\"\")\n",
        "    km_data_to_cluster_dist_sdf.createOrReplaceTempView('km_data_to_cluster_dist')\n",
        "\n",
        "    # SparkSQL is very limited in subqueries.  We want for each index,\n",
        "    # the cluster_id which minimizes the cluster distance.  We do two steps for\n",
        "    # each data item: (1) find the shortest distance to ANY cluster ID, \n",
        "    # (2) find the cluster ID whose distance equals the shortest distance.\n",
        "    km_data_to_cluster_best_dist_sdf = spark.sql('''\n",
        "              SELECT index,min(dist) as dist\n",
        "              FROM km_data_to_cluster_dist\n",
        "              GROUP BY index''')\n",
        "    km_data_to_cluster_best_dist_sdf.createOrReplaceTempView('km_data_to_cluster_best_dist')\n",
        "\n",
        "    km_data_to_cluster_sdf = spark.sql('''\n",
        "              SELECT kd.index, kd.cluster_id\n",
        "              FROM km_data_to_cluster_dist kd JOIN km_data_to_cluster_best_dist kb\n",
        "                ON kd.index = kb.index\n",
        "              WHERE kd.dist = kb.dist''')\n",
        "    km_data_to_cluster_sdf.createOrReplaceTempView('km_data_to_cluster')\n",
        "    km_data_to_cluster_sdf.show(1)\n",
        "    return km_data_to_cluster_sdf\n"
      ],
      "execution_count": null,
      "outputs": [
        {
          "output_type": "display_data",
          "data": {
            "application/vnd.jupyter.widget-view+json": {
              "model_id": "e831c4a1f8a8452a862b1838a2217653",
              "version_minor": 0,
              "version_major": 2
            },
            "text/plain": [
              "FloatProgress(value=0.0, bar_style='info', description='Progress:', layout=Layout(height='25px', width='50%'),…"
            ]
          },
          "metadata": {
            "tags": []
          }
        }
      ]
    },
    {
      "cell_type": "code",
      "metadata": {
        "id": "piC0QwAGv079",
        "outputId": "b12aff27-3082-4f97-cbfe-e943921516d5",
        "colab": {
          "base_uri": "https://localhost:8080/",
          "height": 17,
          "referenced_widgets": [
            "36a48c09162f41bb9e9d34737ca905e3",
            "510e076e9f3747f0b927f072c4326597",
            "fe0c9e80007e41e5824b5f42b459fa69"
          ]
        }
      },
      "source": [
        "%%spark\n",
        "def compute_centroids():\n",
        "  km_clusters_sdf = spark.sql('''\n",
        "            SELECT cluster_id,AVG(apps) AS apps,AVG(accept) AS accept,\n",
        "               AVG(enroll) AS enroll,AVG(top10perc) AS top10perc, \n",
        "               AVG(top25perc) AS top25perc,AVG(f_undergrad) AS f_undergrad, \n",
        "               AVG(p_undergrad) AS p_undergrad,AVG(outstate) AS outstate, \n",
        "               AVG(room_board) AS room_board,AVG(books) AS books, \n",
        "               AVG(personal) AS personal,AVG(phd) AS phd, \n",
        "               AVG(terminal) AS terminal,AVG(s_f_ratio) AS s_f_ratio, \n",
        "               AVG(perc_alumni) AS perc_alumni,AVG(expend) AS expend, \n",
        "               AVG(grad_rate) AS grad_rate\n",
        "            FROM km_data_to_cluster kc JOIN km_data kd ON kc.index = kd.index\n",
        "            GROUP BY kc.cluster_id\n",
        "            ''')  \n",
        "  km_clusters_sdf.createOrReplaceTempView('km_cluster_centroids')\n",
        "  km_clusters_sdf.show(1)\n",
        "  return km_clusters_sdf"
      ],
      "execution_count": null,
      "outputs": [
        {
          "output_type": "display_data",
          "data": {
            "application/vnd.jupyter.widget-view+json": {
              "model_id": "36a48c09162f41bb9e9d34737ca905e3",
              "version_minor": 0,
              "version_major": 2
            },
            "text/plain": [
              "FloatProgress(value=0.0, bar_style='info', description='Progress:', layout=Layout(height='25px', width='50%'),…"
            ]
          },
          "metadata": {
            "tags": []
          }
        }
      ]
    },
    {
      "cell_type": "code",
      "metadata": {
        "id": "PD0FnOHAxYCL",
        "outputId": "12f5d1da-3470-4b9f-f61c-f6bb2baa2039",
        "colab": {
          "base_uri": "https://localhost:8080/",
          "height": 1000,
          "referenced_widgets": [
            "7b8319c5fde146308ee8614107f6fd29",
            "3de0f85542ca46e282bc791d54695fa3",
            "e63c684af808459280cf8385915117c4"
          ]
        }
      },
      "source": [
        "%%spark\n",
        "\n",
        "max_iter = 1\n",
        "print('Initial data:')\n",
        "spark.sql('select * from km_data').show(5)\n",
        "print('Initial cluster centroids:')\n",
        "km_cluster_centroids_sdf = initialize()\n",
        "km_cluster_centroids_sdf.show()\n",
        "for i in range(max_iter):\n",
        "  km_data_to_cluster_sdf = assign_clusters()\n",
        "  # print ('Data-cluster assignments')\n",
        "  # spark.sql('select * from km_data_to_cluster order by index').show(5)\n",
        "  km_cluster_centroids_sdf = compute_centroids()\n",
        "  # print ('New cluster centroids')\n",
        "  # spark.sql('select * from km_cluster_centroids').show()\n",
        "\n",
        "km_cluster_centroids_sdf.explain()\n"
      ],
      "execution_count": null,
      "outputs": [
        {
          "output_type": "display_data",
          "data": {
            "application/vnd.jupyter.widget-view+json": {
              "model_id": "7b8319c5fde146308ee8614107f6fd29",
              "version_minor": 0,
              "version_major": 2
            },
            "text/plain": [
              "FloatProgress(value=0.0, bar_style='info', description='Progress:', layout=Layout(height='25px', width='50%'),…"
            ]
          },
          "metadata": {
            "tags": []
          }
        },
        {
          "output_type": "stream",
          "text": [
            "Initial data:\n",
            "+-----+-------+----+------+------+---------+---------+-----------+-----------+--------+----------+-----+--------+---+--------+---------+-----------+------+---------+\n",
            "|index|private|apps|accept|enroll|top10perc|top25perc|f_undergrad|p_undergrad|outstate|room_board|books|personal|phd|terminal|s_f_ratio|perc_alumni|expend|grad_rate|\n",
            "+-----+-------+----+------+------+---------+---------+-----------+-----------+--------+----------+-----+--------+---+--------+---------+-----------+------+---------+\n",
            "|    0|    Yes|1660|  1232|   721|       23|       52|       2885|        537|    7440|      3300|  450|    2200| 70|      78|     18.1|         12|  7041|       60|\n",
            "|    1|    Yes|2186|  1924|   512|       16|       29|       2683|       1227|   12280|      6450|  750|    1500| 29|      30|     12.2|         16| 10527|       56|\n",
            "|    2|    Yes|1428|  1097|   336|       22|       50|       1036|         99|   11250|      3750|  400|    1165| 53|      66|     12.9|         30|  8735|       54|\n",
            "|    3|    Yes| 417|   349|   137|       60|       89|        510|         63|   12960|      5450|  450|     875| 92|      97|      7.7|         37| 19016|       59|\n",
            "|    4|    Yes| 193|   146|    55|       16|       44|        249|        869|    7560|      4120|  800|    1500| 76|      72|     11.9|          2| 10922|       15|\n",
            "+-----+-------+----+------+------+---------+---------+-----------+-----------+--------+----------+-----+--------+---+--------+---------+-----------+------+---------+\n",
            "only showing top 5 rows\n",
            "\n",
            "Initial cluster centroids:\n",
            "+----------+----+------+------+---------+---------+-----------+-----------+--------+----------+-----+--------+---+--------+---------+-----------+------+---------+\n",
            "|cluster_id|apps|accept|enroll|top10perc|top25perc|f_undergrad|p_undergrad|outstate|room_board|books|personal|phd|terminal|s_f_ratio|perc_alumni|expend|grad_rate|\n",
            "+----------+----+------+------+---------+---------+-----------+-----------+--------+----------+-----+--------+---+--------+---------+-----------+------+---------+\n",
            "|         0|1660|  1232|   721|       23|       52|       2885|        537|    7440|      3300|  450|    2200| 70|      78|     18.1|         12|  7041|       60|\n",
            "+----------+----+------+------+---------+---------+-----------+-----------+--------+----------+-----+--------+---+--------+---------+-----------+------+---------+\n",
            "only showing top 1 row\n",
            "\n",
            "+----------+----+------+------+---------+---------+-----------+-----------+--------+----------+-----+--------+---+--------+---------+-----------+------+---------+\n",
            "|cluster_id|apps|accept|enroll|top10perc|top25perc|f_undergrad|p_undergrad|outstate|room_board|books|personal|phd|terminal|s_f_ratio|perc_alumni|expend|grad_rate|\n",
            "+----------+----+------+------+---------+---------+-----------+-----------+--------+----------+-----+--------+---+--------+---------+-----------+------+---------+\n",
            "|         0|1660|  1232|   721|       23|       52|       2885|        537|    7440|      3300|  450|    2200| 70|      78|     18.1|         12|  7041|       60|\n",
            "|         1|2186|  1924|   512|       16|       29|       2683|       1227|   12280|      6450|  750|    1500| 29|      30|     12.2|         16| 10527|       56|\n",
            "+----------+----+------+------+---------+---------+-----------+-----------+--------+----------+-----+--------+---+--------+---------+-----------+------+---------+\n",
            "\n",
            "+-----+----------+\n",
            "|index|cluster_id|\n",
            "+-----+----------+\n",
            "|  428|         1|\n",
            "+-----+----------+\n",
            "only showing top 1 row\n",
            "\n",
            "+----------+-----------------+------------------+-----------------+-----------------+---------+-----------------+-----------------+-----------------+----------+-------+-----------------+-----------------+-----------------+------------------+------------------+-----------------+-----------------+\n",
            "|cluster_id|             apps|            accept|           enroll|        top10perc|top25perc|      f_undergrad|      p_undergrad|         outstate|room_board|  books|         personal|              phd|         terminal|         s_f_ratio|       perc_alumni|           expend|        grad_rate|\n",
            "+----------+-----------------+------------------+-----------------+-----------------+---------+-----------------+-----------------+-----------------+----------+-------+-----------------+-----------------+-----------------+------------------+------------------+-----------------+-----------------+\n",
            "|         0|2452.514705882353|1748.1225490196077|783.9166666666666|20.09313725490196|     48.0|3957.078431372549|998.3112745098039|7482.610294117647|   3709.25|537.875|1494.237745098039|66.48039215686275|73.62745098039215|15.756862745098044|17.654411764705884|6959.823529411765|57.40686274509804|\n",
            "+----------+-----------------+------------------+-----------------+-----------------+---------+-----------------+-----------------+-----------------+----------+-------+-----------------+-----------------+-----------------+------------------+------------------+-----------------+-----------------+\n",
            "only showing top 1 row\n",
            "\n",
            "== Physical Plan ==\n",
            "*(17) HashAggregate(keys=[cluster_id#15327L], functions=[avg(apps#67L), avg(accept#68L), avg(enroll#69L), avg(top10perc#70L), avg(top25perc#71L), avg(f_undergrad#72L), avg(p_undergrad#73L), avg(outstate#74L), avg(room_board#75L), avg(books#76L), avg(personal#77L), avg(phd#78L), avg(terminal#79L), avg(s_f_ratio#80), avg(perc_alumni#81L), avg(expend#82L), avg(grad_rate#83L)])\n",
            "+- Exchange hashpartitioning(cluster_id#15327L, 200)\n",
            "   +- *(16) HashAggregate(keys=[cluster_id#15327L], functions=[partial_avg(apps#67L), partial_avg(accept#68L), partial_avg(enroll#69L), partial_avg(top10perc#70L), partial_avg(top25perc#71L), partial_avg(f_undergrad#72L), partial_avg(p_undergrad#73L), partial_avg(outstate#74L), partial_avg(room_board#75L), partial_avg(books#76L), partial_avg(personal#77L), partial_avg(phd#78L), partial_avg(terminal#79L), partial_avg(s_f_ratio#80), partial_avg(perc_alumni#81L), partial_avg(expend#82L), partial_avg(grad_rate#83L)])\n",
            "      +- *(16) Project [cluster_id#15327L, apps#67L, accept#68L, enroll#69L, top10perc#70L, top25perc#71L, f_undergrad#72L, p_undergrad#73L, outstate#74L, room_board#75L, books#76L, personal#77L, phd#78L, terminal#79L, s_f_ratio#80, perc_alumni#81L, expend#82L, grad_rate#83L]\n",
            "         +- *(16) SortMergeJoin [index#15457L], [index#65L], Inner\n",
            "            :- *(13) Sort [index#15457L ASC NULLS FIRST], false, 0\n",
            "            :  +- Exchange hashpartitioning(index#15457L, 200)\n",
            "            :     +- *(12) Project [index#15457L, cluster_id#15327L]\n",
            "            :        +- *(12) SortMergeJoin [dist#15456, index#15457L], [dist#15479, index#15483L], Inner\n",
            "            :           :- *(5) Sort [dist#15456 ASC NULLS FIRST, index#15457L ASC NULLS FIRST], false, 0\n",
            "            :           :  +- Exchange hashpartitioning(dist#15456, index#15457L, 200)\n",
            "            :           :     +- *(4) Project [cluster_id#15327L, index#15457L, (((((((((((((((POWER(cast((apps#67L - apps#15459L) as double), 2.0) + POWER(cast((accept#68L - accept#15460L) as double), 2.0)) + POWER(cast((enroll#69L - enroll#15461L) as double), 2.0)) + POWER(cast((top10perc#70L - top10perc#15462L) as double), 2.0)) + POWER(cast((top25perc#71L - top25perc#15463L) as double), 2.0)) + POWER(cast((f_undergrad#72L - f_undergrad#15464L) as double), 2.0)) + POWER(cast((p_undergrad#73L - p_undergrad#15465L) as double), 2.0)) + POWER(cast((outstate#74L - outstate#15466L) as double), 2.0)) + POWER(cast((room_board#75L - room_board#15467L) as double), 2.0)) + POWER(cast((personal#77L - personal#15469L) as double), 2.0)) + POWER(cast((phd#78L - phd#15470L) as double), 2.0)) + POWER(cast((terminal#79L - terminal#15471L) as double), 2.0)) + POWER((s_f_ratio#80 - s_f_ratio#15472), 2.0)) + POWER(cast((perc_alumni#81L - perc_alumni#15473L) as double), 2.0)) + POWER(cast((expend#82L - expend#15474L) as double), 2.0)) + POWER(cast((grad_rate#83L - grad_rate#15475L) as double), 2.0)) AS dist#15456]\n",
            "            :           :        +- BroadcastNestedLoopJoin BuildLeft, Cross, isnotnull((((((((((((((((POWER(cast((apps#67L - apps#15459L) as double), 2.0) + POWER(cast((accept#68L - accept#15460L) as double), 2.0)) + POWER(cast((enroll#69L - enroll#15461L) as double), 2.0)) + POWER(cast((top10perc#70L - top10perc#15462L) as double), 2.0)) + POWER(cast((top25perc#71L - top25perc#15463L) as double), 2.0)) + POWER(cast((f_undergrad#72L - f_undergrad#15464L) as double), 2.0)) + POWER(cast((p_undergrad#73L - p_undergrad#15465L) as double), 2.0)) + POWER(cast((outstate#74L - outstate#15466L) as double), 2.0)) + POWER(cast((room_board#75L - room_board#15467L) as double), 2.0)) + POWER(cast((personal#77L - personal#15469L) as double), 2.0)) + POWER(cast((phd#78L - phd#15470L) as double), 2.0)) + POWER(cast((terminal#79L - terminal#15471L) as double), 2.0)) + POWER((s_f_ratio#80 - s_f_ratio#15472), 2.0)) + POWER(cast((perc_alumni#81L - perc_alumni#15473L) as double), 2.0)) + POWER(cast((expend#82L - expend#15474L) as double), 2.0)) + POWER(cast((grad_rate#83L - grad_rate#15475L) as double), 2.0)))\n",
            "            :           :           :- BroadcastExchange IdentityBroadcastMode\n",
            "            :           :           :  +- *(2) GlobalLimit 2\n",
            "            :           :           :     +- Exchange SinglePartition\n",
            "            :           :           :        +- *(1) LocalLimit 2\n",
            "            :           :           :           +- *(1) Project [index#65L AS cluster_id#15327L, apps#67L, accept#68L, enroll#69L, top10perc#70L, top25perc#71L, f_undergrad#72L, p_undergrad#73L, outstate#74L, room_board#75L, personal#77L, phd#78L, terminal#79L, s_f_ratio#80, perc_alumni#81L, expend#82L, grad_rate#83L]\n",
            "            :           :           :              +- Scan ExistingRDD[index#65L,private#66,apps#67L,accept#68L,enroll#69L,top10perc#70L,top25perc#71L,f_undergrad#72L,p_undergrad#73L,outstate#74L,room_board#75L,books#76L,personal#77L,phd#78L,terminal#79L,s_f_ratio#80,perc_alumni#81L,expend#82L,grad_rate#83L]\n",
            "            :           :           +- *(3) Project [index#15457L, apps#15459L, accept#15460L, enroll#15461L, top10perc#15462L, top25perc#15463L, f_undergrad#15464L, p_undergrad#15465L, outstate#15466L, room_board#15467L, personal#15469L, phd#15470L, terminal#15471L, s_f_ratio#15472, perc_alumni#15473L, expend#15474L, grad_rate#15475L]\n",
            "            :           :              +- *(3) Filter isnotnull(index#15457L)\n",
            "            :           :                 +- Scan ExistingRDD[index#15457L,private#15458,apps#15459L,accept#15460L,enroll#15461L,top10perc#15462L,top25perc#15463L,f_undergrad#15464L,p_undergrad#15465L,outstate#15466L,room_board#15467L,books#15468L,personal#15469L,phd#15470L,terminal#15471L,s_f_ratio#15472,perc_alumni#15473L,expend#15474L,grad_rate#15475L]\n",
            "            :           +- *(11) Sort [dist#15479 ASC NULLS FIRST, index#15483L ASC NULLS FIRST], false, 0\n",
            "            :              +- Exchange hashpartitioning(dist#15479, index#15483L, 200)\n",
            "            :                 +- *(10) Filter isnotnull(dist#15479)\n",
            "            :                    +- *(10) HashAggregate(keys=[index#15483L], functions=[min(dist#15456)])\n",
            "            :                       +- Exchange hashpartitioning(index#15483L, 200)\n",
            "            :                          +- *(9) HashAggregate(keys=[index#15483L], functions=[partial_min(dist#15456)])\n",
            "            :                             +- *(9) Project [index#15483L, (((((((((((((((POWER(cast((apps#67L - apps#15485L) as double), 2.0) + POWER(cast((accept#68L - accept#15486L) as double), 2.0)) + POWER(cast((enroll#69L - enroll#15487L) as double), 2.0)) + POWER(cast((top10perc#70L - top10perc#15488L) as double), 2.0)) + POWER(cast((top25perc#71L - top25perc#15489L) as double), 2.0)) + POWER(cast((f_undergrad#72L - f_undergrad#15490L) as double), 2.0)) + POWER(cast((p_undergrad#73L - p_undergrad#15491L) as double), 2.0)) + POWER(cast((outstate#74L - outstate#15492L) as double), 2.0)) + POWER(cast((room_board#75L - room_board#15493L) as double), 2.0)) + POWER(cast((personal#77L - personal#15495L) as double), 2.0)) + POWER(cast((phd#78L - phd#15496L) as double), 2.0)) + POWER(cast((terminal#79L - terminal#15497L) as double), 2.0)) + POWER((s_f_ratio#80 - s_f_ratio#15498), 2.0)) + POWER(cast((perc_alumni#81L - perc_alumni#15499L) as double), 2.0)) + POWER(cast((expend#82L - expend#15500L) as double), 2.0)) + POWER(cast((grad_rate#83L - grad_rate#15501L) as double), 2.0)) AS dist#15456]\n",
            "            :                                +- BroadcastNestedLoopJoin BuildLeft, Cross\n",
            "            :                                   :- BroadcastExchange IdentityBroadcastMode\n",
            "            :                                   :  +- *(7) GlobalLimit 2\n",
            "            :                                   :     +- Exchange SinglePartition\n",
            "            :                                   :        +- *(6) LocalLimit 2\n",
            "            :                                   :           +- *(6) Project [apps#67L, accept#68L, enroll#69L, top10perc#70L, top25perc#71L, f_undergrad#72L, p_undergrad#73L, outstate#74L, room_board#75L, personal#77L, phd#78L, terminal#79L, s_f_ratio#80, perc_alumni#81L, expend#82L, grad_rate#83L]\n",
            "            :                                   :              +- Scan ExistingRDD[index#65L,private#66,apps#67L,accept#68L,enroll#69L,top10perc#70L,top25perc#71L,f_undergrad#72L,p_undergrad#73L,outstate#74L,room_board#75L,books#76L,personal#77L,phd#78L,terminal#79L,s_f_ratio#80,perc_alumni#81L,expend#82L,grad_rate#83L]\n",
            "            :                                   +- *(8) Project [index#15483L, apps#15485L, accept#15486L, enroll#15487L, top10perc#15488L, top25perc#15489L, f_undergrad#15490L, p_undergrad#15491L, outstate#15492L, room_board#15493L, personal#15495L, phd#15496L, terminal#15497L, s_f_ratio#15498, perc_alumni#15499L, expend#15500L, grad_rate#15501L]\n",
            "            :                                      +- *(8) Filter isnotnull(index#15483L)\n",
            "            :                                         +- Scan ExistingRDD[index#15483L,private#15484,apps#15485L,accept#15486L,enroll#15487L,top10perc#15488L,top25perc#15489L,f_undergrad#15490L,p_undergrad#15491L,outstate#15492L,room_board#15493L,books#15494L,personal#15495L,phd#15496L,terminal#15497L,s_f_ratio#15498,perc_alumni#15499L,expend#15500L,grad_rate#15501L]\n",
            "            +- *(15) Sort [index#65L ASC NULLS FIRST], false, 0\n",
            "               +- Exchange hashpartitioning(index#65L, 200)\n",
            "                  +- *(14) Project [index#65L, apps#67L, accept#68L, enroll#69L, top10perc#70L, top25perc#71L, f_undergrad#72L, p_undergrad#73L, outstate#74L, room_board#75L, books#76L, personal#77L, phd#78L, terminal#79L, s_f_ratio#80, perc_alumni#81L, expend#82L, grad_rate#83L]\n",
            "                     +- *(14) Filter isnotnull(index#65L)\n",
            "                        +- Scan ExistingRDD[index#65L,private#66,apps#67L,accept#68L,enroll#69L,top10perc#70L,top25perc#71L,f_undergrad#72L,p_undergrad#73L,outstate#74L,room_board#75L,books#76L,personal#77L,phd#78L,terminal#79L,s_f_ratio#80,perc_alumni#81L,expend#82L,grad_rate#83L]"
          ],
          "name": "stdout"
        }
      ]
    },
    {
      "cell_type": "markdown",
      "metadata": {
        "id": "GHUgv3aF4X8A"
      },
      "source": [
        "## 2.2.3 MLlib"
      ]
    },
    {
      "cell_type": "code",
      "metadata": {
        "id": "Y3wJJQ8R4W9N",
        "outputId": "16895d37-7ecf-4bb8-cdec-5c42cdab3559",
        "colab": {
          "base_uri": "https://localhost:8080/",
          "height": 884,
          "referenced_widgets": [
            "99316016c4f34b9d8441c979ac116b48",
            "4629e003a78b477eb199de0365756961",
            "8605de08c5d24a3a8bcf8d5ba27d146f"
          ]
        }
      },
      "source": [
        "%%spark\n",
        "from pyspark.ml.clustering import KMeans\n",
        "from pyspark.ml.feature import VectorAssembler\n",
        "\n",
        "\n",
        "# Convert from dataframe features to a \"features\" column that is a vector\n",
        "vecAssembler = VectorAssembler(inputCols=['apps','accept','enroll',\\\n",
        "                                          'top10perc','top25perc','f_undergrad',\\\n",
        "                                          'p_undergrad','outstate','room_board',\\\n",
        "                                          'books','personal','phd','terminal',\\\n",
        "                                          's_f_ratio','perc_alumni','expend',\\\n",
        "                                          'grad_rate'], outputCol=\"features\")\n",
        "df_kmeans = vecAssembler.transform(km_data_sdf).select('index', 'features')\n",
        "df_kmeans.show()\n",
        "\n",
        "# Trains a k-means model.\n",
        "kmeans = KMeans().setK(2).setSeed(5)\n",
        "\n",
        "model = kmeans.fit(df_kmeans)\n",
        "\n",
        "predictions = model.transform(df_kmeans)\n",
        "predictions.show()"
      ],
      "execution_count": null,
      "outputs": [
        {
          "output_type": "display_data",
          "data": {
            "application/vnd.jupyter.widget-view+json": {
              "model_id": "99316016c4f34b9d8441c979ac116b48",
              "version_minor": 0,
              "version_major": 2
            },
            "text/plain": [
              "FloatProgress(value=0.0, bar_style='info', description='Progress:', layout=Layout(height='25px', width='50%'),…"
            ]
          },
          "metadata": {
            "tags": []
          }
        },
        {
          "output_type": "stream",
          "text": [
            "+-----+--------------------+\n",
            "|index|            features|\n",
            "+-----+--------------------+\n",
            "|    0|[1660.0,1232.0,72...|\n",
            "|    1|[2186.0,1924.0,51...|\n",
            "|    2|[1428.0,1097.0,33...|\n",
            "|    3|[417.0,349.0,137....|\n",
            "|    4|[193.0,146.0,55.0...|\n",
            "|    5|[587.0,479.0,158....|\n",
            "|    6|[353.0,340.0,103....|\n",
            "|    7|[1899.0,1720.0,48...|\n",
            "|    8|[1038.0,839.0,227...|\n",
            "|    9|[582.0,498.0,172....|\n",
            "|   10|[1732.0,1425.0,47...|\n",
            "|   11|[2652.0,1900.0,48...|\n",
            "|   12|[1179.0,780.0,290...|\n",
            "|   13|[1267.0,1080.0,38...|\n",
            "|   14|[494.0,313.0,157....|\n",
            "|   15|[1420.0,1093.0,22...|\n",
            "|   16|[4302.0,992.0,418...|\n",
            "|   17|[1216.0,908.0,423...|\n",
            "|   18|[1130.0,704.0,322...|\n",
            "|   19|[3540.0,2001.0,10...|\n",
            "+-----+--------------------+\n",
            "only showing top 20 rows\n",
            "\n",
            "+-----+--------------------+----------+\n",
            "|index|            features|prediction|\n",
            "+-----+--------------------+----------+\n",
            "|    0|[1660.0,1232.0,72...|         0|\n",
            "|    1|[2186.0,1924.0,51...|         0|\n",
            "|    2|[1428.0,1097.0,33...|         0|\n",
            "|    3|[417.0,349.0,137....|         0|\n",
            "|    4|[193.0,146.0,55.0...|         0|\n",
            "|    5|[587.0,479.0,158....|         0|\n",
            "|    6|[353.0,340.0,103....|         0|\n",
            "|    7|[1899.0,1720.0,48...|         0|\n",
            "|    8|[1038.0,839.0,227...|         0|\n",
            "|    9|[582.0,498.0,172....|         0|\n",
            "|   10|[1732.0,1425.0,47...|         0|\n",
            "|   11|[2652.0,1900.0,48...|         0|\n",
            "|   12|[1179.0,780.0,290...|         0|\n",
            "|   13|[1267.0,1080.0,38...|         0|\n",
            "|   14|[494.0,313.0,157....|         0|\n",
            "|   15|[1420.0,1093.0,22...|         0|\n",
            "|   16|[4302.0,992.0,418...|         0|\n",
            "|   17|[1216.0,908.0,423...|         0|\n",
            "|   18|[1130.0,704.0,322...|         0|\n",
            "|   19|[3540.0,2001.0,10...|         0|\n",
            "+-----+--------------------+----------+\n",
            "only showing top 20 rows"
          ],
          "name": "stdout"
        }
      ]
    },
    {
      "cell_type": "markdown",
      "metadata": {
        "id": "Q3ApcyV2MKLh"
      },
      "source": [
        "## 2.2.4 Choosing the Right *k* for Clustering\n",
        "\n",
        "To pick the right value of *k* for our data, we will search the space of possible values -- looking at the smallest one that (roughly) minimizes the sum squared error (Euclidean distance), aka the distortion."
      ]
    },
    {
      "cell_type": "code",
      "metadata": {
        "id": "awCUR0b6IFDC",
        "outputId": "5526fc18-6b28-4ec6-8721-ff71b569115e",
        "colab": {
          "base_uri": "https://localhost:8080/",
          "height": 279
        }
      },
      "source": [
        "distortions = []\n",
        "\n",
        "max_k = 10\n",
        "for i in range(1,max_k+1):\n",
        "  km = KMeans(n_clusters=i,\n",
        "              init='random',\n",
        "              n_init=1,\n",
        "              max_iter=300,\n",
        "              random_state=0)\n",
        "  km.fit(X)\n",
        "  # The distortion is called inertia in SciKit\n",
        "  distortions.append(km.inertia_)\n",
        "\n",
        "plt.plot(range(1,max_k+1), distortions, marker='o')\n",
        "plt.xlabel('Cluster count (k)')\n",
        "plt.ylabel('Distortion')\n",
        "plt.show()"
      ],
      "execution_count": null,
      "outputs": [
        {
          "output_type": "display_data",
          "data": {
            "image/png": "[encoded data removed]",
            "text/plain": [
              "<Figure size 432x288 with 1 Axes>"
            ]
          },
          "metadata": {
            "tags": []
          }
        }
      ]
    },
    {
      "cell_type": "markdown",
      "metadata": {
        "id": "aW2LPdSpfZUx"
      },
      "source": [
        "## 2.2.5 Hierarchical Clustering\n",
        "\n",
        "A different approach to clustering is based on agglomeration, i.e., repeatedly building up clusters.\n",
        "\n",
        "Here let's cluster vehicles by their specs."
      ]
    },
    {
      "cell_type": "code",
      "metadata": {
        "id": "8B5FoCeGn3NT",
        "outputId": "00b430be-8b70-469c-d6ad-76365458df55",
        "colab": {
          "base_uri": "https://localhost:8080/",
          "height": 204
        }
      },
      "source": [
        "import pandas as pd\n",
        "import numpy as np\n",
        "\n",
        "vehicles_df = pd.DataFrame([# For fun, try this one...\n",
        "                            # {'vehicle':'la-class-submarine', \n",
        "                            #  'engine_type': 'nuclear', \n",
        "                            #  'hp': 35000,\n",
        "                            #  'weight': 6927},\n",
        "                            {'vehicle':'ram-promaster',\n",
        "                             'engine_type':'v6',\n",
        "                             'hp':280,\n",
        "                             'weight': 4.25},\n",
        "                            {'vehicle':'ford-f150',\n",
        "                             'engine_type':'v6',\n",
        "                             'hp':375,\n",
        "                             'weight': 3},\n",
        "                            {'vehicle':'chevrolet-silverado',\n",
        "                             'engine_type':'v6',\n",
        "                             'hp': 285,\n",
        "                             'weight': 3.5},\n",
        "                            {'vehicle':'toyota-camry',\n",
        "                             'engine_type':'i4',\n",
        "                             'hp': 206,\n",
        "                             'weight': 1.5},\n",
        "                            {'vehicle':'mazda-cx30',\n",
        "                             'engine_type':'i4',\n",
        "                             'hp': 186,\n",
        "                             'weight':1.5}])\n",
        "\n",
        "vehicles_df"
      ],
      "execution_count": null,
      "outputs": [
        {
          "output_type": "execute_result",
          "data": {
            "text/html": [
              "<div>\n",
              "<style scoped>\n",
              "    .dataframe tbody tr th:only-of-type {\n",
              "        vertical-align: middle;\n",
              "    }\n",
              "\n",
              "    .dataframe tbody tr th {\n",
              "        vertical-align: top;\n",
              "    }\n",
              "\n",
              "    .dataframe thead th {\n",
              "        text-align: right;\n",
              "    }\n",
              "</style>\n",
              "<table border=\"1\" class=\"dataframe\">\n",
              "  <thead>\n",
              "    <tr style=\"text-align: right;\">\n",
              "      <th></th>\n",
              "      <th>vehicle</th>\n",
              "      <th>engine_type</th>\n",
              "      <th>hp</th>\n",
              "      <th>weight</th>\n",
              "    </tr>\n",
              "  </thead>\n",
              "  <tbody>\n",
              "    <tr>\n",
              "      <th>0</th>\n",
              "      <td>ram-promaster</td>\n",
              "      <td>v6</td>\n",
              "      <td>280</td>\n",
              "      <td>4.25</td>\n",
              "    </tr>\n",
              "    <tr>\n",
              "      <th>1</th>\n",
              "      <td>ford-f150</td>\n",
              "      <td>v6</td>\n",
              "      <td>375</td>\n",
              "      <td>3.00</td>\n",
              "    </tr>\n",
              "    <tr>\n",
              "      <th>2</th>\n",
              "      <td>chevrolet-silverado</td>\n",
              "      <td>v6</td>\n",
              "      <td>285</td>\n",
              "      <td>3.50</td>\n",
              "    </tr>\n",
              "    <tr>\n",
              "      <th>3</th>\n",
              "      <td>toyota-camry</td>\n",
              "      <td>i4</td>\n",
              "      <td>206</td>\n",
              "      <td>1.50</td>\n",
              "    </tr>\n",
              "    <tr>\n",
              "      <th>4</th>\n",
              "      <td>mazda-cx30</td>\n",
              "      <td>i4</td>\n",
              "      <td>186</td>\n",
              "      <td>1.50</td>\n",
              "    </tr>\n",
              "  </tbody>\n",
              "</table>\n",
              "</div>"
            ],
            "text/plain": [
              "               vehicle engine_type   hp  weight\n",
              "0        ram-promaster          v6  280    4.25\n",
              "1            ford-f150          v6  375    3.00\n",
              "2  chevrolet-silverado          v6  285    3.50\n",
              "3         toyota-camry          i4  206    1.50\n",
              "4           mazda-cx30          i4  186    1.50"
            ]
          },
          "metadata": {
            "tags": []
          },
          "execution_count": 40
        }
      ]
    },
    {
      "cell_type": "markdown",
      "metadata": {
        "id": "LROF65yGx3VM"
      },
      "source": [
        "Note that the vehicle type won't really be a feature but rather an instance identifier.  What about `engine_type`?\n",
        "\n",
        "We could consider one-hot encoding it, but that essentially ignores the fact that an inline-4 and a V6 engine are closely related (one has 4 cylinders, the other 6).  Maybe instead we should replace the `engine_type` with `engine_cyl`."
      ]
    },
    {
      "cell_type": "code",
      "metadata": {
        "id": "O6VLPtaMx09s",
        "outputId": "4db4d4fd-a4b2-4719-8e24-59be60b64e5d",
        "colab": {
          "base_uri": "https://localhost:8080/",
          "height": 235
        }
      },
      "source": [
        "revised_df = vehicles_df\n",
        "revised_df['engine_cyl'] = revised_df['engine_type'].map(lambda x: 6 if x == 'v6' else 4)\n",
        "revised_df.drop(columns='engine_type',inplace=True)\n",
        "revised_df = revised_df.set_index('vehicle')\n",
        "revised_df"
      ],
      "execution_count": null,
      "outputs": [
        {
          "output_type": "execute_result",
          "data": {
            "text/html": [
              "<div>\n",
              "<style scoped>\n",
              "    .dataframe tbody tr th:only-of-type {\n",
              "        vertical-align: middle;\n",
              "    }\n",
              "\n",
              "    .dataframe tbody tr th {\n",
              "        vertical-align: top;\n",
              "    }\n",
              "\n",
              "    .dataframe thead th {\n",
              "        text-align: right;\n",
              "    }\n",
              "</style>\n",
              "<table border=\"1\" class=\"dataframe\">\n",
              "  <thead>\n",
              "    <tr style=\"text-align: right;\">\n",
              "      <th></th>\n",
              "      <th>hp</th>\n",
              "      <th>weight</th>\n",
              "      <th>engine_cyl</th>\n",
              "    </tr>\n",
              "    <tr>\n",
              "      <th>vehicle</th>\n",
              "      <th></th>\n",
              "      <th></th>\n",
              "      <th></th>\n",
              "    </tr>\n",
              "  </thead>\n",
              "  <tbody>\n",
              "    <tr>\n",
              "      <th>ram-promaster</th>\n",
              "      <td>280</td>\n",
              "      <td>4.25</td>\n",
              "      <td>6</td>\n",
              "    </tr>\n",
              "    <tr>\n",
              "      <th>ford-f150</th>\n",
              "      <td>375</td>\n",
              "      <td>3.00</td>\n",
              "      <td>6</td>\n",
              "    </tr>\n",
              "    <tr>\n",
              "      <th>chevrolet-silverado</th>\n",
              "      <td>285</td>\n",
              "      <td>3.50</td>\n",
              "      <td>6</td>\n",
              "    </tr>\n",
              "    <tr>\n",
              "      <th>toyota-camry</th>\n",
              "      <td>206</td>\n",
              "      <td>1.50</td>\n",
              "      <td>4</td>\n",
              "    </tr>\n",
              "    <tr>\n",
              "      <th>mazda-cx30</th>\n",
              "      <td>186</td>\n",
              "      <td>1.50</td>\n",
              "      <td>4</td>\n",
              "    </tr>\n",
              "  </tbody>\n",
              "</table>\n",
              "</div>"
            ],
            "text/plain": [
              "                      hp  weight  engine_cyl\n",
              "vehicle                                     \n",
              "ram-promaster        280    4.25           6\n",
              "ford-f150            375    3.00           6\n",
              "chevrolet-silverado  285    3.50           6\n",
              "toyota-camry         206    1.50           4\n",
              "mazda-cx30           186    1.50           4"
            ]
          },
          "metadata": {
            "tags": []
          },
          "execution_count": 41
        }
      ]
    },
    {
      "cell_type": "markdown",
      "metadata": {
        "id": "3jl2wk_6xjLA"
      },
      "source": [
        "Now we want to create a distance matrix, which is a square matrix storing the distances between each pair of items.  We'll use Euclidean distance."
      ]
    },
    {
      "cell_type": "code",
      "metadata": {
        "id": "LD8tgow-kkC8"
      },
      "source": [
        "# pdist computes pairwise distances\n",
        "# squareform converts 1D distance vector to square-form distance matrix\n",
        "from scipy.spatial.distance import pdist, squareform\n",
        "row_dist_df = pd.DataFrame(squareform(pdist(revised_df, metric='euclidean')),\n",
        "                           columns=revised_df.index.to_list(), index=revised_df.index.to_list())"
      ],
      "execution_count": null,
      "outputs": []
    },
    {
      "cell_type": "code",
      "metadata": {
        "id": "mekJ9EYEk10a",
        "outputId": "04ada6a0-74f3-46df-ce56-e2fc634ae5de",
        "colab": {
          "base_uri": "https://localhost:8080/",
          "height": 204
        }
      },
      "source": [
        "row_dist_df"
      ],
      "execution_count": null,
      "outputs": [
        {
          "output_type": "execute_result",
          "data": {
            "text/html": [
              "<div>\n",
              "<style scoped>\n",
              "    .dataframe tbody tr th:only-of-type {\n",
              "        vertical-align: middle;\n",
              "    }\n",
              "\n",
              "    .dataframe tbody tr th {\n",
              "        vertical-align: top;\n",
              "    }\n",
              "\n",
              "    .dataframe thead th {\n",
              "        text-align: right;\n",
              "    }\n",
              "</style>\n",
              "<table border=\"1\" class=\"dataframe\">\n",
              "  <thead>\n",
              "    <tr style=\"text-align: right;\">\n",
              "      <th></th>\n",
              "      <th>ram-promaster</th>\n",
              "      <th>ford-f150</th>\n",
              "      <th>chevrolet-silverado</th>\n",
              "      <th>toyota-camry</th>\n",
              "      <th>mazda-cx30</th>\n",
              "    </tr>\n",
              "  </thead>\n",
              "  <tbody>\n",
              "    <tr>\n",
              "      <th>ram-promaster</th>\n",
              "      <td>0.000000</td>\n",
              "      <td>95.008223</td>\n",
              "      <td>5.055937</td>\n",
              "      <td>74.078084</td>\n",
              "      <td>94.061483</td>\n",
              "    </tr>\n",
              "    <tr>\n",
              "      <th>ford-f150</th>\n",
              "      <td>95.008223</td>\n",
              "      <td>0.000000</td>\n",
              "      <td>90.001389</td>\n",
              "      <td>169.018490</td>\n",
              "      <td>189.016534</td>\n",
              "    </tr>\n",
              "    <tr>\n",
              "      <th>chevrolet-silverado</th>\n",
              "      <td>5.055937</td>\n",
              "      <td>90.001389</td>\n",
              "      <td>0.000000</td>\n",
              "      <td>79.050617</td>\n",
              "      <td>99.040396</td>\n",
              "    </tr>\n",
              "    <tr>\n",
              "      <th>toyota-camry</th>\n",
              "      <td>74.078084</td>\n",
              "      <td>169.018490</td>\n",
              "      <td>79.050617</td>\n",
              "      <td>0.000000</td>\n",
              "      <td>20.000000</td>\n",
              "    </tr>\n",
              "    <tr>\n",
              "      <th>mazda-cx30</th>\n",
              "      <td>94.061483</td>\n",
              "      <td>189.016534</td>\n",
              "      <td>99.040396</td>\n",
              "      <td>20.000000</td>\n",
              "      <td>0.000000</td>\n",
              "    </tr>\n",
              "  </tbody>\n",
              "</table>\n",
              "</div>"
            ],
            "text/plain": [
              "                     ram-promaster   ford-f150  ...  toyota-camry  mazda-cx30\n",
              "ram-promaster             0.000000   95.008223  ...     74.078084   94.061483\n",
              "ford-f150                95.008223    0.000000  ...    169.018490  189.016534\n",
              "chevrolet-silverado       5.055937   90.001389  ...     79.050617   99.040396\n",
              "toyota-camry             74.078084  169.018490  ...      0.000000   20.000000\n",
              "mazda-cx30               94.061483  189.016534  ...     20.000000    0.000000\n",
              "\n",
              "[5 rows x 5 columns]"
            ]
          },
          "metadata": {
            "tags": []
          },
          "execution_count": 43
        }
      ]
    },
    {
      "cell_type": "code",
      "metadata": {
        "id": "KmNfOvUTk20W",
        "outputId": "ccf517be-9a81-4f90-b9ae-c70e7dcc56f7",
        "colab": {
          "base_uri": "https://localhost:8080/",
          "height": 322
        }
      },
      "source": [
        "from scipy.cluster import hierarchy\n",
        "from scipy.cluster.hierarchy import linkage\n",
        "import matplotlib.pyplot as plt\n",
        "\n",
        "# Create the clusters\n",
        "row_clusters = linkage(row_dist_df, method='complete')\n",
        "\n",
        "# Plot them in a dendrogram\n",
        "plt.figure()\n",
        "dn=hierarchy.dendrogram(row_clusters,labels=revised_df.index.to_list())"
      ],
      "execution_count": null,
      "outputs": [
        {
          "output_type": "stream",
          "text": [
            "/usr/local/lib/python3.6/dist-packages/ipykernel_launcher.py:6: ClusterWarning: scipy.cluster: The symmetric non-negative hollow observation matrix looks suspiciously like an uncondensed distance matrix\n",
            "  \n"
          ],
          "name": "stderr"
        },
        {
          "output_type": "display_data",
          "data": {
            "image/png": "[encoded data removed]",
            "text/plain": [
              "<Figure size 432x288 with 1 Axes>"
            ]
          },
          "metadata": {
            "tags": []
          }
        }
      ]
    },
    {
      "cell_type": "code",
      "metadata": {
        "id": "wBHvuDONuboJ"
      },
      "source": [],
      "execution_count": null,
      "outputs": []
    }
  ]
}