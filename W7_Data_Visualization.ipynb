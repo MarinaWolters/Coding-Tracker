{
  "nbformat": 4,
  "nbformat_minor": 0,
  "metadata": {
    "colab": {
      "provenance": [],
      "include_colab_link": true
    },
    "kernelspec": {
      "name": "python3",
      "display_name": "Python 3"
    }
  },
  "cells": [
    {
      "cell_type": "markdown",
      "metadata": {
        "id": "view-in-github",
        "colab_type": "text"
      },
      "source": [
        "<a href=\"https://colab.research.google.com/github/MarinaWolters/Coding-Tracker/blob/master/W7_Data_Visualization.ipynb\" target=\"_parent\"><img src=\"https://colab.research.google.com/assets/colab-badge.svg\" alt=\"Open In Colab\"/></a>"
      ]
    },
    {
      "cell_type": "markdown",
      "metadata": {
        "id": "g6KEo6mHQuTq"
      },
      "source": [
        "# Lecture Notebook: Information Visualization\n",
        "\n",
        "\n",
        "This notebook covers several things:\n",
        "\n",
        "1. The basics of plotting Pandas dataframes using matplotlib.\n",
        "2. Some rules of thumb about bar vs line charts, axes, normalization, and whether to interpolate.\n",
        "3. Basics of ggplot on Python\n",
        "4. Seaborn and visualization of statistical data"
      ]
    },
    {
      "cell_type": "code",
      "metadata": {
        "id": "gdHzd642QXM5"
      },
      "source": [
        "import matplotlib.pyplot as plt\n",
        "import numpy as np\n",
        "import pandas as pd"
      ],
      "execution_count": 1,
      "outputs": []
    },
    {
      "cell_type": "markdown",
      "metadata": {
        "id": "dT00LjLEflSC"
      },
      "source": [
        "# Loading familiar data into Pandas\n",
        "\n",
        "We'll use the CEOs dataset from Wikipedia as an example to compare two different sub-populations: those CEOs who are actually **founders**, and those who are simply \"**regular CEOs**\"."
      ]
    },
    {
      "cell_type": "code",
      "source": [
        "# Read the Wikipedia HTML table containing information about CEOs!\n",
        "company_ceos_df = pd.read_html('https://en.wikipedia.org/wiki/List_of_chief_executive_officers#List_of_CEOs')[0]\n",
        "company_ceos_df"
      ],
      "metadata": {
        "colab": {
          "base_uri": "https://localhost:8080/",
          "height": 424
        },
        "id": "fOxPhVW7aF6-",
        "outputId": "d9753c30-1fee-4d13-c622-e2a4f9733066"
      },
      "execution_count": 4,
      "outputs": [
        {
          "output_type": "execute_result",
          "data": {
            "text/plain": [
              "                       Company             Executive  \\\n",
              "0                    Accenture           Julie Sweet   \n",
              "1           Aditya Birla Group  Kumar Mangalam Birla   \n",
              "2                Adobe Systems      Shantanu Narayen   \n",
              "3                       Agenus         Garo H. Armen   \n",
              "4                       Airbus       Guillaume Faury   \n",
              "..                         ...                   ...   \n",
              "170            Williams-Sonoma        Laura J. Alber   \n",
              "171                        WWE     Stephanie McMahon   \n",
              "172                Yum! Brands            Greg Creed   \n",
              "173               Zillow Group           Rich Barton   \n",
              "174  Zoom Video Communications             Eric Yuan   \n",
              "\n",
              "                                                 Title    Since  \\\n",
              "0                                               CEO[1]     2019   \n",
              "1                                          Chairman[2]  1995[2]   \n",
              "2                       Chairman, president and CEO[3]     2007   \n",
              "3                            Founder, chairman, CEO[4]     1994   \n",
              "4                                               CEO[5]     2012   \n",
              "..                                                 ...      ...   \n",
              "170                             President and CEO[155]     2010   \n",
              "171  Chairwoman and Co-CEO (Alongside Nick Khan) [156]     2022   \n",
              "172                                           CEO[157]     2015   \n",
              "173                                           CEO[158]     2019   \n",
              "174                   President, Chairman and CEO[159]     2011   \n",
              "\n",
              "                                                 Notes     Updated  \n",
              "0                      Succeeded Pierre Nanterme, died  2019-01-31  \n",
              "1     Part of the Birla family business house in India  2018-10-01  \n",
              "2                                  Formerly with Apple  2018-10-01  \n",
              "3       Founder of the Children of Armenia Fund (COAF)  2018-10-01  \n",
              "4                              Succeeded Louis Gallois  2017-11-14  \n",
              "..                                                 ...         ...  \n",
              "170                          Replaced W. Howard Lester  2017-11-11  \n",
              "171  Chairwoman of the executive committeeChairwoma...  2017-11-11  \n",
              "172                       Previously CEO for Taco Bell  2017-11-11  \n",
              "173  Co-founder and previously was Zillow's CEO for...  2018-12-10  \n",
              "174  Previously corporate Vice President of enginee...  2020-10-12  \n",
              "\n",
              "[175 rows x 6 columns]"
            ],
            "text/html": [
              "\n",
              "  <div id=\"df-711c050e-f2a2-43c2-9120-78345ce0db19\">\n",
              "    <div class=\"colab-df-container\">\n",
              "      <div>\n",
              "<style scoped>\n",
              "    .dataframe tbody tr th:only-of-type {\n",
              "        vertical-align: middle;\n",
              "    }\n",
              "\n",
              "    .dataframe tbody tr th {\n",
              "        vertical-align: top;\n",
              "    }\n",
              "\n",
              "    .dataframe thead th {\n",
              "        text-align: right;\n",
              "    }\n",
              "</style>\n",
              "<table border=\"1\" class=\"dataframe\">\n",
              "  <thead>\n",
              "    <tr style=\"text-align: right;\">\n",
              "      <th></th>\n",
              "      <th>Company</th>\n",
              "      <th>Executive</th>\n",
              "      <th>Title</th>\n",
              "      <th>Since</th>\n",
              "      <th>Notes</th>\n",
              "      <th>Updated</th>\n",
              "    </tr>\n",
              "  </thead>\n",
              "  <tbody>\n",
              "    <tr>\n",
              "      <th>0</th>\n",
              "      <td>Accenture</td>\n",
              "      <td>Julie Sweet</td>\n",
              "      <td>CEO[1]</td>\n",
              "      <td>2019</td>\n",
              "      <td>Succeeded Pierre Nanterme, died</td>\n",
              "      <td>2019-01-31</td>\n",
              "    </tr>\n",
              "    <tr>\n",
              "      <th>1</th>\n",
              "      <td>Aditya Birla Group</td>\n",
              "      <td>Kumar Mangalam Birla</td>\n",
              "      <td>Chairman[2]</td>\n",
              "      <td>1995[2]</td>\n",
              "      <td>Part of the Birla family business house in India</td>\n",
              "      <td>2018-10-01</td>\n",
              "    </tr>\n",
              "    <tr>\n",
              "      <th>2</th>\n",
              "      <td>Adobe Systems</td>\n",
              "      <td>Shantanu Narayen</td>\n",
              "      <td>Chairman, president and CEO[3]</td>\n",
              "      <td>2007</td>\n",
              "      <td>Formerly with Apple</td>\n",
              "      <td>2018-10-01</td>\n",
              "    </tr>\n",
              "    <tr>\n",
              "      <th>3</th>\n",
              "      <td>Agenus</td>\n",
              "      <td>Garo H. Armen</td>\n",
              "      <td>Founder, chairman, CEO[4]</td>\n",
              "      <td>1994</td>\n",
              "      <td>Founder of the Children of Armenia Fund (COAF)</td>\n",
              "      <td>2018-10-01</td>\n",
              "    </tr>\n",
              "    <tr>\n",
              "      <th>4</th>\n",
              "      <td>Airbus</td>\n",
              "      <td>Guillaume Faury</td>\n",
              "      <td>CEO[5]</td>\n",
              "      <td>2012</td>\n",
              "      <td>Succeeded Louis Gallois</td>\n",
              "      <td>2017-11-14</td>\n",
              "    </tr>\n",
              "    <tr>\n",
              "      <th>...</th>\n",
              "      <td>...</td>\n",
              "      <td>...</td>\n",
              "      <td>...</td>\n",
              "      <td>...</td>\n",
              "      <td>...</td>\n",
              "      <td>...</td>\n",
              "    </tr>\n",
              "    <tr>\n",
              "      <th>170</th>\n",
              "      <td>Williams-Sonoma</td>\n",
              "      <td>Laura J. Alber</td>\n",
              "      <td>President and CEO[155]</td>\n",
              "      <td>2010</td>\n",
              "      <td>Replaced W. Howard Lester</td>\n",
              "      <td>2017-11-11</td>\n",
              "    </tr>\n",
              "    <tr>\n",
              "      <th>171</th>\n",
              "      <td>WWE</td>\n",
              "      <td>Stephanie McMahon</td>\n",
              "      <td>Chairwoman and Co-CEO (Alongside Nick Khan) [156]</td>\n",
              "      <td>2022</td>\n",
              "      <td>Chairwoman of the executive committeeChairwoma...</td>\n",
              "      <td>2017-11-11</td>\n",
              "    </tr>\n",
              "    <tr>\n",
              "      <th>172</th>\n",
              "      <td>Yum! Brands</td>\n",
              "      <td>Greg Creed</td>\n",
              "      <td>CEO[157]</td>\n",
              "      <td>2015</td>\n",
              "      <td>Previously CEO for Taco Bell</td>\n",
              "      <td>2017-11-11</td>\n",
              "    </tr>\n",
              "    <tr>\n",
              "      <th>173</th>\n",
              "      <td>Zillow Group</td>\n",
              "      <td>Rich Barton</td>\n",
              "      <td>CEO[158]</td>\n",
              "      <td>2019</td>\n",
              "      <td>Co-founder and previously was Zillow's CEO for...</td>\n",
              "      <td>2018-12-10</td>\n",
              "    </tr>\n",
              "    <tr>\n",
              "      <th>174</th>\n",
              "      <td>Zoom Video Communications</td>\n",
              "      <td>Eric Yuan</td>\n",
              "      <td>President, Chairman and CEO[159]</td>\n",
              "      <td>2011</td>\n",
              "      <td>Previously corporate Vice President of enginee...</td>\n",
              "      <td>2020-10-12</td>\n",
              "    </tr>\n",
              "  </tbody>\n",
              "</table>\n",
              "<p>175 rows × 6 columns</p>\n",
              "</div>\n",
              "      <button class=\"colab-df-convert\" onclick=\"convertToInteractive('df-711c050e-f2a2-43c2-9120-78345ce0db19')\"\n",
              "              title=\"Convert this dataframe to an interactive table.\"\n",
              "              style=\"display:none;\">\n",
              "        \n",
              "  <svg xmlns=\"http://www.w3.org/2000/svg\" height=\"24px\"viewBox=\"0 0 24 24\"\n",
              "       width=\"24px\">\n",
              "    <path d=\"M0 0h24v24H0V0z\" fill=\"none\"/>\n",
              "    <path d=\"M18.56 5.44l.94 2.06.94-2.06 2.06-.94-2.06-.94-.94-2.06-.94 2.06-2.06.94zm-11 1L8.5 8.5l.94-2.06 2.06-.94-2.06-.94L8.5 2.5l-.94 2.06-2.06.94zm10 10l.94 2.06.94-2.06 2.06-.94-2.06-.94-.94-2.06-.94 2.06-2.06.94z\"/><path d=\"M17.41 7.96l-1.37-1.37c-.4-.4-.92-.59-1.43-.59-.52 0-1.04.2-1.43.59L10.3 9.45l-7.72 7.72c-.78.78-.78 2.05 0 2.83L4 21.41c.39.39.9.59 1.41.59.51 0 1.02-.2 1.41-.59l7.78-7.78 2.81-2.81c.8-.78.8-2.07 0-2.86zM5.41 20L4 18.59l7.72-7.72 1.47 1.35L5.41 20z\"/>\n",
              "  </svg>\n",
              "      </button>\n",
              "      \n",
              "  <style>\n",
              "    .colab-df-container {\n",
              "      display:flex;\n",
              "      flex-wrap:wrap;\n",
              "      gap: 12px;\n",
              "    }\n",
              "\n",
              "    .colab-df-convert {\n",
              "      background-color: #E8F0FE;\n",
              "      border: none;\n",
              "      border-radius: 50%;\n",
              "      cursor: pointer;\n",
              "      display: none;\n",
              "      fill: #1967D2;\n",
              "      height: 32px;\n",
              "      padding: 0 0 0 0;\n",
              "      width: 32px;\n",
              "    }\n",
              "\n",
              "    .colab-df-convert:hover {\n",
              "      background-color: #E2EBFA;\n",
              "      box-shadow: 0px 1px 2px rgba(60, 64, 67, 0.3), 0px 1px 3px 1px rgba(60, 64, 67, 0.15);\n",
              "      fill: #174EA6;\n",
              "    }\n",
              "\n",
              "    [theme=dark] .colab-df-convert {\n",
              "      background-color: #3B4455;\n",
              "      fill: #D2E3FC;\n",
              "    }\n",
              "\n",
              "    [theme=dark] .colab-df-convert:hover {\n",
              "      background-color: #434B5C;\n",
              "      box-shadow: 0px 1px 3px 1px rgba(0, 0, 0, 0.15);\n",
              "      filter: drop-shadow(0px 1px 2px rgba(0, 0, 0, 0.3));\n",
              "      fill: #FFFFFF;\n",
              "    }\n",
              "  </style>\n",
              "\n",
              "      <script>\n",
              "        const buttonEl =\n",
              "          document.querySelector('#df-711c050e-f2a2-43c2-9120-78345ce0db19 button.colab-df-convert');\n",
              "        buttonEl.style.display =\n",
              "          google.colab.kernel.accessAllowed ? 'block' : 'none';\n",
              "\n",
              "        async function convertToInteractive(key) {\n",
              "          const element = document.querySelector('#df-711c050e-f2a2-43c2-9120-78345ce0db19');\n",
              "          const dataTable =\n",
              "            await google.colab.kernel.invokeFunction('convertToInteractive',\n",
              "                                                     [key], {});\n",
              "          if (!dataTable) return;\n",
              "\n",
              "          const docLinkHtml = 'Like what you see? Visit the ' +\n",
              "            '<a target=\"_blank\" href=https://colab.research.google.com/notebooks/data_table.ipynb>data table notebook</a>'\n",
              "            + ' to learn more about interactive tables.';\n",
              "          element.innerHTML = '';\n",
              "          dataTable['output_type'] = 'display_data';\n",
              "          await google.colab.output.renderOutput(dataTable, element);\n",
              "          const docLink = document.createElement('div');\n",
              "          docLink.innerHTML = docLinkHtml;\n",
              "          element.appendChild(docLink);\n",
              "        }\n",
              "      </script>\n",
              "    </div>\n",
              "  </div>\n",
              "  "
            ]
          },
          "metadata": {},
          "execution_count": 4
        }
      ]
    },
    {
      "cell_type": "code",
      "metadata": {
        "id": "LIoZ4qJ6QrXG",
        "colab": {
          "base_uri": "https://localhost:8080/"
        },
        "outputId": "bed5706b-641e-4b68-9945-58c40beb46bf"
      },
      "source": [
        "# Clean the source references aka '1995[2]' out of the Since field and the Title field...\n",
        "company_ceos_df['Since'] = company_ceos_df['Since'].apply(lambda x: int(x.split('[')[0].strip()) if '[' in x else int(x))\n",
        "company_ceos_df['Title'] = company_ceos_df['Title'].apply(lambda x: x.split('[')[0].strip() if '[' in x else x)\n",
        "\n",
        "# Show the output\n",
        "company_ceos_df.info()"
      ],
      "execution_count": 5,
      "outputs": [
        {
          "output_type": "stream",
          "name": "stdout",
          "text": [
            "<class 'pandas.core.frame.DataFrame'>\n",
            "RangeIndex: 175 entries, 0 to 174\n",
            "Data columns (total 6 columns):\n",
            " #   Column     Non-Null Count  Dtype \n",
            "---  ------     --------------  ----- \n",
            " 0   Company    175 non-null    object\n",
            " 1   Executive  175 non-null    object\n",
            " 2   Title      175 non-null    object\n",
            " 3   Since      175 non-null    int64 \n",
            " 4   Notes      173 non-null    object\n",
            " 5   Updated    170 non-null    object\n",
            "dtypes: int64(1), object(5)\n",
            "memory usage: 8.3+ KB\n"
          ]
        }
      ]
    },
    {
      "cell_type": "markdown",
      "metadata": {
        "id": "sy8U5T75Wzv1"
      },
      "source": [
        "Now that we have the data, let's split into two dataframes."
      ]
    },
    {
      "cell_type": "code",
      "source": [
        "# Extracts the founding CEOs into founder_df by applying a check if the word 'founder' comes up in Title\n",
        "founders_df = company_ceos_df[company_ceos_df['Title'].apply(lambda s: True if 'founder' in s.lower() else False)]\n",
        "founders_df"
      ],
      "metadata": {
        "colab": {
          "base_uri": "https://localhost:8080/",
          "height": 332
        },
        "id": "kH9uLUTUg48T",
        "outputId": "593c23bb-15ee-41ea-86ce-68626035fd42"
      },
      "execution_count": 3,
      "outputs": [
        {
          "output_type": "execute_result",
          "data": {
            "text/plain": [
              "                   Company              Executive  \\\n",
              "3                   Agenus          Garo H. Armen   \n",
              "20      Bharti Enterprises    Sunil Bharti Mittal   \n",
              "21        Blackstone Group  Stephen A. Schwarzman   \n",
              "28               Canonical      Mark Shuttleworth   \n",
              "29   Capital One Financial       Richard Fairbank   \n",
              "53            Fenty Beauty                Rihanna   \n",
              "60                    FUBU           Daymond John   \n",
              "99               Mossy Oak             Toxey Haas   \n",
              "146        TCL Corporation           Li Dongsheng   \n",
              "\n",
              "                            Title  Since  \\\n",
              "3          Founder, chairman, CEO   1994   \n",
              "20           Founder and chairman   1985   \n",
              "21   Chairman, CEO and co-founder   1985   \n",
              "28                Founder and CEO   2017   \n",
              "29      Founder, chairman and CEO   1988   \n",
              "53                Founder and CEO   2017   \n",
              "60     Founder, president and CEO   1992   \n",
              "99                Founder and CEO   1986   \n",
              "146                 CEO & Founder   1981   \n",
              "\n",
              "                                                 Notes     Updated  \n",
              "3       Founder of the Children of Armenia Fund (COAF)  2018-10-01  \n",
              "20                                 Founder of the firm  2018-10-01  \n",
              "21      Co-founded the firm with Peter George Peterson  2017-11-15  \n",
              "28     Stepped down as CEO in 2009 and resumed in 2017  2017-11-14  \n",
              "29               Co-founded the firm with Nigel Morris  2017-11-14  \n",
              "53   became self-made billionaire due to success of...  2017-09-08  \n",
              "60   Also an investor on the American version of Sh...  2017-11-14  \n",
              "99                                 Founder of the firm  2017-11-13  \n",
              "146          Been with the company since the beginning         NaN  "
            ],
            "text/html": [
              "\n",
              "  <div id=\"df-38374b2f-7cde-49c1-a25d-97f40c4c68dc\">\n",
              "    <div class=\"colab-df-container\">\n",
              "      <div>\n",
              "<style scoped>\n",
              "    .dataframe tbody tr th:only-of-type {\n",
              "        vertical-align: middle;\n",
              "    }\n",
              "\n",
              "    .dataframe tbody tr th {\n",
              "        vertical-align: top;\n",
              "    }\n",
              "\n",
              "    .dataframe thead th {\n",
              "        text-align: right;\n",
              "    }\n",
              "</style>\n",
              "<table border=\"1\" class=\"dataframe\">\n",
              "  <thead>\n",
              "    <tr style=\"text-align: right;\">\n",
              "      <th></th>\n",
              "      <th>Company</th>\n",
              "      <th>Executive</th>\n",
              "      <th>Title</th>\n",
              "      <th>Since</th>\n",
              "      <th>Notes</th>\n",
              "      <th>Updated</th>\n",
              "    </tr>\n",
              "  </thead>\n",
              "  <tbody>\n",
              "    <tr>\n",
              "      <th>3</th>\n",
              "      <td>Agenus</td>\n",
              "      <td>Garo H. Armen</td>\n",
              "      <td>Founder, chairman, CEO</td>\n",
              "      <td>1994</td>\n",
              "      <td>Founder of the Children of Armenia Fund (COAF)</td>\n",
              "      <td>2018-10-01</td>\n",
              "    </tr>\n",
              "    <tr>\n",
              "      <th>20</th>\n",
              "      <td>Bharti Enterprises</td>\n",
              "      <td>Sunil Bharti Mittal</td>\n",
              "      <td>Founder and chairman</td>\n",
              "      <td>1985</td>\n",
              "      <td>Founder of the firm</td>\n",
              "      <td>2018-10-01</td>\n",
              "    </tr>\n",
              "    <tr>\n",
              "      <th>21</th>\n",
              "      <td>Blackstone Group</td>\n",
              "      <td>Stephen A. Schwarzman</td>\n",
              "      <td>Chairman, CEO and co-founder</td>\n",
              "      <td>1985</td>\n",
              "      <td>Co-founded the firm with Peter George Peterson</td>\n",
              "      <td>2017-11-15</td>\n",
              "    </tr>\n",
              "    <tr>\n",
              "      <th>28</th>\n",
              "      <td>Canonical</td>\n",
              "      <td>Mark Shuttleworth</td>\n",
              "      <td>Founder and CEO</td>\n",
              "      <td>2017</td>\n",
              "      <td>Stepped down as CEO in 2009 and resumed in 2017</td>\n",
              "      <td>2017-11-14</td>\n",
              "    </tr>\n",
              "    <tr>\n",
              "      <th>29</th>\n",
              "      <td>Capital One Financial</td>\n",
              "      <td>Richard Fairbank</td>\n",
              "      <td>Founder, chairman and CEO</td>\n",
              "      <td>1988</td>\n",
              "      <td>Co-founded the firm with Nigel Morris</td>\n",
              "      <td>2017-11-14</td>\n",
              "    </tr>\n",
              "    <tr>\n",
              "      <th>53</th>\n",
              "      <td>Fenty Beauty</td>\n",
              "      <td>Rihanna</td>\n",
              "      <td>Founder and CEO</td>\n",
              "      <td>2017</td>\n",
              "      <td>became self-made billionaire due to success of...</td>\n",
              "      <td>2017-09-08</td>\n",
              "    </tr>\n",
              "    <tr>\n",
              "      <th>60</th>\n",
              "      <td>FUBU</td>\n",
              "      <td>Daymond John</td>\n",
              "      <td>Founder, president and CEO</td>\n",
              "      <td>1992</td>\n",
              "      <td>Also an investor on the American version of Sh...</td>\n",
              "      <td>2017-11-14</td>\n",
              "    </tr>\n",
              "    <tr>\n",
              "      <th>99</th>\n",
              "      <td>Mossy Oak</td>\n",
              "      <td>Toxey Haas</td>\n",
              "      <td>Founder and CEO</td>\n",
              "      <td>1986</td>\n",
              "      <td>Founder of the firm</td>\n",
              "      <td>2017-11-13</td>\n",
              "    </tr>\n",
              "    <tr>\n",
              "      <th>146</th>\n",
              "      <td>TCL Corporation</td>\n",
              "      <td>Li Dongsheng</td>\n",
              "      <td>CEO &amp; Founder</td>\n",
              "      <td>1981</td>\n",
              "      <td>Been with the company since the beginning</td>\n",
              "      <td>NaN</td>\n",
              "    </tr>\n",
              "  </tbody>\n",
              "</table>\n",
              "</div>\n",
              "      <button class=\"colab-df-convert\" onclick=\"convertToInteractive('df-38374b2f-7cde-49c1-a25d-97f40c4c68dc')\"\n",
              "              title=\"Convert this dataframe to an interactive table.\"\n",
              "              style=\"display:none;\">\n",
              "        \n",
              "  <svg xmlns=\"http://www.w3.org/2000/svg\" height=\"24px\"viewBox=\"0 0 24 24\"\n",
              "       width=\"24px\">\n",
              "    <path d=\"M0 0h24v24H0V0z\" fill=\"none\"/>\n",
              "    <path d=\"M18.56 5.44l.94 2.06.94-2.06 2.06-.94-2.06-.94-.94-2.06-.94 2.06-2.06.94zm-11 1L8.5 8.5l.94-2.06 2.06-.94-2.06-.94L8.5 2.5l-.94 2.06-2.06.94zm10 10l.94 2.06.94-2.06 2.06-.94-2.06-.94-.94-2.06-.94 2.06-2.06.94z\"/><path d=\"M17.41 7.96l-1.37-1.37c-.4-.4-.92-.59-1.43-.59-.52 0-1.04.2-1.43.59L10.3 9.45l-7.72 7.72c-.78.78-.78 2.05 0 2.83L4 21.41c.39.39.9.59 1.41.59.51 0 1.02-.2 1.41-.59l7.78-7.78 2.81-2.81c.8-.78.8-2.07 0-2.86zM5.41 20L4 18.59l7.72-7.72 1.47 1.35L5.41 20z\"/>\n",
              "  </svg>\n",
              "      </button>\n",
              "      \n",
              "  <style>\n",
              "    .colab-df-container {\n",
              "      display:flex;\n",
              "      flex-wrap:wrap;\n",
              "      gap: 12px;\n",
              "    }\n",
              "\n",
              "    .colab-df-convert {\n",
              "      background-color: #E8F0FE;\n",
              "      border: none;\n",
              "      border-radius: 50%;\n",
              "      cursor: pointer;\n",
              "      display: none;\n",
              "      fill: #1967D2;\n",
              "      height: 32px;\n",
              "      padding: 0 0 0 0;\n",
              "      width: 32px;\n",
              "    }\n",
              "\n",
              "    .colab-df-convert:hover {\n",
              "      background-color: #E2EBFA;\n",
              "      box-shadow: 0px 1px 2px rgba(60, 64, 67, 0.3), 0px 1px 3px 1px rgba(60, 64, 67, 0.15);\n",
              "      fill: #174EA6;\n",
              "    }\n",
              "\n",
              "    [theme=dark] .colab-df-convert {\n",
              "      background-color: #3B4455;\n",
              "      fill: #D2E3FC;\n",
              "    }\n",
              "\n",
              "    [theme=dark] .colab-df-convert:hover {\n",
              "      background-color: #434B5C;\n",
              "      box-shadow: 0px 1px 3px 1px rgba(0, 0, 0, 0.15);\n",
              "      filter: drop-shadow(0px 1px 2px rgba(0, 0, 0, 0.3));\n",
              "      fill: #FFFFFF;\n",
              "    }\n",
              "  </style>\n",
              "\n",
              "      <script>\n",
              "        const buttonEl =\n",
              "          document.querySelector('#df-38374b2f-7cde-49c1-a25d-97f40c4c68dc button.colab-df-convert');\n",
              "        buttonEl.style.display =\n",
              "          google.colab.kernel.accessAllowed ? 'block' : 'none';\n",
              "\n",
              "        async function convertToInteractive(key) {\n",
              "          const element = document.querySelector('#df-38374b2f-7cde-49c1-a25d-97f40c4c68dc');\n",
              "          const dataTable =\n",
              "            await google.colab.kernel.invokeFunction('convertToInteractive',\n",
              "                                                     [key], {});\n",
              "          if (!dataTable) return;\n",
              "\n",
              "          const docLinkHtml = 'Like what you see? Visit the ' +\n",
              "            '<a target=\"_blank\" href=https://colab.research.google.com/notebooks/data_table.ipynb>data table notebook</a>'\n",
              "            + ' to learn more about interactive tables.';\n",
              "          element.innerHTML = '';\n",
              "          dataTable['output_type'] = 'display_data';\n",
              "          await google.colab.output.renderOutput(dataTable, element);\n",
              "          const docLink = document.createElement('div');\n",
              "          docLink.innerHTML = docLinkHtml;\n",
              "          element.appendChild(docLink);\n",
              "        }\n",
              "      </script>\n",
              "    </div>\n",
              "  </div>\n",
              "  "
            ]
          },
          "metadata": {},
          "execution_count": 3
        }
      ]
    },
    {
      "cell_type": "code",
      "metadata": {
        "id": "Eh5dOJUpQ-dl"
      },
      "source": [
        "# This is a set difference: we keep only items that are duplicated\n",
        "regular_ceos_df = pd.concat([company_ceos_df, founders_df]).drop_duplicates(keep=False)"
      ],
      "execution_count": 6,
      "outputs": []
    },
    {
      "cell_type": "code",
      "metadata": {
        "id": "hyLqqeafeMIC",
        "colab": {
          "base_uri": "https://localhost:8080/"
        },
        "outputId": "58d4f070-98d9-4f23-cd4a-d14340299b9f"
      },
      "source": [
        "# For inspection: who are non-founders?\n",
        "regular_ceos_df.info()"
      ],
      "execution_count": 7,
      "outputs": [
        {
          "output_type": "stream",
          "name": "stdout",
          "text": [
            "<class 'pandas.core.frame.DataFrame'>\n",
            "Int64Index: 166 entries, 0 to 174\n",
            "Data columns (total 6 columns):\n",
            " #   Column     Non-Null Count  Dtype \n",
            "---  ------     --------------  ----- \n",
            " 0   Company    166 non-null    object\n",
            " 1   Executive  166 non-null    object\n",
            " 2   Title      166 non-null    object\n",
            " 3   Since      166 non-null    int64 \n",
            " 4   Notes      164 non-null    object\n",
            " 5   Updated    162 non-null    object\n",
            "dtypes: int64(1), object(5)\n",
            "memory usage: 9.1+ KB\n"
          ]
        }
      ]
    },
    {
      "cell_type": "code",
      "metadata": {
        "id": "quByX_1Mfd9L",
        "colab": {
          "base_uri": "https://localhost:8080/",
          "height": 332
        },
        "outputId": "4e861d80-8e2c-4203-a553-4b3a15656cc0"
      },
      "source": [
        "# For inspection: who are non-founders?\n",
        "founders_df"
      ],
      "execution_count": 8,
      "outputs": [
        {
          "output_type": "execute_result",
          "data": {
            "text/plain": [
              "                   Company              Executive  \\\n",
              "3                   Agenus          Garo H. Armen   \n",
              "20      Bharti Enterprises    Sunil Bharti Mittal   \n",
              "21        Blackstone Group  Stephen A. Schwarzman   \n",
              "28               Canonical      Mark Shuttleworth   \n",
              "29   Capital One Financial       Richard Fairbank   \n",
              "53            Fenty Beauty                Rihanna   \n",
              "60                    FUBU           Daymond John   \n",
              "99               Mossy Oak             Toxey Haas   \n",
              "146        TCL Corporation           Li Dongsheng   \n",
              "\n",
              "                            Title  Since  \\\n",
              "3          Founder, chairman, CEO   1994   \n",
              "20           Founder and chairman   1985   \n",
              "21   Chairman, CEO and co-founder   1985   \n",
              "28                Founder and CEO   2017   \n",
              "29      Founder, chairman and CEO   1988   \n",
              "53                Founder and CEO   2017   \n",
              "60     Founder, president and CEO   1992   \n",
              "99                Founder and CEO   1986   \n",
              "146                 CEO & Founder   1981   \n",
              "\n",
              "                                                 Notes     Updated  \n",
              "3       Founder of the Children of Armenia Fund (COAF)  2018-10-01  \n",
              "20                                 Founder of the firm  2018-10-01  \n",
              "21      Co-founded the firm with Peter George Peterson  2017-11-15  \n",
              "28     Stepped down as CEO in 2009 and resumed in 2017  2017-11-14  \n",
              "29               Co-founded the firm with Nigel Morris  2017-11-14  \n",
              "53   became self-made billionaire due to success of...  2017-09-08  \n",
              "60   Also an investor on the American version of Sh...  2017-11-14  \n",
              "99                                 Founder of the firm  2017-11-13  \n",
              "146          Been with the company since the beginning         NaN  "
            ],
            "text/html": [
              "\n",
              "  <div id=\"df-809dd890-ab6f-496c-8bc6-f650231d9272\">\n",
              "    <div class=\"colab-df-container\">\n",
              "      <div>\n",
              "<style scoped>\n",
              "    .dataframe tbody tr th:only-of-type {\n",
              "        vertical-align: middle;\n",
              "    }\n",
              "\n",
              "    .dataframe tbody tr th {\n",
              "        vertical-align: top;\n",
              "    }\n",
              "\n",
              "    .dataframe thead th {\n",
              "        text-align: right;\n",
              "    }\n",
              "</style>\n",
              "<table border=\"1\" class=\"dataframe\">\n",
              "  <thead>\n",
              "    <tr style=\"text-align: right;\">\n",
              "      <th></th>\n",
              "      <th>Company</th>\n",
              "      <th>Executive</th>\n",
              "      <th>Title</th>\n",
              "      <th>Since</th>\n",
              "      <th>Notes</th>\n",
              "      <th>Updated</th>\n",
              "    </tr>\n",
              "  </thead>\n",
              "  <tbody>\n",
              "    <tr>\n",
              "      <th>3</th>\n",
              "      <td>Agenus</td>\n",
              "      <td>Garo H. Armen</td>\n",
              "      <td>Founder, chairman, CEO</td>\n",
              "      <td>1994</td>\n",
              "      <td>Founder of the Children of Armenia Fund (COAF)</td>\n",
              "      <td>2018-10-01</td>\n",
              "    </tr>\n",
              "    <tr>\n",
              "      <th>20</th>\n",
              "      <td>Bharti Enterprises</td>\n",
              "      <td>Sunil Bharti Mittal</td>\n",
              "      <td>Founder and chairman</td>\n",
              "      <td>1985</td>\n",
              "      <td>Founder of the firm</td>\n",
              "      <td>2018-10-01</td>\n",
              "    </tr>\n",
              "    <tr>\n",
              "      <th>21</th>\n",
              "      <td>Blackstone Group</td>\n",
              "      <td>Stephen A. Schwarzman</td>\n",
              "      <td>Chairman, CEO and co-founder</td>\n",
              "      <td>1985</td>\n",
              "      <td>Co-founded the firm with Peter George Peterson</td>\n",
              "      <td>2017-11-15</td>\n",
              "    </tr>\n",
              "    <tr>\n",
              "      <th>28</th>\n",
              "      <td>Canonical</td>\n",
              "      <td>Mark Shuttleworth</td>\n",
              "      <td>Founder and CEO</td>\n",
              "      <td>2017</td>\n",
              "      <td>Stepped down as CEO in 2009 and resumed in 2017</td>\n",
              "      <td>2017-11-14</td>\n",
              "    </tr>\n",
              "    <tr>\n",
              "      <th>29</th>\n",
              "      <td>Capital One Financial</td>\n",
              "      <td>Richard Fairbank</td>\n",
              "      <td>Founder, chairman and CEO</td>\n",
              "      <td>1988</td>\n",
              "      <td>Co-founded the firm with Nigel Morris</td>\n",
              "      <td>2017-11-14</td>\n",
              "    </tr>\n",
              "    <tr>\n",
              "      <th>53</th>\n",
              "      <td>Fenty Beauty</td>\n",
              "      <td>Rihanna</td>\n",
              "      <td>Founder and CEO</td>\n",
              "      <td>2017</td>\n",
              "      <td>became self-made billionaire due to success of...</td>\n",
              "      <td>2017-09-08</td>\n",
              "    </tr>\n",
              "    <tr>\n",
              "      <th>60</th>\n",
              "      <td>FUBU</td>\n",
              "      <td>Daymond John</td>\n",
              "      <td>Founder, president and CEO</td>\n",
              "      <td>1992</td>\n",
              "      <td>Also an investor on the American version of Sh...</td>\n",
              "      <td>2017-11-14</td>\n",
              "    </tr>\n",
              "    <tr>\n",
              "      <th>99</th>\n",
              "      <td>Mossy Oak</td>\n",
              "      <td>Toxey Haas</td>\n",
              "      <td>Founder and CEO</td>\n",
              "      <td>1986</td>\n",
              "      <td>Founder of the firm</td>\n",
              "      <td>2017-11-13</td>\n",
              "    </tr>\n",
              "    <tr>\n",
              "      <th>146</th>\n",
              "      <td>TCL Corporation</td>\n",
              "      <td>Li Dongsheng</td>\n",
              "      <td>CEO &amp; Founder</td>\n",
              "      <td>1981</td>\n",
              "      <td>Been with the company since the beginning</td>\n",
              "      <td>NaN</td>\n",
              "    </tr>\n",
              "  </tbody>\n",
              "</table>\n",
              "</div>\n",
              "      <button class=\"colab-df-convert\" onclick=\"convertToInteractive('df-809dd890-ab6f-496c-8bc6-f650231d9272')\"\n",
              "              title=\"Convert this dataframe to an interactive table.\"\n",
              "              style=\"display:none;\">\n",
              "        \n",
              "  <svg xmlns=\"http://www.w3.org/2000/svg\" height=\"24px\"viewBox=\"0 0 24 24\"\n",
              "       width=\"24px\">\n",
              "    <path d=\"M0 0h24v24H0V0z\" fill=\"none\"/>\n",
              "    <path d=\"M18.56 5.44l.94 2.06.94-2.06 2.06-.94-2.06-.94-.94-2.06-.94 2.06-2.06.94zm-11 1L8.5 8.5l.94-2.06 2.06-.94-2.06-.94L8.5 2.5l-.94 2.06-2.06.94zm10 10l.94 2.06.94-2.06 2.06-.94-2.06-.94-.94-2.06-.94 2.06-2.06.94z\"/><path d=\"M17.41 7.96l-1.37-1.37c-.4-.4-.92-.59-1.43-.59-.52 0-1.04.2-1.43.59L10.3 9.45l-7.72 7.72c-.78.78-.78 2.05 0 2.83L4 21.41c.39.39.9.59 1.41.59.51 0 1.02-.2 1.41-.59l7.78-7.78 2.81-2.81c.8-.78.8-2.07 0-2.86zM5.41 20L4 18.59l7.72-7.72 1.47 1.35L5.41 20z\"/>\n",
              "  </svg>\n",
              "      </button>\n",
              "      \n",
              "  <style>\n",
              "    .colab-df-container {\n",
              "      display:flex;\n",
              "      flex-wrap:wrap;\n",
              "      gap: 12px;\n",
              "    }\n",
              "\n",
              "    .colab-df-convert {\n",
              "      background-color: #E8F0FE;\n",
              "      border: none;\n",
              "      border-radius: 50%;\n",
              "      cursor: pointer;\n",
              "      display: none;\n",
              "      fill: #1967D2;\n",
              "      height: 32px;\n",
              "      padding: 0 0 0 0;\n",
              "      width: 32px;\n",
              "    }\n",
              "\n",
              "    .colab-df-convert:hover {\n",
              "      background-color: #E2EBFA;\n",
              "      box-shadow: 0px 1px 2px rgba(60, 64, 67, 0.3), 0px 1px 3px 1px rgba(60, 64, 67, 0.15);\n",
              "      fill: #174EA6;\n",
              "    }\n",
              "\n",
              "    [theme=dark] .colab-df-convert {\n",
              "      background-color: #3B4455;\n",
              "      fill: #D2E3FC;\n",
              "    }\n",
              "\n",
              "    [theme=dark] .colab-df-convert:hover {\n",
              "      background-color: #434B5C;\n",
              "      box-shadow: 0px 1px 3px 1px rgba(0, 0, 0, 0.15);\n",
              "      filter: drop-shadow(0px 1px 2px rgba(0, 0, 0, 0.3));\n",
              "      fill: #FFFFFF;\n",
              "    }\n",
              "  </style>\n",
              "\n",
              "      <script>\n",
              "        const buttonEl =\n",
              "          document.querySelector('#df-809dd890-ab6f-496c-8bc6-f650231d9272 button.colab-df-convert');\n",
              "        buttonEl.style.display =\n",
              "          google.colab.kernel.accessAllowed ? 'block' : 'none';\n",
              "\n",
              "        async function convertToInteractive(key) {\n",
              "          const element = document.querySelector('#df-809dd890-ab6f-496c-8bc6-f650231d9272');\n",
              "          const dataTable =\n",
              "            await google.colab.kernel.invokeFunction('convertToInteractive',\n",
              "                                                     [key], {});\n",
              "          if (!dataTable) return;\n",
              "\n",
              "          const docLinkHtml = 'Like what you see? Visit the ' +\n",
              "            '<a target=\"_blank\" href=https://colab.research.google.com/notebooks/data_table.ipynb>data table notebook</a>'\n",
              "            + ' to learn more about interactive tables.';\n",
              "          element.innerHTML = '';\n",
              "          dataTable['output_type'] = 'display_data';\n",
              "          await google.colab.output.renderOutput(dataTable, element);\n",
              "          const docLink = document.createElement('div');\n",
              "          docLink.innerHTML = docLinkHtml;\n",
              "          element.appendChild(docLink);\n",
              "        }\n",
              "      </script>\n",
              "    </div>\n",
              "  </div>\n",
              "  "
            ]
          },
          "metadata": {},
          "execution_count": 8
        }
      ]
    },
    {
      "cell_type": "markdown",
      "metadata": {
        "id": "iHbb8EwFiDZE"
      },
      "source": [
        "## Plotting our first graph\n",
        "\n",
        "OK, so we'll do our first plot.  We want to see company vs CEO start year, for CEOs who are also founders.  This is a *bar chart* since companies are categorical rather than continuous-valued."
      ]
    },
    {
      "cell_type": "code",
      "metadata": {
        "id": "D9dl-lZWfgaT",
        "colab": {
          "base_uri": "https://localhost:8080/",
          "height": 392
        },
        "outputId": "a83a2ec1-4a11-4b5d-b713-d585d2f639be"
      },
      "source": [
        "founders_df.plot(kind='bar', x='Company', y='Since', color='gray')"
      ],
      "execution_count": 10,
      "outputs": [
        {
          "output_type": "execute_result",
          "data": {
            "text/plain": [
              "<AxesSubplot:xlabel='Company'>"
            ]
          },
          "metadata": {},
          "execution_count": 10
        },
        {
          "output_type": "display_data",
          "data": {
            "text/plain": [
              "<Figure size 432x288 with 1 Axes>"
            ],
            "image/png": "[encoded data removed]"
          },
          "metadata": {
            "needs_background": "light"
          }
        }
      ]
    },
    {
      "cell_type": "markdown",
      "metadata": {
        "id": "8d_9v7Bhgo4M"
      },
      "source": [
        "This looks pretty ridiculous, because the assumption is that dates start at 0, and that we are measuring dates!  \n",
        "\n",
        "Could we change the graphed value to that conceptually makes more sense, e.g., maybe we should look at **how long** people have been CEOs?"
      ]
    },
    {
      "cell_type": "code",
      "metadata": {
        "id": "jrp2yL_zgPx_",
        "colab": {
          "base_uri": "https://localhost:8080/",
          "height": 396
        },
        "outputId": "19b477e0-6d8e-424d-8cc4-72dc9bc2b0b0"
      },
      "source": [
        "import datetime\n",
        "now = datetime.datetime.now()\n",
        "\n",
        "# Shows how long founding CEOs hold their position \n",
        "founders_df['Years'] = founders_df['Since'].apply(lambda x: now.year - x)\n",
        "fig = founders_df.plot(kind='bar', x='Company', y='Years')\n",
        "\n",
        "# Based on \"domain expertise\", we will assume no one should be CEO for more \n",
        "# than ~70 years -- if they started at 20, they would be 90...\n",
        "fig.set_ylim([0, 70])"
      ],
      "execution_count": 13,
      "outputs": [
        {
          "output_type": "execute_result",
          "data": {
            "text/plain": [
              "(0.0, 70.0)"
            ]
          },
          "metadata": {},
          "execution_count": 13
        },
        {
          "output_type": "display_data",
          "data": {
            "text/plain": [
              "<Figure size 432x288 with 1 Axes>"
            ],
            "image/png": "[encoded data removed]"
          },
          "metadata": {
            "needs_background": "light"
          }
        }
      ]
    },
    {
      "cell_type": "markdown",
      "metadata": {
        "id": "Q_oD1C4MjgUE"
      },
      "source": [
        "## Plotting for comparison\n",
        "\n",
        "Let's look at how many folks founded companies in each year, comparing founding CEOs vs \"regular\" CEOs...\n",
        "\n",
        "Here, year can be considered a continuous-valued parameter (although note that we are actually quantizing it to integer values, so fractional years aren't really useful here)."
      ]
    },
    {
      "cell_type": "code",
      "metadata": {
        "id": "ECgIf3jlhWJL",
        "colab": {
          "base_uri": "https://localhost:8080/",
          "height": 279
        },
        "outputId": "7a8a209b-b949-4409-d0a4-554544ab5bdd"
      },
      "source": [
        "# gca stands for 'get current axis'\n",
        "ax = plt.gca()\n",
        "\n",
        "# Create counts for how many founders started (their company) in each year\n",
        "founders_by_year = founders_df.groupby(['Since']).count()\n",
        "founder = founders_by_year.plot(kind='line', y='Company', ax=ax, label='Founding CEOs')\n",
        "\n",
        "# Creates counts for how many non-founder CEOs started (working for that company) in each year\n",
        "regular_ceos_by_year = regular_ceos_df.groupby(['Since']).count()\n",
        "regular = regular_ceos_by_year.plot(kind='line', y='Company', color='red', ax=ax, label='Other CEOs')"
      ],
      "execution_count": 15,
      "outputs": [
        {
          "output_type": "display_data",
          "data": {
            "text/plain": [
              "<Figure size 432x288 with 1 Axes>"
            ],
            "image/png": "[encoded data removed]"
          },
          "metadata": {
            "needs_background": "light"
          }
        }
      ]
    },
    {
      "cell_type": "markdown",
      "metadata": {
        "id": "53Ekvt4NKem-"
      },
      "source": [
        "If we look closely at this graph, we'll note there seems to be one founding CEO every year. Could that be?  Maybe we should look more closely!!!\n",
        "\n",
        "We'll re-plot, putting a marker at each point.  And perhaps we can even remove the line from the \"founding CEO\" plot, just looking at the markers..."
      ]
    },
    {
      "cell_type": "code",
      "metadata": {
        "id": "a-89uCsBijwN",
        "colab": {
          "base_uri": "https://localhost:8080/",
          "height": 301
        },
        "outputId": "c73e9a2a-7575-43c8-d214-a7f77f5e2885"
      },
      "source": [
        "# Sharing the x-axis, allows us to plot multiple items against it\n",
        "ax = plt.gca()\n",
        "\n",
        "# Create counts for how many founders started in each year\n",
        "founders_by_year = founders_df.groupby(['Since']).count()\n",
        "founder = founders_by_year.plot(kind='line', y='Company', ax=ax, label='Founding CEOs', marker='x', linewidth=0)\n",
        "\n",
        "regular_ceos_by_year = regular_ceos_df.groupby(['Since']).count()\n",
        "regular = regular_ceos_by_year.plot(kind='line',y='Company', color='red', ax=ax, label='Other CEOs', marker='+')\n",
        "\n",
        "plt.xlabel('Year CEO started', fontsize = 16)"
      ],
      "execution_count": 19,
      "outputs": [
        {
          "output_type": "execute_result",
          "data": {
            "text/plain": [
              "Text(0.5, 0, 'Year CEO started')"
            ]
          },
          "metadata": {},
          "execution_count": 19
        },
        {
          "output_type": "display_data",
          "data": {
            "text/plain": [
              "<Figure size 432x288 with 1 Axes>"
            ],
            "image/png": "[encoded data removed]"
          },
          "metadata": {
            "needs_background": "light"
          }
        }
      ]
    },
    {
      "cell_type": "markdown",
      "metadata": {
        "id": "kGDbwEEZKri3"
      },
      "source": [
        "Much clearer -- in fact the blue x's show that founding CEOs are not that common!"
      ]
    },
    {
      "cell_type": "markdown",
      "metadata": {
        "id": "DKLqEO8cKzqt"
      },
      "source": [
        "## Plotting and Thinking about Scale\n",
        "\n",
        "Let's try another plot, here comparing three items..."
      ]
    },
    {
      "cell_type": "code",
      "metadata": {
        "id": "Kcfi55PMbD-v",
        "colab": {
          "base_uri": "https://localhost:8080/",
          "height": 307
        },
        "outputId": "8532c9f2-46c6-47aa-96b6-f3a8a3648a82"
      },
      "source": [
        "graph_df = pd.DataFrame([{'scale': 100, 'value': 800}, {'scale': 200, 'value': 1200}, {'scale': 500, 'value': 2400}])\n",
        "\n",
        "graph_df.plot(kind='bar', x='scale', y='value', label='Execution time')"
      ],
      "execution_count": 20,
      "outputs": [
        {
          "output_type": "execute_result",
          "data": {
            "text/plain": [
              "<AxesSubplot:xlabel='scale'>"
            ]
          },
          "metadata": {},
          "execution_count": 20
        },
        {
          "output_type": "display_data",
          "data": {
            "text/plain": [
              "<Figure size 432x288 with 1 Axes>"
            ],
            "image/png": "[encoded data removed]"
          },
          "metadata": {
            "needs_background": "light"
          }
        }
      ]
    },
    {
      "cell_type": "markdown",
      "metadata": {
        "id": "4uxzMe6HK6sk"
      },
      "source": [
        "This plot is perfectly fine, but note that the x-axis actually contains **numeric** items, which might be continuous-valued.  Moreover, there is neither a log-scale nor a linear-scale progression along the axis -- so while our eyes see something that looks non-linear, in fact we can plot this as a line chart and see what's really happening..."
      ]
    },
    {
      "cell_type": "code",
      "metadata": {
        "id": "HmVjYmr7c0TA",
        "colab": {
          "base_uri": "https://localhost:8080/",
          "height": 296
        },
        "outputId": "e5b4c871-ae45-4163-a5ed-7c0277b091b2"
      },
      "source": [
        "graph_df.plot(kind='line', x='scale', y='value', label='Execution time', marker='o')"
      ],
      "execution_count": 21,
      "outputs": [
        {
          "output_type": "execute_result",
          "data": {
            "text/plain": [
              "<AxesSubplot:xlabel='scale'>"
            ]
          },
          "metadata": {},
          "execution_count": 21
        },
        {
          "output_type": "display_data",
          "data": {
            "text/plain": [
              "<Figure size 432x288 with 1 Axes>"
            ],
            "image/png": "[encoded data removed]"
          },
          "metadata": {
            "needs_background": "light"
          }
        }
      ]
    },
    {
      "cell_type": "markdown",
      "metadata": {
        "id": "sXowytb7LKEn"
      },
      "source": [
        "## Plotting and Normalization\n",
        "\n",
        "Now let's look at data and scaling, where perhaps we are looking at phenomena that are quite different. \n",
        "A common situation is to measure the running time of three computations, using some baseline computation and comparing it with some alternate computation.  We can plot this using bar charts as we see below."
      ]
    },
    {
      "cell_type": "code",
      "metadata": {
        "id": "OVscywNTc_Av",
        "colab": {
          "base_uri": "https://localhost:8080/",
          "height": 278
        },
        "outputId": "5220eeba-d132-4330-c2f2-f4b9716db360"
      },
      "source": [
        "# Suppose we are counting for three computations and two different components, the baseline computation and the alternative.\n",
        "\n",
        "# These are the \"baseline\" numbers for some computation\n",
        "baseline_df = pd.DataFrame([{'comp': 1, 'value': 800}, {'comp': 2, 'value': 5}, {'comp': 3, 'value': 2400}])\n",
        "# These are alternative computations\n",
        "alternative_df = pd.DataFrame([{'comp': 1, 'value': 720}, {'comp': 2, 'value': 3}, {'comp': 3, 'value': 2100}])\n",
        "\n",
        "# We want to plot side-by-side\n",
        "combined_df = baseline_df.rename(columns={'value': 'baseline'})\n",
        "combined_df['alternative'] = alternative_df['value']\n",
        "\n",
        "fig = combined_df.plot.bar(x='comp')"
      ],
      "execution_count": 22,
      "outputs": [
        {
          "output_type": "display_data",
          "data": {
            "text/plain": [
              "<Figure size 432x288 with 1 Axes>"
            ],
            "image/png": "[encoded data removed]"
          },
          "metadata": {
            "needs_background": "light"
          }
        }
      ]
    },
    {
      "cell_type": "markdown",
      "metadata": {
        "id": "DjMnt61ALYk-"
      },
      "source": [
        "Wow, we can't see computation #2 at all!  Given that each plot is very different, we may want to normalize each..."
      ]
    },
    {
      "cell_type": "code",
      "metadata": {
        "id": "x0ujPjTCiliP",
        "colab": {
          "base_uri": "https://localhost:8080/",
          "height": 309
        },
        "outputId": "abeb1cec-a86c-453b-a9f3-688171652685"
      },
      "source": [
        "# Normilizes the scale by dividing alterntive by baseline to get percentage 0.9, 0.6, 0.875\n",
        "rescaled_df = combined_df.copy()\n",
        "rescaled_df['alternative'] = combined_df.apply(lambda r: r['alternative'] / r['baseline'], axis=1)\n",
        "\n",
        "# Establishes 1.0 as a baseline to clearly see how much faster alternative was\n",
        "rescaled_df['baseline'] = combined_df.apply(lambda r: 1.0, axis=1)\n",
        "\n",
        "fig = rescaled_df.plot(kind='bar', x='comp')\n",
        "fig.set_title('Normalized Performance')"
      ],
      "execution_count": 24,
      "outputs": [
        {
          "output_type": "execute_result",
          "data": {
            "text/plain": [
              "Text(0.5, 1.0, 'Normalized Performance')"
            ]
          },
          "metadata": {},
          "execution_count": 24
        },
        {
          "output_type": "display_data",
          "data": {
            "text/plain": [
              "<Figure size 432x288 with 1 Axes>"
            ],
            "image/png": "[encoded data removed]"
          },
          "metadata": {
            "needs_background": "light"
          }
        }
      ]
    },
    {
      "cell_type": "markdown",
      "metadata": {
        "id": "MNaAb1GiLe8W"
      },
      "source": [
        "Note that an \"honest\" presentation of the data will emphasize that these are normalized, and that the relative running times are quite different.  In fact, sometimes people will put a caption above each bar showing the actual timings."
      ]
    },
    {
      "cell_type": "markdown",
      "metadata": {
        "id": "o4iol0i_MzSv"
      },
      "source": [
        "## ggplot and the Grammar of Graphics\n",
        "\n",
        "This part of the notebook shows some examples of using ggplot (as ported from its original R implementation) in Python."
      ]
    },
    {
      "cell_type": "code",
      "metadata": {
        "id": "RlfxJbNqoYf_",
        "colab": {
          "base_uri": "https://localhost:8080/"
        },
        "outputId": "47096f5b-36fb-4b1f-8059-df440ad95b1f"
      },
      "source": [
        "!pip3 install ggplot"
      ],
      "execution_count": 25,
      "outputs": [
        {
          "output_type": "stream",
          "name": "stdout",
          "text": [
            "Looking in indexes: https://pypi.org/simple, https://us-python.pkg.dev/colab-wheels/public/simple/\n",
            "Collecting ggplot\n",
            "  Downloading ggplot-0.11.5-py2.py3-none-any.whl (2.2 MB)\n",
            "\u001b[2K     \u001b[90m━━━━━━━━━━━━━━━━━━━━━━━━━━━━━━━━━━━━━━━━\u001b[0m \u001b[32m2.2/2.2 MB\u001b[0m \u001b[31m24.8 MB/s\u001b[0m eta \u001b[36m0:00:00\u001b[0m\n",
            "\u001b[?25hRequirement already satisfied: matplotlib in /usr/local/lib/python3.8/dist-packages (from ggplot) (3.5.3)\n",
            "Requirement already satisfied: six in /usr/local/lib/python3.8/dist-packages (from ggplot) (1.15.0)\n",
            "Collecting brewer2mpl\n",
            "  Downloading brewer2mpl-1.4.1-py2.py3-none-any.whl (24 kB)\n",
            "Requirement already satisfied: scipy in /usr/local/lib/python3.8/dist-packages (from ggplot) (1.10.1)\n",
            "Requirement already satisfied: patsy>=0.4 in /usr/local/lib/python3.8/dist-packages (from ggplot) (0.5.3)\n",
            "Requirement already satisfied: pandas in /usr/local/lib/python3.8/dist-packages (from ggplot) (1.3.5)\n",
            "Requirement already satisfied: cycler in /usr/local/lib/python3.8/dist-packages (from ggplot) (0.11.0)\n",
            "Requirement already satisfied: statsmodels in /usr/local/lib/python3.8/dist-packages (from ggplot) (0.13.5)\n",
            "Requirement already satisfied: numpy in /usr/local/lib/python3.8/dist-packages (from ggplot) (1.22.4)\n",
            "Requirement already satisfied: packaging>=20.0 in /usr/local/lib/python3.8/dist-packages (from matplotlib->ggplot) (23.0)\n",
            "Requirement already satisfied: pyparsing>=2.2.1 in /usr/local/lib/python3.8/dist-packages (from matplotlib->ggplot) (3.0.9)\n",
            "Requirement already satisfied: pillow>=6.2.0 in /usr/local/lib/python3.8/dist-packages (from matplotlib->ggplot) (8.4.0)\n",
            "Requirement already satisfied: python-dateutil>=2.7 in /usr/local/lib/python3.8/dist-packages (from matplotlib->ggplot) (2.8.2)\n",
            "Requirement already satisfied: fonttools>=4.22.0 in /usr/local/lib/python3.8/dist-packages (from matplotlib->ggplot) (4.38.0)\n",
            "Requirement already satisfied: kiwisolver>=1.0.1 in /usr/local/lib/python3.8/dist-packages (from matplotlib->ggplot) (1.4.4)\n",
            "Requirement already satisfied: pytz>=2017.3 in /usr/local/lib/python3.8/dist-packages (from pandas->ggplot) (2022.7.1)\n",
            "Installing collected packages: brewer2mpl, ggplot\n",
            "Successfully installed brewer2mpl-1.4.1 ggplot-0.11.5\n"
          ]
        }
      ]
    },
    {
      "cell_type": "code",
      "metadata": {
        "id": "-3GNkO6WpV__"
      },
      "source": [
        "# NOTE: this is (on 10-29-2019) a known incompatibility between Pandas and ggplot https://github.com/yhat/ggpy/issues/662\n",
        "\n",
        "# So the cell does not work as it should at the moment!\n",
        "\n",
        "#from ggplot import *\n",
        "\n",
        "#ggplot(rescaled_df, aes(x='comp', y='alternative')) + geom_line() + stat_smooth()"
      ],
      "execution_count": 29,
      "outputs": []
    },
    {
      "cell_type": "markdown",
      "metadata": {
        "id": "uotl_BTdOLbF"
      },
      "source": [
        "# Visualization of Statistical Data with Seaborn"
      ]
    },
    {
      "cell_type": "code",
      "metadata": {
        "id": "VQvzJJo5OrcA",
        "colab": {
          "base_uri": "https://localhost:8080/"
        },
        "outputId": "60da75d1-bb65-4ba7-f451-f1ecf39d069d"
      },
      "source": [
        "!pip install seaborn\n",
        "\n",
        "import seaborn as sb"
      ],
      "execution_count": 30,
      "outputs": [
        {
          "output_type": "stream",
          "name": "stdout",
          "text": [
            "Looking in indexes: https://pypi.org/simple, https://us-python.pkg.dev/colab-wheels/public/simple/\n",
            "Requirement already satisfied: seaborn in /usr/local/lib/python3.8/dist-packages (0.11.2)\n",
            "Requirement already satisfied: pandas>=0.23 in /usr/local/lib/python3.8/dist-packages (from seaborn) (1.3.5)\n",
            "Requirement already satisfied: numpy>=1.15 in /usr/local/lib/python3.8/dist-packages (from seaborn) (1.22.4)\n",
            "Requirement already satisfied: matplotlib>=2.2 in /usr/local/lib/python3.8/dist-packages (from seaborn) (3.5.3)\n",
            "Requirement already satisfied: scipy>=1.0 in /usr/local/lib/python3.8/dist-packages (from seaborn) (1.10.1)\n",
            "Requirement already satisfied: pyparsing>=2.2.1 in /usr/local/lib/python3.8/dist-packages (from matplotlib>=2.2->seaborn) (3.0.9)\n",
            "Requirement already satisfied: pillow>=6.2.0 in /usr/local/lib/python3.8/dist-packages (from matplotlib>=2.2->seaborn) (8.4.0)\n",
            "Requirement already satisfied: cycler>=0.10 in /usr/local/lib/python3.8/dist-packages (from matplotlib>=2.2->seaborn) (0.11.0)\n",
            "Requirement already satisfied: packaging>=20.0 in /usr/local/lib/python3.8/dist-packages (from matplotlib>=2.2->seaborn) (23.0)\n",
            "Requirement already satisfied: kiwisolver>=1.0.1 in /usr/local/lib/python3.8/dist-packages (from matplotlib>=2.2->seaborn) (1.4.4)\n",
            "Requirement already satisfied: fonttools>=4.22.0 in /usr/local/lib/python3.8/dist-packages (from matplotlib>=2.2->seaborn) (4.38.0)\n",
            "Requirement already satisfied: python-dateutil>=2.7 in /usr/local/lib/python3.8/dist-packages (from matplotlib>=2.2->seaborn) (2.8.2)\n",
            "Requirement already satisfied: pytz>=2017.3 in /usr/local/lib/python3.8/dist-packages (from pandas>=0.23->seaborn) (2022.7.1)\n",
            "Requirement already satisfied: six>=1.5 in /usr/local/lib/python3.8/dist-packages (from python-dateutil>=2.7->matplotlib>=2.2->seaborn) (1.15.0)\n"
          ]
        }
      ]
    },
    {
      "cell_type": "code",
      "metadata": {
        "id": "EmsEaI8qJSHN",
        "colab": {
          "base_uri": "https://localhost:8080/",
          "height": 424
        },
        "outputId": "5569944c-c7f6-4a65-d174-959e57b985e0"
      },
      "source": [
        "# Some simple data, random points around a line\n",
        "points = 150\n",
        "slope = 0.3\n",
        "\n",
        "x = np.array(range(points))\n",
        "# We'll plot these\n",
        "y = np.random.randn(points) * 5 + x * slope\n",
        "# Choose a random integer, set z to True if it's positive, else set z to False\n",
        "z = map(lambda x: x >= 0, np.random.randn(points))\n",
        "\n",
        "sample_df = pd.DataFrame({'x': x, 'y': y, 'z': z})\n",
        "sample_df"
      ],
      "execution_count": 32,
      "outputs": [
        {
          "output_type": "execute_result",
          "data": {
            "text/plain": [
              "       x          y      z\n",
              "0      0   6.097381   True\n",
              "1      1   5.804087  False\n",
              "2      2   2.128627   True\n",
              "3      3  -5.397522  False\n",
              "4      4  -8.906184   True\n",
              "..   ...        ...    ...\n",
              "145  145  37.250409   True\n",
              "146  146  41.992011  False\n",
              "147  147  41.446823  False\n",
              "148  148  40.442135   True\n",
              "149  149  42.551693  False\n",
              "\n",
              "[150 rows x 3 columns]"
            ],
            "text/html": [
              "\n",
              "  <div id=\"df-b6473a72-1c02-4808-9900-b0bb2bd223c8\">\n",
              "    <div class=\"colab-df-container\">\n",
              "      <div>\n",
              "<style scoped>\n",
              "    .dataframe tbody tr th:only-of-type {\n",
              "        vertical-align: middle;\n",
              "    }\n",
              "\n",
              "    .dataframe tbody tr th {\n",
              "        vertical-align: top;\n",
              "    }\n",
              "\n",
              "    .dataframe thead th {\n",
              "        text-align: right;\n",
              "    }\n",
              "</style>\n",
              "<table border=\"1\" class=\"dataframe\">\n",
              "  <thead>\n",
              "    <tr style=\"text-align: right;\">\n",
              "      <th></th>\n",
              "      <th>x</th>\n",
              "      <th>y</th>\n",
              "      <th>z</th>\n",
              "    </tr>\n",
              "  </thead>\n",
              "  <tbody>\n",
              "    <tr>\n",
              "      <th>0</th>\n",
              "      <td>0</td>\n",
              "      <td>6.097381</td>\n",
              "      <td>True</td>\n",
              "    </tr>\n",
              "    <tr>\n",
              "      <th>1</th>\n",
              "      <td>1</td>\n",
              "      <td>5.804087</td>\n",
              "      <td>False</td>\n",
              "    </tr>\n",
              "    <tr>\n",
              "      <th>2</th>\n",
              "      <td>2</td>\n",
              "      <td>2.128627</td>\n",
              "      <td>True</td>\n",
              "    </tr>\n",
              "    <tr>\n",
              "      <th>3</th>\n",
              "      <td>3</td>\n",
              "      <td>-5.397522</td>\n",
              "      <td>False</td>\n",
              "    </tr>\n",
              "    <tr>\n",
              "      <th>4</th>\n",
              "      <td>4</td>\n",
              "      <td>-8.906184</td>\n",
              "      <td>True</td>\n",
              "    </tr>\n",
              "    <tr>\n",
              "      <th>...</th>\n",
              "      <td>...</td>\n",
              "      <td>...</td>\n",
              "      <td>...</td>\n",
              "    </tr>\n",
              "    <tr>\n",
              "      <th>145</th>\n",
              "      <td>145</td>\n",
              "      <td>37.250409</td>\n",
              "      <td>True</td>\n",
              "    </tr>\n",
              "    <tr>\n",
              "      <th>146</th>\n",
              "      <td>146</td>\n",
              "      <td>41.992011</td>\n",
              "      <td>False</td>\n",
              "    </tr>\n",
              "    <tr>\n",
              "      <th>147</th>\n",
              "      <td>147</td>\n",
              "      <td>41.446823</td>\n",
              "      <td>False</td>\n",
              "    </tr>\n",
              "    <tr>\n",
              "      <th>148</th>\n",
              "      <td>148</td>\n",
              "      <td>40.442135</td>\n",
              "      <td>True</td>\n",
              "    </tr>\n",
              "    <tr>\n",
              "      <th>149</th>\n",
              "      <td>149</td>\n",
              "      <td>42.551693</td>\n",
              "      <td>False</td>\n",
              "    </tr>\n",
              "  </tbody>\n",
              "</table>\n",
              "<p>150 rows × 3 columns</p>\n",
              "</div>\n",
              "      <button class=\"colab-df-convert\" onclick=\"convertToInteractive('df-b6473a72-1c02-4808-9900-b0bb2bd223c8')\"\n",
              "              title=\"Convert this dataframe to an interactive table.\"\n",
              "              style=\"display:none;\">\n",
              "        \n",
              "  <svg xmlns=\"http://www.w3.org/2000/svg\" height=\"24px\"viewBox=\"0 0 24 24\"\n",
              "       width=\"24px\">\n",
              "    <path d=\"M0 0h24v24H0V0z\" fill=\"none\"/>\n",
              "    <path d=\"M18.56 5.44l.94 2.06.94-2.06 2.06-.94-2.06-.94-.94-2.06-.94 2.06-2.06.94zm-11 1L8.5 8.5l.94-2.06 2.06-.94-2.06-.94L8.5 2.5l-.94 2.06-2.06.94zm10 10l.94 2.06.94-2.06 2.06-.94-2.06-.94-.94-2.06-.94 2.06-2.06.94z\"/><path d=\"M17.41 7.96l-1.37-1.37c-.4-.4-.92-.59-1.43-.59-.52 0-1.04.2-1.43.59L10.3 9.45l-7.72 7.72c-.78.78-.78 2.05 0 2.83L4 21.41c.39.39.9.59 1.41.59.51 0 1.02-.2 1.41-.59l7.78-7.78 2.81-2.81c.8-.78.8-2.07 0-2.86zM5.41 20L4 18.59l7.72-7.72 1.47 1.35L5.41 20z\"/>\n",
              "  </svg>\n",
              "      </button>\n",
              "      \n",
              "  <style>\n",
              "    .colab-df-container {\n",
              "      display:flex;\n",
              "      flex-wrap:wrap;\n",
              "      gap: 12px;\n",
              "    }\n",
              "\n",
              "    .colab-df-convert {\n",
              "      background-color: #E8F0FE;\n",
              "      border: none;\n",
              "      border-radius: 50%;\n",
              "      cursor: pointer;\n",
              "      display: none;\n",
              "      fill: #1967D2;\n",
              "      height: 32px;\n",
              "      padding: 0 0 0 0;\n",
              "      width: 32px;\n",
              "    }\n",
              "\n",
              "    .colab-df-convert:hover {\n",
              "      background-color: #E2EBFA;\n",
              "      box-shadow: 0px 1px 2px rgba(60, 64, 67, 0.3), 0px 1px 3px 1px rgba(60, 64, 67, 0.15);\n",
              "      fill: #174EA6;\n",
              "    }\n",
              "\n",
              "    [theme=dark] .colab-df-convert {\n",
              "      background-color: #3B4455;\n",
              "      fill: #D2E3FC;\n",
              "    }\n",
              "\n",
              "    [theme=dark] .colab-df-convert:hover {\n",
              "      background-color: #434B5C;\n",
              "      box-shadow: 0px 1px 3px 1px rgba(0, 0, 0, 0.15);\n",
              "      filter: drop-shadow(0px 1px 2px rgba(0, 0, 0, 0.3));\n",
              "      fill: #FFFFFF;\n",
              "    }\n",
              "  </style>\n",
              "\n",
              "      <script>\n",
              "        const buttonEl =\n",
              "          document.querySelector('#df-b6473a72-1c02-4808-9900-b0bb2bd223c8 button.colab-df-convert');\n",
              "        buttonEl.style.display =\n",
              "          google.colab.kernel.accessAllowed ? 'block' : 'none';\n",
              "\n",
              "        async function convertToInteractive(key) {\n",
              "          const element = document.querySelector('#df-b6473a72-1c02-4808-9900-b0bb2bd223c8');\n",
              "          const dataTable =\n",
              "            await google.colab.kernel.invokeFunction('convertToInteractive',\n",
              "                                                     [key], {});\n",
              "          if (!dataTable) return;\n",
              "\n",
              "          const docLinkHtml = 'Like what you see? Visit the ' +\n",
              "            '<a target=\"_blank\" href=https://colab.research.google.com/notebooks/data_table.ipynb>data table notebook</a>'\n",
              "            + ' to learn more about interactive tables.';\n",
              "          element.innerHTML = '';\n",
              "          dataTable['output_type'] = 'display_data';\n",
              "          await google.colab.output.renderOutput(dataTable, element);\n",
              "          const docLink = document.createElement('div');\n",
              "          docLink.innerHTML = docLinkHtml;\n",
              "          element.appendChild(docLink);\n",
              "        }\n",
              "      </script>\n",
              "    </div>\n",
              "  </div>\n",
              "  "
            ]
          },
          "metadata": {},
          "execution_count": 32
        }
      ]
    },
    {
      "cell_type": "code",
      "metadata": {
        "id": "B81PAc5lO6iq",
        "colab": {
          "base_uri": "https://localhost:8080/",
          "height": 369
        },
        "outputId": "efdf17b5-9e60-4b2a-ca51-60c0d11d0d8c"
      },
      "source": [
        "# Do a scatter plot, with height 4, shading the points based on whether z is True\n",
        "sb.lmplot('x', 'y', data=sample_df, height=4, aspect=1.5, fit_reg=False, hue=\"z\")"
      ],
      "execution_count": 33,
      "outputs": [
        {
          "output_type": "stream",
          "name": "stderr",
          "text": [
            "/usr/local/lib/python3.8/dist-packages/seaborn/_decorators.py:36: FutureWarning: Pass the following variables as keyword args: x, y. From version 0.12, the only valid positional argument will be `data`, and passing other arguments without an explicit keyword will result in an error or misinterpretation.\n",
            "  warnings.warn(\n"
          ]
        },
        {
          "output_type": "execute_result",
          "data": {
            "text/plain": [
              "<seaborn.axisgrid.FacetGrid at 0x7f54ffa818b0>"
            ]
          },
          "metadata": {},
          "execution_count": 33
        },
        {
          "output_type": "display_data",
          "data": {
            "text/plain": [
              "<Figure size 493.25x288 with 1 Axes>"
            ],
            "image/png": "[encoded data removed]"
          },
          "metadata": {
            "needs_background": "light"
          }
        }
      ]
    },
    {
      "cell_type": "code",
      "metadata": {
        "id": "2TL0v491PIs8",
        "colab": {
          "base_uri": "https://localhost:8080/",
          "height": 369
        },
        "outputId": "d27af2c9-7145-4372-8bc6-d4640bf15c93"
      },
      "source": [
        "# Do a scatter plot, with height 4, shading the points based on whether z is True\n",
        "sb.lmplot('x', 'y', data=sample_df, height=4, aspect=1.5, fit_reg=True, hue=\"z\")"
      ],
      "execution_count": 34,
      "outputs": [
        {
          "output_type": "stream",
          "name": "stderr",
          "text": [
            "/usr/local/lib/python3.8/dist-packages/seaborn/_decorators.py:36: FutureWarning: Pass the following variables as keyword args: x, y. From version 0.12, the only valid positional argument will be `data`, and passing other arguments without an explicit keyword will result in an error or misinterpretation.\n",
            "  warnings.warn(\n"
          ]
        },
        {
          "output_type": "execute_result",
          "data": {
            "text/plain": [
              "<seaborn.axisgrid.FacetGrid at 0x7f5503907730>"
            ]
          },
          "metadata": {},
          "execution_count": 34
        },
        {
          "output_type": "display_data",
          "data": {
            "text/plain": [
              "<Figure size 493.25x288 with 1 Axes>"
            ],
            "image/png": "[encoded data removed]"
          },
          "metadata": {
            "needs_background": "light"
          }
        }
      ]
    },
    {
      "cell_type": "code",
      "metadata": {
        "id": "5jrHsmGiS9--",
        "colab": {
          "base_uri": "https://localhost:8080/",
          "height": 424
        },
        "outputId": "732034cf-a155-4b38-db83-7d6ff133339d"
      },
      "source": [
        "# Sample dataset with people + tips\n",
        "tips_dataset = sb.load_dataset('tips')\n",
        "tips_dataset"
      ],
      "execution_count": 35,
      "outputs": [
        {
          "output_type": "execute_result",
          "data": {
            "text/plain": [
              "     total_bill   tip     sex smoker   day    time  size\n",
              "0         16.99  1.01  Female     No   Sun  Dinner     2\n",
              "1         10.34  1.66    Male     No   Sun  Dinner     3\n",
              "2         21.01  3.50    Male     No   Sun  Dinner     3\n",
              "3         23.68  3.31    Male     No   Sun  Dinner     2\n",
              "4         24.59  3.61  Female     No   Sun  Dinner     4\n",
              "..          ...   ...     ...    ...   ...     ...   ...\n",
              "239       29.03  5.92    Male     No   Sat  Dinner     3\n",
              "240       27.18  2.00  Female    Yes   Sat  Dinner     2\n",
              "241       22.67  2.00    Male    Yes   Sat  Dinner     2\n",
              "242       17.82  1.75    Male     No   Sat  Dinner     2\n",
              "243       18.78  3.00  Female     No  Thur  Dinner     2\n",
              "\n",
              "[244 rows x 7 columns]"
            ],
            "text/html": [
              "\n",
              "  <div id=\"df-da820c23-5918-426b-8aac-8fa9a8eba577\">\n",
              "    <div class=\"colab-df-container\">\n",
              "      <div>\n",
              "<style scoped>\n",
              "    .dataframe tbody tr th:only-of-type {\n",
              "        vertical-align: middle;\n",
              "    }\n",
              "\n",
              "    .dataframe tbody tr th {\n",
              "        vertical-align: top;\n",
              "    }\n",
              "\n",
              "    .dataframe thead th {\n",
              "        text-align: right;\n",
              "    }\n",
              "</style>\n",
              "<table border=\"1\" class=\"dataframe\">\n",
              "  <thead>\n",
              "    <tr style=\"text-align: right;\">\n",
              "      <th></th>\n",
              "      <th>total_bill</th>\n",
              "      <th>tip</th>\n",
              "      <th>sex</th>\n",
              "      <th>smoker</th>\n",
              "      <th>day</th>\n",
              "      <th>time</th>\n",
              "      <th>size</th>\n",
              "    </tr>\n",
              "  </thead>\n",
              "  <tbody>\n",
              "    <tr>\n",
              "      <th>0</th>\n",
              "      <td>16.99</td>\n",
              "      <td>1.01</td>\n",
              "      <td>Female</td>\n",
              "      <td>No</td>\n",
              "      <td>Sun</td>\n",
              "      <td>Dinner</td>\n",
              "      <td>2</td>\n",
              "    </tr>\n",
              "    <tr>\n",
              "      <th>1</th>\n",
              "      <td>10.34</td>\n",
              "      <td>1.66</td>\n",
              "      <td>Male</td>\n",
              "      <td>No</td>\n",
              "      <td>Sun</td>\n",
              "      <td>Dinner</td>\n",
              "      <td>3</td>\n",
              "    </tr>\n",
              "    <tr>\n",
              "      <th>2</th>\n",
              "      <td>21.01</td>\n",
              "      <td>3.50</td>\n",
              "      <td>Male</td>\n",
              "      <td>No</td>\n",
              "      <td>Sun</td>\n",
              "      <td>Dinner</td>\n",
              "      <td>3</td>\n",
              "    </tr>\n",
              "    <tr>\n",
              "      <th>3</th>\n",
              "      <td>23.68</td>\n",
              "      <td>3.31</td>\n",
              "      <td>Male</td>\n",
              "      <td>No</td>\n",
              "      <td>Sun</td>\n",
              "      <td>Dinner</td>\n",
              "      <td>2</td>\n",
              "    </tr>\n",
              "    <tr>\n",
              "      <th>4</th>\n",
              "      <td>24.59</td>\n",
              "      <td>3.61</td>\n",
              "      <td>Female</td>\n",
              "      <td>No</td>\n",
              "      <td>Sun</td>\n",
              "      <td>Dinner</td>\n",
              "      <td>4</td>\n",
              "    </tr>\n",
              "    <tr>\n",
              "      <th>...</th>\n",
              "      <td>...</td>\n",
              "      <td>...</td>\n",
              "      <td>...</td>\n",
              "      <td>...</td>\n",
              "      <td>...</td>\n",
              "      <td>...</td>\n",
              "      <td>...</td>\n",
              "    </tr>\n",
              "    <tr>\n",
              "      <th>239</th>\n",
              "      <td>29.03</td>\n",
              "      <td>5.92</td>\n",
              "      <td>Male</td>\n",
              "      <td>No</td>\n",
              "      <td>Sat</td>\n",
              "      <td>Dinner</td>\n",
              "      <td>3</td>\n",
              "    </tr>\n",
              "    <tr>\n",
              "      <th>240</th>\n",
              "      <td>27.18</td>\n",
              "      <td>2.00</td>\n",
              "      <td>Female</td>\n",
              "      <td>Yes</td>\n",
              "      <td>Sat</td>\n",
              "      <td>Dinner</td>\n",
              "      <td>2</td>\n",
              "    </tr>\n",
              "    <tr>\n",
              "      <th>241</th>\n",
              "      <td>22.67</td>\n",
              "      <td>2.00</td>\n",
              "      <td>Male</td>\n",
              "      <td>Yes</td>\n",
              "      <td>Sat</td>\n",
              "      <td>Dinner</td>\n",
              "      <td>2</td>\n",
              "    </tr>\n",
              "    <tr>\n",
              "      <th>242</th>\n",
              "      <td>17.82</td>\n",
              "      <td>1.75</td>\n",
              "      <td>Male</td>\n",
              "      <td>No</td>\n",
              "      <td>Sat</td>\n",
              "      <td>Dinner</td>\n",
              "      <td>2</td>\n",
              "    </tr>\n",
              "    <tr>\n",
              "      <th>243</th>\n",
              "      <td>18.78</td>\n",
              "      <td>3.00</td>\n",
              "      <td>Female</td>\n",
              "      <td>No</td>\n",
              "      <td>Thur</td>\n",
              "      <td>Dinner</td>\n",
              "      <td>2</td>\n",
              "    </tr>\n",
              "  </tbody>\n",
              "</table>\n",
              "<p>244 rows × 7 columns</p>\n",
              "</div>\n",
              "      <button class=\"colab-df-convert\" onclick=\"convertToInteractive('df-da820c23-5918-426b-8aac-8fa9a8eba577')\"\n",
              "              title=\"Convert this dataframe to an interactive table.\"\n",
              "              style=\"display:none;\">\n",
              "        \n",
              "  <svg xmlns=\"http://www.w3.org/2000/svg\" height=\"24px\"viewBox=\"0 0 24 24\"\n",
              "       width=\"24px\">\n",
              "    <path d=\"M0 0h24v24H0V0z\" fill=\"none\"/>\n",
              "    <path d=\"M18.56 5.44l.94 2.06.94-2.06 2.06-.94-2.06-.94-.94-2.06-.94 2.06-2.06.94zm-11 1L8.5 8.5l.94-2.06 2.06-.94-2.06-.94L8.5 2.5l-.94 2.06-2.06.94zm10 10l.94 2.06.94-2.06 2.06-.94-2.06-.94-.94-2.06-.94 2.06-2.06.94z\"/><path d=\"M17.41 7.96l-1.37-1.37c-.4-.4-.92-.59-1.43-.59-.52 0-1.04.2-1.43.59L10.3 9.45l-7.72 7.72c-.78.78-.78 2.05 0 2.83L4 21.41c.39.39.9.59 1.41.59.51 0 1.02-.2 1.41-.59l7.78-7.78 2.81-2.81c.8-.78.8-2.07 0-2.86zM5.41 20L4 18.59l7.72-7.72 1.47 1.35L5.41 20z\"/>\n",
              "  </svg>\n",
              "      </button>\n",
              "      \n",
              "  <style>\n",
              "    .colab-df-container {\n",
              "      display:flex;\n",
              "      flex-wrap:wrap;\n",
              "      gap: 12px;\n",
              "    }\n",
              "\n",
              "    .colab-df-convert {\n",
              "      background-color: #E8F0FE;\n",
              "      border: none;\n",
              "      border-radius: 50%;\n",
              "      cursor: pointer;\n",
              "      display: none;\n",
              "      fill: #1967D2;\n",
              "      height: 32px;\n",
              "      padding: 0 0 0 0;\n",
              "      width: 32px;\n",
              "    }\n",
              "\n",
              "    .colab-df-convert:hover {\n",
              "      background-color: #E2EBFA;\n",
              "      box-shadow: 0px 1px 2px rgba(60, 64, 67, 0.3), 0px 1px 3px 1px rgba(60, 64, 67, 0.15);\n",
              "      fill: #174EA6;\n",
              "    }\n",
              "\n",
              "    [theme=dark] .colab-df-convert {\n",
              "      background-color: #3B4455;\n",
              "      fill: #D2E3FC;\n",
              "    }\n",
              "\n",
              "    [theme=dark] .colab-df-convert:hover {\n",
              "      background-color: #434B5C;\n",
              "      box-shadow: 0px 1px 3px 1px rgba(0, 0, 0, 0.15);\n",
              "      filter: drop-shadow(0px 1px 2px rgba(0, 0, 0, 0.3));\n",
              "      fill: #FFFFFF;\n",
              "    }\n",
              "  </style>\n",
              "\n",
              "      <script>\n",
              "        const buttonEl =\n",
              "          document.querySelector('#df-da820c23-5918-426b-8aac-8fa9a8eba577 button.colab-df-convert');\n",
              "        buttonEl.style.display =\n",
              "          google.colab.kernel.accessAllowed ? 'block' : 'none';\n",
              "\n",
              "        async function convertToInteractive(key) {\n",
              "          const element = document.querySelector('#df-da820c23-5918-426b-8aac-8fa9a8eba577');\n",
              "          const dataTable =\n",
              "            await google.colab.kernel.invokeFunction('convertToInteractive',\n",
              "                                                     [key], {});\n",
              "          if (!dataTable) return;\n",
              "\n",
              "          const docLinkHtml = 'Like what you see? Visit the ' +\n",
              "            '<a target=\"_blank\" href=https://colab.research.google.com/notebooks/data_table.ipynb>data table notebook</a>'\n",
              "            + ' to learn more about interactive tables.';\n",
              "          element.innerHTML = '';\n",
              "          dataTable['output_type'] = 'display_data';\n",
              "          await google.colab.output.renderOutput(dataTable, element);\n",
              "          const docLink = document.createElement('div');\n",
              "          docLink.innerHTML = docLinkHtml;\n",
              "          element.appendChild(docLink);\n",
              "        }\n",
              "      </script>\n",
              "    </div>\n",
              "  </div>\n",
              "  "
            ]
          },
          "metadata": {},
          "execution_count": 35
        }
      ]
    },
    {
      "cell_type": "code",
      "metadata": {
        "id": "1VH5IkxuTS-k",
        "colab": {
          "base_uri": "https://localhost:8080/",
          "height": 314
        },
        "outputId": "7ba309f3-dc69-4dd4-8bb3-ed7339470ecc"
      },
      "source": [
        "# Sample dataset with people + tips\n",
        "tips_dataset = sb.load_dataset('tips')\n",
        "\n",
        "# The question: how do people tip on different days of the week?\n",
        "tips_dataset['tip_pct'] = tips_dataset.apply(lambda r: r['tip'] / r['total_bill'], axis=1)\n",
        "\n",
        "# Creates a different graph for each value of 'time' (lunch vs dinner)\n",
        "g = sb.FacetGrid(tips_dataset, col='time', hue='day', height=4, aspect=1)\n",
        "\n",
        "# Within each graph, plots total bill vs tip\n",
        "g.map(plt.scatter, 'total_bill', 'tip_pct')\n",
        "g.add_legend()"
      ],
      "execution_count": 39,
      "outputs": [
        {
          "output_type": "execute_result",
          "data": {
            "text/plain": [
              "<seaborn.axisgrid.FacetGrid at 0x7f54f8654190>"
            ]
          },
          "metadata": {},
          "execution_count": 39
        },
        {
          "output_type": "display_data",
          "data": {
            "text/plain": [
              "<Figure size 634.875x288 with 2 Axes>"
            ],
            "image/png": "[encoded data removed]"
          },
          "metadata": {
            "needs_background": "light"
          }
        }
      ]
    },
    {
      "cell_type": "code",
      "metadata": {
        "id": "4S5PgRqxeAYK",
        "colab": {
          "base_uri": "https://localhost:8080/",
          "height": 314
        },
        "outputId": "9b1b6ced-d32b-447c-e0d6-bfa69b3d51df"
      },
      "source": [
        "# Creates a different graph for each value of 'time' (lunch vs dinner)\n",
        "g = sb.FacetGrid(tips_dataset, col='time', hue='day', height=4, aspect=1)\n",
        "\n",
        "# Within each graph, plot total bill vs tip\n",
        "g.map(plt.scatter, 'total_bill', 'size')\n",
        "g.add_legend()"
      ],
      "execution_count": 40,
      "outputs": [
        {
          "output_type": "execute_result",
          "data": {
            "text/plain": [
              "<seaborn.axisgrid.FacetGrid at 0x7f54f7a4abb0>"
            ]
          },
          "metadata": {},
          "execution_count": 40
        },
        {
          "output_type": "display_data",
          "data": {
            "text/plain": [
              "<Figure size 634.875x288 with 2 Axes>"
            ],
            "image/png": "[encoded data removed]"
          },
          "metadata": {
            "needs_background": "light"
          }
        }
      ]
    },
    {
      "cell_type": "code",
      "metadata": {
        "id": "MdlCZlwtTtdh",
        "colab": {
          "base_uri": "https://localhost:8080/",
          "height": 567
        },
        "outputId": "ca140c23-a0d5-4208-c126-e1460626e695"
      },
      "source": [
        "# Let's look at how different factors are influenced by the size\n",
        "# of the party\n",
        "sb.pairplot(data=tips_dataset,kind='scatter', hue='size')"
      ],
      "execution_count": 41,
      "outputs": [
        {
          "output_type": "execute_result",
          "data": {
            "text/plain": [
              "<seaborn.axisgrid.PairGrid at 0x7f54f78edd60>"
            ]
          },
          "metadata": {},
          "execution_count": 41
        },
        {
          "output_type": "display_data",
          "data": {
            "text/plain": [
              "<Figure size 582.375x540 with 12 Axes>"
            ],
            "image/png": "[encoded data removed]"
          },
          "metadata": {
            "needs_background": "light"
          }
        }
      ]
    },
    {
      "cell_type": "code",
      "metadata": {
        "id": "ohOWqZ2FVdZJ",
        "colab": {
          "base_uri": "https://localhost:8080/",
          "height": 363
        },
        "outputId": "c3b79076-604e-4e89-b5e7-17dbbb63e840"
      },
      "source": [
        "# Create histogram bins of size 5\n",
        "bins = np.arange(tips_dataset.total_bill.min(), tips_dataset.total_bill.max(), 5)\n",
        "\n",
        "# Cut the bins, and group by size\n",
        "by_bill_binned = tips_dataset.groupby([pd.cut(tips_dataset.total_bill, bins, precision=0), \n",
        "                                       'size']).size().unstack().fillna(0)\n",
        "\n",
        "by_bill_binned"
      ],
      "execution_count": 42,
      "outputs": [
        {
          "output_type": "execute_result",
          "data": {
            "text/plain": [
              "size          1   2   3   4  5  6\n",
              "total_bill                       \n",
              "(3.0, 8.0]    1   5   0   0  0  0\n",
              "(8.0, 13.0]   2  46   2   0  0  0\n",
              "(13.0, 18.0]  0  57  12   2  0  0\n",
              "(18.0, 23.0]  0  29   9   8  1  0\n",
              "(23.0, 28.0]  0  11   5  11  0  1\n",
              "(28.0, 33.0]  0   6   5   5  3  1\n",
              "(33.0, 38.0]  0   1   2   5  0  1\n",
              "(38.0, 43.0]  0   1   0   3  1  0\n",
              "(43.0, 48.0]  0   0   2   1  0  0"
            ],
            "text/html": [
              "\n",
              "  <div id=\"df-1afcb91c-1c55-49ae-90af-30bd5fa94516\">\n",
              "    <div class=\"colab-df-container\">\n",
              "      <div>\n",
              "<style scoped>\n",
              "    .dataframe tbody tr th:only-of-type {\n",
              "        vertical-align: middle;\n",
              "    }\n",
              "\n",
              "    .dataframe tbody tr th {\n",
              "        vertical-align: top;\n",
              "    }\n",
              "\n",
              "    .dataframe thead th {\n",
              "        text-align: right;\n",
              "    }\n",
              "</style>\n",
              "<table border=\"1\" class=\"dataframe\">\n",
              "  <thead>\n",
              "    <tr style=\"text-align: right;\">\n",
              "      <th>size</th>\n",
              "      <th>1</th>\n",
              "      <th>2</th>\n",
              "      <th>3</th>\n",
              "      <th>4</th>\n",
              "      <th>5</th>\n",
              "      <th>6</th>\n",
              "    </tr>\n",
              "    <tr>\n",
              "      <th>total_bill</th>\n",
              "      <th></th>\n",
              "      <th></th>\n",
              "      <th></th>\n",
              "      <th></th>\n",
              "      <th></th>\n",
              "      <th></th>\n",
              "    </tr>\n",
              "  </thead>\n",
              "  <tbody>\n",
              "    <tr>\n",
              "      <th>(3.0, 8.0]</th>\n",
              "      <td>1</td>\n",
              "      <td>5</td>\n",
              "      <td>0</td>\n",
              "      <td>0</td>\n",
              "      <td>0</td>\n",
              "      <td>0</td>\n",
              "    </tr>\n",
              "    <tr>\n",
              "      <th>(8.0, 13.0]</th>\n",
              "      <td>2</td>\n",
              "      <td>46</td>\n",
              "      <td>2</td>\n",
              "      <td>0</td>\n",
              "      <td>0</td>\n",
              "      <td>0</td>\n",
              "    </tr>\n",
              "    <tr>\n",
              "      <th>(13.0, 18.0]</th>\n",
              "      <td>0</td>\n",
              "      <td>57</td>\n",
              "      <td>12</td>\n",
              "      <td>2</td>\n",
              "      <td>0</td>\n",
              "      <td>0</td>\n",
              "    </tr>\n",
              "    <tr>\n",
              "      <th>(18.0, 23.0]</th>\n",
              "      <td>0</td>\n",
              "      <td>29</td>\n",
              "      <td>9</td>\n",
              "      <td>8</td>\n",
              "      <td>1</td>\n",
              "      <td>0</td>\n",
              "    </tr>\n",
              "    <tr>\n",
              "      <th>(23.0, 28.0]</th>\n",
              "      <td>0</td>\n",
              "      <td>11</td>\n",
              "      <td>5</td>\n",
              "      <td>11</td>\n",
              "      <td>0</td>\n",
              "      <td>1</td>\n",
              "    </tr>\n",
              "    <tr>\n",
              "      <th>(28.0, 33.0]</th>\n",
              "      <td>0</td>\n",
              "      <td>6</td>\n",
              "      <td>5</td>\n",
              "      <td>5</td>\n",
              "      <td>3</td>\n",
              "      <td>1</td>\n",
              "    </tr>\n",
              "    <tr>\n",
              "      <th>(33.0, 38.0]</th>\n",
              "      <td>0</td>\n",
              "      <td>1</td>\n",
              "      <td>2</td>\n",
              "      <td>5</td>\n",
              "      <td>0</td>\n",
              "      <td>1</td>\n",
              "    </tr>\n",
              "    <tr>\n",
              "      <th>(38.0, 43.0]</th>\n",
              "      <td>0</td>\n",
              "      <td>1</td>\n",
              "      <td>0</td>\n",
              "      <td>3</td>\n",
              "      <td>1</td>\n",
              "      <td>0</td>\n",
              "    </tr>\n",
              "    <tr>\n",
              "      <th>(43.0, 48.0]</th>\n",
              "      <td>0</td>\n",
              "      <td>0</td>\n",
              "      <td>2</td>\n",
              "      <td>1</td>\n",
              "      <td>0</td>\n",
              "      <td>0</td>\n",
              "    </tr>\n",
              "  </tbody>\n",
              "</table>\n",
              "</div>\n",
              "      <button class=\"colab-df-convert\" onclick=\"convertToInteractive('df-1afcb91c-1c55-49ae-90af-30bd5fa94516')\"\n",
              "              title=\"Convert this dataframe to an interactive table.\"\n",
              "              style=\"display:none;\">\n",
              "        \n",
              "  <svg xmlns=\"http://www.w3.org/2000/svg\" height=\"24px\"viewBox=\"0 0 24 24\"\n",
              "       width=\"24px\">\n",
              "    <path d=\"M0 0h24v24H0V0z\" fill=\"none\"/>\n",
              "    <path d=\"M18.56 5.44l.94 2.06.94-2.06 2.06-.94-2.06-.94-.94-2.06-.94 2.06-2.06.94zm-11 1L8.5 8.5l.94-2.06 2.06-.94-2.06-.94L8.5 2.5l-.94 2.06-2.06.94zm10 10l.94 2.06.94-2.06 2.06-.94-2.06-.94-.94-2.06-.94 2.06-2.06.94z\"/><path d=\"M17.41 7.96l-1.37-1.37c-.4-.4-.92-.59-1.43-.59-.52 0-1.04.2-1.43.59L10.3 9.45l-7.72 7.72c-.78.78-.78 2.05 0 2.83L4 21.41c.39.39.9.59 1.41.59.51 0 1.02-.2 1.41-.59l7.78-7.78 2.81-2.81c.8-.78.8-2.07 0-2.86zM5.41 20L4 18.59l7.72-7.72 1.47 1.35L5.41 20z\"/>\n",
              "  </svg>\n",
              "      </button>\n",
              "      \n",
              "  <style>\n",
              "    .colab-df-container {\n",
              "      display:flex;\n",
              "      flex-wrap:wrap;\n",
              "      gap: 12px;\n",
              "    }\n",
              "\n",
              "    .colab-df-convert {\n",
              "      background-color: #E8F0FE;\n",
              "      border: none;\n",
              "      border-radius: 50%;\n",
              "      cursor: pointer;\n",
              "      display: none;\n",
              "      fill: #1967D2;\n",
              "      height: 32px;\n",
              "      padding: 0 0 0 0;\n",
              "      width: 32px;\n",
              "    }\n",
              "\n",
              "    .colab-df-convert:hover {\n",
              "      background-color: #E2EBFA;\n",
              "      box-shadow: 0px 1px 2px rgba(60, 64, 67, 0.3), 0px 1px 3px 1px rgba(60, 64, 67, 0.15);\n",
              "      fill: #174EA6;\n",
              "    }\n",
              "\n",
              "    [theme=dark] .colab-df-convert {\n",
              "      background-color: #3B4455;\n",
              "      fill: #D2E3FC;\n",
              "    }\n",
              "\n",
              "    [theme=dark] .colab-df-convert:hover {\n",
              "      background-color: #434B5C;\n",
              "      box-shadow: 0px 1px 3px 1px rgba(0, 0, 0, 0.15);\n",
              "      filter: drop-shadow(0px 1px 2px rgba(0, 0, 0, 0.3));\n",
              "      fill: #FFFFFF;\n",
              "    }\n",
              "  </style>\n",
              "\n",
              "      <script>\n",
              "        const buttonEl =\n",
              "          document.querySelector('#df-1afcb91c-1c55-49ae-90af-30bd5fa94516 button.colab-df-convert');\n",
              "        buttonEl.style.display =\n",
              "          google.colab.kernel.accessAllowed ? 'block' : 'none';\n",
              "\n",
              "        async function convertToInteractive(key) {\n",
              "          const element = document.querySelector('#df-1afcb91c-1c55-49ae-90af-30bd5fa94516');\n",
              "          const dataTable =\n",
              "            await google.colab.kernel.invokeFunction('convertToInteractive',\n",
              "                                                     [key], {});\n",
              "          if (!dataTable) return;\n",
              "\n",
              "          const docLinkHtml = 'Like what you see? Visit the ' +\n",
              "            '<a target=\"_blank\" href=https://colab.research.google.com/notebooks/data_table.ipynb>data table notebook</a>'\n",
              "            + ' to learn more about interactive tables.';\n",
              "          element.innerHTML = '';\n",
              "          dataTable['output_type'] = 'display_data';\n",
              "          await google.colab.output.renderOutput(dataTable, element);\n",
              "          const docLink = document.createElement('div');\n",
              "          docLink.innerHTML = docLinkHtml;\n",
              "          element.appendChild(docLink);\n",
              "        }\n",
              "      </script>\n",
              "    </div>\n",
              "  </div>\n",
              "  "
            ]
          },
          "metadata": {},
          "execution_count": 42
        }
      ]
    },
    {
      "cell_type": "code",
      "metadata": {
        "id": "zlo6f_kQYpgj",
        "colab": {
          "base_uri": "https://localhost:8080/",
          "height": 302
        },
        "outputId": "148742b0-09bb-4801-ce60-71e483d69174"
      },
      "source": [
        "sb.set(font_scale=1.0)\n",
        "\n",
        "sb.heatmap(by_bill_binned[by_bill_binned.sum(axis=1) > 3])"
      ],
      "execution_count": 43,
      "outputs": [
        {
          "output_type": "execute_result",
          "data": {
            "text/plain": [
              "<AxesSubplot:xlabel='size', ylabel='total_bill'>"
            ]
          },
          "metadata": {},
          "execution_count": 43
        },
        {
          "output_type": "display_data",
          "data": {
            "text/plain": [
              "<Figure size 432x288 with 2 Axes>"
            ],
            "image/png": "[encoded data removed]"
          },
          "metadata": {}
        }
      ]
    },
    {
      "cell_type": "code",
      "metadata": {
        "id": "ZS7g8BgEY5_C",
        "colab": {
          "base_uri": "https://localhost:8080/",
          "height": 357
        },
        "outputId": "3b517129-8e0b-499e-9686-dce3a207b2d8"
      },
      "source": [
        "sb.boxplot(tips_dataset.time, tips_dataset.total_bill)"
      ],
      "execution_count": 44,
      "outputs": [
        {
          "output_type": "stream",
          "name": "stderr",
          "text": [
            "/usr/local/lib/python3.8/dist-packages/seaborn/_decorators.py:36: FutureWarning: Pass the following variables as keyword args: x, y. From version 0.12, the only valid positional argument will be `data`, and passing other arguments without an explicit keyword will result in an error or misinterpretation.\n",
            "  warnings.warn(\n"
          ]
        },
        {
          "output_type": "execute_result",
          "data": {
            "text/plain": [
              "<AxesSubplot:xlabel='time', ylabel='total_bill'>"
            ]
          },
          "metadata": {},
          "execution_count": 44
        },
        {
          "output_type": "display_data",
          "data": {
            "text/plain": [
              "<Figure size 432x288 with 1 Axes>"
            ],
            "image/png": "[encoded data removed]"
          },
          "metadata": {}
        }
      ]
    },
    {
      "cell_type": "code",
      "metadata": {
        "id": "zDWqYTaRas9-",
        "colab": {
          "base_uri": "https://localhost:8080/"
        },
        "outputId": "684aef1d-460d-40c6-d641-ce1742aaa42e"
      },
      "source": [
        "tips_dataset.total_bill.sort_values()"
      ],
      "execution_count": 45,
      "outputs": [
        {
          "output_type": "execute_result",
          "data": {
            "text/plain": [
              "67      3.07\n",
              "92      5.75\n",
              "111     7.25\n",
              "172     7.25\n",
              "149     7.51\n",
              "       ...  \n",
              "182    45.35\n",
              "156    48.17\n",
              "59     48.27\n",
              "212    48.33\n",
              "170    50.81\n",
              "Name: total_bill, Length: 244, dtype: float64"
            ]
          },
          "metadata": {},
          "execution_count": 45
        }
      ]
    },
    {
      "cell_type": "code",
      "metadata": {
        "id": "Q-unY3OV9cwa"
      },
      "source": [],
      "execution_count": null,
      "outputs": []
    }
  ]
}