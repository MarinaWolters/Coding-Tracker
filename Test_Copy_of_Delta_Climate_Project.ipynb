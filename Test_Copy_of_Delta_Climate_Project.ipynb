{
  "nbformat": 4,
  "nbformat_minor": 0,
  "metadata": {
    "colab": {
      "provenance": [],
      "include_colab_link": true
    },
    "kernelspec": {
      "name": "python3",
      "display_name": "Python 3"
    },
    "language_info": {
      "name": "python"
    }
  },
  "cells": [
    {
      "cell_type": "markdown",
      "metadata": {
        "id": "view-in-github",
        "colab_type": "text"
      },
      "source": [
        "<a href=\"https://colab.research.google.com/github/MarinaWolters/Coding-Tracker/blob/master/Test_Copy_of_Delta_Climate_Project.ipynb\" target=\"_parent\"><img src=\"https://colab.research.google.com/assets/colab-badge.svg\" alt=\"Open In Colab\"/></a>"
      ]
    },
    {
      "cell_type": "markdown",
      "source": [
        "#**Delta Climate: Project Introduction**\n",
        "\n",
        "Hi there! Welcome to Gail, Rekha, and Marina’s CIS-5450 Final Project.\n",
        "\n",
        "Throughout this project we study the trend in surface temperature of land and ocean in the world. We will look into temperature trends in cities and countries. \n",
        "\n",
        "We start our analysis from Earth Surface Temperature, a publicly available dataset that was released by Berkeley. We will walk through the entire process by downloading and acquiring preliminary datasets, extracting features, conducting EDA, and data modeling."
      ],
      "metadata": {
        "id": "Ttvsr5lNbTxP"
      }
    },
    {
      "cell_type": "markdown",
      "source": [
        "#**Before we start**\n",
        "\n",
        "This code will require the user to have data on their private Google drive. \n",
        "To run this notebook, please do the following:\n",
        "\n",
        "1.   Click on this [link](https://drive.google.com/drive/folders/1GEHlk9lvzN8AAbWDUYP6vETUiP1abq9S?usp=share_link) to the project folder on Google Drive.\n",
        "2. Right click the \"CIS-545_Earth_Temperatures_Project\", choose \"MyDrive\", and click \"Add ShortCut\" \n",
        "1.   After finishing the session, you may delete the \"CIS-545_Earth_Temperatures_Project\" folder from your Google Drive."
      ],
      "metadata": {
        "id": "Nn7nPd4_LanD"
      }
    },
    {
      "cell_type": "markdown",
      "source": [
        "#**Step 1: Get the Data**\n",
        "\n",
        "To get the data:\n",
        "\n",
        "1. Go to this Kaggle link and create a Kaggle account (unless you already have an account)\n",
        "2. Go to Account and click on \"Create New API Token\" to get the API key in the form of a json file kaggle.json\n",
        "3. Upload the kaggle.json file to the default location in your Google Drive\n",
        "\n"
      ],
      "metadata": {
        "id": "4lcFSt0DO8zE"
      }
    },
    {
      "cell_type": "code",
      "execution_count": null,
      "metadata": {
        "colab": {
          "base_uri": "https://localhost:8080/"
        },
        "id": "VlTt72jhN7Xf",
        "outputId": "b9670a0b-087a-44f4-d2e7-8022fc11bda7"
      },
      "outputs": [
        {
          "output_type": "stream",
          "name": "stdout",
          "text": [
            "Mounted at /content/drive\n"
          ]
        }
      ],
      "source": [
        "# Run this cell to mount your drive (you will be prompted to sign in)\n",
        "from google.colab import drive\n",
        "drive.mount('/content/drive')"
      ]
    },
    {
      "cell_type": "code",
      "source": [
        "!pip install kaggle"
      ],
      "metadata": {
        "colab": {
          "base_uri": "https://localhost:8080/"
        },
        "id": "Ol90MW4TPetX",
        "outputId": "fdbbaa05-c41c-4ad2-c699-6d14506f7a97"
      },
      "execution_count": null,
      "outputs": [
        {
          "output_type": "stream",
          "name": "stdout",
          "text": [
            "Looking in indexes: https://pypi.org/simple, https://us-python.pkg.dev/colab-wheels/public/simple/\n",
            "Requirement already satisfied: kaggle in /usr/local/lib/python3.9/dist-packages (1.5.13)\n",
            "Requirement already satisfied: urllib3 in /usr/local/lib/python3.9/dist-packages (from kaggle) (1.26.15)\n",
            "Requirement already satisfied: requests in /usr/local/lib/python3.9/dist-packages (from kaggle) (2.27.1)\n",
            "Requirement already satisfied: certifi in /usr/local/lib/python3.9/dist-packages (from kaggle) (2022.12.7)\n",
            "Requirement already satisfied: tqdm in /usr/local/lib/python3.9/dist-packages (from kaggle) (4.65.0)\n",
            "Requirement already satisfied: python-slugify in /usr/local/lib/python3.9/dist-packages (from kaggle) (8.0.1)\n",
            "Requirement already satisfied: six>=1.10 in /usr/local/lib/python3.9/dist-packages (from kaggle) (1.16.0)\n",
            "Requirement already satisfied: python-dateutil in /usr/local/lib/python3.9/dist-packages (from kaggle) (2.8.2)\n",
            "Requirement already satisfied: text-unidecode>=1.3 in /usr/local/lib/python3.9/dist-packages (from python-slugify->kaggle) (1.3)\n",
            "Requirement already satisfied: charset-normalizer~=2.0.0 in /usr/local/lib/python3.9/dist-packages (from requests->kaggle) (2.0.12)\n",
            "Requirement already satisfied: idna<4,>=2.5 in /usr/local/lib/python3.9/dist-packages (from requests->kaggle) (3.4)\n"
          ]
        }
      ]
    },
    {
      "cell_type": "code",
      "source": [
        "!mkdir ~/.kaggle"
      ],
      "metadata": {
        "id": "LzfBaPSePla5"
      },
      "execution_count": null,
      "outputs": []
    },
    {
      "cell_type": "code",
      "source": [
        "# Read the uploaded kaggle.json file\n",
        "!cp /content/drive/MyDrive/CIS-545_Earth_Temperatures_Project/Colab/kaggle.json ~/.kaggle/"
      ],
      "metadata": {
        "id": "LrfHnZWfPnsS"
      },
      "execution_count": null,
      "outputs": []
    },
    {
      "cell_type": "code",
      "source": [
        "# Download dataset\n",
        "!!kaggle datasets download -d berkeleyearth/climate-change-earth-surface-temperature-data"
      ],
      "metadata": {
        "colab": {
          "base_uri": "https://localhost:8080/"
        },
        "id": "CX61eyVSPsJ3",
        "outputId": "316259b5-6242-49fe-ec67-3a2536372983"
      },
      "execution_count": null,
      "outputs": [
        {
          "output_type": "execute_result",
          "data": {
            "text/plain": [
              "['Downloading climate-change-earth-surface-temperature-data.zip to /content',\n",
              " '',\n",
              " '  0% 0.00/84.7M [00:00<?, ?B/s]',\n",
              " '  6% 5.00M/84.7M [00:00<00:01, 44.0MB/s]',\n",
              " ' 12% 10.0M/84.7M [00:00<00:02, 35.1MB/s]',\n",
              " ' 24% 20.0M/84.7M [00:00<00:01, 59.4MB/s]',\n",
              " ' 32% 27.0M/84.7M [00:00<00:00, 62.0MB/s]',\n",
              " ' 46% 39.0M/84.7M [00:00<00:00, 81.3MB/s]',\n",
              " ' 58% 49.0M/84.7M [00:00<00:00, 88.0MB/s]',\n",
              " ' 77% 65.0M/84.7M [00:01<00:00, 45.8MB/s]',\n",
              " ' 91% 77.0M/84.7M [00:01<00:00, 57.2MB/s]',\n",
              " '',\n",
              " '100% 84.7M/84.7M [00:01<00:00, 62.0MB/s]']"
            ]
          },
          "metadata": {},
          "execution_count": 5
        }
      ]
    },
    {
      "cell_type": "code",
      "source": [
        "# Unzip folder in Colab content folder\n",
        "!unzip /content/climate-change-earth-surface-temperature-data.zip"
      ],
      "metadata": {
        "colab": {
          "base_uri": "https://localhost:8080/"
        },
        "id": "1NzGR9yNRQ2d",
        "outputId": "c94381c7-7ae5-4745-c6ac-9e7e3a21112f"
      },
      "execution_count": null,
      "outputs": [
        {
          "output_type": "stream",
          "name": "stdout",
          "text": [
            "Archive:  /content/climate-change-earth-surface-temperature-data.zip\n",
            "  inflating: GlobalLandTemperaturesByCity.csv  \n",
            "  inflating: GlobalLandTemperaturesByCountry.csv  \n",
            "  inflating: GlobalLandTemperaturesByMajorCity.csv  \n",
            "  inflating: GlobalLandTemperaturesByState.csv  \n",
            "  inflating: GlobalTemperatures.csv  \n"
          ]
        }
      ]
    },
    {
      "cell_type": "code",
      "source": [
        "# Import necessary libraries\n",
        "# import json\n",
        "# import glob\n",
        "import pandas as pd\n",
        "# import numpy as np\n",
        "# import datetime as dt\n",
        "# import re\n",
        "# import os\n",
        "# import matplotlib.pyplot as plt\n",
        "import seaborn as sns\n",
        "# from matplotlib import cm\n",
        "# from sklearn.model_selection import train_test_split"
      ],
      "metadata": {
        "id": "FGxF3_IARsfS"
      },
      "execution_count": null,
      "outputs": []
    },
    {
      "cell_type": "code",
      "source": [
        "# Read csv file and save it to a dataframe\n",
        "df_temp_by_city = pd.read_csv(\"GlobalLandTemperaturesByCity.csv\")\n",
        "df_temp_by_country = pd.read_csv(\"GlobalLandTemperaturesByCountry.csv\")\n",
        "df_temp_by_major_city = pd.read_csv(\"GlobalLandTemperaturesByMajorCity.csv\")\n",
        "df_temp_by_state = pd.read_csv(\"GlobalLandTemperaturesByState.csv\")\n",
        "df_temp = pd.read_csv(\"GlobalTemperatures.csv\")"
      ],
      "metadata": {
        "id": "3S5uGF74Riqp"
      },
      "execution_count": null,
      "outputs": []
    },
    {
      "cell_type": "markdown",
      "source": [
        "#**Step 2: Data Exploration and Wrangling**\n",
        "\n",
        "We are going to explore `df_temp_by_city` DF and look at the data types, number of cities, number of missing values, and number of countries."
      ],
      "metadata": {
        "id": "aZ8aiskXhnOT"
      }
    },
    {
      "cell_type": "code",
      "source": [
        "df_temp_by_city.head(5)"
      ],
      "metadata": {
        "colab": {
          "base_uri": "https://localhost:8080/",
          "height": 206
        },
        "id": "LxSg06ggywww",
        "outputId": "3ac30e20-143f-4bb5-d6a4-a28229c4eeb2"
      },
      "execution_count": null,
      "outputs": [
        {
          "output_type": "execute_result",
          "data": {
            "text/plain": [
              "           dt  AverageTemperature  AverageTemperatureUncertainty   City  \\\n",
              "0  1743-11-01               6.068                          1.737  Århus   \n",
              "1  1743-12-01                 NaN                            NaN  Århus   \n",
              "2  1744-01-01                 NaN                            NaN  Århus   \n",
              "3  1744-02-01                 NaN                            NaN  Århus   \n",
              "4  1744-03-01                 NaN                            NaN  Århus   \n",
              "\n",
              "   Country Latitude Longitude  \n",
              "0  Denmark   57.05N    10.33E  \n",
              "1  Denmark   57.05N    10.33E  \n",
              "2  Denmark   57.05N    10.33E  \n",
              "3  Denmark   57.05N    10.33E  \n",
              "4  Denmark   57.05N    10.33E  "
            ],
            "text/html": [
              "\n",
              "  <div id=\"df-1fb09a66-77b1-43f9-ac33-cbfbf7701b71\">\n",
              "    <div class=\"colab-df-container\">\n",
              "      <div>\n",
              "<style scoped>\n",
              "    .dataframe tbody tr th:only-of-type {\n",
              "        vertical-align: middle;\n",
              "    }\n",
              "\n",
              "    .dataframe tbody tr th {\n",
              "        vertical-align: top;\n",
              "    }\n",
              "\n",
              "    .dataframe thead th {\n",
              "        text-align: right;\n",
              "    }\n",
              "</style>\n",
              "<table border=\"1\" class=\"dataframe\">\n",
              "  <thead>\n",
              "    <tr style=\"text-align: right;\">\n",
              "      <th></th>\n",
              "      <th>dt</th>\n",
              "      <th>AverageTemperature</th>\n",
              "      <th>AverageTemperatureUncertainty</th>\n",
              "      <th>City</th>\n",
              "      <th>Country</th>\n",
              "      <th>Latitude</th>\n",
              "      <th>Longitude</th>\n",
              "    </tr>\n",
              "  </thead>\n",
              "  <tbody>\n",
              "    <tr>\n",
              "      <th>0</th>\n",
              "      <td>1743-11-01</td>\n",
              "      <td>6.068</td>\n",
              "      <td>1.737</td>\n",
              "      <td>Århus</td>\n",
              "      <td>Denmark</td>\n",
              "      <td>57.05N</td>\n",
              "      <td>10.33E</td>\n",
              "    </tr>\n",
              "    <tr>\n",
              "      <th>1</th>\n",
              "      <td>1743-12-01</td>\n",
              "      <td>NaN</td>\n",
              "      <td>NaN</td>\n",
              "      <td>Århus</td>\n",
              "      <td>Denmark</td>\n",
              "      <td>57.05N</td>\n",
              "      <td>10.33E</td>\n",
              "    </tr>\n",
              "    <tr>\n",
              "      <th>2</th>\n",
              "      <td>1744-01-01</td>\n",
              "      <td>NaN</td>\n",
              "      <td>NaN</td>\n",
              "      <td>Århus</td>\n",
              "      <td>Denmark</td>\n",
              "      <td>57.05N</td>\n",
              "      <td>10.33E</td>\n",
              "    </tr>\n",
              "    <tr>\n",
              "      <th>3</th>\n",
              "      <td>1744-02-01</td>\n",
              "      <td>NaN</td>\n",
              "      <td>NaN</td>\n",
              "      <td>Århus</td>\n",
              "      <td>Denmark</td>\n",
              "      <td>57.05N</td>\n",
              "      <td>10.33E</td>\n",
              "    </tr>\n",
              "    <tr>\n",
              "      <th>4</th>\n",
              "      <td>1744-03-01</td>\n",
              "      <td>NaN</td>\n",
              "      <td>NaN</td>\n",
              "      <td>Århus</td>\n",
              "      <td>Denmark</td>\n",
              "      <td>57.05N</td>\n",
              "      <td>10.33E</td>\n",
              "    </tr>\n",
              "  </tbody>\n",
              "</table>\n",
              "</div>\n",
              "      <button class=\"colab-df-convert\" onclick=\"convertToInteractive('df-1fb09a66-77b1-43f9-ac33-cbfbf7701b71')\"\n",
              "              title=\"Convert this dataframe to an interactive table.\"\n",
              "              style=\"display:none;\">\n",
              "        \n",
              "  <svg xmlns=\"http://www.w3.org/2000/svg\" height=\"24px\"viewBox=\"0 0 24 24\"\n",
              "       width=\"24px\">\n",
              "    <path d=\"M0 0h24v24H0V0z\" fill=\"none\"/>\n",
              "    <path d=\"M18.56 5.44l.94 2.06.94-2.06 2.06-.94-2.06-.94-.94-2.06-.94 2.06-2.06.94zm-11 1L8.5 8.5l.94-2.06 2.06-.94-2.06-.94L8.5 2.5l-.94 2.06-2.06.94zm10 10l.94 2.06.94-2.06 2.06-.94-2.06-.94-.94-2.06-.94 2.06-2.06.94z\"/><path d=\"M17.41 7.96l-1.37-1.37c-.4-.4-.92-.59-1.43-.59-.52 0-1.04.2-1.43.59L10.3 9.45l-7.72 7.72c-.78.78-.78 2.05 0 2.83L4 21.41c.39.39.9.59 1.41.59.51 0 1.02-.2 1.41-.59l7.78-7.78 2.81-2.81c.8-.78.8-2.07 0-2.86zM5.41 20L4 18.59l7.72-7.72 1.47 1.35L5.41 20z\"/>\n",
              "  </svg>\n",
              "      </button>\n",
              "      \n",
              "  <style>\n",
              "    .colab-df-container {\n",
              "      display:flex;\n",
              "      flex-wrap:wrap;\n",
              "      gap: 12px;\n",
              "    }\n",
              "\n",
              "    .colab-df-convert {\n",
              "      background-color: #E8F0FE;\n",
              "      border: none;\n",
              "      border-radius: 50%;\n",
              "      cursor: pointer;\n",
              "      display: none;\n",
              "      fill: #1967D2;\n",
              "      height: 32px;\n",
              "      padding: 0 0 0 0;\n",
              "      width: 32px;\n",
              "    }\n",
              "\n",
              "    .colab-df-convert:hover {\n",
              "      background-color: #E2EBFA;\n",
              "      box-shadow: 0px 1px 2px rgba(60, 64, 67, 0.3), 0px 1px 3px 1px rgba(60, 64, 67, 0.15);\n",
              "      fill: #174EA6;\n",
              "    }\n",
              "\n",
              "    [theme=dark] .colab-df-convert {\n",
              "      background-color: #3B4455;\n",
              "      fill: #D2E3FC;\n",
              "    }\n",
              "\n",
              "    [theme=dark] .colab-df-convert:hover {\n",
              "      background-color: #434B5C;\n",
              "      box-shadow: 0px 1px 3px 1px rgba(0, 0, 0, 0.15);\n",
              "      filter: drop-shadow(0px 1px 2px rgba(0, 0, 0, 0.3));\n",
              "      fill: #FFFFFF;\n",
              "    }\n",
              "  </style>\n",
              "\n",
              "      <script>\n",
              "        const buttonEl =\n",
              "          document.querySelector('#df-1fb09a66-77b1-43f9-ac33-cbfbf7701b71 button.colab-df-convert');\n",
              "        buttonEl.style.display =\n",
              "          google.colab.kernel.accessAllowed ? 'block' : 'none';\n",
              "\n",
              "        async function convertToInteractive(key) {\n",
              "          const element = document.querySelector('#df-1fb09a66-77b1-43f9-ac33-cbfbf7701b71');\n",
              "          const dataTable =\n",
              "            await google.colab.kernel.invokeFunction('convertToInteractive',\n",
              "                                                     [key], {});\n",
              "          if (!dataTable) return;\n",
              "\n",
              "          const docLinkHtml = 'Like what you see? Visit the ' +\n",
              "            '<a target=\"_blank\" href=https://colab.research.google.com/notebooks/data_table.ipynb>data table notebook</a>'\n",
              "            + ' to learn more about interactive tables.';\n",
              "          element.innerHTML = '';\n",
              "          dataTable['output_type'] = 'display_data';\n",
              "          await google.colab.output.renderOutput(dataTable, element);\n",
              "          const docLink = document.createElement('div');\n",
              "          docLink.innerHTML = docLinkHtml;\n",
              "          element.appendChild(docLink);\n",
              "        }\n",
              "      </script>\n",
              "    </div>\n",
              "  </div>\n",
              "  "
            ]
          },
          "metadata": {},
          "execution_count": 9
        }
      ]
    },
    {
      "cell_type": "code",
      "source": [
        "df_temp_by_city.dtypes\n",
        "print(\"Total rows in temp_by_city df: \", len(df_temp_by_city))"
      ],
      "metadata": {
        "colab": {
          "base_uri": "https://localhost:8080/"
        },
        "id": "1Xv5AsOph759",
        "outputId": "51dbdc21-1b4c-433a-b0a5-ecef764c29b5"
      },
      "execution_count": null,
      "outputs": [
        {
          "output_type": "stream",
          "name": "stdout",
          "text": [
            "Total rows in temp_by_city df:  8599212\n"
          ]
        }
      ]
    },
    {
      "cell_type": "code",
      "source": [
        "cities = df_temp_by_city.City.unique()\n",
        "print(\"Cities in the dataframe: \", len(cities))\n",
        "print(\"Note, city count could be slightly off due to duplicates across countries\")\n",
        "cities_from_temp_list = cities.tolist()"
      ],
      "metadata": {
        "id": "zPnKq8y_ZSuV",
        "colab": {
          "base_uri": "https://localhost:8080/"
        },
        "outputId": "b0f532bc-4b65-4034-a7eb-4bbdd9384a18"
      },
      "execution_count": null,
      "outputs": [
        {
          "output_type": "stream",
          "name": "stdout",
          "text": [
            "Cities in the dataframe:  3448\n",
            "Note, city count could be slightly off due to duplicates across countries\n"
          ]
        }
      ]
    },
    {
      "cell_type": "code",
      "source": [
        "countries = df_temp_by_city.Country.unique()\n",
        "print(\"Countries in the df: \",len(countries))"
      ],
      "metadata": {
        "colab": {
          "base_uri": "https://localhost:8080/"
        },
        "id": "WGZlUS56ilz8",
        "outputId": "61407111-2ea1-4c61-c9dd-959713d9a671"
      },
      "execution_count": null,
      "outputs": [
        {
          "output_type": "stream",
          "name": "stdout",
          "text": [
            "Countries in the df:  159\n"
          ]
        }
      ]
    },
    {
      "cell_type": "markdown",
      "source": [
        "The number of rows that miss temperature data is less than 5% of total number of rows \n"
      ],
      "metadata": {
        "id": "nQcuao07eCv8"
      }
    },
    {
      "cell_type": "code",
      "source": [
        "missing_temp_df = df_temp_by_city.loc[df_temp_by_city['AverageTemperature'].isna()]\n",
        "missing_temp_df.head()\n",
        "print(\"Total number of rows with temperature data missing: \",len(missing_temp_df))\n",
        "print(\"Percentage of rows with missing temp data: {:.2f}%\".format(len(missing_temp_df) / len(df_temp_by_city) * 100))"
      ],
      "metadata": {
        "colab": {
          "base_uri": "https://localhost:8080/"
        },
        "id": "_HBI7tZRjAnF",
        "outputId": "6d0661de-8c37-4023-a49e-8ea5395807d1"
      },
      "execution_count": null,
      "outputs": [
        {
          "output_type": "stream",
          "name": "stdout",
          "text": [
            "Total number of rows with temperature data missing:  364130\n",
            "Percentage of rows with missing temp data: 4.23%\n"
          ]
        }
      ]
    },
    {
      "cell_type": "markdown",
      "source": [
        "Next, we find all the cities with missing values and create a series to find the number of such cities. We conclude that almost every city has a few missing values.\n",
        "\n",
        "Following that, we find the number of missing values per city, using groupby and storing the result in `cities_mv_summary`. Then, we calculate the percentage of missing values per city.\n",
        "\n",
        "Finally, we print the report on cities with missing values at 8, 10, 12, 15, 18, and 20 percent to help us make the decision for the acceptable level missing values."
      ],
      "metadata": {
        "id": "Egwf3sYZlabw"
      }
    },
    {
      "cell_type": "code",
      "source": [
        "#from numpy.core.multiarray import inner\n",
        "cities_missing_values = missing_temp_df.City.unique()\n",
        "print(\"Cities with missing values:\", len(cities_missing_values))\n",
        "\n",
        "# new DF with the number missing values by City (dropped unnecessary columns)\n",
        "cities_mv_summary = missing_temp_df.groupby(['City']).count().drop(columns=['Country','Latitude','Longitude']).reset_index()\n",
        "cities_mv_summary = cities_mv_summary.sort_values(by = 'City',ascending=False) \n",
        "#cities_mv_summary.head()\n",
        "\n",
        "# Create a new DF with count of total values per City from original DF \n",
        "cities_total_values = df_temp_by_city.groupby(['City']).count().drop(columns=['Country','Latitude','Longitude']).reset_index()\n",
        "# Merge two DFs and add a column missing_Temp_percent to calculate percentage of missing values by City\n",
        "cities_mv_total = cities_mv_summary.merge(cities_total_values,left_on= 'City',right_on= 'City', how ='inner')\n",
        "#cities_mv_total.head()\n",
        "cities_mv_total = cities_mv_total.assign(missing_temp_percent=lambda x: (x.dt_x/x.dt_y)*100)\n",
        "cities_mv_total = cities_mv_total.sort_values(by = 'missing_temp_percent',ascending= False)\n",
        "#cities_mv_total.head()\n",
        "\n",
        "# Print a report on number of cities with missing Temperature Values > 8,10,12,15,17,20 percent\n",
        "percent_list = [8,10,12,15,17,20]\n",
        "for x in percent_list:\n",
        "  cities_to_drop = cities_mv_total.loc[cities_mv_total['missing_temp_percent']> x] \n",
        "  print(\"percent of Nan\", x,\":-number of cities to drop:\",len(cities_to_drop))\n",
        "\n",
        "# Making the decision to drop missing value > 12 percent\n",
        "cities_to_drop = cities_mv_total.loc[cities_mv_total['missing_temp_percent']> 12] \n",
        "cities_to_drop.head()"
      ],
      "metadata": {
        "colab": {
          "base_uri": "https://localhost:8080/",
          "height": 395
        },
        "id": "2Sp4XPfaj8-H",
        "outputId": "1998000d-fcff-485d-d38e-43d75135de94"
      },
      "execution_count": null,
      "outputs": [
        {
          "output_type": "stream",
          "name": "stdout",
          "text": [
            "Cities with missing values: 3323\n",
            "percent of Nan 8 :-number of cities to drop: 746\n",
            "percent of Nan 10 :-number of cities to drop: 391\n",
            "percent of Nan 12 :-number of cities to drop: 314\n",
            "percent of Nan 15 :-number of cities to drop: 184\n",
            "percent of Nan 17 :-number of cities to drop: 170\n",
            "percent of Nan 20 :-number of cities to drop: 18\n"
          ]
        },
        {
          "output_type": "execute_result",
          "data": {
            "text/plain": [
              "              City  dt_x  AverageTemperature_x  \\\n",
              "1013    Port Louis  1039                     0   \n",
              "807    Saint Denis  1039                     0   \n",
              "2438  Fianarantsoa  1036                     0   \n",
              "1369        Nacala   958                     0   \n",
              "3197  Antananarivo   958                     0   \n",
              "\n",
              "      AverageTemperatureUncertainty_x  dt_y  AverageTemperature_y  \\\n",
              "1013                                0  2721                  1682   \n",
              "807                                 0  2721                  1682   \n",
              "2438                                0  2721                  1685   \n",
              "1369                                0  2721                  1763   \n",
              "3197                                0  2721                  1763   \n",
              "\n",
              "      AverageTemperatureUncertainty_y  missing_temp_percent  \n",
              "1013                             1682             38.184491  \n",
              "807                              1682             38.184491  \n",
              "2438                             1685             38.074237  \n",
              "1369                             1763             35.207644  \n",
              "3197                             1763             35.207644  "
            ],
            "text/html": [
              "\n",
              "  <div id=\"df-0e5a0f9b-6167-4fa7-a8d4-afdf6790c52c\">\n",
              "    <div class=\"colab-df-container\">\n",
              "      <div>\n",
              "<style scoped>\n",
              "    .dataframe tbody tr th:only-of-type {\n",
              "        vertical-align: middle;\n",
              "    }\n",
              "\n",
              "    .dataframe tbody tr th {\n",
              "        vertical-align: top;\n",
              "    }\n",
              "\n",
              "    .dataframe thead th {\n",
              "        text-align: right;\n",
              "    }\n",
              "</style>\n",
              "<table border=\"1\" class=\"dataframe\">\n",
              "  <thead>\n",
              "    <tr style=\"text-align: right;\">\n",
              "      <th></th>\n",
              "      <th>City</th>\n",
              "      <th>dt_x</th>\n",
              "      <th>AverageTemperature_x</th>\n",
              "      <th>AverageTemperatureUncertainty_x</th>\n",
              "      <th>dt_y</th>\n",
              "      <th>AverageTemperature_y</th>\n",
              "      <th>AverageTemperatureUncertainty_y</th>\n",
              "      <th>missing_temp_percent</th>\n",
              "    </tr>\n",
              "  </thead>\n",
              "  <tbody>\n",
              "    <tr>\n",
              "      <th>1013</th>\n",
              "      <td>Port Louis</td>\n",
              "      <td>1039</td>\n",
              "      <td>0</td>\n",
              "      <td>0</td>\n",
              "      <td>2721</td>\n",
              "      <td>1682</td>\n",
              "      <td>1682</td>\n",
              "      <td>38.184491</td>\n",
              "    </tr>\n",
              "    <tr>\n",
              "      <th>807</th>\n",
              "      <td>Saint Denis</td>\n",
              "      <td>1039</td>\n",
              "      <td>0</td>\n",
              "      <td>0</td>\n",
              "      <td>2721</td>\n",
              "      <td>1682</td>\n",
              "      <td>1682</td>\n",
              "      <td>38.184491</td>\n",
              "    </tr>\n",
              "    <tr>\n",
              "      <th>2438</th>\n",
              "      <td>Fianarantsoa</td>\n",
              "      <td>1036</td>\n",
              "      <td>0</td>\n",
              "      <td>0</td>\n",
              "      <td>2721</td>\n",
              "      <td>1685</td>\n",
              "      <td>1685</td>\n",
              "      <td>38.074237</td>\n",
              "    </tr>\n",
              "    <tr>\n",
              "      <th>1369</th>\n",
              "      <td>Nacala</td>\n",
              "      <td>958</td>\n",
              "      <td>0</td>\n",
              "      <td>0</td>\n",
              "      <td>2721</td>\n",
              "      <td>1763</td>\n",
              "      <td>1763</td>\n",
              "      <td>35.207644</td>\n",
              "    </tr>\n",
              "    <tr>\n",
              "      <th>3197</th>\n",
              "      <td>Antananarivo</td>\n",
              "      <td>958</td>\n",
              "      <td>0</td>\n",
              "      <td>0</td>\n",
              "      <td>2721</td>\n",
              "      <td>1763</td>\n",
              "      <td>1763</td>\n",
              "      <td>35.207644</td>\n",
              "    </tr>\n",
              "  </tbody>\n",
              "</table>\n",
              "</div>\n",
              "      <button class=\"colab-df-convert\" onclick=\"convertToInteractive('df-0e5a0f9b-6167-4fa7-a8d4-afdf6790c52c')\"\n",
              "              title=\"Convert this dataframe to an interactive table.\"\n",
              "              style=\"display:none;\">\n",
              "        \n",
              "  <svg xmlns=\"http://www.w3.org/2000/svg\" height=\"24px\"viewBox=\"0 0 24 24\"\n",
              "       width=\"24px\">\n",
              "    <path d=\"M0 0h24v24H0V0z\" fill=\"none\"/>\n",
              "    <path d=\"M18.56 5.44l.94 2.06.94-2.06 2.06-.94-2.06-.94-.94-2.06-.94 2.06-2.06.94zm-11 1L8.5 8.5l.94-2.06 2.06-.94-2.06-.94L8.5 2.5l-.94 2.06-2.06.94zm10 10l.94 2.06.94-2.06 2.06-.94-2.06-.94-.94-2.06-.94 2.06-2.06.94z\"/><path d=\"M17.41 7.96l-1.37-1.37c-.4-.4-.92-.59-1.43-.59-.52 0-1.04.2-1.43.59L10.3 9.45l-7.72 7.72c-.78.78-.78 2.05 0 2.83L4 21.41c.39.39.9.59 1.41.59.51 0 1.02-.2 1.41-.59l7.78-7.78 2.81-2.81c.8-.78.8-2.07 0-2.86zM5.41 20L4 18.59l7.72-7.72 1.47 1.35L5.41 20z\"/>\n",
              "  </svg>\n",
              "      </button>\n",
              "      \n",
              "  <style>\n",
              "    .colab-df-container {\n",
              "      display:flex;\n",
              "      flex-wrap:wrap;\n",
              "      gap: 12px;\n",
              "    }\n",
              "\n",
              "    .colab-df-convert {\n",
              "      background-color: #E8F0FE;\n",
              "      border: none;\n",
              "      border-radius: 50%;\n",
              "      cursor: pointer;\n",
              "      display: none;\n",
              "      fill: #1967D2;\n",
              "      height: 32px;\n",
              "      padding: 0 0 0 0;\n",
              "      width: 32px;\n",
              "    }\n",
              "\n",
              "    .colab-df-convert:hover {\n",
              "      background-color: #E2EBFA;\n",
              "      box-shadow: 0px 1px 2px rgba(60, 64, 67, 0.3), 0px 1px 3px 1px rgba(60, 64, 67, 0.15);\n",
              "      fill: #174EA6;\n",
              "    }\n",
              "\n",
              "    [theme=dark] .colab-df-convert {\n",
              "      background-color: #3B4455;\n",
              "      fill: #D2E3FC;\n",
              "    }\n",
              "\n",
              "    [theme=dark] .colab-df-convert:hover {\n",
              "      background-color: #434B5C;\n",
              "      box-shadow: 0px 1px 3px 1px rgba(0, 0, 0, 0.15);\n",
              "      filter: drop-shadow(0px 1px 2px rgba(0, 0, 0, 0.3));\n",
              "      fill: #FFFFFF;\n",
              "    }\n",
              "  </style>\n",
              "\n",
              "      <script>\n",
              "        const buttonEl =\n",
              "          document.querySelector('#df-0e5a0f9b-6167-4fa7-a8d4-afdf6790c52c button.colab-df-convert');\n",
              "        buttonEl.style.display =\n",
              "          google.colab.kernel.accessAllowed ? 'block' : 'none';\n",
              "\n",
              "        async function convertToInteractive(key) {\n",
              "          const element = document.querySelector('#df-0e5a0f9b-6167-4fa7-a8d4-afdf6790c52c');\n",
              "          const dataTable =\n",
              "            await google.colab.kernel.invokeFunction('convertToInteractive',\n",
              "                                                     [key], {});\n",
              "          if (!dataTable) return;\n",
              "\n",
              "          const docLinkHtml = 'Like what you see? Visit the ' +\n",
              "            '<a target=\"_blank\" href=https://colab.research.google.com/notebooks/data_table.ipynb>data table notebook</a>'\n",
              "            + ' to learn more about interactive tables.';\n",
              "          element.innerHTML = '';\n",
              "          dataTable['output_type'] = 'display_data';\n",
              "          await google.colab.output.renderOutput(dataTable, element);\n",
              "          const docLink = document.createElement('div');\n",
              "          docLink.innerHTML = docLinkHtml;\n",
              "          element.appendChild(docLink);\n",
              "        }\n",
              "      </script>\n",
              "    </div>\n",
              "  </div>\n",
              "  "
            ]
          },
          "metadata": {},
          "execution_count": 14
        }
      ]
    },
    {
      "cell_type": "code",
      "source": [
        "# Visualising out findings from analysis of missing values\n",
        "d = {'total_num_of_cities': len(cities), \n",
        "     'cities_with_missing_values': len(cities_missing_values), \n",
        "     'cities_to_drop': len(cities_to_drop)}\n",
        "vis_df = pd.DataFrame(d, index=list(range(0, 1)))\n",
        "\n",
        "g = sns.barplot(data=vis_df, palette='magma', orient='h')\n",
        "g.set(xlabel='Number of Citiies', ylabel='Cities dataframes')\n",
        "g.set(title=\"Total Number of Cities vs Cities with missing values vs Cities we dropped\")"
      ],
      "metadata": {
        "colab": {
          "base_uri": "https://localhost:8080/",
          "height": 490
        },
        "id": "O420A5FLrqPo",
        "outputId": "66fedac3-c89a-40b1-cf6f-492fbab64c8f"
      },
      "execution_count": null,
      "outputs": [
        {
          "output_type": "execute_result",
          "data": {
            "text/plain": [
              "[Text(0.5, 1.0, 'Total Number of Cities vs Cities with missing values vs Cities we dropped')]"
            ]
          },
          "metadata": {},
          "execution_count": 15
        },
        {
          "output_type": "display_data",
          "data": {
            "text/plain": [
              "<Figure size 640x480 with 1 Axes>"
            ],
            "image/png": "[encoded data removed]"
          },
          "metadata": {}
        }
      ]
    },
    {
      "cell_type": "markdown",
      "source": [
        "As we can see, we can drop cities with >12% missing values and lose less than 10% of the cities. \n",
        "\n",
        "The guidelines for missing values in Metereology recommends not using months with greater than 3 consecutive days or 5 days in total for computing monthly averages.\n",
        "https://rmets.onlinelibrary.wiley.com/doi/full/10.1002/joc.5801\n",
        "\n",
        "As an approximation to this rule, we drop cities with more than 12% of missing data. These rows have been flagged below.\n"
      ],
      "metadata": {
        "id": "wjpBdG2Losy5"
      }
    },
    {
      "cell_type": "code",
      "source": [
        "cities_to_drop_list = cities_to_drop['City'].tolist()\n",
        "\n",
        "df_temp_by_city['drop_city'] = df_temp_by_city['City'].apply(lambda x: 1 if x in cities_to_drop_list else 0)\n",
        "df_temp_by_city.head()\n",
        "df_temp_by_city.tail()"
      ],
      "metadata": {
        "colab": {
          "base_uri": "https://localhost:8080/",
          "height": 250
        },
        "id": "SzjR8iiDUUKh",
        "outputId": "eff0811c-4e48-4847-999c-a0c59231e419"
      },
      "execution_count": null,
      "outputs": [
        {
          "output_type": "execute_result",
          "data": {
            "text/plain": [
              "                 dt  AverageTemperature  AverageTemperatureUncertainty  \\\n",
              "8599207  2013-05-01              11.464                          0.236   \n",
              "8599208  2013-06-01              15.043                          0.261   \n",
              "8599209  2013-07-01              18.775                          0.193   \n",
              "8599210  2013-08-01              18.025                          0.298   \n",
              "8599211  2013-09-01                 NaN                            NaN   \n",
              "\n",
              "           City      Country Latitude Longitude  drop_city  \n",
              "8599207  Zwolle  Netherlands   52.24N     5.26E          0  \n",
              "8599208  Zwolle  Netherlands   52.24N     5.26E          0  \n",
              "8599209  Zwolle  Netherlands   52.24N     5.26E          0  \n",
              "8599210  Zwolle  Netherlands   52.24N     5.26E          0  \n",
              "8599211  Zwolle  Netherlands   52.24N     5.26E          0  "
            ],
            "text/html": [
              "\n",
              "  <div id=\"df-93feebf0-62f7-4bed-9523-99c17ec34c36\">\n",
              "    <div class=\"colab-df-container\">\n",
              "      <div>\n",
              "<style scoped>\n",
              "    .dataframe tbody tr th:only-of-type {\n",
              "        vertical-align: middle;\n",
              "    }\n",
              "\n",
              "    .dataframe tbody tr th {\n",
              "        vertical-align: top;\n",
              "    }\n",
              "\n",
              "    .dataframe thead th {\n",
              "        text-align: right;\n",
              "    }\n",
              "</style>\n",
              "<table border=\"1\" class=\"dataframe\">\n",
              "  <thead>\n",
              "    <tr style=\"text-align: right;\">\n",
              "      <th></th>\n",
              "      <th>dt</th>\n",
              "      <th>AverageTemperature</th>\n",
              "      <th>AverageTemperatureUncertainty</th>\n",
              "      <th>City</th>\n",
              "      <th>Country</th>\n",
              "      <th>Latitude</th>\n",
              "      <th>Longitude</th>\n",
              "      <th>drop_city</th>\n",
              "    </tr>\n",
              "  </thead>\n",
              "  <tbody>\n",
              "    <tr>\n",
              "      <th>8599207</th>\n",
              "      <td>2013-05-01</td>\n",
              "      <td>11.464</td>\n",
              "      <td>0.236</td>\n",
              "      <td>Zwolle</td>\n",
              "      <td>Netherlands</td>\n",
              "      <td>52.24N</td>\n",
              "      <td>5.26E</td>\n",
              "      <td>0</td>\n",
              "    </tr>\n",
              "    <tr>\n",
              "      <th>8599208</th>\n",
              "      <td>2013-06-01</td>\n",
              "      <td>15.043</td>\n",
              "      <td>0.261</td>\n",
              "      <td>Zwolle</td>\n",
              "      <td>Netherlands</td>\n",
              "      <td>52.24N</td>\n",
              "      <td>5.26E</td>\n",
              "      <td>0</td>\n",
              "    </tr>\n",
              "    <tr>\n",
              "      <th>8599209</th>\n",
              "      <td>2013-07-01</td>\n",
              "      <td>18.775</td>\n",
              "      <td>0.193</td>\n",
              "      <td>Zwolle</td>\n",
              "      <td>Netherlands</td>\n",
              "      <td>52.24N</td>\n",
              "      <td>5.26E</td>\n",
              "      <td>0</td>\n",
              "    </tr>\n",
              "    <tr>\n",
              "      <th>8599210</th>\n",
              "      <td>2013-08-01</td>\n",
              "      <td>18.025</td>\n",
              "      <td>0.298</td>\n",
              "      <td>Zwolle</td>\n",
              "      <td>Netherlands</td>\n",
              "      <td>52.24N</td>\n",
              "      <td>5.26E</td>\n",
              "      <td>0</td>\n",
              "    </tr>\n",
              "    <tr>\n",
              "      <th>8599211</th>\n",
              "      <td>2013-09-01</td>\n",
              "      <td>NaN</td>\n",
              "      <td>NaN</td>\n",
              "      <td>Zwolle</td>\n",
              "      <td>Netherlands</td>\n",
              "      <td>52.24N</td>\n",
              "      <td>5.26E</td>\n",
              "      <td>0</td>\n",
              "    </tr>\n",
              "  </tbody>\n",
              "</table>\n",
              "</div>\n",
              "      <button class=\"colab-df-convert\" onclick=\"convertToInteractive('df-93feebf0-62f7-4bed-9523-99c17ec34c36')\"\n",
              "              title=\"Convert this dataframe to an interactive table.\"\n",
              "              style=\"display:none;\">\n",
              "        \n",
              "  <svg xmlns=\"http://www.w3.org/2000/svg\" height=\"24px\"viewBox=\"0 0 24 24\"\n",
              "       width=\"24px\">\n",
              "    <path d=\"M0 0h24v24H0V0z\" fill=\"none\"/>\n",
              "    <path d=\"M18.56 5.44l.94 2.06.94-2.06 2.06-.94-2.06-.94-.94-2.06-.94 2.06-2.06.94zm-11 1L8.5 8.5l.94-2.06 2.06-.94-2.06-.94L8.5 2.5l-.94 2.06-2.06.94zm10 10l.94 2.06.94-2.06 2.06-.94-2.06-.94-.94-2.06-.94 2.06-2.06.94z\"/><path d=\"M17.41 7.96l-1.37-1.37c-.4-.4-.92-.59-1.43-.59-.52 0-1.04.2-1.43.59L10.3 9.45l-7.72 7.72c-.78.78-.78 2.05 0 2.83L4 21.41c.39.39.9.59 1.41.59.51 0 1.02-.2 1.41-.59l7.78-7.78 2.81-2.81c.8-.78.8-2.07 0-2.86zM5.41 20L4 18.59l7.72-7.72 1.47 1.35L5.41 20z\"/>\n",
              "  </svg>\n",
              "      </button>\n",
              "      \n",
              "  <style>\n",
              "    .colab-df-container {\n",
              "      display:flex;\n",
              "      flex-wrap:wrap;\n",
              "      gap: 12px;\n",
              "    }\n",
              "\n",
              "    .colab-df-convert {\n",
              "      background-color: #E8F0FE;\n",
              "      border: none;\n",
              "      border-radius: 50%;\n",
              "      cursor: pointer;\n",
              "      display: none;\n",
              "      fill: #1967D2;\n",
              "      height: 32px;\n",
              "      padding: 0 0 0 0;\n",
              "      width: 32px;\n",
              "    }\n",
              "\n",
              "    .colab-df-convert:hover {\n",
              "      background-color: #E2EBFA;\n",
              "      box-shadow: 0px 1px 2px rgba(60, 64, 67, 0.3), 0px 1px 3px 1px rgba(60, 64, 67, 0.15);\n",
              "      fill: #174EA6;\n",
              "    }\n",
              "\n",
              "    [theme=dark] .colab-df-convert {\n",
              "      background-color: #3B4455;\n",
              "      fill: #D2E3FC;\n",
              "    }\n",
              "\n",
              "    [theme=dark] .colab-df-convert:hover {\n",
              "      background-color: #434B5C;\n",
              "      box-shadow: 0px 1px 3px 1px rgba(0, 0, 0, 0.15);\n",
              "      filter: drop-shadow(0px 1px 2px rgba(0, 0, 0, 0.3));\n",
              "      fill: #FFFFFF;\n",
              "    }\n",
              "  </style>\n",
              "\n",
              "      <script>\n",
              "        const buttonEl =\n",
              "          document.querySelector('#df-93feebf0-62f7-4bed-9523-99c17ec34c36 button.colab-df-convert');\n",
              "        buttonEl.style.display =\n",
              "          google.colab.kernel.accessAllowed ? 'block' : 'none';\n",
              "\n",
              "        async function convertToInteractive(key) {\n",
              "          const element = document.querySelector('#df-93feebf0-62f7-4bed-9523-99c17ec34c36');\n",
              "          const dataTable =\n",
              "            await google.colab.kernel.invokeFunction('convertToInteractive',\n",
              "                                                     [key], {});\n",
              "          if (!dataTable) return;\n",
              "\n",
              "          const docLinkHtml = 'Like what you see? Visit the ' +\n",
              "            '<a target=\"_blank\" href=https://colab.research.google.com/notebooks/data_table.ipynb>data table notebook</a>'\n",
              "            + ' to learn more about interactive tables.';\n",
              "          element.innerHTML = '';\n",
              "          dataTable['output_type'] = 'display_data';\n",
              "          await google.colab.output.renderOutput(dataTable, element);\n",
              "          const docLink = document.createElement('div');\n",
              "          docLink.innerHTML = docLinkHtml;\n",
              "          element.appendChild(docLink);\n",
              "        }\n",
              "      </script>\n",
              "    </div>\n",
              "  </div>\n",
              "  "
            ]
          },
          "metadata": {},
          "execution_count": 16
        }
      ]
    },
    {
      "cell_type": "markdown",
      "source": [
        "Now let's look at the dataset."
      ],
      "metadata": {
        "id": "ts5Tsxxb-XGZ"
      }
    },
    {
      "cell_type": "code",
      "source": [
        "# Data types\n",
        "df_temp_by_city.dtypes"
      ],
      "metadata": {
        "colab": {
          "base_uri": "https://localhost:8080/"
        },
        "id": "GFrBUIe9ysys",
        "outputId": "cfaa7e2b-ac3f-446a-fa12-61a947257e31"
      },
      "execution_count": null,
      "outputs": [
        {
          "output_type": "execute_result",
          "data": {
            "text/plain": [
              "dt                                object\n",
              "AverageTemperature               float64\n",
              "AverageTemperatureUncertainty    float64\n",
              "City                              object\n",
              "Country                           object\n",
              "Latitude                          object\n",
              "Longitude                         object\n",
              "drop_city                          int64\n",
              "dtype: object"
            ]
          },
          "metadata": {},
          "execution_count": 17
        }
      ]
    },
    {
      "cell_type": "code",
      "source": [
        "# Number of missing values is still 364,140\n",
        "df_temp_by_city.isna().sum()"
      ],
      "metadata": {
        "colab": {
          "base_uri": "https://localhost:8080/"
        },
        "id": "C-oHhJYn3C2Z",
        "outputId": "65cb00df-e8e1-416d-8f14-3fb3977518b3"
      },
      "execution_count": null,
      "outputs": [
        {
          "output_type": "execute_result",
          "data": {
            "text/plain": [
              "dt                                    0\n",
              "AverageTemperature               364130\n",
              "AverageTemperatureUncertainty    364130\n",
              "City                                  0\n",
              "Country                               0\n",
              "Latitude                              0\n",
              "Longitude                             0\n",
              "drop_city                             0\n",
              "dtype: int64"
            ]
          },
          "metadata": {},
          "execution_count": 18
        }
      ]
    },
    {
      "cell_type": "code",
      "source": [
        "# There is no change in the number of rows after calling drop_duplicates(). Therefore, there is no need to drop duplicates.\n",
        "len(df_temp_by_city) - len(df_temp_by_city.drop_duplicates())"
      ],
      "metadata": {
        "colab": {
          "base_uri": "https://localhost:8080/"
        },
        "id": "hprq87T5vBLV",
        "outputId": "d534945f-79c2-4f38-a410-02a0d5a8ab9c"
      },
      "execution_count": null,
      "outputs": [
        {
          "output_type": "execute_result",
          "data": {
            "text/plain": [
              "0"
            ]
          },
          "metadata": {},
          "execution_count": 19
        }
      ]
    },
    {
      "cell_type": "markdown",
      "source": [
        "Next, we do the following:\n",
        "1. Remove the nulls in AverageTemperature\n",
        "2. To simplify analysis, drop unnecessary columns\n",
        "3. To allow timeseries, convert dt type from object to datetime\n"
      ],
      "metadata": {
        "id": "khe36I_vtl_C"
      }
    },
    {
      "cell_type": "code",
      "source": [
        "# Drop null values\n",
        "df_temp_by_city_clean = df_temp_by_city.dropna()"
      ],
      "metadata": {
        "id": "knSpS9RWxmAb"
      },
      "execution_count": null,
      "outputs": []
    },
    {
      "cell_type": "code",
      "source": [
        "# Number of missing values is now zero\n",
        "df_temp_by_city_clean.isna().sum()"
      ],
      "metadata": {
        "colab": {
          "base_uri": "https://localhost:8080/"
        },
        "id": "HQGcCqtHxtW7",
        "outputId": "662079a6-b815-4ed7-85db-1e9c495ffcfb"
      },
      "execution_count": null,
      "outputs": [
        {
          "output_type": "execute_result",
          "data": {
            "text/plain": [
              "dt                               0\n",
              "AverageTemperature               0\n",
              "AverageTemperatureUncertainty    0\n",
              "City                             0\n",
              "Country                          0\n",
              "Latitude                         0\n",
              "Longitude                        0\n",
              "drop_city                        0\n",
              "dtype: int64"
            ]
          },
          "metadata": {},
          "execution_count": 21
        }
      ]
    },
    {
      "cell_type": "code",
      "source": [
        "# Cast dt as datetime\n",
        "df_temp_by_city_clean['date'] =  pd.to_datetime(df_temp_by_city_clean['dt'], format='%Y-%m-%d')"
      ],
      "metadata": {
        "colab": {
          "base_uri": "https://localhost:8080/"
        },
        "id": "K8sje0Fh7eg0",
        "outputId": "7ad2f43e-d605-4c36-84cb-ad7b4bc5723c"
      },
      "execution_count": null,
      "outputs": [
        {
          "output_type": "stream",
          "name": "stderr",
          "text": [
            "<ipython-input-22-5387d0411908>:2: SettingWithCopyWarning: \n",
            "A value is trying to be set on a copy of a slice from a DataFrame.\n",
            "Try using .loc[row_indexer,col_indexer] = value instead\n",
            "\n",
            "See the caveats in the documentation: https://pandas.pydata.org/pandas-docs/stable/user_guide/indexing.html#returning-a-view-versus-a-copy\n",
            "  df_temp_by_city_clean['date'] =  pd.to_datetime(df_temp_by_city_clean['dt'], format='%Y-%m-%d')\n"
          ]
        }
      ]
    },
    {
      "cell_type": "code",
      "source": [
        "# Check type of datetime column\n",
        "df_temp_by_city_clean.dtypes"
      ],
      "metadata": {
        "colab": {
          "base_uri": "https://localhost:8080/"
        },
        "id": "ilpX3YeK8TSx",
        "outputId": "d81876ff-7f8a-4549-a352-849dc6b0f150"
      },
      "execution_count": null,
      "outputs": [
        {
          "output_type": "execute_result",
          "data": {
            "text/plain": [
              "dt                                       object\n",
              "AverageTemperature                      float64\n",
              "AverageTemperatureUncertainty           float64\n",
              "City                                     object\n",
              "Country                                  object\n",
              "Latitude                                 object\n",
              "Longitude                                object\n",
              "drop_city                                 int64\n",
              "date                             datetime64[ns]\n",
              "dtype: object"
            ]
          },
          "metadata": {},
          "execution_count": 23
        }
      ]
    },
    {
      "cell_type": "code",
      "source": [
        "# Drop columns\n",
        "df_temp_by_city_clean = df_temp_by_city_clean.drop(columns=['drop_city', 'dt'])"
      ],
      "metadata": {
        "id": "FiweTiwEx6Ln"
      },
      "execution_count": null,
      "outputs": []
    },
    {
      "cell_type": "code",
      "source": [
        "df_temp_by_city_clean.info()"
      ],
      "metadata": {
        "colab": {
          "base_uri": "https://localhost:8080/"
        },
        "id": "F-cSVh5v8nbw",
        "outputId": "d03bd487-cb2d-477e-d9e7-9146d0842421"
      },
      "execution_count": null,
      "outputs": [
        {
          "output_type": "stream",
          "name": "stdout",
          "text": [
            "<class 'pandas.core.frame.DataFrame'>\n",
            "Int64Index: 8235082 entries, 0 to 8599210\n",
            "Data columns (total 7 columns):\n",
            " #   Column                         Dtype         \n",
            "---  ------                         -----         \n",
            " 0   AverageTemperature             float64       \n",
            " 1   AverageTemperatureUncertainty  float64       \n",
            " 2   City                           object        \n",
            " 3   Country                        object        \n",
            " 4   Latitude                       object        \n",
            " 5   Longitude                      object        \n",
            " 6   date                           datetime64[ns]\n",
            "dtypes: datetime64[ns](1), float64(2), object(4)\n",
            "memory usage: 502.6+ MB\n"
          ]
        }
      ]
    },
    {
      "cell_type": "markdown",
      "source": [
        "Repeat the cleaning process on the other datasets."
      ],
      "metadata": {
        "id": "Jw9QyCcN85oc"
      }
    },
    {
      "cell_type": "code",
      "source": [
        "df_temp_by_country.dtypes"
      ],
      "metadata": {
        "colab": {
          "base_uri": "https://localhost:8080/"
        },
        "id": "wreV21bH9JgA",
        "outputId": "5b0daa02-ee21-450f-e5ac-c5e77c5fcfe7"
      },
      "execution_count": null,
      "outputs": [
        {
          "output_type": "execute_result",
          "data": {
            "text/plain": [
              "dt                                object\n",
              "AverageTemperature               float64\n",
              "AverageTemperatureUncertainty    float64\n",
              "Country                           object\n",
              "dtype: object"
            ]
          },
          "metadata": {},
          "execution_count": 26
        }
      ]
    },
    {
      "cell_type": "code",
      "source": [
        "# No duplicates\n",
        "len(df_temp_by_country)-len(df_temp_by_country.drop_duplicates())"
      ],
      "metadata": {
        "colab": {
          "base_uri": "https://localhost:8080/"
        },
        "id": "OVLXaUFcAISt",
        "outputId": "15759b82-d2b5-4f10-b673-163e413ea4b4"
      },
      "execution_count": null,
      "outputs": [
        {
          "output_type": "execute_result",
          "data": {
            "text/plain": [
              "0"
            ]
          },
          "metadata": {},
          "execution_count": 27
        }
      ]
    },
    {
      "cell_type": "code",
      "source": [
        "# Drop nulls\n",
        "# df_temp_by_country.isna().sum()\n",
        "df_temp_by_country_clean = df_temp_by_country.dropna()\n",
        "df_temp_by_country_clean.isna().sum()"
      ],
      "metadata": {
        "colab": {
          "base_uri": "https://localhost:8080/"
        },
        "id": "EK_FmOHnAcZz",
        "outputId": "39ae9fcf-e0e0-47fc-ee02-5bf7283eb5f3"
      },
      "execution_count": null,
      "outputs": [
        {
          "output_type": "execute_result",
          "data": {
            "text/plain": [
              "dt                               0\n",
              "AverageTemperature               0\n",
              "AverageTemperatureUncertainty    0\n",
              "Country                          0\n",
              "dtype: int64"
            ]
          },
          "metadata": {},
          "execution_count": 28
        }
      ]
    },
    {
      "cell_type": "code",
      "source": [
        "# Convert dt to datetime and drop\n",
        "df_temp_by_country_clean[\"date\"] = pd.to_datetime(df_temp_by_country_clean['dt'], format='%Y-%m-%d')\n",
        "df_temp_by_country_clean = df_temp_by_country_clean.drop(columns=['dt'])"
      ],
      "metadata": {
        "colab": {
          "base_uri": "https://localhost:8080/"
        },
        "id": "poZimJTz_3v7",
        "outputId": "a306779e-d467-45f7-9373-b170d452f17a"
      },
      "execution_count": null,
      "outputs": [
        {
          "output_type": "stream",
          "name": "stderr",
          "text": [
            "<ipython-input-29-9e9f046d75dd>:2: SettingWithCopyWarning: \n",
            "A value is trying to be set on a copy of a slice from a DataFrame.\n",
            "Try using .loc[row_indexer,col_indexer] = value instead\n",
            "\n",
            "See the caveats in the documentation: https://pandas.pydata.org/pandas-docs/stable/user_guide/indexing.html#returning-a-view-versus-a-copy\n",
            "  df_temp_by_country_clean[\"date\"] = pd.to_datetime(df_temp_by_country_clean['dt'], format='%Y-%m-%d')\n"
          ]
        }
      ]
    },
    {
      "cell_type": "code",
      "source": [
        "df_temp_by_country_clean.info()"
      ],
      "metadata": {
        "colab": {
          "base_uri": "https://localhost:8080/"
        },
        "id": "EgkDihQgBFiJ",
        "outputId": "e24b300d-0741-4cd7-ddf7-9e6b0bed868a"
      },
      "execution_count": null,
      "outputs": [
        {
          "output_type": "stream",
          "name": "stdout",
          "text": [
            "<class 'pandas.core.frame.DataFrame'>\n",
            "Int64Index: 544811 entries, 0 to 577460\n",
            "Data columns (total 4 columns):\n",
            " #   Column                         Non-Null Count   Dtype         \n",
            "---  ------                         --------------   -----         \n",
            " 0   AverageTemperature             544811 non-null  float64       \n",
            " 1   AverageTemperatureUncertainty  544811 non-null  float64       \n",
            " 2   Country                        544811 non-null  object        \n",
            " 3   date                           544811 non-null  datetime64[ns]\n",
            "dtypes: datetime64[ns](1), float64(2), object(1)\n",
            "memory usage: 20.8+ MB\n"
          ]
        }
      ]
    },
    {
      "cell_type": "code",
      "source": [
        "df_temp_by_major_city.info()"
      ],
      "metadata": {
        "colab": {
          "base_uri": "https://localhost:8080/"
        },
        "id": "EwwIlksh9ysr",
        "outputId": "59d0bb04-5c52-47bf-b348-03df2131e768"
      },
      "execution_count": null,
      "outputs": [
        {
          "output_type": "stream",
          "name": "stdout",
          "text": [
            "<class 'pandas.core.frame.DataFrame'>\n",
            "RangeIndex: 239177 entries, 0 to 239176\n",
            "Data columns (total 7 columns):\n",
            " #   Column                         Non-Null Count   Dtype  \n",
            "---  ------                         --------------   -----  \n",
            " 0   dt                             239177 non-null  object \n",
            " 1   AverageTemperature             228175 non-null  float64\n",
            " 2   AverageTemperatureUncertainty  228175 non-null  float64\n",
            " 3   City                           239177 non-null  object \n",
            " 4   Country                        239177 non-null  object \n",
            " 5   Latitude                       239177 non-null  object \n",
            " 6   Longitude                      239177 non-null  object \n",
            "dtypes: float64(2), object(5)\n",
            "memory usage: 12.8+ MB\n"
          ]
        }
      ]
    },
    {
      "cell_type": "code",
      "source": [
        "# No duplicates\n",
        "len(df_temp_by_major_city)-len(df_temp_by_major_city.drop_duplicates())"
      ],
      "metadata": {
        "colab": {
          "base_uri": "https://localhost:8080/"
        },
        "id": "IFCrV4CUBg_b",
        "outputId": "20626b9d-6599-435c-d782-897435b0235f"
      },
      "execution_count": null,
      "outputs": [
        {
          "output_type": "execute_result",
          "data": {
            "text/plain": [
              "0"
            ]
          },
          "metadata": {},
          "execution_count": 32
        }
      ]
    },
    {
      "cell_type": "code",
      "source": [
        "# Drop nulls\n",
        "# df_temp_by_major_city.isna().sum()\n",
        "df_temp_by_major_city_clean = df_temp_by_major_city.dropna()\n",
        "df_temp_by_major_city_clean.isna().sum()"
      ],
      "metadata": {
        "colab": {
          "base_uri": "https://localhost:8080/"
        },
        "id": "GPHv2igtBzMV",
        "outputId": "1615b3bb-64cd-4de8-ac4a-361b5f6d8b49"
      },
      "execution_count": null,
      "outputs": [
        {
          "output_type": "execute_result",
          "data": {
            "text/plain": [
              "dt                               0\n",
              "AverageTemperature               0\n",
              "AverageTemperatureUncertainty    0\n",
              "City                             0\n",
              "Country                          0\n",
              "Latitude                         0\n",
              "Longitude                        0\n",
              "dtype: int64"
            ]
          },
          "metadata": {},
          "execution_count": 33
        }
      ]
    },
    {
      "cell_type": "code",
      "source": [
        "# Convert dt to datetime and drop\n",
        "df_temp_by_major_city_clean[\"date\"] = pd.to_datetime(df_temp_by_major_city_clean['dt'], format='%Y-%m-%d')\n",
        "df_temp_by_major_city_clean = df_temp_by_major_city_clean.drop(columns=['dt'])"
      ],
      "metadata": {
        "colab": {
          "base_uri": "https://localhost:8080/"
        },
        "id": "vUgI9io2CK2p",
        "outputId": "1bbd0e26-44a4-4419-fd5f-cc8ea3fc2810"
      },
      "execution_count": null,
      "outputs": [
        {
          "output_type": "stream",
          "name": "stderr",
          "text": [
            "<ipython-input-34-65502cb32fad>:2: SettingWithCopyWarning: \n",
            "A value is trying to be set on a copy of a slice from a DataFrame.\n",
            "Try using .loc[row_indexer,col_indexer] = value instead\n",
            "\n",
            "See the caveats in the documentation: https://pandas.pydata.org/pandas-docs/stable/user_guide/indexing.html#returning-a-view-versus-a-copy\n",
            "  df_temp_by_major_city_clean[\"date\"] = pd.to_datetime(df_temp_by_major_city_clean['dt'], format='%Y-%m-%d')\n"
          ]
        }
      ]
    },
    {
      "cell_type": "code",
      "source": [
        "df_temp_by_major_city_clean.info()"
      ],
      "metadata": {
        "colab": {
          "base_uri": "https://localhost:8080/"
        },
        "id": "EwrGNjXrCQ1G",
        "outputId": "3e2de4da-2d95-4a84-cd8e-39453efb3e93"
      },
      "execution_count": null,
      "outputs": [
        {
          "output_type": "stream",
          "name": "stdout",
          "text": [
            "<class 'pandas.core.frame.DataFrame'>\n",
            "Int64Index: 228175 entries, 0 to 239175\n",
            "Data columns (total 7 columns):\n",
            " #   Column                         Non-Null Count   Dtype         \n",
            "---  ------                         --------------   -----         \n",
            " 0   AverageTemperature             228175 non-null  float64       \n",
            " 1   AverageTemperatureUncertainty  228175 non-null  float64       \n",
            " 2   City                           228175 non-null  object        \n",
            " 3   Country                        228175 non-null  object        \n",
            " 4   Latitude                       228175 non-null  object        \n",
            " 5   Longitude                      228175 non-null  object        \n",
            " 6   date                           228175 non-null  datetime64[ns]\n",
            "dtypes: datetime64[ns](1), float64(2), object(4)\n",
            "memory usage: 13.9+ MB\n"
          ]
        }
      ]
    },
    {
      "cell_type": "code",
      "source": [
        "df_temp_by_state.info()"
      ],
      "metadata": {
        "colab": {
          "base_uri": "https://localhost:8080/"
        },
        "id": "SC_tR0Tz90PB",
        "outputId": "0ae17db1-ebb0-4133-9f1b-24d7c902eadf"
      },
      "execution_count": null,
      "outputs": [
        {
          "output_type": "stream",
          "name": "stdout",
          "text": [
            "<class 'pandas.core.frame.DataFrame'>\n",
            "RangeIndex: 645675 entries, 0 to 645674\n",
            "Data columns (total 5 columns):\n",
            " #   Column                         Non-Null Count   Dtype  \n",
            "---  ------                         --------------   -----  \n",
            " 0   dt                             645675 non-null  object \n",
            " 1   AverageTemperature             620027 non-null  float64\n",
            " 2   AverageTemperatureUncertainty  620027 non-null  float64\n",
            " 3   State                          645675 non-null  object \n",
            " 4   Country                        645675 non-null  object \n",
            "dtypes: float64(2), object(3)\n",
            "memory usage: 24.6+ MB\n"
          ]
        }
      ]
    },
    {
      "cell_type": "code",
      "source": [
        "# No duplicates\n",
        "len(df_temp_by_state)-len(df_temp_by_state.drop_duplicates())"
      ],
      "metadata": {
        "colab": {
          "base_uri": "https://localhost:8080/"
        },
        "id": "VLwfAlv2CsBf",
        "outputId": "67ee6c4f-d0ba-41fc-f970-da1491350ab6"
      },
      "execution_count": null,
      "outputs": [
        {
          "output_type": "execute_result",
          "data": {
            "text/plain": [
              "0"
            ]
          },
          "metadata": {},
          "execution_count": 37
        }
      ]
    },
    {
      "cell_type": "code",
      "source": [
        "# Drop nulls\n",
        "# df_temp_by_state.isna().sum()\n",
        "df_temp_by_state_clean = df_temp_by_state.dropna()\n",
        "df_temp_by_state_clean.isna().sum()"
      ],
      "metadata": {
        "colab": {
          "base_uri": "https://localhost:8080/"
        },
        "id": "KjvVtX0hC18m",
        "outputId": "81e1d253-f1cd-45b5-fade-8ee1b015bb21"
      },
      "execution_count": null,
      "outputs": [
        {
          "output_type": "execute_result",
          "data": {
            "text/plain": [
              "dt                               0\n",
              "AverageTemperature               0\n",
              "AverageTemperatureUncertainty    0\n",
              "State                            0\n",
              "Country                          0\n",
              "dtype: int64"
            ]
          },
          "metadata": {},
          "execution_count": 38
        }
      ]
    },
    {
      "cell_type": "code",
      "source": [
        "# Convert dt to datetime and drop\n",
        "df_temp_by_state_clean[\"date\"] = pd.to_datetime(df_temp_by_state_clean['dt'], format='%Y-%m-%d')\n",
        "df_temp_by_state_clean = df_temp_by_state_clean.drop(columns=['dt'])"
      ],
      "metadata": {
        "colab": {
          "base_uri": "https://localhost:8080/"
        },
        "id": "qinrryOhDOj8",
        "outputId": "1f5681d6-7287-4114-bae2-f6190700dc64"
      },
      "execution_count": null,
      "outputs": [
        {
          "output_type": "stream",
          "name": "stderr",
          "text": [
            "<ipython-input-39-fb495602726c>:2: SettingWithCopyWarning: \n",
            "A value is trying to be set on a copy of a slice from a DataFrame.\n",
            "Try using .loc[row_indexer,col_indexer] = value instead\n",
            "\n",
            "See the caveats in the documentation: https://pandas.pydata.org/pandas-docs/stable/user_guide/indexing.html#returning-a-view-versus-a-copy\n",
            "  df_temp_by_state_clean[\"date\"] = pd.to_datetime(df_temp_by_state_clean['dt'], format='%Y-%m-%d')\n"
          ]
        }
      ]
    },
    {
      "cell_type": "code",
      "source": [
        "df_temp_by_state_clean.info()"
      ],
      "metadata": {
        "colab": {
          "base_uri": "https://localhost:8080/"
        },
        "id": "NAyTfxwZDR48",
        "outputId": "11f4cc85-8a7f-4f06-f9c2-329a61a222d8"
      },
      "execution_count": null,
      "outputs": [
        {
          "output_type": "stream",
          "name": "stdout",
          "text": [
            "<class 'pandas.core.frame.DataFrame'>\n",
            "Int64Index: 620027 entries, 0 to 645673\n",
            "Data columns (total 5 columns):\n",
            " #   Column                         Non-Null Count   Dtype         \n",
            "---  ------                         --------------   -----         \n",
            " 0   AverageTemperature             620027 non-null  float64       \n",
            " 1   AverageTemperatureUncertainty  620027 non-null  float64       \n",
            " 2   State                          620027 non-null  object        \n",
            " 3   Country                        620027 non-null  object        \n",
            " 4   date                           620027 non-null  datetime64[ns]\n",
            "dtypes: datetime64[ns](1), float64(2), object(2)\n",
            "memory usage: 28.4+ MB\n"
          ]
        }
      ]
    },
    {
      "cell_type": "code",
      "source": [
        "df_temp.info()"
      ],
      "metadata": {
        "colab": {
          "base_uri": "https://localhost:8080/"
        },
        "id": "BeIpBxz991jC",
        "outputId": "1485a354-6f6a-4194-ced4-ee07faaf6f40"
      },
      "execution_count": null,
      "outputs": [
        {
          "output_type": "stream",
          "name": "stdout",
          "text": [
            "<class 'pandas.core.frame.DataFrame'>\n",
            "RangeIndex: 3192 entries, 0 to 3191\n",
            "Data columns (total 9 columns):\n",
            " #   Column                                     Non-Null Count  Dtype  \n",
            "---  ------                                     --------------  -----  \n",
            " 0   dt                                         3192 non-null   object \n",
            " 1   LandAverageTemperature                     3180 non-null   float64\n",
            " 2   LandAverageTemperatureUncertainty          3180 non-null   float64\n",
            " 3   LandMaxTemperature                         1992 non-null   float64\n",
            " 4   LandMaxTemperatureUncertainty              1992 non-null   float64\n",
            " 5   LandMinTemperature                         1992 non-null   float64\n",
            " 6   LandMinTemperatureUncertainty              1992 non-null   float64\n",
            " 7   LandAndOceanAverageTemperature             1992 non-null   float64\n",
            " 8   LandAndOceanAverageTemperatureUncertainty  1992 non-null   float64\n",
            "dtypes: float64(8), object(1)\n",
            "memory usage: 224.6+ KB\n"
          ]
        }
      ]
    },
    {
      "cell_type": "code",
      "source": [
        "# No duplicates\n",
        "len(df_temp)-len(df_temp.drop_duplicates())"
      ],
      "metadata": {
        "colab": {
          "base_uri": "https://localhost:8080/"
        },
        "id": "uFRPqEOQCvoP",
        "outputId": "e53346f9-fe09-4065-9fad-7dc498fc7f12"
      },
      "execution_count": null,
      "outputs": [
        {
          "output_type": "execute_result",
          "data": {
            "text/plain": [
              "0"
            ]
          },
          "metadata": {},
          "execution_count": 42
        }
      ]
    },
    {
      "cell_type": "code",
      "source": [
        "# Drop nulls\n",
        "# df_temp.isna().sum()\n",
        "df_temp_clean = df_temp.dropna()\n",
        "df_temp_clean.isna().sum()"
      ],
      "metadata": {
        "colab": {
          "base_uri": "https://localhost:8080/"
        },
        "id": "QAu375fNDAFB",
        "outputId": "0e5732fd-0cf8-4b18-9907-df54019eccd3"
      },
      "execution_count": null,
      "outputs": [
        {
          "output_type": "execute_result",
          "data": {
            "text/plain": [
              "dt                                           0\n",
              "LandAverageTemperature                       0\n",
              "LandAverageTemperatureUncertainty            0\n",
              "LandMaxTemperature                           0\n",
              "LandMaxTemperatureUncertainty                0\n",
              "LandMinTemperature                           0\n",
              "LandMinTemperatureUncertainty                0\n",
              "LandAndOceanAverageTemperature               0\n",
              "LandAndOceanAverageTemperatureUncertainty    0\n",
              "dtype: int64"
            ]
          },
          "metadata": {},
          "execution_count": 43
        }
      ]
    },
    {
      "cell_type": "code",
      "source": [
        "# Convert dt to datetime and drop\n",
        "df_temp_clean[\"date\"] = pd.to_datetime(df_temp_clean['dt'], format='%Y-%m-%d')\n",
        "df_temp_clean = df_temp_clean.drop(columns=['dt'])"
      ],
      "metadata": {
        "colab": {
          "base_uri": "https://localhost:8080/"
        },
        "id": "I_j_plMuDWGL",
        "outputId": "202c5c5d-37c3-4688-8b3a-c0d08a6bb248"
      },
      "execution_count": null,
      "outputs": [
        {
          "output_type": "stream",
          "name": "stderr",
          "text": [
            "<ipython-input-44-f697a7f2877f>:2: SettingWithCopyWarning: \n",
            "A value is trying to be set on a copy of a slice from a DataFrame.\n",
            "Try using .loc[row_indexer,col_indexer] = value instead\n",
            "\n",
            "See the caveats in the documentation: https://pandas.pydata.org/pandas-docs/stable/user_guide/indexing.html#returning-a-view-versus-a-copy\n",
            "  df_temp_clean[\"date\"] = pd.to_datetime(df_temp_clean['dt'], format='%Y-%m-%d')\n"
          ]
        }
      ]
    },
    {
      "cell_type": "code",
      "source": [
        "df_temp_clean.info()"
      ],
      "metadata": {
        "colab": {
          "base_uri": "https://localhost:8080/"
        },
        "id": "IE-vURACDeN5",
        "outputId": "6891b283-aff9-4a5d-e225-2ff1cb2fee6d"
      },
      "execution_count": null,
      "outputs": [
        {
          "output_type": "stream",
          "name": "stdout",
          "text": [
            "<class 'pandas.core.frame.DataFrame'>\n",
            "Int64Index: 1992 entries, 1200 to 3191\n",
            "Data columns (total 9 columns):\n",
            " #   Column                                     Non-Null Count  Dtype         \n",
            "---  ------                                     --------------  -----         \n",
            " 0   LandAverageTemperature                     1992 non-null   float64       \n",
            " 1   LandAverageTemperatureUncertainty          1992 non-null   float64       \n",
            " 2   LandMaxTemperature                         1992 non-null   float64       \n",
            " 3   LandMaxTemperatureUncertainty              1992 non-null   float64       \n",
            " 4   LandMinTemperature                         1992 non-null   float64       \n",
            " 5   LandMinTemperatureUncertainty              1992 non-null   float64       \n",
            " 6   LandAndOceanAverageTemperature             1992 non-null   float64       \n",
            " 7   LandAndOceanAverageTemperatureUncertainty  1992 non-null   float64       \n",
            " 8   date                                       1992 non-null   datetime64[ns]\n",
            "dtypes: datetime64[ns](1), float64(8)\n",
            "memory usage: 155.6 KB\n"
          ]
        }
      ]
    },
    {
      "cell_type": "markdown",
      "source": [
        "# Tweets dataset\n",
        "Disaster Tweets dataset: we will looks for climate related tweets.\n",
        "It has the climate data such as heat stress days from 2001 to 2020. "
      ],
      "metadata": {
        "id": "Y5B4aCYrq-I8"
      }
    },
    {
      "cell_type": "markdown",
      "source": [
        "Mount the next dataset Tweets.csv"
      ],
      "metadata": {
        "id": "h9PNoHQDq_Ra"
      }
    },
    {
      "cell_type": "code",
      "source": [
        "!! kaggle datasets download -d vstepanenko/disaster-tweets"
      ],
      "metadata": {
        "colab": {
          "base_uri": "https://localhost:8080/"
        },
        "id": "goI0iB2_tkcM",
        "outputId": "e6b1d123-47a6-4e28-97af-13084f01ab44"
      },
      "execution_count": null,
      "outputs": [
        {
          "output_type": "execute_result",
          "data": {
            "text/plain": [
              "['Downloading disaster-tweets.zip to /content',\n",
              " '',\n",
              " '  0% 0.00/656k [00:00<?, ?B/s]',\n",
              " '',\n",
              " '100% 656k/656k [00:00<00:00, 116MB/s]']"
            ]
          },
          "metadata": {},
          "execution_count": 46
        }
      ]
    },
    {
      "cell_type": "code",
      "source": [
        "from google.colab import drive\n",
        "drive.mount('/content/drive')\n",
        "import os\n",
        "os.chdir(\"drive/My Drive/CIS-545_Earth_Temperatures_Project\")"
      ],
      "metadata": {
        "colab": {
          "base_uri": "https://localhost:8080/"
        },
        "id": "mr2evErltkw_",
        "outputId": "9ab97801-5ac9-45ae-fd27-3d401b19da55"
      },
      "execution_count": null,
      "outputs": [
        {
          "output_type": "stream",
          "name": "stdout",
          "text": [
            "Drive already mounted at /content/drive; to attempt to forcibly remount, call drive.mount(\"/content/drive\", force_remount=True).\n"
          ]
        }
      ]
    },
    {
      "cell_type": "code",
      "source": [
        "tweets_df = pd.read_csv('tweets.csv')\n",
        "tweets_df.dtypes"
      ],
      "metadata": {
        "colab": {
          "base_uri": "https://localhost:8080/"
        },
        "id": "CbmeYiERsIyY",
        "outputId": "577caf2b-45d9-4dc7-a4ad-8dc424f449a7"
      },
      "execution_count": null,
      "outputs": [
        {
          "output_type": "execute_result",
          "data": {
            "text/plain": [
              "id           int64\n",
              "keyword     object\n",
              "location    object\n",
              "text        object\n",
              "target       int64\n",
              "dtype: object"
            ]
          },
          "metadata": {},
          "execution_count": 48
        }
      ]
    },
    {
      "cell_type": "markdown",
      "source": [
        "Find all the unique keywords in the Tweets .csv file . Convert it to alist . Convert the Unique cities to alist. Export the Unique cities and Unique keywords to two different Csv  files through a DF step.  Open and read them manually. Select the keywords relevant to weather or Climate Change in the Excel . Continue Processing. \n"
      ],
      "metadata": {
        "id": "8C0WhkTRgMqQ"
      }
    },
    {
      "cell_type": "code",
      "source": [
        "tweets_df.head()\n",
        "keywords_list = tweets_df.keyword.unique().tolist()\n",
        "print(\"unique key words count\",len(keywords_list))\n",
        "tweet_cities = tweets_df.location.unique().tolist()\n",
        "print(\"unique cities in tweets\",len(tweet_cities))\n",
        "# Keyword List to Df \n",
        "keywords_df = pd.DataFrame(keywords_list,columns = ['Tweet keywords'])\n",
        "# First Tweet keywords File below \n",
        "keywords_df.to_csv(\"tweet_keywords.csv\")\n",
        "# The Tweets Cities Df Below , City names are Dirty \n",
        "tweet_cities_df = pd.DataFrame(tweet_cities,columns = ['Tweet cities'])\n",
        "# TweetCities File to see the cities and assess cleanliness \n",
        "tweet_cities_df.to_csv(\"tweet_cities\")"
      ],
      "metadata": {
        "colab": {
          "base_uri": "https://localhost:8080/"
        },
        "id": "qG-JXrvyxs5v",
        "outputId": "f6eb335a-0e26-4cd2-baae-0ea6d0694fdd"
      },
      "execution_count": null,
      "outputs": [
        {
          "output_type": "stream",
          "name": "stdout",
          "text": [
            "unique key words count 219\n",
            "unique cities in tweets 4505\n"
          ]
        }
      ]
    },
    {
      "cell_type": "markdown",
      "source": [
        "The tweet keywords relevant to weather were selected manually from the downloaded tweet_keywords.csv and will now be used in the next cell to downselect the tweets to relevant tweets."
      ],
      "metadata": {
        "id": "OvXCPSiRPpIx"
      }
    },
    {
      "cell_type": "code",
      "source": [
        "tw_keywords_sel_df = pd.read_csv(\"tweet_keywords_select.csv\")\n",
        "tw_keywords_sel_df = tw_keywords_sel_df.loc[tw_keywords_sel_df['Selected'] == 'Y']\n",
        "#tw_keywords_sel_df.head()\n",
        "climate_tweets_df = tw_keywords_sel_df.merge(tweets_df,left_on= 'Tweet keywords',right_on = 'keyword',how = 'inner')\n",
        "climate_tweets_df = climate_tweets_df[climate_tweets_df['location'].notna()]\n",
        "print(\"tweets relevant to climate based disaster\",len(climate_tweets_df))\n"
      ],
      "metadata": {
        "colab": {
          "base_uri": "https://localhost:8080/"
        },
        "id": "v9CGx7sbP3h3",
        "outputId": "dada5f15-1076-4715-ec59-a35cc3d66e53"
      },
      "execution_count": null,
      "outputs": [
        {
          "output_type": "stream",
          "name": "stdout",
          "text": [
            "tweets relevant to climate based disaster 1340\n"
          ]
        }
      ]
    },
    {
      "cell_type": "markdown",
      "source": [
        "# OECD dataset"
      ],
      "metadata": {
        "id": "WpP5dNEw9O45"
      }
    },
    {
      "cell_type": "markdown",
      "source": [
        "\n",
        "OECD Dataset on climate and Economic data.\n",
        "\n",
        "OECD FUA city dataset link\n",
        "https://stats.oecd.org/Index.aspx?datasetcode=FUA_CITY\n",
        "https://stats.oecd.org/Index.aspx?DataSetCode=CITIES#\n",
        "\n",
        "It has GDP per capita data. This enables us to see the income level of the cities which are most impacted by climate change."
      ],
      "metadata": {
        "id": "1WlMLZVV0l1I"
      }
    },
    {
      "cell_type": "code",
      "source": [
        "oecd_cities_climate = pd.read_csv(\"FUA_CITY_OECD_DATA.csv\")\n",
        "oecd_cities_climate.dtypes"
      ],
      "metadata": {
        "colab": {
          "base_uri": "https://localhost:8080/"
        },
        "id": "wtlODZfA0qmF",
        "outputId": "456b9f04-9302-45a4-b719-db171356adb4"
      },
      "execution_count": null,
      "outputs": [
        {
          "output_type": "execute_result",
          "data": {
            "text/plain": [
              "LOCATION            object\n",
              "Country             object\n",
              "TL                  object\n",
              "Territory level     object\n",
              "GEO                 object\n",
              "Geography           object\n",
              "VAR                 object\n",
              "Variable            object\n",
              "TIME                 int64\n",
              "Time                 int64\n",
              "Value              float64\n",
              "Flag Codes         float64\n",
              "Flags              float64\n",
              "dtype: object"
            ]
          },
          "metadata": {},
          "execution_count": 51
        }
      ]
    },
    {
      "cell_type": "code",
      "source": [
        "oecd_cities_climate.head()\n",
        "variables_tracked = oecd_cities_climate.Variable.unique()\n",
        "print(\"variables tracked:\",len(variables_tracked))\n",
        "print(variables_tracked)"
      ],
      "metadata": {
        "colab": {
          "base_uri": "https://localhost:8080/"
        },
        "id": "6ybGhuRD1YEy",
        "outputId": "d2864e6d-60de-474f-b4f4-10ab073ec97b"
      },
      "execution_count": null,
      "outputs": [
        {
          "output_type": "stream",
          "name": "stdout",
          "text": [
            "variables tracked: 25\n",
            "['Heating degree days (Sum over a year of the differences between the threshold temperature (15.5°C) and the daily mean outdoor temperature when the daily mean outdoor temperature is below 15.5°C)'\n",
            " 'Days of very strong heat stress (UTCI > 38°C)'\n",
            " 'Cooling degree days (Sum over a year of the differences between the daily mean outdoor air temperature and the threshold temperature (22°C) when the daily mean outdoor temperature is above 22°C)'\n",
            " 'Days of extreme heat stress (UTCI > 46°C)'\n",
            " 'Days of strong heat stress (UTCI > 32°C)'\n",
            " 'Additional days of very strong heat stress (UTCI > 38°C) compared to the 1981-2010 average'\n",
            " 'Nightime urban heat island: difference in land surface temperature (in °C) between the built-up area and its surroundings'\n",
            " 'Share of population esposed to river flooding, 50-year return period'\n",
            " 'Share of population exposed to river flooding, 10-year return period'\n",
            " 'Area burned as a share of total area'\n",
            " 'Share of population exposed to coastal flooding, 100-year return period'\n",
            " 'Additional days of strong heat stress (UTCI > 32°C) compared to the 1981-2010 average'\n",
            " 'Share of population exposed to at least one forest fire'\n",
            " 'Summer nighttime urban heat island: difference in land surface temperature (in °C) between the built-up area and its surroundings'\n",
            " 'Additional cooling degree days, compared to 1981-2010'\n",
            " 'Share of population esposed to coastal flooding, 50-year return period'\n",
            " 'Summer daytime urban heat island: difference in land surface temperature (in °C) between the built-up area and its surroundings'\n",
            " 'Share of population exposed to coastal flooding, 10-year return period'\n",
            " 'Additional days of extreme heat stress (UTCI > 46°C) compared to the 1981-2010 average'\n",
            " 'Share of population exposed to river flooding, 100-year return period'\n",
            " 'Daytime urban heat island: difference in land surface temperature (in °C) between the built-up area and its surroundings'\n",
            " 'Additional heating degree days, compared to 1981-2010'\n",
            " 'Share of population exposed to coastal flooding, 25-year return period'\n",
            " 'Share of population exposed to river flooding, 20-year return period'\n",
            " 'Built-up area burned as a share of total built-up area ']\n"
          ]
        }
      ]
    },
    {
      "cell_type": "markdown",
      "source": [
        "There are 25 climate variables tracked by city. We can flatten the data set and make the variables columns and put the dats in the row form for ease of use if we wish to look at all 25. Need to decide how to analyze. Below we check the number of cities and compare to the temperature dataset"
      ],
      "metadata": {
        "id": "zcZg4Osmud0s"
      }
    },
    {
      "cell_type": "code",
      "source": [
        "oecd_cities = oecd_cities_climate.loc[oecd_cities_climate['TL']=='CITY']\n",
        "oecd_cities_list = oecd_cities.Geography.unique().tolist()\n",
        "print(\"oecd cities count\",len(oecd_cities_list))"
      ],
      "metadata": {
        "colab": {
          "base_uri": "https://localhost:8080/"
        },
        "id": "gtv-yr-aur0h",
        "outputId": "52fb2a5c-09a2-4253-c7ec-74f848f54a5f"
      },
      "execution_count": null,
      "outputs": [
        {
          "output_type": "stream",
          "name": "stdout",
          "text": [
            "oecd cities count 1385\n"
          ]
        }
      ]
    },
    {
      "cell_type": "markdown",
      "source": [
        "OECD city gdp data is from link below https://stats.oecd.org/Index.aspx?datasetcode=FUA_CITY\n",
        "\n",
        "GDP data exists here at country level but the city is called \"Functional Urban Area\"(FUA), The field VAR = GDP_REAL_PPP indicates per capita GDP in the city by year from 2001 and we can use this to rate the city amongst the cities. We can keep the data only for the year 2015 as GDP is normalized to prices in the year 2015. To be decided by the group"
      ],
      "metadata": {
        "id": "DI5v5aw91wLq"
      }
    },
    {
      "cell_type": "code",
      "source": [
        "oecd_cities_gdp = pd.read_csv(\"FUA_CITY_GDP.csv\")\n",
        "oecd_cities_gdp.head()\n",
        "oecd_gdp_cities_list = oecd_cities_gdp.Geography.unique()\n",
        "print(\"count of cities for gdp\",len(oecd_gdp_cities_list))"
      ],
      "metadata": {
        "colab": {
          "base_uri": "https://localhost:8080/"
        },
        "id": "fuSeAY221vTK",
        "outputId": "32b54028-93a5-473c-9e7c-477006af6951"
      },
      "execution_count": null,
      "outputs": [
        {
          "output_type": "stream",
          "name": "stdout",
          "text": [
            "count of cities for gdp 699\n"
          ]
        }
      ]
    },
    {
      "cell_type": "markdown",
      "source": [
        "Keep only per capita GDP rows for the year 2015 . Put the cities into 4 quartiles where 1 is high gdp and 4 is lowest gdp"
      ],
      "metadata": {
        "id": "bh6-fx4C6FJ9"
      }
    },
    {
      "cell_type": "code",
      "source": [
        "oecd_quartile_list = oecd_cities_gdp.Value.quantile([0.25,0.50,0.75]).tolist()\n",
        "print(oecd_quartile_list)"
      ],
      "metadata": {
        "colab": {
          "base_uri": "https://localhost:8080/"
        },
        "id": "Y7ntt4vLHRqF",
        "outputId": "c2dde344-524a-4873-9ec0-1f0406139836"
      },
      "execution_count": null,
      "outputs": [
        {
          "output_type": "stream",
          "name": "stdout",
          "text": [
            "[8722.75, 39698.5, 100516.5]\n"
          ]
        }
      ]
    },
    {
      "cell_type": "code",
      "source": [
        "# hard coded values from above cell\n",
        "def quartile_calc(x):\n",
        "\n",
        "  if x < 11519.0:\n",
        "    return 4\n",
        "  else:\n",
        "    if x < 19741.0:\n",
        "      return 3\n",
        "    else:\n",
        "      if x< 38664.5:\n",
        "        return 2\n",
        "      else:\n",
        "        return 1\n",
        "\n",
        "oecd_cities_gdp = oecd_cities_gdp.loc[oecd_cities_gdp['VAR']== \"GDP_REAL_PPP\" ]\n",
        "oecd_cities_gdp = oecd_cities_gdp.loc[oecd_cities_gdp['TIME'] == 2015]\n",
        "#oecd_cities_gdp.head()\n",
        "\n",
        "\n",
        "oecd_cities_gdp = oecd_cities_gdp.assign(Quartile = lambda x : x.Value.apply(quartile_calc) )\n",
        "#oecd_cities_gdp.head()"
      ],
      "metadata": {
        "id": "9Vp3VbA35XmV"
      },
      "execution_count": null,
      "outputs": []
    },
    {
      "cell_type": "markdown",
      "source": [
        "The oecd cities all have a GEO field and we will use this to merge in gdp quartile data where applicable. The GDP is at the Functional Urban Area level whereas the climate data is both at the FUA level and the city level. For the purposes of impact of extreme weather on lower income neighborhoods, it is probably better to use the FUA level analysis. \n"
      ],
      "metadata": {
        "id": "CjoTsn6dU0YZ"
      }
    },
    {
      "cell_type": "code",
      "source": [
        "oecd_cities_climate_gdp = oecd_cities_climate.merge(oecd_cities_gdp[['GEO','Quartile']],left_on = 'GEO', right_on ='GEO',how = 'left' )\n",
        "oecd_full_cities_list = oecd_cities_climate_gdp.Geography.unique().tolist()\n",
        "oecd_cities_climate_gdp.tail()"
      ],
      "metadata": {
        "id": "gPy20CQIUzzc",
        "colab": {
          "base_uri": "https://localhost:8080/",
          "height": 635
        },
        "outputId": "525c037f-6ee7-4fad-d4c8-f56d02356dc7"
      },
      "execution_count": null,
      "outputs": [
        {
          "output_type": "execute_result",
          "data": {
            "text/plain": [
              "       LOCATION        Country    TL Territory level     GEO Geography  \\\n",
              "650546      USA  United States  CITY            City  USA68C      Kent   \n",
              "650547      USA  United States  CITY            City  USA68C      Kent   \n",
              "650548      USA  United States  CITY            City  USA68C      Kent   \n",
              "650549      USA  United States  CITY            City  USA68C      Kent   \n",
              "650550      USA  United States  CITY            City  USA68C      Kent   \n",
              "\n",
              "                 VAR                                           Variable  TIME  \\\n",
              "650546  FIRES_POP_SH  Share of population exposed to at least one fo...  2017   \n",
              "650547  FIRES_POP_SH  Share of population exposed to at least one fo...  2018   \n",
              "650548  FIRES_POP_SH  Share of population exposed to at least one fo...  2019   \n",
              "650549  FIRES_POP_SH  Share of population exposed to at least one fo...  2020   \n",
              "650550  FIRES_POP_SH  Share of population exposed to at least one fo...  2021   \n",
              "\n",
              "        Time  Value  Flag Codes  Flags  Quartile  \n",
              "650546  2017    0.0         NaN    NaN       NaN  \n",
              "650547  2018    0.0         NaN    NaN       NaN  \n",
              "650548  2019    0.0         NaN    NaN       NaN  \n",
              "650549  2020    0.0         NaN    NaN       NaN  \n",
              "650550  2021    0.0         NaN    NaN       NaN  "
            ],
            "text/html": [
              "\n",
              "  <div id=\"df-83088a87-4f0b-48e8-98c2-fb983c5d152f\">\n",
              "    <div class=\"colab-df-container\">\n",
              "      <div>\n",
              "<style scoped>\n",
              "    .dataframe tbody tr th:only-of-type {\n",
              "        vertical-align: middle;\n",
              "    }\n",
              "\n",
              "    .dataframe tbody tr th {\n",
              "        vertical-align: top;\n",
              "    }\n",
              "\n",
              "    .dataframe thead th {\n",
              "        text-align: right;\n",
              "    }\n",
              "</style>\n",
              "<table border=\"1\" class=\"dataframe\">\n",
              "  <thead>\n",
              "    <tr style=\"text-align: right;\">\n",
              "      <th></th>\n",
              "      <th>LOCATION</th>\n",
              "      <th>Country</th>\n",
              "      <th>TL</th>\n",
              "      <th>Territory level</th>\n",
              "      <th>GEO</th>\n",
              "      <th>Geography</th>\n",
              "      <th>VAR</th>\n",
              "      <th>Variable</th>\n",
              "      <th>TIME</th>\n",
              "      <th>Time</th>\n",
              "      <th>Value</th>\n",
              "      <th>Flag Codes</th>\n",
              "      <th>Flags</th>\n",
              "      <th>Quartile</th>\n",
              "    </tr>\n",
              "  </thead>\n",
              "  <tbody>\n",
              "    <tr>\n",
              "      <th>650546</th>\n",
              "      <td>USA</td>\n",
              "      <td>United States</td>\n",
              "      <td>CITY</td>\n",
              "      <td>City</td>\n",
              "      <td>USA68C</td>\n",
              "      <td>Kent</td>\n",
              "      <td>FIRES_POP_SH</td>\n",
              "      <td>Share of population exposed to at least one fo...</td>\n",
              "      <td>2017</td>\n",
              "      <td>2017</td>\n",
              "      <td>0.0</td>\n",
              "      <td>NaN</td>\n",
              "      <td>NaN</td>\n",
              "      <td>NaN</td>\n",
              "    </tr>\n",
              "    <tr>\n",
              "      <th>650547</th>\n",
              "      <td>USA</td>\n",
              "      <td>United States</td>\n",
              "      <td>CITY</td>\n",
              "      <td>City</td>\n",
              "      <td>USA68C</td>\n",
              "      <td>Kent</td>\n",
              "      <td>FIRES_POP_SH</td>\n",
              "      <td>Share of population exposed to at least one fo...</td>\n",
              "      <td>2018</td>\n",
              "      <td>2018</td>\n",
              "      <td>0.0</td>\n",
              "      <td>NaN</td>\n",
              "      <td>NaN</td>\n",
              "      <td>NaN</td>\n",
              "    </tr>\n",
              "    <tr>\n",
              "      <th>650548</th>\n",
              "      <td>USA</td>\n",
              "      <td>United States</td>\n",
              "      <td>CITY</td>\n",
              "      <td>City</td>\n",
              "      <td>USA68C</td>\n",
              "      <td>Kent</td>\n",
              "      <td>FIRES_POP_SH</td>\n",
              "      <td>Share of population exposed to at least one fo...</td>\n",
              "      <td>2019</td>\n",
              "      <td>2019</td>\n",
              "      <td>0.0</td>\n",
              "      <td>NaN</td>\n",
              "      <td>NaN</td>\n",
              "      <td>NaN</td>\n",
              "    </tr>\n",
              "    <tr>\n",
              "      <th>650549</th>\n",
              "      <td>USA</td>\n",
              "      <td>United States</td>\n",
              "      <td>CITY</td>\n",
              "      <td>City</td>\n",
              "      <td>USA68C</td>\n",
              "      <td>Kent</td>\n",
              "      <td>FIRES_POP_SH</td>\n",
              "      <td>Share of population exposed to at least one fo...</td>\n",
              "      <td>2020</td>\n",
              "      <td>2020</td>\n",
              "      <td>0.0</td>\n",
              "      <td>NaN</td>\n",
              "      <td>NaN</td>\n",
              "      <td>NaN</td>\n",
              "    </tr>\n",
              "    <tr>\n",
              "      <th>650550</th>\n",
              "      <td>USA</td>\n",
              "      <td>United States</td>\n",
              "      <td>CITY</td>\n",
              "      <td>City</td>\n",
              "      <td>USA68C</td>\n",
              "      <td>Kent</td>\n",
              "      <td>FIRES_POP_SH</td>\n",
              "      <td>Share of population exposed to at least one fo...</td>\n",
              "      <td>2021</td>\n",
              "      <td>2021</td>\n",
              "      <td>0.0</td>\n",
              "      <td>NaN</td>\n",
              "      <td>NaN</td>\n",
              "      <td>NaN</td>\n",
              "    </tr>\n",
              "  </tbody>\n",
              "</table>\n",
              "</div>\n",
              "      <button class=\"colab-df-convert\" onclick=\"convertToInteractive('df-83088a87-4f0b-48e8-98c2-fb983c5d152f')\"\n",
              "              title=\"Convert this dataframe to an interactive table.\"\n",
              "              style=\"display:none;\">\n",
              "        \n",
              "  <svg xmlns=\"http://www.w3.org/2000/svg\" height=\"24px\"viewBox=\"0 0 24 24\"\n",
              "       width=\"24px\">\n",
              "    <path d=\"M0 0h24v24H0V0z\" fill=\"none\"/>\n",
              "    <path d=\"M18.56 5.44l.94 2.06.94-2.06 2.06-.94-2.06-.94-.94-2.06-.94 2.06-2.06.94zm-11 1L8.5 8.5l.94-2.06 2.06-.94-2.06-.94L8.5 2.5l-.94 2.06-2.06.94zm10 10l.94 2.06.94-2.06 2.06-.94-2.06-.94-.94-2.06-.94 2.06-2.06.94z\"/><path d=\"M17.41 7.96l-1.37-1.37c-.4-.4-.92-.59-1.43-.59-.52 0-1.04.2-1.43.59L10.3 9.45l-7.72 7.72c-.78.78-.78 2.05 0 2.83L4 21.41c.39.39.9.59 1.41.59.51 0 1.02-.2 1.41-.59l7.78-7.78 2.81-2.81c.8-.78.8-2.07 0-2.86zM5.41 20L4 18.59l7.72-7.72 1.47 1.35L5.41 20z\"/>\n",
              "  </svg>\n",
              "      </button>\n",
              "      \n",
              "  <style>\n",
              "    .colab-df-container {\n",
              "      display:flex;\n",
              "      flex-wrap:wrap;\n",
              "      gap: 12px;\n",
              "    }\n",
              "\n",
              "    .colab-df-convert {\n",
              "      background-color: #E8F0FE;\n",
              "      border: none;\n",
              "      border-radius: 50%;\n",
              "      cursor: pointer;\n",
              "      display: none;\n",
              "      fill: #1967D2;\n",
              "      height: 32px;\n",
              "      padding: 0 0 0 0;\n",
              "      width: 32px;\n",
              "    }\n",
              "\n",
              "    .colab-df-convert:hover {\n",
              "      background-color: #E2EBFA;\n",
              "      box-shadow: 0px 1px 2px rgba(60, 64, 67, 0.3), 0px 1px 3px 1px rgba(60, 64, 67, 0.15);\n",
              "      fill: #174EA6;\n",
              "    }\n",
              "\n",
              "    [theme=dark] .colab-df-convert {\n",
              "      background-color: #3B4455;\n",
              "      fill: #D2E3FC;\n",
              "    }\n",
              "\n",
              "    [theme=dark] .colab-df-convert:hover {\n",
              "      background-color: #434B5C;\n",
              "      box-shadow: 0px 1px 3px 1px rgba(0, 0, 0, 0.15);\n",
              "      filter: drop-shadow(0px 1px 2px rgba(0, 0, 0, 0.3));\n",
              "      fill: #FFFFFF;\n",
              "    }\n",
              "  </style>\n",
              "\n",
              "      <script>\n",
              "        const buttonEl =\n",
              "          document.querySelector('#df-83088a87-4f0b-48e8-98c2-fb983c5d152f button.colab-df-convert');\n",
              "        buttonEl.style.display =\n",
              "          google.colab.kernel.accessAllowed ? 'block' : 'none';\n",
              "\n",
              "        async function convertToInteractive(key) {\n",
              "          const element = document.querySelector('#df-83088a87-4f0b-48e8-98c2-fb983c5d152f');\n",
              "          const dataTable =\n",
              "            await google.colab.kernel.invokeFunction('convertToInteractive',\n",
              "                                                     [key], {});\n",
              "          if (!dataTable) return;\n",
              "\n",
              "          const docLinkHtml = 'Like what you see? Visit the ' +\n",
              "            '<a target=\"_blank\" href=https://colab.research.google.com/notebooks/data_table.ipynb>data table notebook</a>'\n",
              "            + ' to learn more about interactive tables.';\n",
              "          element.innerHTML = '';\n",
              "          dataTable['output_type'] = 'display_data';\n",
              "          await google.colab.output.renderOutput(dataTable, element);\n",
              "          const docLink = document.createElement('div');\n",
              "          docLink.innerHTML = docLinkHtml;\n",
              "          element.appendChild(docLink);\n",
              "        }\n",
              "      </script>\n",
              "    </div>\n",
              "  </div>\n",
              "  "
            ]
          },
          "metadata": {},
          "execution_count": 57
        }
      ]
    },
    {
      "cell_type": "markdown",
      "source": [
        "Look for the matches in city names between the temperature data set and OECD data set. There appear to be 528 ( see code cell output below)\n",
        "Conclusions:\n",
        " temperature dataset can drop cities with too much missing data. \n",
        " temperature dataset can possibly interpolate values for missing data for cities that are retained.\n",
        " the temperature data set can be used to days of heat stress.\n",
        " We can match the cities in the 2 data sets for deeper analysis"
      ],
      "metadata": {
        "id": "Clrq9f8uZNZR"
      }
    },
    {
      "cell_type": "code",
      "source": [
        "cities_temp_and_oecd = []\n",
        "# cities_from_temp_list has the cities from df_city_temp, oecd_full_cities_list has cities from oecd datasets after merge\n",
        "# code below finds the common cities\n",
        "for x in cities_from_temp_list:\n",
        "  if x in oecd_full_cities_list:\n",
        "    cities_temp_and_oecd.append(x)\n",
        "print(len(cities_temp_and_oecd))"
      ],
      "metadata": {
        "id": "BdjiplrpZKw1",
        "colab": {
          "base_uri": "https://localhost:8080/"
        },
        "outputId": "b747e518-7a4c-4545-98b9-d4fa389b739f"
      },
      "execution_count": null,
      "outputs": [
        {
          "output_type": "stream",
          "name": "stdout",
          "text": [
            "528\n"
          ]
        }
      ]
    },
    {
      "cell_type": "markdown",
      "source": [
        "# OECD dataset"
      ],
      "metadata": {
        "id": "DAcl71BlGYYX"
      }
    },
    {
      "cell_type": "markdown",
      "source": [
        "https://stats.oecd.org/Index.aspx?datasetcode=FUA_CITY"
      ],
      "metadata": {
        "id": "xfD-6ruYTMF0"
      }
    },
    {
      "cell_type": "markdown",
      "source": [
        "Create link to project folder in google drive\n",
        "![image.png](data:image/png;base64,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)"
      ],
      "metadata": {
        "id": "LkLQaasWYcFh"
      }
    },
    {
      "cell_type": "code",
      "source": [
        "# TODO: when porting:\n",
        "# (1) first line 'df_city_demography' got corrected for consistency\n",
        "# (2) path feed to read_cvs() got changed\n",
        "# Download datasets\n",
        "df_city_demography = pd.read_csv(\"FUA_CITY_Demography.csv\")\n",
        "df_economy = pd.read_csv(\"FUA_CITY_Economy.csv\")\n",
        "df_air_pollution = pd.read_csv(\"FUA_CITY_Air_pollution.csv\")\n",
        "df_climate_hazards = pd.read_csv(\"FUA_CITY_Climate_hazards.csv\")\n",
        "df_territorial_organization = pd.read_csv(\"FUA_CITY_Territorial_Organization.csv\")\n"
      ],
      "metadata": {
        "id": "7qixe05TIMZD"
      },
      "execution_count": null,
      "outputs": []
    },
    {
      "cell_type": "code",
      "source": [
        "df_city_demography.head()"
      ],
      "metadata": {
        "colab": {
          "base_uri": "https://localhost:8080/",
          "height": 354
        },
        "id": "rn81fGZTYM48",
        "outputId": "aa06b06a-96cb-47f7-a99a-5aa0fbc631ce"
      },
      "execution_count": null,
      "outputs": [
        {
          "output_type": "execute_result",
          "data": {
            "text/plain": [
              "  LOCATION    Country       TL Territory level  GEO  Geography  VAR  \\\n",
              "0      AUS  Australia  COUNTRY         Country  AUS  Australia  T_T   \n",
              "1      AUS  Australia  COUNTRY         Country  AUS  Australia  T_T   \n",
              "2      AUS  Australia  COUNTRY         Country  AUS  Australia  T_T   \n",
              "3      AUS  Australia  COUNTRY         Country  AUS  Australia  T_T   \n",
              "4      AUS  Australia  COUNTRY         Country  AUS  Australia  T_T   \n",
              "\n",
              "                                    Variable  TIME  Time       Value  \\\n",
              "0  Population, all ages, administrative data  2001  2001  19272100.0   \n",
              "1  Population, all ages, administrative data  2002  2002  19492800.0   \n",
              "2  Population, all ages, administrative data  2003  2003  19718400.0   \n",
              "3  Population, all ages, administrative data  2004  2004  19930400.0   \n",
              "4  Population, all ages, administrative data  2005  2005  20174500.0   \n",
              "\n",
              "   Flag Codes  Flags  \n",
              "0         NaN    NaN  \n",
              "1         NaN    NaN  \n",
              "2         NaN    NaN  \n",
              "3         NaN    NaN  \n",
              "4         NaN    NaN  "
            ],
            "text/html": [
              "\n",
              "  <div id=\"df-dff9468e-9018-4e9b-a77b-43ec6c45e3b0\">\n",
              "    <div class=\"colab-df-container\">\n",
              "      <div>\n",
              "<style scoped>\n",
              "    .dataframe tbody tr th:only-of-type {\n",
              "        vertical-align: middle;\n",
              "    }\n",
              "\n",
              "    .dataframe tbody tr th {\n",
              "        vertical-align: top;\n",
              "    }\n",
              "\n",
              "    .dataframe thead th {\n",
              "        text-align: right;\n",
              "    }\n",
              "</style>\n",
              "<table border=\"1\" class=\"dataframe\">\n",
              "  <thead>\n",
              "    <tr style=\"text-align: right;\">\n",
              "      <th></th>\n",
              "      <th>LOCATION</th>\n",
              "      <th>Country</th>\n",
              "      <th>TL</th>\n",
              "      <th>Territory level</th>\n",
              "      <th>GEO</th>\n",
              "      <th>Geography</th>\n",
              "      <th>VAR</th>\n",
              "      <th>Variable</th>\n",
              "      <th>TIME</th>\n",
              "      <th>Time</th>\n",
              "      <th>Value</th>\n",
              "      <th>Flag Codes</th>\n",
              "      <th>Flags</th>\n",
              "    </tr>\n",
              "  </thead>\n",
              "  <tbody>\n",
              "    <tr>\n",
              "      <th>0</th>\n",
              "      <td>AUS</td>\n",
              "      <td>Australia</td>\n",
              "      <td>COUNTRY</td>\n",
              "      <td>Country</td>\n",
              "      <td>AUS</td>\n",
              "      <td>Australia</td>\n",
              "      <td>T_T</td>\n",
              "      <td>Population, all ages, administrative data</td>\n",
              "      <td>2001</td>\n",
              "      <td>2001</td>\n",
              "      <td>19272100.0</td>\n",
              "      <td>NaN</td>\n",
              "      <td>NaN</td>\n",
              "    </tr>\n",
              "    <tr>\n",
              "      <th>1</th>\n",
              "      <td>AUS</td>\n",
              "      <td>Australia</td>\n",
              "      <td>COUNTRY</td>\n",
              "      <td>Country</td>\n",
              "      <td>AUS</td>\n",
              "      <td>Australia</td>\n",
              "      <td>T_T</td>\n",
              "      <td>Population, all ages, administrative data</td>\n",
              "      <td>2002</td>\n",
              "      <td>2002</td>\n",
              "      <td>19492800.0</td>\n",
              "      <td>NaN</td>\n",
              "      <td>NaN</td>\n",
              "    </tr>\n",
              "    <tr>\n",
              "      <th>2</th>\n",
              "      <td>AUS</td>\n",
              "      <td>Australia</td>\n",
              "      <td>COUNTRY</td>\n",
              "      <td>Country</td>\n",
              "      <td>AUS</td>\n",
              "      <td>Australia</td>\n",
              "      <td>T_T</td>\n",
              "      <td>Population, all ages, administrative data</td>\n",
              "      <td>2003</td>\n",
              "      <td>2003</td>\n",
              "      <td>19718400.0</td>\n",
              "      <td>NaN</td>\n",
              "      <td>NaN</td>\n",
              "    </tr>\n",
              "    <tr>\n",
              "      <th>3</th>\n",
              "      <td>AUS</td>\n",
              "      <td>Australia</td>\n",
              "      <td>COUNTRY</td>\n",
              "      <td>Country</td>\n",
              "      <td>AUS</td>\n",
              "      <td>Australia</td>\n",
              "      <td>T_T</td>\n",
              "      <td>Population, all ages, administrative data</td>\n",
              "      <td>2004</td>\n",
              "      <td>2004</td>\n",
              "      <td>19930400.0</td>\n",
              "      <td>NaN</td>\n",
              "      <td>NaN</td>\n",
              "    </tr>\n",
              "    <tr>\n",
              "      <th>4</th>\n",
              "      <td>AUS</td>\n",
              "      <td>Australia</td>\n",
              "      <td>COUNTRY</td>\n",
              "      <td>Country</td>\n",
              "      <td>AUS</td>\n",
              "      <td>Australia</td>\n",
              "      <td>T_T</td>\n",
              "      <td>Population, all ages, administrative data</td>\n",
              "      <td>2005</td>\n",
              "      <td>2005</td>\n",
              "      <td>20174500.0</td>\n",
              "      <td>NaN</td>\n",
              "      <td>NaN</td>\n",
              "    </tr>\n",
              "  </tbody>\n",
              "</table>\n",
              "</div>\n",
              "      <button class=\"colab-df-convert\" onclick=\"convertToInteractive('df-dff9468e-9018-4e9b-a77b-43ec6c45e3b0')\"\n",
              "              title=\"Convert this dataframe to an interactive table.\"\n",
              "              style=\"display:none;\">\n",
              "        \n",
              "  <svg xmlns=\"http://www.w3.org/2000/svg\" height=\"24px\"viewBox=\"0 0 24 24\"\n",
              "       width=\"24px\">\n",
              "    <path d=\"M0 0h24v24H0V0z\" fill=\"none\"/>\n",
              "    <path d=\"M18.56 5.44l.94 2.06.94-2.06 2.06-.94-2.06-.94-.94-2.06-.94 2.06-2.06.94zm-11 1L8.5 8.5l.94-2.06 2.06-.94-2.06-.94L8.5 2.5l-.94 2.06-2.06.94zm10 10l.94 2.06.94-2.06 2.06-.94-2.06-.94-.94-2.06-.94 2.06-2.06.94z\"/><path d=\"M17.41 7.96l-1.37-1.37c-.4-.4-.92-.59-1.43-.59-.52 0-1.04.2-1.43.59L10.3 9.45l-7.72 7.72c-.78.78-.78 2.05 0 2.83L4 21.41c.39.39.9.59 1.41.59.51 0 1.02-.2 1.41-.59l7.78-7.78 2.81-2.81c.8-.78.8-2.07 0-2.86zM5.41 20L4 18.59l7.72-7.72 1.47 1.35L5.41 20z\"/>\n",
              "  </svg>\n",
              "      </button>\n",
              "      \n",
              "  <style>\n",
              "    .colab-df-container {\n",
              "      display:flex;\n",
              "      flex-wrap:wrap;\n",
              "      gap: 12px;\n",
              "    }\n",
              "\n",
              "    .colab-df-convert {\n",
              "      background-color: #E8F0FE;\n",
              "      border: none;\n",
              "      border-radius: 50%;\n",
              "      cursor: pointer;\n",
              "      display: none;\n",
              "      fill: #1967D2;\n",
              "      height: 32px;\n",
              "      padding: 0 0 0 0;\n",
              "      width: 32px;\n",
              "    }\n",
              "\n",
              "    .colab-df-convert:hover {\n",
              "      background-color: #E2EBFA;\n",
              "      box-shadow: 0px 1px 2px rgba(60, 64, 67, 0.3), 0px 1px 3px 1px rgba(60, 64, 67, 0.15);\n",
              "      fill: #174EA6;\n",
              "    }\n",
              "\n",
              "    [theme=dark] .colab-df-convert {\n",
              "      background-color: #3B4455;\n",
              "      fill: #D2E3FC;\n",
              "    }\n",
              "\n",
              "    [theme=dark] .colab-df-convert:hover {\n",
              "      background-color: #434B5C;\n",
              "      box-shadow: 0px 1px 3px 1px rgba(0, 0, 0, 0.15);\n",
              "      filter: drop-shadow(0px 1px 2px rgba(0, 0, 0, 0.3));\n",
              "      fill: #FFFFFF;\n",
              "    }\n",
              "  </style>\n",
              "\n",
              "      <script>\n",
              "        const buttonEl =\n",
              "          document.querySelector('#df-dff9468e-9018-4e9b-a77b-43ec6c45e3b0 button.colab-df-convert');\n",
              "        buttonEl.style.display =\n",
              "          google.colab.kernel.accessAllowed ? 'block' : 'none';\n",
              "\n",
              "        async function convertToInteractive(key) {\n",
              "          const element = document.querySelector('#df-dff9468e-9018-4e9b-a77b-43ec6c45e3b0');\n",
              "          const dataTable =\n",
              "            await google.colab.kernel.invokeFunction('convertToInteractive',\n",
              "                                                     [key], {});\n",
              "          if (!dataTable) return;\n",
              "\n",
              "          const docLinkHtml = 'Like what you see? Visit the ' +\n",
              "            '<a target=\"_blank\" href=https://colab.research.google.com/notebooks/data_table.ipynb>data table notebook</a>'\n",
              "            + ' to learn more about interactive tables.';\n",
              "          element.innerHTML = '';\n",
              "          dataTable['output_type'] = 'display_data';\n",
              "          await google.colab.output.renderOutput(dataTable, element);\n",
              "          const docLink = document.createElement('div');\n",
              "          docLink.innerHTML = docLinkHtml;\n",
              "          element.appendChild(docLink);\n",
              "        }\n",
              "      </script>\n",
              "    </div>\n",
              "  </div>\n",
              "  "
            ]
          },
          "metadata": {},
          "execution_count": 60
        }
      ]
    },
    {
      "cell_type": "code",
      "source": [
        "df_city_demography.info()"
      ],
      "metadata": {
        "colab": {
          "base_uri": "https://localhost:8080/"
        },
        "id": "5Qf40XBNZpd7",
        "outputId": "1d716823-a591-4f28-ec25-de7433671db4"
      },
      "execution_count": null,
      "outputs": [
        {
          "output_type": "stream",
          "name": "stdout",
          "text": [
            "<class 'pandas.core.frame.DataFrame'>\n",
            "RangeIndex: 243223 entries, 0 to 243222\n",
            "Data columns (total 13 columns):\n",
            " #   Column           Non-Null Count   Dtype  \n",
            "---  ------           --------------   -----  \n",
            " 0   LOCATION         243223 non-null  object \n",
            " 1   Country          243223 non-null  object \n",
            " 2   TL               243223 non-null  object \n",
            " 3   Territory level  243223 non-null  object \n",
            " 4   GEO              243223 non-null  object \n",
            " 5   Geography        243223 non-null  object \n",
            " 6   VAR              243223 non-null  object \n",
            " 7   Variable         243223 non-null  object \n",
            " 8   TIME             243223 non-null  int64  \n",
            " 9   Time             243223 non-null  int64  \n",
            " 10  Value            243223 non-null  float64\n",
            " 11  Flag Codes       0 non-null       float64\n",
            " 12  Flags            0 non-null       float64\n",
            "dtypes: float64(3), int64(2), object(8)\n",
            "memory usage: 24.1+ MB\n"
          ]
        }
      ]
    },
    {
      "cell_type": "markdown",
      "source": [
        "To clean this dataset,\n",
        "1. Drop unnecessary and redundant columns\n",
        "2. Check for duplicates and nullls"
      ],
      "metadata": {
        "id": "FddREBIjaKx9"
      }
    },
    {
      "cell_type": "code",
      "source": [
        "# LOCATION is the three-letter code of country. We will be using the full name of countries, so we can remove this column.\n",
        "df_city_demography[\"LOCATION\"].unique()"
      ],
      "metadata": {
        "colab": {
          "base_uri": "https://localhost:8080/"
        },
        "id": "6ZBtrT7rbUvY",
        "outputId": "b55d0ea0-1176-46c4-a4b1-8e7fa527ae23"
      },
      "execution_count": null,
      "outputs": [
        {
          "output_type": "execute_result",
          "data": {
            "text/plain": [
              "array(['AUS', 'AUT', 'BEL', 'BGR', 'CAN', 'HUN', 'IRL', 'ISL', 'ITA',\n",
              "       'USA', 'CHE', 'CHL', 'COL', 'JPN', 'CZE', 'DEU', 'KOR', 'LTU',\n",
              "       'LUX', 'LVA', 'MEX', 'DNK', 'ESP', 'MLT', 'NLD', 'NOR', 'NZL',\n",
              "       'POL', 'EST', 'FIN', 'FRA', 'PRT', 'GBR', 'ROU', 'SVK', 'SVN',\n",
              "       'SWE', 'TUR', 'GRC', 'HRV'], dtype=object)"
            ]
          },
          "metadata": {},
          "execution_count": 62
        }
      ]
    },
    {
      "cell_type": "code",
      "source": [
        "# df_city_demography[\"TL\"].unique() # 'COUNTRY', 'FUA', 'CITY' # can be removed\n",
        "df_city_demography[\"Territory level\"].unique() # 'Country', 'Functional Urban Area', 'City'"
      ],
      "metadata": {
        "colab": {
          "base_uri": "https://localhost:8080/"
        },
        "id": "Xd1R6CYkbbcy",
        "outputId": "539f87a8-a966-4b6a-c22d-8be3293efb1c"
      },
      "execution_count": null,
      "outputs": [
        {
          "output_type": "execute_result",
          "data": {
            "text/plain": [
              "array(['Country', 'Functional Urban Area', 'City'], dtype=object)"
            ]
          },
          "metadata": {},
          "execution_count": 63
        }
      ]
    },
    {
      "cell_type": "code",
      "source": [
        "# df_city_demography[\"GEO\"].unique() # can be removed\n",
        "# df_city_demography[\"Geography\"].unique()"
      ],
      "metadata": {
        "id": "9RnOH_FSblvB"
      },
      "execution_count": null,
      "outputs": []
    },
    {
      "cell_type": "code",
      "source": [
        "# df_city_demography[\"VAR\"].unique() # can be removed\n",
        "df_city_demography[\"Variable\"].unique()"
      ],
      "metadata": {
        "colab": {
          "base_uri": "https://localhost:8080/"
        },
        "id": "kpYm_E2jcKBM",
        "outputId": "29960959-8b74-4ea6-de42-f586eaf9725a"
      },
      "execution_count": null,
      "outputs": [
        {
          "output_type": "execute_result",
          "data": {
            "text/plain": [
              "array(['Population, all ages, administrative data',\n",
              "       'Youth population group (0-14)',\n",
              "       'Working age population group (15-64)',\n",
              "       'Elderly population group (65+)',\n",
              "       'Youth dependency ratio (-15 over population 15-64)',\n",
              "       'Elderly dependency ratio (65+ over population 15-64)',\n",
              "       'Growth/shrinking index of the total population (2010=100)',\n",
              "       'Population of the metropolitan area as a share of the national population'],\n",
              "      dtype=object)"
            ]
          },
          "metadata": {},
          "execution_count": 65
        }
      ]
    },
    {
      "cell_type": "code",
      "source": [
        "# These two columns are the same so remove one\n",
        "df_city_demography[\"TIME\"].unique() # can be removed\n",
        "df_city_demography[\"Time\"].unique()"
      ],
      "metadata": {
        "colab": {
          "base_uri": "https://localhost:8080/"
        },
        "id": "L_EL9lU4bDPn",
        "outputId": "5925df44-f696-41ad-cc29-e3acf93e8f04"
      },
      "execution_count": null,
      "outputs": [
        {
          "output_type": "execute_result",
          "data": {
            "text/plain": [
              "array([2001, 2002, 2003, 2004, 2005, 2006, 2007, 2008, 2009, 2010, 2011,\n",
              "       2012, 2013, 2014, 2015, 2016, 2017, 2018, 2019, 2020, 2021, 2022])"
            ]
          },
          "metadata": {},
          "execution_count": 66
        }
      ]
    },
    {
      "cell_type": "code",
      "source": [
        "df_city_demography_clean = df_city_demography.drop(columns = ['LOCATION', 'TL', 'GEO', 'VAR', 'TIME', 'Flag Codes', 'Flags'])"
      ],
      "metadata": {
        "id": "BfC8mjKRaKS-"
      },
      "execution_count": null,
      "outputs": []
    },
    {
      "cell_type": "code",
      "source": [
        "# no duplicates\n",
        "len(df_city_demography_clean) - len(df_city_demography_clean.drop_duplicates())"
      ],
      "metadata": {
        "colab": {
          "base_uri": "https://localhost:8080/"
        },
        "id": "I6Iw77Khc95T",
        "outputId": "80a75c5c-a1aa-481b-e260-08342b77f9cf"
      },
      "execution_count": null,
      "outputs": [
        {
          "output_type": "execute_result",
          "data": {
            "text/plain": [
              "0"
            ]
          },
          "metadata": {},
          "execution_count": 68
        }
      ]
    },
    {
      "cell_type": "code",
      "source": [
        "# no nulls\n",
        "df_city_demography_clean.info()"
      ],
      "metadata": {
        "colab": {
          "base_uri": "https://localhost:8080/"
        },
        "id": "JtMkC1AScxIn",
        "outputId": "8699b0d9-3dd9-4dd5-af80-629ffb61b6d3"
      },
      "execution_count": null,
      "outputs": [
        {
          "output_type": "stream",
          "name": "stdout",
          "text": [
            "<class 'pandas.core.frame.DataFrame'>\n",
            "RangeIndex: 243223 entries, 0 to 243222\n",
            "Data columns (total 6 columns):\n",
            " #   Column           Non-Null Count   Dtype  \n",
            "---  ------           --------------   -----  \n",
            " 0   Country          243223 non-null  object \n",
            " 1   Territory level  243223 non-null  object \n",
            " 2   Geography        243223 non-null  object \n",
            " 3   Variable         243223 non-null  object \n",
            " 4   Time             243223 non-null  int64  \n",
            " 5   Value            243223 non-null  float64\n",
            "dtypes: float64(1), int64(1), object(4)\n",
            "memory usage: 11.1+ MB\n"
          ]
        }
      ]
    },
    {
      "cell_type": "markdown",
      "source": [
        "Repeat the cleaning process on the other datasets"
      ],
      "metadata": {
        "id": "79unhTQjdKjW"
      }
    },
    {
      "cell_type": "code",
      "source": [
        "df_economy.head()"
      ],
      "metadata": {
        "colab": {
          "base_uri": "https://localhost:8080/",
          "height": 615
        },
        "id": "uIoV4i5AfnF5",
        "outputId": "0f2a4b09-d2a8-4347-80b3-c94719fe5de5"
      },
      "execution_count": null,
      "outputs": [
        {
          "output_type": "execute_result",
          "data": {
            "text/plain": [
              "  LOCATION Country   TL        Territory level     GEO  Geography  \\\n",
              "0      ESP   Spain  FUA  Functional Urban Area  ES002F  Barcelona   \n",
              "1      ESP   Spain  FUA  Functional Urban Area  ES002F  Barcelona   \n",
              "2      ESP   Spain  FUA  Functional Urban Area  ES002F  Barcelona   \n",
              "3      ESP   Spain  FUA  Functional Urban Area  ES002F  Barcelona   \n",
              "4      ESP   Spain  FUA  Functional Urban Area  ES002F  Barcelona   \n",
              "\n",
              "               VAR                                           Variable  TIME  \\\n",
              "0  GDP_PW_REAL_PPP  Labour productivity (GDP per worker in USD, co...  2001   \n",
              "1  GDP_PW_REAL_PPP  Labour productivity (GDP per worker in USD, co...  2002   \n",
              "2  GDP_PW_REAL_PPP  Labour productivity (GDP per worker in USD, co...  2003   \n",
              "3  GDP_PW_REAL_PPP  Labour productivity (GDP per worker in USD, co...  2004   \n",
              "4  GDP_PW_REAL_PPP  Labour productivity (GDP per worker in USD, co...  2005   \n",
              "\n",
              "   Time    Value Flag Codes Flags  \n",
              "0  2001  80384.0        NaN   NaN  \n",
              "1  2002  82528.0        NaN   NaN  \n",
              "2  2003  82882.0        NaN   NaN  \n",
              "3  2004  82727.0        NaN   NaN  \n",
              "4  2005  82931.0        NaN   NaN  "
            ],
            "text/html": [
              "\n",
              "  <div id=\"df-e4444ccd-8d30-41d3-ae70-b7cb041f2156\">\n",
              "    <div class=\"colab-df-container\">\n",
              "      <div>\n",
              "<style scoped>\n",
              "    .dataframe tbody tr th:only-of-type {\n",
              "        vertical-align: middle;\n",
              "    }\n",
              "\n",
              "    .dataframe tbody tr th {\n",
              "        vertical-align: top;\n",
              "    }\n",
              "\n",
              "    .dataframe thead th {\n",
              "        text-align: right;\n",
              "    }\n",
              "</style>\n",
              "<table border=\"1\" class=\"dataframe\">\n",
              "  <thead>\n",
              "    <tr style=\"text-align: right;\">\n",
              "      <th></th>\n",
              "      <th>LOCATION</th>\n",
              "      <th>Country</th>\n",
              "      <th>TL</th>\n",
              "      <th>Territory level</th>\n",
              "      <th>GEO</th>\n",
              "      <th>Geography</th>\n",
              "      <th>VAR</th>\n",
              "      <th>Variable</th>\n",
              "      <th>TIME</th>\n",
              "      <th>Time</th>\n",
              "      <th>Value</th>\n",
              "      <th>Flag Codes</th>\n",
              "      <th>Flags</th>\n",
              "    </tr>\n",
              "  </thead>\n",
              "  <tbody>\n",
              "    <tr>\n",
              "      <th>0</th>\n",
              "      <td>ESP</td>\n",
              "      <td>Spain</td>\n",
              "      <td>FUA</td>\n",
              "      <td>Functional Urban Area</td>\n",
              "      <td>ES002F</td>\n",
              "      <td>Barcelona</td>\n",
              "      <td>GDP_PW_REAL_PPP</td>\n",
              "      <td>Labour productivity (GDP per worker in USD, co...</td>\n",
              "      <td>2001</td>\n",
              "      <td>2001</td>\n",
              "      <td>80384.0</td>\n",
              "      <td>NaN</td>\n",
              "      <td>NaN</td>\n",
              "    </tr>\n",
              "    <tr>\n",
              "      <th>1</th>\n",
              "      <td>ESP</td>\n",
              "      <td>Spain</td>\n",
              "      <td>FUA</td>\n",
              "      <td>Functional Urban Area</td>\n",
              "      <td>ES002F</td>\n",
              "      <td>Barcelona</td>\n",
              "      <td>GDP_PW_REAL_PPP</td>\n",
              "      <td>Labour productivity (GDP per worker in USD, co...</td>\n",
              "      <td>2002</td>\n",
              "      <td>2002</td>\n",
              "      <td>82528.0</td>\n",
              "      <td>NaN</td>\n",
              "      <td>NaN</td>\n",
              "    </tr>\n",
              "    <tr>\n",
              "      <th>2</th>\n",
              "      <td>ESP</td>\n",
              "      <td>Spain</td>\n",
              "      <td>FUA</td>\n",
              "      <td>Functional Urban Area</td>\n",
              "      <td>ES002F</td>\n",
              "      <td>Barcelona</td>\n",
              "      <td>GDP_PW_REAL_PPP</td>\n",
              "      <td>Labour productivity (GDP per worker in USD, co...</td>\n",
              "      <td>2003</td>\n",
              "      <td>2003</td>\n",
              "      <td>82882.0</td>\n",
              "      <td>NaN</td>\n",
              "      <td>NaN</td>\n",
              "    </tr>\n",
              "    <tr>\n",
              "      <th>3</th>\n",
              "      <td>ESP</td>\n",
              "      <td>Spain</td>\n",
              "      <td>FUA</td>\n",
              "      <td>Functional Urban Area</td>\n",
              "      <td>ES002F</td>\n",
              "      <td>Barcelona</td>\n",
              "      <td>GDP_PW_REAL_PPP</td>\n",
              "      <td>Labour productivity (GDP per worker in USD, co...</td>\n",
              "      <td>2004</td>\n",
              "      <td>2004</td>\n",
              "      <td>82727.0</td>\n",
              "      <td>NaN</td>\n",
              "      <td>NaN</td>\n",
              "    </tr>\n",
              "    <tr>\n",
              "      <th>4</th>\n",
              "      <td>ESP</td>\n",
              "      <td>Spain</td>\n",
              "      <td>FUA</td>\n",
              "      <td>Functional Urban Area</td>\n",
              "      <td>ES002F</td>\n",
              "      <td>Barcelona</td>\n",
              "      <td>GDP_PW_REAL_PPP</td>\n",
              "      <td>Labour productivity (GDP per worker in USD, co...</td>\n",
              "      <td>2005</td>\n",
              "      <td>2005</td>\n",
              "      <td>82931.0</td>\n",
              "      <td>NaN</td>\n",
              "      <td>NaN</td>\n",
              "    </tr>\n",
              "  </tbody>\n",
              "</table>\n",
              "</div>\n",
              "      <button class=\"colab-df-convert\" onclick=\"convertToInteractive('df-e4444ccd-8d30-41d3-ae70-b7cb041f2156')\"\n",
              "              title=\"Convert this dataframe to an interactive table.\"\n",
              "              style=\"display:none;\">\n",
              "        \n",
              "  <svg xmlns=\"http://www.w3.org/2000/svg\" height=\"24px\"viewBox=\"0 0 24 24\"\n",
              "       width=\"24px\">\n",
              "    <path d=\"M0 0h24v24H0V0z\" fill=\"none\"/>\n",
              "    <path d=\"M18.56 5.44l.94 2.06.94-2.06 2.06-.94-2.06-.94-.94-2.06-.94 2.06-2.06.94zm-11 1L8.5 8.5l.94-2.06 2.06-.94-2.06-.94L8.5 2.5l-.94 2.06-2.06.94zm10 10l.94 2.06.94-2.06 2.06-.94-2.06-.94-.94-2.06-.94 2.06-2.06.94z\"/><path d=\"M17.41 7.96l-1.37-1.37c-.4-.4-.92-.59-1.43-.59-.52 0-1.04.2-1.43.59L10.3 9.45l-7.72 7.72c-.78.78-.78 2.05 0 2.83L4 21.41c.39.39.9.59 1.41.59.51 0 1.02-.2 1.41-.59l7.78-7.78 2.81-2.81c.8-.78.8-2.07 0-2.86zM5.41 20L4 18.59l7.72-7.72 1.47 1.35L5.41 20z\"/>\n",
              "  </svg>\n",
              "      </button>\n",
              "      \n",
              "  <style>\n",
              "    .colab-df-container {\n",
              "      display:flex;\n",
              "      flex-wrap:wrap;\n",
              "      gap: 12px;\n",
              "    }\n",
              "\n",
              "    .colab-df-convert {\n",
              "      background-color: #E8F0FE;\n",
              "      border: none;\n",
              "      border-radius: 50%;\n",
              "      cursor: pointer;\n",
              "      display: none;\n",
              "      fill: #1967D2;\n",
              "      height: 32px;\n",
              "      padding: 0 0 0 0;\n",
              "      width: 32px;\n",
              "    }\n",
              "\n",
              "    .colab-df-convert:hover {\n",
              "      background-color: #E2EBFA;\n",
              "      box-shadow: 0px 1px 2px rgba(60, 64, 67, 0.3), 0px 1px 3px 1px rgba(60, 64, 67, 0.15);\n",
              "      fill: #174EA6;\n",
              "    }\n",
              "\n",
              "    [theme=dark] .colab-df-convert {\n",
              "      background-color: #3B4455;\n",
              "      fill: #D2E3FC;\n",
              "    }\n",
              "\n",
              "    [theme=dark] .colab-df-convert:hover {\n",
              "      background-color: #434B5C;\n",
              "      box-shadow: 0px 1px 3px 1px rgba(0, 0, 0, 0.15);\n",
              "      filter: drop-shadow(0px 1px 2px rgba(0, 0, 0, 0.3));\n",
              "      fill: #FFFFFF;\n",
              "    }\n",
              "  </style>\n",
              "\n",
              "      <script>\n",
              "        const buttonEl =\n",
              "          document.querySelector('#df-e4444ccd-8d30-41d3-ae70-b7cb041f2156 button.colab-df-convert');\n",
              "        buttonEl.style.display =\n",
              "          google.colab.kernel.accessAllowed ? 'block' : 'none';\n",
              "\n",
              "        async function convertToInteractive(key) {\n",
              "          const element = document.querySelector('#df-e4444ccd-8d30-41d3-ae70-b7cb041f2156');\n",
              "          const dataTable =\n",
              "            await google.colab.kernel.invokeFunction('convertToInteractive',\n",
              "                                                     [key], {});\n",
              "          if (!dataTable) return;\n",
              "\n",
              "          const docLinkHtml = 'Like what you see? Visit the ' +\n",
              "            '<a target=\"_blank\" href=https://colab.research.google.com/notebooks/data_table.ipynb>data table notebook</a>'\n",
              "            + ' to learn more about interactive tables.';\n",
              "          element.innerHTML = '';\n",
              "          dataTable['output_type'] = 'display_data';\n",
              "          await google.colab.output.renderOutput(dataTable, element);\n",
              "          const docLink = document.createElement('div');\n",
              "          docLink.innerHTML = docLinkHtml;\n",
              "          element.appendChild(docLink);\n",
              "        }\n",
              "      </script>\n",
              "    </div>\n",
              "  </div>\n",
              "  "
            ]
          },
          "metadata": {},
          "execution_count": 70
        }
      ]
    },
    {
      "cell_type": "code",
      "source": [
        "df_economy[\"Territory level\"].unique() # 'Functional Urban Area' only. # can be removed"
      ],
      "metadata": {
        "colab": {
          "base_uri": "https://localhost:8080/"
        },
        "id": "qsRPLYxlfylC",
        "outputId": "9b460473-19bc-43e8-9a46-d69347688e30"
      },
      "execution_count": null,
      "outputs": [
        {
          "output_type": "execute_result",
          "data": {
            "text/plain": [
              "array(['Functional Urban Area'], dtype=object)"
            ]
          },
          "metadata": {},
          "execution_count": 71
        }
      ]
    },
    {
      "cell_type": "code",
      "source": [
        "df_economy_clean = df_economy.drop(columns = ['LOCATION', 'TL', 'Territory level', 'GEO', 'VAR', 'TIME', 'Flag Codes', 'Flags'])"
      ],
      "metadata": {
        "id": "_z5cw2NCgI17"
      },
      "execution_count": null,
      "outputs": []
    },
    {
      "cell_type": "code",
      "source": [
        "df_economy_clean[\"Variable\"].unique() "
      ],
      "metadata": {
        "colab": {
          "base_uri": "https://localhost:8080/"
        },
        "id": "zFmNudYdgW7n",
        "outputId": "37a3a46e-58fa-49d8-a867-d9854d0a840c"
      },
      "execution_count": null,
      "outputs": [
        {
          "output_type": "execute_result",
          "data": {
            "text/plain": [
              "array(['Labour productivity (GDP per worker in USD, constant prices, constant PPP, base year 2015)',\n",
              "       'GDP (Million USD, constant prices, constant PPP, base year 2015)',\n",
              "       'GDP per capita (USD, constant prices, constant PPP, base year 2015)',\n",
              "       'GDP of the metropolitan area as a share of the national GDP',\n",
              "       'Employment at place of work'], dtype=object)"
            ]
          },
          "metadata": {},
          "execution_count": 73
        }
      ]
    },
    {
      "cell_type": "code",
      "source": [
        "# no duplicates\n",
        "len(df_economy_clean) - len(df_economy_clean.drop_duplicates())"
      ],
      "metadata": {
        "id": "AScZIMbBkhrf",
        "colab": {
          "base_uri": "https://localhost:8080/"
        },
        "outputId": "ab74c497-5ad4-4994-ccb3-70f61757a3af"
      },
      "execution_count": null,
      "outputs": [
        {
          "output_type": "execute_result",
          "data": {
            "text/plain": [
              "0"
            ]
          },
          "metadata": {},
          "execution_count": 74
        }
      ]
    },
    {
      "cell_type": "code",
      "source": [
        "# no nulls\n",
        "df_economy_clean.info()"
      ],
      "metadata": {
        "colab": {
          "base_uri": "https://localhost:8080/"
        },
        "id": "GHfQEw8tgShI",
        "outputId": "f9ba13cd-91f6-4076-d82d-5eae319f6323"
      },
      "execution_count": null,
      "outputs": [
        {
          "output_type": "stream",
          "name": "stdout",
          "text": [
            "<class 'pandas.core.frame.DataFrame'>\n",
            "RangeIndex: 62688 entries, 0 to 62687\n",
            "Data columns (total 5 columns):\n",
            " #   Column     Non-Null Count  Dtype  \n",
            "---  ------     --------------  -----  \n",
            " 0   Country    62688 non-null  object \n",
            " 1   Geography  62688 non-null  object \n",
            " 2   Variable   62688 non-null  object \n",
            " 3   Time       62688 non-null  int64  \n",
            " 4   Value      62688 non-null  float64\n",
            "dtypes: float64(1), int64(1), object(3)\n",
            "memory usage: 2.4+ MB\n"
          ]
        }
      ]
    },
    {
      "cell_type": "code",
      "source": [
        "df_air_pollution.head()"
      ],
      "metadata": {
        "colab": {
          "base_uri": "https://localhost:8080/",
          "height": 615
        },
        "id": "qY_ovQpWgim_",
        "outputId": "1da9fe40-b8ec-41c1-9b64-0d58656230c9"
      },
      "execution_count": null,
      "outputs": [
        {
          "output_type": "execute_result",
          "data": {
            "text/plain": [
              "  LOCATION        Country   TL        Territory level      GEO    Geography  \\\n",
              "0      USA  United States  FUA  Functional Urban Area  USA180F  Punta Gorda   \n",
              "1      USA  United States  FUA  Functional Urban Area  USA180F  Punta Gorda   \n",
              "2      USA  United States  FUA  Functional Urban Area  USA180F  Punta Gorda   \n",
              "3      USA  United States  FUA  Functional Urban Area  USA180F  Punta Gorda   \n",
              "4      USA  United States  FUA  Functional Urban Area  USA180F  Punta Gorda   \n",
              "\n",
              "                 VAR                                           Variable  TIME  \\\n",
              "0  SPEX_MORE_THAN_15  Share of population exposed to a level of PM2....  2000   \n",
              "1  SPEX_MORE_THAN_15  Share of population exposed to a level of PM2....  2001   \n",
              "2  SPEX_MORE_THAN_15  Share of population exposed to a level of PM2....  2002   \n",
              "3  SPEX_MORE_THAN_15  Share of population exposed to a level of PM2....  2003   \n",
              "4  SPEX_MORE_THAN_15  Share of population exposed to a level of PM2....  2004   \n",
              "\n",
              "   Time  Value  Flag Codes  Flags  \n",
              "0  2000    0.0         NaN    NaN  \n",
              "1  2001    0.0         NaN    NaN  \n",
              "2  2002    0.0         NaN    NaN  \n",
              "3  2003    0.0         NaN    NaN  \n",
              "4  2004    0.0         NaN    NaN  "
            ],
            "text/html": [
              "\n",
              "  <div id=\"df-d69e9b0b-f050-4c5e-ab1e-3da4955c066a\">\n",
              "    <div class=\"colab-df-container\">\n",
              "      <div>\n",
              "<style scoped>\n",
              "    .dataframe tbody tr th:only-of-type {\n",
              "        vertical-align: middle;\n",
              "    }\n",
              "\n",
              "    .dataframe tbody tr th {\n",
              "        vertical-align: top;\n",
              "    }\n",
              "\n",
              "    .dataframe thead th {\n",
              "        text-align: right;\n",
              "    }\n",
              "</style>\n",
              "<table border=\"1\" class=\"dataframe\">\n",
              "  <thead>\n",
              "    <tr style=\"text-align: right;\">\n",
              "      <th></th>\n",
              "      <th>LOCATION</th>\n",
              "      <th>Country</th>\n",
              "      <th>TL</th>\n",
              "      <th>Territory level</th>\n",
              "      <th>GEO</th>\n",
              "      <th>Geography</th>\n",
              "      <th>VAR</th>\n",
              "      <th>Variable</th>\n",
              "      <th>TIME</th>\n",
              "      <th>Time</th>\n",
              "      <th>Value</th>\n",
              "      <th>Flag Codes</th>\n",
              "      <th>Flags</th>\n",
              "    </tr>\n",
              "  </thead>\n",
              "  <tbody>\n",
              "    <tr>\n",
              "      <th>0</th>\n",
              "      <td>USA</td>\n",
              "      <td>United States</td>\n",
              "      <td>FUA</td>\n",
              "      <td>Functional Urban Area</td>\n",
              "      <td>USA180F</td>\n",
              "      <td>Punta Gorda</td>\n",
              "      <td>SPEX_MORE_THAN_15</td>\n",
              "      <td>Share of population exposed to a level of PM2....</td>\n",
              "      <td>2000</td>\n",
              "      <td>2000</td>\n",
              "      <td>0.0</td>\n",
              "      <td>NaN</td>\n",
              "      <td>NaN</td>\n",
              "    </tr>\n",
              "    <tr>\n",
              "      <th>1</th>\n",
              "      <td>USA</td>\n",
              "      <td>United States</td>\n",
              "      <td>FUA</td>\n",
              "      <td>Functional Urban Area</td>\n",
              "      <td>USA180F</td>\n",
              "      <td>Punta Gorda</td>\n",
              "      <td>SPEX_MORE_THAN_15</td>\n",
              "      <td>Share of population exposed to a level of PM2....</td>\n",
              "      <td>2001</td>\n",
              "      <td>2001</td>\n",
              "      <td>0.0</td>\n",
              "      <td>NaN</td>\n",
              "      <td>NaN</td>\n",
              "    </tr>\n",
              "    <tr>\n",
              "      <th>2</th>\n",
              "      <td>USA</td>\n",
              "      <td>United States</td>\n",
              "      <td>FUA</td>\n",
              "      <td>Functional Urban Area</td>\n",
              "      <td>USA180F</td>\n",
              "      <td>Punta Gorda</td>\n",
              "      <td>SPEX_MORE_THAN_15</td>\n",
              "      <td>Share of population exposed to a level of PM2....</td>\n",
              "      <td>2002</td>\n",
              "      <td>2002</td>\n",
              "      <td>0.0</td>\n",
              "      <td>NaN</td>\n",
              "      <td>NaN</td>\n",
              "    </tr>\n",
              "    <tr>\n",
              "      <th>3</th>\n",
              "      <td>USA</td>\n",
              "      <td>United States</td>\n",
              "      <td>FUA</td>\n",
              "      <td>Functional Urban Area</td>\n",
              "      <td>USA180F</td>\n",
              "      <td>Punta Gorda</td>\n",
              "      <td>SPEX_MORE_THAN_15</td>\n",
              "      <td>Share of population exposed to a level of PM2....</td>\n",
              "      <td>2003</td>\n",
              "      <td>2003</td>\n",
              "      <td>0.0</td>\n",
              "      <td>NaN</td>\n",
              "      <td>NaN</td>\n",
              "    </tr>\n",
              "    <tr>\n",
              "      <th>4</th>\n",
              "      <td>USA</td>\n",
              "      <td>United States</td>\n",
              "      <td>FUA</td>\n",
              "      <td>Functional Urban Area</td>\n",
              "      <td>USA180F</td>\n",
              "      <td>Punta Gorda</td>\n",
              "      <td>SPEX_MORE_THAN_15</td>\n",
              "      <td>Share of population exposed to a level of PM2....</td>\n",
              "      <td>2004</td>\n",
              "      <td>2004</td>\n",
              "      <td>0.0</td>\n",
              "      <td>NaN</td>\n",
              "      <td>NaN</td>\n",
              "    </tr>\n",
              "  </tbody>\n",
              "</table>\n",
              "</div>\n",
              "      <button class=\"colab-df-convert\" onclick=\"convertToInteractive('df-d69e9b0b-f050-4c5e-ab1e-3da4955c066a')\"\n",
              "              title=\"Convert this dataframe to an interactive table.\"\n",
              "              style=\"display:none;\">\n",
              "        \n",
              "  <svg xmlns=\"http://www.w3.org/2000/svg\" height=\"24px\"viewBox=\"0 0 24 24\"\n",
              "       width=\"24px\">\n",
              "    <path d=\"M0 0h24v24H0V0z\" fill=\"none\"/>\n",
              "    <path d=\"M18.56 5.44l.94 2.06.94-2.06 2.06-.94-2.06-.94-.94-2.06-.94 2.06-2.06.94zm-11 1L8.5 8.5l.94-2.06 2.06-.94-2.06-.94L8.5 2.5l-.94 2.06-2.06.94zm10 10l.94 2.06.94-2.06 2.06-.94-2.06-.94-.94-2.06-.94 2.06-2.06.94z\"/><path d=\"M17.41 7.96l-1.37-1.37c-.4-.4-.92-.59-1.43-.59-.52 0-1.04.2-1.43.59L10.3 9.45l-7.72 7.72c-.78.78-.78 2.05 0 2.83L4 21.41c.39.39.9.59 1.41.59.51 0 1.02-.2 1.41-.59l7.78-7.78 2.81-2.81c.8-.78.8-2.07 0-2.86zM5.41 20L4 18.59l7.72-7.72 1.47 1.35L5.41 20z\"/>\n",
              "  </svg>\n",
              "      </button>\n",
              "      \n",
              "  <style>\n",
              "    .colab-df-container {\n",
              "      display:flex;\n",
              "      flex-wrap:wrap;\n",
              "      gap: 12px;\n",
              "    }\n",
              "\n",
              "    .colab-df-convert {\n",
              "      background-color: #E8F0FE;\n",
              "      border: none;\n",
              "      border-radius: 50%;\n",
              "      cursor: pointer;\n",
              "      display: none;\n",
              "      fill: #1967D2;\n",
              "      height: 32px;\n",
              "      padding: 0 0 0 0;\n",
              "      width: 32px;\n",
              "    }\n",
              "\n",
              "    .colab-df-convert:hover {\n",
              "      background-color: #E2EBFA;\n",
              "      box-shadow: 0px 1px 2px rgba(60, 64, 67, 0.3), 0px 1px 3px 1px rgba(60, 64, 67, 0.15);\n",
              "      fill: #174EA6;\n",
              "    }\n",
              "\n",
              "    [theme=dark] .colab-df-convert {\n",
              "      background-color: #3B4455;\n",
              "      fill: #D2E3FC;\n",
              "    }\n",
              "\n",
              "    [theme=dark] .colab-df-convert:hover {\n",
              "      background-color: #434B5C;\n",
              "      box-shadow: 0px 1px 3px 1px rgba(0, 0, 0, 0.15);\n",
              "      filter: drop-shadow(0px 1px 2px rgba(0, 0, 0, 0.3));\n",
              "      fill: #FFFFFF;\n",
              "    }\n",
              "  </style>\n",
              "\n",
              "      <script>\n",
              "        const buttonEl =\n",
              "          document.querySelector('#df-d69e9b0b-f050-4c5e-ab1e-3da4955c066a button.colab-df-convert');\n",
              "        buttonEl.style.display =\n",
              "          google.colab.kernel.accessAllowed ? 'block' : 'none';\n",
              "\n",
              "        async function convertToInteractive(key) {\n",
              "          const element = document.querySelector('#df-d69e9b0b-f050-4c5e-ab1e-3da4955c066a');\n",
              "          const dataTable =\n",
              "            await google.colab.kernel.invokeFunction('convertToInteractive',\n",
              "                                                     [key], {});\n",
              "          if (!dataTable) return;\n",
              "\n",
              "          const docLinkHtml = 'Like what you see? Visit the ' +\n",
              "            '<a target=\"_blank\" href=https://colab.research.google.com/notebooks/data_table.ipynb>data table notebook</a>'\n",
              "            + ' to learn more about interactive tables.';\n",
              "          element.innerHTML = '';\n",
              "          dataTable['output_type'] = 'display_data';\n",
              "          await google.colab.output.renderOutput(dataTable, element);\n",
              "          const docLink = document.createElement('div');\n",
              "          docLink.innerHTML = docLinkHtml;\n",
              "          element.appendChild(docLink);\n",
              "        }\n",
              "      </script>\n",
              "    </div>\n",
              "  </div>\n",
              "  "
            ]
          },
          "metadata": {},
          "execution_count": 76
        }
      ]
    },
    {
      "cell_type": "code",
      "source": [
        "df_air_pollution[\"Territory level\"].unique() # has both FUA and City so keep"
      ],
      "metadata": {
        "colab": {
          "base_uri": "https://localhost:8080/"
        },
        "id": "tZx51_VflNy1",
        "outputId": "bc841003-e4aa-46cc-f57e-a84d894d6bb2"
      },
      "execution_count": null,
      "outputs": [
        {
          "output_type": "execute_result",
          "data": {
            "text/plain": [
              "array(['Functional Urban Area', 'City'], dtype=object)"
            ]
          },
          "metadata": {},
          "execution_count": 77
        }
      ]
    },
    {
      "cell_type": "code",
      "source": [
        "df_air_pollution_clean = df_air_pollution.drop(columns = ['LOCATION', 'TL', 'GEO', 'VAR', 'TIME', 'Flag Codes', 'Flags'])"
      ],
      "metadata": {
        "id": "smd6lOHIg1f_"
      },
      "execution_count": null,
      "outputs": []
    },
    {
      "cell_type": "code",
      "source": [
        "df_air_pollution_clean[\"Variable\"].unique() "
      ],
      "metadata": {
        "colab": {
          "base_uri": "https://localhost:8080/"
        },
        "id": "dEMRhVBnlGst",
        "outputId": "838226ce-8c53-4e7e-fd91-5c22ff904e89"
      },
      "execution_count": null,
      "outputs": [
        {
          "output_type": "execute_result",
          "data": {
            "text/plain": [
              "array(['Share of population exposed to a level of PM2.5 above 15 µg/m3',\n",
              "       'Share of population exposed to a level of PM2.5 above 5 µg/m3',\n",
              "       'Share of population exposed to a level of PM2.5 above 10 µg/m3',\n",
              "       'Mean population exposure to PM2.5 air pollution',\n",
              "       'Share of population exposed to a level of PM2.5 above 35 µg/m3',\n",
              "       'Share of population exposed to a level of PM2.5 above 25 µg/m3'],\n",
              "      dtype=object)"
            ]
          },
          "metadata": {},
          "execution_count": 79
        }
      ]
    },
    {
      "cell_type": "code",
      "source": [
        "# no duplicates\n",
        "len(df_air_pollution_clean) - len(df_air_pollution_clean.drop_duplicates())"
      ],
      "metadata": {
        "colab": {
          "base_uri": "https://localhost:8080/"
        },
        "id": "ZfuoYvmdky3T",
        "outputId": "4483330a-53a0-416d-bb79-164ef93926bf"
      },
      "execution_count": null,
      "outputs": [
        {
          "output_type": "execute_result",
          "data": {
            "text/plain": [
              "0"
            ]
          },
          "metadata": {},
          "execution_count": 80
        }
      ]
    },
    {
      "cell_type": "code",
      "source": [
        "# no nulls\n",
        "df_air_pollution_clean.info()"
      ],
      "metadata": {
        "colab": {
          "base_uri": "https://localhost:8080/"
        },
        "id": "8JvNgq4RlArk",
        "outputId": "0f0518bf-f6ce-4c64-eb1e-31c383f8bba3"
      },
      "execution_count": null,
      "outputs": [
        {
          "output_type": "stream",
          "name": "stdout",
          "text": [
            "<class 'pandas.core.frame.DataFrame'>\n",
            "RangeIndex: 334530 entries, 0 to 334529\n",
            "Data columns (total 6 columns):\n",
            " #   Column           Non-Null Count   Dtype  \n",
            "---  ------           --------------   -----  \n",
            " 0   Country          334530 non-null  object \n",
            " 1   Territory level  334530 non-null  object \n",
            " 2   Geography        334530 non-null  object \n",
            " 3   Variable         334530 non-null  object \n",
            " 4   Time             334530 non-null  int64  \n",
            " 5   Value            334530 non-null  float64\n",
            "dtypes: float64(1), int64(1), object(4)\n",
            "memory usage: 15.3+ MB\n"
          ]
        }
      ]
    },
    {
      "cell_type": "code",
      "source": [
        "df_climate_hazards.head()"
      ],
      "metadata": {
        "colab": {
          "base_uri": "https://localhost:8080/",
          "height": 354
        },
        "id": "aOzdDcbKgjOm",
        "outputId": "8f571356-fa45-4213-d911-ab8495ae841e"
      },
      "execution_count": null,
      "outputs": [
        {
          "output_type": "execute_result",
          "data": {
            "text/plain": [
              "  LOCATION        Country   TL        Territory level      GEO Geography  VAR  \\\n",
              "0      USA  United States  FUA  Functional Urban Area  USA117F     Scott  HDD   \n",
              "1      USA  United States  FUA  Functional Urban Area  USA117F     Scott  HDD   \n",
              "2      USA  United States  FUA  Functional Urban Area  USA117F     Scott  HDD   \n",
              "3      USA  United States  FUA  Functional Urban Area  USA117F     Scott  HDD   \n",
              "4      USA  United States  FUA  Functional Urban Area  USA117F     Scott  HDD   \n",
              "\n",
              "                                            Variable  TIME  Time   Value  \\\n",
              "0  Heating degree days (Sum over a year of the di...  2001  2001  2838.0   \n",
              "1  Heating degree days (Sum over a year of the di...  2002  2002  2943.0   \n",
              "2  Heating degree days (Sum over a year of the di...  2003  2003  3084.0   \n",
              "3  Heating degree days (Sum over a year of the di...  2004  2004  2849.0   \n",
              "4  Heating degree days (Sum over a year of the di...  2005  2005  2858.0   \n",
              "\n",
              "   Flag Codes  Flags  \n",
              "0         NaN    NaN  \n",
              "1         NaN    NaN  \n",
              "2         NaN    NaN  \n",
              "3         NaN    NaN  \n",
              "4         NaN    NaN  "
            ],
            "text/html": [
              "\n",
              "  <div id=\"df-bb1df4bc-4eb6-4f6f-b938-1bdb660405b8\">\n",
              "    <div class=\"colab-df-container\">\n",
              "      <div>\n",
              "<style scoped>\n",
              "    .dataframe tbody tr th:only-of-type {\n",
              "        vertical-align: middle;\n",
              "    }\n",
              "\n",
              "    .dataframe tbody tr th {\n",
              "        vertical-align: top;\n",
              "    }\n",
              "\n",
              "    .dataframe thead th {\n",
              "        text-align: right;\n",
              "    }\n",
              "</style>\n",
              "<table border=\"1\" class=\"dataframe\">\n",
              "  <thead>\n",
              "    <tr style=\"text-align: right;\">\n",
              "      <th></th>\n",
              "      <th>LOCATION</th>\n",
              "      <th>Country</th>\n",
              "      <th>TL</th>\n",
              "      <th>Territory level</th>\n",
              "      <th>GEO</th>\n",
              "      <th>Geography</th>\n",
              "      <th>VAR</th>\n",
              "      <th>Variable</th>\n",
              "      <th>TIME</th>\n",
              "      <th>Time</th>\n",
              "      <th>Value</th>\n",
              "      <th>Flag Codes</th>\n",
              "      <th>Flags</th>\n",
              "    </tr>\n",
              "  </thead>\n",
              "  <tbody>\n",
              "    <tr>\n",
              "      <th>0</th>\n",
              "      <td>USA</td>\n",
              "      <td>United States</td>\n",
              "      <td>FUA</td>\n",
              "      <td>Functional Urban Area</td>\n",
              "      <td>USA117F</td>\n",
              "      <td>Scott</td>\n",
              "      <td>HDD</td>\n",
              "      <td>Heating degree days (Sum over a year of the di...</td>\n",
              "      <td>2001</td>\n",
              "      <td>2001</td>\n",
              "      <td>2838.0</td>\n",
              "      <td>NaN</td>\n",
              "      <td>NaN</td>\n",
              "    </tr>\n",
              "    <tr>\n",
              "      <th>1</th>\n",
              "      <td>USA</td>\n",
              "      <td>United States</td>\n",
              "      <td>FUA</td>\n",
              "      <td>Functional Urban Area</td>\n",
              "      <td>USA117F</td>\n",
              "      <td>Scott</td>\n",
              "      <td>HDD</td>\n",
              "      <td>Heating degree days (Sum over a year of the di...</td>\n",
              "      <td>2002</td>\n",
              "      <td>2002</td>\n",
              "      <td>2943.0</td>\n",
              "      <td>NaN</td>\n",
              "      <td>NaN</td>\n",
              "    </tr>\n",
              "    <tr>\n",
              "      <th>2</th>\n",
              "      <td>USA</td>\n",
              "      <td>United States</td>\n",
              "      <td>FUA</td>\n",
              "      <td>Functional Urban Area</td>\n",
              "      <td>USA117F</td>\n",
              "      <td>Scott</td>\n",
              "      <td>HDD</td>\n",
              "      <td>Heating degree days (Sum over a year of the di...</td>\n",
              "      <td>2003</td>\n",
              "      <td>2003</td>\n",
              "      <td>3084.0</td>\n",
              "      <td>NaN</td>\n",
              "      <td>NaN</td>\n",
              "    </tr>\n",
              "    <tr>\n",
              "      <th>3</th>\n",
              "      <td>USA</td>\n",
              "      <td>United States</td>\n",
              "      <td>FUA</td>\n",
              "      <td>Functional Urban Area</td>\n",
              "      <td>USA117F</td>\n",
              "      <td>Scott</td>\n",
              "      <td>HDD</td>\n",
              "      <td>Heating degree days (Sum over a year of the di...</td>\n",
              "      <td>2004</td>\n",
              "      <td>2004</td>\n",
              "      <td>2849.0</td>\n",
              "      <td>NaN</td>\n",
              "      <td>NaN</td>\n",
              "    </tr>\n",
              "    <tr>\n",
              "      <th>4</th>\n",
              "      <td>USA</td>\n",
              "      <td>United States</td>\n",
              "      <td>FUA</td>\n",
              "      <td>Functional Urban Area</td>\n",
              "      <td>USA117F</td>\n",
              "      <td>Scott</td>\n",
              "      <td>HDD</td>\n",
              "      <td>Heating degree days (Sum over a year of the di...</td>\n",
              "      <td>2005</td>\n",
              "      <td>2005</td>\n",
              "      <td>2858.0</td>\n",
              "      <td>NaN</td>\n",
              "      <td>NaN</td>\n",
              "    </tr>\n",
              "  </tbody>\n",
              "</table>\n",
              "</div>\n",
              "      <button class=\"colab-df-convert\" onclick=\"convertToInteractive('df-bb1df4bc-4eb6-4f6f-b938-1bdb660405b8')\"\n",
              "              title=\"Convert this dataframe to an interactive table.\"\n",
              "              style=\"display:none;\">\n",
              "        \n",
              "  <svg xmlns=\"http://www.w3.org/2000/svg\" height=\"24px\"viewBox=\"0 0 24 24\"\n",
              "       width=\"24px\">\n",
              "    <path d=\"M0 0h24v24H0V0z\" fill=\"none\"/>\n",
              "    <path d=\"M18.56 5.44l.94 2.06.94-2.06 2.06-.94-2.06-.94-.94-2.06-.94 2.06-2.06.94zm-11 1L8.5 8.5l.94-2.06 2.06-.94-2.06-.94L8.5 2.5l-.94 2.06-2.06.94zm10 10l.94 2.06.94-2.06 2.06-.94-2.06-.94-.94-2.06-.94 2.06-2.06.94z\"/><path d=\"M17.41 7.96l-1.37-1.37c-.4-.4-.92-.59-1.43-.59-.52 0-1.04.2-1.43.59L10.3 9.45l-7.72 7.72c-.78.78-.78 2.05 0 2.83L4 21.41c.39.39.9.59 1.41.59.51 0 1.02-.2 1.41-.59l7.78-7.78 2.81-2.81c.8-.78.8-2.07 0-2.86zM5.41 20L4 18.59l7.72-7.72 1.47 1.35L5.41 20z\"/>\n",
              "  </svg>\n",
              "      </button>\n",
              "      \n",
              "  <style>\n",
              "    .colab-df-container {\n",
              "      display:flex;\n",
              "      flex-wrap:wrap;\n",
              "      gap: 12px;\n",
              "    }\n",
              "\n",
              "    .colab-df-convert {\n",
              "      background-color: #E8F0FE;\n",
              "      border: none;\n",
              "      border-radius: 50%;\n",
              "      cursor: pointer;\n",
              "      display: none;\n",
              "      fill: #1967D2;\n",
              "      height: 32px;\n",
              "      padding: 0 0 0 0;\n",
              "      width: 32px;\n",
              "    }\n",
              "\n",
              "    .colab-df-convert:hover {\n",
              "      background-color: #E2EBFA;\n",
              "      box-shadow: 0px 1px 2px rgba(60, 64, 67, 0.3), 0px 1px 3px 1px rgba(60, 64, 67, 0.15);\n",
              "      fill: #174EA6;\n",
              "    }\n",
              "\n",
              "    [theme=dark] .colab-df-convert {\n",
              "      background-color: #3B4455;\n",
              "      fill: #D2E3FC;\n",
              "    }\n",
              "\n",
              "    [theme=dark] .colab-df-convert:hover {\n",
              "      background-color: #434B5C;\n",
              "      box-shadow: 0px 1px 3px 1px rgba(0, 0, 0, 0.15);\n",
              "      filter: drop-shadow(0px 1px 2px rgba(0, 0, 0, 0.3));\n",
              "      fill: #FFFFFF;\n",
              "    }\n",
              "  </style>\n",
              "\n",
              "      <script>\n",
              "        const buttonEl =\n",
              "          document.querySelector('#df-bb1df4bc-4eb6-4f6f-b938-1bdb660405b8 button.colab-df-convert');\n",
              "        buttonEl.style.display =\n",
              "          google.colab.kernel.accessAllowed ? 'block' : 'none';\n",
              "\n",
              "        async function convertToInteractive(key) {\n",
              "          const element = document.querySelector('#df-bb1df4bc-4eb6-4f6f-b938-1bdb660405b8');\n",
              "          const dataTable =\n",
              "            await google.colab.kernel.invokeFunction('convertToInteractive',\n",
              "                                                     [key], {});\n",
              "          if (!dataTable) return;\n",
              "\n",
              "          const docLinkHtml = 'Like what you see? Visit the ' +\n",
              "            '<a target=\"_blank\" href=https://colab.research.google.com/notebooks/data_table.ipynb>data table notebook</a>'\n",
              "            + ' to learn more about interactive tables.';\n",
              "          element.innerHTML = '';\n",
              "          dataTable['output_type'] = 'display_data';\n",
              "          await google.colab.output.renderOutput(dataTable, element);\n",
              "          const docLink = document.createElement('div');\n",
              "          docLink.innerHTML = docLinkHtml;\n",
              "          element.appendChild(docLink);\n",
              "        }\n",
              "      </script>\n",
              "    </div>\n",
              "  </div>\n",
              "  "
            ]
          },
          "metadata": {},
          "execution_count": 82
        }
      ]
    },
    {
      "cell_type": "code",
      "source": [
        "df_climate_hazards[\"Territory level\"].unique() # has both FUA and City so keep"
      ],
      "metadata": {
        "colab": {
          "base_uri": "https://localhost:8080/"
        },
        "id": "n5jzn839lj8N",
        "outputId": "78e8d951-c56d-4f40-9b43-0b064ded80dd"
      },
      "execution_count": null,
      "outputs": [
        {
          "output_type": "execute_result",
          "data": {
            "text/plain": [
              "array(['Functional Urban Area', 'City'], dtype=object)"
            ]
          },
          "metadata": {},
          "execution_count": 83
        }
      ]
    },
    {
      "cell_type": "code",
      "source": [
        "df_climate_hazards_clean = df_climate_hazards.drop(columns = ['LOCATION', 'TL', 'GEO', 'VAR', 'TIME', 'Flag Codes', 'Flags'])"
      ],
      "metadata": {
        "id": "sqqto1NMk1QN"
      },
      "execution_count": null,
      "outputs": []
    },
    {
      "cell_type": "code",
      "source": [
        "df_climate_hazards_clean[\"Variable\"].unique() "
      ],
      "metadata": {
        "colab": {
          "base_uri": "https://localhost:8080/"
        },
        "id": "Mm_gGErZlH9x",
        "outputId": "0e254e1a-60bd-4548-fe7f-86ec02675084"
      },
      "execution_count": null,
      "outputs": [
        {
          "output_type": "execute_result",
          "data": {
            "text/plain": [
              "array(['Heating degree days (Sum over a year of the differences between the threshold temperature (15.5°C) and the daily mean outdoor temperature when the daily mean outdoor temperature is below 15.5°C)',\n",
              "       'Days of very strong heat stress (UTCI > 38°C)',\n",
              "       'Cooling degree days (Sum over a year of the differences between the daily mean outdoor air temperature and the threshold temperature (22°C) when the daily mean outdoor temperature is above 22°C)',\n",
              "       'Days of extreme heat stress (UTCI > 46°C)',\n",
              "       'Days of strong heat stress (UTCI > 32°C)',\n",
              "       'Area burned as a share of total area',\n",
              "       'Share of population exposed to coastal flooding, 100-year return period',\n",
              "       'Share of population exposed to at least one forest fire',\n",
              "       'Summer daytime urban heat island: difference in land surface temperature (in °C) between the built-up area and its surroundings',\n",
              "       'Share of population exposed to river flooding, 100-year return period'],\n",
              "      dtype=object)"
            ]
          },
          "metadata": {},
          "execution_count": 85
        }
      ]
    },
    {
      "cell_type": "code",
      "source": [
        "# no duplicates\n",
        "len(df_climate_hazards_clean) - len(df_climate_hazards_clean.drop_duplicates())"
      ],
      "metadata": {
        "colab": {
          "base_uri": "https://localhost:8080/"
        },
        "id": "E7OA9qDQk7G2",
        "outputId": "ad107107-a68c-424b-b4f5-e42521ad7eb3"
      },
      "execution_count": null,
      "outputs": [
        {
          "output_type": "execute_result",
          "data": {
            "text/plain": [
              "0"
            ]
          },
          "metadata": {},
          "execution_count": 86
        }
      ]
    },
    {
      "cell_type": "code",
      "source": [
        "# no nulls\n",
        "df_climate_hazards_clean.info()"
      ],
      "metadata": {
        "colab": {
          "base_uri": "https://localhost:8080/"
        },
        "id": "Whe1B-TglB8n",
        "outputId": "f5e4f097-827b-48ea-b393-2c5a90972915"
      },
      "execution_count": null,
      "outputs": [
        {
          "output_type": "stream",
          "name": "stdout",
          "text": [
            "<class 'pandas.core.frame.DataFrame'>\n",
            "RangeIndex: 393624 entries, 0 to 393623\n",
            "Data columns (total 6 columns):\n",
            " #   Column           Non-Null Count   Dtype  \n",
            "---  ------           --------------   -----  \n",
            " 0   Country          393624 non-null  object \n",
            " 1   Territory level  393624 non-null  object \n",
            " 2   Geography        393624 non-null  object \n",
            " 3   Variable         393624 non-null  object \n",
            " 4   Time             393624 non-null  int64  \n",
            " 5   Value            393624 non-null  float64\n",
            "dtypes: float64(1), int64(1), object(4)\n",
            "memory usage: 18.0+ MB\n"
          ]
        }
      ]
    },
    {
      "cell_type": "code",
      "source": [
        "df_territorial_organization.head()"
      ],
      "metadata": {
        "colab": {
          "base_uri": "https://localhost:8080/",
          "height": 493
        },
        "id": "0fkq4zoZgjt9",
        "outputId": "cc603237-b5d5-4103-d0f4-21ecf5c13ee5"
      },
      "execution_count": null,
      "outputs": [
        {
          "output_type": "execute_result",
          "data": {
            "text/plain": [
              "  LOCATION        Country    TL        Territory level      GEO  \\\n",
              "0      DEU        Germany  CITY                   City   DE034C   \n",
              "1      GRC         Greece   FUA  Functional Urban Area   EL006F   \n",
              "2      USA  United States   FUA  Functional Urban Area  USA112F   \n",
              "3      POL         Poland  CITY                   City   PL056C   \n",
              "4      POL         Poland   FUA  Functional Urban Area   PL008F   \n",
              "\n",
              "         Geography          VAR  \\\n",
              "0  Mönchengladbach     URB_AREA   \n",
              "1            Volos  URB_AREA_PC   \n",
              "2          Cameron  URB_AREA_PC   \n",
              "3           Zabrze     URB_AREA   \n",
              "4        Bydgoszcz     URB_AREA   \n",
              "\n",
              "                                            Variable  TIME  Time  Value  \\\n",
              "0  Urbanised area (built-up area or land for urba...  2014  2014   53.0   \n",
              "1          Urbanised area per capita (m² per capita)  2014  2014  257.0   \n",
              "2          Urbanised area per capita (m² per capita)  2014  2014  233.0   \n",
              "3  Urbanised area (built-up area or land for urba...  2014  2014   32.0   \n",
              "4  Urbanised area (built-up area or land for urba...  2014  2014   82.0   \n",
              "\n",
              "   Flag Codes  Flags  \n",
              "0         NaN    NaN  \n",
              "1         NaN    NaN  \n",
              "2         NaN    NaN  \n",
              "3         NaN    NaN  \n",
              "4         NaN    NaN  "
            ],
            "text/html": [
              "\n",
              "  <div id=\"df-51bba274-847a-4c72-beb1-920f84fc00f2\">\n",
              "    <div class=\"colab-df-container\">\n",
              "      <div>\n",
              "<style scoped>\n",
              "    .dataframe tbody tr th:only-of-type {\n",
              "        vertical-align: middle;\n",
              "    }\n",
              "\n",
              "    .dataframe tbody tr th {\n",
              "        vertical-align: top;\n",
              "    }\n",
              "\n",
              "    .dataframe thead th {\n",
              "        text-align: right;\n",
              "    }\n",
              "</style>\n",
              "<table border=\"1\" class=\"dataframe\">\n",
              "  <thead>\n",
              "    <tr style=\"text-align: right;\">\n",
              "      <th></th>\n",
              "      <th>LOCATION</th>\n",
              "      <th>Country</th>\n",
              "      <th>TL</th>\n",
              "      <th>Territory level</th>\n",
              "      <th>GEO</th>\n",
              "      <th>Geography</th>\n",
              "      <th>VAR</th>\n",
              "      <th>Variable</th>\n",
              "      <th>TIME</th>\n",
              "      <th>Time</th>\n",
              "      <th>Value</th>\n",
              "      <th>Flag Codes</th>\n",
              "      <th>Flags</th>\n",
              "    </tr>\n",
              "  </thead>\n",
              "  <tbody>\n",
              "    <tr>\n",
              "      <th>0</th>\n",
              "      <td>DEU</td>\n",
              "      <td>Germany</td>\n",
              "      <td>CITY</td>\n",
              "      <td>City</td>\n",
              "      <td>DE034C</td>\n",
              "      <td>Mönchengladbach</td>\n",
              "      <td>URB_AREA</td>\n",
              "      <td>Urbanised area (built-up area or land for urba...</td>\n",
              "      <td>2014</td>\n",
              "      <td>2014</td>\n",
              "      <td>53.0</td>\n",
              "      <td>NaN</td>\n",
              "      <td>NaN</td>\n",
              "    </tr>\n",
              "    <tr>\n",
              "      <th>1</th>\n",
              "      <td>GRC</td>\n",
              "      <td>Greece</td>\n",
              "      <td>FUA</td>\n",
              "      <td>Functional Urban Area</td>\n",
              "      <td>EL006F</td>\n",
              "      <td>Volos</td>\n",
              "      <td>URB_AREA_PC</td>\n",
              "      <td>Urbanised area per capita (m² per capita)</td>\n",
              "      <td>2014</td>\n",
              "      <td>2014</td>\n",
              "      <td>257.0</td>\n",
              "      <td>NaN</td>\n",
              "      <td>NaN</td>\n",
              "    </tr>\n",
              "    <tr>\n",
              "      <th>2</th>\n",
              "      <td>USA</td>\n",
              "      <td>United States</td>\n",
              "      <td>FUA</td>\n",
              "      <td>Functional Urban Area</td>\n",
              "      <td>USA112F</td>\n",
              "      <td>Cameron</td>\n",
              "      <td>URB_AREA_PC</td>\n",
              "      <td>Urbanised area per capita (m² per capita)</td>\n",
              "      <td>2014</td>\n",
              "      <td>2014</td>\n",
              "      <td>233.0</td>\n",
              "      <td>NaN</td>\n",
              "      <td>NaN</td>\n",
              "    </tr>\n",
              "    <tr>\n",
              "      <th>3</th>\n",
              "      <td>POL</td>\n",
              "      <td>Poland</td>\n",
              "      <td>CITY</td>\n",
              "      <td>City</td>\n",
              "      <td>PL056C</td>\n",
              "      <td>Zabrze</td>\n",
              "      <td>URB_AREA</td>\n",
              "      <td>Urbanised area (built-up area or land for urba...</td>\n",
              "      <td>2014</td>\n",
              "      <td>2014</td>\n",
              "      <td>32.0</td>\n",
              "      <td>NaN</td>\n",
              "      <td>NaN</td>\n",
              "    </tr>\n",
              "    <tr>\n",
              "      <th>4</th>\n",
              "      <td>POL</td>\n",
              "      <td>Poland</td>\n",
              "      <td>FUA</td>\n",
              "      <td>Functional Urban Area</td>\n",
              "      <td>PL008F</td>\n",
              "      <td>Bydgoszcz</td>\n",
              "      <td>URB_AREA</td>\n",
              "      <td>Urbanised area (built-up area or land for urba...</td>\n",
              "      <td>2014</td>\n",
              "      <td>2014</td>\n",
              "      <td>82.0</td>\n",
              "      <td>NaN</td>\n",
              "      <td>NaN</td>\n",
              "    </tr>\n",
              "  </tbody>\n",
              "</table>\n",
              "</div>\n",
              "      <button class=\"colab-df-convert\" onclick=\"convertToInteractive('df-51bba274-847a-4c72-beb1-920f84fc00f2')\"\n",
              "              title=\"Convert this dataframe to an interactive table.\"\n",
              "              style=\"display:none;\">\n",
              "        \n",
              "  <svg xmlns=\"http://www.w3.org/2000/svg\" height=\"24px\"viewBox=\"0 0 24 24\"\n",
              "       width=\"24px\">\n",
              "    <path d=\"M0 0h24v24H0V0z\" fill=\"none\"/>\n",
              "    <path d=\"M18.56 5.44l.94 2.06.94-2.06 2.06-.94-2.06-.94-.94-2.06-.94 2.06-2.06.94zm-11 1L8.5 8.5l.94-2.06 2.06-.94-2.06-.94L8.5 2.5l-.94 2.06-2.06.94zm10 10l.94 2.06.94-2.06 2.06-.94-2.06-.94-.94-2.06-.94 2.06-2.06.94z\"/><path d=\"M17.41 7.96l-1.37-1.37c-.4-.4-.92-.59-1.43-.59-.52 0-1.04.2-1.43.59L10.3 9.45l-7.72 7.72c-.78.78-.78 2.05 0 2.83L4 21.41c.39.39.9.59 1.41.59.51 0 1.02-.2 1.41-.59l7.78-7.78 2.81-2.81c.8-.78.8-2.07 0-2.86zM5.41 20L4 18.59l7.72-7.72 1.47 1.35L5.41 20z\"/>\n",
              "  </svg>\n",
              "      </button>\n",
              "      \n",
              "  <style>\n",
              "    .colab-df-container {\n",
              "      display:flex;\n",
              "      flex-wrap:wrap;\n",
              "      gap: 12px;\n",
              "    }\n",
              "\n",
              "    .colab-df-convert {\n",
              "      background-color: #E8F0FE;\n",
              "      border: none;\n",
              "      border-radius: 50%;\n",
              "      cursor: pointer;\n",
              "      display: none;\n",
              "      fill: #1967D2;\n",
              "      height: 32px;\n",
              "      padding: 0 0 0 0;\n",
              "      width: 32px;\n",
              "    }\n",
              "\n",
              "    .colab-df-convert:hover {\n",
              "      background-color: #E2EBFA;\n",
              "      box-shadow: 0px 1px 2px rgba(60, 64, 67, 0.3), 0px 1px 3px 1px rgba(60, 64, 67, 0.15);\n",
              "      fill: #174EA6;\n",
              "    }\n",
              "\n",
              "    [theme=dark] .colab-df-convert {\n",
              "      background-color: #3B4455;\n",
              "      fill: #D2E3FC;\n",
              "    }\n",
              "\n",
              "    [theme=dark] .colab-df-convert:hover {\n",
              "      background-color: #434B5C;\n",
              "      box-shadow: 0px 1px 3px 1px rgba(0, 0, 0, 0.15);\n",
              "      filter: drop-shadow(0px 1px 2px rgba(0, 0, 0, 0.3));\n",
              "      fill: #FFFFFF;\n",
              "    }\n",
              "  </style>\n",
              "\n",
              "      <script>\n",
              "        const buttonEl =\n",
              "          document.querySelector('#df-51bba274-847a-4c72-beb1-920f84fc00f2 button.colab-df-convert');\n",
              "        buttonEl.style.display =\n",
              "          google.colab.kernel.accessAllowed ? 'block' : 'none';\n",
              "\n",
              "        async function convertToInteractive(key) {\n",
              "          const element = document.querySelector('#df-51bba274-847a-4c72-beb1-920f84fc00f2');\n",
              "          const dataTable =\n",
              "            await google.colab.kernel.invokeFunction('convertToInteractive',\n",
              "                                                     [key], {});\n",
              "          if (!dataTable) return;\n",
              "\n",
              "          const docLinkHtml = 'Like what you see? Visit the ' +\n",
              "            '<a target=\"_blank\" href=https://colab.research.google.com/notebooks/data_table.ipynb>data table notebook</a>'\n",
              "            + ' to learn more about interactive tables.';\n",
              "          element.innerHTML = '';\n",
              "          dataTable['output_type'] = 'display_data';\n",
              "          await google.colab.output.renderOutput(dataTable, element);\n",
              "          const docLink = document.createElement('div');\n",
              "          docLink.innerHTML = docLinkHtml;\n",
              "          element.appendChild(docLink);\n",
              "        }\n",
              "      </script>\n",
              "    </div>\n",
              "  </div>\n",
              "  "
            ]
          },
          "metadata": {},
          "execution_count": 88
        }
      ]
    },
    {
      "cell_type": "code",
      "source": [
        "df_territorial_organization[\"Territory level\"].unique() # has both FUA and City so keep"
      ],
      "metadata": {
        "colab": {
          "base_uri": "https://localhost:8080/"
        },
        "id": "DpPsFPsKmasc",
        "outputId": "9f39d1e5-0ea2-4e57-8990-d2a78667f4dc"
      },
      "execution_count": null,
      "outputs": [
        {
          "output_type": "execute_result",
          "data": {
            "text/plain": [
              "array(['City', 'Functional Urban Area'], dtype=object)"
            ]
          },
          "metadata": {},
          "execution_count": 89
        }
      ]
    },
    {
      "cell_type": "code",
      "source": [
        "df_territorial_organization_clean = df_territorial_organization.drop(columns = ['LOCATION', 'TL', 'GEO', 'VAR', 'TIME', 'Flag Codes', 'Flags'])"
      ],
      "metadata": {
        "id": "s5Yvpbvzk1wK"
      },
      "execution_count": null,
      "outputs": []
    },
    {
      "cell_type": "code",
      "source": [
        "df_territorial_organization_clean[\"Variable\"].unique() "
      ],
      "metadata": {
        "colab": {
          "base_uri": "https://localhost:8080/"
        },
        "id": "bf1BodNvlIsT",
        "outputId": "b78cd508-8fd3-47f9-c8a7-6fc9ad431f9d"
      },
      "execution_count": null,
      "outputs": [
        {
          "output_type": "execute_result",
          "data": {
            "text/plain": [
              "array(['Urbanised area (built-up area or land for urban use in km²)',\n",
              "       'Urbanised area per capita (m² per capita)',\n",
              "       'Total land area (in km²)',\n",
              "       'Average population size of local governments',\n",
              "       'Territorial fragmentation (local governments per 100 000 inhabitants)',\n",
              "       'Population density (inhabitants per km²)',\n",
              "       'Local governments (count)'], dtype=object)"
            ]
          },
          "metadata": {},
          "execution_count": 91
        }
      ]
    },
    {
      "cell_type": "code",
      "source": [
        "# no duplicates\n",
        "len(df_territorial_organization_clean) - len(df_territorial_organization_clean.drop_duplicates())"
      ],
      "metadata": {
        "colab": {
          "base_uri": "https://localhost:8080/"
        },
        "id": "mxUplt19k8K4",
        "outputId": "08835aa1-9223-4c87-96b0-afbcf0fcaa17"
      },
      "execution_count": null,
      "outputs": [
        {
          "output_type": "execute_result",
          "data": {
            "text/plain": [
              "0"
            ]
          },
          "metadata": {},
          "execution_count": 92
        }
      ]
    },
    {
      "cell_type": "code",
      "source": [
        "# no nulls\n",
        "df_territorial_organization_clean.info()"
      ],
      "metadata": {
        "colab": {
          "base_uri": "https://localhost:8080/"
        },
        "id": "NRgSuxM8lCoD",
        "outputId": "e4586f58-1762-4ce1-bf49-5de5d1b6f97c"
      },
      "execution_count": null,
      "outputs": [
        {
          "output_type": "stream",
          "name": "stdout",
          "text": [
            "<class 'pandas.core.frame.DataFrame'>\n",
            "RangeIndex: 84436 entries, 0 to 84435\n",
            "Data columns (total 6 columns):\n",
            " #   Column           Non-Null Count  Dtype  \n",
            "---  ------           --------------  -----  \n",
            " 0   Country          84436 non-null  object \n",
            " 1   Territory level  84436 non-null  object \n",
            " 2   Geography        84436 non-null  object \n",
            " 3   Variable         84436 non-null  object \n",
            " 4   Time             84436 non-null  int64  \n",
            " 5   Value            84436 non-null  float64\n",
            "dtypes: float64(1), int64(1), object(4)\n",
            "memory usage: 3.9+ MB\n"
          ]
        }
      ]
    },
    {
      "cell_type": "markdown",
      "source": [
        "# Next steps\n",
        "1. Determine which attributes are important and convert \"Variable\" column values into columns.\n",
        "2. Merge OECD data with Temperature data.\n",
        "3. Check for any correlation. Visualize data. If needed, reduce dimensions.\n",
        "3. Create test, train, and, if possible, validation datasets.\n",
        "4. Train model and predict temperature change.\n",
        "5. Evaluate performance of model.\n",
        "\n",
        "\n"
      ],
      "metadata": {
        "id": "oIr9hnwydOuE"
      }
    },
    {
      "cell_type": "markdown",
      "source": [
        "Time Series Anlysis"
      ],
      "metadata": {
        "id": "tqs7yI-Itpze"
      }
    },
    {
      "cell_type": "markdown",
      "source": [
        "The OECD dataset has used temperatures of 32C,38C and 46C to count days of heat stress on various levels. This is based on max temperatures. Our dataset has average temperatures where night time temperatures beging down the value. We are using over 32 degrees average to flag heat stress at any level for this analysis. This average tempearature higher than 89.6F which would normally guarantee a daytime high of around 100F given reasonable variations of 20F from day to night max to min. Simple analysis of philadelphia is done as an exploratory exercise"
      ],
      "metadata": {
        "id": "-ftEKZV9tx3Z"
      }
    },
    {
      "cell_type": "code",
      "source": [
        "#extract the data for philadelphia \n",
        "df_temp_phily = df_temp_by_city.loc[df_temp_by_city['City']==\"Philadelphia\"]\n",
        "df_temp_phily['date'] = pd.to_datetime(df_temp_phily['dt'],format ='%Y-%m-%d' )\n",
        "df_temp_phily.head()"
      ],
      "metadata": {
        "colab": {
          "base_uri": "https://localhost:8080/",
          "height": 464
        },
        "id": "UlccBr6vt65A",
        "outputId": "3e616ab9-11a4-4b63-f57f-8d41cee00dc0"
      },
      "execution_count": null,
      "outputs": [
        {
          "output_type": "stream",
          "name": "stderr",
          "text": [
            "<ipython-input-94-a99f10c48c32>:3: SettingWithCopyWarning: \n",
            "A value is trying to be set on a copy of a slice from a DataFrame.\n",
            "Try using .loc[row_indexer,col_indexer] = value instead\n",
            "\n",
            "See the caveats in the documentation: https://pandas.pydata.org/pandas-docs/stable/user_guide/indexing.html#returning-a-view-versus-a-copy\n",
            "  df_temp_phily['date'] = pd.to_datetime(df_temp_phily['dt'],format ='%Y-%m-%d' )\n"
          ]
        },
        {
          "output_type": "execute_result",
          "data": {
            "text/plain": [
              "                 dt  AverageTemperature  AverageTemperatureUncertainty  \\\n",
              "5846209  1743-11-01               6.072                           1.74   \n",
              "5846210  1743-12-01                 NaN                            NaN   \n",
              "5846211  1744-01-01                 NaN                            NaN   \n",
              "5846212  1744-02-01                 NaN                            NaN   \n",
              "5846213  1744-03-01                 NaN                            NaN   \n",
              "\n",
              "                 City        Country Latitude Longitude  drop_city       date  \n",
              "5846209  Philadelphia  United States   39.38N    74.91W          0 1743-11-01  \n",
              "5846210  Philadelphia  United States   39.38N    74.91W          0 1743-12-01  \n",
              "5846211  Philadelphia  United States   39.38N    74.91W          0 1744-01-01  \n",
              "5846212  Philadelphia  United States   39.38N    74.91W          0 1744-02-01  \n",
              "5846213  Philadelphia  United States   39.38N    74.91W          0 1744-03-01  "
            ],
            "text/html": [
              "\n",
              "  <div id=\"df-7d4d698e-133b-494a-b30a-9a8629da8f72\">\n",
              "    <div class=\"colab-df-container\">\n",
              "      <div>\n",
              "<style scoped>\n",
              "    .dataframe tbody tr th:only-of-type {\n",
              "        vertical-align: middle;\n",
              "    }\n",
              "\n",
              "    .dataframe tbody tr th {\n",
              "        vertical-align: top;\n",
              "    }\n",
              "\n",
              "    .dataframe thead th {\n",
              "        text-align: right;\n",
              "    }\n",
              "</style>\n",
              "<table border=\"1\" class=\"dataframe\">\n",
              "  <thead>\n",
              "    <tr style=\"text-align: right;\">\n",
              "      <th></th>\n",
              "      <th>dt</th>\n",
              "      <th>AverageTemperature</th>\n",
              "      <th>AverageTemperatureUncertainty</th>\n",
              "      <th>City</th>\n",
              "      <th>Country</th>\n",
              "      <th>Latitude</th>\n",
              "      <th>Longitude</th>\n",
              "      <th>drop_city</th>\n",
              "      <th>date</th>\n",
              "    </tr>\n",
              "  </thead>\n",
              "  <tbody>\n",
              "    <tr>\n",
              "      <th>5846209</th>\n",
              "      <td>1743-11-01</td>\n",
              "      <td>6.072</td>\n",
              "      <td>1.74</td>\n",
              "      <td>Philadelphia</td>\n",
              "      <td>United States</td>\n",
              "      <td>39.38N</td>\n",
              "      <td>74.91W</td>\n",
              "      <td>0</td>\n",
              "      <td>1743-11-01</td>\n",
              "    </tr>\n",
              "    <tr>\n",
              "      <th>5846210</th>\n",
              "      <td>1743-12-01</td>\n",
              "      <td>NaN</td>\n",
              "      <td>NaN</td>\n",
              "      <td>Philadelphia</td>\n",
              "      <td>United States</td>\n",
              "      <td>39.38N</td>\n",
              "      <td>74.91W</td>\n",
              "      <td>0</td>\n",
              "      <td>1743-12-01</td>\n",
              "    </tr>\n",
              "    <tr>\n",
              "      <th>5846211</th>\n",
              "      <td>1744-01-01</td>\n",
              "      <td>NaN</td>\n",
              "      <td>NaN</td>\n",
              "      <td>Philadelphia</td>\n",
              "      <td>United States</td>\n",
              "      <td>39.38N</td>\n",
              "      <td>74.91W</td>\n",
              "      <td>0</td>\n",
              "      <td>1744-01-01</td>\n",
              "    </tr>\n",
              "    <tr>\n",
              "      <th>5846212</th>\n",
              "      <td>1744-02-01</td>\n",
              "      <td>NaN</td>\n",
              "      <td>NaN</td>\n",
              "      <td>Philadelphia</td>\n",
              "      <td>United States</td>\n",
              "      <td>39.38N</td>\n",
              "      <td>74.91W</td>\n",
              "      <td>0</td>\n",
              "      <td>1744-02-01</td>\n",
              "    </tr>\n",
              "    <tr>\n",
              "      <th>5846213</th>\n",
              "      <td>1744-03-01</td>\n",
              "      <td>NaN</td>\n",
              "      <td>NaN</td>\n",
              "      <td>Philadelphia</td>\n",
              "      <td>United States</td>\n",
              "      <td>39.38N</td>\n",
              "      <td>74.91W</td>\n",
              "      <td>0</td>\n",
              "      <td>1744-03-01</td>\n",
              "    </tr>\n",
              "  </tbody>\n",
              "</table>\n",
              "</div>\n",
              "      <button class=\"colab-df-convert\" onclick=\"convertToInteractive('df-7d4d698e-133b-494a-b30a-9a8629da8f72')\"\n",
              "              title=\"Convert this dataframe to an interactive table.\"\n",
              "              style=\"display:none;\">\n",
              "        \n",
              "  <svg xmlns=\"http://www.w3.org/2000/svg\" height=\"24px\"viewBox=\"0 0 24 24\"\n",
              "       width=\"24px\">\n",
              "    <path d=\"M0 0h24v24H0V0z\" fill=\"none\"/>\n",
              "    <path d=\"M18.56 5.44l.94 2.06.94-2.06 2.06-.94-2.06-.94-.94-2.06-.94 2.06-2.06.94zm-11 1L8.5 8.5l.94-2.06 2.06-.94-2.06-.94L8.5 2.5l-.94 2.06-2.06.94zm10 10l.94 2.06.94-2.06 2.06-.94-2.06-.94-.94-2.06-.94 2.06-2.06.94z\"/><path d=\"M17.41 7.96l-1.37-1.37c-.4-.4-.92-.59-1.43-.59-.52 0-1.04.2-1.43.59L10.3 9.45l-7.72 7.72c-.78.78-.78 2.05 0 2.83L4 21.41c.39.39.9.59 1.41.59.51 0 1.02-.2 1.41-.59l7.78-7.78 2.81-2.81c.8-.78.8-2.07 0-2.86zM5.41 20L4 18.59l7.72-7.72 1.47 1.35L5.41 20z\"/>\n",
              "  </svg>\n",
              "      </button>\n",
              "      \n",
              "  <style>\n",
              "    .colab-df-container {\n",
              "      display:flex;\n",
              "      flex-wrap:wrap;\n",
              "      gap: 12px;\n",
              "    }\n",
              "\n",
              "    .colab-df-convert {\n",
              "      background-color: #E8F0FE;\n",
              "      border: none;\n",
              "      border-radius: 50%;\n",
              "      cursor: pointer;\n",
              "      display: none;\n",
              "      fill: #1967D2;\n",
              "      height: 32px;\n",
              "      padding: 0 0 0 0;\n",
              "      width: 32px;\n",
              "    }\n",
              "\n",
              "    .colab-df-convert:hover {\n",
              "      background-color: #E2EBFA;\n",
              "      box-shadow: 0px 1px 2px rgba(60, 64, 67, 0.3), 0px 1px 3px 1px rgba(60, 64, 67, 0.15);\n",
              "      fill: #174EA6;\n",
              "    }\n",
              "\n",
              "    [theme=dark] .colab-df-convert {\n",
              "      background-color: #3B4455;\n",
              "      fill: #D2E3FC;\n",
              "    }\n",
              "\n",
              "    [theme=dark] .colab-df-convert:hover {\n",
              "      background-color: #434B5C;\n",
              "      box-shadow: 0px 1px 3px 1px rgba(0, 0, 0, 0.15);\n",
              "      filter: drop-shadow(0px 1px 2px rgba(0, 0, 0, 0.3));\n",
              "      fill: #FFFFFF;\n",
              "    }\n",
              "  </style>\n",
              "\n",
              "      <script>\n",
              "        const buttonEl =\n",
              "          document.querySelector('#df-7d4d698e-133b-494a-b30a-9a8629da8f72 button.colab-df-convert');\n",
              "        buttonEl.style.display =\n",
              "          google.colab.kernel.accessAllowed ? 'block' : 'none';\n",
              "\n",
              "        async function convertToInteractive(key) {\n",
              "          const element = document.querySelector('#df-7d4d698e-133b-494a-b30a-9a8629da8f72');\n",
              "          const dataTable =\n",
              "            await google.colab.kernel.invokeFunction('convertToInteractive',\n",
              "                                                     [key], {});\n",
              "          if (!dataTable) return;\n",
              "\n",
              "          const docLinkHtml = 'Like what you see? Visit the ' +\n",
              "            '<a target=\"_blank\" href=https://colab.research.google.com/notebooks/data_table.ipynb>data table notebook</a>'\n",
              "            + ' to learn more about interactive tables.';\n",
              "          element.innerHTML = '';\n",
              "          dataTable['output_type'] = 'display_data';\n",
              "          await google.colab.output.renderOutput(dataTable, element);\n",
              "          const docLink = document.createElement('div');\n",
              "          docLink.innerHTML = docLinkHtml;\n",
              "          element.appendChild(docLink);\n",
              "        }\n",
              "      </script>\n",
              "    </div>\n",
              "  </div>\n",
              "  "
            ]
          },
          "metadata": {},
          "execution_count": 94
        }
      ]
    },
    {
      "cell_type": "markdown",
      "source": [
        "Test time series forecasting on Phily data"
      ],
      "metadata": {
        "id": "ZcqcpLzfuT6k"
      }
    },
    {
      "cell_type": "code",
      "source": [
        "import matplotlib.pyplot as plt\n",
        "import seaborn as sns\n",
        "\n",
        "plt.ylabel(\"AverageTemperature\")\n",
        "plt.xlabel(\"date\")\n",
        "plt.plot(df_temp_phily.dt,df_temp_phily.AverageTemperature)"
      ],
      "metadata": {
        "colab": {
          "base_uri": "https://localhost:8080/",
          "height": 467
        },
        "id": "08gGUmDVuVkA",
        "outputId": "2d8518f8-cbd4-4b9b-e80b-56dddecae98f"
      },
      "execution_count": null,
      "outputs": [
        {
          "output_type": "execute_result",
          "data": {
            "text/plain": [
              "[<matplotlib.lines.Line2D at 0x7f522f0b78e0>]"
            ]
          },
          "metadata": {},
          "execution_count": 95
        },
        {
          "output_type": "display_data",
          "data": {
            "text/plain": [
              "<Figure size 640x480 with 1 Axes>"
            ],
            "image/png": "[encoded data removed]"
          },
          "metadata": {}
        }
      ]
    },
    {
      "cell_type": "markdown",
      "source": [
        "Using Sarimax from Stat Models "
      ],
      "metadata": {
        "id": "2uoDbljNuZ7d"
      }
    },
    {
      "cell_type": "code",
      "source": [
        "from statsmodels.tsa.statespace.sarimax import SARIMAX\n",
        "train = df_temp_phily[df_temp_phily['date'] < pd.to_datetime(\"2008-12-31\", format='%Y-%m-%d')]\n",
        "test=   df_temp_phily[df_temp_phily['date'] > pd.to_datetime(\"2008-12-31\",format = '%Y-%m-%d')]\n",
        "\n",
        "y_temp = train['AverageTemperature']\n",
        "smax_model = SARIMAX(y_temp,order=(2,2,2),seasonal_order = (2,2,2,12))\n",
        "smax_model = smax_model.fit()\n",
        "y_temp = smax_model.get_forecast(len(test.index))\n",
        "y_temp_df = y_temp.conf_int(alpha = 0.05)\n",
        "y_temp_df['Predicted_temp'] = smax_model.predict(start = y_temp_df.index[0],end = y_temp_df.index[-1])\n",
        "y_temp_df.index = test.index\n",
        "#y_temp_df.head()\n",
        "#y_temp_df = y_temp_df.merge(test[['date']] ,left_on = 'index',right_on = 'index', how = 'inner')\n",
        "y_temp_df.head(50)\n",
        "\n",
        "#plt.plot(y_temp_df['Predicted_temp'],color = 'green', label = 'Predicted temp')\n",
        "#plt.ylabel(\"temperatures in degrees C\")\n",
        "#plt.xlabel(\"prediction for 5 years from 2009\")\n"
      ],
      "metadata": {
        "id": "QQadnXf8ulcb",
        "colab": {
          "base_uri": "https://localhost:8080/",
          "height": 1000
        },
        "outputId": "6173a415-b182-4ecf-a46f-e2137cc1cc8a"
      },
      "execution_count": null,
      "outputs": [
        {
          "output_type": "stream",
          "name": "stderr",
          "text": [
            "/usr/local/lib/python3.9/dist-packages/statsmodels/tsa/base/tsa_model.py:471: ValueWarning: An unsupported index was provided and will be ignored when e.g. forecasting.\n",
            "  self._init_dates(dates, freq)\n",
            "/usr/local/lib/python3.9/dist-packages/statsmodels/tsa/base/tsa_model.py:471: ValueWarning: An unsupported index was provided and will be ignored when e.g. forecasting.\n",
            "  self._init_dates(dates, freq)\n",
            "/usr/local/lib/python3.9/dist-packages/statsmodels/base/model.py:604: ConvergenceWarning: Maximum Likelihood optimization failed to converge. Check mle_retvals\n",
            "  warnings.warn(\"Maximum Likelihood optimization failed to \"\n",
            "/usr/local/lib/python3.9/dist-packages/statsmodels/tsa/base/tsa_model.py:834: ValueWarning: No supported index is available. Prediction results will be given with an integer index beginning at `start`.\n",
            "  return get_prediction_index(\n",
            "/usr/local/lib/python3.9/dist-packages/statsmodels/tsa/base/tsa_model.py:834: ValueWarning: No supported index is available. Prediction results will be given with an integer index beginning at `start`.\n",
            "  return get_prediction_index(\n"
          ]
        },
        {
          "output_type": "execute_result",
          "data": {
            "text/plain": [
              "         lower AverageTemperature  upper AverageTemperature  Predicted_temp\n",
              "5849391                 -1.216149                  4.953856        1.868854\n",
              "5849392                 -0.521902                  5.820035        2.649067\n",
              "5849393                  3.560087                  9.976122        6.768105\n",
              "5849394                  8.471152                 14.929155       11.700153\n",
              "5849395                 13.564973                 20.060904       16.812939\n",
              "5849396                 18.748376                 25.282916       22.015646\n",
              "5849397                 21.526264                 28.101708       24.813986\n",
              "5849398                 20.850747                 27.469880       24.160314\n",
              "5849399                 17.089981                 23.755784       20.422883\n",
              "5849400                 10.439038                 17.154593       13.796815\n",
              "5849401                  5.590642                 12.359092        8.974867\n",
              "5849402                  0.535191                  7.359733        3.947462\n",
              "5849403                 -1.457167                  5.473655        2.008244\n",
              "5849404                 -0.859667                  6.143430        2.641882\n",
              "5849405                  3.219982                 10.295189        6.757586\n",
              "5849406                  8.099666                 15.248649       11.674158\n",
              "5849407                 13.159574                 20.385453       16.772513\n",
              "5849408                 18.362333                 25.668540       22.015436\n",
              "5849409                 21.089881                 28.479961       24.784921\n",
              "5849410                 20.399409                 27.876936       24.138172\n",
              "5849411                 16.632188                 24.200741       20.416464\n",
              "5849412                  9.971233                 17.634383       13.802808\n",
              "5849413                  5.056785                 12.818091        8.937438\n",
              "5849414                  0.011616                  7.874618        3.943117\n",
              "5849415                 -1.920339                  6.114631        2.097146\n",
              "5849416                 -1.416560                  6.740662        2.662051\n",
              "5849417                  2.608632                 10.886470        6.747551\n",
              "5849418                  7.460292                 15.859734       11.660013\n",
              "5849419                 12.460742                 20.984791       16.722766\n",
              "5849420                 17.692637                 26.344684       22.018660\n",
              "5849421                 20.368408                 29.151951       24.760180\n",
              "5849422                 19.650284                 28.568818       24.109551\n",
              "5849423                 15.877082                 24.934069       20.405576\n",
              "5849424                  9.180859                 18.379716       13.780287\n",
              "5849425                  4.228822                 13.572922        8.900872\n",
              "5849426                 -0.806146                  8.686520        3.940187\n",
              "5849427                 -2.685274                  7.046612        2.180669\n",
              "5849428                 -2.275689                  7.628794        2.676553\n",
              "5849429                  1.698250                 11.771738        6.734994\n",
              "5849430                  6.519650                 16.762029       11.640840\n",
              "5849431                 11.472481                 21.886273       16.679377\n",
              "5849432                 16.716582                 27.304812       22.010697\n",
              "5849433                 19.350603                 30.116437       24.733520\n",
              "5849434                 18.614236                 29.560838       24.087537\n",
              "5849435                 14.826237                 25.956736       20.391486\n",
              "5849436                  8.101976                 19.419452       13.760714\n",
              "5849437                  3.118200                 14.625682        8.871941\n",
              "5849438                 -1.916259                  9.784212        3.933976\n",
              "5849439                 -3.733879                  8.258113        2.262117\n",
              "5849440                 -3.416611                  8.793496        2.688442"
            ],
            "text/html": [
              "\n",
              "  <div id=\"df-93b55c18-5e58-4938-9000-b91f5f4fb375\">\n",
              "    <div class=\"colab-df-container\">\n",
              "      <div>\n",
              "<style scoped>\n",
              "    .dataframe tbody tr th:only-of-type {\n",
              "        vertical-align: middle;\n",
              "    }\n",
              "\n",
              "    .dataframe tbody tr th {\n",
              "        vertical-align: top;\n",
              "    }\n",
              "\n",
              "    .dataframe thead th {\n",
              "        text-align: right;\n",
              "    }\n",
              "</style>\n",
              "<table border=\"1\" class=\"dataframe\">\n",
              "  <thead>\n",
              "    <tr style=\"text-align: right;\">\n",
              "      <th></th>\n",
              "      <th>lower AverageTemperature</th>\n",
              "      <th>upper AverageTemperature</th>\n",
              "      <th>Predicted_temp</th>\n",
              "    </tr>\n",
              "  </thead>\n",
              "  <tbody>\n",
              "    <tr>\n",
              "      <th>5849391</th>\n",
              "      <td>-1.216149</td>\n",
              "      <td>4.953856</td>\n",
              "      <td>1.868854</td>\n",
              "    </tr>\n",
              "    <tr>\n",
              "      <th>5849392</th>\n",
              "      <td>-0.521902</td>\n",
              "      <td>5.820035</td>\n",
              "      <td>2.649067</td>\n",
              "    </tr>\n",
              "    <tr>\n",
              "      <th>5849393</th>\n",
              "      <td>3.560087</td>\n",
              "      <td>9.976122</td>\n",
              "      <td>6.768105</td>\n",
              "    </tr>\n",
              "    <tr>\n",
              "      <th>5849394</th>\n",
              "      <td>8.471152</td>\n",
              "      <td>14.929155</td>\n",
              "      <td>11.700153</td>\n",
              "    </tr>\n",
              "    <tr>\n",
              "      <th>5849395</th>\n",
              "      <td>13.564973</td>\n",
              "      <td>20.060904</td>\n",
              "      <td>16.812939</td>\n",
              "    </tr>\n",
              "    <tr>\n",
              "      <th>5849396</th>\n",
              "      <td>18.748376</td>\n",
              "      <td>25.282916</td>\n",
              "      <td>22.015646</td>\n",
              "    </tr>\n",
              "    <tr>\n",
              "      <th>5849397</th>\n",
              "      <td>21.526264</td>\n",
              "      <td>28.101708</td>\n",
              "      <td>24.813986</td>\n",
              "    </tr>\n",
              "    <tr>\n",
              "      <th>5849398</th>\n",
              "      <td>20.850747</td>\n",
              "      <td>27.469880</td>\n",
              "      <td>24.160314</td>\n",
              "    </tr>\n",
              "    <tr>\n",
              "      <th>5849399</th>\n",
              "      <td>17.089981</td>\n",
              "      <td>23.755784</td>\n",
              "      <td>20.422883</td>\n",
              "    </tr>\n",
              "    <tr>\n",
              "      <th>5849400</th>\n",
              "      <td>10.439038</td>\n",
              "      <td>17.154593</td>\n",
              "      <td>13.796815</td>\n",
              "    </tr>\n",
              "    <tr>\n",
              "      <th>5849401</th>\n",
              "      <td>5.590642</td>\n",
              "      <td>12.359092</td>\n",
              "      <td>8.974867</td>\n",
              "    </tr>\n",
              "    <tr>\n",
              "      <th>5849402</th>\n",
              "      <td>0.535191</td>\n",
              "      <td>7.359733</td>\n",
              "      <td>3.947462</td>\n",
              "    </tr>\n",
              "    <tr>\n",
              "      <th>5849403</th>\n",
              "      <td>-1.457167</td>\n",
              "      <td>5.473655</td>\n",
              "      <td>2.008244</td>\n",
              "    </tr>\n",
              "    <tr>\n",
              "      <th>5849404</th>\n",
              "      <td>-0.859667</td>\n",
              "      <td>6.143430</td>\n",
              "      <td>2.641882</td>\n",
              "    </tr>\n",
              "    <tr>\n",
              "      <th>5849405</th>\n",
              "      <td>3.219982</td>\n",
              "      <td>10.295189</td>\n",
              "      <td>6.757586</td>\n",
              "    </tr>\n",
              "    <tr>\n",
              "      <th>5849406</th>\n",
              "      <td>8.099666</td>\n",
              "      <td>15.248649</td>\n",
              "      <td>11.674158</td>\n",
              "    </tr>\n",
              "    <tr>\n",
              "      <th>5849407</th>\n",
              "      <td>13.159574</td>\n",
              "      <td>20.385453</td>\n",
              "      <td>16.772513</td>\n",
              "    </tr>\n",
              "    <tr>\n",
              "      <th>5849408</th>\n",
              "      <td>18.362333</td>\n",
              "      <td>25.668540</td>\n",
              "      <td>22.015436</td>\n",
              "    </tr>\n",
              "    <tr>\n",
              "      <th>5849409</th>\n",
              "      <td>21.089881</td>\n",
              "      <td>28.479961</td>\n",
              "      <td>24.784921</td>\n",
              "    </tr>\n",
              "    <tr>\n",
              "      <th>5849410</th>\n",
              "      <td>20.399409</td>\n",
              "      <td>27.876936</td>\n",
              "      <td>24.138172</td>\n",
              "    </tr>\n",
              "    <tr>\n",
              "      <th>5849411</th>\n",
              "      <td>16.632188</td>\n",
              "      <td>24.200741</td>\n",
              "      <td>20.416464</td>\n",
              "    </tr>\n",
              "    <tr>\n",
              "      <th>5849412</th>\n",
              "      <td>9.971233</td>\n",
              "      <td>17.634383</td>\n",
              "      <td>13.802808</td>\n",
              "    </tr>\n",
              "    <tr>\n",
              "      <th>5849413</th>\n",
              "      <td>5.056785</td>\n",
              "      <td>12.818091</td>\n",
              "      <td>8.937438</td>\n",
              "    </tr>\n",
              "    <tr>\n",
              "      <th>5849414</th>\n",
              "      <td>0.011616</td>\n",
              "      <td>7.874618</td>\n",
              "      <td>3.943117</td>\n",
              "    </tr>\n",
              "    <tr>\n",
              "      <th>5849415</th>\n",
              "      <td>-1.920339</td>\n",
              "      <td>6.114631</td>\n",
              "      <td>2.097146</td>\n",
              "    </tr>\n",
              "    <tr>\n",
              "      <th>5849416</th>\n",
              "      <td>-1.416560</td>\n",
              "      <td>6.740662</td>\n",
              "      <td>2.662051</td>\n",
              "    </tr>\n",
              "    <tr>\n",
              "      <th>5849417</th>\n",
              "      <td>2.608632</td>\n",
              "      <td>10.886470</td>\n",
              "      <td>6.747551</td>\n",
              "    </tr>\n",
              "    <tr>\n",
              "      <th>5849418</th>\n",
              "      <td>7.460292</td>\n",
              "      <td>15.859734</td>\n",
              "      <td>11.660013</td>\n",
              "    </tr>\n",
              "    <tr>\n",
              "      <th>5849419</th>\n",
              "      <td>12.460742</td>\n",
              "      <td>20.984791</td>\n",
              "      <td>16.722766</td>\n",
              "    </tr>\n",
              "    <tr>\n",
              "      <th>5849420</th>\n",
              "      <td>17.692637</td>\n",
              "      <td>26.344684</td>\n",
              "      <td>22.018660</td>\n",
              "    </tr>\n",
              "    <tr>\n",
              "      <th>5849421</th>\n",
              "      <td>20.368408</td>\n",
              "      <td>29.151951</td>\n",
              "      <td>24.760180</td>\n",
              "    </tr>\n",
              "    <tr>\n",
              "      <th>5849422</th>\n",
              "      <td>19.650284</td>\n",
              "      <td>28.568818</td>\n",
              "      <td>24.109551</td>\n",
              "    </tr>\n",
              "    <tr>\n",
              "      <th>5849423</th>\n",
              "      <td>15.877082</td>\n",
              "      <td>24.934069</td>\n",
              "      <td>20.405576</td>\n",
              "    </tr>\n",
              "    <tr>\n",
              "      <th>5849424</th>\n",
              "      <td>9.180859</td>\n",
              "      <td>18.379716</td>\n",
              "      <td>13.780287</td>\n",
              "    </tr>\n",
              "    <tr>\n",
              "      <th>5849425</th>\n",
              "      <td>4.228822</td>\n",
              "      <td>13.572922</td>\n",
              "      <td>8.900872</td>\n",
              "    </tr>\n",
              "    <tr>\n",
              "      <th>5849426</th>\n",
              "      <td>-0.806146</td>\n",
              "      <td>8.686520</td>\n",
              "      <td>3.940187</td>\n",
              "    </tr>\n",
              "    <tr>\n",
              "      <th>5849427</th>\n",
              "      <td>-2.685274</td>\n",
              "      <td>7.046612</td>\n",
              "      <td>2.180669</td>\n",
              "    </tr>\n",
              "    <tr>\n",
              "      <th>5849428</th>\n",
              "      <td>-2.275689</td>\n",
              "      <td>7.628794</td>\n",
              "      <td>2.676553</td>\n",
              "    </tr>\n",
              "    <tr>\n",
              "      <th>5849429</th>\n",
              "      <td>1.698250</td>\n",
              "      <td>11.771738</td>\n",
              "      <td>6.734994</td>\n",
              "    </tr>\n",
              "    <tr>\n",
              "      <th>5849430</th>\n",
              "      <td>6.519650</td>\n",
              "      <td>16.762029</td>\n",
              "      <td>11.640840</td>\n",
              "    </tr>\n",
              "    <tr>\n",
              "      <th>5849431</th>\n",
              "      <td>11.472481</td>\n",
              "      <td>21.886273</td>\n",
              "      <td>16.679377</td>\n",
              "    </tr>\n",
              "    <tr>\n",
              "      <th>5849432</th>\n",
              "      <td>16.716582</td>\n",
              "      <td>27.304812</td>\n",
              "      <td>22.010697</td>\n",
              "    </tr>\n",
              "    <tr>\n",
              "      <th>5849433</th>\n",
              "      <td>19.350603</td>\n",
              "      <td>30.116437</td>\n",
              "      <td>24.733520</td>\n",
              "    </tr>\n",
              "    <tr>\n",
              "      <th>5849434</th>\n",
              "      <td>18.614236</td>\n",
              "      <td>29.560838</td>\n",
              "      <td>24.087537</td>\n",
              "    </tr>\n",
              "    <tr>\n",
              "      <th>5849435</th>\n",
              "      <td>14.826237</td>\n",
              "      <td>25.956736</td>\n",
              "      <td>20.391486</td>\n",
              "    </tr>\n",
              "    <tr>\n",
              "      <th>5849436</th>\n",
              "      <td>8.101976</td>\n",
              "      <td>19.419452</td>\n",
              "      <td>13.760714</td>\n",
              "    </tr>\n",
              "    <tr>\n",
              "      <th>5849437</th>\n",
              "      <td>3.118200</td>\n",
              "      <td>14.625682</td>\n",
              "      <td>8.871941</td>\n",
              "    </tr>\n",
              "    <tr>\n",
              "      <th>5849438</th>\n",
              "      <td>-1.916259</td>\n",
              "      <td>9.784212</td>\n",
              "      <td>3.933976</td>\n",
              "    </tr>\n",
              "    <tr>\n",
              "      <th>5849439</th>\n",
              "      <td>-3.733879</td>\n",
              "      <td>8.258113</td>\n",
              "      <td>2.262117</td>\n",
              "    </tr>\n",
              "    <tr>\n",
              "      <th>5849440</th>\n",
              "      <td>-3.416611</td>\n",
              "      <td>8.793496</td>\n",
              "      <td>2.688442</td>\n",
              "    </tr>\n",
              "  </tbody>\n",
              "</table>\n",
              "</div>\n",
              "      <button class=\"colab-df-convert\" onclick=\"convertToInteractive('df-93b55c18-5e58-4938-9000-b91f5f4fb375')\"\n",
              "              title=\"Convert this dataframe to an interactive table.\"\n",
              "              style=\"display:none;\">\n",
              "        \n",
              "  <svg xmlns=\"http://www.w3.org/2000/svg\" height=\"24px\"viewBox=\"0 0 24 24\"\n",
              "       width=\"24px\">\n",
              "    <path d=\"M0 0h24v24H0V0z\" fill=\"none\"/>\n",
              "    <path d=\"M18.56 5.44l.94 2.06.94-2.06 2.06-.94-2.06-.94-.94-2.06-.94 2.06-2.06.94zm-11 1L8.5 8.5l.94-2.06 2.06-.94-2.06-.94L8.5 2.5l-.94 2.06-2.06.94zm10 10l.94 2.06.94-2.06 2.06-.94-2.06-.94-.94-2.06-.94 2.06-2.06.94z\"/><path d=\"M17.41 7.96l-1.37-1.37c-.4-.4-.92-.59-1.43-.59-.52 0-1.04.2-1.43.59L10.3 9.45l-7.72 7.72c-.78.78-.78 2.05 0 2.83L4 21.41c.39.39.9.59 1.41.59.51 0 1.02-.2 1.41-.59l7.78-7.78 2.81-2.81c.8-.78.8-2.07 0-2.86zM5.41 20L4 18.59l7.72-7.72 1.47 1.35L5.41 20z\"/>\n",
              "  </svg>\n",
              "      </button>\n",
              "      \n",
              "  <style>\n",
              "    .colab-df-container {\n",
              "      display:flex;\n",
              "      flex-wrap:wrap;\n",
              "      gap: 12px;\n",
              "    }\n",
              "\n",
              "    .colab-df-convert {\n",
              "      background-color: #E8F0FE;\n",
              "      border: none;\n",
              "      border-radius: 50%;\n",
              "      cursor: pointer;\n",
              "      display: none;\n",
              "      fill: #1967D2;\n",
              "      height: 32px;\n",
              "      padding: 0 0 0 0;\n",
              "      width: 32px;\n",
              "    }\n",
              "\n",
              "    .colab-df-convert:hover {\n",
              "      background-color: #E2EBFA;\n",
              "      box-shadow: 0px 1px 2px rgba(60, 64, 67, 0.3), 0px 1px 3px 1px rgba(60, 64, 67, 0.15);\n",
              "      fill: #174EA6;\n",
              "    }\n",
              "\n",
              "    [theme=dark] .colab-df-convert {\n",
              "      background-color: #3B4455;\n",
              "      fill: #D2E3FC;\n",
              "    }\n",
              "\n",
              "    [theme=dark] .colab-df-convert:hover {\n",
              "      background-color: #434B5C;\n",
              "      box-shadow: 0px 1px 3px 1px rgba(0, 0, 0, 0.15);\n",
              "      filter: drop-shadow(0px 1px 2px rgba(0, 0, 0, 0.3));\n",
              "      fill: #FFFFFF;\n",
              "    }\n",
              "  </style>\n",
              "\n",
              "      <script>\n",
              "        const buttonEl =\n",
              "          document.querySelector('#df-93b55c18-5e58-4938-9000-b91f5f4fb375 button.colab-df-convert');\n",
              "        buttonEl.style.display =\n",
              "          google.colab.kernel.accessAllowed ? 'block' : 'none';\n",
              "\n",
              "        async function convertToInteractive(key) {\n",
              "          const element = document.querySelector('#df-93b55c18-5e58-4938-9000-b91f5f4fb375');\n",
              "          const dataTable =\n",
              "            await google.colab.kernel.invokeFunction('convertToInteractive',\n",
              "                                                     [key], {});\n",
              "          if (!dataTable) return;\n",
              "\n",
              "          const docLinkHtml = 'Like what you see? Visit the ' +\n",
              "            '<a target=\"_blank\" href=https://colab.research.google.com/notebooks/data_table.ipynb>data table notebook</a>'\n",
              "            + ' to learn more about interactive tables.';\n",
              "          element.innerHTML = '';\n",
              "          dataTable['output_type'] = 'display_data';\n",
              "          await google.colab.output.renderOutput(dataTable, element);\n",
              "          const docLink = document.createElement('div');\n",
              "          docLink.innerHTML = docLinkHtml;\n",
              "          element.appendChild(docLink);\n",
              "        }\n",
              "      </script>\n",
              "    </div>\n",
              "  </div>\n",
              "  "
            ]
          },
          "metadata": {},
          "execution_count": 96
        }
      ]
    },
    {
      "cell_type": "code",
      "source": [
        "y_temp_df = y_temp_df.rename(index={0:'index'})\n",
        "y_temp_df =y_temp_df.merge(test[['date','AverageTemperature']],left_index=True,right_index =True,how='inner')\n",
        "y_temp_df"
      ],
      "metadata": {
        "id": "NOESBTDunBvi",
        "colab": {
          "base_uri": "https://localhost:8080/",
          "height": 1000
        },
        "outputId": "3e726a64-5c08-40c4-8634-ad4bba86ea08"
      },
      "execution_count": null,
      "outputs": [
        {
          "output_type": "execute_result",
          "data": {
            "text/plain": [
              "         lower AverageTemperature  upper AverageTemperature  Predicted_temp  \\\n",
              "5849391                 -1.216149                  4.953856        1.868854   \n",
              "5849392                 -0.521902                  5.820035        2.649067   \n",
              "5849393                  3.560087                  9.976122        6.768105   \n",
              "5849394                  8.471152                 14.929155       11.700153   \n",
              "5849395                 13.564973                 20.060904       16.812939   \n",
              "5849396                 18.748376                 25.282916       22.015646   \n",
              "5849397                 21.526264                 28.101708       24.813986   \n",
              "5849398                 20.850747                 27.469880       24.160314   \n",
              "5849399                 17.089981                 23.755784       20.422883   \n",
              "5849400                 10.439038                 17.154593       13.796815   \n",
              "5849401                  5.590642                 12.359092        8.974867   \n",
              "5849402                  0.535191                  7.359733        3.947462   \n",
              "5849403                 -1.457167                  5.473655        2.008244   \n",
              "5849404                 -0.859667                  6.143430        2.641882   \n",
              "5849405                  3.219982                 10.295189        6.757586   \n",
              "5849406                  8.099666                 15.248649       11.674158   \n",
              "5849407                 13.159574                 20.385453       16.772513   \n",
              "5849408                 18.362333                 25.668540       22.015436   \n",
              "5849409                 21.089881                 28.479961       24.784921   \n",
              "5849410                 20.399409                 27.876936       24.138172   \n",
              "5849411                 16.632188                 24.200741       20.416464   \n",
              "5849412                  9.971233                 17.634383       13.802808   \n",
              "5849413                  5.056785                 12.818091        8.937438   \n",
              "5849414                  0.011616                  7.874618        3.943117   \n",
              "5849415                 -1.920339                  6.114631        2.097146   \n",
              "5849416                 -1.416560                  6.740662        2.662051   \n",
              "5849417                  2.608632                 10.886470        6.747551   \n",
              "5849418                  7.460292                 15.859734       11.660013   \n",
              "5849419                 12.460742                 20.984791       16.722766   \n",
              "5849420                 17.692637                 26.344684       22.018660   \n",
              "5849421                 20.368408                 29.151951       24.760180   \n",
              "5849422                 19.650284                 28.568818       24.109551   \n",
              "5849423                 15.877082                 24.934069       20.405576   \n",
              "5849424                  9.180859                 18.379716       13.780287   \n",
              "5849425                  4.228822                 13.572922        8.900872   \n",
              "5849426                 -0.806146                  8.686520        3.940187   \n",
              "5849427                 -2.685274                  7.046612        2.180669   \n",
              "5849428                 -2.275689                  7.628794        2.676553   \n",
              "5849429                  1.698250                 11.771738        6.734994   \n",
              "5849430                  6.519650                 16.762029       11.640840   \n",
              "5849431                 11.472481                 21.886273       16.679377   \n",
              "5849432                 16.716582                 27.304812       22.010697   \n",
              "5849433                 19.350603                 30.116437       24.733520   \n",
              "5849434                 18.614236                 29.560838       24.087537   \n",
              "5849435                 14.826237                 25.956736       20.391486   \n",
              "5849436                  8.101976                 19.419452       13.760714   \n",
              "5849437                  3.118200                 14.625682        8.871941   \n",
              "5849438                 -1.916259                  9.784212        3.933976   \n",
              "5849439                 -3.733879                  8.258113        2.262117   \n",
              "5849440                 -3.416611                  8.793496        2.688442   \n",
              "5849441                  0.508159                 12.931722        6.719940   \n",
              "5849442                  5.300977                 17.937201       11.619089   \n",
              "5849443                 10.207907                 23.058911       16.633409   \n",
              "5849444                 15.465977                 28.534444       22.000211   \n",
              "5849445                 18.059822                 31.348601       24.704212   \n",
              "5849446                 17.306858                 30.818807       24.062832   \n",
              "5849447                 13.505783                 27.243733       20.374758   \n",
              "\n",
              "              date  AverageTemperature  \n",
              "5849391 2009-01-01              -1.127  \n",
              "5849392 2009-02-01               2.880  \n",
              "5849393 2009-03-01               5.608  \n",
              "5849394 2009-04-01              11.993  \n",
              "5849395 2009-05-01              16.875  \n",
              "5849396 2009-06-01              20.564  \n",
              "5849397 2009-07-01              23.074  \n",
              "5849398 2009-08-01              24.683  \n",
              "5849399 2009-09-01              19.194  \n",
              "5849400 2009-10-01              13.173  \n",
              "5849401 2009-11-01              10.359  \n",
              "5849402 2009-12-01               2.703  \n",
              "5849403 2010-01-01               0.406  \n",
              "5849404 2010-02-01               0.062  \n",
              "5849405 2010-03-01               8.358  \n",
              "5849406 2010-04-01              13.380  \n",
              "5849407 2010-05-01              18.090  \n",
              "5849408 2010-06-01              24.121  \n",
              "5849409 2010-07-01              26.054  \n",
              "5849410 2010-08-01              24.559  \n",
              "5849411 2010-09-01              21.584  \n",
              "5849412 2010-10-01              14.376  \n",
              "5849413 2010-11-01               8.416  \n",
              "5849414 2010-12-01              -0.011  \n",
              "5849415 2011-01-01              -1.238  \n",
              "5849416 2011-02-01               2.894  \n",
              "5849417 2011-03-01               6.199  \n",
              "5849418 2011-04-01              12.861  \n",
              "5849419 2011-05-01              18.225  \n",
              "5849420 2011-06-01              23.181  \n",
              "5849421 2011-07-01              26.197  \n",
              "5849422 2011-08-01              23.798  \n",
              "5849423 2011-09-01              21.059  \n",
              "5849424 2011-10-01              14.024  \n",
              "5849425 2011-11-01              10.462  \n",
              "5849426 2011-12-01               6.161  \n",
              "5849427 2012-01-01               3.508  \n",
              "5849428 2012-02-01               4.786  \n",
              "5849429 2012-03-01              10.369  \n",
              "5849430 2012-04-01              12.135  \n",
              "5849431 2012-05-01              18.734  \n",
              "5849432 2012-06-01              21.538  \n",
              "5849433 2012-07-01              26.118  \n",
              "5849434 2012-08-01              24.420  \n",
              "5849435 2012-09-01              20.116  \n",
              "5849436 2012-10-01              14.584  \n",
              "5849437 2012-11-01               6.214  \n",
              "5849438 2012-12-01               6.137  \n",
              "5849439 2013-01-01               2.252  \n",
              "5849440 2013-02-01               1.662  \n",
              "5849441 2013-03-01               4.295  \n",
              "5849442 2013-04-01              11.459  \n",
              "5849443 2013-05-01              16.638  \n",
              "5849444 2013-06-01              22.213  \n",
              "5849445 2013-07-01              25.683  \n",
              "5849446 2013-08-01              22.477  \n",
              "5849447 2013-09-01              19.444  "
            ],
            "text/html": [
              "\n",
              "  <div id=\"df-9b5c565c-e0b8-4a89-904f-6e80fda1ece8\">\n",
              "    <div class=\"colab-df-container\">\n",
              "      <div>\n",
              "<style scoped>\n",
              "    .dataframe tbody tr th:only-of-type {\n",
              "        vertical-align: middle;\n",
              "    }\n",
              "\n",
              "    .dataframe tbody tr th {\n",
              "        vertical-align: top;\n",
              "    }\n",
              "\n",
              "    .dataframe thead th {\n",
              "        text-align: right;\n",
              "    }\n",
              "</style>\n",
              "<table border=\"1\" class=\"dataframe\">\n",
              "  <thead>\n",
              "    <tr style=\"text-align: right;\">\n",
              "      <th></th>\n",
              "      <th>lower AverageTemperature</th>\n",
              "      <th>upper AverageTemperature</th>\n",
              "      <th>Predicted_temp</th>\n",
              "      <th>date</th>\n",
              "      <th>AverageTemperature</th>\n",
              "    </tr>\n",
              "  </thead>\n",
              "  <tbody>\n",
              "    <tr>\n",
              "      <th>5849391</th>\n",
              "      <td>-1.216149</td>\n",
              "      <td>4.953856</td>\n",
              "      <td>1.868854</td>\n",
              "      <td>2009-01-01</td>\n",
              "      <td>-1.127</td>\n",
              "    </tr>\n",
              "    <tr>\n",
              "      <th>5849392</th>\n",
              "      <td>-0.521902</td>\n",
              "      <td>5.820035</td>\n",
              "      <td>2.649067</td>\n",
              "      <td>2009-02-01</td>\n",
              "      <td>2.880</td>\n",
              "    </tr>\n",
              "    <tr>\n",
              "      <th>5849393</th>\n",
              "      <td>3.560087</td>\n",
              "      <td>9.976122</td>\n",
              "      <td>6.768105</td>\n",
              "      <td>2009-03-01</td>\n",
              "      <td>5.608</td>\n",
              "    </tr>\n",
              "    <tr>\n",
              "      <th>5849394</th>\n",
              "      <td>8.471152</td>\n",
              "      <td>14.929155</td>\n",
              "      <td>11.700153</td>\n",
              "      <td>2009-04-01</td>\n",
              "      <td>11.993</td>\n",
              "    </tr>\n",
              "    <tr>\n",
              "      <th>5849395</th>\n",
              "      <td>13.564973</td>\n",
              "      <td>20.060904</td>\n",
              "      <td>16.812939</td>\n",
              "      <td>2009-05-01</td>\n",
              "      <td>16.875</td>\n",
              "    </tr>\n",
              "    <tr>\n",
              "      <th>5849396</th>\n",
              "      <td>18.748376</td>\n",
              "      <td>25.282916</td>\n",
              "      <td>22.015646</td>\n",
              "      <td>2009-06-01</td>\n",
              "      <td>20.564</td>\n",
              "    </tr>\n",
              "    <tr>\n",
              "      <th>5849397</th>\n",
              "      <td>21.526264</td>\n",
              "      <td>28.101708</td>\n",
              "      <td>24.813986</td>\n",
              "      <td>2009-07-01</td>\n",
              "      <td>23.074</td>\n",
              "    </tr>\n",
              "    <tr>\n",
              "      <th>5849398</th>\n",
              "      <td>20.850747</td>\n",
              "      <td>27.469880</td>\n",
              "      <td>24.160314</td>\n",
              "      <td>2009-08-01</td>\n",
              "      <td>24.683</td>\n",
              "    </tr>\n",
              "    <tr>\n",
              "      <th>5849399</th>\n",
              "      <td>17.089981</td>\n",
              "      <td>23.755784</td>\n",
              "      <td>20.422883</td>\n",
              "      <td>2009-09-01</td>\n",
              "      <td>19.194</td>\n",
              "    </tr>\n",
              "    <tr>\n",
              "      <th>5849400</th>\n",
              "      <td>10.439038</td>\n",
              "      <td>17.154593</td>\n",
              "      <td>13.796815</td>\n",
              "      <td>2009-10-01</td>\n",
              "      <td>13.173</td>\n",
              "    </tr>\n",
              "    <tr>\n",
              "      <th>5849401</th>\n",
              "      <td>5.590642</td>\n",
              "      <td>12.359092</td>\n",
              "      <td>8.974867</td>\n",
              "      <td>2009-11-01</td>\n",
              "      <td>10.359</td>\n",
              "    </tr>\n",
              "    <tr>\n",
              "      <th>5849402</th>\n",
              "      <td>0.535191</td>\n",
              "      <td>7.359733</td>\n",
              "      <td>3.947462</td>\n",
              "      <td>2009-12-01</td>\n",
              "      <td>2.703</td>\n",
              "    </tr>\n",
              "    <tr>\n",
              "      <th>5849403</th>\n",
              "      <td>-1.457167</td>\n",
              "      <td>5.473655</td>\n",
              "      <td>2.008244</td>\n",
              "      <td>2010-01-01</td>\n",
              "      <td>0.406</td>\n",
              "    </tr>\n",
              "    <tr>\n",
              "      <th>5849404</th>\n",
              "      <td>-0.859667</td>\n",
              "      <td>6.143430</td>\n",
              "      <td>2.641882</td>\n",
              "      <td>2010-02-01</td>\n",
              "      <td>0.062</td>\n",
              "    </tr>\n",
              "    <tr>\n",
              "      <th>5849405</th>\n",
              "      <td>3.219982</td>\n",
              "      <td>10.295189</td>\n",
              "      <td>6.757586</td>\n",
              "      <td>2010-03-01</td>\n",
              "      <td>8.358</td>\n",
              "    </tr>\n",
              "    <tr>\n",
              "      <th>5849406</th>\n",
              "      <td>8.099666</td>\n",
              "      <td>15.248649</td>\n",
              "      <td>11.674158</td>\n",
              "      <td>2010-04-01</td>\n",
              "      <td>13.380</td>\n",
              "    </tr>\n",
              "    <tr>\n",
              "      <th>5849407</th>\n",
              "      <td>13.159574</td>\n",
              "      <td>20.385453</td>\n",
              "      <td>16.772513</td>\n",
              "      <td>2010-05-01</td>\n",
              "      <td>18.090</td>\n",
              "    </tr>\n",
              "    <tr>\n",
              "      <th>5849408</th>\n",
              "      <td>18.362333</td>\n",
              "      <td>25.668540</td>\n",
              "      <td>22.015436</td>\n",
              "      <td>2010-06-01</td>\n",
              "      <td>24.121</td>\n",
              "    </tr>\n",
              "    <tr>\n",
              "      <th>5849409</th>\n",
              "      <td>21.089881</td>\n",
              "      <td>28.479961</td>\n",
              "      <td>24.784921</td>\n",
              "      <td>2010-07-01</td>\n",
              "      <td>26.054</td>\n",
              "    </tr>\n",
              "    <tr>\n",
              "      <th>5849410</th>\n",
              "      <td>20.399409</td>\n",
              "      <td>27.876936</td>\n",
              "      <td>24.138172</td>\n",
              "      <td>2010-08-01</td>\n",
              "      <td>24.559</td>\n",
              "    </tr>\n",
              "    <tr>\n",
              "      <th>5849411</th>\n",
              "      <td>16.632188</td>\n",
              "      <td>24.200741</td>\n",
              "      <td>20.416464</td>\n",
              "      <td>2010-09-01</td>\n",
              "      <td>21.584</td>\n",
              "    </tr>\n",
              "    <tr>\n",
              "      <th>5849412</th>\n",
              "      <td>9.971233</td>\n",
              "      <td>17.634383</td>\n",
              "      <td>13.802808</td>\n",
              "      <td>2010-10-01</td>\n",
              "      <td>14.376</td>\n",
              "    </tr>\n",
              "    <tr>\n",
              "      <th>5849413</th>\n",
              "      <td>5.056785</td>\n",
              "      <td>12.818091</td>\n",
              "      <td>8.937438</td>\n",
              "      <td>2010-11-01</td>\n",
              "      <td>8.416</td>\n",
              "    </tr>\n",
              "    <tr>\n",
              "      <th>5849414</th>\n",
              "      <td>0.011616</td>\n",
              "      <td>7.874618</td>\n",
              "      <td>3.943117</td>\n",
              "      <td>2010-12-01</td>\n",
              "      <td>-0.011</td>\n",
              "    </tr>\n",
              "    <tr>\n",
              "      <th>5849415</th>\n",
              "      <td>-1.920339</td>\n",
              "      <td>6.114631</td>\n",
              "      <td>2.097146</td>\n",
              "      <td>2011-01-01</td>\n",
              "      <td>-1.238</td>\n",
              "    </tr>\n",
              "    <tr>\n",
              "      <th>5849416</th>\n",
              "      <td>-1.416560</td>\n",
              "      <td>6.740662</td>\n",
              "      <td>2.662051</td>\n",
              "      <td>2011-02-01</td>\n",
              "      <td>2.894</td>\n",
              "    </tr>\n",
              "    <tr>\n",
              "      <th>5849417</th>\n",
              "      <td>2.608632</td>\n",
              "      <td>10.886470</td>\n",
              "      <td>6.747551</td>\n",
              "      <td>2011-03-01</td>\n",
              "      <td>6.199</td>\n",
              "    </tr>\n",
              "    <tr>\n",
              "      <th>5849418</th>\n",
              "      <td>7.460292</td>\n",
              "      <td>15.859734</td>\n",
              "      <td>11.660013</td>\n",
              "      <td>2011-04-01</td>\n",
              "      <td>12.861</td>\n",
              "    </tr>\n",
              "    <tr>\n",
              "      <th>5849419</th>\n",
              "      <td>12.460742</td>\n",
              "      <td>20.984791</td>\n",
              "      <td>16.722766</td>\n",
              "      <td>2011-05-01</td>\n",
              "      <td>18.225</td>\n",
              "    </tr>\n",
              "    <tr>\n",
              "      <th>5849420</th>\n",
              "      <td>17.692637</td>\n",
              "      <td>26.344684</td>\n",
              "      <td>22.018660</td>\n",
              "      <td>2011-06-01</td>\n",
              "      <td>23.181</td>\n",
              "    </tr>\n",
              "    <tr>\n",
              "      <th>5849421</th>\n",
              "      <td>20.368408</td>\n",
              "      <td>29.151951</td>\n",
              "      <td>24.760180</td>\n",
              "      <td>2011-07-01</td>\n",
              "      <td>26.197</td>\n",
              "    </tr>\n",
              "    <tr>\n",
              "      <th>5849422</th>\n",
              "      <td>19.650284</td>\n",
              "      <td>28.568818</td>\n",
              "      <td>24.109551</td>\n",
              "      <td>2011-08-01</td>\n",
              "      <td>23.798</td>\n",
              "    </tr>\n",
              "    <tr>\n",
              "      <th>5849423</th>\n",
              "      <td>15.877082</td>\n",
              "      <td>24.934069</td>\n",
              "      <td>20.405576</td>\n",
              "      <td>2011-09-01</td>\n",
              "      <td>21.059</td>\n",
              "    </tr>\n",
              "    <tr>\n",
              "      <th>5849424</th>\n",
              "      <td>9.180859</td>\n",
              "      <td>18.379716</td>\n",
              "      <td>13.780287</td>\n",
              "      <td>2011-10-01</td>\n",
              "      <td>14.024</td>\n",
              "    </tr>\n",
              "    <tr>\n",
              "      <th>5849425</th>\n",
              "      <td>4.228822</td>\n",
              "      <td>13.572922</td>\n",
              "      <td>8.900872</td>\n",
              "      <td>2011-11-01</td>\n",
              "      <td>10.462</td>\n",
              "    </tr>\n",
              "    <tr>\n",
              "      <th>5849426</th>\n",
              "      <td>-0.806146</td>\n",
              "      <td>8.686520</td>\n",
              "      <td>3.940187</td>\n",
              "      <td>2011-12-01</td>\n",
              "      <td>6.161</td>\n",
              "    </tr>\n",
              "    <tr>\n",
              "      <th>5849427</th>\n",
              "      <td>-2.685274</td>\n",
              "      <td>7.046612</td>\n",
              "      <td>2.180669</td>\n",
              "      <td>2012-01-01</td>\n",
              "      <td>3.508</td>\n",
              "    </tr>\n",
              "    <tr>\n",
              "      <th>5849428</th>\n",
              "      <td>-2.275689</td>\n",
              "      <td>7.628794</td>\n",
              "      <td>2.676553</td>\n",
              "      <td>2012-02-01</td>\n",
              "      <td>4.786</td>\n",
              "    </tr>\n",
              "    <tr>\n",
              "      <th>5849429</th>\n",
              "      <td>1.698250</td>\n",
              "      <td>11.771738</td>\n",
              "      <td>6.734994</td>\n",
              "      <td>2012-03-01</td>\n",
              "      <td>10.369</td>\n",
              "    </tr>\n",
              "    <tr>\n",
              "      <th>5849430</th>\n",
              "      <td>6.519650</td>\n",
              "      <td>16.762029</td>\n",
              "      <td>11.640840</td>\n",
              "      <td>2012-04-01</td>\n",
              "      <td>12.135</td>\n",
              "    </tr>\n",
              "    <tr>\n",
              "      <th>5849431</th>\n",
              "      <td>11.472481</td>\n",
              "      <td>21.886273</td>\n",
              "      <td>16.679377</td>\n",
              "      <td>2012-05-01</td>\n",
              "      <td>18.734</td>\n",
              "    </tr>\n",
              "    <tr>\n",
              "      <th>5849432</th>\n",
              "      <td>16.716582</td>\n",
              "      <td>27.304812</td>\n",
              "      <td>22.010697</td>\n",
              "      <td>2012-06-01</td>\n",
              "      <td>21.538</td>\n",
              "    </tr>\n",
              "    <tr>\n",
              "      <th>5849433</th>\n",
              "      <td>19.350603</td>\n",
              "      <td>30.116437</td>\n",
              "      <td>24.733520</td>\n",
              "      <td>2012-07-01</td>\n",
              "      <td>26.118</td>\n",
              "    </tr>\n",
              "    <tr>\n",
              "      <th>5849434</th>\n",
              "      <td>18.614236</td>\n",
              "      <td>29.560838</td>\n",
              "      <td>24.087537</td>\n",
              "      <td>2012-08-01</td>\n",
              "      <td>24.420</td>\n",
              "    </tr>\n",
              "    <tr>\n",
              "      <th>5849435</th>\n",
              "      <td>14.826237</td>\n",
              "      <td>25.956736</td>\n",
              "      <td>20.391486</td>\n",
              "      <td>2012-09-01</td>\n",
              "      <td>20.116</td>\n",
              "    </tr>\n",
              "    <tr>\n",
              "      <th>5849436</th>\n",
              "      <td>8.101976</td>\n",
              "      <td>19.419452</td>\n",
              "      <td>13.760714</td>\n",
              "      <td>2012-10-01</td>\n",
              "      <td>14.584</td>\n",
              "    </tr>\n",
              "    <tr>\n",
              "      <th>5849437</th>\n",
              "      <td>3.118200</td>\n",
              "      <td>14.625682</td>\n",
              "      <td>8.871941</td>\n",
              "      <td>2012-11-01</td>\n",
              "      <td>6.214</td>\n",
              "    </tr>\n",
              "    <tr>\n",
              "      <th>5849438</th>\n",
              "      <td>-1.916259</td>\n",
              "      <td>9.784212</td>\n",
              "      <td>3.933976</td>\n",
              "      <td>2012-12-01</td>\n",
              "      <td>6.137</td>\n",
              "    </tr>\n",
              "    <tr>\n",
              "      <th>5849439</th>\n",
              "      <td>-3.733879</td>\n",
              "      <td>8.258113</td>\n",
              "      <td>2.262117</td>\n",
              "      <td>2013-01-01</td>\n",
              "      <td>2.252</td>\n",
              "    </tr>\n",
              "    <tr>\n",
              "      <th>5849440</th>\n",
              "      <td>-3.416611</td>\n",
              "      <td>8.793496</td>\n",
              "      <td>2.688442</td>\n",
              "      <td>2013-02-01</td>\n",
              "      <td>1.662</td>\n",
              "    </tr>\n",
              "    <tr>\n",
              "      <th>5849441</th>\n",
              "      <td>0.508159</td>\n",
              "      <td>12.931722</td>\n",
              "      <td>6.719940</td>\n",
              "      <td>2013-03-01</td>\n",
              "      <td>4.295</td>\n",
              "    </tr>\n",
              "    <tr>\n",
              "      <th>5849442</th>\n",
              "      <td>5.300977</td>\n",
              "      <td>17.937201</td>\n",
              "      <td>11.619089</td>\n",
              "      <td>2013-04-01</td>\n",
              "      <td>11.459</td>\n",
              "    </tr>\n",
              "    <tr>\n",
              "      <th>5849443</th>\n",
              "      <td>10.207907</td>\n",
              "      <td>23.058911</td>\n",
              "      <td>16.633409</td>\n",
              "      <td>2013-05-01</td>\n",
              "      <td>16.638</td>\n",
              "    </tr>\n",
              "    <tr>\n",
              "      <th>5849444</th>\n",
              "      <td>15.465977</td>\n",
              "      <td>28.534444</td>\n",
              "      <td>22.000211</td>\n",
              "      <td>2013-06-01</td>\n",
              "      <td>22.213</td>\n",
              "    </tr>\n",
              "    <tr>\n",
              "      <th>5849445</th>\n",
              "      <td>18.059822</td>\n",
              "      <td>31.348601</td>\n",
              "      <td>24.704212</td>\n",
              "      <td>2013-07-01</td>\n",
              "      <td>25.683</td>\n",
              "    </tr>\n",
              "    <tr>\n",
              "      <th>5849446</th>\n",
              "      <td>17.306858</td>\n",
              "      <td>30.818807</td>\n",
              "      <td>24.062832</td>\n",
              "      <td>2013-08-01</td>\n",
              "      <td>22.477</td>\n",
              "    </tr>\n",
              "    <tr>\n",
              "      <th>5849447</th>\n",
              "      <td>13.505783</td>\n",
              "      <td>27.243733</td>\n",
              "      <td>20.374758</td>\n",
              "      <td>2013-09-01</td>\n",
              "      <td>19.444</td>\n",
              "    </tr>\n",
              "  </tbody>\n",
              "</table>\n",
              "</div>\n",
              "      <button class=\"colab-df-convert\" onclick=\"convertToInteractive('df-9b5c565c-e0b8-4a89-904f-6e80fda1ece8')\"\n",
              "              title=\"Convert this dataframe to an interactive table.\"\n",
              "              style=\"display:none;\">\n",
              "        \n",
              "  <svg xmlns=\"http://www.w3.org/2000/svg\" height=\"24px\"viewBox=\"0 0 24 24\"\n",
              "       width=\"24px\">\n",
              "    <path d=\"M0 0h24v24H0V0z\" fill=\"none\"/>\n",
              "    <path d=\"M18.56 5.44l.94 2.06.94-2.06 2.06-.94-2.06-.94-.94-2.06-.94 2.06-2.06.94zm-11 1L8.5 8.5l.94-2.06 2.06-.94-2.06-.94L8.5 2.5l-.94 2.06-2.06.94zm10 10l.94 2.06.94-2.06 2.06-.94-2.06-.94-.94-2.06-.94 2.06-2.06.94z\"/><path d=\"M17.41 7.96l-1.37-1.37c-.4-.4-.92-.59-1.43-.59-.52 0-1.04.2-1.43.59L10.3 9.45l-7.72 7.72c-.78.78-.78 2.05 0 2.83L4 21.41c.39.39.9.59 1.41.59.51 0 1.02-.2 1.41-.59l7.78-7.78 2.81-2.81c.8-.78.8-2.07 0-2.86zM5.41 20L4 18.59l7.72-7.72 1.47 1.35L5.41 20z\"/>\n",
              "  </svg>\n",
              "      </button>\n",
              "      \n",
              "  <style>\n",
              "    .colab-df-container {\n",
              "      display:flex;\n",
              "      flex-wrap:wrap;\n",
              "      gap: 12px;\n",
              "    }\n",
              "\n",
              "    .colab-df-convert {\n",
              "      background-color: #E8F0FE;\n",
              "      border: none;\n",
              "      border-radius: 50%;\n",
              "      cursor: pointer;\n",
              "      display: none;\n",
              "      fill: #1967D2;\n",
              "      height: 32px;\n",
              "      padding: 0 0 0 0;\n",
              "      width: 32px;\n",
              "    }\n",
              "\n",
              "    .colab-df-convert:hover {\n",
              "      background-color: #E2EBFA;\n",
              "      box-shadow: 0px 1px 2px rgba(60, 64, 67, 0.3), 0px 1px 3px 1px rgba(60, 64, 67, 0.15);\n",
              "      fill: #174EA6;\n",
              "    }\n",
              "\n",
              "    [theme=dark] .colab-df-convert {\n",
              "      background-color: #3B4455;\n",
              "      fill: #D2E3FC;\n",
              "    }\n",
              "\n",
              "    [theme=dark] .colab-df-convert:hover {\n",
              "      background-color: #434B5C;\n",
              "      box-shadow: 0px 1px 3px 1px rgba(0, 0, 0, 0.15);\n",
              "      filter: drop-shadow(0px 1px 2px rgba(0, 0, 0, 0.3));\n",
              "      fill: #FFFFFF;\n",
              "    }\n",
              "  </style>\n",
              "\n",
              "      <script>\n",
              "        const buttonEl =\n",
              "          document.querySelector('#df-9b5c565c-e0b8-4a89-904f-6e80fda1ece8 button.colab-df-convert');\n",
              "        buttonEl.style.display =\n",
              "          google.colab.kernel.accessAllowed ? 'block' : 'none';\n",
              "\n",
              "        async function convertToInteractive(key) {\n",
              "          const element = document.querySelector('#df-9b5c565c-e0b8-4a89-904f-6e80fda1ece8');\n",
              "          const dataTable =\n",
              "            await google.colab.kernel.invokeFunction('convertToInteractive',\n",
              "                                                     [key], {});\n",
              "          if (!dataTable) return;\n",
              "\n",
              "          const docLinkHtml = 'Like what you see? Visit the ' +\n",
              "            '<a target=\"_blank\" href=https://colab.research.google.com/notebooks/data_table.ipynb>data table notebook</a>'\n",
              "            + ' to learn more about interactive tables.';\n",
              "          element.innerHTML = '';\n",
              "          dataTable['output_type'] = 'display_data';\n",
              "          await google.colab.output.renderOutput(dataTable, element);\n",
              "          const docLink = document.createElement('div');\n",
              "          docLink.innerHTML = docLinkHtml;\n",
              "          element.appendChild(docLink);\n",
              "        }\n",
              "      </script>\n",
              "    </div>\n",
              "  </div>\n",
              "  "
            ]
          },
          "metadata": {},
          "execution_count": 97
        }
      ]
    },
    {
      "cell_type": "code",
      "source": [
        "# TODO: when porting, line 2 got corrected\n",
        "plt.figure(figsize =(5,10))\n",
        "plt.plot(y_temp_df['date'], y_temp_df['Predicted_temp'], color= 'green' ,label ='Predicted temp')\n",
        "plt.axhline(y=24.5,color ='red')\n",
        "plt.ylabel(\"temperature in degrees C\")\n",
        "plt.xlabel(\"prediction for 5 years from 2009\")"
      ],
      "metadata": {
        "id": "v4kUbyD0njnR",
        "colab": {
          "base_uri": "https://localhost:8080/",
          "height": 868
        },
        "outputId": "445919ec-7ec1-43eb-fb59-ebf79dad2f01"
      },
      "execution_count": null,
      "outputs": [
        {
          "output_type": "execute_result",
          "data": {
            "text/plain": [
              "Text(0.5, 0, 'prediction for 5 years from 2009')"
            ]
          },
          "metadata": {},
          "execution_count": 98
        },
        {
          "output_type": "display_data",
          "data": {
            "text/plain": [
              "<Figure size 500x1000 with 1 Axes>"
            ],
            "image/png": "[encoded data removed]"
          },
          "metadata": {}
        }
      ]
    },
    {
      "cell_type": "code",
      "source": [
        "from sklearn.metrics import mean_squared_error as mse\n",
        "import numpy as np\n",
        "sarimax_rmse = np.sqrt(mse(test['AverageTemperature'],y_temp_df['Predicted_temp']))\n",
        "print(sarimax_rmse)"
      ],
      "metadata": {
        "id": "TD5gY-3ApSYa",
        "colab": {
          "base_uri": "https://localhost:8080/"
        },
        "outputId": "6e1eadc1-99c6-40ef-ca5d-eeee29120b3d"
      },
      "execution_count": null,
      "outputs": [
        {
          "output_type": "stream",
          "name": "stdout",
          "text": [
            "1.5569890807197202\n"
          ]
        }
      ]
    }
  ]
}