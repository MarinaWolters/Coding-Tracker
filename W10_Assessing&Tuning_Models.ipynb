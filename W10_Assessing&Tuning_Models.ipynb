{
  "nbformat": 4,
  "nbformat_minor": 0,
  "metadata": {
    "colab": {
      "provenance": [],
      "include_colab_link": true
    },
    "kernelspec": {
      "name": "python3",
      "display_name": "Python 3"
    }
  },
  "cells": [
    {
      "cell_type": "markdown",
      "metadata": {
        "id": "view-in-github",
        "colab_type": "text"
      },
      "source": [
        "<a href=\"https://colab.research.google.com/github/MarinaWolters/Coding-Tracker/blob/master/W10_Assessing%26Tuning_Models.ipynb\" target=\"_parent\"><img src=\"https://colab.research.google.com/assets/colab-badge.svg\" alt=\"Open In Colab\"/></a>"
      ]
    },
    {
      "cell_type": "code",
      "metadata": {
        "id": "tCL5S2xoMZr1",
        "colab": {
          "base_uri": "https://localhost:8080/"
        },
        "outputId": "5f0711df-bfdb-4cfb-b743-8672efbadc87"
      },
      "source": [
        "!pip install googledrivedownloader"
      ],
      "execution_count": null,
      "outputs": [
        {
          "output_type": "stream",
          "text": [
            "Requirement already satisfied: googledrivedownloader in /usr/local/lib/python3.6/dist-packages (0.4)\n"
          ],
          "name": "stdout"
        }
      ]
    },
    {
      "cell_type": "code",
      "metadata": {
        "id": "7UkwL5NpMiHl",
        "colab": {
          "base_uri": "https://localhost:8080/"
        },
        "outputId": "eaf9b599-26c8-48a8-de83-d27001f8552a"
      },
      "source": [
        "from google_drive_downloader import GoogleDriveDownloader as gdd\n",
        "\n",
        "# Glass data from https://archive.ics.uci.edu/ml/machine-learning-databases/glass/\n",
        "gdd.download_file_from_google_drive(file_id='1b1C1AlZmqada3ncYWVqJd8zQIWphOo_K',\n",
        "                                    dest_path='/content/glass.csv')"
      ],
      "execution_count": null,
      "outputs": [
        {
          "output_type": "stream",
          "text": [
            "Downloading 1b1C1AlZmqada3ncYWVqJd8zQIWphOo_K into /content/glass.csv... Done.\n"
          ],
          "name": "stdout"
        }
      ]
    },
    {
      "cell_type": "code",
      "metadata": {
        "id": "3gzcEvJsMjQE",
        "colab": {
          "base_uri": "https://localhost:8080/",
          "height": 417
        },
        "outputId": "015fc64b-2409-47c2-fe1b-b9f94d6f0723"
      },
      "source": [
        "# Load into a dataframe, with the header in row 0\n",
        "import pandas as pd\n",
        "\n",
        "glass_df = pd.read_csv('glass.csv', header=[0])\n",
        "\n",
        "glass_df"
      ],
      "execution_count": null,
      "outputs": [
        {
          "output_type": "execute_result",
          "data": {
            "text/html": [
              "<div>\n",
              "<style scoped>\n",
              "    .dataframe tbody tr th:only-of-type {\n",
              "        vertical-align: middle;\n",
              "    }\n",
              "\n",
              "    .dataframe tbody tr th {\n",
              "        vertical-align: top;\n",
              "    }\n",
              "\n",
              "    .dataframe thead th {\n",
              "        text-align: right;\n",
              "    }\n",
              "</style>\n",
              "<table border=\"1\" class=\"dataframe\">\n",
              "  <thead>\n",
              "    <tr style=\"text-align: right;\">\n",
              "      <th></th>\n",
              "      <th>ID</th>\n",
              "      <th>RefractiveIndex</th>\n",
              "      <th>Na</th>\n",
              "      <th>Mg</th>\n",
              "      <th>Al</th>\n",
              "      <th>Si</th>\n",
              "      <th>K</th>\n",
              "      <th>Ca</th>\n",
              "      <th>Ba</th>\n",
              "      <th>Fe</th>\n",
              "      <th>Type</th>\n",
              "    </tr>\n",
              "  </thead>\n",
              "  <tbody>\n",
              "    <tr>\n",
              "      <th>0</th>\n",
              "      <td>1</td>\n",
              "      <td>1.52101</td>\n",
              "      <td>13.64</td>\n",
              "      <td>4.49</td>\n",
              "      <td>1.10</td>\n",
              "      <td>71.78</td>\n",
              "      <td>0.06</td>\n",
              "      <td>8.75</td>\n",
              "      <td>0.00</td>\n",
              "      <td>0.0</td>\n",
              "      <td>1</td>\n",
              "    </tr>\n",
              "    <tr>\n",
              "      <th>1</th>\n",
              "      <td>2</td>\n",
              "      <td>1.51761</td>\n",
              "      <td>13.89</td>\n",
              "      <td>3.60</td>\n",
              "      <td>1.36</td>\n",
              "      <td>72.73</td>\n",
              "      <td>0.48</td>\n",
              "      <td>7.83</td>\n",
              "      <td>0.00</td>\n",
              "      <td>0.0</td>\n",
              "      <td>1</td>\n",
              "    </tr>\n",
              "    <tr>\n",
              "      <th>2</th>\n",
              "      <td>3</td>\n",
              "      <td>1.51618</td>\n",
              "      <td>13.53</td>\n",
              "      <td>3.55</td>\n",
              "      <td>1.54</td>\n",
              "      <td>72.99</td>\n",
              "      <td>0.39</td>\n",
              "      <td>7.78</td>\n",
              "      <td>0.00</td>\n",
              "      <td>0.0</td>\n",
              "      <td>1</td>\n",
              "    </tr>\n",
              "    <tr>\n",
              "      <th>3</th>\n",
              "      <td>4</td>\n",
              "      <td>1.51766</td>\n",
              "      <td>13.21</td>\n",
              "      <td>3.69</td>\n",
              "      <td>1.29</td>\n",
              "      <td>72.61</td>\n",
              "      <td>0.57</td>\n",
              "      <td>8.22</td>\n",
              "      <td>0.00</td>\n",
              "      <td>0.0</td>\n",
              "      <td>1</td>\n",
              "    </tr>\n",
              "    <tr>\n",
              "      <th>4</th>\n",
              "      <td>5</td>\n",
              "      <td>1.51742</td>\n",
              "      <td>13.27</td>\n",
              "      <td>3.62</td>\n",
              "      <td>1.24</td>\n",
              "      <td>73.08</td>\n",
              "      <td>0.55</td>\n",
              "      <td>8.07</td>\n",
              "      <td>0.00</td>\n",
              "      <td>0.0</td>\n",
              "      <td>1</td>\n",
              "    </tr>\n",
              "    <tr>\n",
              "      <th>...</th>\n",
              "      <td>...</td>\n",
              "      <td>...</td>\n",
              "      <td>...</td>\n",
              "      <td>...</td>\n",
              "      <td>...</td>\n",
              "      <td>...</td>\n",
              "      <td>...</td>\n",
              "      <td>...</td>\n",
              "      <td>...</td>\n",
              "      <td>...</td>\n",
              "      <td>...</td>\n",
              "    </tr>\n",
              "    <tr>\n",
              "      <th>209</th>\n",
              "      <td>210</td>\n",
              "      <td>1.51623</td>\n",
              "      <td>14.14</td>\n",
              "      <td>0.00</td>\n",
              "      <td>2.88</td>\n",
              "      <td>72.61</td>\n",
              "      <td>0.08</td>\n",
              "      <td>9.18</td>\n",
              "      <td>1.06</td>\n",
              "      <td>0.0</td>\n",
              "      <td>7</td>\n",
              "    </tr>\n",
              "    <tr>\n",
              "      <th>210</th>\n",
              "      <td>211</td>\n",
              "      <td>1.51685</td>\n",
              "      <td>14.92</td>\n",
              "      <td>0.00</td>\n",
              "      <td>1.99</td>\n",
              "      <td>73.06</td>\n",
              "      <td>0.00</td>\n",
              "      <td>8.40</td>\n",
              "      <td>1.59</td>\n",
              "      <td>0.0</td>\n",
              "      <td>7</td>\n",
              "    </tr>\n",
              "    <tr>\n",
              "      <th>211</th>\n",
              "      <td>212</td>\n",
              "      <td>1.52065</td>\n",
              "      <td>14.36</td>\n",
              "      <td>0.00</td>\n",
              "      <td>2.02</td>\n",
              "      <td>73.42</td>\n",
              "      <td>0.00</td>\n",
              "      <td>8.44</td>\n",
              "      <td>1.64</td>\n",
              "      <td>0.0</td>\n",
              "      <td>7</td>\n",
              "    </tr>\n",
              "    <tr>\n",
              "      <th>212</th>\n",
              "      <td>213</td>\n",
              "      <td>1.51651</td>\n",
              "      <td>14.38</td>\n",
              "      <td>0.00</td>\n",
              "      <td>1.94</td>\n",
              "      <td>73.61</td>\n",
              "      <td>0.00</td>\n",
              "      <td>8.48</td>\n",
              "      <td>1.57</td>\n",
              "      <td>0.0</td>\n",
              "      <td>7</td>\n",
              "    </tr>\n",
              "    <tr>\n",
              "      <th>213</th>\n",
              "      <td>214</td>\n",
              "      <td>1.51711</td>\n",
              "      <td>14.23</td>\n",
              "      <td>0.00</td>\n",
              "      <td>2.08</td>\n",
              "      <td>73.36</td>\n",
              "      <td>0.00</td>\n",
              "      <td>8.62</td>\n",
              "      <td>1.67</td>\n",
              "      <td>0.0</td>\n",
              "      <td>7</td>\n",
              "    </tr>\n",
              "  </tbody>\n",
              "</table>\n",
              "<p>214 rows × 11 columns</p>\n",
              "</div>"
            ],
            "text/plain": [
              "      ID  RefractiveIndex     Na    Mg    Al  ...     K    Ca    Ba   Fe  Type\n",
              "0      1          1.52101  13.64  4.49  1.10  ...  0.06  8.75  0.00  0.0     1\n",
              "1      2          1.51761  13.89  3.60  1.36  ...  0.48  7.83  0.00  0.0     1\n",
              "2      3          1.51618  13.53  3.55  1.54  ...  0.39  7.78  0.00  0.0     1\n",
              "3      4          1.51766  13.21  3.69  1.29  ...  0.57  8.22  0.00  0.0     1\n",
              "4      5          1.51742  13.27  3.62  1.24  ...  0.55  8.07  0.00  0.0     1\n",
              "..   ...              ...    ...   ...   ...  ...   ...   ...   ...  ...   ...\n",
              "209  210          1.51623  14.14  0.00  2.88  ...  0.08  9.18  1.06  0.0     7\n",
              "210  211          1.51685  14.92  0.00  1.99  ...  0.00  8.40  1.59  0.0     7\n",
              "211  212          1.52065  14.36  0.00  2.02  ...  0.00  8.44  1.64  0.0     7\n",
              "212  213          1.51651  14.38  0.00  1.94  ...  0.00  8.48  1.57  0.0     7\n",
              "213  214          1.51711  14.23  0.00  2.08  ...  0.00  8.62  1.67  0.0     7\n",
              "\n",
              "[214 rows x 11 columns]"
            ]
          },
          "metadata": {
            "tags": []
          },
          "execution_count": 3
        }
      ]
    },
    {
      "cell_type": "code",
      "metadata": {
        "id": "db0K40NgMki_",
        "colab": {
          "base_uri": "https://localhost:8080/",
          "height": 417
        },
        "outputId": "c7e8c08a-4bc3-426f-bb59-59cea15021ad"
      },
      "source": [
        "# Remove the ID and the Type labels for the training data\n",
        "X_df = glass_df.drop(['ID','Type'], axis=1)\n",
        "\n",
        "# Labels\n",
        "y = glass_df['Type']\n",
        "\n",
        "# Let's see the data\n",
        "X_df"
      ],
      "execution_count": null,
      "outputs": [
        {
          "output_type": "execute_result",
          "data": {
            "text/html": [
              "<div>\n",
              "<style scoped>\n",
              "    .dataframe tbody tr th:only-of-type {\n",
              "        vertical-align: middle;\n",
              "    }\n",
              "\n",
              "    .dataframe tbody tr th {\n",
              "        vertical-align: top;\n",
              "    }\n",
              "\n",
              "    .dataframe thead th {\n",
              "        text-align: right;\n",
              "    }\n",
              "</style>\n",
              "<table border=\"1\" class=\"dataframe\">\n",
              "  <thead>\n",
              "    <tr style=\"text-align: right;\">\n",
              "      <th></th>\n",
              "      <th>RefractiveIndex</th>\n",
              "      <th>Na</th>\n",
              "      <th>Mg</th>\n",
              "      <th>Al</th>\n",
              "      <th>Si</th>\n",
              "      <th>K</th>\n",
              "      <th>Ca</th>\n",
              "      <th>Ba</th>\n",
              "      <th>Fe</th>\n",
              "    </tr>\n",
              "  </thead>\n",
              "  <tbody>\n",
              "    <tr>\n",
              "      <th>0</th>\n",
              "      <td>1.52101</td>\n",
              "      <td>13.64</td>\n",
              "      <td>4.49</td>\n",
              "      <td>1.10</td>\n",
              "      <td>71.78</td>\n",
              "      <td>0.06</td>\n",
              "      <td>8.75</td>\n",
              "      <td>0.00</td>\n",
              "      <td>0.0</td>\n",
              "    </tr>\n",
              "    <tr>\n",
              "      <th>1</th>\n",
              "      <td>1.51761</td>\n",
              "      <td>13.89</td>\n",
              "      <td>3.60</td>\n",
              "      <td>1.36</td>\n",
              "      <td>72.73</td>\n",
              "      <td>0.48</td>\n",
              "      <td>7.83</td>\n",
              "      <td>0.00</td>\n",
              "      <td>0.0</td>\n",
              "    </tr>\n",
              "    <tr>\n",
              "      <th>2</th>\n",
              "      <td>1.51618</td>\n",
              "      <td>13.53</td>\n",
              "      <td>3.55</td>\n",
              "      <td>1.54</td>\n",
              "      <td>72.99</td>\n",
              "      <td>0.39</td>\n",
              "      <td>7.78</td>\n",
              "      <td>0.00</td>\n",
              "      <td>0.0</td>\n",
              "    </tr>\n",
              "    <tr>\n",
              "      <th>3</th>\n",
              "      <td>1.51766</td>\n",
              "      <td>13.21</td>\n",
              "      <td>3.69</td>\n",
              "      <td>1.29</td>\n",
              "      <td>72.61</td>\n",
              "      <td>0.57</td>\n",
              "      <td>8.22</td>\n",
              "      <td>0.00</td>\n",
              "      <td>0.0</td>\n",
              "    </tr>\n",
              "    <tr>\n",
              "      <th>4</th>\n",
              "      <td>1.51742</td>\n",
              "      <td>13.27</td>\n",
              "      <td>3.62</td>\n",
              "      <td>1.24</td>\n",
              "      <td>73.08</td>\n",
              "      <td>0.55</td>\n",
              "      <td>8.07</td>\n",
              "      <td>0.00</td>\n",
              "      <td>0.0</td>\n",
              "    </tr>\n",
              "    <tr>\n",
              "      <th>...</th>\n",
              "      <td>...</td>\n",
              "      <td>...</td>\n",
              "      <td>...</td>\n",
              "      <td>...</td>\n",
              "      <td>...</td>\n",
              "      <td>...</td>\n",
              "      <td>...</td>\n",
              "      <td>...</td>\n",
              "      <td>...</td>\n",
              "    </tr>\n",
              "    <tr>\n",
              "      <th>209</th>\n",
              "      <td>1.51623</td>\n",
              "      <td>14.14</td>\n",
              "      <td>0.00</td>\n",
              "      <td>2.88</td>\n",
              "      <td>72.61</td>\n",
              "      <td>0.08</td>\n",
              "      <td>9.18</td>\n",
              "      <td>1.06</td>\n",
              "      <td>0.0</td>\n",
              "    </tr>\n",
              "    <tr>\n",
              "      <th>210</th>\n",
              "      <td>1.51685</td>\n",
              "      <td>14.92</td>\n",
              "      <td>0.00</td>\n",
              "      <td>1.99</td>\n",
              "      <td>73.06</td>\n",
              "      <td>0.00</td>\n",
              "      <td>8.40</td>\n",
              "      <td>1.59</td>\n",
              "      <td>0.0</td>\n",
              "    </tr>\n",
              "    <tr>\n",
              "      <th>211</th>\n",
              "      <td>1.52065</td>\n",
              "      <td>14.36</td>\n",
              "      <td>0.00</td>\n",
              "      <td>2.02</td>\n",
              "      <td>73.42</td>\n",
              "      <td>0.00</td>\n",
              "      <td>8.44</td>\n",
              "      <td>1.64</td>\n",
              "      <td>0.0</td>\n",
              "    </tr>\n",
              "    <tr>\n",
              "      <th>212</th>\n",
              "      <td>1.51651</td>\n",
              "      <td>14.38</td>\n",
              "      <td>0.00</td>\n",
              "      <td>1.94</td>\n",
              "      <td>73.61</td>\n",
              "      <td>0.00</td>\n",
              "      <td>8.48</td>\n",
              "      <td>1.57</td>\n",
              "      <td>0.0</td>\n",
              "    </tr>\n",
              "    <tr>\n",
              "      <th>213</th>\n",
              "      <td>1.51711</td>\n",
              "      <td>14.23</td>\n",
              "      <td>0.00</td>\n",
              "      <td>2.08</td>\n",
              "      <td>73.36</td>\n",
              "      <td>0.00</td>\n",
              "      <td>8.62</td>\n",
              "      <td>1.67</td>\n",
              "      <td>0.0</td>\n",
              "    </tr>\n",
              "  </tbody>\n",
              "</table>\n",
              "<p>214 rows × 9 columns</p>\n",
              "</div>"
            ],
            "text/plain": [
              "     RefractiveIndex     Na    Mg    Al     Si     K    Ca    Ba   Fe\n",
              "0            1.52101  13.64  4.49  1.10  71.78  0.06  8.75  0.00  0.0\n",
              "1            1.51761  13.89  3.60  1.36  72.73  0.48  7.83  0.00  0.0\n",
              "2            1.51618  13.53  3.55  1.54  72.99  0.39  7.78  0.00  0.0\n",
              "3            1.51766  13.21  3.69  1.29  72.61  0.57  8.22  0.00  0.0\n",
              "4            1.51742  13.27  3.62  1.24  73.08  0.55  8.07  0.00  0.0\n",
              "..               ...    ...   ...   ...    ...   ...   ...   ...  ...\n",
              "209          1.51623  14.14  0.00  2.88  72.61  0.08  9.18  1.06  0.0\n",
              "210          1.51685  14.92  0.00  1.99  73.06  0.00  8.40  1.59  0.0\n",
              "211          1.52065  14.36  0.00  2.02  73.42  0.00  8.44  1.64  0.0\n",
              "212          1.51651  14.38  0.00  1.94  73.61  0.00  8.48  1.57  0.0\n",
              "213          1.51711  14.23  0.00  2.08  73.36  0.00  8.62  1.67  0.0\n",
              "\n",
              "[214 rows x 9 columns]"
            ]
          },
          "metadata": {
            "tags": []
          },
          "execution_count": 4
        }
      ]
    },
    {
      "cell_type": "code",
      "metadata": {
        "id": "rHQzstFlSu-i",
        "colab": {
          "base_uri": "https://localhost:8080/"
        },
        "outputId": "39e6d787-2946-4b10-8e29-1ebf281a45e4"
      },
      "source": [
        "X_df.isnull().sum()"
      ],
      "execution_count": null,
      "outputs": [
        {
          "output_type": "execute_result",
          "data": {
            "text/plain": [
              "RefractiveIndex    0\n",
              "Na                 0\n",
              "Mg                 0\n",
              "Al                 0\n",
              "Si                 0\n",
              "K                  0\n",
              "Ca                 0\n",
              "Ba                 0\n",
              "Fe                 0\n",
              "dtype: int64"
            ]
          },
          "metadata": {
            "tags": []
          },
          "execution_count": 5
        }
      ]
    },
    {
      "cell_type": "markdown",
      "metadata": {
        "id": "hxranCqVSd9A"
      },
      "source": [
        "How many examples of each class?"
      ]
    },
    {
      "cell_type": "code",
      "metadata": {
        "id": "0WHgSNwzSj_N",
        "colab": {
          "base_uri": "https://localhost:8080/",
          "height": 265
        },
        "outputId": "c425cda1-5735-456e-d9a5-b424d3e0e7ea"
      },
      "source": [
        "pd.DataFrame(y).reset_index().groupby(by=['Type']).count()"
      ],
      "execution_count": null,
      "outputs": [
        {
          "output_type": "execute_result",
          "data": {
            "text/html": [
              "<div>\n",
              "<style scoped>\n",
              "    .dataframe tbody tr th:only-of-type {\n",
              "        vertical-align: middle;\n",
              "    }\n",
              "\n",
              "    .dataframe tbody tr th {\n",
              "        vertical-align: top;\n",
              "    }\n",
              "\n",
              "    .dataframe thead th {\n",
              "        text-align: right;\n",
              "    }\n",
              "</style>\n",
              "<table border=\"1\" class=\"dataframe\">\n",
              "  <thead>\n",
              "    <tr style=\"text-align: right;\">\n",
              "      <th></th>\n",
              "      <th>index</th>\n",
              "    </tr>\n",
              "    <tr>\n",
              "      <th>Type</th>\n",
              "      <th></th>\n",
              "    </tr>\n",
              "  </thead>\n",
              "  <tbody>\n",
              "    <tr>\n",
              "      <th>1</th>\n",
              "      <td>70</td>\n",
              "    </tr>\n",
              "    <tr>\n",
              "      <th>2</th>\n",
              "      <td>76</td>\n",
              "    </tr>\n",
              "    <tr>\n",
              "      <th>3</th>\n",
              "      <td>17</td>\n",
              "    </tr>\n",
              "    <tr>\n",
              "      <th>5</th>\n",
              "      <td>13</td>\n",
              "    </tr>\n",
              "    <tr>\n",
              "      <th>6</th>\n",
              "      <td>9</td>\n",
              "    </tr>\n",
              "    <tr>\n",
              "      <th>7</th>\n",
              "      <td>29</td>\n",
              "    </tr>\n",
              "  </tbody>\n",
              "</table>\n",
              "</div>"
            ],
            "text/plain": [
              "      index\n",
              "Type       \n",
              "1        70\n",
              "2        76\n",
              "3        17\n",
              "5        13\n",
              "6         9\n",
              "7        29"
            ]
          },
          "metadata": {
            "tags": []
          },
          "execution_count": 6
        }
      ]
    },
    {
      "cell_type": "markdown",
      "metadata": {
        "id": "_GozvbXBMqqi"
      },
      "source": [
        "# Feature Correlation\n",
        "\n",
        "How correlated are the features?"
      ]
    },
    {
      "cell_type": "code",
      "metadata": {
        "id": "j5Da77UMMqEB",
        "colab": {
          "base_uri": "https://localhost:8080/",
          "height": 236
        },
        "outputId": "12f6d362-404e-4de8-9624-88ecee89276e"
      },
      "source": [
        "corr_matrix = X_df.corr()\n",
        "corr_matrix.style.background_gradient()"
      ],
      "execution_count": null,
      "outputs": [
        {
          "output_type": "execute_result",
          "data": {
            "text/html": [
              "<style  type=\"text/css\" >\n",
              "#T_58acf772_2155_11eb_81cd_0242ac1c0002row0_col0,#T_58acf772_2155_11eb_81cd_0242ac1c0002row1_col1,#T_58acf772_2155_11eb_81cd_0242ac1c0002row2_col2,#T_58acf772_2155_11eb_81cd_0242ac1c0002row3_col3,#T_58acf772_2155_11eb_81cd_0242ac1c0002row4_col4,#T_58acf772_2155_11eb_81cd_0242ac1c0002row5_col5,#T_58acf772_2155_11eb_81cd_0242ac1c0002row6_col6,#T_58acf772_2155_11eb_81cd_0242ac1c0002row7_col7,#T_58acf772_2155_11eb_81cd_0242ac1c0002row8_col8{\n",
              "            background-color:  #023858;\n",
              "            color:  #f1f1f1;\n",
              "        }#T_58acf772_2155_11eb_81cd_0242ac1c0002row0_col1{\n",
              "            background-color:  #f5eff6;\n",
              "            color:  #000000;\n",
              "        }#T_58acf772_2155_11eb_81cd_0242ac1c0002row0_col2{\n",
              "            background-color:  #d1d2e6;\n",
              "            color:  #000000;\n",
              "        }#T_58acf772_2155_11eb_81cd_0242ac1c0002row0_col3{\n",
              "            background-color:  #f8f1f8;\n",
              "            color:  #000000;\n",
              "        }#T_58acf772_2155_11eb_81cd_0242ac1c0002row0_col4,#T_58acf772_2155_11eb_81cd_0242ac1c0002row1_col8,#T_58acf772_2155_11eb_81cd_0242ac1c0002row2_col1,#T_58acf772_2155_11eb_81cd_0242ac1c0002row2_col3,#T_58acf772_2155_11eb_81cd_0242ac1c0002row2_col6,#T_58acf772_2155_11eb_81cd_0242ac1c0002row2_col7,#T_58acf772_2155_11eb_81cd_0242ac1c0002row4_col0,#T_58acf772_2155_11eb_81cd_0242ac1c0002row6_col1,#T_58acf772_2155_11eb_81cd_0242ac1c0002row6_col5,#T_58acf772_2155_11eb_81cd_0242ac1c0002row7_col2{\n",
              "            background-color:  #fff7fb;\n",
              "            color:  #000000;\n",
              "        }#T_58acf772_2155_11eb_81cd_0242ac1c0002row0_col5{\n",
              "            background-color:  #fcf4fa;\n",
              "            color:  #000000;\n",
              "        }#T_58acf772_2155_11eb_81cd_0242ac1c0002row0_col6{\n",
              "            background-color:  #045b8e;\n",
              "            color:  #f1f1f1;\n",
              "        }#T_58acf772_2155_11eb_81cd_0242ac1c0002row0_col7{\n",
              "            background-color:  #b5c4df;\n",
              "            color:  #000000;\n",
              "        }#T_58acf772_2155_11eb_81cd_0242ac1c0002row0_col8{\n",
              "            background-color:  #bcc7e1;\n",
              "            color:  #000000;\n",
              "        }#T_58acf772_2155_11eb_81cd_0242ac1c0002row1_col0,#T_58acf772_2155_11eb_81cd_0242ac1c0002row7_col6{\n",
              "            background-color:  #d5d5e8;\n",
              "            color:  #000000;\n",
              "        }#T_58acf772_2155_11eb_81cd_0242ac1c0002row1_col2,#T_58acf772_2155_11eb_81cd_0242ac1c0002row6_col3,#T_58acf772_2155_11eb_81cd_0242ac1c0002row7_col8{\n",
              "            background-color:  #e7e3f0;\n",
              "            color:  #000000;\n",
              "        }#T_58acf772_2155_11eb_81cd_0242ac1c0002row1_col3{\n",
              "            background-color:  #8fb4d6;\n",
              "            color:  #000000;\n",
              "        }#T_58acf772_2155_11eb_81cd_0242ac1c0002row1_col4{\n",
              "            background-color:  #bdc8e1;\n",
              "            color:  #000000;\n",
              "        }#T_58acf772_2155_11eb_81cd_0242ac1c0002row1_col5{\n",
              "            background-color:  #f9f2f8;\n",
              "            color:  #000000;\n",
              "        }#T_58acf772_2155_11eb_81cd_0242ac1c0002row1_col6{\n",
              "            background-color:  #eee8f3;\n",
              "            color:  #000000;\n",
              "        }#T_58acf772_2155_11eb_81cd_0242ac1c0002row1_col7{\n",
              "            background-color:  #5c9fc9;\n",
              "            color:  #000000;\n",
              "        }#T_58acf772_2155_11eb_81cd_0242ac1c0002row2_col0{\n",
              "            background-color:  #c9cee4;\n",
              "            color:  #000000;\n",
              "        }#T_58acf772_2155_11eb_81cd_0242ac1c0002row2_col4,#T_58acf772_2155_11eb_81cd_0242ac1c0002row2_col5{\n",
              "            background-color:  #d2d2e7;\n",
              "            color:  #000000;\n",
              "        }#T_58acf772_2155_11eb_81cd_0242ac1c0002row2_col8,#T_58acf772_2155_11eb_81cd_0242ac1c0002row4_col7{\n",
              "            background-color:  #cdd0e5;\n",
              "            color:  #000000;\n",
              "        }#T_58acf772_2155_11eb_81cd_0242ac1c0002row3_col0,#T_58acf772_2155_11eb_81cd_0242ac1c0002row5_col6{\n",
              "            background-color:  #f2ecf5;\n",
              "            color:  #000000;\n",
              "        }#T_58acf772_2155_11eb_81cd_0242ac1c0002row3_col1{\n",
              "            background-color:  #b3c3de;\n",
              "            color:  #000000;\n",
              "        }#T_58acf772_2155_11eb_81cd_0242ac1c0002row3_col2,#T_58acf772_2155_11eb_81cd_0242ac1c0002row5_col1{\n",
              "            background-color:  #fef6fb;\n",
              "            color:  #000000;\n",
              "        }#T_58acf772_2155_11eb_81cd_0242ac1c0002row3_col4,#T_58acf772_2155_11eb_81cd_0242ac1c0002row7_col0{\n",
              "            background-color:  #afc1dd;\n",
              "            color:  #000000;\n",
              "        }#T_58acf772_2155_11eb_81cd_0242ac1c0002row3_col5{\n",
              "            background-color:  #78abd0;\n",
              "            color:  #000000;\n",
              "        }#T_58acf772_2155_11eb_81cd_0242ac1c0002row3_col6{\n",
              "            background-color:  #ece7f2;\n",
              "            color:  #000000;\n",
              "        }#T_58acf772_2155_11eb_81cd_0242ac1c0002row3_col7,#T_58acf772_2155_11eb_81cd_0242ac1c0002row7_col3{\n",
              "            background-color:  #2c89bd;\n",
              "            color:  #000000;\n",
              "        }#T_58acf772_2155_11eb_81cd_0242ac1c0002row3_col8{\n",
              "            background-color:  #eae6f1;\n",
              "            color:  #000000;\n",
              "        }#T_58acf772_2155_11eb_81cd_0242ac1c0002row4_col1,#T_58acf772_2155_11eb_81cd_0242ac1c0002row4_col6,#T_58acf772_2155_11eb_81cd_0242ac1c0002row5_col0{\n",
              "            background-color:  #e4e1ef;\n",
              "            color:  #000000;\n",
              "        }#T_58acf772_2155_11eb_81cd_0242ac1c0002row4_col2,#T_58acf772_2155_11eb_81cd_0242ac1c0002row6_col4{\n",
              "            background-color:  #d8d7e9;\n",
              "            color:  #000000;\n",
              "        }#T_58acf772_2155_11eb_81cd_0242ac1c0002row4_col3{\n",
              "            background-color:  #b8c6e0;\n",
              "            color:  #000000;\n",
              "        }#T_58acf772_2155_11eb_81cd_0242ac1c0002row4_col5{\n",
              "            background-color:  #f1ebf4;\n",
              "            color:  #000000;\n",
              "        }#T_58acf772_2155_11eb_81cd_0242ac1c0002row4_col8{\n",
              "            background-color:  #ede8f3;\n",
              "            color:  #000000;\n",
              "        }#T_58acf772_2155_11eb_81cd_0242ac1c0002row5_col2{\n",
              "            background-color:  #b4c4df;\n",
              "            color:  #000000;\n",
              "        }#T_58acf772_2155_11eb_81cd_0242ac1c0002row5_col3{\n",
              "            background-color:  #5ea0ca;\n",
              "            color:  #000000;\n",
              "        }#T_58acf772_2155_11eb_81cd_0242ac1c0002row5_col4{\n",
              "            background-color:  #d6d6e9;\n",
              "            color:  #000000;\n",
              "        }#T_58acf772_2155_11eb_81cd_0242ac1c0002row5_col7{\n",
              "            background-color:  #bfc9e1;\n",
              "            color:  #000000;\n",
              "        }#T_58acf772_2155_11eb_81cd_0242ac1c0002row5_col8{\n",
              "            background-color:  #dedcec;\n",
              "            color:  #000000;\n",
              "        }#T_58acf772_2155_11eb_81cd_0242ac1c0002row6_col0{\n",
              "            background-color:  #04598c;\n",
              "            color:  #f1f1f1;\n",
              "        }#T_58acf772_2155_11eb_81cd_0242ac1c0002row6_col2{\n",
              "            background-color:  #faf3f9;\n",
              "            color:  #000000;\n",
              "        }#T_58acf772_2155_11eb_81cd_0242ac1c0002row6_col7{\n",
              "            background-color:  #ced0e6;\n",
              "            color:  #000000;\n",
              "        }#T_58acf772_2155_11eb_81cd_0242ac1c0002row6_col8{\n",
              "            background-color:  #c1cae2;\n",
              "            color:  #000000;\n",
              "        }#T_58acf772_2155_11eb_81cd_0242ac1c0002row7_col1{\n",
              "            background-color:  #80aed2;\n",
              "            color:  #000000;\n",
              "        }#T_58acf772_2155_11eb_81cd_0242ac1c0002row7_col4{\n",
              "            background-color:  #c4cbe3;\n",
              "            color:  #000000;\n",
              "        }#T_58acf772_2155_11eb_81cd_0242ac1c0002row7_col5{\n",
              "            background-color:  #d9d8ea;\n",
              "            color:  #000000;\n",
              "        }#T_58acf772_2155_11eb_81cd_0242ac1c0002row8_col0{\n",
              "            background-color:  #8bb2d4;\n",
              "            color:  #000000;\n",
              "        }#T_58acf772_2155_11eb_81cd_0242ac1c0002row8_col1{\n",
              "            background-color:  #fbf4f9;\n",
              "            color:  #000000;\n",
              "        }#T_58acf772_2155_11eb_81cd_0242ac1c0002row8_col2{\n",
              "            background-color:  #a2bcda;\n",
              "            color:  #000000;\n",
              "        }#T_58acf772_2155_11eb_81cd_0242ac1c0002row8_col3{\n",
              "            background-color:  #c8cde4;\n",
              "            color:  #000000;\n",
              "        }#T_58acf772_2155_11eb_81cd_0242ac1c0002row8_col4,#T_58acf772_2155_11eb_81cd_0242ac1c0002row8_col7{\n",
              "            background-color:  #c2cbe2;\n",
              "            color:  #000000;\n",
              "        }#T_58acf772_2155_11eb_81cd_0242ac1c0002row8_col5{\n",
              "            background-color:  #d3d4e7;\n",
              "            color:  #000000;\n",
              "        }#T_58acf772_2155_11eb_81cd_0242ac1c0002row8_col6{\n",
              "            background-color:  #9fbad9;\n",
              "            color:  #000000;\n",
              "        }</style><table id=\"T_58acf772_2155_11eb_81cd_0242ac1c0002\" ><thead>    <tr>        <th class=\"blank level0\" ></th>        <th class=\"col_heading level0 col0\" >RefractiveIndex</th>        <th class=\"col_heading level0 col1\" >Na</th>        <th class=\"col_heading level0 col2\" >Mg</th>        <th class=\"col_heading level0 col3\" >Al</th>        <th class=\"col_heading level0 col4\" >Si</th>        <th class=\"col_heading level0 col5\" >K</th>        <th class=\"col_heading level0 col6\" >Ca</th>        <th class=\"col_heading level0 col7\" >Ba</th>        <th class=\"col_heading level0 col8\" >Fe</th>    </tr></thead><tbody>\n",
              "                <tr>\n",
              "                        <th id=\"T_58acf772_2155_11eb_81cd_0242ac1c0002level0_row0\" class=\"row_heading level0 row0\" >RefractiveIndex</th>\n",
              "                        <td id=\"T_58acf772_2155_11eb_81cd_0242ac1c0002row0_col0\" class=\"data row0 col0\" >1.000000</td>\n",
              "                        <td id=\"T_58acf772_2155_11eb_81cd_0242ac1c0002row0_col1\" class=\"data row0 col1\" >-0.191885</td>\n",
              "                        <td id=\"T_58acf772_2155_11eb_81cd_0242ac1c0002row0_col2\" class=\"data row0 col2\" >-0.122274</td>\n",
              "                        <td id=\"T_58acf772_2155_11eb_81cd_0242ac1c0002row0_col3\" class=\"data row0 col3\" >-0.407326</td>\n",
              "                        <td id=\"T_58acf772_2155_11eb_81cd_0242ac1c0002row0_col4\" class=\"data row0 col4\" >-0.542052</td>\n",
              "                        <td id=\"T_58acf772_2155_11eb_81cd_0242ac1c0002row0_col5\" class=\"data row0 col5\" >-0.289833</td>\n",
              "                        <td id=\"T_58acf772_2155_11eb_81cd_0242ac1c0002row0_col6\" class=\"data row0 col6\" >0.810403</td>\n",
              "                        <td id=\"T_58acf772_2155_11eb_81cd_0242ac1c0002row0_col7\" class=\"data row0 col7\" >-0.000386</td>\n",
              "                        <td id=\"T_58acf772_2155_11eb_81cd_0242ac1c0002row0_col8\" class=\"data row0 col8\" >0.143010</td>\n",
              "            </tr>\n",
              "            <tr>\n",
              "                        <th id=\"T_58acf772_2155_11eb_81cd_0242ac1c0002level0_row1\" class=\"row_heading level0 row1\" >Na</th>\n",
              "                        <td id=\"T_58acf772_2155_11eb_81cd_0242ac1c0002row1_col0\" class=\"data row1 col0\" >-0.191885</td>\n",
              "                        <td id=\"T_58acf772_2155_11eb_81cd_0242ac1c0002row1_col1\" class=\"data row1 col1\" >1.000000</td>\n",
              "                        <td id=\"T_58acf772_2155_11eb_81cd_0242ac1c0002row1_col2\" class=\"data row1 col2\" >-0.273732</td>\n",
              "                        <td id=\"T_58acf772_2155_11eb_81cd_0242ac1c0002row1_col3\" class=\"data row1 col3\" >0.156794</td>\n",
              "                        <td id=\"T_58acf772_2155_11eb_81cd_0242ac1c0002row1_col4\" class=\"data row1 col4\" >-0.069809</td>\n",
              "                        <td id=\"T_58acf772_2155_11eb_81cd_0242ac1c0002row1_col5\" class=\"data row1 col5\" >-0.266087</td>\n",
              "                        <td id=\"T_58acf772_2155_11eb_81cd_0242ac1c0002row1_col6\" class=\"data row1 col6\" >-0.275442</td>\n",
              "                        <td id=\"T_58acf772_2155_11eb_81cd_0242ac1c0002row1_col7\" class=\"data row1 col7\" >0.326603</td>\n",
              "                        <td id=\"T_58acf772_2155_11eb_81cd_0242ac1c0002row1_col8\" class=\"data row1 col8\" >-0.241346</td>\n",
              "            </tr>\n",
              "            <tr>\n",
              "                        <th id=\"T_58acf772_2155_11eb_81cd_0242ac1c0002level0_row2\" class=\"row_heading level0 row2\" >Mg</th>\n",
              "                        <td id=\"T_58acf772_2155_11eb_81cd_0242ac1c0002row2_col0\" class=\"data row2 col0\" >-0.122274</td>\n",
              "                        <td id=\"T_58acf772_2155_11eb_81cd_0242ac1c0002row2_col1\" class=\"data row2 col1\" >-0.273732</td>\n",
              "                        <td id=\"T_58acf772_2155_11eb_81cd_0242ac1c0002row2_col2\" class=\"data row2 col2\" >1.000000</td>\n",
              "                        <td id=\"T_58acf772_2155_11eb_81cd_0242ac1c0002row2_col3\" class=\"data row2 col3\" >-0.481799</td>\n",
              "                        <td id=\"T_58acf772_2155_11eb_81cd_0242ac1c0002row2_col4\" class=\"data row2 col4\" >-0.165927</td>\n",
              "                        <td id=\"T_58acf772_2155_11eb_81cd_0242ac1c0002row2_col5\" class=\"data row2 col5\" >0.005396</td>\n",
              "                        <td id=\"T_58acf772_2155_11eb_81cd_0242ac1c0002row2_col6\" class=\"data row2 col6\" >-0.443750</td>\n",
              "                        <td id=\"T_58acf772_2155_11eb_81cd_0242ac1c0002row2_col7\" class=\"data row2 col7\" >-0.492262</td>\n",
              "                        <td id=\"T_58acf772_2155_11eb_81cd_0242ac1c0002row2_col8\" class=\"data row2 col8\" >0.083060</td>\n",
              "            </tr>\n",
              "            <tr>\n",
              "                        <th id=\"T_58acf772_2155_11eb_81cd_0242ac1c0002level0_row3\" class=\"row_heading level0 row3\" >Al</th>\n",
              "                        <td id=\"T_58acf772_2155_11eb_81cd_0242ac1c0002row3_col0\" class=\"data row3 col0\" >-0.407326</td>\n",
              "                        <td id=\"T_58acf772_2155_11eb_81cd_0242ac1c0002row3_col1\" class=\"data row3 col1\" >0.156794</td>\n",
              "                        <td id=\"T_58acf772_2155_11eb_81cd_0242ac1c0002row3_col2\" class=\"data row3 col2\" >-0.481799</td>\n",
              "                        <td id=\"T_58acf772_2155_11eb_81cd_0242ac1c0002row3_col3\" class=\"data row3 col3\" >1.000000</td>\n",
              "                        <td id=\"T_58acf772_2155_11eb_81cd_0242ac1c0002row3_col4\" class=\"data row3 col4\" >-0.005524</td>\n",
              "                        <td id=\"T_58acf772_2155_11eb_81cd_0242ac1c0002row3_col5\" class=\"data row3 col5\" >0.325958</td>\n",
              "                        <td id=\"T_58acf772_2155_11eb_81cd_0242ac1c0002row3_col6\" class=\"data row3 col6\" >-0.259592</td>\n",
              "                        <td id=\"T_58acf772_2155_11eb_81cd_0242ac1c0002row3_col7\" class=\"data row3 col7\" >0.479404</td>\n",
              "                        <td id=\"T_58acf772_2155_11eb_81cd_0242ac1c0002row3_col8\" class=\"data row3 col8\" >-0.074402</td>\n",
              "            </tr>\n",
              "            <tr>\n",
              "                        <th id=\"T_58acf772_2155_11eb_81cd_0242ac1c0002level0_row4\" class=\"row_heading level0 row4\" >Si</th>\n",
              "                        <td id=\"T_58acf772_2155_11eb_81cd_0242ac1c0002row4_col0\" class=\"data row4 col0\" >-0.542052</td>\n",
              "                        <td id=\"T_58acf772_2155_11eb_81cd_0242ac1c0002row4_col1\" class=\"data row4 col1\" >-0.069809</td>\n",
              "                        <td id=\"T_58acf772_2155_11eb_81cd_0242ac1c0002row4_col2\" class=\"data row4 col2\" >-0.165927</td>\n",
              "                        <td id=\"T_58acf772_2155_11eb_81cd_0242ac1c0002row4_col3\" class=\"data row4 col3\" >-0.005524</td>\n",
              "                        <td id=\"T_58acf772_2155_11eb_81cd_0242ac1c0002row4_col4\" class=\"data row4 col4\" >1.000000</td>\n",
              "                        <td id=\"T_58acf772_2155_11eb_81cd_0242ac1c0002row4_col5\" class=\"data row4 col5\" >-0.193331</td>\n",
              "                        <td id=\"T_58acf772_2155_11eb_81cd_0242ac1c0002row4_col6\" class=\"data row4 col6\" >-0.208732</td>\n",
              "                        <td id=\"T_58acf772_2155_11eb_81cd_0242ac1c0002row4_col7\" class=\"data row4 col7\" >-0.102151</td>\n",
              "                        <td id=\"T_58acf772_2155_11eb_81cd_0242ac1c0002row4_col8\" class=\"data row4 col8\" >-0.094201</td>\n",
              "            </tr>\n",
              "            <tr>\n",
              "                        <th id=\"T_58acf772_2155_11eb_81cd_0242ac1c0002level0_row5\" class=\"row_heading level0 row5\" >K</th>\n",
              "                        <td id=\"T_58acf772_2155_11eb_81cd_0242ac1c0002row5_col0\" class=\"data row5 col0\" >-0.289833</td>\n",
              "                        <td id=\"T_58acf772_2155_11eb_81cd_0242ac1c0002row5_col1\" class=\"data row5 col1\" >-0.266087</td>\n",
              "                        <td id=\"T_58acf772_2155_11eb_81cd_0242ac1c0002row5_col2\" class=\"data row5 col2\" >0.005396</td>\n",
              "                        <td id=\"T_58acf772_2155_11eb_81cd_0242ac1c0002row5_col3\" class=\"data row5 col3\" >0.325958</td>\n",
              "                        <td id=\"T_58acf772_2155_11eb_81cd_0242ac1c0002row5_col4\" class=\"data row5 col4\" >-0.193331</td>\n",
              "                        <td id=\"T_58acf772_2155_11eb_81cd_0242ac1c0002row5_col5\" class=\"data row5 col5\" >1.000000</td>\n",
              "                        <td id=\"T_58acf772_2155_11eb_81cd_0242ac1c0002row5_col6\" class=\"data row5 col6\" >-0.317836</td>\n",
              "                        <td id=\"T_58acf772_2155_11eb_81cd_0242ac1c0002row5_col7\" class=\"data row5 col7\" >-0.042618</td>\n",
              "                        <td id=\"T_58acf772_2155_11eb_81cd_0242ac1c0002row5_col8\" class=\"data row5 col8\" >-0.007719</td>\n",
              "            </tr>\n",
              "            <tr>\n",
              "                        <th id=\"T_58acf772_2155_11eb_81cd_0242ac1c0002level0_row6\" class=\"row_heading level0 row6\" >Ca</th>\n",
              "                        <td id=\"T_58acf772_2155_11eb_81cd_0242ac1c0002row6_col0\" class=\"data row6 col0\" >0.810403</td>\n",
              "                        <td id=\"T_58acf772_2155_11eb_81cd_0242ac1c0002row6_col1\" class=\"data row6 col1\" >-0.275442</td>\n",
              "                        <td id=\"T_58acf772_2155_11eb_81cd_0242ac1c0002row6_col2\" class=\"data row6 col2\" >-0.443750</td>\n",
              "                        <td id=\"T_58acf772_2155_11eb_81cd_0242ac1c0002row6_col3\" class=\"data row6 col3\" >-0.259592</td>\n",
              "                        <td id=\"T_58acf772_2155_11eb_81cd_0242ac1c0002row6_col4\" class=\"data row6 col4\" >-0.208732</td>\n",
              "                        <td id=\"T_58acf772_2155_11eb_81cd_0242ac1c0002row6_col5\" class=\"data row6 col5\" >-0.317836</td>\n",
              "                        <td id=\"T_58acf772_2155_11eb_81cd_0242ac1c0002row6_col6\" class=\"data row6 col6\" >1.000000</td>\n",
              "                        <td id=\"T_58acf772_2155_11eb_81cd_0242ac1c0002row6_col7\" class=\"data row6 col7\" >-0.112841</td>\n",
              "                        <td id=\"T_58acf772_2155_11eb_81cd_0242ac1c0002row6_col8\" class=\"data row6 col8\" >0.124968</td>\n",
              "            </tr>\n",
              "            <tr>\n",
              "                        <th id=\"T_58acf772_2155_11eb_81cd_0242ac1c0002level0_row7\" class=\"row_heading level0 row7\" >Ba</th>\n",
              "                        <td id=\"T_58acf772_2155_11eb_81cd_0242ac1c0002row7_col0\" class=\"data row7 col0\" >-0.000386</td>\n",
              "                        <td id=\"T_58acf772_2155_11eb_81cd_0242ac1c0002row7_col1\" class=\"data row7 col1\" >0.326603</td>\n",
              "                        <td id=\"T_58acf772_2155_11eb_81cd_0242ac1c0002row7_col2\" class=\"data row7 col2\" >-0.492262</td>\n",
              "                        <td id=\"T_58acf772_2155_11eb_81cd_0242ac1c0002row7_col3\" class=\"data row7 col3\" >0.479404</td>\n",
              "                        <td id=\"T_58acf772_2155_11eb_81cd_0242ac1c0002row7_col4\" class=\"data row7 col4\" >-0.102151</td>\n",
              "                        <td id=\"T_58acf772_2155_11eb_81cd_0242ac1c0002row7_col5\" class=\"data row7 col5\" >-0.042618</td>\n",
              "                        <td id=\"T_58acf772_2155_11eb_81cd_0242ac1c0002row7_col6\" class=\"data row7 col6\" >-0.112841</td>\n",
              "                        <td id=\"T_58acf772_2155_11eb_81cd_0242ac1c0002row7_col7\" class=\"data row7 col7\" >1.000000</td>\n",
              "                        <td id=\"T_58acf772_2155_11eb_81cd_0242ac1c0002row7_col8\" class=\"data row7 col8\" >-0.058692</td>\n",
              "            </tr>\n",
              "            <tr>\n",
              "                        <th id=\"T_58acf772_2155_11eb_81cd_0242ac1c0002level0_row8\" class=\"row_heading level0 row8\" >Fe</th>\n",
              "                        <td id=\"T_58acf772_2155_11eb_81cd_0242ac1c0002row8_col0\" class=\"data row8 col0\" >0.143010</td>\n",
              "                        <td id=\"T_58acf772_2155_11eb_81cd_0242ac1c0002row8_col1\" class=\"data row8 col1\" >-0.241346</td>\n",
              "                        <td id=\"T_58acf772_2155_11eb_81cd_0242ac1c0002row8_col2\" class=\"data row8 col2\" >0.083060</td>\n",
              "                        <td id=\"T_58acf772_2155_11eb_81cd_0242ac1c0002row8_col3\" class=\"data row8 col3\" >-0.074402</td>\n",
              "                        <td id=\"T_58acf772_2155_11eb_81cd_0242ac1c0002row8_col4\" class=\"data row8 col4\" >-0.094201</td>\n",
              "                        <td id=\"T_58acf772_2155_11eb_81cd_0242ac1c0002row8_col5\" class=\"data row8 col5\" >-0.007719</td>\n",
              "                        <td id=\"T_58acf772_2155_11eb_81cd_0242ac1c0002row8_col6\" class=\"data row8 col6\" >0.124968</td>\n",
              "                        <td id=\"T_58acf772_2155_11eb_81cd_0242ac1c0002row8_col7\" class=\"data row8 col7\" >-0.058692</td>\n",
              "                        <td id=\"T_58acf772_2155_11eb_81cd_0242ac1c0002row8_col8\" class=\"data row8 col8\" >1.000000</td>\n",
              "            </tr>\n",
              "    </tbody></table>"
            ],
            "text/plain": [
              "<pandas.io.formats.style.Styler at 0x7f37b8f2eda0>"
            ]
          },
          "metadata": {
            "tags": []
          },
          "execution_count": 7
        }
      ]
    },
    {
      "cell_type": "markdown",
      "metadata": {
        "id": "HTzvjR5hNcVX"
      },
      "source": [
        "Looks appropriate for PCA!"
      ]
    },
    {
      "cell_type": "code",
      "metadata": {
        "id": "o1vb0KpIMmFY",
        "colab": {
          "base_uri": "https://localhost:8080/"
        },
        "outputId": "e1c6d8c9-8538-4f8b-9353-b16cdc0db865"
      },
      "source": [
        "from sklearn.decomposition import PCA\n",
        "from sklearn.preprocessing import StandardScaler\n",
        "\n",
        "scl = StandardScaler()\n",
        "X_scaled = scl.fit_transform(X_df)\n",
        "pca = PCA(n_components=9)\n",
        "X2 = pca.fit_transform(X_scaled)\n",
        "\n",
        "# Let's see the components\n",
        "pca.components_"
      ],
      "execution_count": null,
      "outputs": [
        {
          "output_type": "execute_result",
          "data": {
            "text/plain": [
              "array([[ 9.28126899e-04,  1.72248332e-02, -7.23534913e-01,\n",
              "         4.63352227e-02, -7.69381480e-03, -7.84042855e-02,\n",
              "         6.79716799e-01,  7.63580112e-02,  9.05695250e-04],\n",
              "       [-1.52290883e-03,  3.98797552e-01, -5.43050989e-01,\n",
              "         2.58840747e-01,  1.94092491e-01,  1.03826640e-01,\n",
              "        -6.16724638e-01,  2.23545134e-01, -1.67842645e-02],\n",
              "       [-1.37689385e-03, -6.54934730e-01, -1.31198879e-01,\n",
              "         5.56521411e-02,  6.91951335e-01,  2.18565071e-01,\n",
              "        -7.87784202e-02, -1.33876425e-01,  7.21253225e-03],\n",
              "       [ 3.10643441e-04, -3.46599960e-01, -9.86931157e-02,\n",
              "         2.70893633e-01, -5.70087029e-01,  6.77700643e-01,\n",
              "        -5.39461282e-02,  9.71284426e-02,  1.10986100e-02],\n",
              "       [ 7.12950233e-04, -3.98381798e-01,  7.68490459e-02,\n",
              "         3.13525755e-01, -1.03320001e-01, -5.08016303e-01,\n",
              "        -6.57426026e-02,  6.80657156e-01,  2.67473294e-02],\n",
              "       [ 1.82174928e-03, -1.55680962e-02, -4.77602532e-02,\n",
              "        -7.80387063e-01,  6.02933593e-02,  2.65187354e-01,\n",
              "        -2.88933651e-02,  5.60066050e-01, -9.36624304e-04],\n",
              "       [-3.32594524e-04, -3.76900981e-02, -7.49534298e-02,\n",
              "        -7.48038453e-02, -5.87295419e-02, -6.03758664e-02,\n",
              "        -7.38051328e-02, -7.89204527e-02,  9.84172584e-01],\n",
              "       [-4.12235755e-03, -3.62242832e-01, -3.75274748e-01,\n",
              "        -3.76132968e-01, -3.75118036e-01, -3.79436277e-01,\n",
              "        -3.71356614e-01, -3.65560818e-01, -1.73868097e-01],\n",
              "       [-9.99986948e-01,  1.39622177e-03,  1.84522571e-03,\n",
              "         3.36314085e-05,  1.69520029e-04,  1.38388000e-03,\n",
              "         3.11773530e-03,  2.98377146e-03,  4.26703166e-04]])"
            ]
          },
          "metadata": {
            "tags": []
          },
          "execution_count": 8
        }
      ]
    },
    {
      "cell_type": "code",
      "metadata": {
        "id": "jaqCtEY-Moa2",
        "colab": {
          "base_uri": "https://localhost:8080/"
        },
        "outputId": "ac7b29a8-839f-45ca-f413-321e11742b1f"
      },
      "source": [
        "from sklearn.linear_model import LogisticRegression\n",
        "from sklearn.multiclass import OneVsRestClassifier\n",
        "\n",
        "from sklearn.model_selection import train_test_split\n",
        "X_train, X_test, y_train, y_test = train_test_split(X2, y, \\\n",
        "                                                    test_size=0.3,\\\n",
        "                                                    random_state=42)\n",
        "\n",
        "clf = LogisticRegression(penalty='l2', random_state=42,\\\n",
        "                                             max_iter=5000)\n",
        "clf.fit(X_train, y_train)\n",
        "\n",
        "clf.score(X_test, y_test)"
      ],
      "execution_count": null,
      "outputs": [
        {
          "output_type": "execute_result",
          "data": {
            "text/plain": [
              "0.6615384615384615"
            ]
          },
          "metadata": {
            "tags": []
          },
          "execution_count": 9
        }
      ]
    },
    {
      "cell_type": "code",
      "metadata": {
        "id": "sUYGic8bQ10l",
        "colab": {
          "base_uri": "https://localhost:8080/",
          "height": 316
        },
        "outputId": "c2bf3ffe-814f-47b5-b901-6ccafbc7caae"
      },
      "source": [
        "X_df.describe()"
      ],
      "execution_count": null,
      "outputs": [
        {
          "output_type": "execute_result",
          "data": {
            "text/html": [
              "<div>\n",
              "<style scoped>\n",
              "    .dataframe tbody tr th:only-of-type {\n",
              "        vertical-align: middle;\n",
              "    }\n",
              "\n",
              "    .dataframe tbody tr th {\n",
              "        vertical-align: top;\n",
              "    }\n",
              "\n",
              "    .dataframe thead th {\n",
              "        text-align: right;\n",
              "    }\n",
              "</style>\n",
              "<table border=\"1\" class=\"dataframe\">\n",
              "  <thead>\n",
              "    <tr style=\"text-align: right;\">\n",
              "      <th></th>\n",
              "      <th>RefractiveIndex</th>\n",
              "      <th>Na</th>\n",
              "      <th>Mg</th>\n",
              "      <th>Al</th>\n",
              "      <th>Si</th>\n",
              "      <th>K</th>\n",
              "      <th>Ca</th>\n",
              "      <th>Ba</th>\n",
              "      <th>Fe</th>\n",
              "    </tr>\n",
              "  </thead>\n",
              "  <tbody>\n",
              "    <tr>\n",
              "      <th>count</th>\n",
              "      <td>214.000000</td>\n",
              "      <td>214.000000</td>\n",
              "      <td>214.000000</td>\n",
              "      <td>214.000000</td>\n",
              "      <td>214.000000</td>\n",
              "      <td>214.000000</td>\n",
              "      <td>214.000000</td>\n",
              "      <td>214.000000</td>\n",
              "      <td>214.000000</td>\n",
              "    </tr>\n",
              "    <tr>\n",
              "      <th>mean</th>\n",
              "      <td>1.518365</td>\n",
              "      <td>13.407850</td>\n",
              "      <td>2.684533</td>\n",
              "      <td>1.444907</td>\n",
              "      <td>72.650935</td>\n",
              "      <td>0.497056</td>\n",
              "      <td>8.956963</td>\n",
              "      <td>0.175047</td>\n",
              "      <td>0.057009</td>\n",
              "    </tr>\n",
              "    <tr>\n",
              "      <th>std</th>\n",
              "      <td>0.003037</td>\n",
              "      <td>0.816604</td>\n",
              "      <td>1.442408</td>\n",
              "      <td>0.499270</td>\n",
              "      <td>0.774546</td>\n",
              "      <td>0.652192</td>\n",
              "      <td>1.423153</td>\n",
              "      <td>0.497219</td>\n",
              "      <td>0.097439</td>\n",
              "    </tr>\n",
              "    <tr>\n",
              "      <th>min</th>\n",
              "      <td>1.511150</td>\n",
              "      <td>10.730000</td>\n",
              "      <td>0.000000</td>\n",
              "      <td>0.290000</td>\n",
              "      <td>69.810000</td>\n",
              "      <td>0.000000</td>\n",
              "      <td>5.430000</td>\n",
              "      <td>0.000000</td>\n",
              "      <td>0.000000</td>\n",
              "    </tr>\n",
              "    <tr>\n",
              "      <th>25%</th>\n",
              "      <td>1.516523</td>\n",
              "      <td>12.907500</td>\n",
              "      <td>2.115000</td>\n",
              "      <td>1.190000</td>\n",
              "      <td>72.280000</td>\n",
              "      <td>0.122500</td>\n",
              "      <td>8.240000</td>\n",
              "      <td>0.000000</td>\n",
              "      <td>0.000000</td>\n",
              "    </tr>\n",
              "    <tr>\n",
              "      <th>50%</th>\n",
              "      <td>1.517680</td>\n",
              "      <td>13.300000</td>\n",
              "      <td>3.480000</td>\n",
              "      <td>1.360000</td>\n",
              "      <td>72.790000</td>\n",
              "      <td>0.555000</td>\n",
              "      <td>8.600000</td>\n",
              "      <td>0.000000</td>\n",
              "      <td>0.000000</td>\n",
              "    </tr>\n",
              "    <tr>\n",
              "      <th>75%</th>\n",
              "      <td>1.519157</td>\n",
              "      <td>13.825000</td>\n",
              "      <td>3.600000</td>\n",
              "      <td>1.630000</td>\n",
              "      <td>73.087500</td>\n",
              "      <td>0.610000</td>\n",
              "      <td>9.172500</td>\n",
              "      <td>0.000000</td>\n",
              "      <td>0.100000</td>\n",
              "    </tr>\n",
              "    <tr>\n",
              "      <th>max</th>\n",
              "      <td>1.533930</td>\n",
              "      <td>17.380000</td>\n",
              "      <td>4.490000</td>\n",
              "      <td>3.500000</td>\n",
              "      <td>75.410000</td>\n",
              "      <td>6.210000</td>\n",
              "      <td>16.190000</td>\n",
              "      <td>3.150000</td>\n",
              "      <td>0.510000</td>\n",
              "    </tr>\n",
              "  </tbody>\n",
              "</table>\n",
              "</div>"
            ],
            "text/plain": [
              "       RefractiveIndex          Na  ...          Ba          Fe\n",
              "count       214.000000  214.000000  ...  214.000000  214.000000\n",
              "mean          1.518365   13.407850  ...    0.175047    0.057009\n",
              "std           0.003037    0.816604  ...    0.497219    0.097439\n",
              "min           1.511150   10.730000  ...    0.000000    0.000000\n",
              "25%           1.516523   12.907500  ...    0.000000    0.000000\n",
              "50%           1.517680   13.300000  ...    0.000000    0.000000\n",
              "75%           1.519157   13.825000  ...    0.000000    0.100000\n",
              "max           1.533930   17.380000  ...    3.150000    0.510000\n",
              "\n",
              "[8 rows x 9 columns]"
            ]
          },
          "metadata": {
            "tags": []
          },
          "execution_count": 10
        }
      ]
    },
    {
      "cell_type": "markdown",
      "metadata": {
        "id": "nVHTyWl5PUT-"
      },
      "source": [
        "# Confusion Matrices\n"
      ]
    },
    {
      "cell_type": "code",
      "metadata": {
        "id": "KjU6ByVpNq_y",
        "colab": {
          "base_uri": "https://localhost:8080/"
        },
        "outputId": "fe0baef1-f640-498c-8af6-7336747ae7a7"
      },
      "source": [
        "from sklearn.metrics import multilabel_confusion_matrix\n",
        "\n",
        "clf = LogisticRegression(penalty='l2', random_state=42,\\\n",
        "                                             max_iter=5000)\n",
        "clf.fit(X_train, y_train)\n",
        "y_pred = clf.predict(X_test)\n",
        "\n",
        "confmat = multilabel_confusion_matrix(y_true=y_test, y_pred=y_pred,\\\n",
        "                           labels=[1])\n",
        "\n",
        "print(confmat)"
      ],
      "execution_count": null,
      "outputs": [
        {
          "output_type": "stream",
          "text": [
            "[[[38  8]\n",
            "  [ 4 15]]]\n"
          ],
          "name": "stdout"
        }
      ]
    },
    {
      "cell_type": "code",
      "metadata": {
        "id": "N4nx4af3Nxcr",
        "colab": {
          "base_uri": "https://localhost:8080/",
          "height": 337
        },
        "outputId": "6423f187-a775-4b34-e567-fe14e5aec666"
      },
      "source": [
        "import seaborn as sns\n",
        "import matplotlib.pyplot as plt\n",
        "\n",
        "\n",
        "conf_matrix = pd.DataFrame(data=confmat[0],\n",
        "                           columns=['Predicted:0','Predicted:1'],index=['Actual:0','Actual:1'])\n",
        "plt.figure(figsize = (8,5))\n",
        "sns.heatmap(conf_matrix, annot=True,fmt='d',cmap=\"YlGnBu\")"
      ],
      "execution_count": null,
      "outputs": [
        {
          "output_type": "execute_result",
          "data": {
            "text/plain": [
              "<matplotlib.axes._subplots.AxesSubplot at 0x7f37abb18a90>"
            ]
          },
          "metadata": {
            "tags": []
          },
          "execution_count": 12
        },
        {
          "output_type": "display_data",
          "data": {
            "image/png": "[encoded data removed]",
            "text/plain": [
              "<Figure size 576x360 with 2 Axes>"
            ]
          },
          "metadata": {
            "tags": [],
            "needs_background": "light"
          }
        }
      ]
    },
    {
      "cell_type": "markdown",
      "metadata": {
        "id": "wJrczj9CPZp1"
      },
      "source": [
        "# Precision, Recall, and F1 Score"
      ]
    },
    {
      "cell_type": "code",
      "metadata": {
        "id": "0LblQNvfN4Fv",
        "colab": {
          "base_uri": "https://localhost:8080/"
        },
        "outputId": "c296c548-e135-4e3e-8edb-927e18da9089"
      },
      "source": [
        "from sklearn.metrics import precision_score, recall_score, f1_score\n",
        "\n",
        "print('Precision: %.3f' %precision_score(y_true=y_test, y_pred=y_pred, labels=[1,2],average='micro'))\n",
        "print('Recall: %.3f' %recall_score(y_true=y_test, y_pred=y_pred, labels=[1,2],average='micro'))\n",
        "print('F1: %.3f' %f1_score(y_true=y_test, y_pred=y_pred, labels=[1,2],average='micro'))"
      ],
      "execution_count": null,
      "outputs": [
        {
          "output_type": "stream",
          "text": [
            "Precision: 0.608\n",
            "Recall: 0.738\n",
            "F1: 0.667\n"
          ],
          "name": "stdout"
        }
      ]
    },
    {
      "cell_type": "markdown",
      "metadata": {
        "id": "vIDQiEF0Pii8"
      },
      "source": [
        "# The ROC Graph and AUC"
      ]
    },
    {
      "cell_type": "code",
      "metadata": {
        "id": "pHKPXRlEO5UW"
      },
      "source": [
        "import numpy as np\n",
        "from sklearn.metrics import roc_curve, auc\n",
        "from sklearn.metrics import roc_auc_score\n",
        "from sklearn.preprocessing import label_binarize\n",
        "from sklearn.metrics import roc_curve, auc\n",
        "\n",
        "y_score = clf.fit(X_train, y_train).decision_function(X_test)\n",
        "\n",
        "# Compute ROC curve and ROC area for each class\n",
        "fpr = dict()\n",
        "tpr = dict()\n",
        "roc_auc = dict()\n",
        "\n",
        "y_test_2 = label_binarize(y_test, classes=[1,2,3,4,5,6,7])\n",
        "\n",
        "# We need to delete the 4th feature \n",
        "y_test_2 = np.delete(y_test_2, 3, axis=1)"
      ],
      "execution_count": null,
      "outputs": []
    },
    {
      "cell_type": "code",
      "metadata": {
        "id": "ypsC5c9UO7NF"
      },
      "source": [
        "n_classes = y_test_2.shape[1]\n",
        "\n",
        "for i in range(n_classes):\n",
        "    fpr[i], tpr[i], _ = roc_curve(y_test_2[:, i], y_score[:, i])\n",
        "    roc_auc[i] = auc(fpr[i], tpr[i])\n",
        "\n",
        "# Compute micro-average ROC curve and ROC area\n",
        "fpr[\"micro\"], tpr[\"micro\"], _ = roc_curve(y_test_2.ravel(), y_score.ravel(), pos_label=1)\n",
        "roc_auc[\"micro\"] = auc(fpr[\"micro\"], tpr[\"micro\"])"
      ],
      "execution_count": null,
      "outputs": []
    },
    {
      "cell_type": "code",
      "metadata": {
        "id": "BDuyX3GwO-ls",
        "colab": {
          "base_uri": "https://localhost:8080/",
          "height": 294
        },
        "outputId": "bf52b965-b1ed-4319-fa48-c55226bcb9b9"
      },
      "source": [
        "plt.figure()\n",
        "lw = 3\n",
        "plt.style.use('seaborn')\n",
        "plt.plot(fpr[lw], tpr[lw], color='darkorange',\n",
        "         lw=lw, label='ROC curve (area = %0.2f)' % roc_auc[lw])\n",
        "plt.plot([0, 1], [0, 1], color='navy', lw=lw, linestyle='--')\n",
        "plt.xlim([0.0, 1.0])\n",
        "plt.ylim([0.0, 1.05])\n",
        "plt.xlabel('False Positive Rate')\n",
        "plt.ylabel('True Positive Rate')\n",
        "plt.title('ROC Curve for Class %d'%lw)\n",
        "plt.legend(loc=\"lower right\")\n",
        "plt.show()"
      ],
      "execution_count": null,
      "outputs": [
        {
          "output_type": "display_data",
          "data": {
            "image/png": "[encoded data removed]",
            "text/plain": [
              "<Figure size 432x288 with 1 Axes>"
            ]
          },
          "metadata": {
            "tags": [],
            "needs_background": "light"
          }
        }
      ]
    },
    {
      "cell_type": "markdown",
      "metadata": {
        "id": "TF5nQhEiTIL3"
      },
      "source": [
        "# Feature Scaling\n"
      ]
    },
    {
      "cell_type": "code",
      "metadata": {
        "id": "NTY1ESjtO_rK",
        "colab": {
          "base_uri": "https://localhost:8080/",
          "height": 495
        },
        "outputId": "2d1db72f-94c1-4f02-e610-fdcb7a8791c1"
      },
      "source": [
        "from sklearn.preprocessing import StandardScaler, MinMaxScaler\n",
        "import matplotlib\n",
        "import matplotlib.pyplot as plt\n",
        "\n",
        "\n",
        "scl = StandardScaler()\n",
        "X_std = scl.fit_transform(X_df)\n",
        "plt.figure(figsize=(8,5),dpi=100)\n",
        "plt.scatter(X_df.to_numpy()[:,0], X_df.to_numpy()[:,7], color='Green',\n",
        "            label='Original')\n",
        "plt.scatter(X_std[:,0], X_std[:,7], color='Red',\n",
        "            label='Standardized')\n",
        "scl2 = MinMaxScaler()\n",
        "X_mmx = scl2.fit_transform(X_df)\n",
        "plt.scatter(X_mmx[:,0], X_mmx[:,7], color='Blue',\n",
        "            label='Min-Max')\n",
        "plt.legend(loc='upper left')\n",
        "plt.xlabel('RefractiveIndex')\n",
        "plt.ylabel('Ba')\n",
        "plt.title('Glass dataset')"
      ],
      "execution_count": null,
      "outputs": [
        {
          "output_type": "execute_result",
          "data": {
            "text/plain": [
              "Text(0.5, 1.0, 'Glass dataset')"
            ]
          },
          "metadata": {
            "tags": []
          },
          "execution_count": 17
        },
        {
          "output_type": "display_data",
          "data": {
            "image/png": "[encoded data removed]",
            "text/plain": [
              "<Figure size 800x500 with 1 Axes>"
            ]
          },
          "metadata": {
            "tags": []
          }
        }
      ]
    },
    {
      "cell_type": "code",
      "metadata": {
        "id": "WnXheRifX_Fl",
        "colab": {
          "base_uri": "https://localhost:8080/"
        },
        "outputId": "c1a20b78-4034-4174-cbae-16b08392686f"
      },
      "source": [
        "from sklearn.decomposition import PCA\n",
        "\n",
        "pca = PCA(n_components=9)\n",
        "X2 = pca.fit_transform(X_std)\n",
        "\n",
        "from sklearn.linear_model import LogisticRegression\n",
        "from sklearn.multiclass import OneVsRestClassifier\n",
        "\n",
        "from sklearn.model_selection import train_test_split\n",
        "X_train, X_test, y_train, y_test = train_test_split(X2, y, \\\n",
        "                                                    test_size=0.3,\\\n",
        "                                                    random_state=42)\n",
        "\n",
        "clf = LogisticRegression(penalty='l2', random_state=42,\\\n",
        "                                             max_iter=5000)\n",
        "clf.fit(X_train, y_train)\n",
        "\n",
        "clf.score(X_test, y_test)"
      ],
      "execution_count": null,
      "outputs": [
        {
          "output_type": "execute_result",
          "data": {
            "text/plain": [
              "0.676923076923077"
            ]
          },
          "metadata": {
            "tags": []
          },
          "execution_count": 18
        }
      ]
    },
    {
      "cell_type": "markdown",
      "metadata": {
        "id": "t6S6ZdgeTMqI"
      },
      "source": [
        "# Value Imputation"
      ]
    },
    {
      "cell_type": "markdown",
      "metadata": {
        "id": "dT6M_F6nTSL5"
      },
      "source": [
        "The real dataset had no missing data.  Let's create a version that is missing some values..."
      ]
    },
    {
      "cell_type": "code",
      "metadata": {
        "id": "mpHAGWwmTN6x",
        "colab": {
          "base_uri": "https://localhost:8080/"
        },
        "outputId": "3eea591c-2651-4b8c-9188-e0013fe6f7ae"
      },
      "source": [
        "import random\n",
        "\n",
        "X_missing = X_train.copy()\n",
        "\n",
        "for index in range(X_missing.shape[0]):\n",
        "  col = random.randint(0,8)\n",
        "  if col < 8:\n",
        "    X_missing[index,col] = np.NaN\n",
        "\n",
        "X_missing"
      ],
      "execution_count": null,
      "outputs": [
        {
          "output_type": "execute_result",
          "data": {
            "text/plain": [
              "array([[-0.5413218 , -1.03138006,  0.0359971 , ..., -0.3722237 ,\n",
              "        -0.17650543,  0.02377162],\n",
              "       [ 1.20709914, -0.0168166 , -0.46509107, ..., -0.25804334,\n",
              "                nan,  0.00369186],\n",
              "       [ 1.6950229 ,  2.07414559, -1.05842173, ...,  0.71155418,\n",
              "                nan,  0.06228922],\n",
              "       ...,\n",
              "       [-0.30679638, -0.9640664 , -0.2747725 , ...,         nan,\n",
              "         0.0889964 , -0.0367954 ],\n",
              "       [-0.14438995,  0.63984928, -0.88925237, ...,         nan,\n",
              "        -0.10252573, -0.02242185],\n",
              "       [ 0.98350476, -1.02010847, -0.48434459, ...,         nan,\n",
              "         0.00922151, -0.02149274]])"
            ]
          },
          "metadata": {
            "tags": []
          },
          "execution_count": 19
        }
      ]
    },
    {
      "cell_type": "code",
      "metadata": {
        "id": "GfUwLWEfTX0J",
        "colab": {
          "base_uri": "https://localhost:8080/"
        },
        "outputId": "41ff32af-9847-4f79-d5dc-24332056a8eb"
      },
      "source": [
        "from sklearn.impute import SimpleImputer\n",
        "\n",
        "imp = SimpleImputer(strategy='mean')\n",
        "imp.fit(X_missing)\n",
        "X_imputed = imp.transform(X_missing)\n",
        "\n",
        "clf = LogisticRegression(penalty='l2', random_state=42,\\\n",
        "                                             max_iter=5000)\n",
        "clf.fit(X_imputed, y_train)\n",
        "\n",
        "clf.score(X_test, y_test)"
      ],
      "execution_count": null,
      "outputs": [
        {
          "output_type": "execute_result",
          "data": {
            "text/plain": [
              "0.6461538461538462"
            ]
          },
          "metadata": {
            "tags": []
          },
          "execution_count": 20
        }
      ]
    },
    {
      "cell_type": "markdown",
      "metadata": {
        "id": "jWwrkPCAUqVW"
      },
      "source": [
        "We can see this is worse than, but still fairly similar to, the results we get with complete data.  Our imputation was **somewhat** effective...."
      ]
    },
    {
      "cell_type": "code",
      "metadata": {
        "id": "t6qU9EuLUoZp",
        "colab": {
          "base_uri": "https://localhost:8080/"
        },
        "outputId": "dcb79090-67aa-4b3d-fdca-2186a898683c"
      },
      "source": [
        "from sklearn.impute import KNNImputer\n",
        "\n",
        "imp = KNNImputer()\n",
        "imp.fit(X_missing)\n",
        "X_imputed = imp.transform(X_missing)\n",
        "\n",
        "clf = LogisticRegression(penalty='l2', random_state=42,\\\n",
        "                                             max_iter=5000)\n",
        "clf.fit(X_imputed, y_train)\n",
        "\n",
        "clf.score(X_test, y_test)"
      ],
      "execution_count": null,
      "outputs": [
        {
          "output_type": "execute_result",
          "data": {
            "text/plain": [
              "0.6461538461538462"
            ]
          },
          "metadata": {
            "tags": []
          },
          "execution_count": 21
        }
      ]
    },
    {
      "cell_type": "markdown",
      "metadata": {
        "id": "CHuhx0z14cEQ"
      },
      "source": [
        "# Class Imbalance\n",
        "\n",
        "Sometimes, perhaps most commonly with medical conditions, we don't have a good balance of positive and negative examples.\n",
        "\n",
        "Let's consider the dataset on coronary heart disease (CHD) from the Framingham survey.  Not surprisingly (and fortunately!), there are a lot fewer cases of CHD than non-CHD..."
      ]
    },
    {
      "cell_type": "code",
      "metadata": {
        "id": "c61ultDIaKS9"
      },
      "source": [
        "import pandas as pd\n",
        "import numpy as np\n",
        "\n",
        "\n",
        "heart_disease_df = pd.read_csv('https://penn-cis545-files.s3.amazonaws.com/framingham.csv')"
      ],
      "execution_count": null,
      "outputs": []
    },
    {
      "cell_type": "code",
      "metadata": {
        "id": "AtfeU0Hl4apq",
        "colab": {
          "base_uri": "https://localhost:8080/",
          "height": 437
        },
        "outputId": "c2e9b365-5c8e-42cb-e355-4a748d43e522"
      },
      "source": [
        "heart_disease_df"
      ],
      "execution_count": null,
      "outputs": [
        {
          "output_type": "execute_result",
          "data": {
            "text/html": [
              "<div>\n",
              "<style scoped>\n",
              "    .dataframe tbody tr th:only-of-type {\n",
              "        vertical-align: middle;\n",
              "    }\n",
              "\n",
              "    .dataframe tbody tr th {\n",
              "        vertical-align: top;\n",
              "    }\n",
              "\n",
              "    .dataframe thead th {\n",
              "        text-align: right;\n",
              "    }\n",
              "</style>\n",
              "<table border=\"1\" class=\"dataframe\">\n",
              "  <thead>\n",
              "    <tr style=\"text-align: right;\">\n",
              "      <th></th>\n",
              "      <th>male</th>\n",
              "      <th>age</th>\n",
              "      <th>education</th>\n",
              "      <th>currentSmoker</th>\n",
              "      <th>cigsPerDay</th>\n",
              "      <th>BPMeds</th>\n",
              "      <th>prevalentStroke</th>\n",
              "      <th>prevalentHyp</th>\n",
              "      <th>diabetes</th>\n",
              "      <th>totChol</th>\n",
              "      <th>sysBP</th>\n",
              "      <th>diaBP</th>\n",
              "      <th>BMI</th>\n",
              "      <th>heartRate</th>\n",
              "      <th>glucose</th>\n",
              "      <th>TenYearCHD</th>\n",
              "    </tr>\n",
              "  </thead>\n",
              "  <tbody>\n",
              "    <tr>\n",
              "      <th>0</th>\n",
              "      <td>1</td>\n",
              "      <td>39</td>\n",
              "      <td>4.0</td>\n",
              "      <td>0</td>\n",
              "      <td>0.0</td>\n",
              "      <td>0.0</td>\n",
              "      <td>0</td>\n",
              "      <td>0</td>\n",
              "      <td>0</td>\n",
              "      <td>195.0</td>\n",
              "      <td>106.0</td>\n",
              "      <td>70.0</td>\n",
              "      <td>26.97</td>\n",
              "      <td>80.0</td>\n",
              "      <td>77.0</td>\n",
              "      <td>0</td>\n",
              "    </tr>\n",
              "    <tr>\n",
              "      <th>1</th>\n",
              "      <td>0</td>\n",
              "      <td>46</td>\n",
              "      <td>2.0</td>\n",
              "      <td>0</td>\n",
              "      <td>0.0</td>\n",
              "      <td>0.0</td>\n",
              "      <td>0</td>\n",
              "      <td>0</td>\n",
              "      <td>0</td>\n",
              "      <td>250.0</td>\n",
              "      <td>121.0</td>\n",
              "      <td>81.0</td>\n",
              "      <td>28.73</td>\n",
              "      <td>95.0</td>\n",
              "      <td>76.0</td>\n",
              "      <td>0</td>\n",
              "    </tr>\n",
              "    <tr>\n",
              "      <th>2</th>\n",
              "      <td>1</td>\n",
              "      <td>48</td>\n",
              "      <td>1.0</td>\n",
              "      <td>1</td>\n",
              "      <td>20.0</td>\n",
              "      <td>0.0</td>\n",
              "      <td>0</td>\n",
              "      <td>0</td>\n",
              "      <td>0</td>\n",
              "      <td>245.0</td>\n",
              "      <td>127.5</td>\n",
              "      <td>80.0</td>\n",
              "      <td>25.34</td>\n",
              "      <td>75.0</td>\n",
              "      <td>70.0</td>\n",
              "      <td>0</td>\n",
              "    </tr>\n",
              "    <tr>\n",
              "      <th>3</th>\n",
              "      <td>0</td>\n",
              "      <td>61</td>\n",
              "      <td>3.0</td>\n",
              "      <td>1</td>\n",
              "      <td>30.0</td>\n",
              "      <td>0.0</td>\n",
              "      <td>0</td>\n",
              "      <td>1</td>\n",
              "      <td>0</td>\n",
              "      <td>225.0</td>\n",
              "      <td>150.0</td>\n",
              "      <td>95.0</td>\n",
              "      <td>28.58</td>\n",
              "      <td>65.0</td>\n",
              "      <td>103.0</td>\n",
              "      <td>1</td>\n",
              "    </tr>\n",
              "    <tr>\n",
              "      <th>4</th>\n",
              "      <td>0</td>\n",
              "      <td>46</td>\n",
              "      <td>3.0</td>\n",
              "      <td>1</td>\n",
              "      <td>23.0</td>\n",
              "      <td>0.0</td>\n",
              "      <td>0</td>\n",
              "      <td>0</td>\n",
              "      <td>0</td>\n",
              "      <td>285.0</td>\n",
              "      <td>130.0</td>\n",
              "      <td>84.0</td>\n",
              "      <td>23.10</td>\n",
              "      <td>85.0</td>\n",
              "      <td>85.0</td>\n",
              "      <td>0</td>\n",
              "    </tr>\n",
              "    <tr>\n",
              "      <th>...</th>\n",
              "      <td>...</td>\n",
              "      <td>...</td>\n",
              "      <td>...</td>\n",
              "      <td>...</td>\n",
              "      <td>...</td>\n",
              "      <td>...</td>\n",
              "      <td>...</td>\n",
              "      <td>...</td>\n",
              "      <td>...</td>\n",
              "      <td>...</td>\n",
              "      <td>...</td>\n",
              "      <td>...</td>\n",
              "      <td>...</td>\n",
              "      <td>...</td>\n",
              "      <td>...</td>\n",
              "      <td>...</td>\n",
              "    </tr>\n",
              "    <tr>\n",
              "      <th>4235</th>\n",
              "      <td>0</td>\n",
              "      <td>48</td>\n",
              "      <td>2.0</td>\n",
              "      <td>1</td>\n",
              "      <td>20.0</td>\n",
              "      <td>NaN</td>\n",
              "      <td>0</td>\n",
              "      <td>0</td>\n",
              "      <td>0</td>\n",
              "      <td>248.0</td>\n",
              "      <td>131.0</td>\n",
              "      <td>72.0</td>\n",
              "      <td>22.00</td>\n",
              "      <td>84.0</td>\n",
              "      <td>86.0</td>\n",
              "      <td>0</td>\n",
              "    </tr>\n",
              "    <tr>\n",
              "      <th>4236</th>\n",
              "      <td>0</td>\n",
              "      <td>44</td>\n",
              "      <td>1.0</td>\n",
              "      <td>1</td>\n",
              "      <td>15.0</td>\n",
              "      <td>0.0</td>\n",
              "      <td>0</td>\n",
              "      <td>0</td>\n",
              "      <td>0</td>\n",
              "      <td>210.0</td>\n",
              "      <td>126.5</td>\n",
              "      <td>87.0</td>\n",
              "      <td>19.16</td>\n",
              "      <td>86.0</td>\n",
              "      <td>NaN</td>\n",
              "      <td>0</td>\n",
              "    </tr>\n",
              "    <tr>\n",
              "      <th>4237</th>\n",
              "      <td>0</td>\n",
              "      <td>52</td>\n",
              "      <td>2.0</td>\n",
              "      <td>0</td>\n",
              "      <td>0.0</td>\n",
              "      <td>0.0</td>\n",
              "      <td>0</td>\n",
              "      <td>0</td>\n",
              "      <td>0</td>\n",
              "      <td>269.0</td>\n",
              "      <td>133.5</td>\n",
              "      <td>83.0</td>\n",
              "      <td>21.47</td>\n",
              "      <td>80.0</td>\n",
              "      <td>107.0</td>\n",
              "      <td>0</td>\n",
              "    </tr>\n",
              "    <tr>\n",
              "      <th>4238</th>\n",
              "      <td>1</td>\n",
              "      <td>40</td>\n",
              "      <td>3.0</td>\n",
              "      <td>0</td>\n",
              "      <td>0.0</td>\n",
              "      <td>0.0</td>\n",
              "      <td>0</td>\n",
              "      <td>1</td>\n",
              "      <td>0</td>\n",
              "      <td>185.0</td>\n",
              "      <td>141.0</td>\n",
              "      <td>98.0</td>\n",
              "      <td>25.60</td>\n",
              "      <td>67.0</td>\n",
              "      <td>72.0</td>\n",
              "      <td>0</td>\n",
              "    </tr>\n",
              "    <tr>\n",
              "      <th>4239</th>\n",
              "      <td>0</td>\n",
              "      <td>39</td>\n",
              "      <td>3.0</td>\n",
              "      <td>1</td>\n",
              "      <td>30.0</td>\n",
              "      <td>0.0</td>\n",
              "      <td>0</td>\n",
              "      <td>0</td>\n",
              "      <td>0</td>\n",
              "      <td>196.0</td>\n",
              "      <td>133.0</td>\n",
              "      <td>86.0</td>\n",
              "      <td>20.91</td>\n",
              "      <td>85.0</td>\n",
              "      <td>80.0</td>\n",
              "      <td>0</td>\n",
              "    </tr>\n",
              "  </tbody>\n",
              "</table>\n",
              "<p>4240 rows × 16 columns</p>\n",
              "</div>"
            ],
            "text/plain": [
              "      male  age  education  ...  heartRate  glucose  TenYearCHD\n",
              "0        1   39        4.0  ...       80.0     77.0           0\n",
              "1        0   46        2.0  ...       95.0     76.0           0\n",
              "2        1   48        1.0  ...       75.0     70.0           0\n",
              "3        0   61        3.0  ...       65.0    103.0           1\n",
              "4        0   46        3.0  ...       85.0     85.0           0\n",
              "...    ...  ...        ...  ...        ...      ...         ...\n",
              "4235     0   48        2.0  ...       84.0     86.0           0\n",
              "4236     0   44        1.0  ...       86.0      NaN           0\n",
              "4237     0   52        2.0  ...       80.0    107.0           0\n",
              "4238     1   40        3.0  ...       67.0     72.0           0\n",
              "4239     0   39        3.0  ...       85.0     80.0           0\n",
              "\n",
              "[4240 rows x 16 columns]"
            ]
          },
          "metadata": {
            "tags": []
          },
          "execution_count": 23
        }
      ]
    },
    {
      "cell_type": "code",
      "metadata": {
        "id": "R68MHsh74wtL",
        "colab": {
          "base_uri": "https://localhost:8080/",
          "height": 378
        },
        "outputId": "a4597cf7-0c9d-4055-d00d-8b97066e50fb"
      },
      "source": [
        "heart_disease_df.dropna(inplace=True)\n",
        "\n",
        "sns.countplot(x='TenYearCHD',data=heart_disease_df)"
      ],
      "execution_count": null,
      "outputs": [
        {
          "output_type": "execute_result",
          "data": {
            "text/plain": [
              "<matplotlib.axes._subplots.AxesSubplot at 0x7f37a78f4ef0>"
            ]
          },
          "metadata": {
            "tags": []
          },
          "execution_count": 24
        },
        {
          "output_type": "display_data",
          "data": {
            "image/png": "[encoded data removed]",
            "text/plain": [
              "<Figure size 576x396 with 1 Axes>"
            ]
          },
          "metadata": {
            "tags": []
          }
        }
      ]
    },
    {
      "cell_type": "code",
      "metadata": {
        "id": "IL69dwp15sKz",
        "colab": {
          "base_uri": "https://localhost:8080/",
          "height": 481
        },
        "outputId": "274cf0c6-c283-4520-dde0-5861edfb1481"
      },
      "source": [
        "import imblearn\n",
        "from imblearn.under_sampling import RandomUnderSampler\n",
        "from sklearn.metrics import confusion_matrix, accuracy_score\n",
        "\n",
        "# The simplest thing we could do is undersample the more prevalent data\n",
        "\n",
        "X = heart_disease_df.copy().drop(columns=['TenYearCHD'])\n",
        "y = heart_disease_df['TenYearCHD']\n",
        "\n",
        "X_train, X_test, y_train, y_test = train_test_split(X, \\\n",
        "                                                    y, \\\n",
        "                                                    test_size=0.20)\n",
        "\n",
        "clf = LogisticRegression(max_iter=10000)\n",
        "clf.fit(X_train,y_train)\n",
        "prediction = clf.predict(X_test)\n",
        "\n",
        "confmat = confusion_matrix(y_true=y_test, y_pred=prediction)\n",
        "\n",
        "accuracy = accuracy_score(prediction,y_test)\n",
        "print(\"Accuracy: %.1f%%\"% (accuracy*100))\n",
        "\n",
        "print(confmat)\n",
        "\n",
        "conf_matrix = pd.DataFrame(data=confmat,\n",
        "                           columns=['Predicted:0','Predicted:1'],index=['Actual:0','Actual:1'])\n",
        "plt.figure(figsize = (8,5))\n",
        "sns.heatmap(conf_matrix, annot=True,fmt='d',cmap=\"YlGnBu\")\n",
        "\n"
      ],
      "execution_count": null,
      "outputs": [
        {
          "output_type": "stream",
          "text": [
            "/usr/local/lib/python3.6/dist-packages/sklearn/externals/six.py:31: FutureWarning: The module is deprecated in version 0.21 and will be removed in version 0.23 since we've dropped support for Python 2.7. Please rely on the official version of six (https://pypi.org/project/six/).\n",
            "  \"(https://pypi.org/project/six/).\", FutureWarning)\n",
            "/usr/local/lib/python3.6/dist-packages/sklearn/utils/deprecation.py:144: FutureWarning: The sklearn.neighbors.base module is  deprecated in version 0.22 and will be removed in version 0.24. The corresponding classes / functions should instead be imported from sklearn.neighbors. Anything that cannot be imported from sklearn.neighbors is now part of the private API.\n",
            "  warnings.warn(message, FutureWarning)\n"
          ],
          "name": "stderr"
        },
        {
          "output_type": "stream",
          "text": [
            "Accuracy: 86.2%\n",
            "[[623   8]\n",
            " [ 93   8]]\n"
          ],
          "name": "stdout"
        },
        {
          "output_type": "execute_result",
          "data": {
            "text/plain": [
              "<matplotlib.axes._subplots.AxesSubplot at 0x7f37abb93ac8>"
            ]
          },
          "metadata": {
            "tags": []
          },
          "execution_count": 25
        },
        {
          "output_type": "display_data",
          "data": {
            "image/png": "[encoded data removed]",
            "text/plain": [
              "<Figure size 576x360 with 2 Axes>"
            ]
          },
          "metadata": {
            "tags": []
          }
        }
      ]
    },
    {
      "cell_type": "markdown",
      "metadata": {
        "id": "Vi1mdT7j7YSF"
      },
      "source": [
        "This has a very high number of false negatives"
      ]
    },
    {
      "cell_type": "code",
      "metadata": {
        "id": "SmGFqV0K5wwj",
        "colab": {
          "base_uri": "https://localhost:8080/",
          "height": 445
        },
        "outputId": "b5d58e6a-33ac-46be-9047-dc5c402fb72d"
      },
      "source": [
        "rus = RandomUnderSampler()\n",
        "X_rus, y_rus = rus.fit_resample(X_train, y_train)\n",
        "\n",
        "# How many positive and negative examples?\n",
        "(sum(y_rus==0), sum(y_rus==1))\n",
        "\n",
        "from sklearn.metrics import confusion_matrix\n",
        "\n",
        "import sklearn\n",
        "from sklearn.linear_model import LogisticRegression\n",
        "\n",
        "clf = LogisticRegression(max_iter=10000)\n",
        "clf.fit(X_rus,y_rus)\n",
        "prediction = clf.predict(X_test)\n",
        "\n",
        "accuracy = accuracy_score(prediction,y_test)\n",
        "print(\"Accuracy: %.1f%%\"% (accuracy*100))\n",
        "\n",
        "confmat = confusion_matrix(y_true=y_test, y_pred=prediction)\n",
        "\n",
        "print(confmat)\n",
        "conf_matrix = pd.DataFrame(data=confmat,\n",
        "                           columns=['Predicted:0','Predicted:1'],index=['Actual:0','Actual:1'])\n",
        "plt.figure(figsize = (8,5))\n",
        "sns.heatmap(conf_matrix, annot=True,fmt='d',cmap=\"YlGnBu\")"
      ],
      "execution_count": null,
      "outputs": [
        {
          "output_type": "stream",
          "text": [
            "/usr/local/lib/python3.6/dist-packages/sklearn/utils/deprecation.py:87: FutureWarning: Function safe_indexing is deprecated; safe_indexing is deprecated in version 0.22 and will be removed in version 0.24.\n",
            "  warnings.warn(msg, category=FutureWarning)\n"
          ],
          "name": "stderr"
        },
        {
          "output_type": "stream",
          "text": [
            "Accuracy: 64.1%\n",
            "[[410 221]\n",
            " [ 42  59]]\n"
          ],
          "name": "stdout"
        },
        {
          "output_type": "execute_result",
          "data": {
            "text/plain": [
              "<matplotlib.axes._subplots.AxesSubplot at 0x7f37a4ddf7b8>"
            ]
          },
          "metadata": {
            "tags": []
          },
          "execution_count": 26
        },
        {
          "output_type": "display_data",
          "data": {
            "image/png": "[encoded data removed]",
            "text/plain": [
              "<Figure size 576x360 with 2 Axes>"
            ]
          },
          "metadata": {
            "tags": []
          }
        }
      ]
    },
    {
      "cell_type": "code",
      "metadata": {
        "id": "or7VMbWW5g3M",
        "colab": {
          "base_uri": "https://localhost:8080/",
          "height": 463
        },
        "outputId": "903f363c-4541-4bc0-a053-4513d0d02522"
      },
      "source": [
        "from imblearn.over_sampling import RandomOverSampler\n",
        "ros = RandomOverSampler()\n",
        "X_ros, y_ros = ros.fit_resample(X_train, y_train)\n",
        "\n",
        "# How many positive and negative examples?\n",
        "print(sum(y_ros==0), sum(y_ros==1))\n",
        "\n",
        "clf = LogisticRegression(max_iter=10000)\n",
        "clf.fit(X_ros,y_ros)\n",
        "prediction = clf.predict(X_test)\n",
        "\n",
        "accuracy = accuracy_score(prediction,y_test)\n",
        "print(\"Accuracy: %.1f%%\"% (accuracy*100))\n",
        "\n",
        "confmat = confusion_matrix(y_true=y_test, y_pred=prediction)\n",
        "\n",
        "print(confmat)\n",
        "conf_matrix = pd.DataFrame(data=confmat,\n",
        "                           columns=['Predicted:0','Predicted:1'],index=['Actual:0','Actual:1'])\n",
        "plt.figure(figsize = (8,5))\n",
        "sns.heatmap(conf_matrix, annot=True,fmt='d',cmap=\"YlGnBu\")"
      ],
      "execution_count": null,
      "outputs": [
        {
          "output_type": "stream",
          "text": [
            "/usr/local/lib/python3.6/dist-packages/sklearn/utils/deprecation.py:87: FutureWarning: Function safe_indexing is deprecated; safe_indexing is deprecated in version 0.22 and will be removed in version 0.24.\n",
            "  warnings.warn(msg, category=FutureWarning)\n"
          ],
          "name": "stderr"
        },
        {
          "output_type": "stream",
          "text": [
            "2470 2470\n",
            "Accuracy: 65.4%\n",
            "[[421 210]\n",
            " [ 43  58]]\n"
          ],
          "name": "stdout"
        },
        {
          "output_type": "execute_result",
          "data": {
            "text/plain": [
              "<matplotlib.axes._subplots.AxesSubplot at 0x7f37a85175f8>"
            ]
          },
          "metadata": {
            "tags": []
          },
          "execution_count": 27
        },
        {
          "output_type": "display_data",
          "data": {
            "image/png": "[encoded data removed]",
            "text/plain": [
              "<Figure size 576x360 with 2 Axes>"
            ]
          },
          "metadata": {
            "tags": []
          }
        }
      ]
    },
    {
      "cell_type": "markdown",
      "metadata": {
        "id": "LiwF5IK445s1"
      },
      "source": [
        "# Plotting the learning curve"
      ]
    },
    {
      "cell_type": "code",
      "metadata": {
        "id": "2rUR7T2F48aI",
        "colab": {
          "base_uri": "https://localhost:8080/",
          "height": 378
        },
        "outputId": "1cf7d062-e40f-40a3-b7be-84a81d5fd7e5"
      },
      "source": [
        "from sklearn.model_selection import learning_curve\n",
        "\n",
        "train_sizes, train_scores, test_scores = \\\n",
        "  learning_curve(estimator=clf, X=X_ros,\n",
        "                 y=y_ros,\n",
        "                 train_sizes=[0.3, 0.5, 0.6, 0.7, 0.8, 0.85],\n",
        "                 cv=10)\n",
        "  \n",
        "plt.plot(train_sizes,np.mean(train_scores, axis=1), \\\n",
        "          marker='o', label='Training accuracy')\n",
        "plt.plot(train_sizes,np.mean(test_scores, axis=1), \\\n",
        "          marker='+', label='Validation accuracy')\n",
        "plt.xlabel('Training samples')\n",
        "plt.legend()\n",
        "  "
      ],
      "execution_count": null,
      "outputs": [
        {
          "output_type": "execute_result",
          "data": {
            "text/plain": [
              "<matplotlib.legend.Legend at 0x7f37a4384908>"
            ]
          },
          "metadata": {
            "tags": []
          },
          "execution_count": 28
        },
        {
          "output_type": "display_data",
          "data": {
            "image/png": "[encoded data removed]",
            "text/plain": [
              "<Figure size 576x396 with 1 Axes>"
            ]
          },
          "metadata": {
            "tags": []
          }
        }
      ]
    },
    {
      "cell_type": "code",
      "metadata": {
        "id": "ikT0Tcv-5nie",
        "colab": {
          "base_uri": "https://localhost:8080/",
          "height": 500
        },
        "outputId": "47321f80-93bb-4d59-afd2-f7c624069bf2"
      },
      "source": [
        "from sklearn.model_selection import validation_curve\n",
        "param_range = [0.001, 0.01, 0.01, 1.0, 5.0, 10.0, 15.0, 20.0]\n",
        "\n",
        "train_scores, test_scores = validation_curve(estimator=clf, X=X_ros,\n",
        "                                             y=y_ros, param_name='C',\n",
        "                                             param_range = param_range,\n",
        "                                             cv=10)\n",
        "\n",
        "train_mean = np.mean(train_scores, axis=1)\n",
        "train_std = np.std(train_scores, axis=1)\n",
        "test_mean = np.mean(test_scores, axis=1)\n",
        "test_std = np.std(test_scores, axis=1)\n",
        "plt.figure(dpi=100)\n",
        "plt.plot(param_range, train_mean, color='blue', marker='o',\n",
        "         markersize=6, label='Training accuracy')\n",
        "plt.fill_between(param_range, train_mean + train_std, train_mean - train_std, \\\n",
        "                 alpha=0.15)\n",
        "plt.plot(param_range, test_mean, color='green', marker='+',\n",
        "         markersize=6, label='Test accuracy')\n",
        "plt.fill_between(param_range, test_mean + test_std, test_mean - test_std, \\\n",
        "                 alpha=0.15)\n",
        "plt.xscale('log')\n",
        "plt.legend(loc='lower left')\n",
        "plt.ylabel('Accuracy')\n",
        "plt.xlabel('Regularization parameter C')\n",
        "plt.show()\n"
      ],
      "execution_count": null,
      "outputs": [
        {
          "output_type": "display_data",
          "data": {
            "image/png": "[encoded data removed]",
            "text/plain": [
              "<Figure size 800x550 with 1 Axes>"
            ]
          },
          "metadata": {
            "tags": []
          }
        }
      ]
    },
    {
      "cell_type": "code",
      "metadata": {
        "id": "OkqWLKwDACBG",
        "colab": {
          "base_uri": "https://localhost:8080/",
          "height": 390
        },
        "outputId": "d32b0bc0-e4fd-40c9-a5bc-948ef933fbae"
      },
      "source": [
        "clf = LogisticRegression(C=1, max_iter=10000)\n",
        "clf.fit(X_ros,y_ros)\n",
        "prediction = clf.predict(X_test)\n",
        "\n",
        "accuracy = accuracy_score(prediction,y_test)\n",
        "print(\"Accuracy: %.1f%%\"% (accuracy*100))\n",
        "\n",
        "confmat = confusion_matrix(y_true=y_test, y_pred=prediction)\n",
        "\n",
        "print(confmat)\n",
        "conf_matrix = pd.DataFrame(data=confmat,\n",
        "                           columns=['Predicted:0','Predicted:1'],index=['Actual:0','Actual:1'])\n",
        "plt.figure(figsize = (8,5))\n",
        "sns.heatmap(conf_matrix, annot=True,fmt='d',cmap=\"YlGnBu\")"
      ],
      "execution_count": null,
      "outputs": [
        {
          "output_type": "stream",
          "text": [
            "Accuracy: 65.4%\n",
            "[[421 210]\n",
            " [ 43  58]]\n"
          ],
          "name": "stdout"
        },
        {
          "output_type": "execute_result",
          "data": {
            "text/plain": [
              "<matplotlib.axes._subplots.AxesSubplot at 0x7f37a70da080>"
            ]
          },
          "metadata": {
            "tags": []
          },
          "execution_count": 30
        },
        {
          "output_type": "display_data",
          "data": {
            "image/png": "[encoded data removed]",
            "text/plain": [
              "<Figure size 576x360 with 2 Axes>"
            ]
          },
          "metadata": {
            "tags": []
          }
        }
      ]
    },
    {
      "cell_type": "code",
      "metadata": {
        "id": "lawzHVUZA_uP",
        "colab": {
          "base_uri": "https://localhost:8080/",
          "height": 390
        },
        "outputId": "522fa16d-897d-4fd9-d8cc-84b9637ba8b1"
      },
      "source": [
        "from sklearn.ensemble import RandomForestClassifier\n",
        "\n",
        "tree = RandomForestClassifier(max_depth=2, n_estimators=100)\n",
        "tree.fit(X_ros,y_ros)\n",
        "prediction = tree.predict(X_test)\n",
        "\n",
        "accuracy = accuracy_score(prediction,y_test)\n",
        "print(\"Accuracy: %.1f%%\"% (accuracy*100))\n",
        "\n",
        "confmat = confusion_matrix(y_true=y_test, y_pred=prediction)\n",
        "\n",
        "print(confmat)\n",
        "conf_matrix = pd.DataFrame(data=confmat,\n",
        "                           columns=['Predicted:0','Predicted:1'],index=['Actual:0','Actual:1'])\n",
        "plt.figure(figsize = (8,5))\n",
        "sns.heatmap(conf_matrix, annot=True,fmt='d',cmap=\"YlGnBu\")"
      ],
      "execution_count": null,
      "outputs": [
        {
          "output_type": "stream",
          "text": [
            "Accuracy: 66.3%\n",
            "[[434 197]\n",
            " [ 50  51]]\n"
          ],
          "name": "stdout"
        },
        {
          "output_type": "execute_result",
          "data": {
            "text/plain": [
              "<matplotlib.axes._subplots.AxesSubplot at 0x7f37a41a5048>"
            ]
          },
          "metadata": {
            "tags": []
          },
          "execution_count": 31
        },
        {
          "output_type": "display_data",
          "data": {
            "image/png": "[encoded data removed]",
            "text/plain": [
              "<Figure size 576x360 with 2 Axes>"
            ]
          },
          "metadata": {
            "tags": []
          }
        }
      ]
    },
    {
      "cell_type": "code",
      "metadata": {
        "id": "Rrz11iO9CJkC"
      },
      "source": [],
      "execution_count": null,
      "outputs": []
    }
  ]
}