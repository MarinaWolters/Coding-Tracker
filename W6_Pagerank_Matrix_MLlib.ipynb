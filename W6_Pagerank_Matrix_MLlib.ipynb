{
  "nbformat": 4,
  "nbformat_minor": 0,
  "metadata": {
    "colab": {
      "provenance": [],
      "include_colab_link": true
    },
    "kernelspec": {
      "name": "python3",
      "display_name": "Python 3"
    },
    "widgets": {
      "application/vnd.jupyter.widget-state+json": {
        "3122737d33ad412e8826618b29278107": {
          "model_module": "@jupyter-widgets/controls",
          "model_name": "FloatProgressModel",
          "state": {
            "_view_name": "ProgressView",
            "style": "IPY_MODEL_5ba10b44e26f4226b287c699f6ed321d",
            "_dom_classes": [],
            "description": "Progress:",
            "_model_name": "FloatProgressModel",
            "bar_style": "info",
            "max": 1,
            "_view_module": "@jupyter-widgets/controls",
            "_model_module_version": "1.5.0",
            "value": 0,
            "_view_count": null,
            "_view_module_version": "1.5.0",
            "orientation": "horizontal",
            "min": 0,
            "description_tooltip": null,
            "_model_module": "@jupyter-widgets/controls",
            "layout": "IPY_MODEL_148a833bd6654ee78774c148a0d6b26a"
          },
          "model_module_version": "1.5.0"
        },
        "5ba10b44e26f4226b287c699f6ed321d": {
          "model_module": "@jupyter-widgets/controls",
          "model_name": "ProgressStyleModel",
          "state": {
            "_view_name": "StyleView",
            "_model_name": "ProgressStyleModel",
            "description_width": "",
            "_view_module": "@jupyter-widgets/base",
            "_model_module_version": "1.5.0",
            "_view_count": null,
            "_view_module_version": "1.2.0",
            "bar_color": null,
            "_model_module": "@jupyter-widgets/controls"
          },
          "model_module_version": "1.5.0"
        },
        "148a833bd6654ee78774c148a0d6b26a": {
          "model_module": "@jupyter-widgets/base",
          "model_name": "LayoutModel",
          "state": {
            "_view_name": "LayoutView",
            "grid_template_rows": null,
            "right": null,
            "justify_content": null,
            "_view_module": "@jupyter-widgets/base",
            "overflow": null,
            "_model_module_version": "1.2.0",
            "_view_count": null,
            "flex_flow": null,
            "width": "50%",
            "min_width": null,
            "border": null,
            "align_items": null,
            "bottom": null,
            "_model_module": "@jupyter-widgets/base",
            "top": null,
            "grid_column": null,
            "overflow_y": null,
            "overflow_x": null,
            "grid_auto_flow": null,
            "grid_area": null,
            "grid_template_columns": null,
            "flex": null,
            "_model_name": "LayoutModel",
            "justify_items": null,
            "grid_row": null,
            "max_height": null,
            "align_content": null,
            "visibility": null,
            "align_self": null,
            "height": "25px",
            "min_height": null,
            "padding": null,
            "grid_auto_rows": null,
            "grid_gap": null,
            "max_width": null,
            "order": null,
            "_view_module_version": "1.2.0",
            "grid_template_areas": null,
            "object_position": null,
            "object_fit": null,
            "grid_auto_columns": null,
            "margin": null,
            "display": null,
            "left": null
          },
          "model_module_version": "1.2.0"
        },
        "16f18c90f2c64ac794d6581342bca3d6": {
          "model_module": "@jupyter-widgets/controls",
          "model_name": "FloatProgressModel",
          "state": {
            "_view_name": "ProgressView",
            "style": "IPY_MODEL_929fb62b28fc4ff2bf6b21817f5ff4bc",
            "_dom_classes": [],
            "description": "Progress:",
            "_model_name": "FloatProgressModel",
            "bar_style": "info",
            "max": 1,
            "_view_module": "@jupyter-widgets/controls",
            "_model_module_version": "1.5.0",
            "value": 0.1347305389221557,
            "_view_count": null,
            "_view_module_version": "1.5.0",
            "orientation": "horizontal",
            "min": 0,
            "description_tooltip": null,
            "_model_module": "@jupyter-widgets/controls",
            "layout": "IPY_MODEL_f22287f32da5454d80f643c4289be711"
          },
          "model_module_version": "1.5.0"
        },
        "929fb62b28fc4ff2bf6b21817f5ff4bc": {
          "model_module": "@jupyter-widgets/controls",
          "model_name": "ProgressStyleModel",
          "state": {
            "_view_name": "StyleView",
            "_model_name": "ProgressStyleModel",
            "description_width": "",
            "_view_module": "@jupyter-widgets/base",
            "_model_module_version": "1.5.0",
            "_view_count": null,
            "_view_module_version": "1.2.0",
            "bar_color": null,
            "_model_module": "@jupyter-widgets/controls"
          },
          "model_module_version": "1.5.0"
        },
        "f22287f32da5454d80f643c4289be711": {
          "model_module": "@jupyter-widgets/base",
          "model_name": "LayoutModel",
          "state": {
            "_view_name": "LayoutView",
            "grid_template_rows": null,
            "right": null,
            "justify_content": null,
            "_view_module": "@jupyter-widgets/base",
            "overflow": null,
            "_model_module_version": "1.2.0",
            "_view_count": null,
            "flex_flow": null,
            "width": "50%",
            "min_width": null,
            "border": null,
            "align_items": null,
            "bottom": null,
            "_model_module": "@jupyter-widgets/base",
            "top": null,
            "grid_column": null,
            "overflow_y": null,
            "overflow_x": null,
            "grid_auto_flow": null,
            "grid_area": null,
            "grid_template_columns": null,
            "flex": null,
            "_model_name": "LayoutModel",
            "justify_items": null,
            "grid_row": null,
            "max_height": null,
            "align_content": null,
            "visibility": null,
            "align_self": null,
            "height": "25px",
            "min_height": null,
            "padding": null,
            "grid_auto_rows": null,
            "grid_gap": null,
            "max_width": null,
            "order": null,
            "_view_module_version": "1.2.0",
            "grid_template_areas": null,
            "object_position": null,
            "object_fit": null,
            "grid_auto_columns": null,
            "margin": null,
            "display": null,
            "left": null
          },
          "model_module_version": "1.2.0"
        },
        "18648ce5440542d697ca33e3dd6c20dc": {
          "model_module": "@jupyter-widgets/controls",
          "model_name": "FloatProgressModel",
          "state": {
            "_view_name": "ProgressView",
            "style": "IPY_MODEL_d8c3976e671247188ac5be3100cfdfab",
            "_dom_classes": [],
            "description": "Progress:",
            "_model_name": "FloatProgressModel",
            "bar_style": "info",
            "max": 1,
            "_view_module": "@jupyter-widgets/controls",
            "_model_module_version": "1.5.0",
            "value": 0,
            "_view_count": null,
            "_view_module_version": "1.5.0",
            "orientation": "horizontal",
            "min": 0,
            "description_tooltip": null,
            "_model_module": "@jupyter-widgets/controls",
            "layout": "IPY_MODEL_4b1a47db295241bdbf6a6e45d3ee4fd7"
          },
          "model_module_version": "1.5.0"
        },
        "d8c3976e671247188ac5be3100cfdfab": {
          "model_module": "@jupyter-widgets/controls",
          "model_name": "ProgressStyleModel",
          "state": {
            "_view_name": "StyleView",
            "_model_name": "ProgressStyleModel",
            "description_width": "",
            "_view_module": "@jupyter-widgets/base",
            "_model_module_version": "1.5.0",
            "_view_count": null,
            "_view_module_version": "1.2.0",
            "bar_color": null,
            "_model_module": "@jupyter-widgets/controls"
          },
          "model_module_version": "1.5.0"
        },
        "4b1a47db295241bdbf6a6e45d3ee4fd7": {
          "model_module": "@jupyter-widgets/base",
          "model_name": "LayoutModel",
          "state": {
            "_view_name": "LayoutView",
            "grid_template_rows": null,
            "right": null,
            "justify_content": null,
            "_view_module": "@jupyter-widgets/base",
            "overflow": null,
            "_model_module_version": "1.2.0",
            "_view_count": null,
            "flex_flow": null,
            "width": "50%",
            "min_width": null,
            "border": null,
            "align_items": null,
            "bottom": null,
            "_model_module": "@jupyter-widgets/base",
            "top": null,
            "grid_column": null,
            "overflow_y": null,
            "overflow_x": null,
            "grid_auto_flow": null,
            "grid_area": null,
            "grid_template_columns": null,
            "flex": null,
            "_model_name": "LayoutModel",
            "justify_items": null,
            "grid_row": null,
            "max_height": null,
            "align_content": null,
            "visibility": null,
            "align_self": null,
            "height": "25px",
            "min_height": null,
            "padding": null,
            "grid_auto_rows": null,
            "grid_gap": null,
            "max_width": null,
            "order": null,
            "_view_module_version": "1.2.0",
            "grid_template_areas": null,
            "object_position": null,
            "object_fit": null,
            "grid_auto_columns": null,
            "margin": null,
            "display": null,
            "left": null
          },
          "model_module_version": "1.2.0"
        }
      }
    }
  },
  "cells": [
    {
      "cell_type": "markdown",
      "metadata": {
        "id": "view-in-github",
        "colab_type": "text"
      },
      "source": [
        "<a href=\"https://colab.research.google.com/github/MarinaWolters/Coding-Tracker/blob/master/W6_Pagerank_Matrix_MLlib.ipynb\" target=\"_parent\"><img src=\"https://colab.research.google.com/assets/colab-badge.svg\" alt=\"Open In Colab\"/></a>"
      ]
    },
    {
      "cell_type": "code",
      "metadata": {
        "id": "JND4HwCMEPC6"
      },
      "source": [
        "%%capture\n",
        "!apt update\n",
        "!apt install gcc python-dev libkrb5-dev\n",
        "!pip install sparkmagic"
      ],
      "execution_count": null,
      "outputs": []
    },
    {
      "cell_type": "code",
      "metadata": {
        "id": "0oPPpFR-EUqa"
      },
      "source": [
        "%%capture\n",
        "%load_ext sparkmagic.magics "
      ],
      "execution_count": null,
      "outputs": []
    },
    {
      "cell_type": "code",
      "metadata": {
        "id": "bS1zwuTmEV4x",
        "outputId": "557122fa-e8d8-46e0-ddb1-3c0b7b7555ac",
        "colab": {
          "base_uri": "https://localhost:8080/",
          "height": 99,
          "referenced_widgets": [
            "3122737d33ad412e8826618b29278107",
            "5ba10b44e26f4226b287c699f6ed321d",
            "148a833bd6654ee78774c148a0d6b26a"
          ]
        }
      },
      "source": [
        "# TODO: Enter your Master Public DNS with the proper formatting and host\n",
        "\n",
        "%spark add -s my_session -l python -u http://ec2-54-165-180-197.compute-1.amazonaws.com:8998\n"
      ],
      "execution_count": null,
      "outputs": [
        {
          "output_type": "stream",
          "text": [
            "Starting Spark application\n"
          ],
          "name": "stdout"
        },
        {
          "output_type": "display_data",
          "data": {
            "text/html": [
              "<table>\n",
              "<tr><th>ID</th><th>YARN Application ID</th><th>Kind</th><th>State</th><th>Spark UI</th><th>Driver log</th><th>Current session?</th></tr><tr><td>0</td><td>application_1603284584123_0002</td><td>pyspark</td><td>idle</td><td><a target=\"_blank\" href=\"http://ip-172-31-80-81.ec2.internal:20888/proxy/application_1603284584123_0002/\">Link</a></td><td><a target=\"_blank\" href=\"http://ip-172-31-88-214.ec2.internal:8042/node/containerlogs/container_1603284584123_0002_01_000001/livy\">Link</a></td><td>✔</td></tr></table>"
            ],
            "text/plain": [
              "<IPython.core.display.HTML object>"
            ]
          },
          "metadata": {
            "tags": []
          }
        },
        {
          "output_type": "display_data",
          "data": {
            "application/vnd.jupyter.widget-view+json": {
              "model_id": "3122737d33ad412e8826618b29278107",
              "version_minor": 0,
              "version_major": 2
            },
            "text/plain": [
              "FloatProgress(value=0.0, bar_style='info', description='Progress:', layout=Layout(height='25px', width='50%'),…"
            ]
          },
          "metadata": {
            "tags": []
          }
        },
        {
          "output_type": "stream",
          "text": [
            "SparkSession available as 'spark'.\n"
          ],
          "name": "stdout"
        }
      ]
    },
    {
      "cell_type": "code",
      "metadata": {
        "id": "U1rEg2yZEiRS",
        "outputId": "222a383d-648a-49d0-e3d7-6d8d626e77ef",
        "colab": {
          "base_uri": "https://localhost:8080/",
          "height": 971,
          "referenced_widgets": [
            "16f18c90f2c64ac794d6581342bca3d6",
            "929fb62b28fc4ff2bf6b21817f5ff4bc",
            "f22287f32da5454d80f643c4289be711"
          ]
        }
      },
      "source": [
        "%%spark\n",
        "\n",
        "from pyspark.mllib.linalg.distributed import CoordinateMatrix, MatrixEntry,\\\n",
        "  BlockMatrix\n",
        "import pandas as pd\n",
        "from pyspark.sql.functions import lit\n",
        "\n",
        "initial_graph = pd.DataFrame([{'from': 0, 'to': 1},\\\n",
        "                              {'from': 0, 'to': 2},\\\n",
        "                              {'from': 1, 'to': 2},\\\n",
        "                              {'from': 2, 'to': 0}])\n",
        "\n",
        "sdf = spark.createDataFrame(initial_graph)\n",
        "\n",
        "sdf.createOrReplaceTempView('graph')\n",
        "transfer_weights = spark.sql('''select graph.from as id, 1 / count(\"to\") as weight \n",
        "                                from graph group by from''')\n",
        "weighted_edges = sdf.join(transfer_weights, sdf['from'] == transfer_weights.id)[['from','to','weight']]\n",
        "\n",
        "# Build matrix M from the weighted edges\n",
        "M = CoordinateMatrix(weighted_edges.rdd.map(lambda x: MatrixEntry(x[1], x[0], x[2]))).toBlockMatrix()\n",
        "\n",
        "print (M.toLocalMatrix())\n",
        "\n",
        "# We'll use all IDs from 0 ... max node ID\n",
        "n = len(initial_graph[['from']].rename(columns={'from': 'id'}).\\\n",
        "    append(initial_graph[['to']].rename(columns={'to': 'id'})).drop_duplicates()\\\n",
        "    ['id'])\n",
        "\n",
        "PR_sdf = sdf.select(sdf['from'], lit(1 / n).alias('weight')).distinct()\n",
        "PR = CoordinateMatrix(PR_sdf.rdd.map(lambda x: MatrixEntry(x[0], 0, x[1]))).toBlockMatrix()\n",
        "print (PR.toLocalMatrix())\n",
        "\n",
        "for i in range(15):\n",
        "  PR = M.multiply(PR)\n",
        "  print (PR.toLocalMatrix())"
      ],
      "execution_count": null,
      "outputs": [
        {
          "output_type": "display_data",
          "data": {
            "application/vnd.jupyter.widget-view+json": {
              "model_id": "16f18c90f2c64ac794d6581342bca3d6",
              "version_minor": 0,
              "version_major": 2
            },
            "text/plain": [
              "FloatProgress(value=0.0, bar_style='info', description='Progress:', layout=Layout(height='25px', width='50%'),…"
            ]
          },
          "metadata": {
            "tags": []
          }
        },
        {
          "output_type": "stream",
          "text": [
            "DenseMatrix([[0. , 0. , 1. ],\n",
            "             [0.5, 0. , 0. ],\n",
            "             [0.5, 1. , 0. ]])\n",
            "DenseMatrix([[0.33333333],\n",
            "             [0.33333333],\n",
            "             [0.33333333]])\n",
            "DenseMatrix([[0.33333333],\n",
            "             [0.16666667],\n",
            "             [0.5       ]])\n",
            "DenseMatrix([[0.5       ],\n",
            "             [0.16666667],\n",
            "             [0.33333333]])\n",
            "DenseMatrix([[0.33333333],\n",
            "             [0.25      ],\n",
            "             [0.41666667]])\n",
            "DenseMatrix([[0.41666667],\n",
            "             [0.16666667],\n",
            "             [0.41666667]])\n",
            "DenseMatrix([[0.41666667],\n",
            "             [0.20833333],\n",
            "             [0.375     ]])\n",
            "DenseMatrix([[0.375     ],\n",
            "             [0.20833333],\n",
            "             [0.41666667]])\n",
            "DenseMatrix([[0.41666667],\n",
            "             [0.1875    ],\n",
            "             [0.39583333]])\n",
            "DenseMatrix([[0.39583333],\n",
            "             [0.20833333],\n",
            "             [0.39583333]])\n",
            "DenseMatrix([[0.39583333],\n",
            "             [0.19791667],\n",
            "             [0.40625   ]])\n",
            "DenseMatrix([[0.40625   ],\n",
            "             [0.19791667],\n",
            "             [0.39583333]])\n",
            "DenseMatrix([[0.39583333],\n",
            "             [0.203125  ],\n",
            "             [0.40104167]])\n",
            "DenseMatrix([[0.40104167],\n",
            "             [0.19791667],\n",
            "             [0.40104167]])\n",
            "DenseMatrix([[0.40104167],\n",
            "             [0.20052083],\n",
            "             [0.3984375 ]])\n",
            "DenseMatrix([[0.3984375 ],\n",
            "             [0.20052083],\n",
            "             [0.40104167]])\n",
            "DenseMatrix([[0.40104167],\n",
            "             [0.19921875],\n",
            "             [0.39973958]])"
          ],
          "name": "stdout"
        }
      ]
    },
    {
      "cell_type": "code",
      "metadata": {
        "id": "oq_Ej3laG9t5",
        "outputId": "adafaa27-f00e-4a68-ae9a-482ff06a6e54",
        "colab": {
          "base_uri": "https://localhost:8080/",
          "height": 36,
          "referenced_widgets": [
            "18648ce5440542d697ca33e3dd6c20dc",
            "d8c3976e671247188ac5be3100cfdfab",
            "4b1a47db295241bdbf6a6e45d3ee4fd7"
          ]
        }
      },
      "source": [
        "%%spark\n",
        "weighted_edges.take(10)"
      ],
      "execution_count": null,
      "outputs": [
        {
          "output_type": "display_data",
          "data": {
            "application/vnd.jupyter.widget-view+json": {
              "model_id": "18648ce5440542d697ca33e3dd6c20dc",
              "version_minor": 0,
              "version_major": 2
            },
            "text/plain": [
              "FloatProgress(value=0.0, bar_style='info', description='Progress:', layout=Layout(height='25px', width='50%'),…"
            ]
          },
          "metadata": {
            "tags": []
          }
        },
        {
          "output_type": "stream",
          "text": [
            "[Row(from=1, to=2, weight=1.0), Row(from=2, to=0, weight=1.0), Row(from=0, to=1, weight=0.5), Row(from=0, to=2, weight=0.5)]"
          ],
          "name": "stdout"
        }
      ]
    },
    {
      "cell_type": "code",
      "metadata": {
        "id": "zfslazDpKr3T"
      },
      "source": [
        "#!/bin/bash\n",
        "sudo pip3 install requests dill nltk scipy scikit-learn pandas==1.0.5 matplotlib networkx seaborn plotly penngrader mypackage1 mypackage2"
      ],
      "execution_count": null,
      "outputs": []
    }
  ]
}