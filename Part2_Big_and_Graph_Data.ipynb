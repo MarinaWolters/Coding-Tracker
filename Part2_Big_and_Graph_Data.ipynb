{
  "nbformat": 4,
  "nbformat_minor": 0,
  "metadata": {
    "colab": {
      "provenance": [],
      "include_colab_link": true
    },
    "kernelspec": {
      "name": "python3",
      "display_name": "Python 3"
    },
    "widgets": {
      "application/vnd.jupyter.widget-state+json": {
        "7e8e6da95b004f3e8315b0c96cc4ad09": {
          "model_module": "@jupyter-widgets/controls",
          "model_name": "FloatProgressModel",
          "model_module_version": "1.5.0",
          "state": {
            "_view_name": "ProgressView",
            "style": "IPY_MODEL_e04dafa726f842449d7bd88ded7748d5",
            "_dom_classes": [],
            "description": "Progress:",
            "_model_name": "FloatProgressModel",
            "bar_style": "info",
            "max": 1,
            "_view_module": "@jupyter-widgets/controls",
            "_model_module_version": "1.5.0",
            "value": 0,
            "_view_count": null,
            "_view_module_version": "1.5.0",
            "orientation": "horizontal",
            "min": 0,
            "description_tooltip": null,
            "_model_module": "@jupyter-widgets/controls",
            "layout": "IPY_MODEL_9fa6555ffb1a49c9a09552f2737582dc"
          }
        },
        "e04dafa726f842449d7bd88ded7748d5": {
          "model_module": "@jupyter-widgets/controls",
          "model_name": "ProgressStyleModel",
          "model_module_version": "1.5.0",
          "state": {
            "_view_name": "StyleView",
            "_model_name": "ProgressStyleModel",
            "description_width": "",
            "_view_module": "@jupyter-widgets/base",
            "_model_module_version": "1.5.0",
            "_view_count": null,
            "_view_module_version": "1.2.0",
            "bar_color": null,
            "_model_module": "@jupyter-widgets/controls"
          }
        },
        "9fa6555ffb1a49c9a09552f2737582dc": {
          "model_module": "@jupyter-widgets/base",
          "model_name": "LayoutModel",
          "model_module_version": "1.2.0",
          "state": {
            "_view_name": "LayoutView",
            "grid_template_rows": null,
            "right": null,
            "justify_content": null,
            "_view_module": "@jupyter-widgets/base",
            "overflow": null,
            "_model_module_version": "1.2.0",
            "_view_count": null,
            "flex_flow": null,
            "width": "50%",
            "min_width": null,
            "border": null,
            "align_items": null,
            "bottom": null,
            "_model_module": "@jupyter-widgets/base",
            "top": null,
            "grid_column": null,
            "overflow_y": null,
            "overflow_x": null,
            "grid_auto_flow": null,
            "grid_area": null,
            "grid_template_columns": null,
            "flex": null,
            "_model_name": "LayoutModel",
            "justify_items": null,
            "grid_row": null,
            "max_height": null,
            "align_content": null,
            "visibility": null,
            "align_self": null,
            "height": "25px",
            "min_height": null,
            "padding": null,
            "grid_auto_rows": null,
            "grid_gap": null,
            "max_width": null,
            "order": null,
            "_view_module_version": "1.2.0",
            "grid_template_areas": null,
            "object_position": null,
            "object_fit": null,
            "grid_auto_columns": null,
            "margin": null,
            "display": null,
            "left": null
          }
        },
        "f4dc35d514d644d081691d136c6ee63a": {
          "model_module": "@jupyter-widgets/controls",
          "model_name": "FloatProgressModel",
          "model_module_version": "1.5.0",
          "state": {
            "_view_name": "ProgressView",
            "style": "IPY_MODEL_acc3c6b7adde44d9b0341a4ace0b2130",
            "_dom_classes": [],
            "description": "Progress:",
            "_model_name": "FloatProgressModel",
            "bar_style": "info",
            "max": 1,
            "_view_module": "@jupyter-widgets/controls",
            "_model_module_version": "1.5.0",
            "value": 0,
            "_view_count": null,
            "_view_module_version": "1.5.0",
            "orientation": "horizontal",
            "min": 0,
            "description_tooltip": null,
            "_model_module": "@jupyter-widgets/controls",
            "layout": "IPY_MODEL_d29fbd33c2f04d94870e830625015c13"
          }
        },
        "acc3c6b7adde44d9b0341a4ace0b2130": {
          "model_module": "@jupyter-widgets/controls",
          "model_name": "ProgressStyleModel",
          "model_module_version": "1.5.0",
          "state": {
            "_view_name": "StyleView",
            "_model_name": "ProgressStyleModel",
            "description_width": "",
            "_view_module": "@jupyter-widgets/base",
            "_model_module_version": "1.5.0",
            "_view_count": null,
            "_view_module_version": "1.2.0",
            "bar_color": null,
            "_model_module": "@jupyter-widgets/controls"
          }
        },
        "d29fbd33c2f04d94870e830625015c13": {
          "model_module": "@jupyter-widgets/base",
          "model_name": "LayoutModel",
          "model_module_version": "1.2.0",
          "state": {
            "_view_name": "LayoutView",
            "grid_template_rows": null,
            "right": null,
            "justify_content": null,
            "_view_module": "@jupyter-widgets/base",
            "overflow": null,
            "_model_module_version": "1.2.0",
            "_view_count": null,
            "flex_flow": null,
            "width": "50%",
            "min_width": null,
            "border": null,
            "align_items": null,
            "bottom": null,
            "_model_module": "@jupyter-widgets/base",
            "top": null,
            "grid_column": null,
            "overflow_y": null,
            "overflow_x": null,
            "grid_auto_flow": null,
            "grid_area": null,
            "grid_template_columns": null,
            "flex": null,
            "_model_name": "LayoutModel",
            "justify_items": null,
            "grid_row": null,
            "max_height": null,
            "align_content": null,
            "visibility": null,
            "align_self": null,
            "height": "25px",
            "min_height": null,
            "padding": null,
            "grid_auto_rows": null,
            "grid_gap": null,
            "max_width": null,
            "order": null,
            "_view_module_version": "1.2.0",
            "grid_template_areas": null,
            "object_position": null,
            "object_fit": null,
            "grid_auto_columns": null,
            "margin": null,
            "display": null,
            "left": null
          }
        },
        "58315c28270846238ad51df15a46a46a": {
          "model_module": "@jupyter-widgets/controls",
          "model_name": "FloatProgressModel",
          "model_module_version": "1.5.0",
          "state": {
            "_view_name": "ProgressView",
            "style": "IPY_MODEL_5b373f40df4c47bfa5070e33b099b5fa",
            "_dom_classes": [],
            "description": "Progress:",
            "_model_name": "FloatProgressModel",
            "bar_style": "info",
            "max": 1,
            "_view_module": "@jupyter-widgets/controls",
            "_model_module_version": "1.5.0",
            "value": 0,
            "_view_count": null,
            "_view_module_version": "1.5.0",
            "orientation": "horizontal",
            "min": 0,
            "description_tooltip": null,
            "_model_module": "@jupyter-widgets/controls",
            "layout": "IPY_MODEL_7f15881c11a648268e319eccc19a0900"
          }
        },
        "5b373f40df4c47bfa5070e33b099b5fa": {
          "model_module": "@jupyter-widgets/controls",
          "model_name": "ProgressStyleModel",
          "model_module_version": "1.5.0",
          "state": {
            "_view_name": "StyleView",
            "_model_name": "ProgressStyleModel",
            "description_width": "",
            "_view_module": "@jupyter-widgets/base",
            "_model_module_version": "1.5.0",
            "_view_count": null,
            "_view_module_version": "1.2.0",
            "bar_color": null,
            "_model_module": "@jupyter-widgets/controls"
          }
        },
        "7f15881c11a648268e319eccc19a0900": {
          "model_module": "@jupyter-widgets/base",
          "model_name": "LayoutModel",
          "model_module_version": "1.2.0",
          "state": {
            "_view_name": "LayoutView",
            "grid_template_rows": null,
            "right": null,
            "justify_content": null,
            "_view_module": "@jupyter-widgets/base",
            "overflow": null,
            "_model_module_version": "1.2.0",
            "_view_count": null,
            "flex_flow": null,
            "width": "50%",
            "min_width": null,
            "border": null,
            "align_items": null,
            "bottom": null,
            "_model_module": "@jupyter-widgets/base",
            "top": null,
            "grid_column": null,
            "overflow_y": null,
            "overflow_x": null,
            "grid_auto_flow": null,
            "grid_area": null,
            "grid_template_columns": null,
            "flex": null,
            "_model_name": "LayoutModel",
            "justify_items": null,
            "grid_row": null,
            "max_height": null,
            "align_content": null,
            "visibility": null,
            "align_self": null,
            "height": "25px",
            "min_height": null,
            "padding": null,
            "grid_auto_rows": null,
            "grid_gap": null,
            "max_width": null,
            "order": null,
            "_view_module_version": "1.2.0",
            "grid_template_areas": null,
            "object_position": null,
            "object_fit": null,
            "grid_auto_columns": null,
            "margin": null,
            "display": null,
            "left": null
          }
        },
        "18cc01d5a9674559a94eaf82fa452465": {
          "model_module": "@jupyter-widgets/controls",
          "model_name": "FloatProgressModel",
          "model_module_version": "1.5.0",
          "state": {
            "_view_name": "ProgressView",
            "style": "IPY_MODEL_91191efcad35483b97542624f66010f2",
            "_dom_classes": [],
            "description": "Progress:",
            "_model_name": "FloatProgressModel",
            "bar_style": "info",
            "max": 1,
            "_view_module": "@jupyter-widgets/controls",
            "_model_module_version": "1.5.0",
            "value": 0,
            "_view_count": null,
            "_view_module_version": "1.5.0",
            "orientation": "horizontal",
            "min": 0,
            "description_tooltip": null,
            "_model_module": "@jupyter-widgets/controls",
            "layout": "IPY_MODEL_b6b80d80a39f4b078e5f90df889e1663"
          }
        },
        "91191efcad35483b97542624f66010f2": {
          "model_module": "@jupyter-widgets/controls",
          "model_name": "ProgressStyleModel",
          "model_module_version": "1.5.0",
          "state": {
            "_view_name": "StyleView",
            "_model_name": "ProgressStyleModel",
            "description_width": "",
            "_view_module": "@jupyter-widgets/base",
            "_model_module_version": "1.5.0",
            "_view_count": null,
            "_view_module_version": "1.2.0",
            "bar_color": null,
            "_model_module": "@jupyter-widgets/controls"
          }
        },
        "b6b80d80a39f4b078e5f90df889e1663": {
          "model_module": "@jupyter-widgets/base",
          "model_name": "LayoutModel",
          "model_module_version": "1.2.0",
          "state": {
            "_view_name": "LayoutView",
            "grid_template_rows": null,
            "right": null,
            "justify_content": null,
            "_view_module": "@jupyter-widgets/base",
            "overflow": null,
            "_model_module_version": "1.2.0",
            "_view_count": null,
            "flex_flow": null,
            "width": "50%",
            "min_width": null,
            "border": null,
            "align_items": null,
            "bottom": null,
            "_model_module": "@jupyter-widgets/base",
            "top": null,
            "grid_column": null,
            "overflow_y": null,
            "overflow_x": null,
            "grid_auto_flow": null,
            "grid_area": null,
            "grid_template_columns": null,
            "flex": null,
            "_model_name": "LayoutModel",
            "justify_items": null,
            "grid_row": null,
            "max_height": null,
            "align_content": null,
            "visibility": null,
            "align_self": null,
            "height": "25px",
            "min_height": null,
            "padding": null,
            "grid_auto_rows": null,
            "grid_gap": null,
            "max_width": null,
            "order": null,
            "_view_module_version": "1.2.0",
            "grid_template_areas": null,
            "object_position": null,
            "object_fit": null,
            "grid_auto_columns": null,
            "margin": null,
            "display": null,
            "left": null
          }
        },
        "52370799b333421fa9792bb64d012d92": {
          "model_module": "@jupyter-widgets/controls",
          "model_name": "FloatProgressModel",
          "model_module_version": "1.5.0",
          "state": {
            "_view_name": "ProgressView",
            "style": "IPY_MODEL_52157427400446dcbd0ede77665f060c",
            "_dom_classes": [],
            "description": "Progress:",
            "_model_name": "FloatProgressModel",
            "bar_style": "info",
            "max": 1,
            "_view_module": "@jupyter-widgets/controls",
            "_model_module_version": "1.5.0",
            "value": 0,
            "_view_count": null,
            "_view_module_version": "1.5.0",
            "orientation": "horizontal",
            "min": 0,
            "description_tooltip": null,
            "_model_module": "@jupyter-widgets/controls",
            "layout": "IPY_MODEL_77ff349274e048718f6bffe48ff8de54"
          }
        },
        "52157427400446dcbd0ede77665f060c": {
          "model_module": "@jupyter-widgets/controls",
          "model_name": "ProgressStyleModel",
          "model_module_version": "1.5.0",
          "state": {
            "_view_name": "StyleView",
            "_model_name": "ProgressStyleModel",
            "description_width": "",
            "_view_module": "@jupyter-widgets/base",
            "_model_module_version": "1.5.0",
            "_view_count": null,
            "_view_module_version": "1.2.0",
            "bar_color": null,
            "_model_module": "@jupyter-widgets/controls"
          }
        },
        "77ff349274e048718f6bffe48ff8de54": {
          "model_module": "@jupyter-widgets/base",
          "model_name": "LayoutModel",
          "model_module_version": "1.2.0",
          "state": {
            "_view_name": "LayoutView",
            "grid_template_rows": null,
            "right": null,
            "justify_content": null,
            "_view_module": "@jupyter-widgets/base",
            "overflow": null,
            "_model_module_version": "1.2.0",
            "_view_count": null,
            "flex_flow": null,
            "width": "50%",
            "min_width": null,
            "border": null,
            "align_items": null,
            "bottom": null,
            "_model_module": "@jupyter-widgets/base",
            "top": null,
            "grid_column": null,
            "overflow_y": null,
            "overflow_x": null,
            "grid_auto_flow": null,
            "grid_area": null,
            "grid_template_columns": null,
            "flex": null,
            "_model_name": "LayoutModel",
            "justify_items": null,
            "grid_row": null,
            "max_height": null,
            "align_content": null,
            "visibility": null,
            "align_self": null,
            "height": "25px",
            "min_height": null,
            "padding": null,
            "grid_auto_rows": null,
            "grid_gap": null,
            "max_width": null,
            "order": null,
            "_view_module_version": "1.2.0",
            "grid_template_areas": null,
            "object_position": null,
            "object_fit": null,
            "grid_auto_columns": null,
            "margin": null,
            "display": null,
            "left": null
          }
        },
        "b0387c48e1db4caa8af4f68b4080434b": {
          "model_module": "@jupyter-widgets/controls",
          "model_name": "FloatProgressModel",
          "model_module_version": "1.5.0",
          "state": {
            "_view_name": "ProgressView",
            "style": "IPY_MODEL_f25471b14a7e4012aa9c9cf1b995fc61",
            "_dom_classes": [],
            "description": "Progress:",
            "_model_name": "FloatProgressModel",
            "bar_style": "info",
            "max": 1,
            "_view_module": "@jupyter-widgets/controls",
            "_model_module_version": "1.5.0",
            "value": 0,
            "_view_count": null,
            "_view_module_version": "1.5.0",
            "orientation": "horizontal",
            "min": 0,
            "description_tooltip": null,
            "_model_module": "@jupyter-widgets/controls",
            "layout": "IPY_MODEL_5294cb07dc694c2688bd80c9aacb6a7c"
          }
        },
        "f25471b14a7e4012aa9c9cf1b995fc61": {
          "model_module": "@jupyter-widgets/controls",
          "model_name": "ProgressStyleModel",
          "model_module_version": "1.5.0",
          "state": {
            "_view_name": "StyleView",
            "_model_name": "ProgressStyleModel",
            "description_width": "",
            "_view_module": "@jupyter-widgets/base",
            "_model_module_version": "1.5.0",
            "_view_count": null,
            "_view_module_version": "1.2.0",
            "bar_color": null,
            "_model_module": "@jupyter-widgets/controls"
          }
        },
        "5294cb07dc694c2688bd80c9aacb6a7c": {
          "model_module": "@jupyter-widgets/base",
          "model_name": "LayoutModel",
          "model_module_version": "1.2.0",
          "state": {
            "_view_name": "LayoutView",
            "grid_template_rows": null,
            "right": null,
            "justify_content": null,
            "_view_module": "@jupyter-widgets/base",
            "overflow": null,
            "_model_module_version": "1.2.0",
            "_view_count": null,
            "flex_flow": null,
            "width": "50%",
            "min_width": null,
            "border": null,
            "align_items": null,
            "bottom": null,
            "_model_module": "@jupyter-widgets/base",
            "top": null,
            "grid_column": null,
            "overflow_y": null,
            "overflow_x": null,
            "grid_auto_flow": null,
            "grid_area": null,
            "grid_template_columns": null,
            "flex": null,
            "_model_name": "LayoutModel",
            "justify_items": null,
            "grid_row": null,
            "max_height": null,
            "align_content": null,
            "visibility": null,
            "align_self": null,
            "height": "25px",
            "min_height": null,
            "padding": null,
            "grid_auto_rows": null,
            "grid_gap": null,
            "max_width": null,
            "order": null,
            "_view_module_version": "1.2.0",
            "grid_template_areas": null,
            "object_position": null,
            "object_fit": null,
            "grid_auto_columns": null,
            "margin": null,
            "display": null,
            "left": null
          }
        },
        "1db8338193c84f5aa197f7c037688859": {
          "model_module": "@jupyter-widgets/controls",
          "model_name": "FloatProgressModel",
          "model_module_version": "1.5.0",
          "state": {
            "_view_name": "ProgressView",
            "style": "IPY_MODEL_e40731a399964fd5af957c37adce2dba",
            "_dom_classes": [],
            "description": "Progress:",
            "_model_name": "FloatProgressModel",
            "bar_style": "info",
            "max": 1,
            "_view_module": "@jupyter-widgets/controls",
            "_model_module_version": "1.5.0",
            "value": 0,
            "_view_count": null,
            "_view_module_version": "1.5.0",
            "orientation": "horizontal",
            "min": 0,
            "description_tooltip": null,
            "_model_module": "@jupyter-widgets/controls",
            "layout": "IPY_MODEL_92676bd127d2416fb8d7c1279d0c5021"
          }
        },
        "e40731a399964fd5af957c37adce2dba": {
          "model_module": "@jupyter-widgets/controls",
          "model_name": "ProgressStyleModel",
          "model_module_version": "1.5.0",
          "state": {
            "_view_name": "StyleView",
            "_model_name": "ProgressStyleModel",
            "description_width": "",
            "_view_module": "@jupyter-widgets/base",
            "_model_module_version": "1.5.0",
            "_view_count": null,
            "_view_module_version": "1.2.0",
            "bar_color": null,
            "_model_module": "@jupyter-widgets/controls"
          }
        },
        "92676bd127d2416fb8d7c1279d0c5021": {
          "model_module": "@jupyter-widgets/base",
          "model_name": "LayoutModel",
          "model_module_version": "1.2.0",
          "state": {
            "_view_name": "LayoutView",
            "grid_template_rows": null,
            "right": null,
            "justify_content": null,
            "_view_module": "@jupyter-widgets/base",
            "overflow": null,
            "_model_module_version": "1.2.0",
            "_view_count": null,
            "flex_flow": null,
            "width": "50%",
            "min_width": null,
            "border": null,
            "align_items": null,
            "bottom": null,
            "_model_module": "@jupyter-widgets/base",
            "top": null,
            "grid_column": null,
            "overflow_y": null,
            "overflow_x": null,
            "grid_auto_flow": null,
            "grid_area": null,
            "grid_template_columns": null,
            "flex": null,
            "_model_name": "LayoutModel",
            "justify_items": null,
            "grid_row": null,
            "max_height": null,
            "align_content": null,
            "visibility": null,
            "align_self": null,
            "height": "25px",
            "min_height": null,
            "padding": null,
            "grid_auto_rows": null,
            "grid_gap": null,
            "max_width": null,
            "order": null,
            "_view_module_version": "1.2.0",
            "grid_template_areas": null,
            "object_position": null,
            "object_fit": null,
            "grid_auto_columns": null,
            "margin": null,
            "display": null,
            "left": null
          }
        },
        "cb947f8a6a564b2a9f5bbe8b70d05629": {
          "model_module": "@jupyter-widgets/controls",
          "model_name": "FloatProgressModel",
          "model_module_version": "1.5.0",
          "state": {
            "_view_name": "ProgressView",
            "style": "IPY_MODEL_83293d2316f0480587e53cf6b06f64cf",
            "_dom_classes": [],
            "description": "Progress:",
            "_model_name": "FloatProgressModel",
            "bar_style": "info",
            "max": 1,
            "_view_module": "@jupyter-widgets/controls",
            "_model_module_version": "1.5.0",
            "value": 0,
            "_view_count": null,
            "_view_module_version": "1.5.0",
            "orientation": "horizontal",
            "min": 0,
            "description_tooltip": null,
            "_model_module": "@jupyter-widgets/controls",
            "layout": "IPY_MODEL_56a6eb86941e4a0eabd62cd3ee0a8951"
          }
        },
        "83293d2316f0480587e53cf6b06f64cf": {
          "model_module": "@jupyter-widgets/controls",
          "model_name": "ProgressStyleModel",
          "model_module_version": "1.5.0",
          "state": {
            "_view_name": "StyleView",
            "_model_name": "ProgressStyleModel",
            "description_width": "",
            "_view_module": "@jupyter-widgets/base",
            "_model_module_version": "1.5.0",
            "_view_count": null,
            "_view_module_version": "1.2.0",
            "bar_color": null,
            "_model_module": "@jupyter-widgets/controls"
          }
        },
        "56a6eb86941e4a0eabd62cd3ee0a8951": {
          "model_module": "@jupyter-widgets/base",
          "model_name": "LayoutModel",
          "model_module_version": "1.2.0",
          "state": {
            "_view_name": "LayoutView",
            "grid_template_rows": null,
            "right": null,
            "justify_content": null,
            "_view_module": "@jupyter-widgets/base",
            "overflow": null,
            "_model_module_version": "1.2.0",
            "_view_count": null,
            "flex_flow": null,
            "width": "50%",
            "min_width": null,
            "border": null,
            "align_items": null,
            "bottom": null,
            "_model_module": "@jupyter-widgets/base",
            "top": null,
            "grid_column": null,
            "overflow_y": null,
            "overflow_x": null,
            "grid_auto_flow": null,
            "grid_area": null,
            "grid_template_columns": null,
            "flex": null,
            "_model_name": "LayoutModel",
            "justify_items": null,
            "grid_row": null,
            "max_height": null,
            "align_content": null,
            "visibility": null,
            "align_self": null,
            "height": "25px",
            "min_height": null,
            "padding": null,
            "grid_auto_rows": null,
            "grid_gap": null,
            "max_width": null,
            "order": null,
            "_view_module_version": "1.2.0",
            "grid_template_areas": null,
            "object_position": null,
            "object_fit": null,
            "grid_auto_columns": null,
            "margin": null,
            "display": null,
            "left": null
          }
        },
        "25c876c2055a486699b6866a4bd2e13c": {
          "model_module": "@jupyter-widgets/controls",
          "model_name": "FloatProgressModel",
          "model_module_version": "1.5.0",
          "state": {
            "_view_name": "ProgressView",
            "style": "IPY_MODEL_27343defcfc34823bcf0e65de3cc8f31",
            "_dom_classes": [],
            "description": "Progress:",
            "_model_name": "FloatProgressModel",
            "bar_style": "info",
            "max": 1,
            "_view_module": "@jupyter-widgets/controls",
            "_model_module_version": "1.5.0",
            "value": 0,
            "_view_count": null,
            "_view_module_version": "1.5.0",
            "orientation": "horizontal",
            "min": 0,
            "description_tooltip": null,
            "_model_module": "@jupyter-widgets/controls",
            "layout": "IPY_MODEL_ed7c96d9d4604c96a3f947e4bbb56d19"
          }
        },
        "27343defcfc34823bcf0e65de3cc8f31": {
          "model_module": "@jupyter-widgets/controls",
          "model_name": "ProgressStyleModel",
          "model_module_version": "1.5.0",
          "state": {
            "_view_name": "StyleView",
            "_model_name": "ProgressStyleModel",
            "description_width": "",
            "_view_module": "@jupyter-widgets/base",
            "_model_module_version": "1.5.0",
            "_view_count": null,
            "_view_module_version": "1.2.0",
            "bar_color": null,
            "_model_module": "@jupyter-widgets/controls"
          }
        },
        "ed7c96d9d4604c96a3f947e4bbb56d19": {
          "model_module": "@jupyter-widgets/base",
          "model_name": "LayoutModel",
          "model_module_version": "1.2.0",
          "state": {
            "_view_name": "LayoutView",
            "grid_template_rows": null,
            "right": null,
            "justify_content": null,
            "_view_module": "@jupyter-widgets/base",
            "overflow": null,
            "_model_module_version": "1.2.0",
            "_view_count": null,
            "flex_flow": null,
            "width": "50%",
            "min_width": null,
            "border": null,
            "align_items": null,
            "bottom": null,
            "_model_module": "@jupyter-widgets/base",
            "top": null,
            "grid_column": null,
            "overflow_y": null,
            "overflow_x": null,
            "grid_auto_flow": null,
            "grid_area": null,
            "grid_template_columns": null,
            "flex": null,
            "_model_name": "LayoutModel",
            "justify_items": null,
            "grid_row": null,
            "max_height": null,
            "align_content": null,
            "visibility": null,
            "align_self": null,
            "height": "25px",
            "min_height": null,
            "padding": null,
            "grid_auto_rows": null,
            "grid_gap": null,
            "max_width": null,
            "order": null,
            "_view_module_version": "1.2.0",
            "grid_template_areas": null,
            "object_position": null,
            "object_fit": null,
            "grid_auto_columns": null,
            "margin": null,
            "display": null,
            "left": null
          }
        },
        "df29f82f6b5b46dd9c75ebd6ddd28a89": {
          "model_module": "@jupyter-widgets/controls",
          "model_name": "FloatProgressModel",
          "model_module_version": "1.5.0",
          "state": {
            "_view_name": "ProgressView",
            "style": "IPY_MODEL_c08772fc25d144f79f58dbb03bd836ef",
            "_dom_classes": [],
            "description": "Progress:",
            "_model_name": "FloatProgressModel",
            "bar_style": "info",
            "max": 1,
            "_view_module": "@jupyter-widgets/controls",
            "_model_module_version": "1.5.0",
            "value": 0,
            "_view_count": null,
            "_view_module_version": "1.5.0",
            "orientation": "horizontal",
            "min": 0,
            "description_tooltip": null,
            "_model_module": "@jupyter-widgets/controls",
            "layout": "IPY_MODEL_bbc496e64ff74dcc9e0fceda21d227f8"
          }
        },
        "c08772fc25d144f79f58dbb03bd836ef": {
          "model_module": "@jupyter-widgets/controls",
          "model_name": "ProgressStyleModel",
          "model_module_version": "1.5.0",
          "state": {
            "_view_name": "StyleView",
            "_model_name": "ProgressStyleModel",
            "description_width": "",
            "_view_module": "@jupyter-widgets/base",
            "_model_module_version": "1.5.0",
            "_view_count": null,
            "_view_module_version": "1.2.0",
            "bar_color": null,
            "_model_module": "@jupyter-widgets/controls"
          }
        },
        "bbc496e64ff74dcc9e0fceda21d227f8": {
          "model_module": "@jupyter-widgets/base",
          "model_name": "LayoutModel",
          "model_module_version": "1.2.0",
          "state": {
            "_view_name": "LayoutView",
            "grid_template_rows": null,
            "right": null,
            "justify_content": null,
            "_view_module": "@jupyter-widgets/base",
            "overflow": null,
            "_model_module_version": "1.2.0",
            "_view_count": null,
            "flex_flow": null,
            "width": "50%",
            "min_width": null,
            "border": null,
            "align_items": null,
            "bottom": null,
            "_model_module": "@jupyter-widgets/base",
            "top": null,
            "grid_column": null,
            "overflow_y": null,
            "overflow_x": null,
            "grid_auto_flow": null,
            "grid_area": null,
            "grid_template_columns": null,
            "flex": null,
            "_model_name": "LayoutModel",
            "justify_items": null,
            "grid_row": null,
            "max_height": null,
            "align_content": null,
            "visibility": null,
            "align_self": null,
            "height": "25px",
            "min_height": null,
            "padding": null,
            "grid_auto_rows": null,
            "grid_gap": null,
            "max_width": null,
            "order": null,
            "_view_module_version": "1.2.0",
            "grid_template_areas": null,
            "object_position": null,
            "object_fit": null,
            "grid_auto_columns": null,
            "margin": null,
            "display": null,
            "left": null
          }
        },
        "3ef8f81f68b242e3b424aa091fb93126": {
          "model_module": "@jupyter-widgets/controls",
          "model_name": "FloatProgressModel",
          "model_module_version": "1.5.0",
          "state": {
            "_view_name": "ProgressView",
            "style": "IPY_MODEL_645b041509434d489b84328fa2c893b0",
            "_dom_classes": [],
            "description": "Progress:",
            "_model_name": "FloatProgressModel",
            "bar_style": "info",
            "max": 1,
            "_view_module": "@jupyter-widgets/controls",
            "_model_module_version": "1.5.0",
            "value": 0.6666666666666666,
            "_view_count": null,
            "_view_module_version": "1.5.0",
            "orientation": "horizontal",
            "min": 0,
            "description_tooltip": null,
            "_model_module": "@jupyter-widgets/controls",
            "layout": "IPY_MODEL_1a2fe86c5d1646a2a66bc14062e8acab"
          }
        },
        "645b041509434d489b84328fa2c893b0": {
          "model_module": "@jupyter-widgets/controls",
          "model_name": "ProgressStyleModel",
          "model_module_version": "1.5.0",
          "state": {
            "_view_name": "StyleView",
            "_model_name": "ProgressStyleModel",
            "description_width": "",
            "_view_module": "@jupyter-widgets/base",
            "_model_module_version": "1.5.0",
            "_view_count": null,
            "_view_module_version": "1.2.0",
            "bar_color": null,
            "_model_module": "@jupyter-widgets/controls"
          }
        },
        "1a2fe86c5d1646a2a66bc14062e8acab": {
          "model_module": "@jupyter-widgets/base",
          "model_name": "LayoutModel",
          "model_module_version": "1.2.0",
          "state": {
            "_view_name": "LayoutView",
            "grid_template_rows": null,
            "right": null,
            "justify_content": null,
            "_view_module": "@jupyter-widgets/base",
            "overflow": null,
            "_model_module_version": "1.2.0",
            "_view_count": null,
            "flex_flow": null,
            "width": "50%",
            "min_width": null,
            "border": null,
            "align_items": null,
            "bottom": null,
            "_model_module": "@jupyter-widgets/base",
            "top": null,
            "grid_column": null,
            "overflow_y": null,
            "overflow_x": null,
            "grid_auto_flow": null,
            "grid_area": null,
            "grid_template_columns": null,
            "flex": null,
            "_model_name": "LayoutModel",
            "justify_items": null,
            "grid_row": null,
            "max_height": null,
            "align_content": null,
            "visibility": null,
            "align_self": null,
            "height": "25px",
            "min_height": null,
            "padding": null,
            "grid_auto_rows": null,
            "grid_gap": null,
            "max_width": null,
            "order": null,
            "_view_module_version": "1.2.0",
            "grid_template_areas": null,
            "object_position": null,
            "object_fit": null,
            "grid_auto_columns": null,
            "margin": null,
            "display": null,
            "left": null
          }
        },
        "4f5f57bf453d478fa36c3b9e0027538a": {
          "model_module": "@jupyter-widgets/controls",
          "model_name": "FloatProgressModel",
          "model_module_version": "1.5.0",
          "state": {
            "_view_name": "ProgressView",
            "style": "IPY_MODEL_7e2ffe5f6ff34f1fa9a66675f41896a5",
            "_dom_classes": [],
            "description": "Progress:",
            "_model_name": "FloatProgressModel",
            "bar_style": "info",
            "max": 1,
            "_view_module": "@jupyter-widgets/controls",
            "_model_module_version": "1.5.0",
            "value": 0.6666666666666666,
            "_view_count": null,
            "_view_module_version": "1.5.0",
            "orientation": "horizontal",
            "min": 0,
            "description_tooltip": null,
            "_model_module": "@jupyter-widgets/controls",
            "layout": "IPY_MODEL_094cc881ac394e2383ac66152c3a787a"
          }
        },
        "7e2ffe5f6ff34f1fa9a66675f41896a5": {
          "model_module": "@jupyter-widgets/controls",
          "model_name": "ProgressStyleModel",
          "model_module_version": "1.5.0",
          "state": {
            "_view_name": "StyleView",
            "_model_name": "ProgressStyleModel",
            "description_width": "",
            "_view_module": "@jupyter-widgets/base",
            "_model_module_version": "1.5.0",
            "_view_count": null,
            "_view_module_version": "1.2.0",
            "bar_color": null,
            "_model_module": "@jupyter-widgets/controls"
          }
        },
        "094cc881ac394e2383ac66152c3a787a": {
          "model_module": "@jupyter-widgets/base",
          "model_name": "LayoutModel",
          "model_module_version": "1.2.0",
          "state": {
            "_view_name": "LayoutView",
            "grid_template_rows": null,
            "right": null,
            "justify_content": null,
            "_view_module": "@jupyter-widgets/base",
            "overflow": null,
            "_model_module_version": "1.2.0",
            "_view_count": null,
            "flex_flow": null,
            "width": "50%",
            "min_width": null,
            "border": null,
            "align_items": null,
            "bottom": null,
            "_model_module": "@jupyter-widgets/base",
            "top": null,
            "grid_column": null,
            "overflow_y": null,
            "overflow_x": null,
            "grid_auto_flow": null,
            "grid_area": null,
            "grid_template_columns": null,
            "flex": null,
            "_model_name": "LayoutModel",
            "justify_items": null,
            "grid_row": null,
            "max_height": null,
            "align_content": null,
            "visibility": null,
            "align_self": null,
            "height": "25px",
            "min_height": null,
            "padding": null,
            "grid_auto_rows": null,
            "grid_gap": null,
            "max_width": null,
            "order": null,
            "_view_module_version": "1.2.0",
            "grid_template_areas": null,
            "object_position": null,
            "object_fit": null,
            "grid_auto_columns": null,
            "margin": null,
            "display": null,
            "left": null
          }
        },
        "f61be45bcb414152ba7458d9f75b9915": {
          "model_module": "@jupyter-widgets/controls",
          "model_name": "FloatProgressModel",
          "model_module_version": "1.5.0",
          "state": {
            "_view_name": "ProgressView",
            "style": "IPY_MODEL_790f9889e9d749a5b86288b9a49f6fc5",
            "_dom_classes": [],
            "description": "Progress:",
            "_model_name": "FloatProgressModel",
            "bar_style": "info",
            "max": 1,
            "_view_module": "@jupyter-widgets/controls",
            "_model_module_version": "1.5.0",
            "value": 0.5597014925373134,
            "_view_count": null,
            "_view_module_version": "1.5.0",
            "orientation": "horizontal",
            "min": 0,
            "description_tooltip": null,
            "_model_module": "@jupyter-widgets/controls",
            "layout": "IPY_MODEL_8cbbece925004cf8bf96f003defbe360"
          }
        },
        "790f9889e9d749a5b86288b9a49f6fc5": {
          "model_module": "@jupyter-widgets/controls",
          "model_name": "ProgressStyleModel",
          "model_module_version": "1.5.0",
          "state": {
            "_view_name": "StyleView",
            "_model_name": "ProgressStyleModel",
            "description_width": "",
            "_view_module": "@jupyter-widgets/base",
            "_model_module_version": "1.5.0",
            "_view_count": null,
            "_view_module_version": "1.2.0",
            "bar_color": null,
            "_model_module": "@jupyter-widgets/controls"
          }
        },
        "8cbbece925004cf8bf96f003defbe360": {
          "model_module": "@jupyter-widgets/base",
          "model_name": "LayoutModel",
          "model_module_version": "1.2.0",
          "state": {
            "_view_name": "LayoutView",
            "grid_template_rows": null,
            "right": null,
            "justify_content": null,
            "_view_module": "@jupyter-widgets/base",
            "overflow": null,
            "_model_module_version": "1.2.0",
            "_view_count": null,
            "flex_flow": null,
            "width": "50%",
            "min_width": null,
            "border": null,
            "align_items": null,
            "bottom": null,
            "_model_module": "@jupyter-widgets/base",
            "top": null,
            "grid_column": null,
            "overflow_y": null,
            "overflow_x": null,
            "grid_auto_flow": null,
            "grid_area": null,
            "grid_template_columns": null,
            "flex": null,
            "_model_name": "LayoutModel",
            "justify_items": null,
            "grid_row": null,
            "max_height": null,
            "align_content": null,
            "visibility": null,
            "align_self": null,
            "height": "25px",
            "min_height": null,
            "padding": null,
            "grid_auto_rows": null,
            "grid_gap": null,
            "max_width": null,
            "order": null,
            "_view_module_version": "1.2.0",
            "grid_template_areas": null,
            "object_position": null,
            "object_fit": null,
            "grid_auto_columns": null,
            "margin": null,
            "display": null,
            "left": null
          }
        },
        "1a9fef1f0c63432f8532564eb732986b": {
          "model_module": "@jupyter-widgets/controls",
          "model_name": "FloatProgressModel",
          "model_module_version": "1.5.0",
          "state": {
            "_view_name": "ProgressView",
            "style": "IPY_MODEL_26408467714c4f9db4d8e0563e87fc0c",
            "_dom_classes": [],
            "description": "Progress:",
            "_model_name": "FloatProgressModel",
            "bar_style": "info",
            "max": 1,
            "_view_module": "@jupyter-widgets/controls",
            "_model_module_version": "1.5.0",
            "value": 0,
            "_view_count": null,
            "_view_module_version": "1.5.0",
            "orientation": "horizontal",
            "min": 0,
            "description_tooltip": null,
            "_model_module": "@jupyter-widgets/controls",
            "layout": "IPY_MODEL_54104756e7c64d8e93198dd24bc75c3c"
          }
        },
        "26408467714c4f9db4d8e0563e87fc0c": {
          "model_module": "@jupyter-widgets/controls",
          "model_name": "ProgressStyleModel",
          "model_module_version": "1.5.0",
          "state": {
            "_view_name": "StyleView",
            "_model_name": "ProgressStyleModel",
            "description_width": "",
            "_view_module": "@jupyter-widgets/base",
            "_model_module_version": "1.5.0",
            "_view_count": null,
            "_view_module_version": "1.2.0",
            "bar_color": null,
            "_model_module": "@jupyter-widgets/controls"
          }
        },
        "54104756e7c64d8e93198dd24bc75c3c": {
          "model_module": "@jupyter-widgets/base",
          "model_name": "LayoutModel",
          "model_module_version": "1.2.0",
          "state": {
            "_view_name": "LayoutView",
            "grid_template_rows": null,
            "right": null,
            "justify_content": null,
            "_view_module": "@jupyter-widgets/base",
            "overflow": null,
            "_model_module_version": "1.2.0",
            "_view_count": null,
            "flex_flow": null,
            "width": "50%",
            "min_width": null,
            "border": null,
            "align_items": null,
            "bottom": null,
            "_model_module": "@jupyter-widgets/base",
            "top": null,
            "grid_column": null,
            "overflow_y": null,
            "overflow_x": null,
            "grid_auto_flow": null,
            "grid_area": null,
            "grid_template_columns": null,
            "flex": null,
            "_model_name": "LayoutModel",
            "justify_items": null,
            "grid_row": null,
            "max_height": null,
            "align_content": null,
            "visibility": null,
            "align_self": null,
            "height": "25px",
            "min_height": null,
            "padding": null,
            "grid_auto_rows": null,
            "grid_gap": null,
            "max_width": null,
            "order": null,
            "_view_module_version": "1.2.0",
            "grid_template_areas": null,
            "object_position": null,
            "object_fit": null,
            "grid_auto_columns": null,
            "margin": null,
            "display": null,
            "left": null
          }
        },
        "9b331bf8d33546c1976507c9a949b162": {
          "model_module": "@jupyter-widgets/controls",
          "model_name": "FloatProgressModel",
          "model_module_version": "1.5.0",
          "state": {
            "_view_name": "ProgressView",
            "style": "IPY_MODEL_f23e84d04f804fa493c450409f711f62",
            "_dom_classes": [],
            "description": "Progress:",
            "_model_name": "FloatProgressModel",
            "bar_style": "info",
            "max": 1,
            "_view_module": "@jupyter-widgets/controls",
            "_model_module_version": "1.5.0",
            "value": 0,
            "_view_count": null,
            "_view_module_version": "1.5.0",
            "orientation": "horizontal",
            "min": 0,
            "description_tooltip": null,
            "_model_module": "@jupyter-widgets/controls",
            "layout": "IPY_MODEL_47beb8daa57944c690e2404b1eab28a3"
          }
        },
        "f23e84d04f804fa493c450409f711f62": {
          "model_module": "@jupyter-widgets/controls",
          "model_name": "ProgressStyleModel",
          "model_module_version": "1.5.0",
          "state": {
            "_view_name": "StyleView",
            "_model_name": "ProgressStyleModel",
            "description_width": "",
            "_view_module": "@jupyter-widgets/base",
            "_model_module_version": "1.5.0",
            "_view_count": null,
            "_view_module_version": "1.2.0",
            "bar_color": null,
            "_model_module": "@jupyter-widgets/controls"
          }
        },
        "47beb8daa57944c690e2404b1eab28a3": {
          "model_module": "@jupyter-widgets/base",
          "model_name": "LayoutModel",
          "model_module_version": "1.2.0",
          "state": {
            "_view_name": "LayoutView",
            "grid_template_rows": null,
            "right": null,
            "justify_content": null,
            "_view_module": "@jupyter-widgets/base",
            "overflow": null,
            "_model_module_version": "1.2.0",
            "_view_count": null,
            "flex_flow": null,
            "width": "50%",
            "min_width": null,
            "border": null,
            "align_items": null,
            "bottom": null,
            "_model_module": "@jupyter-widgets/base",
            "top": null,
            "grid_column": null,
            "overflow_y": null,
            "overflow_x": null,
            "grid_auto_flow": null,
            "grid_area": null,
            "grid_template_columns": null,
            "flex": null,
            "_model_name": "LayoutModel",
            "justify_items": null,
            "grid_row": null,
            "max_height": null,
            "align_content": null,
            "visibility": null,
            "align_self": null,
            "height": "25px",
            "min_height": null,
            "padding": null,
            "grid_auto_rows": null,
            "grid_gap": null,
            "max_width": null,
            "order": null,
            "_view_module_version": "1.2.0",
            "grid_template_areas": null,
            "object_position": null,
            "object_fit": null,
            "grid_auto_columns": null,
            "margin": null,
            "display": null,
            "left": null
          }
        },
        "ba26b90b0a374b5c805b20bf7298323f": {
          "model_module": "@jupyter-widgets/controls",
          "model_name": "FloatProgressModel",
          "model_module_version": "1.5.0",
          "state": {
            "_view_name": "ProgressView",
            "style": "IPY_MODEL_88bb9547a57a43a0b5635870a83fc34c",
            "_dom_classes": [],
            "description": "Progress:",
            "_model_name": "FloatProgressModel",
            "bar_style": "info",
            "max": 1,
            "_view_module": "@jupyter-widgets/controls",
            "_model_module_version": "1.5.0",
            "value": 0,
            "_view_count": null,
            "_view_module_version": "1.5.0",
            "orientation": "horizontal",
            "min": 0,
            "description_tooltip": null,
            "_model_module": "@jupyter-widgets/controls",
            "layout": "IPY_MODEL_dc369c5d0ca1497c9258f145321567be"
          }
        },
        "88bb9547a57a43a0b5635870a83fc34c": {
          "model_module": "@jupyter-widgets/controls",
          "model_name": "ProgressStyleModel",
          "model_module_version": "1.5.0",
          "state": {
            "_view_name": "StyleView",
            "_model_name": "ProgressStyleModel",
            "description_width": "",
            "_view_module": "@jupyter-widgets/base",
            "_model_module_version": "1.5.0",
            "_view_count": null,
            "_view_module_version": "1.2.0",
            "bar_color": null,
            "_model_module": "@jupyter-widgets/controls"
          }
        },
        "dc369c5d0ca1497c9258f145321567be": {
          "model_module": "@jupyter-widgets/base",
          "model_name": "LayoutModel",
          "model_module_version": "1.2.0",
          "state": {
            "_view_name": "LayoutView",
            "grid_template_rows": null,
            "right": null,
            "justify_content": null,
            "_view_module": "@jupyter-widgets/base",
            "overflow": null,
            "_model_module_version": "1.2.0",
            "_view_count": null,
            "flex_flow": null,
            "width": "50%",
            "min_width": null,
            "border": null,
            "align_items": null,
            "bottom": null,
            "_model_module": "@jupyter-widgets/base",
            "top": null,
            "grid_column": null,
            "overflow_y": null,
            "overflow_x": null,
            "grid_auto_flow": null,
            "grid_area": null,
            "grid_template_columns": null,
            "flex": null,
            "_model_name": "LayoutModel",
            "justify_items": null,
            "grid_row": null,
            "max_height": null,
            "align_content": null,
            "visibility": null,
            "align_self": null,
            "height": "25px",
            "min_height": null,
            "padding": null,
            "grid_auto_rows": null,
            "grid_gap": null,
            "max_width": null,
            "order": null,
            "_view_module_version": "1.2.0",
            "grid_template_areas": null,
            "object_position": null,
            "object_fit": null,
            "grid_auto_columns": null,
            "margin": null,
            "display": null,
            "left": null
          }
        },
        "d5eed17360c64e9a86d232e2f624a043": {
          "model_module": "@jupyter-widgets/controls",
          "model_name": "FloatProgressModel",
          "model_module_version": "1.5.0",
          "state": {
            "_view_name": "ProgressView",
            "style": "IPY_MODEL_efe5db6e3b0e45b78f5b0871c7b2d53c",
            "_dom_classes": [],
            "description": "Progress:",
            "_model_name": "FloatProgressModel",
            "bar_style": "info",
            "max": 1,
            "_view_module": "@jupyter-widgets/controls",
            "_model_module_version": "1.5.0",
            "value": 0,
            "_view_count": null,
            "_view_module_version": "1.5.0",
            "orientation": "horizontal",
            "min": 0,
            "description_tooltip": null,
            "_model_module": "@jupyter-widgets/controls",
            "layout": "IPY_MODEL_242621f4726746cab9e05a3925592ac3"
          }
        },
        "efe5db6e3b0e45b78f5b0871c7b2d53c": {
          "model_module": "@jupyter-widgets/controls",
          "model_name": "ProgressStyleModel",
          "model_module_version": "1.5.0",
          "state": {
            "_view_name": "StyleView",
            "_model_name": "ProgressStyleModel",
            "description_width": "",
            "_view_module": "@jupyter-widgets/base",
            "_model_module_version": "1.5.0",
            "_view_count": null,
            "_view_module_version": "1.2.0",
            "bar_color": null,
            "_model_module": "@jupyter-widgets/controls"
          }
        },
        "242621f4726746cab9e05a3925592ac3": {
          "model_module": "@jupyter-widgets/base",
          "model_name": "LayoutModel",
          "model_module_version": "1.2.0",
          "state": {
            "_view_name": "LayoutView",
            "grid_template_rows": null,
            "right": null,
            "justify_content": null,
            "_view_module": "@jupyter-widgets/base",
            "overflow": null,
            "_model_module_version": "1.2.0",
            "_view_count": null,
            "flex_flow": null,
            "width": "50%",
            "min_width": null,
            "border": null,
            "align_items": null,
            "bottom": null,
            "_model_module": "@jupyter-widgets/base",
            "top": null,
            "grid_column": null,
            "overflow_y": null,
            "overflow_x": null,
            "grid_auto_flow": null,
            "grid_area": null,
            "grid_template_columns": null,
            "flex": null,
            "_model_name": "LayoutModel",
            "justify_items": null,
            "grid_row": null,
            "max_height": null,
            "align_content": null,
            "visibility": null,
            "align_self": null,
            "height": "25px",
            "min_height": null,
            "padding": null,
            "grid_auto_rows": null,
            "grid_gap": null,
            "max_width": null,
            "order": null,
            "_view_module_version": "1.2.0",
            "grid_template_areas": null,
            "object_position": null,
            "object_fit": null,
            "grid_auto_columns": null,
            "margin": null,
            "display": null,
            "left": null
          }
        },
        "aa6d9b21fd964357ad4dee22691cc8e0": {
          "model_module": "@jupyter-widgets/controls",
          "model_name": "FloatProgressModel",
          "model_module_version": "1.5.0",
          "state": {
            "_view_name": "ProgressView",
            "style": "IPY_MODEL_82c2568e21534133b58d56e7fcd7af76",
            "_dom_classes": [],
            "description": "Progress:",
            "_model_name": "FloatProgressModel",
            "bar_style": "info",
            "max": 1,
            "_view_module": "@jupyter-widgets/controls",
            "_model_module_version": "1.5.0",
            "value": 0,
            "_view_count": null,
            "_view_module_version": "1.5.0",
            "orientation": "horizontal",
            "min": 0,
            "description_tooltip": null,
            "_model_module": "@jupyter-widgets/controls",
            "layout": "IPY_MODEL_be2eff44d81c4ba4b8ed30ee9421c6da"
          }
        },
        "82c2568e21534133b58d56e7fcd7af76": {
          "model_module": "@jupyter-widgets/controls",
          "model_name": "ProgressStyleModel",
          "model_module_version": "1.5.0",
          "state": {
            "_view_name": "StyleView",
            "_model_name": "ProgressStyleModel",
            "description_width": "",
            "_view_module": "@jupyter-widgets/base",
            "_model_module_version": "1.5.0",
            "_view_count": null,
            "_view_module_version": "1.2.0",
            "bar_color": null,
            "_model_module": "@jupyter-widgets/controls"
          }
        },
        "be2eff44d81c4ba4b8ed30ee9421c6da": {
          "model_module": "@jupyter-widgets/base",
          "model_name": "LayoutModel",
          "model_module_version": "1.2.0",
          "state": {
            "_view_name": "LayoutView",
            "grid_template_rows": null,
            "right": null,
            "justify_content": null,
            "_view_module": "@jupyter-widgets/base",
            "overflow": null,
            "_model_module_version": "1.2.0",
            "_view_count": null,
            "flex_flow": null,
            "width": "50%",
            "min_width": null,
            "border": null,
            "align_items": null,
            "bottom": null,
            "_model_module": "@jupyter-widgets/base",
            "top": null,
            "grid_column": null,
            "overflow_y": null,
            "overflow_x": null,
            "grid_auto_flow": null,
            "grid_area": null,
            "grid_template_columns": null,
            "flex": null,
            "_model_name": "LayoutModel",
            "justify_items": null,
            "grid_row": null,
            "max_height": null,
            "align_content": null,
            "visibility": null,
            "align_self": null,
            "height": "25px",
            "min_height": null,
            "padding": null,
            "grid_auto_rows": null,
            "grid_gap": null,
            "max_width": null,
            "order": null,
            "_view_module_version": "1.2.0",
            "grid_template_areas": null,
            "object_position": null,
            "object_fit": null,
            "grid_auto_columns": null,
            "margin": null,
            "display": null,
            "left": null
          }
        },
        "c3827a92beb041de9a29500afc434368": {
          "model_module": "@jupyter-widgets/controls",
          "model_name": "FloatProgressModel",
          "model_module_version": "1.5.0",
          "state": {
            "_view_name": "ProgressView",
            "style": "IPY_MODEL_88e57905547e426b817425dd0659d00a",
            "_dom_classes": [],
            "description": "Progress:",
            "_model_name": "FloatProgressModel",
            "bar_style": "info",
            "max": 1,
            "_view_module": "@jupyter-widgets/controls",
            "_model_module_version": "1.5.0",
            "value": 0.7272727272727273,
            "_view_count": null,
            "_view_module_version": "1.5.0",
            "orientation": "horizontal",
            "min": 0,
            "description_tooltip": null,
            "_model_module": "@jupyter-widgets/controls",
            "layout": "IPY_MODEL_f53c5400936641e0b28cd47f8b27fe60"
          }
        },
        "88e57905547e426b817425dd0659d00a": {
          "model_module": "@jupyter-widgets/controls",
          "model_name": "ProgressStyleModel",
          "model_module_version": "1.5.0",
          "state": {
            "_view_name": "StyleView",
            "_model_name": "ProgressStyleModel",
            "description_width": "",
            "_view_module": "@jupyter-widgets/base",
            "_model_module_version": "1.5.0",
            "_view_count": null,
            "_view_module_version": "1.2.0",
            "bar_color": null,
            "_model_module": "@jupyter-widgets/controls"
          }
        },
        "f53c5400936641e0b28cd47f8b27fe60": {
          "model_module": "@jupyter-widgets/base",
          "model_name": "LayoutModel",
          "model_module_version": "1.2.0",
          "state": {
            "_view_name": "LayoutView",
            "grid_template_rows": null,
            "right": null,
            "justify_content": null,
            "_view_module": "@jupyter-widgets/base",
            "overflow": null,
            "_model_module_version": "1.2.0",
            "_view_count": null,
            "flex_flow": null,
            "width": "50%",
            "min_width": null,
            "border": null,
            "align_items": null,
            "bottom": null,
            "_model_module": "@jupyter-widgets/base",
            "top": null,
            "grid_column": null,
            "overflow_y": null,
            "overflow_x": null,
            "grid_auto_flow": null,
            "grid_area": null,
            "grid_template_columns": null,
            "flex": null,
            "_model_name": "LayoutModel",
            "justify_items": null,
            "grid_row": null,
            "max_height": null,
            "align_content": null,
            "visibility": null,
            "align_self": null,
            "height": "25px",
            "min_height": null,
            "padding": null,
            "grid_auto_rows": null,
            "grid_gap": null,
            "max_width": null,
            "order": null,
            "_view_module_version": "1.2.0",
            "grid_template_areas": null,
            "object_position": null,
            "object_fit": null,
            "grid_auto_columns": null,
            "margin": null,
            "display": null,
            "left": null
          }
        },
        "e2806999bded4264a7ad6a70bc39e31c": {
          "model_module": "@jupyter-widgets/controls",
          "model_name": "FloatProgressModel",
          "model_module_version": "1.5.0",
          "state": {
            "_view_name": "ProgressView",
            "style": "IPY_MODEL_a1c04cce16244c21b81fabe120ce88eb",
            "_dom_classes": [],
            "description": "Progress:",
            "_model_name": "FloatProgressModel",
            "bar_style": "info",
            "max": 1,
            "_view_module": "@jupyter-widgets/controls",
            "_model_module_version": "1.5.0",
            "value": 0.45454545454545453,
            "_view_count": null,
            "_view_module_version": "1.5.0",
            "orientation": "horizontal",
            "min": 0,
            "description_tooltip": null,
            "_model_module": "@jupyter-widgets/controls",
            "layout": "IPY_MODEL_425e12bc01684b44a4b79265bfda33e4"
          }
        },
        "a1c04cce16244c21b81fabe120ce88eb": {
          "model_module": "@jupyter-widgets/controls",
          "model_name": "ProgressStyleModel",
          "model_module_version": "1.5.0",
          "state": {
            "_view_name": "StyleView",
            "_model_name": "ProgressStyleModel",
            "description_width": "",
            "_view_module": "@jupyter-widgets/base",
            "_model_module_version": "1.5.0",
            "_view_count": null,
            "_view_module_version": "1.2.0",
            "bar_color": null,
            "_model_module": "@jupyter-widgets/controls"
          }
        },
        "425e12bc01684b44a4b79265bfda33e4": {
          "model_module": "@jupyter-widgets/base",
          "model_name": "LayoutModel",
          "model_module_version": "1.2.0",
          "state": {
            "_view_name": "LayoutView",
            "grid_template_rows": null,
            "right": null,
            "justify_content": null,
            "_view_module": "@jupyter-widgets/base",
            "overflow": null,
            "_model_module_version": "1.2.0",
            "_view_count": null,
            "flex_flow": null,
            "width": "50%",
            "min_width": null,
            "border": null,
            "align_items": null,
            "bottom": null,
            "_model_module": "@jupyter-widgets/base",
            "top": null,
            "grid_column": null,
            "overflow_y": null,
            "overflow_x": null,
            "grid_auto_flow": null,
            "grid_area": null,
            "grid_template_columns": null,
            "flex": null,
            "_model_name": "LayoutModel",
            "justify_items": null,
            "grid_row": null,
            "max_height": null,
            "align_content": null,
            "visibility": null,
            "align_self": null,
            "height": "25px",
            "min_height": null,
            "padding": null,
            "grid_auto_rows": null,
            "grid_gap": null,
            "max_width": null,
            "order": null,
            "_view_module_version": "1.2.0",
            "grid_template_areas": null,
            "object_position": null,
            "object_fit": null,
            "grid_auto_columns": null,
            "margin": null,
            "display": null,
            "left": null
          }
        },
        "b2f696e3a91742999ed1771441e3671d": {
          "model_module": "@jupyter-widgets/controls",
          "model_name": "FloatProgressModel",
          "model_module_version": "1.5.0",
          "state": {
            "_view_name": "ProgressView",
            "style": "IPY_MODEL_0c97828bc48f4a2ba9979f8f9a6adab5",
            "_dom_classes": [],
            "description": "Progress:",
            "_model_name": "FloatProgressModel",
            "bar_style": "info",
            "max": 1,
            "_view_module": "@jupyter-widgets/controls",
            "_model_module_version": "1.5.0",
            "value": 0.9710144927536232,
            "_view_count": null,
            "_view_module_version": "1.5.0",
            "orientation": "horizontal",
            "min": 0,
            "description_tooltip": null,
            "_model_module": "@jupyter-widgets/controls",
            "layout": "IPY_MODEL_5739d5b9fe9e4dd3b1d222c94b4baa2c"
          }
        },
        "0c97828bc48f4a2ba9979f8f9a6adab5": {
          "model_module": "@jupyter-widgets/controls",
          "model_name": "ProgressStyleModel",
          "model_module_version": "1.5.0",
          "state": {
            "_view_name": "StyleView",
            "_model_name": "ProgressStyleModel",
            "description_width": "",
            "_view_module": "@jupyter-widgets/base",
            "_model_module_version": "1.5.0",
            "_view_count": null,
            "_view_module_version": "1.2.0",
            "bar_color": null,
            "_model_module": "@jupyter-widgets/controls"
          }
        },
        "5739d5b9fe9e4dd3b1d222c94b4baa2c": {
          "model_module": "@jupyter-widgets/base",
          "model_name": "LayoutModel",
          "model_module_version": "1.2.0",
          "state": {
            "_view_name": "LayoutView",
            "grid_template_rows": null,
            "right": null,
            "justify_content": null,
            "_view_module": "@jupyter-widgets/base",
            "overflow": null,
            "_model_module_version": "1.2.0",
            "_view_count": null,
            "flex_flow": null,
            "width": "50%",
            "min_width": null,
            "border": null,
            "align_items": null,
            "bottom": null,
            "_model_module": "@jupyter-widgets/base",
            "top": null,
            "grid_column": null,
            "overflow_y": null,
            "overflow_x": null,
            "grid_auto_flow": null,
            "grid_area": null,
            "grid_template_columns": null,
            "flex": null,
            "_model_name": "LayoutModel",
            "justify_items": null,
            "grid_row": null,
            "max_height": null,
            "align_content": null,
            "visibility": null,
            "align_self": null,
            "height": "25px",
            "min_height": null,
            "padding": null,
            "grid_auto_rows": null,
            "grid_gap": null,
            "max_width": null,
            "order": null,
            "_view_module_version": "1.2.0",
            "grid_template_areas": null,
            "object_position": null,
            "object_fit": null,
            "grid_auto_columns": null,
            "margin": null,
            "display": null,
            "left": null
          }
        },
        "0ebb171bf74644169045daad122098aa": {
          "model_module": "@jupyter-widgets/controls",
          "model_name": "FloatProgressModel",
          "model_module_version": "1.5.0",
          "state": {
            "_view_name": "ProgressView",
            "style": "IPY_MODEL_ea6eb0dfaf124b7bb9de72358129cf27",
            "_dom_classes": [],
            "description": "Progress:",
            "_model_name": "FloatProgressModel",
            "bar_style": "info",
            "max": 1,
            "_view_module": "@jupyter-widgets/controls",
            "_model_module_version": "1.5.0",
            "value": 0,
            "_view_count": null,
            "_view_module_version": "1.5.0",
            "orientation": "horizontal",
            "min": 0,
            "description_tooltip": null,
            "_model_module": "@jupyter-widgets/controls",
            "layout": "IPY_MODEL_9a8bcb441dec4966bf2391654e156e07"
          }
        },
        "ea6eb0dfaf124b7bb9de72358129cf27": {
          "model_module": "@jupyter-widgets/controls",
          "model_name": "ProgressStyleModel",
          "model_module_version": "1.5.0",
          "state": {
            "_view_name": "StyleView",
            "_model_name": "ProgressStyleModel",
            "description_width": "",
            "_view_module": "@jupyter-widgets/base",
            "_model_module_version": "1.5.0",
            "_view_count": null,
            "_view_module_version": "1.2.0",
            "bar_color": null,
            "_model_module": "@jupyter-widgets/controls"
          }
        },
        "9a8bcb441dec4966bf2391654e156e07": {
          "model_module": "@jupyter-widgets/base",
          "model_name": "LayoutModel",
          "model_module_version": "1.2.0",
          "state": {
            "_view_name": "LayoutView",
            "grid_template_rows": null,
            "right": null,
            "justify_content": null,
            "_view_module": "@jupyter-widgets/base",
            "overflow": null,
            "_model_module_version": "1.2.0",
            "_view_count": null,
            "flex_flow": null,
            "width": "50%",
            "min_width": null,
            "border": null,
            "align_items": null,
            "bottom": null,
            "_model_module": "@jupyter-widgets/base",
            "top": null,
            "grid_column": null,
            "overflow_y": null,
            "overflow_x": null,
            "grid_auto_flow": null,
            "grid_area": null,
            "grid_template_columns": null,
            "flex": null,
            "_model_name": "LayoutModel",
            "justify_items": null,
            "grid_row": null,
            "max_height": null,
            "align_content": null,
            "visibility": null,
            "align_self": null,
            "height": "25px",
            "min_height": null,
            "padding": null,
            "grid_auto_rows": null,
            "grid_gap": null,
            "max_width": null,
            "order": null,
            "_view_module_version": "1.2.0",
            "grid_template_areas": null,
            "object_position": null,
            "object_fit": null,
            "grid_auto_columns": null,
            "margin": null,
            "display": null,
            "left": null
          }
        },
        "ec38ad7797564fa4856aa7e495715065": {
          "model_module": "@jupyter-widgets/controls",
          "model_name": "FloatProgressModel",
          "model_module_version": "1.5.0",
          "state": {
            "_view_name": "ProgressView",
            "style": "IPY_MODEL_16197d18842844a3a725d3197544739f",
            "_dom_classes": [],
            "description": "Progress:",
            "_model_name": "FloatProgressModel",
            "bar_style": "info",
            "max": 1,
            "_view_module": "@jupyter-widgets/controls",
            "_model_module_version": "1.5.0",
            "value": 0.5,
            "_view_count": null,
            "_view_module_version": "1.5.0",
            "orientation": "horizontal",
            "min": 0,
            "description_tooltip": null,
            "_model_module": "@jupyter-widgets/controls",
            "layout": "IPY_MODEL_16a783bf542647e6945a18a1c47f88de"
          }
        },
        "16197d18842844a3a725d3197544739f": {
          "model_module": "@jupyter-widgets/controls",
          "model_name": "ProgressStyleModel",
          "model_module_version": "1.5.0",
          "state": {
            "_view_name": "StyleView",
            "_model_name": "ProgressStyleModel",
            "description_width": "",
            "_view_module": "@jupyter-widgets/base",
            "_model_module_version": "1.5.0",
            "_view_count": null,
            "_view_module_version": "1.2.0",
            "bar_color": null,
            "_model_module": "@jupyter-widgets/controls"
          }
        },
        "16a783bf542647e6945a18a1c47f88de": {
          "model_module": "@jupyter-widgets/base",
          "model_name": "LayoutModel",
          "model_module_version": "1.2.0",
          "state": {
            "_view_name": "LayoutView",
            "grid_template_rows": null,
            "right": null,
            "justify_content": null,
            "_view_module": "@jupyter-widgets/base",
            "overflow": null,
            "_model_module_version": "1.2.0",
            "_view_count": null,
            "flex_flow": null,
            "width": "50%",
            "min_width": null,
            "border": null,
            "align_items": null,
            "bottom": null,
            "_model_module": "@jupyter-widgets/base",
            "top": null,
            "grid_column": null,
            "overflow_y": null,
            "overflow_x": null,
            "grid_auto_flow": null,
            "grid_area": null,
            "grid_template_columns": null,
            "flex": null,
            "_model_name": "LayoutModel",
            "justify_items": null,
            "grid_row": null,
            "max_height": null,
            "align_content": null,
            "visibility": null,
            "align_self": null,
            "height": "25px",
            "min_height": null,
            "padding": null,
            "grid_auto_rows": null,
            "grid_gap": null,
            "max_width": null,
            "order": null,
            "_view_module_version": "1.2.0",
            "grid_template_areas": null,
            "object_position": null,
            "object_fit": null,
            "grid_auto_columns": null,
            "margin": null,
            "display": null,
            "left": null
          }
        },
        "1a696ead9176414bb40d03624e66f513": {
          "model_module": "@jupyter-widgets/controls",
          "model_name": "FloatProgressModel",
          "model_module_version": "1.5.0",
          "state": {
            "_view_name": "ProgressView",
            "style": "IPY_MODEL_c8a484f1dd3648858810279b60607038",
            "_dom_classes": [],
            "description": "Progress:",
            "_model_name": "FloatProgressModel",
            "bar_style": "info",
            "max": 1,
            "_view_module": "@jupyter-widgets/controls",
            "_model_module_version": "1.5.0",
            "value": 0.2549019607843137,
            "_view_count": null,
            "_view_module_version": "1.5.0",
            "orientation": "horizontal",
            "min": 0,
            "description_tooltip": null,
            "_model_module": "@jupyter-widgets/controls",
            "layout": "IPY_MODEL_15f2ba8a520a487783efdec122fa6d66"
          }
        },
        "c8a484f1dd3648858810279b60607038": {
          "model_module": "@jupyter-widgets/controls",
          "model_name": "ProgressStyleModel",
          "model_module_version": "1.5.0",
          "state": {
            "_view_name": "StyleView",
            "_model_name": "ProgressStyleModel",
            "description_width": "",
            "_view_module": "@jupyter-widgets/base",
            "_model_module_version": "1.5.0",
            "_view_count": null,
            "_view_module_version": "1.2.0",
            "bar_color": null,
            "_model_module": "@jupyter-widgets/controls"
          }
        },
        "15f2ba8a520a487783efdec122fa6d66": {
          "model_module": "@jupyter-widgets/base",
          "model_name": "LayoutModel",
          "model_module_version": "1.2.0",
          "state": {
            "_view_name": "LayoutView",
            "grid_template_rows": null,
            "right": null,
            "justify_content": null,
            "_view_module": "@jupyter-widgets/base",
            "overflow": null,
            "_model_module_version": "1.2.0",
            "_view_count": null,
            "flex_flow": null,
            "width": "50%",
            "min_width": null,
            "border": null,
            "align_items": null,
            "bottom": null,
            "_model_module": "@jupyter-widgets/base",
            "top": null,
            "grid_column": null,
            "overflow_y": null,
            "overflow_x": null,
            "grid_auto_flow": null,
            "grid_area": null,
            "grid_template_columns": null,
            "flex": null,
            "_model_name": "LayoutModel",
            "justify_items": null,
            "grid_row": null,
            "max_height": null,
            "align_content": null,
            "visibility": null,
            "align_self": null,
            "height": "25px",
            "min_height": null,
            "padding": null,
            "grid_auto_rows": null,
            "grid_gap": null,
            "max_width": null,
            "order": null,
            "_view_module_version": "1.2.0",
            "grid_template_areas": null,
            "object_position": null,
            "object_fit": null,
            "grid_auto_columns": null,
            "margin": null,
            "display": null,
            "left": null
          }
        },
        "41e2c0f6763c43c7adc93667de687c07": {
          "model_module": "@jupyter-widgets/controls",
          "model_name": "FloatProgressModel",
          "model_module_version": "1.5.0",
          "state": {
            "_view_name": "ProgressView",
            "style": "IPY_MODEL_85a243c3ba994e5f93df30ccb8752fef",
            "_dom_classes": [],
            "description": "Progress:",
            "_model_name": "FloatProgressModel",
            "bar_style": "info",
            "max": 1,
            "_view_module": "@jupyter-widgets/controls",
            "_model_module_version": "1.5.0",
            "value": 0.5295566502463054,
            "_view_count": null,
            "_view_module_version": "1.5.0",
            "orientation": "horizontal",
            "min": 0,
            "description_tooltip": null,
            "_model_module": "@jupyter-widgets/controls",
            "layout": "IPY_MODEL_ace8c705c8584c06b4970f61346e222f"
          }
        },
        "85a243c3ba994e5f93df30ccb8752fef": {
          "model_module": "@jupyter-widgets/controls",
          "model_name": "ProgressStyleModel",
          "model_module_version": "1.5.0",
          "state": {
            "_view_name": "StyleView",
            "_model_name": "ProgressStyleModel",
            "description_width": "",
            "_view_module": "@jupyter-widgets/base",
            "_model_module_version": "1.5.0",
            "_view_count": null,
            "_view_module_version": "1.2.0",
            "bar_color": null,
            "_model_module": "@jupyter-widgets/controls"
          }
        },
        "ace8c705c8584c06b4970f61346e222f": {
          "model_module": "@jupyter-widgets/base",
          "model_name": "LayoutModel",
          "model_module_version": "1.2.0",
          "state": {
            "_view_name": "LayoutView",
            "grid_template_rows": null,
            "right": null,
            "justify_content": null,
            "_view_module": "@jupyter-widgets/base",
            "overflow": null,
            "_model_module_version": "1.2.0",
            "_view_count": null,
            "flex_flow": null,
            "width": "50%",
            "min_width": null,
            "border": null,
            "align_items": null,
            "bottom": null,
            "_model_module": "@jupyter-widgets/base",
            "top": null,
            "grid_column": null,
            "overflow_y": null,
            "overflow_x": null,
            "grid_auto_flow": null,
            "grid_area": null,
            "grid_template_columns": null,
            "flex": null,
            "_model_name": "LayoutModel",
            "justify_items": null,
            "grid_row": null,
            "max_height": null,
            "align_content": null,
            "visibility": null,
            "align_self": null,
            "height": "25px",
            "min_height": null,
            "padding": null,
            "grid_auto_rows": null,
            "grid_gap": null,
            "max_width": null,
            "order": null,
            "_view_module_version": "1.2.0",
            "grid_template_areas": null,
            "object_position": null,
            "object_fit": null,
            "grid_auto_columns": null,
            "margin": null,
            "display": null,
            "left": null
          }
        },
        "c01b6ce8f63f49c2ab57244f18b61e35": {
          "model_module": "@jupyter-widgets/controls",
          "model_name": "FloatProgressModel",
          "model_module_version": "1.5.0",
          "state": {
            "_view_name": "ProgressView",
            "style": "IPY_MODEL_b9e3b7cb49ad4355bec1734fbb982729",
            "_dom_classes": [],
            "description": "Progress:",
            "_model_name": "FloatProgressModel",
            "bar_style": "info",
            "max": 1,
            "_view_module": "@jupyter-widgets/controls",
            "_model_module_version": "1.5.0",
            "value": 0,
            "_view_count": null,
            "_view_module_version": "1.5.0",
            "orientation": "horizontal",
            "min": 0,
            "description_tooltip": null,
            "_model_module": "@jupyter-widgets/controls",
            "layout": "IPY_MODEL_61fe6804e52b46c1bf1ee5bd5d478d61"
          }
        },
        "b9e3b7cb49ad4355bec1734fbb982729": {
          "model_module": "@jupyter-widgets/controls",
          "model_name": "ProgressStyleModel",
          "model_module_version": "1.5.0",
          "state": {
            "_view_name": "StyleView",
            "_model_name": "ProgressStyleModel",
            "description_width": "",
            "_view_module": "@jupyter-widgets/base",
            "_model_module_version": "1.5.0",
            "_view_count": null,
            "_view_module_version": "1.2.0",
            "bar_color": null,
            "_model_module": "@jupyter-widgets/controls"
          }
        },
        "61fe6804e52b46c1bf1ee5bd5d478d61": {
          "model_module": "@jupyter-widgets/base",
          "model_name": "LayoutModel",
          "model_module_version": "1.2.0",
          "state": {
            "_view_name": "LayoutView",
            "grid_template_rows": null,
            "right": null,
            "justify_content": null,
            "_view_module": "@jupyter-widgets/base",
            "overflow": null,
            "_model_module_version": "1.2.0",
            "_view_count": null,
            "flex_flow": null,
            "width": "50%",
            "min_width": null,
            "border": null,
            "align_items": null,
            "bottom": null,
            "_model_module": "@jupyter-widgets/base",
            "top": null,
            "grid_column": null,
            "overflow_y": null,
            "overflow_x": null,
            "grid_auto_flow": null,
            "grid_area": null,
            "grid_template_columns": null,
            "flex": null,
            "_model_name": "LayoutModel",
            "justify_items": null,
            "grid_row": null,
            "max_height": null,
            "align_content": null,
            "visibility": null,
            "align_self": null,
            "height": "25px",
            "min_height": null,
            "padding": null,
            "grid_auto_rows": null,
            "grid_gap": null,
            "max_width": null,
            "order": null,
            "_view_module_version": "1.2.0",
            "grid_template_areas": null,
            "object_position": null,
            "object_fit": null,
            "grid_auto_columns": null,
            "margin": null,
            "display": null,
            "left": null
          }
        },
        "4acc50c3a94b4e7ebd8b87b524f4976a": {
          "model_module": "@jupyter-widgets/controls",
          "model_name": "FloatProgressModel",
          "model_module_version": "1.5.0",
          "state": {
            "_view_name": "ProgressView",
            "style": "IPY_MODEL_3ed638681eb3488691446b6ea4fe388b",
            "_dom_classes": [],
            "description": "Progress:",
            "_model_name": "FloatProgressModel",
            "bar_style": "info",
            "max": 1,
            "_view_module": "@jupyter-widgets/controls",
            "_model_module_version": "1.5.0",
            "value": 0,
            "_view_count": null,
            "_view_module_version": "1.5.0",
            "orientation": "horizontal",
            "min": 0,
            "description_tooltip": null,
            "_model_module": "@jupyter-widgets/controls",
            "layout": "IPY_MODEL_f1453507a9d74b51bd422a07fce675b0"
          }
        },
        "3ed638681eb3488691446b6ea4fe388b": {
          "model_module": "@jupyter-widgets/controls",
          "model_name": "ProgressStyleModel",
          "model_module_version": "1.5.0",
          "state": {
            "_view_name": "StyleView",
            "_model_name": "ProgressStyleModel",
            "description_width": "",
            "_view_module": "@jupyter-widgets/base",
            "_model_module_version": "1.5.0",
            "_view_count": null,
            "_view_module_version": "1.2.0",
            "bar_color": null,
            "_model_module": "@jupyter-widgets/controls"
          }
        },
        "f1453507a9d74b51bd422a07fce675b0": {
          "model_module": "@jupyter-widgets/base",
          "model_name": "LayoutModel",
          "model_module_version": "1.2.0",
          "state": {
            "_view_name": "LayoutView",
            "grid_template_rows": null,
            "right": null,
            "justify_content": null,
            "_view_module": "@jupyter-widgets/base",
            "overflow": null,
            "_model_module_version": "1.2.0",
            "_view_count": null,
            "flex_flow": null,
            "width": "50%",
            "min_width": null,
            "border": null,
            "align_items": null,
            "bottom": null,
            "_model_module": "@jupyter-widgets/base",
            "top": null,
            "grid_column": null,
            "overflow_y": null,
            "overflow_x": null,
            "grid_auto_flow": null,
            "grid_area": null,
            "grid_template_columns": null,
            "flex": null,
            "_model_name": "LayoutModel",
            "justify_items": null,
            "grid_row": null,
            "max_height": null,
            "align_content": null,
            "visibility": null,
            "align_self": null,
            "height": "25px",
            "min_height": null,
            "padding": null,
            "grid_auto_rows": null,
            "grid_gap": null,
            "max_width": null,
            "order": null,
            "_view_module_version": "1.2.0",
            "grid_template_areas": null,
            "object_position": null,
            "object_fit": null,
            "grid_auto_columns": null,
            "margin": null,
            "display": null,
            "left": null
          }
        },
        "c48bbeeee2ef4d758e8550f1271605bd": {
          "model_module": "@jupyter-widgets/controls",
          "model_name": "FloatProgressModel",
          "model_module_version": "1.5.0",
          "state": {
            "_view_name": "ProgressView",
            "style": "IPY_MODEL_f6903775e48442a182430c7d71bcde4d",
            "_dom_classes": [],
            "description": "Progress:",
            "_model_name": "FloatProgressModel",
            "bar_style": "info",
            "max": 1,
            "_view_module": "@jupyter-widgets/controls",
            "_model_module_version": "1.5.0",
            "value": 0.8104265402843602,
            "_view_count": null,
            "_view_module_version": "1.5.0",
            "orientation": "horizontal",
            "min": 0,
            "description_tooltip": null,
            "_model_module": "@jupyter-widgets/controls",
            "layout": "IPY_MODEL_9c4e90889b504aaea06cbe9d58d5643f"
          }
        },
        "f6903775e48442a182430c7d71bcde4d": {
          "model_module": "@jupyter-widgets/controls",
          "model_name": "ProgressStyleModel",
          "model_module_version": "1.5.0",
          "state": {
            "_view_name": "StyleView",
            "_model_name": "ProgressStyleModel",
            "description_width": "",
            "_view_module": "@jupyter-widgets/base",
            "_model_module_version": "1.5.0",
            "_view_count": null,
            "_view_module_version": "1.2.0",
            "bar_color": null,
            "_model_module": "@jupyter-widgets/controls"
          }
        },
        "9c4e90889b504aaea06cbe9d58d5643f": {
          "model_module": "@jupyter-widgets/base",
          "model_name": "LayoutModel",
          "model_module_version": "1.2.0",
          "state": {
            "_view_name": "LayoutView",
            "grid_template_rows": null,
            "right": null,
            "justify_content": null,
            "_view_module": "@jupyter-widgets/base",
            "overflow": null,
            "_model_module_version": "1.2.0",
            "_view_count": null,
            "flex_flow": null,
            "width": "50%",
            "min_width": null,
            "border": null,
            "align_items": null,
            "bottom": null,
            "_model_module": "@jupyter-widgets/base",
            "top": null,
            "grid_column": null,
            "overflow_y": null,
            "overflow_x": null,
            "grid_auto_flow": null,
            "grid_area": null,
            "grid_template_columns": null,
            "flex": null,
            "_model_name": "LayoutModel",
            "justify_items": null,
            "grid_row": null,
            "max_height": null,
            "align_content": null,
            "visibility": null,
            "align_self": null,
            "height": "25px",
            "min_height": null,
            "padding": null,
            "grid_auto_rows": null,
            "grid_gap": null,
            "max_width": null,
            "order": null,
            "_view_module_version": "1.2.0",
            "grid_template_areas": null,
            "object_position": null,
            "object_fit": null,
            "grid_auto_columns": null,
            "margin": null,
            "display": null,
            "left": null
          }
        },
        "93f3255c67c5419191796ea533429f63": {
          "model_module": "@jupyter-widgets/controls",
          "model_name": "FloatProgressModel",
          "model_module_version": "1.5.0",
          "state": {
            "_view_name": "ProgressView",
            "style": "IPY_MODEL_24e000c8e48f44dfaa3e5ae92bf12e3a",
            "_dom_classes": [],
            "description": "Progress:",
            "_model_name": "FloatProgressModel",
            "bar_style": "info",
            "max": 1,
            "_view_module": "@jupyter-widgets/controls",
            "_model_module_version": "1.5.0",
            "value": 0.6427406199021207,
            "_view_count": null,
            "_view_module_version": "1.5.0",
            "orientation": "horizontal",
            "min": 0,
            "description_tooltip": null,
            "_model_module": "@jupyter-widgets/controls",
            "layout": "IPY_MODEL_e1cd8d80673c446d90dbfeb1b4fec78a"
          }
        },
        "24e000c8e48f44dfaa3e5ae92bf12e3a": {
          "model_module": "@jupyter-widgets/controls",
          "model_name": "ProgressStyleModel",
          "model_module_version": "1.5.0",
          "state": {
            "_view_name": "StyleView",
            "_model_name": "ProgressStyleModel",
            "description_width": "",
            "_view_module": "@jupyter-widgets/base",
            "_model_module_version": "1.5.0",
            "_view_count": null,
            "_view_module_version": "1.2.0",
            "bar_color": null,
            "_model_module": "@jupyter-widgets/controls"
          }
        },
        "e1cd8d80673c446d90dbfeb1b4fec78a": {
          "model_module": "@jupyter-widgets/base",
          "model_name": "LayoutModel",
          "model_module_version": "1.2.0",
          "state": {
            "_view_name": "LayoutView",
            "grid_template_rows": null,
            "right": null,
            "justify_content": null,
            "_view_module": "@jupyter-widgets/base",
            "overflow": null,
            "_model_module_version": "1.2.0",
            "_view_count": null,
            "flex_flow": null,
            "width": "50%",
            "min_width": null,
            "border": null,
            "align_items": null,
            "bottom": null,
            "_model_module": "@jupyter-widgets/base",
            "top": null,
            "grid_column": null,
            "overflow_y": null,
            "overflow_x": null,
            "grid_auto_flow": null,
            "grid_area": null,
            "grid_template_columns": null,
            "flex": null,
            "_model_name": "LayoutModel",
            "justify_items": null,
            "grid_row": null,
            "max_height": null,
            "align_content": null,
            "visibility": null,
            "align_self": null,
            "height": "25px",
            "min_height": null,
            "padding": null,
            "grid_auto_rows": null,
            "grid_gap": null,
            "max_width": null,
            "order": null,
            "_view_module_version": "1.2.0",
            "grid_template_areas": null,
            "object_position": null,
            "object_fit": null,
            "grid_auto_columns": null,
            "margin": null,
            "display": null,
            "left": null
          }
        }
      }
    }
  },
  "cells": [
    {
      "cell_type": "markdown",
      "metadata": {
        "id": "view-in-github",
        "colab_type": "text"
      },
      "source": [
        "<a href=\"https://colab.research.google.com/github/MarinaWolters/Coding-Tracker/blob/master/Part2_Big_and_Graph_Data.ipynb\" target=\"_parent\"><img src=\"https://colab.research.google.com/assets/colab-badge.svg\" alt=\"Open In Colab\"/></a>"
      ]
    },
    {
      "cell_type": "markdown",
      "metadata": {
        "id": "cy6hpgnJY-Rp"
      },
      "source": [
        "# Big Data and Graph Data\n",
        "\n",
        "In this module, we'll take what we learned about indices and generalize!\n",
        "\n",
        "Apache Spark is a big data engine that runs on compute clusters, including on the cloud.  This notebook is set up assuming that (1) Spark is running on an AWS server that is public [this may **not** be true at the time you look at this!] and (2) we need to run the actual Python commands on that server, requiring us to put `%%spark` \"magic\" commands at the start of each cell.\n",
        "\n",
        "You may need to look at this notebook without directly running it, until we give you specific instructions on launching your own Spark cluster.\n"
      ]
    },
    {
      "cell_type": "code",
      "metadata": {
        "id": "oPw_ePbge5xR",
        "colab": {
          "base_uri": "https://localhost:8080/"
        },
        "outputId": "70d29d84-e560-4f8c-f832-c759ca672a23"
      },
      "source": [
        "!apt install libkrb5-dev\n",
        "!pip install sparkmagic"
      ],
      "execution_count": 1,
      "outputs": [
        {
          "output_type": "stream",
          "name": "stdout",
          "text": [
            "Reading package lists... Done\n",
            "Building dependency tree       \n",
            "Reading state information... Done\n",
            "libkrb5-dev is already the newest version (1.17-6ubuntu4.2).\n",
            "libkrb5-dev set to manually installed.\n",
            "The following package was automatically installed and is no longer required:\n",
            "  libnvidia-common-510\n",
            "Use 'apt autoremove' to remove it.\n",
            "0 upgraded, 0 newly installed, 0 to remove and 21 not upgraded.\n",
            "Looking in indexes: https://pypi.org/simple, https://us-python.pkg.dev/colab-wheels/public/simple/\n",
            "Collecting sparkmagic\n",
            "  Downloading sparkmagic-0.20.4.tar.gz (44 kB)\n",
            "\u001b[2K     \u001b[90m━━━━━━━━━━━━━━━━━━━━━━━━━━━━━━━━━━━━━━━━\u001b[0m \u001b[32m44.3/44.3 KB\u001b[0m \u001b[31m2.2 MB/s\u001b[0m eta \u001b[36m0:00:00\u001b[0m\n",
            "\u001b[?25h  Preparing metadata (setup.py) ... \u001b[?25l\u001b[?25hdone\n",
            "Collecting hdijupyterutils>=0.6\n",
            "  Downloading hdijupyterutils-0.20.4.tar.gz (5.1 kB)\n",
            "  Preparing metadata (setup.py) ... \u001b[?25l\u001b[?25hdone\n",
            "Collecting autovizwidget>=0.6\n",
            "  Downloading autovizwidget-0.20.4.tar.gz (9.0 kB)\n",
            "  Preparing metadata (setup.py) ... \u001b[?25l\u001b[?25hdone\n",
            "Requirement already satisfied: ipython>=4.0.2 in /usr/local/lib/python3.8/dist-packages (from sparkmagic) (7.9.0)\n",
            "Requirement already satisfied: pandas>=0.17.1 in /usr/local/lib/python3.8/dist-packages (from sparkmagic) (1.3.5)\n",
            "Requirement already satisfied: numpy in /usr/local/lib/python3.8/dist-packages (from sparkmagic) (1.21.6)\n",
            "Requirement already satisfied: requests in /usr/local/lib/python3.8/dist-packages (from sparkmagic) (2.25.1)\n",
            "Requirement already satisfied: ipykernel>=4.2.2 in /usr/local/lib/python3.8/dist-packages (from sparkmagic) (5.3.4)\n",
            "Requirement already satisfied: ipywidgets>5.0.0 in /usr/local/lib/python3.8/dist-packages (from sparkmagic) (7.7.1)\n",
            "Requirement already satisfied: notebook>=4.2 in /usr/local/lib/python3.8/dist-packages (from sparkmagic) (5.7.16)\n",
            "Requirement already satisfied: tornado>=4 in /usr/local/lib/python3.8/dist-packages (from sparkmagic) (6.0.4)\n",
            "Collecting requests_kerberos>=0.8.0\n",
            "  Downloading requests_kerberos-0.14.0-py2.py3-none-any.whl (11 kB)\n",
            "Collecting nest_asyncio==1.5.5\n",
            "  Downloading nest_asyncio-1.5.5-py3-none-any.whl (5.2 kB)\n",
            "Requirement already satisfied: plotly>=3 in /usr/local/lib/python3.8/dist-packages (from autovizwidget>=0.6->sparkmagic) (5.5.0)\n",
            "Collecting jupyter>=1\n",
            "  Downloading jupyter-1.0.0-py2.py3-none-any.whl (2.7 kB)\n",
            "Requirement already satisfied: jupyter-client in /usr/local/lib/python3.8/dist-packages (from ipykernel>=4.2.2->sparkmagic) (6.1.12)\n",
            "Requirement already satisfied: traitlets>=4.1.0 in /usr/local/lib/python3.8/dist-packages (from ipykernel>=4.2.2->sparkmagic) (5.7.1)\n",
            "Requirement already satisfied: setuptools>=18.5 in /usr/local/lib/python3.8/dist-packages (from ipython>=4.0.2->sparkmagic) (57.4.0)\n",
            "Requirement already satisfied: pexpect in /usr/local/lib/python3.8/dist-packages (from ipython>=4.0.2->sparkmagic) (4.8.0)\n",
            "Requirement already satisfied: pickleshare in /usr/local/lib/python3.8/dist-packages (from ipython>=4.0.2->sparkmagic) (0.7.5)\n",
            "Requirement already satisfied: pygments in /usr/local/lib/python3.8/dist-packages (from ipython>=4.0.2->sparkmagic) (2.6.1)\n",
            "Requirement already satisfied: decorator in /usr/local/lib/python3.8/dist-packages (from ipython>=4.0.2->sparkmagic) (4.4.2)\n",
            "Collecting jedi>=0.10\n",
            "  Downloading jedi-0.18.2-py2.py3-none-any.whl (1.6 MB)\n",
            "\u001b[2K     \u001b[90m━━━━━━━━━━━━━━━━━━━━━━━━━━━━━━━━━━━━━━━━\u001b[0m \u001b[32m1.6/1.6 MB\u001b[0m \u001b[31m34.0 MB/s\u001b[0m eta \u001b[36m0:00:00\u001b[0m\n",
            "\u001b[?25hRequirement already satisfied: prompt-toolkit<2.1.0,>=2.0.0 in /usr/local/lib/python3.8/dist-packages (from ipython>=4.0.2->sparkmagic) (2.0.10)\n",
            "Requirement already satisfied: backcall in /usr/local/lib/python3.8/dist-packages (from ipython>=4.0.2->sparkmagic) (0.2.0)\n",
            "Requirement already satisfied: ipython-genutils~=0.2.0 in /usr/local/lib/python3.8/dist-packages (from ipywidgets>5.0.0->sparkmagic) (0.2.0)\n",
            "Requirement already satisfied: jupyterlab-widgets>=1.0.0 in /usr/local/lib/python3.8/dist-packages (from ipywidgets>5.0.0->sparkmagic) (3.0.5)\n",
            "Requirement already satisfied: widgetsnbextension~=3.6.0 in /usr/local/lib/python3.8/dist-packages (from ipywidgets>5.0.0->sparkmagic) (3.6.1)\n",
            "Requirement already satisfied: Send2Trash in /usr/local/lib/python3.8/dist-packages (from notebook>=4.2->sparkmagic) (1.8.0)\n",
            "Requirement already satisfied: nbformat in /usr/local/lib/python3.8/dist-packages (from notebook>=4.2->sparkmagic) (5.7.3)\n",
            "Requirement already satisfied: terminado>=0.8.1 in /usr/local/lib/python3.8/dist-packages (from notebook>=4.2->sparkmagic) (0.13.3)\n",
            "Requirement already satisfied: nbconvert<6.0 in /usr/local/lib/python3.8/dist-packages (from notebook>=4.2->sparkmagic) (5.6.1)\n",
            "Requirement already satisfied: prometheus-client in /usr/local/lib/python3.8/dist-packages (from notebook>=4.2->sparkmagic) (0.16.0)\n",
            "Requirement already satisfied: jinja2<=3.0.0 in /usr/local/lib/python3.8/dist-packages (from notebook>=4.2->sparkmagic) (2.11.3)\n",
            "Requirement already satisfied: pyzmq>=17 in /usr/local/lib/python3.8/dist-packages (from notebook>=4.2->sparkmagic) (23.2.1)\n",
            "Requirement already satisfied: jupyter-core>=4.4.0 in /usr/local/lib/python3.8/dist-packages (from notebook>=4.2->sparkmagic) (5.2.0)\n",
            "Requirement already satisfied: pytz>=2017.3 in /usr/local/lib/python3.8/dist-packages (from pandas>=0.17.1->sparkmagic) (2022.7.1)\n",
            "Requirement already satisfied: python-dateutil>=2.7.3 in /usr/local/lib/python3.8/dist-packages (from pandas>=0.17.1->sparkmagic) (2.8.2)\n",
            "Collecting cryptography>=1.3\n",
            "  Downloading cryptography-39.0.1-cp36-abi3-manylinux_2_28_x86_64.whl (4.2 MB)\n",
            "\u001b[2K     \u001b[90m━━━━━━━━━━━━━━━━━━━━━━━━━━━━━━━━━━━━━━━━\u001b[0m \u001b[32m4.2/4.2 MB\u001b[0m \u001b[31m38.0 MB/s\u001b[0m eta \u001b[36m0:00:00\u001b[0m\n",
            "\u001b[?25hCollecting pyspnego[kerberos]\n",
            "  Downloading pyspnego-0.8.0-py3-none-any.whl (130 kB)\n",
            "\u001b[2K     \u001b[90m━━━━━━━━━━━━━━━━━━━━━━━━━━━━━━━━━━━━━━━\u001b[0m \u001b[32m130.7/130.7 KB\u001b[0m \u001b[31m7.7 MB/s\u001b[0m eta \u001b[36m0:00:00\u001b[0m\n",
            "\u001b[?25hRequirement already satisfied: certifi>=2017.4.17 in /usr/local/lib/python3.8/dist-packages (from requests->sparkmagic) (2022.12.7)\n",
            "Requirement already satisfied: idna<3,>=2.5 in /usr/local/lib/python3.8/dist-packages (from requests->sparkmagic) (2.10)\n",
            "Requirement already satisfied: chardet<5,>=3.0.2 in /usr/local/lib/python3.8/dist-packages (from requests->sparkmagic) (4.0.0)\n",
            "Requirement already satisfied: urllib3<1.27,>=1.21.1 in /usr/local/lib/python3.8/dist-packages (from requests->sparkmagic) (1.24.3)\n",
            "Requirement already satisfied: cffi>=1.12 in /usr/local/lib/python3.8/dist-packages (from cryptography>=1.3->requests_kerberos>=0.8.0->sparkmagic) (1.15.1)\n",
            "Requirement already satisfied: parso<0.9.0,>=0.8.0 in /usr/local/lib/python3.8/dist-packages (from jedi>=0.10->ipython>=4.0.2->sparkmagic) (0.8.3)\n",
            "Requirement already satisfied: MarkupSafe>=0.23 in /usr/local/lib/python3.8/dist-packages (from jinja2<=3.0.0->notebook>=4.2->sparkmagic) (2.0.1)\n",
            "Requirement already satisfied: jupyter-console in /usr/local/lib/python3.8/dist-packages (from jupyter>=1->hdijupyterutils>=0.6->sparkmagic) (6.1.0)\n",
            "Collecting qtconsole\n",
            "  Downloading qtconsole-5.4.0-py3-none-any.whl (121 kB)\n",
            "\u001b[2K     \u001b[90m━━━━━━━━━━━━━━━━━━━━━━━━━━━━━━━━━━━━━━━\u001b[0m \u001b[32m121.0/121.0 KB\u001b[0m \u001b[31m8.8 MB/s\u001b[0m eta \u001b[36m0:00:00\u001b[0m\n",
            "\u001b[?25hRequirement already satisfied: platformdirs>=2.5 in /usr/local/lib/python3.8/dist-packages (from jupyter-core>=4.4.0->notebook>=4.2->sparkmagic) (3.0.0)\n",
            "Requirement already satisfied: pandocfilters>=1.4.1 in /usr/local/lib/python3.8/dist-packages (from nbconvert<6.0->notebook>=4.2->sparkmagic) (1.5.0)\n",
            "Requirement already satisfied: testpath in /usr/local/lib/python3.8/dist-packages (from nbconvert<6.0->notebook>=4.2->sparkmagic) (0.6.0)\n",
            "Requirement already satisfied: bleach in /usr/local/lib/python3.8/dist-packages (from nbconvert<6.0->notebook>=4.2->sparkmagic) (6.0.0)\n",
            "Requirement already satisfied: entrypoints>=0.2.2 in /usr/local/lib/python3.8/dist-packages (from nbconvert<6.0->notebook>=4.2->sparkmagic) (0.4)\n",
            "Requirement already satisfied: defusedxml in /usr/local/lib/python3.8/dist-packages (from nbconvert<6.0->notebook>=4.2->sparkmagic) (0.7.1)\n",
            "Requirement already satisfied: mistune<2,>=0.8.1 in /usr/local/lib/python3.8/dist-packages (from nbconvert<6.0->notebook>=4.2->sparkmagic) (0.8.4)\n",
            "Requirement already satisfied: fastjsonschema in /usr/local/lib/python3.8/dist-packages (from nbformat->notebook>=4.2->sparkmagic) (2.16.2)\n",
            "Requirement already satisfied: jsonschema>=2.6 in /usr/local/lib/python3.8/dist-packages (from nbformat->notebook>=4.2->sparkmagic) (4.3.3)\n",
            "Requirement already satisfied: tenacity>=6.2.0 in /usr/local/lib/python3.8/dist-packages (from plotly>=3->autovizwidget>=0.6->sparkmagic) (8.2.0)\n",
            "Requirement already satisfied: six in /usr/local/lib/python3.8/dist-packages (from plotly>=3->autovizwidget>=0.6->sparkmagic) (1.15.0)\n",
            "Requirement already satisfied: wcwidth in /usr/local/lib/python3.8/dist-packages (from prompt-toolkit<2.1.0,>=2.0.0->ipython>=4.0.2->sparkmagic) (0.2.6)\n",
            "Requirement already satisfied: ptyprocess in /usr/local/lib/python3.8/dist-packages (from terminado>=0.8.1->notebook>=4.2->sparkmagic) (0.7.0)\n",
            "Collecting gssapi>=1.6.0\n",
            "  Downloading gssapi-1.8.2.tar.gz (94 kB)\n",
            "\u001b[2K     \u001b[90m━━━━━━━━━━━━━━━━━━━━━━━━━━━━━━━━━━━━━━━━\u001b[0m \u001b[32m94.3/94.3 KB\u001b[0m \u001b[31m4.4 MB/s\u001b[0m eta \u001b[36m0:00:00\u001b[0m\n",
            "\u001b[?25h  Installing build dependencies ... \u001b[?25l\u001b[?25hdone\n",
            "  Getting requirements to build wheel ... \u001b[?25l\u001b[?25hdone\n",
            "  Installing backend dependencies ... \u001b[?25l\u001b[?25hdone\n",
            "  Preparing metadata (pyproject.toml) ... \u001b[?25l\u001b[?25hdone\n",
            "Collecting krb5>=0.3.0\n",
            "  Downloading krb5-0.4.1.tar.gz (218 kB)\n",
            "\u001b[2K     \u001b[90m━━━━━━━━━━━━━━━━━━━━━━━━━━━━━━━━━━━━━━\u001b[0m \u001b[32m218.7/218.7 KB\u001b[0m \u001b[31m20.3 MB/s\u001b[0m eta \u001b[36m0:00:00\u001b[0m\n",
            "\u001b[?25h  Installing build dependencies ... \u001b[?25l\u001b[?25hdone\n",
            "  Getting requirements to build wheel ... \u001b[?25l\u001b[?25hdone\n",
            "  Installing backend dependencies ... \u001b[?25l\u001b[?25hdone\n",
            "  Preparing metadata (pyproject.toml) ... \u001b[?25l\u001b[?25hdone\n",
            "\u001b[33m  WARNING: Generating metadata for package krb5 produced metadata for project name unknown. Fix your #egg=krb5 fragments.\u001b[0m\u001b[33m\n",
            "\u001b[0mDiscarding \u001b[4;34mhttps://files.pythonhosted.org/packages/56/f6/64874f52a47e652e37c8648665374e723500a62d82938ea2db842496d2ed/krb5-0.4.1.tar.gz#sha256=606059b9db52086f4e03e15b161d1d172ccc1172880e42fa5744f99a4407cf57 (from https://pypi.org/simple/krb5/) (requires-python:>=3.7)\u001b[0m: \u001b[33mRequested unknown from https://files.pythonhosted.org/packages/56/f6/64874f52a47e652e37c8648665374e723500a62d82938ea2db842496d2ed/krb5-0.4.1.tar.gz#sha256=606059b9db52086f4e03e15b161d1d172ccc1172880e42fa5744f99a4407cf57 (from pyspnego\u001b[0m\u001b[33m->requests_kerberos>=0.8.0->sparkmagic) has inconsistent name: filename has 'krb5', but metadata has 'unknown'\u001b[0m\n",
            "  Downloading krb5-0.4.0.tar.gz (218 kB)\n",
            "\u001b[2K     \u001b[90m━━━━━━━━━━━━━━━━━━━━━━━━━━━━━━━━━━━━━━\u001b[0m \u001b[32m218.8/218.8 KB\u001b[0m \u001b[31m21.6 MB/s\u001b[0m eta \u001b[36m0:00:00\u001b[0m\n",
            "\u001b[?25h  Installing build dependencies ... \u001b[?25l\u001b[?25hdone\n",
            "  Getting requirements to build wheel ... \u001b[?25l\u001b[?25hdone\n",
            "  Installing backend dependencies ... \u001b[?25l\u001b[?25hdone\n",
            "  Preparing metadata (pyproject.toml) ... \u001b[?25l\u001b[?25hdone\n",
            "\u001b[33m  WARNING: Generating metadata for package krb5 produced metadata for project name unknown. Fix your #egg=krb5 fragments.\u001b[0m\u001b[33m\n",
            "\u001b[0mDiscarding \u001b[4;34mhttps://files.pythonhosted.org/packages/30/b2/fbafed4fe18a47bc3ffdd7a591bc02c4cf9e96d092793831cb98d596fa16/krb5-0.4.0.tar.gz#sha256=6eb0e91e044d37cb34c84b831310f4a48951f2902d4ebb65b97cbac5ff1b2264 (from https://pypi.org/simple/krb5/) (requires-python:>=3.7)\u001b[0m: \u001b[33mRequested unknown from https://files.pythonhosted.org/packages/30/b2/fbafed4fe18a47bc3ffdd7a591bc02c4cf9e96d092793831cb98d596fa16/krb5-0.4.0.tar.gz#sha256=6eb0e91e044d37cb34c84b831310f4a48951f2902d4ebb65b97cbac5ff1b2264 (from pyspnego\u001b[0m\u001b[33m->requests_kerberos>=0.8.0->sparkmagic) has inconsistent name: filename has 'krb5', but metadata has 'unknown'\u001b[0m\n",
            "  Downloading krb5-0.3.0.tar.gz (1.7 MB)\n",
            "\u001b[2K     \u001b[90m━━━━━━━━━━━━━━━━━━━━━━━━━━━━━━━━━━━━━━━━\u001b[0m \u001b[32m1.7/1.7 MB\u001b[0m \u001b[31m67.8 MB/s\u001b[0m eta \u001b[36m0:00:00\u001b[0m\n",
            "\u001b[?25h  Installing build dependencies ... \u001b[?25l\u001b[?25hdone\n",
            "  Getting requirements to build wheel ... \u001b[?25l\u001b[?25hdone\n",
            "  Preparing metadata (pyproject.toml) ... \u001b[?25l\u001b[?25hdone\n",
            "Requirement already satisfied: pycparser in /usr/local/lib/python3.8/dist-packages (from cffi>=1.12->cryptography>=1.3->requests_kerberos>=0.8.0->sparkmagic) (2.21)\n",
            "Requirement already satisfied: pyrsistent!=0.17.0,!=0.17.1,!=0.17.2,>=0.14.0 in /usr/local/lib/python3.8/dist-packages (from jsonschema>=2.6->nbformat->notebook>=4.2->sparkmagic) (0.19.3)\n",
            "Requirement already satisfied: importlib-resources>=1.4.0 in /usr/local/lib/python3.8/dist-packages (from jsonschema>=2.6->nbformat->notebook>=4.2->sparkmagic) (5.10.2)\n",
            "Requirement already satisfied: attrs>=17.4.0 in /usr/local/lib/python3.8/dist-packages (from jsonschema>=2.6->nbformat->notebook>=4.2->sparkmagic) (22.2.0)\n",
            "Requirement already satisfied: webencodings in /usr/local/lib/python3.8/dist-packages (from bleach->nbconvert<6.0->notebook>=4.2->sparkmagic) (0.5.1)\n",
            "Collecting qtpy>=2.0.1\n",
            "  Downloading QtPy-2.3.0-py3-none-any.whl (83 kB)\n",
            "\u001b[2K     \u001b[90m━━━━━━━━━━━━━━━━━━━━━━━━━━━━━━━━━━━━━━━━\u001b[0m \u001b[32m83.6/83.6 KB\u001b[0m \u001b[31m10.3 MB/s\u001b[0m eta \u001b[36m0:00:00\u001b[0m\n",
            "\u001b[?25hRequirement already satisfied: zipp>=3.1.0 in /usr/local/lib/python3.8/dist-packages (from importlib-resources>=1.4.0->jsonschema>=2.6->nbformat->notebook>=4.2->sparkmagic) (3.12.1)\n",
            "Requirement already satisfied: packaging in /usr/local/lib/python3.8/dist-packages (from qtpy>=2.0.1->qtconsole->jupyter>=1->hdijupyterutils>=0.6->sparkmagic) (23.0)\n",
            "Building wheels for collected packages: sparkmagic, autovizwidget, hdijupyterutils, gssapi, krb5\n",
            "  Building wheel for sparkmagic (setup.py) ... \u001b[?25l\u001b[?25hdone\n",
            "  Created wheel for sparkmagic: filename=sparkmagic-0.20.4-py3-none-any.whl size=66610 sha256=a9a1aa927a2529fb0cabf1e62ffec4c9d370a7ebdb0827c1a087bb16a19f9b59\n",
            "  Stored in directory: /root/.cache/pip/wheels/92/ed/c4/e3ce0467862d17663ccba2452a3c2346cce1335b759fdc0b76\n",
            "  Building wheel for autovizwidget (setup.py) ... \u001b[?25l\u001b[?25hdone\n",
            "  Created wheel for autovizwidget: filename=autovizwidget-0.20.4-py3-none-any.whl size=14689 sha256=195f1ac51f0b435f8d01a326714cc184b3d4c5135a04b54775d0189b7c4bf574\n",
            "  Stored in directory: /root/.cache/pip/wheels/58/30/df/ece52dff09ef6411556c6167cc9153fcca5b533c82bdc3cb47\n",
            "  Building wheel for hdijupyterutils (setup.py) ... \u001b[?25l\u001b[?25hdone\n",
            "  Created wheel for hdijupyterutils: filename=hdijupyterutils-0.20.4-py3-none-any.whl size=7654 sha256=827bbbcda1326d4b5a48ffc001f4d2269125cce2f661067dc7d9ca395ee553f7\n",
            "  Stored in directory: /root/.cache/pip/wheels/66/d5/20/db872ecc9208754f6bf33b0b6dacdb861565f23c8c68d79c10\n",
            "  Building wheel for gssapi (pyproject.toml) ... \u001b[?25l\u001b[?25hdone\n",
            "  Created wheel for gssapi: filename=gssapi-1.8.2-cp38-cp38-linux_x86_64.whl size=3753806 sha256=1a5a08bedf6fe6aa39498e98220517c4fce1dd804fd74105556d99bf60cddee3\n",
            "  Stored in directory: /root/.cache/pip/wheels/1a/9c/de/bcf42d46549ed9ebe297440653c62900202f06b90fd40151a3\n",
            "  Building wheel for krb5 (pyproject.toml) ... \u001b[?25l\u001b[?25hdone\n",
            "  Created wheel for krb5: filename=krb5-0.3.0-cp38-cp38-linux_x86_64.whl size=4452312 sha256=0a7759ef0df0216a8e229e1575fc80b8295e704afce2eef5a453fdb199f4c330\n",
            "  Stored in directory: /root/.cache/pip/wheels/eb/50/4f/fae1eb12a8947d17d87214170dd042960ef9c5bad97b773310\n",
            "Successfully built sparkmagic autovizwidget hdijupyterutils gssapi krb5\n",
            "Installing collected packages: qtpy, nest_asyncio, krb5, jedi, gssapi, cryptography, pyspnego, qtconsole, requests_kerberos, jupyter, hdijupyterutils, autovizwidget, sparkmagic\n",
            "Successfully installed autovizwidget-0.20.4 cryptography-39.0.1 gssapi-1.8.2 hdijupyterutils-0.20.4 jedi-0.18.2 jupyter-1.0.0 krb5-0.3.0 nest_asyncio-1.5.5 pyspnego-0.8.0 qtconsole-5.4.0 qtpy-2.3.0 requests_kerberos-0.14.0 sparkmagic-0.20.4\n"
          ]
        }
      ]
    },
    {
      "cell_type": "code",
      "metadata": {
        "id": "XrFAyi5re65W"
      },
      "source": [
        "%load_ext sparkmagic.magics"
      ],
      "execution_count": 2,
      "outputs": []
    },
    {
      "cell_type": "markdown",
      "metadata": {
        "id": "stbF4ttIQBUG"
      },
      "source": [
        "The following line connects to Spark running remotely.  You will likely need to change the URL after the `-u` to connect to an active server."
      ]
    },
    {
      "cell_type": "code",
      "metadata": {
        "id": "ifm9kBmus86c",
        "colab": {
          "base_uri": "https://localhost:8080/",
          "height": 95,
          "referenced_widgets": [
            "7e8e6da95b004f3e8315b0c96cc4ad09",
            "e04dafa726f842449d7bd88ded7748d5",
            "9fa6555ffb1a49c9a09552f2737582dc"
          ]
        },
        "outputId": "7d7994fa-6ee6-49f2-a9af-1dc5bb8149f5"
      },
      "source": [
        "%spark add -s my_session -l python -u http://ec2-3-91-74-45.compute-1.amazonaws.com:8998\n",
        "# The above can connect to an EMR node running Spark + Livy, assuming the firewall is set to let anyone in"
      ],
      "execution_count": null,
      "outputs": [
        {
          "output_type": "stream",
          "text": [
            "Starting Spark application\n"
          ],
          "name": "stdout"
        },
        {
          "output_type": "display_data",
          "data": {
            "text/html": [
              "<table>\n",
              "<tr><th>ID</th><th>YARN Application ID</th><th>Kind</th><th>State</th><th>Spark UI</th><th>Driver log</th><th>Current session?</th></tr><tr><td>0</td><td>application_1581350900124_0001</td><td>pyspark</td><td>idle</td><td><a target=\"_blank\" href=\"http://ip-172-31-42-75.ec2.internal:20888/proxy/application_1581350900124_0001/\">Link</a></td><td><a target=\"_blank\" href=\"http://ip-172-31-40-232.ec2.internal:8042/node/containerlogs/container_1581350900124_0001_01_000001/livy\">Link</a></td><td>✔</td></tr></table>"
            ],
            "text/plain": [
              "<IPython.core.display.HTML object>"
            ]
          },
          "metadata": {
            "tags": []
          }
        },
        {
          "output_type": "display_data",
          "data": {
            "application/vnd.jupyter.widget-view+json": {
              "model_id": "7e8e6da95b004f3e8315b0c96cc4ad09",
              "version_minor": 0,
              "version_major": 2
            },
            "text/plain": [
              "FloatProgress(value=0.0, bar_style='info', description='Progress:', layout=Layout(height='25px', width='50%'),…"
            ]
          },
          "metadata": {
            "tags": []
          }
        },
        {
          "output_type": "stream",
          "text": [
            "SparkSession available as 'spark'.\n"
          ],
          "name": "stdout"
        }
      ]
    },
    {
      "cell_type": "code",
      "metadata": {
        "id": "YgP5iO3vT2MG"
      },
      "source": [
        "# Uncomment this and run if you need to restart the session\n",
        "#%spark delete -s my_session"
      ],
      "execution_count": null,
      "outputs": []
    },
    {
      "cell_type": "code",
      "metadata": {
        "id": "gphH28Ur71JY",
        "colab": {
          "base_uri": "https://localhost:8080/",
          "height": 68,
          "referenced_widgets": [
            "f4dc35d514d644d081691d136c6ee63a",
            "acc3c6b7adde44d9b0341a4ace0b2130",
            "d29fbd33c2f04d94870e830625015c13"
          ]
        },
        "outputId": "7f99f60b-ab3a-4990-ad4f-c43d4168c6f2"
      },
      "source": [
        "%%spark\n",
        "\n",
        "import sys\n",
        "print(\"Python version\")\n",
        "print (sys.version)"
      ],
      "execution_count": null,
      "outputs": [
        {
          "output_type": "display_data",
          "data": {
            "application/vnd.jupyter.widget-view+json": {
              "model_id": "f4dc35d514d644d081691d136c6ee63a",
              "version_minor": 0,
              "version_major": 2
            },
            "text/plain": [
              "FloatProgress(value=0.0, bar_style='info', description='Progress:', layout=Layout(height='25px', width='50%'),…"
            ]
          },
          "metadata": {
            "tags": []
          }
        },
        {
          "output_type": "stream",
          "text": [
            "Python version\n",
            "3.6.8 (default, Oct 14 2019, 21:22:53) \n",
            "[GCC 4.8.5 20150623 (Red Hat 4.8.5-28)]"
          ],
          "name": "stdout"
        }
      ]
    },
    {
      "cell_type": "markdown",
      "metadata": {
        "id": "6u6rwG-wQIX2"
      },
      "source": [
        "## Example of Loading Sharded Data"
      ]
    },
    {
      "cell_type": "markdown",
      "metadata": {
        "id": "8O02TOXqQLgt"
      },
      "source": [
        "First let's do our preliminaries.  **Every** cell in this notebook will need `%%spark` at the start so it runs on the remote machine with Spark on it, instead of on the machine with Jupyter."
      ]
    },
    {
      "cell_type": "code",
      "metadata": {
        "id": "qDHoasDnQVLA",
        "colab": {
          "base_uri": "https://localhost:8080/",
          "height": 17,
          "referenced_widgets": [
            "58315c28270846238ad51df15a46a46a",
            "5b373f40df4c47bfa5070e33b099b5fa",
            "7f15881c11a648268e319eccc19a0900"
          ]
        },
        "outputId": "f856ef7f-d33d-4c1e-867c-dcfab07ee2ca"
      },
      "source": [
        "%%spark\n",
        "import json\n",
        "import requests\n"
      ],
      "execution_count": null,
      "outputs": [
        {
          "output_type": "display_data",
          "data": {
            "application/vnd.jupyter.widget-view+json": {
              "model_id": "58315c28270846238ad51df15a46a46a",
              "version_minor": 0,
              "version_major": 2
            },
            "text/plain": [
              "FloatProgress(value=0.0, bar_style='info', description='Progress:', layout=Layout(height='25px', width='50%'),…"
            ]
          },
          "metadata": {
            "tags": []
          }
        }
      ]
    },
    {
      "cell_type": "code",
      "metadata": {
        "id": "RmXoH1gmtD2d",
        "colab": {
          "base_uri": "https://localhost:8080/",
          "height": 34,
          "referenced_widgets": [
            "18cc01d5a9674559a94eaf82fa452465",
            "91191efcad35483b97542624f66010f2",
            "b6b80d80a39f4b078e5f90df889e1663"
          ]
        },
        "outputId": "15d5776e-444c-4b5c-8b14-0b8859860aa1"
      },
      "source": [
        "%%spark\n",
        "\n",
        "# 10K records from linkedin\n",
        "linked_in = requests.get('https://www.cis.upenn.edu/~cis545/xaa')\n",
        "\n",
        "my_list = [json.loads(line) for line in linked_in.iter_lines()]\n",
        "len(my_list)\n"
      ],
      "execution_count": null,
      "outputs": [
        {
          "output_type": "display_data",
          "data": {
            "application/vnd.jupyter.widget-view+json": {
              "model_id": "18cc01d5a9674559a94eaf82fa452465",
              "version_minor": 0,
              "version_major": 2
            },
            "text/plain": [
              "FloatProgress(value=0.0, bar_style='info', description='Progress:', layout=Layout(height='25px', width='50%'),…"
            ]
          },
          "metadata": {
            "tags": []
          }
        },
        {
          "output_type": "stream",
          "text": [
            "10000"
          ],
          "name": "stdout"
        }
      ]
    },
    {
      "cell_type": "markdown",
      "metadata": {
        "id": "El-Or-F-Qc5C"
      },
      "source": [
        "## Load the list into Spark\n",
        "\n",
        "Spark needs to know the structure of the data in its dataframes, i.e., their schemas.  Since our JSON structure for LinkedIn is complex, we need to define the schema.\n",
        "\n",
        "There are some basic types:\n",
        "  * The table is a `StructType` with a list of fields (each row)\n",
        "  * Most fields, in our case, are `StringType`.\n",
        "  * We also have nested dictionary for the name, which is a `MapType` from `StringType` keys to `StringType` values.\n",
        "  * `skills` is an `ArrayType` since it's a list, and it contains `StringType`s.\n",
        "  * `also_view` is an array of structs.\n",
        "\n",
        "See Pyspark documentation on `StructType` and examples such as https://www.programcreek.com/python/example/104715/pyspark.sql.types.StructType."
      ]
    },
    {
      "cell_type": "code",
      "metadata": {
        "id": "DN3NJaRuP8Tl",
        "colab": {
          "base_uri": "https://localhost:8080/"
        },
        "outputId": "a60b1516-0674-4af3-e4bb-b18eab592cd8"
      },
      "source": [
        "%%spark\n",
        "\n",
        "# Spark requires that we define a schema for the LinkedIn data...\n",
        "from pyspark.sql.types import StringType, StructField, StructType, ArrayType, MapType\n",
        "schema = StructType([\n",
        "        StructField(\"_id\", StringType(), True),\n",
        "        StructField(\"name\", MapType(StringType(), StringType()), True),\n",
        "        StructField(\"locality\", StringType(), True),\n",
        "        StructField(\"skills\", ArrayType(StringType()), True),\n",
        "        StructField(\"industry\", StringType(), True),\n",
        "        StructField(\"summary\", StringType(), True),\n",
        "        StructField(\"url\", StringType(), True),\n",
        "        StructField(\"also_view\", ArrayType(\\\n",
        "                    StructType([\\\n",
        "                      StructField(\"url\", StringType(), True),\\\n",
        "                      StructField(\"id\", StringType(), True)])\\\n",
        "                    ), True)\\\n",
        "         ])"
      ],
      "execution_count": 3,
      "outputs": [
        {
          "output_type": "stream",
          "name": "stderr",
          "text": [
            "An error was encountered:\n",
            "You need to have at least 1 client created to execute commands.\n"
          ]
        }
      ]
    },
    {
      "cell_type": "code",
      "metadata": {
        "id": "cmF8gC6nP3VW",
        "colab": {
          "base_uri": "https://localhost:8080/",
          "height": 187,
          "referenced_widgets": [
            "52370799b333421fa9792bb64d012d92",
            "52157427400446dcbd0ede77665f060c",
            "77ff349274e048718f6bffe48ff8de54"
          ]
        },
        "outputId": "3f2c4667-e086-4fb8-dcb4-483809918463"
      },
      "source": [
        "%%spark\n",
        "# Load the remote data as a list of dictionaries\n",
        "linked_df = sqlContext.createDataFrame(my_list, schema).\\\n",
        "  repartition('_id')\n",
        "\n",
        "linked_df.show(5)"
      ],
      "execution_count": null,
      "outputs": [
        {
          "output_type": "display_data",
          "data": {
            "application/vnd.jupyter.widget-view+json": {
              "model_id": "52370799b333421fa9792bb64d012d92",
              "version_minor": 0,
              "version_major": 2
            },
            "text/plain": [
              "FloatProgress(value=0.0, bar_style='info', description='Progress:', layout=Layout(height='25px', width='50%'),…"
            ]
          },
          "metadata": {
            "tags": []
          }
        },
        {
          "output_type": "stream",
          "text": [
            "+---------------+--------------------+--------------------+--------------------+--------------------+--------------------+--------------------+--------------------+\n",
            "|            _id|                name|            locality|              skills|            industry|             summary|                 url|           also_view|\n",
            "+---------------+--------------------+--------------------+--------------------+--------------------+--------------------+--------------------+--------------------+\n",
            "|     in-2432006|[given_name -> La...|   Genoa Area, Italy|[HR Consulting, E...|       Risorse umane|Ottobre 2012 - Ce...|http://it.linkedi...|[[http://it.linke...|\n",
            "|      in-261076|[given_name -> Re...|London, United Ki...|[Information Secu...|  Financial Services|                null|http://uk.linkedi...|[[http://ch.linke...|\n",
            "|in-4mikesandahl|[given_name -> Mi...| Greater Boston Area|[Lean Manufacturi...|              Design|                null|http://www.linked...|[[http://www.link...|\n",
            "|       in-55432|[given_name -> Ma...|Salamanca y alred...|                null|Administración gu...|                null|http://es.linkedi...|[[http://es.linke...|\n",
            "|      in-aaeran|[given_name -> An...|      United Kingdom|[CISSP, CISM, CIS...|Information Techn...|Strong consulting...|http://uk.linkedi...|[[http://uk.linke...|\n",
            "+---------------+--------------------+--------------------+--------------------+--------------------+--------------------+--------------------+--------------------+\n",
            "only showing top 5 rows"
          ],
          "name": "stdout"
        }
      ]
    },
    {
      "cell_type": "code",
      "metadata": {
        "id": "r8TnR04oJVoJ",
        "colab": {
          "base_uri": "https://localhost:8080/",
          "height": 34,
          "referenced_widgets": [
            "b0387c48e1db4caa8af4f68b4080434b",
            "f25471b14a7e4012aa9c9cf1b995fc61",
            "5294cb07dc694c2688bd80c9aacb6a7c"
          ]
        },
        "outputId": "f054734b-445f-4dc8-c2f5-ba2100e2c2a4"
      },
      "source": [
        "%%spark\n",
        "linked_df.rdd.getNumPartitions()"
      ],
      "execution_count": null,
      "outputs": [
        {
          "output_type": "display_data",
          "data": {
            "application/vnd.jupyter.widget-view+json": {
              "model_id": "b0387c48e1db4caa8af4f68b4080434b",
              "version_minor": 0,
              "version_major": 2
            },
            "text/plain": [
              "FloatProgress(value=0.0, bar_style='info', description='Progress:', layout=Layout(height='25px', width='50%'),…"
            ]
          },
          "metadata": {
            "tags": []
          }
        },
        {
          "output_type": "stream",
          "text": [
            "200"
          ],
          "name": "stdout"
        }
      ]
    },
    {
      "cell_type": "code",
      "metadata": {
        "id": "DoUo_4LfOiki",
        "colab": {
          "base_uri": "https://localhost:8080/",
          "height": 187,
          "referenced_widgets": [
            "1db8338193c84f5aa197f7c037688859",
            "e40731a399964fd5af957c37adce2dba",
            "92676bd127d2416fb8d7c1279d0c5021"
          ]
        },
        "outputId": "45e15adf-e80e-4f93-d165-44de4d058791"
      },
      "source": [
        "%%spark\n",
        "linked_df.filter(linked_df.locality == 'United States')[['_id', 'name', 'locality']].show(5)"
      ],
      "execution_count": null,
      "outputs": [
        {
          "output_type": "display_data",
          "data": {
            "application/vnd.jupyter.widget-view+json": {
              "model_id": "1db8338193c84f5aa197f7c037688859",
              "version_minor": 0,
              "version_major": 2
            },
            "text/plain": [
              "FloatProgress(value=0.0, bar_style='info', description='Progress:', layout=Layout(height='25px', width='50%'),…"
            ]
          },
          "metadata": {
            "tags": []
          }
        },
        {
          "output_type": "stream",
          "text": [
            "+----------------+--------------------+-------------+\n",
            "|             _id|                name|     locality|\n",
            "+----------------+--------------------+-------------+\n",
            "|   in-aaronhrose|[given_name -> Aa...|United States|\n",
            "|    in-akalderon|[given_name -> Av...|United States|\n",
            "|      in-1solone|[given_name -> Ha...|United States|\n",
            "|in-actiongarment|[given_name -> Da...|United States|\n",
            "|   in-abhinethra|[given_name -> Ab...|United States|\n",
            "+----------------+--------------------+-------------+\n",
            "only showing top 5 rows"
          ],
          "name": "stdout"
        }
      ]
    },
    {
      "cell_type": "code",
      "metadata": {
        "id": "Oj1E3-AJ1G_y",
        "colab": {
          "base_uri": "https://localhost:8080/",
          "height": 187,
          "referenced_widgets": [
            "cb947f8a6a564b2a9f5bbe8b70d05629",
            "83293d2316f0480587e53cf6b06f64cf",
            "56a6eb86941e4a0eabd62cd3ee0a8951"
          ]
        },
        "outputId": "db6ed617-abf9-4f7e-ae8e-32858327cc7f"
      },
      "source": [
        "%%spark\n",
        "linked_df.select(\"_id\", \"locality\").show(5)"
      ],
      "execution_count": null,
      "outputs": [
        {
          "output_type": "display_data",
          "data": {
            "application/vnd.jupyter.widget-view+json": {
              "model_id": "cb947f8a6a564b2a9f5bbe8b70d05629",
              "version_minor": 0,
              "version_major": 2
            },
            "text/plain": [
              "FloatProgress(value=0.0, bar_style='info', description='Progress:', layout=Layout(height='25px', width='50%'),…"
            ]
          },
          "metadata": {
            "tags": []
          }
        },
        {
          "output_type": "stream",
          "text": [
            "+---------------+--------------------+\n",
            "|            _id|            locality|\n",
            "+---------------+--------------------+\n",
            "|     in-2432006|   Genoa Area, Italy|\n",
            "|      in-261076|London, United Ki...|\n",
            "|in-4mikesandahl| Greater Boston Area|\n",
            "|       in-55432|Salamanca y alred...|\n",
            "|      in-aaeran|      United Kingdom|\n",
            "+---------------+--------------------+\n",
            "only showing top 5 rows"
          ],
          "name": "stdout"
        }
      ]
    },
    {
      "cell_type": "code",
      "metadata": {
        "id": "e68gcPiaL5Wb",
        "colab": {
          "base_uri": "https://localhost:8080/",
          "height": 17,
          "referenced_widgets": [
            "25c876c2055a486699b6866a4bd2e13c",
            "27343defcfc34823bcf0e65de3cc8f31",
            "ed7c96d9d4604c96a3f947e4bbb56d19"
          ]
        },
        "outputId": "ccba335a-6b99-44d2-c248-bd461568293c"
      },
      "source": [
        "%%spark\n",
        "### Clean out the list from memory\n",
        "my_list = []"
      ],
      "execution_count": null,
      "outputs": [
        {
          "output_type": "display_data",
          "data": {
            "application/vnd.jupyter.widget-view+json": {
              "model_id": "25c876c2055a486699b6866a4bd2e13c",
              "version_minor": 0,
              "version_major": 2
            },
            "text/plain": [
              "FloatProgress(value=0.0, bar_style='info', description='Progress:', layout=Layout(height='25px', width='50%'),…"
            ]
          },
          "metadata": {
            "tags": []
          }
        }
      ]
    },
    {
      "cell_type": "code",
      "metadata": {
        "id": "eD9SE_v-1v0C",
        "colab": {
          "base_uri": "https://localhost:8080/",
          "height": 187,
          "referenced_widgets": [
            "df29f82f6b5b46dd9c75ebd6ddd28a89",
            "c08772fc25d144f79f58dbb03bd836ef",
            "bbc496e64ff74dcc9e0fceda21d227f8"
          ]
        },
        "outputId": "c6422fa7-7ce1-4327-c69a-ca090916a2ab"
      },
      "source": [
        "%%spark\n",
        "linked_df.createOrReplaceTempView('linked_in')\n",
        "sqlContext.sql('select * from linked_in').show(5)"
      ],
      "execution_count": null,
      "outputs": [
        {
          "output_type": "display_data",
          "data": {
            "application/vnd.jupyter.widget-view+json": {
              "model_id": "df29f82f6b5b46dd9c75ebd6ddd28a89",
              "version_minor": 0,
              "version_major": 2
            },
            "text/plain": [
              "FloatProgress(value=0.0, bar_style='info', description='Progress:', layout=Layout(height='25px', width='50%'),…"
            ]
          },
          "metadata": {
            "tags": []
          }
        },
        {
          "output_type": "stream",
          "text": [
            "+---------------+--------------------+--------------------+--------------------+--------------------+--------------------+--------------------+--------------------+\n",
            "|            _id|                name|            locality|              skills|            industry|             summary|                 url|           also_view|\n",
            "+---------------+--------------------+--------------------+--------------------+--------------------+--------------------+--------------------+--------------------+\n",
            "|     in-2432006|[given_name -> La...|   Genoa Area, Italy|[HR Consulting, E...|       Risorse umane|Ottobre 2012 - Ce...|http://it.linkedi...|[[http://it.linke...|\n",
            "|      in-261076|[given_name -> Re...|London, United Ki...|[Information Secu...|  Financial Services|                null|http://uk.linkedi...|[[http://ch.linke...|\n",
            "|in-4mikesandahl|[given_name -> Mi...| Greater Boston Area|[Lean Manufacturi...|              Design|                null|http://www.linked...|[[http://www.link...|\n",
            "|       in-55432|[given_name -> Ma...|Salamanca y alred...|                null|Administración gu...|                null|http://es.linkedi...|[[http://es.linke...|\n",
            "|      in-aaeran|[given_name -> An...|      United Kingdom|[CISSP, CISM, CIS...|Information Techn...|Strong consulting...|http://uk.linkedi...|[[http://uk.linke...|\n",
            "+---------------+--------------------+--------------------+--------------------+--------------------+--------------------+--------------------+--------------------+\n",
            "only showing top 5 rows"
          ],
          "name": "stdout"
        }
      ]
    },
    {
      "cell_type": "code",
      "metadata": {
        "id": "yur38PPmVGt-",
        "colab": {
          "base_uri": "https://localhost:8080/",
          "height": 187,
          "referenced_widgets": [
            "3ef8f81f68b242e3b424aa091fb93126",
            "645b041509434d489b84328fa2c893b0",
            "1a2fe86c5d1646a2a66bc14062e8acab"
          ]
        },
        "outputId": "eaa6711a-7c1d-4f96-9e30-93f1c4a2a5e2"
      },
      "source": [
        "%%spark\n",
        "sqlContext.sql('SELECT _id, name.given_name, name.first_name FROM linked_in').show(5)"
      ],
      "execution_count": null,
      "outputs": [
        {
          "output_type": "display_data",
          "data": {
            "application/vnd.jupyter.widget-view+json": {
              "model_id": "3ef8f81f68b242e3b424aa091fb93126",
              "version_minor": 0,
              "version_major": 2
            },
            "text/plain": [
              "FloatProgress(value=0.0, bar_style='info', description='Progress:', layout=Layout(height='25px', width='50%'),…"
            ]
          },
          "metadata": {
            "tags": []
          }
        },
        {
          "output_type": "stream",
          "text": [
            "+---------------+----------+----------+\n",
            "|            _id|given_name|first_name|\n",
            "+---------------+----------+----------+\n",
            "|     in-2432006|     Laura|      null|\n",
            "|      in-261076|     Renan|      null|\n",
            "|in-4mikesandahl|      Mike|      null|\n",
            "|       in-55432|     Marta|      null|\n",
            "|      in-aaeran|     Ankur|      null|\n",
            "+---------------+----------+----------+\n",
            "only showing top 5 rows"
          ],
          "name": "stdout"
        }
      ]
    },
    {
      "cell_type": "code",
      "metadata": {
        "id": "VcvsuNw9Tr6k",
        "colab": {
          "base_uri": "https://localhost:8080/",
          "height": 187,
          "referenced_widgets": [
            "4f5f57bf453d478fa36c3b9e0027538a",
            "7e2ffe5f6ff34f1fa9a66675f41896a5",
            "094cc881ac394e2383ac66152c3a787a"
          ]
        },
        "outputId": "8f6e1bff-2a48-4857-99ab-67ce1db57a7d"
      },
      "source": [
        "%%spark\n",
        "from pyspark.sql.functions import udf\n",
        "from pyspark.sql.types import StringType\n",
        "\n",
        "acro = udf(lambda x: ''.join([n[0] for n in x.split()]), StringType())\n",
        "\n",
        "linked_df.select(\"_id\", acro(\"locality\").alias(\"acronym\")).show(5)"
      ],
      "execution_count": null,
      "outputs": [
        {
          "output_type": "display_data",
          "data": {
            "application/vnd.jupyter.widget-view+json": {
              "model_id": "4f5f57bf453d478fa36c3b9e0027538a",
              "version_minor": 0,
              "version_major": 2
            },
            "text/plain": [
              "FloatProgress(value=0.0, bar_style='info', description='Progress:', layout=Layout(height='25px', width='50%'),…"
            ]
          },
          "metadata": {
            "tags": []
          }
        },
        {
          "output_type": "stream",
          "text": [
            "+---------------+-------+\n",
            "|            _id|acronym|\n",
            "+---------------+-------+\n",
            "|     in-2432006|    GAI|\n",
            "|      in-261076|    LUK|\n",
            "|in-4mikesandahl|    GBA|\n",
            "|       in-55432|   SyaE|\n",
            "|      in-aaeran|     UK|\n",
            "+---------------+-------+\n",
            "only showing top 5 rows"
          ],
          "name": "stdout"
        }
      ]
    },
    {
      "cell_type": "code",
      "metadata": {
        "id": "bgMW4qFCQf4W",
        "colab": {
          "base_uri": "https://localhost:8080/",
          "height": 187,
          "referenced_widgets": [
            "f61be45bcb414152ba7458d9f75b9915",
            "790f9889e9d749a5b86288b9a49f6fc5",
            "8cbbece925004cf8bf96f003defbe360"
          ]
        },
        "outputId": "67042b12-21c9-4808-96ec-7a3dfcead071"
      },
      "source": [
        "%%spark\n",
        "# Which industries are most popular?\n",
        "sqlContext.sql('SELECT count(_id), industry '+\\\n",
        "               'FROM linked_in '+\\\n",
        "               'GROUP BY industry '+\\\n",
        "               'ORDER BY count(_id) desc').\\\n",
        "    show(5)"
      ],
      "execution_count": null,
      "outputs": [
        {
          "output_type": "display_data",
          "data": {
            "application/vnd.jupyter.widget-view+json": {
              "model_id": "f61be45bcb414152ba7458d9f75b9915",
              "version_minor": 0,
              "version_major": 2
            },
            "text/plain": [
              "FloatProgress(value=0.0, bar_style='info', description='Progress:', layout=Layout(height='25px', width='50%'),…"
            ]
          },
          "metadata": {
            "tags": []
          }
        },
        {
          "output_type": "stream",
          "text": [
            "+----------+--------------------+\n",
            "|count(_id)|            industry|\n",
            "+----------+--------------------+\n",
            "|      1198|Information Techn...|\n",
            "|       781|   Computer Software|\n",
            "|       482|Marketing and Adv...|\n",
            "|       397|            Internet|\n",
            "|       323|  Financial Services|\n",
            "+----------+--------------------+\n",
            "only showing top 5 rows"
          ],
          "name": "stdout"
        }
      ]
    },
    {
      "cell_type": "markdown",
      "metadata": {
        "id": "WRrsSWsmI7pG"
      },
      "source": [
        "## Graphs\n",
        "\n",
        "For the next set of examples, we will look at graph-structured data. \n",
        "It turns out our LinkedIn dataset has a list of nodes (by int ID, but associated with the user ID we used in the linked_in table) and a list of edges."
      ]
    },
    {
      "cell_type": "code",
      "metadata": {
        "id": "FZfBjaGg8a5l",
        "colab": {
          "base_uri": "https://localhost:8080/",
          "height": 17,
          "referenced_widgets": [
            "1a9fef1f0c63432f8532564eb732986b",
            "26408467714c4f9db4d8e0563e87fc0c",
            "54104756e7c64d8e93198dd24bc75c3c"
          ]
        },
        "outputId": "b7aa25c8-8709-4746-835b-fd27de0b55c8"
      },
      "source": [
        "%%spark\n",
        "\n",
        "import urllib.request\n",
        "import zipfile\n",
        "import os\n",
        "\n",
        "url = 'https://upenn-bigdataanalytics.s3.amazonaws.com/linkedin.edges.zip'\n",
        "filehandle, _ = urllib.request.urlretrieve(url)"
      ],
      "execution_count": null,
      "outputs": [
        {
          "output_type": "display_data",
          "data": {
            "application/vnd.jupyter.widget-view+json": {
              "model_id": "1a9fef1f0c63432f8532564eb732986b",
              "version_minor": 0,
              "version_major": 2
            },
            "text/plain": [
              "FloatProgress(value=0.0, bar_style='info', description='Progress:', layout=Layout(height='25px', width='50%'),…"
            ]
          },
          "metadata": {
            "tags": []
          }
        }
      ]
    },
    {
      "cell_type": "code",
      "metadata": {
        "id": "4iOH_AWl8f8x",
        "colab": {
          "base_uri": "https://localhost:8080/",
          "height": 34,
          "referenced_widgets": [
            "9b331bf8d33546c1976507c9a949b162",
            "f23e84d04f804fa493c450409f711f62",
            "47beb8daa57944c690e2404b1eab28a3"
          ]
        },
        "outputId": "7f78ce10-7735-48c1-9c41-05cf640a5f62"
      },
      "source": [
        "%%spark\n",
        "\n",
        "zip_file_object = zipfile.ZipFile(filehandle, 'r')\n",
        "\n",
        "infolist = zip_file_object.infolist()\n",
        "\n",
        "print (infolist)\n",
        "\n"
      ],
      "execution_count": null,
      "outputs": [
        {
          "output_type": "display_data",
          "data": {
            "application/vnd.jupyter.widget-view+json": {
              "model_id": "9b331bf8d33546c1976507c9a949b162",
              "version_minor": 0,
              "version_major": 2
            },
            "text/plain": [
              "FloatProgress(value=0.0, bar_style='info', description='Progress:', layout=Layout(height='25px', width='50%'),…"
            ]
          },
          "metadata": {
            "tags": []
          }
        },
        {
          "output_type": "stream",
          "text": [
            "[<ZipInfo filename='linkedin.edges' compress_type=deflate file_size=293652034 compress_size=104566020>]"
          ],
          "name": "stdout"
        }
      ]
    },
    {
      "cell_type": "code",
      "metadata": {
        "id": "aLkmsCn02FKQ",
        "colab": {
          "base_uri": "https://localhost:8080/",
          "height": 17,
          "referenced_widgets": [
            "ba26b90b0a374b5c805b20bf7298323f",
            "88bb9547a57a43a0b5635870a83fc34c",
            "dc369c5d0ca1497c9258f145321567be"
          ]
        },
        "outputId": "21463da4-cb59-43ac-8d42-1e723c08abbb"
      },
      "source": [
        "%%spark\n",
        "\n",
        "edges = []\n",
        "MAX = 100000\n",
        "\n",
        "with zip_file_object.open('linkedin.edges','r') as fname:\n",
        "  for link in fname:\n",
        "    str_val = link.decode('utf-8')\n",
        "    edge = str_val.split(' ')\n",
        "    edges.append([int(edge[0]), int(edge[1])])\n",
        "    if len(edges) >= MAX:\n",
        "      break\n"
      ],
      "execution_count": null,
      "outputs": [
        {
          "output_type": "display_data",
          "data": {
            "application/vnd.jupyter.widget-view+json": {
              "model_id": "ba26b90b0a374b5c805b20bf7298323f",
              "version_minor": 0,
              "version_major": 2
            },
            "text/plain": [
              "FloatProgress(value=0.0, bar_style='info', description='Progress:', layout=Layout(height='25px', width='50%'),…"
            ]
          },
          "metadata": {
            "tags": []
          }
        }
      ]
    },
    {
      "cell_type": "code",
      "metadata": {
        "id": "10raoCWVJQXk",
        "colab": {
          "base_uri": "https://localhost:8080/",
          "height": 187,
          "referenced_widgets": [
            "d5eed17360c64e9a86d232e2f624a043",
            "efe5db6e3b0e45b78f5b0871c7b2d53c",
            "242621f4726746cab9e05a3925592ac3"
          ]
        },
        "outputId": "2a3e20d0-57fa-40af-c365-f0914d7a0d2c"
      },
      "source": [
        "%%spark\n",
        "\n",
        "from pyspark.sql.types import IntegerType\n",
        "schema = StructType([\n",
        "        StructField(\"from\", IntegerType(), True),\n",
        "        StructField(\"to\", IntegerType(), True)\n",
        "         ])\n",
        "# Load the remote data as a list of dictionaries\n",
        "edges_df = sqlContext.createDataFrame(edges, schema)\n",
        "\n",
        "edges_df.show(5)"
      ],
      "execution_count": null,
      "outputs": [
        {
          "output_type": "display_data",
          "data": {
            "application/vnd.jupyter.widget-view+json": {
              "model_id": "d5eed17360c64e9a86d232e2f624a043",
              "version_minor": 0,
              "version_major": 2
            },
            "text/plain": [
              "FloatProgress(value=0.0, bar_style='info', description='Progress:', layout=Layout(height='25px', width='50%'),…"
            ]
          },
          "metadata": {
            "tags": []
          }
        },
        {
          "output_type": "stream",
          "text": [
            "+----+-------+\n",
            "|from|     to|\n",
            "+----+-------+\n",
            "|   0|2152448|\n",
            "|   0|1656491|\n",
            "|   0| 399364|\n",
            "|   0|  18448|\n",
            "|   0|  72025|\n",
            "+----+-------+\n",
            "only showing top 5 rows"
          ],
          "name": "stdout"
        }
      ]
    },
    {
      "cell_type": "code",
      "metadata": {
        "id": "sV4WTTHohshi",
        "colab": {
          "base_uri": "https://localhost:8080/",
          "height": 187,
          "referenced_widgets": [
            "aa6d9b21fd964357ad4dee22691cc8e0",
            "82c2568e21534133b58d56e7fcd7af76",
            "be2eff44d81c4ba4b8ed30ee9421c6da"
          ]
        },
        "outputId": "4e946c25-bd4f-47ec-9d95-6ba0083c8098"
      },
      "source": [
        "%%spark\n",
        "edges_df.createOrReplaceTempView('edges')\n",
        "sqlContext.sql('SELECT from AS id, count(to) AS degree FROM edges GROUP BY from').show(5)"
      ],
      "execution_count": null,
      "outputs": [
        {
          "output_type": "display_data",
          "data": {
            "application/vnd.jupyter.widget-view+json": {
              "model_id": "aa6d9b21fd964357ad4dee22691cc8e0",
              "version_minor": 0,
              "version_major": 2
            },
            "text/plain": [
              "FloatProgress(value=0.0, bar_style='info', description='Progress:', layout=Layout(height='25px', width='50%'),…"
            ]
          },
          "metadata": {
            "tags": []
          }
        },
        {
          "output_type": "stream",
          "text": [
            "+---+------+\n",
            "| id|degree|\n",
            "+---+------+\n",
            "|148|   140|\n",
            "|463|    93|\n",
            "|471|    88|\n",
            "|496|    88|\n",
            "|833|    76|\n",
            "+---+------+\n",
            "only showing top 5 rows"
          ],
          "name": "stdout"
        }
      ]
    },
    {
      "cell_type": "markdown",
      "metadata": {
        "id": "kbXkhbzOk1ZK"
      },
      "source": [
        "## Traversing the Graph"
      ]
    },
    {
      "cell_type": "code",
      "metadata": {
        "id": "PAJ_BjL1kiQi",
        "colab": {
          "base_uri": "https://localhost:8080/",
          "height": 374,
          "referenced_widgets": [
            "c3827a92beb041de9a29500afc434368",
            "88e57905547e426b817425dd0659d00a",
            "f53c5400936641e0b28cd47f8b27fe60"
          ]
        },
        "outputId": "0573fed3-2a0e-45a1-963c-3993a52205f5"
      },
      "source": [
        "%%spark\n",
        "\n",
        "from pyspark.sql.functions import col\n",
        "\n",
        "# Start with a subset of nodes\n",
        "start_nodes_df = edges_df[['from']].filter(edges_df['from'] < 1000).\\\n",
        "  select(col('from').alias('id')).drop_duplicates()\n",
        "\n",
        "start_nodes_df.show(5)\n",
        "\n",
        "# The neighbors require us to join\n",
        "# and we'll use Spark DataFrames syntax here\n",
        "neighbor_nodes_df = start_nodes_df.\\\n",
        "  join(edges_df, start_nodes_df.id == edges_df['from']).\\\n",
        "  select(col('to').alias('id'))\n",
        "\n",
        "neighbor_nodes_df.show(5)"
      ],
      "execution_count": null,
      "outputs": [
        {
          "output_type": "display_data",
          "data": {
            "application/vnd.jupyter.widget-view+json": {
              "model_id": "c3827a92beb041de9a29500afc434368",
              "version_minor": 0,
              "version_major": 2
            },
            "text/plain": [
              "FloatProgress(value=0.0, bar_style='info', description='Progress:', layout=Layout(height='25px', width='50%'),…"
            ]
          },
          "metadata": {
            "tags": []
          }
        },
        {
          "output_type": "stream",
          "text": [
            "+---+\n",
            "| id|\n",
            "+---+\n",
            "|148|\n",
            "|463|\n",
            "|471|\n",
            "|496|\n",
            "|833|\n",
            "+---+\n",
            "only showing top 5 rows\n",
            "\n",
            "+-------+\n",
            "|     id|\n",
            "+-------+\n",
            "|1510404|\n",
            "|    523|\n",
            "| 993804|\n",
            "| 469009|\n",
            "| 232979|\n",
            "+-------+\n",
            "only showing top 5 rows"
          ],
          "name": "stdout"
        }
      ]
    },
    {
      "cell_type": "code",
      "metadata": {
        "id": "LpoPxuPQnmNQ",
        "colab": {
          "base_uri": "https://localhost:8080/",
          "height": 884,
          "referenced_widgets": [
            "e2806999bded4264a7ad6a70bc39e31c",
            "a1c04cce16244c21b81fabe120ce88eb",
            "425e12bc01684b44a4b79265bfda33e4"
          ]
        },
        "outputId": "9d7417d5-a68b-40ef-cde0-eb32f250b5c4"
      },
      "source": [
        "%%spark\n",
        "edges_df[['from']].orderBy('from').drop_duplicates().show()\n",
        "\n",
        "edges_df.filter(edges_df['from'] == 1).show()"
      ],
      "execution_count": null,
      "outputs": [
        {
          "output_type": "display_data",
          "data": {
            "application/vnd.jupyter.widget-view+json": {
              "model_id": "e2806999bded4264a7ad6a70bc39e31c",
              "version_minor": 0,
              "version_major": 2
            },
            "text/plain": [
              "FloatProgress(value=0.0, bar_style='info', description='Progress:', layout=Layout(height='25px', width='50%'),…"
            ]
          },
          "metadata": {
            "tags": []
          }
        },
        {
          "output_type": "stream",
          "text": [
            "+----+\n",
            "|from|\n",
            "+----+\n",
            "|   0|\n",
            "|   1|\n",
            "|   2|\n",
            "|   3|\n",
            "|   4|\n",
            "|   5|\n",
            "|   6|\n",
            "|   7|\n",
            "|   8|\n",
            "|   9|\n",
            "|  10|\n",
            "|  11|\n",
            "|  12|\n",
            "|  13|\n",
            "|  14|\n",
            "|  15|\n",
            "|  16|\n",
            "|  17|\n",
            "|  18|\n",
            "|  19|\n",
            "+----+\n",
            "only showing top 20 rows\n",
            "\n",
            "+----+-------+\n",
            "|from|     to|\n",
            "+----+-------+\n",
            "|   1|  77832|\n",
            "|   1| 542731|\n",
            "|   1| 317452|\n",
            "|   1|  27650|\n",
            "|   1|2662416|\n",
            "|   1| 104468|\n",
            "|   1| 176149|\n",
            "|   1|     25|\n",
            "|   1|  53282|\n",
            "|   1| 516132|\n",
            "|   1|  47142|\n",
            "|   1| 104488|\n",
            "|   1| 262186|\n",
            "|   1|1392685|\n",
            "|   1| 523471|\n",
            "|   1| 110639|\n",
            "|   1| 700465|\n",
            "|   1|1941562|\n",
            "|   1| 116809|\n",
            "|   1|1837130|\n",
            "+----+-------+\n",
            "only showing top 20 rows"
          ],
          "name": "stdout"
        }
      ]
    },
    {
      "cell_type": "code",
      "metadata": {
        "id": "N-pnH4lKqNiV",
        "colab": {
          "base_uri": "https://localhost:8080/",
          "height": 187,
          "referenced_widgets": [
            "b2f696e3a91742999ed1771441e3671d",
            "0c97828bc48f4a2ba9979f8f9a6adab5",
            "5739d5b9fe9e4dd3b1d222c94b4baa2c"
          ]
        },
        "outputId": "1b13d922-1d9d-4f03-ca38-3ef7d995ecfa"
      },
      "source": [
        "%%spark\n",
        "neighbor_neighbor_nodes_df = neighbor_nodes_df.\\\n",
        "  join(edges_df, neighbor_nodes_df.id == edges_df['from']).\\\n",
        "  select(col('to').alias('id'))\n",
        "\n",
        "neighbor_neighbor_nodes_df.show(5)"
      ],
      "execution_count": null,
      "outputs": [
        {
          "output_type": "display_data",
          "data": {
            "application/vnd.jupyter.widget-view+json": {
              "model_id": "b2f696e3a91742999ed1771441e3671d",
              "version_minor": 0,
              "version_major": 2
            },
            "text/plain": [
              "FloatProgress(value=0.0, bar_style='info', description='Progress:', layout=Layout(height='25px', width='50%'),…"
            ]
          },
          "metadata": {
            "tags": []
          }
        },
        {
          "output_type": "stream",
          "text": [
            "+-------+\n",
            "|     id|\n",
            "+-------+\n",
            "| 445099|\n",
            "| 435723|\n",
            "|1666062|\n",
            "| 390673|\n",
            "|2328084|\n",
            "+-------+\n",
            "only showing top 5 rows"
          ],
          "name": "stdout"
        }
      ]
    },
    {
      "cell_type": "code",
      "metadata": {
        "id": "ZvsJ2_LNsTbe",
        "colab": {
          "base_uri": "https://localhost:8080/",
          "height": 17,
          "referenced_widgets": [
            "0ebb171bf74644169045daad122098aa",
            "ea6eb0dfaf124b7bb9de72358129cf27",
            "9a8bcb441dec4966bf2391654e156e07"
          ]
        },
        "outputId": "eb446133-17a3-4b0a-ce50-e6fa6820f242"
      },
      "source": [
        "%%spark\n",
        "def iterate(df, depth):\n",
        "  df.createOrReplaceTempView('iter')\n",
        "\n",
        "  # Base case: direct connection\n",
        "  result = sqlContext.sql('select from, to, 1 as depth from iter')\n",
        "\n",
        "  for i in range(1, depth):\n",
        "    result.createOrReplaceTempView('result')\n",
        "    result = sqlContext.sql('select r1.from as from, r2.to as to, r1.depth+1 as depth  '\\\n",
        "                            'from result r1 join iter r2 '\\\n",
        "                            'on r1.to=r2.from')\n",
        "  return result"
      ],
      "execution_count": null,
      "outputs": [
        {
          "output_type": "display_data",
          "data": {
            "application/vnd.jupyter.widget-view+json": {
              "model_id": "0ebb171bf74644169045daad122098aa",
              "version_minor": 0,
              "version_major": 2
            },
            "text/plain": [
              "FloatProgress(value=0.0, bar_style='info', description='Progress:', layout=Layout(height='25px', width='50%'),…"
            ]
          },
          "metadata": {
            "tags": []
          }
        }
      ]
    },
    {
      "cell_type": "code",
      "metadata": {
        "id": "MjiE4BBMuwqv",
        "colab": {
          "base_uri": "https://localhost:8080/",
          "height": 442,
          "referenced_widgets": [
            "ec38ad7797564fa4856aa7e495715065",
            "16197d18842844a3a725d3197544739f",
            "16a783bf542647e6945a18a1c47f88de"
          ]
        },
        "outputId": "731e0f4f-39bf-47b8-a709-ddce9e884451"
      },
      "source": [
        "%%spark\n",
        "iterate(edges_df.filter(edges_df['from'] < 1000), 1).orderBy('from','to').show()"
      ],
      "execution_count": null,
      "outputs": [
        {
          "output_type": "display_data",
          "data": {
            "application/vnd.jupyter.widget-view+json": {
              "model_id": "ec38ad7797564fa4856aa7e495715065",
              "version_minor": 0,
              "version_major": 2
            },
            "text/plain": [
              "FloatProgress(value=0.0, bar_style='info', description='Progress:', layout=Layout(height='25px', width='50%'),…"
            ]
          },
          "metadata": {
            "tags": []
          }
        },
        {
          "output_type": "stream",
          "text": [
            "+----+----+-----+\n",
            "|from|  to|depth|\n",
            "+----+----+-----+\n",
            "|   0|  38|    1|\n",
            "|   0| 101|    1|\n",
            "|   0| 121|    1|\n",
            "|   0| 161|    1|\n",
            "|   0| 337|    1|\n",
            "|   0| 487|    1|\n",
            "|   0| 504|    1|\n",
            "|   0| 802|    1|\n",
            "|   0|1379|    1|\n",
            "|   0|1583|    1|\n",
            "|   0|1961|    1|\n",
            "|   0|1982|    1|\n",
            "|   0|1996|    1|\n",
            "|   0|2250|    1|\n",
            "|   0|2409|    1|\n",
            "|   0|2692|    1|\n",
            "|   0|3179|    1|\n",
            "|   0|3250|    1|\n",
            "|   0|3787|    1|\n",
            "|   0|4213|    1|\n",
            "+----+----+-----+\n",
            "only showing top 20 rows"
          ],
          "name": "stdout"
        }
      ]
    },
    {
      "cell_type": "code",
      "metadata": {
        "id": "63RGiC1euw-y",
        "colab": {
          "base_uri": "https://localhost:8080/",
          "height": 442,
          "referenced_widgets": [
            "1a696ead9176414bb40d03624e66f513",
            "c8a484f1dd3648858810279b60607038",
            "15f2ba8a520a487783efdec122fa6d66"
          ]
        },
        "outputId": "ef055d0e-3398-4c21-c6f3-21c9585fcbfa"
      },
      "source": [
        "%%spark\n",
        "iterate(edges_df.filter(edges_df['from'] < 1000), 2).orderBy('from','to').show()"
      ],
      "execution_count": null,
      "outputs": [
        {
          "output_type": "display_data",
          "data": {
            "application/vnd.jupyter.widget-view+json": {
              "model_id": "1a696ead9176414bb40d03624e66f513",
              "version_minor": 0,
              "version_major": 2
            },
            "text/plain": [
              "FloatProgress(value=0.0, bar_style='info', description='Progress:', layout=Layout(height='25px', width='50%'),…"
            ]
          },
          "metadata": {
            "tags": []
          }
        },
        {
          "output_type": "stream",
          "text": [
            "+----+---+-----+\n",
            "|from| to|depth|\n",
            "+----+---+-----+\n",
            "|   0| 59|    2|\n",
            "|   0| 66|    2|\n",
            "|   0|101|    2|\n",
            "|   0|121|    2|\n",
            "|   0|121|    2|\n",
            "|   0|161|    2|\n",
            "|   0|236|    2|\n",
            "|   0|236|    2|\n",
            "|   0|236|    2|\n",
            "|   0|337|    2|\n",
            "|   0|337|    2|\n",
            "|   0|337|    2|\n",
            "|   0|487|    2|\n",
            "|   0|487|    2|\n",
            "|   0|487|    2|\n",
            "|   0|487|    2|\n",
            "|   0|504|    2|\n",
            "|   0|504|    2|\n",
            "|   0|504|    2|\n",
            "|   0|504|    2|\n",
            "+----+---+-----+\n",
            "only showing top 20 rows"
          ],
          "name": "stdout"
        }
      ]
    },
    {
      "cell_type": "code",
      "metadata": {
        "id": "2wG7vMrXuxFr",
        "colab": {
          "base_uri": "https://localhost:8080/",
          "height": 442,
          "referenced_widgets": [
            "41e2c0f6763c43c7adc93667de687c07",
            "85a243c3ba994e5f93df30ccb8752fef",
            "ace8c705c8584c06b4970f61346e222f"
          ]
        },
        "outputId": "cdb6c59f-4289-4ccc-983c-96a9cdd403ec"
      },
      "source": [
        "%%spark\n",
        "iterate(edges_df.filter(edges_df['from'] < 1000), 3).orderBy('from','to').show()"
      ],
      "execution_count": null,
      "outputs": [
        {
          "output_type": "display_data",
          "data": {
            "application/vnd.jupyter.widget-view+json": {
              "model_id": "41e2c0f6763c43c7adc93667de687c07",
              "version_minor": 0,
              "version_major": 2
            },
            "text/plain": [
              "FloatProgress(value=0.0, bar_style='info', description='Progress:', layout=Layout(height='25px', width='50%'),…"
            ]
          },
          "metadata": {
            "tags": []
          }
        },
        {
          "output_type": "stream",
          "text": [
            "+----+---+-----+\n",
            "|from| to|depth|\n",
            "+----+---+-----+\n",
            "|   0|101|    3|\n",
            "|   0|101|    3|\n",
            "|   0|121|    3|\n",
            "|   0|121|    3|\n",
            "|   0|121|    3|\n",
            "|   0|236|    3|\n",
            "|   0|236|    3|\n",
            "|   0|236|    3|\n",
            "|   0|337|    3|\n",
            "|   0|337|    3|\n",
            "|   0|337|    3|\n",
            "|   0|337|    3|\n",
            "|   0|337|    3|\n",
            "|   0|337|    3|\n",
            "|   0|337|    3|\n",
            "|   0|337|    3|\n",
            "|   0|487|    3|\n",
            "|   0|487|    3|\n",
            "|   0|487|    3|\n",
            "|   0|487|    3|\n",
            "+----+---+-----+\n",
            "only showing top 20 rows"
          ],
          "name": "stdout"
        }
      ]
    },
    {
      "cell_type": "code",
      "metadata": {
        "id": "8N1eHyunMccX",
        "colab": {
          "base_uri": "https://localhost:8080/",
          "height": 17,
          "referenced_widgets": [
            "c01b6ce8f63f49c2ab57244f18b61e35",
            "b9e3b7cb49ad4355bec1734fbb982729",
            "61fe6804e52b46c1bf1ee5bd5d478d61"
          ]
        },
        "outputId": "84751151-d685-472d-f46c-06a229355ef4"
      },
      "source": [
        "%%spark\n",
        "# Clear list of edges from Python memory\n",
        "# to free up space\n",
        "edges = []\n",
        "\n",
        "\n",
        "### Now let's get the list of node IDs\n",
        "url = 'https://upenn-bigdataanalytics.s3.amazonaws.com/linkedin.nodes.zip'\n",
        "nodehandle, _ = urllib.request.urlretrieve(url)\n",
        "\n",
        "zip_file_object = zipfile.ZipFile(nodehandle, 'r')\n",
        "fname = zip_file_object.open('linkedin.nodes')\n",
        "\n",
        "nodes = []\n",
        "MAX = 100000\n",
        "\n",
        "for node in fname:\n",
        "  node_tuple = node.split()\n",
        "  nodes.append([int(node_tuple[0]), str(node_tuple[1])])\n",
        "  if len(nodes) >= MAX:\n",
        "    break\n"
      ],
      "execution_count": null,
      "outputs": [
        {
          "output_type": "display_data",
          "data": {
            "application/vnd.jupyter.widget-view+json": {
              "model_id": "c01b6ce8f63f49c2ab57244f18b61e35",
              "version_minor": 0,
              "version_major": 2
            },
            "text/plain": [
              "FloatProgress(value=0.0, bar_style='info', description='Progress:', layout=Layout(height='25px', width='50%'),…"
            ]
          },
          "metadata": {
            "tags": []
          }
        }
      ]
    },
    {
      "cell_type": "markdown",
      "metadata": {
        "id": "akCba0mxkikw"
      },
      "source": [
        "## Joins in Spark, Beyond Graph Traversals\n",
        "\n",
        "What if we want to connect our edges to the people from our previous crawl?  Sadly the edges use int node IDs that don't correspond to the people dataframe.  But in fact the node data includes this information, so let's load and exploit that."
      ]
    },
    {
      "cell_type": "markdown",
      "metadata": {
        "id": "4wg-2C56pP_s"
      },
      "source": [
        "Let's load the information about nodes, and their correspondence to the user ID."
      ]
    },
    {
      "cell_type": "code",
      "metadata": {
        "id": "f3iZL-pWX8xd",
        "colab": {
          "base_uri": "https://localhost:8080/",
          "height": 187,
          "referenced_widgets": [
            "4acc50c3a94b4e7ebd8b87b524f4976a",
            "3ed638681eb3488691446b6ea4fe388b",
            "f1453507a9d74b51bd422a07fce675b0"
          ]
        },
        "outputId": "3ba24e0e-6f24-47ac-9051-4a398605473f"
      },
      "source": [
        "%%spark\n",
        "schema = StructType([\n",
        "        StructField(\"nid\", IntegerType(), True),\n",
        "        StructField(\"user\", StringType(), True)\n",
        "         ])\n",
        "# Load the remote data as a list of dictionaries\n",
        "nodes_df = sqlContext.createDataFrame(nodes, schema)\n",
        "\n",
        "nodes_df.show(5)"
      ],
      "execution_count": null,
      "outputs": [
        {
          "output_type": "display_data",
          "data": {
            "application/vnd.jupyter.widget-view+json": {
              "model_id": "4acc50c3a94b4e7ebd8b87b524f4976a",
              "version_minor": 0,
              "version_major": 2
            },
            "text/plain": [
              "FloatProgress(value=0.0, bar_style='info', description='Progress:', layout=Layout(height='25px', width='50%'),…"
            ]
          },
          "metadata": {
            "tags": []
          }
        },
        {
          "output_type": "stream",
          "text": [
            "+---+--------------------+\n",
            "|nid|                user|\n",
            "+---+--------------------+\n",
            "|  0|b'pub-sandra-aran...|\n",
            "|  1|  b'in-sehrishhafiz'|\n",
            "|  2|b'pub-heba-bayoum...|\n",
            "|  3|b'pub-aysha-binbr...|\n",
            "|  4|   b'in-rubabadowla'|\n",
            "+---+--------------------+\n",
            "only showing top 5 rows"
          ],
          "name": "stdout"
        }
      ]
    },
    {
      "cell_type": "markdown",
      "metadata": {
        "id": "ecVwMCIspVPc"
      },
      "source": [
        "## Finding Friends, by ID"
      ]
    },
    {
      "cell_type": "code",
      "metadata": {
        "id": "18K1_i1jZ94B",
        "colab": {
          "base_uri": "https://localhost:8080/",
          "height": 187,
          "referenced_widgets": [
            "c48bbeeee2ef4d758e8550f1271605bd",
            "f6903775e48442a182430c7d71bcde4d",
            "9c4e90889b504aaea06cbe9d58d5643f"
          ]
        },
        "outputId": "141aa9d9-3ee6-4836-8abe-2490a7c16905"
      },
      "source": [
        "%%spark\n",
        "\n",
        "nodes_df.createOrReplaceTempView('nodes')\n",
        "edges_df.createOrReplaceTempView('edges')\n",
        "\n",
        "friends_df = \\\n",
        "sqlContext.sql('SELECT n1.user, n2.user AS friend ' +\\\n",
        "               'FROM (nodes n1 join edges e on n1.nid = e.from) JOIN nodes n2 ON e.to = n2.nid')\n",
        "\n",
        "friends_df.show(5)\n"
      ],
      "execution_count": null,
      "outputs": [
        {
          "output_type": "display_data",
          "data": {
            "application/vnd.jupyter.widget-view+json": {
              "model_id": "c48bbeeee2ef4d758e8550f1271605bd",
              "version_minor": 0,
              "version_major": 2
            },
            "text/plain": [
              "FloatProgress(value=0.0, bar_style='info', description='Progress:', layout=Layout(height='25px', width='50%'),…"
            ]
          },
          "metadata": {
            "tags": []
          }
        },
        {
          "output_type": "stream",
          "text": [
            "+--------------------+--------------------+\n",
            "|                user|              friend|\n",
            "+--------------------+--------------------+\n",
            "|b'pub-sara-mu\\xc3...|b'pub-rebeca-arro...|\n",
            "|b'pub-gloria-vill...|b'pub-rebeca-arro...|\n",
            "|b'in-dianacolliab...|b'pub-rebeca-arro...|\n",
            "|     b'in-maitepena'|b'pub-rebeca-arro...|\n",
            "|      b'in-alvarovl'|b'pub-bego\\xc3\\x8...|\n",
            "+--------------------+--------------------+\n",
            "only showing top 5 rows"
          ],
          "name": "stdout"
        }
      ]
    },
    {
      "cell_type": "markdown",
      "metadata": {
        "id": "Lp5VkLumpYmT"
      },
      "source": [
        "## Connecting Friends to Names"
      ]
    },
    {
      "cell_type": "code",
      "metadata": {
        "id": "b_9PkrJobXY0",
        "colab": {
          "base_uri": "https://localhost:8080/",
          "height": 85,
          "referenced_widgets": [
            "93f3255c67c5419191796ea533429f63",
            "24e000c8e48f44dfaa3e5ae92bf12e3a",
            "e1cd8d80673c446d90dbfeb1b4fec78a"
          ]
        },
        "outputId": "4ce76636-31c7-4979-9520-300e54b5d844"
      },
      "source": [
        "%%spark\n",
        "friends_df.createOrReplaceTempView('friends')\n",
        "\n",
        "sqlContext.sql('SELECT u1.name.given_name AS user, u2.name.given_name AS friend '+\\\n",
        "               'FROM (linked_in u1 JOIN friends ON u1._id = user) JOIN linked_in u2 ON u2._id = friend').show(5)"
      ],
      "execution_count": null,
      "outputs": [
        {
          "output_type": "display_data",
          "data": {
            "application/vnd.jupyter.widget-view+json": {
              "model_id": "93f3255c67c5419191796ea533429f63",
              "version_minor": 0,
              "version_major": 2
            },
            "text/plain": [
              "FloatProgress(value=0.0, bar_style='info', description='Progress:', layout=Layout(height='25px', width='50%'),…"
            ]
          },
          "metadata": {
            "tags": []
          }
        },
        {
          "output_type": "stream",
          "text": [
            "+----+------+\n",
            "|user|friend|\n",
            "+----+------+\n",
            "+----+------+"
          ],
          "name": "stdout"
        }
      ]
    },
    {
      "cell_type": "code",
      "metadata": {
        "id": "UtAN7dmxgSgH"
      },
      "source": [],
      "execution_count": null,
      "outputs": []
    }
  ]
}